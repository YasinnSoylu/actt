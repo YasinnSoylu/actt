{
  "nbformat": 4,
  "nbformat_minor": 0,
  "metadata": {
    "colab": {
      "provenance": [],
      "authorship_tag": "ABX9TyNfrIC0HXClibLo1mEgerWk",
      "include_colab_link": true
    },
    "kernelspec": {
      "name": "python3",
      "display_name": "Python 3"
    },
    "language_info": {
      "name": "python"
    },
    "accelerator": "GPU",
    "gpuClass": "standard"
  },
  "cells": [
    {
      "cell_type": "markdown",
      "metadata": {
        "id": "view-in-github",
        "colab_type": "text"
      },
      "source": [
        "<a href=\"https://colab.research.google.com/github/YasinnSoylu/actt/blob/main/learning_rate.ipynb\" target=\"_parent\"><img src=\"https://colab.research.google.com/assets/colab-badge.svg\" alt=\"Open In Colab\"/></a>"
      ]
    },
    {
      "cell_type": "code",
      "execution_count": 1,
      "metadata": {
        "colab": {
          "base_uri": "https://localhost:8080/"
        },
        "id": "PXIZ1vq6TTfE",
        "outputId": "6c0c0932-90b4-496e-c9d6-e82f8783e59d"
      },
      "outputs": [
        {
          "output_type": "stream",
          "name": "stdout",
          "text": [
            "Looking in indexes: https://pypi.org/simple, https://us-python.pkg.dev/colab-wheels/public/simple/\n",
            "Requirement already satisfied: kaggle in /usr/local/lib/python3.8/dist-packages (1.5.12)\n",
            "Requirement already satisfied: python-slugify in /usr/local/lib/python3.8/dist-packages (from kaggle) (7.0.0)\n",
            "Requirement already satisfied: six>=1.10 in /usr/local/lib/python3.8/dist-packages (from kaggle) (1.15.0)\n",
            "Requirement already satisfied: tqdm in /usr/local/lib/python3.8/dist-packages (from kaggle) (4.64.1)\n",
            "Requirement already satisfied: certifi in /usr/local/lib/python3.8/dist-packages (from kaggle) (2022.9.24)\n",
            "Requirement already satisfied: python-dateutil in /usr/local/lib/python3.8/dist-packages (from kaggle) (2.8.2)\n",
            "Requirement already satisfied: requests in /usr/local/lib/python3.8/dist-packages (from kaggle) (2.23.0)\n",
            "Requirement already satisfied: urllib3 in /usr/local/lib/python3.8/dist-packages (from kaggle) (1.24.3)\n",
            "Requirement already satisfied: text-unidecode>=1.3 in /usr/local/lib/python3.8/dist-packages (from python-slugify->kaggle) (1.3)\n",
            "Requirement already satisfied: idna<3,>=2.5 in /usr/local/lib/python3.8/dist-packages (from requests->kaggle) (2.10)\n",
            "Requirement already satisfied: chardet<4,>=3.0.2 in /usr/local/lib/python3.8/dist-packages (from requests->kaggle) (3.0.4)\n"
          ]
        }
      ],
      "source": [
        "! pip install kaggle"
      ]
    },
    {
      "cell_type": "code",
      "source": [
        "! mkdir ~/.kaggle\n"
      ],
      "metadata": {
        "id": "a1IbM40dTiAz"
      },
      "execution_count": 2,
      "outputs": []
    },
    {
      "cell_type": "code",
      "source": [
        "! cp kaggle.json ~/.kaggle/\n"
      ],
      "metadata": {
        "id": "X4G0exqcTjAg"
      },
      "execution_count": 3,
      "outputs": []
    },
    {
      "cell_type": "code",
      "source": [
        "! chmod 600 ~/.kaggle/kaggle.json\n"
      ],
      "metadata": {
        "id": "UM_QKwucTkim"
      },
      "execution_count": 4,
      "outputs": []
    },
    {
      "cell_type": "code",
      "source": [
        "!kaggle datasets download -d kmader/skin-cancer-mnist-ham10000"
      ],
      "metadata": {
        "colab": {
          "base_uri": "https://localhost:8080/"
        },
        "id": "0NyXVyqITli9",
        "outputId": "08189e08-26ce-4dfe-fa40-7e4227f0cdea"
      },
      "execution_count": 5,
      "outputs": [
        {
          "output_type": "stream",
          "name": "stdout",
          "text": [
            "Downloading skin-cancer-mnist-ham10000.zip to /content\n",
            "100% 5.18G/5.20G [00:32<00:00, 195MB/s]\n",
            "100% 5.20G/5.20G [00:32<00:00, 170MB/s]\n"
          ]
        }
      ]
    },
    {
      "cell_type": "code",
      "source": [
        "! unzip skin-cancer-mnist-ham10000.zip\n"
      ],
      "metadata": {
        "colab": {
          "base_uri": "https://localhost:8080/"
        },
        "id": "owpL-O9PTzYU",
        "outputId": "703f7e04-ed7a-4cd3-e3a4-d67d86a12902"
      },
      "execution_count": 6,
      "outputs": [
        {
          "output_type": "stream",
          "name": "stdout",
          "text": [
            "\u001b[1;30;43mGörüntülenen çıkış son 5000 satıra kısaltıldı.\u001b[0m\n",
            "  inflating: ham10000_images_part_2/ISIC_0029325.jpg  \n",
            "  inflating: ham10000_images_part_2/ISIC_0029326.jpg  \n",
            "  inflating: ham10000_images_part_2/ISIC_0029327.jpg  \n",
            "  inflating: ham10000_images_part_2/ISIC_0029328.jpg  \n",
            "  inflating: ham10000_images_part_2/ISIC_0029329.jpg  \n",
            "  inflating: ham10000_images_part_2/ISIC_0029330.jpg  \n",
            "  inflating: ham10000_images_part_2/ISIC_0029331.jpg  \n",
            "  inflating: ham10000_images_part_2/ISIC_0029332.jpg  \n",
            "  inflating: ham10000_images_part_2/ISIC_0029333.jpg  \n",
            "  inflating: ham10000_images_part_2/ISIC_0029334.jpg  \n",
            "  inflating: ham10000_images_part_2/ISIC_0029335.jpg  \n",
            "  inflating: ham10000_images_part_2/ISIC_0029336.jpg  \n",
            "  inflating: ham10000_images_part_2/ISIC_0029337.jpg  \n",
            "  inflating: ham10000_images_part_2/ISIC_0029338.jpg  \n",
            "  inflating: ham10000_images_part_2/ISIC_0029339.jpg  \n",
            "  inflating: ham10000_images_part_2/ISIC_0029340.jpg  \n",
            "  inflating: ham10000_images_part_2/ISIC_0029341.jpg  \n",
            "  inflating: ham10000_images_part_2/ISIC_0029342.jpg  \n",
            "  inflating: ham10000_images_part_2/ISIC_0029343.jpg  \n",
            "  inflating: ham10000_images_part_2/ISIC_0029344.jpg  \n",
            "  inflating: ham10000_images_part_2/ISIC_0029345.jpg  \n",
            "  inflating: ham10000_images_part_2/ISIC_0029346.jpg  \n",
            "  inflating: ham10000_images_part_2/ISIC_0029347.jpg  \n",
            "  inflating: ham10000_images_part_2/ISIC_0029348.jpg  \n",
            "  inflating: ham10000_images_part_2/ISIC_0029349.jpg  \n",
            "  inflating: ham10000_images_part_2/ISIC_0029350.jpg  \n",
            "  inflating: ham10000_images_part_2/ISIC_0029351.jpg  \n",
            "  inflating: ham10000_images_part_2/ISIC_0029352.jpg  \n",
            "  inflating: ham10000_images_part_2/ISIC_0029353.jpg  \n",
            "  inflating: ham10000_images_part_2/ISIC_0029354.jpg  \n",
            "  inflating: ham10000_images_part_2/ISIC_0029355.jpg  \n",
            "  inflating: ham10000_images_part_2/ISIC_0029356.jpg  \n",
            "  inflating: ham10000_images_part_2/ISIC_0029357.jpg  \n",
            "  inflating: ham10000_images_part_2/ISIC_0029358.jpg  \n",
            "  inflating: ham10000_images_part_2/ISIC_0029359.jpg  \n",
            "  inflating: ham10000_images_part_2/ISIC_0029360.jpg  \n",
            "  inflating: ham10000_images_part_2/ISIC_0029361.jpg  \n",
            "  inflating: ham10000_images_part_2/ISIC_0029362.jpg  \n",
            "  inflating: ham10000_images_part_2/ISIC_0029363.jpg  \n",
            "  inflating: ham10000_images_part_2/ISIC_0029364.jpg  \n",
            "  inflating: ham10000_images_part_2/ISIC_0029365.jpg  \n",
            "  inflating: ham10000_images_part_2/ISIC_0029366.jpg  \n",
            "  inflating: ham10000_images_part_2/ISIC_0029367.jpg  \n",
            "  inflating: ham10000_images_part_2/ISIC_0029368.jpg  \n",
            "  inflating: ham10000_images_part_2/ISIC_0029369.jpg  \n",
            "  inflating: ham10000_images_part_2/ISIC_0029370.jpg  \n",
            "  inflating: ham10000_images_part_2/ISIC_0029371.jpg  \n",
            "  inflating: ham10000_images_part_2/ISIC_0029372.jpg  \n",
            "  inflating: ham10000_images_part_2/ISIC_0029373.jpg  \n",
            "  inflating: ham10000_images_part_2/ISIC_0029374.jpg  \n",
            "  inflating: ham10000_images_part_2/ISIC_0029375.jpg  \n",
            "  inflating: ham10000_images_part_2/ISIC_0029376.jpg  \n",
            "  inflating: ham10000_images_part_2/ISIC_0029377.jpg  \n",
            "  inflating: ham10000_images_part_2/ISIC_0029378.jpg  \n",
            "  inflating: ham10000_images_part_2/ISIC_0029379.jpg  \n",
            "  inflating: ham10000_images_part_2/ISIC_0029380.jpg  \n",
            "  inflating: ham10000_images_part_2/ISIC_0029381.jpg  \n",
            "  inflating: ham10000_images_part_2/ISIC_0029382.jpg  \n",
            "  inflating: ham10000_images_part_2/ISIC_0029383.jpg  \n",
            "  inflating: ham10000_images_part_2/ISIC_0029384.jpg  \n",
            "  inflating: ham10000_images_part_2/ISIC_0029385.jpg  \n",
            "  inflating: ham10000_images_part_2/ISIC_0029386.jpg  \n",
            "  inflating: ham10000_images_part_2/ISIC_0029387.jpg  \n",
            "  inflating: ham10000_images_part_2/ISIC_0029388.jpg  \n",
            "  inflating: ham10000_images_part_2/ISIC_0029389.jpg  \n",
            "  inflating: ham10000_images_part_2/ISIC_0029390.jpg  \n",
            "  inflating: ham10000_images_part_2/ISIC_0029391.jpg  \n",
            "  inflating: ham10000_images_part_2/ISIC_0029392.jpg  \n",
            "  inflating: ham10000_images_part_2/ISIC_0029393.jpg  \n",
            "  inflating: ham10000_images_part_2/ISIC_0029394.jpg  \n",
            "  inflating: ham10000_images_part_2/ISIC_0029395.jpg  \n",
            "  inflating: ham10000_images_part_2/ISIC_0029396.jpg  \n",
            "  inflating: ham10000_images_part_2/ISIC_0029397.jpg  \n",
            "  inflating: ham10000_images_part_2/ISIC_0029398.jpg  \n",
            "  inflating: ham10000_images_part_2/ISIC_0029399.jpg  \n",
            "  inflating: ham10000_images_part_2/ISIC_0029400.jpg  \n",
            "  inflating: ham10000_images_part_2/ISIC_0029401.jpg  \n",
            "  inflating: ham10000_images_part_2/ISIC_0029402.jpg  \n",
            "  inflating: ham10000_images_part_2/ISIC_0029403.jpg  \n",
            "  inflating: ham10000_images_part_2/ISIC_0029404.jpg  \n",
            "  inflating: ham10000_images_part_2/ISIC_0029405.jpg  \n",
            "  inflating: ham10000_images_part_2/ISIC_0029406.jpg  \n",
            "  inflating: ham10000_images_part_2/ISIC_0029407.jpg  \n",
            "  inflating: ham10000_images_part_2/ISIC_0029408.jpg  \n",
            "  inflating: ham10000_images_part_2/ISIC_0029409.jpg  \n",
            "  inflating: ham10000_images_part_2/ISIC_0029410.jpg  \n",
            "  inflating: ham10000_images_part_2/ISIC_0029411.jpg  \n",
            "  inflating: ham10000_images_part_2/ISIC_0029412.jpg  \n",
            "  inflating: ham10000_images_part_2/ISIC_0029413.jpg  \n",
            "  inflating: ham10000_images_part_2/ISIC_0029414.jpg  \n",
            "  inflating: ham10000_images_part_2/ISIC_0029415.jpg  \n",
            "  inflating: ham10000_images_part_2/ISIC_0029416.jpg  \n",
            "  inflating: ham10000_images_part_2/ISIC_0029417.jpg  \n",
            "  inflating: ham10000_images_part_2/ISIC_0029418.jpg  \n",
            "  inflating: ham10000_images_part_2/ISIC_0029419.jpg  \n",
            "  inflating: ham10000_images_part_2/ISIC_0029420.jpg  \n",
            "  inflating: ham10000_images_part_2/ISIC_0029421.jpg  \n",
            "  inflating: ham10000_images_part_2/ISIC_0029422.jpg  \n",
            "  inflating: ham10000_images_part_2/ISIC_0029423.jpg  \n",
            "  inflating: ham10000_images_part_2/ISIC_0029424.jpg  \n",
            "  inflating: ham10000_images_part_2/ISIC_0029425.jpg  \n",
            "  inflating: ham10000_images_part_2/ISIC_0029426.jpg  \n",
            "  inflating: ham10000_images_part_2/ISIC_0029427.jpg  \n",
            "  inflating: ham10000_images_part_2/ISIC_0029428.jpg  \n",
            "  inflating: ham10000_images_part_2/ISIC_0029429.jpg  \n",
            "  inflating: ham10000_images_part_2/ISIC_0029430.jpg  \n",
            "  inflating: ham10000_images_part_2/ISIC_0029431.jpg  \n",
            "  inflating: ham10000_images_part_2/ISIC_0029432.jpg  \n",
            "  inflating: ham10000_images_part_2/ISIC_0029433.jpg  \n",
            "  inflating: ham10000_images_part_2/ISIC_0029434.jpg  \n",
            "  inflating: ham10000_images_part_2/ISIC_0029435.jpg  \n",
            "  inflating: ham10000_images_part_2/ISIC_0029436.jpg  \n",
            "  inflating: ham10000_images_part_2/ISIC_0029437.jpg  \n",
            "  inflating: ham10000_images_part_2/ISIC_0029438.jpg  \n",
            "  inflating: ham10000_images_part_2/ISIC_0029439.jpg  \n",
            "  inflating: ham10000_images_part_2/ISIC_0029440.jpg  \n",
            "  inflating: ham10000_images_part_2/ISIC_0029441.jpg  \n",
            "  inflating: ham10000_images_part_2/ISIC_0029442.jpg  \n",
            "  inflating: ham10000_images_part_2/ISIC_0029443.jpg  \n",
            "  inflating: ham10000_images_part_2/ISIC_0029444.jpg  \n",
            "  inflating: ham10000_images_part_2/ISIC_0029445.jpg  \n",
            "  inflating: ham10000_images_part_2/ISIC_0029446.jpg  \n",
            "  inflating: ham10000_images_part_2/ISIC_0029447.jpg  \n",
            "  inflating: ham10000_images_part_2/ISIC_0029448.jpg  \n",
            "  inflating: ham10000_images_part_2/ISIC_0029449.jpg  \n",
            "  inflating: ham10000_images_part_2/ISIC_0029450.jpg  \n",
            "  inflating: ham10000_images_part_2/ISIC_0029451.jpg  \n",
            "  inflating: ham10000_images_part_2/ISIC_0029452.jpg  \n",
            "  inflating: ham10000_images_part_2/ISIC_0029453.jpg  \n",
            "  inflating: ham10000_images_part_2/ISIC_0029454.jpg  \n",
            "  inflating: ham10000_images_part_2/ISIC_0029455.jpg  \n",
            "  inflating: ham10000_images_part_2/ISIC_0029456.jpg  \n",
            "  inflating: ham10000_images_part_2/ISIC_0029457.jpg  \n",
            "  inflating: ham10000_images_part_2/ISIC_0029458.jpg  \n",
            "  inflating: ham10000_images_part_2/ISIC_0029459.jpg  \n",
            "  inflating: ham10000_images_part_2/ISIC_0029460.jpg  \n",
            "  inflating: ham10000_images_part_2/ISIC_0029461.jpg  \n",
            "  inflating: ham10000_images_part_2/ISIC_0029462.jpg  \n",
            "  inflating: ham10000_images_part_2/ISIC_0029463.jpg  \n",
            "  inflating: ham10000_images_part_2/ISIC_0029464.jpg  \n",
            "  inflating: ham10000_images_part_2/ISIC_0029465.jpg  \n",
            "  inflating: ham10000_images_part_2/ISIC_0029466.jpg  \n",
            "  inflating: ham10000_images_part_2/ISIC_0029467.jpg  \n",
            "  inflating: ham10000_images_part_2/ISIC_0029468.jpg  \n",
            "  inflating: ham10000_images_part_2/ISIC_0029469.jpg  \n",
            "  inflating: ham10000_images_part_2/ISIC_0029470.jpg  \n",
            "  inflating: ham10000_images_part_2/ISIC_0029471.jpg  \n",
            "  inflating: ham10000_images_part_2/ISIC_0029472.jpg  \n",
            "  inflating: ham10000_images_part_2/ISIC_0029473.jpg  \n",
            "  inflating: ham10000_images_part_2/ISIC_0029474.jpg  \n",
            "  inflating: ham10000_images_part_2/ISIC_0029475.jpg  \n",
            "  inflating: ham10000_images_part_2/ISIC_0029476.jpg  \n",
            "  inflating: ham10000_images_part_2/ISIC_0029477.jpg  \n",
            "  inflating: ham10000_images_part_2/ISIC_0029478.jpg  \n",
            "  inflating: ham10000_images_part_2/ISIC_0029479.jpg  \n",
            "  inflating: ham10000_images_part_2/ISIC_0029480.jpg  \n",
            "  inflating: ham10000_images_part_2/ISIC_0029481.jpg  \n",
            "  inflating: ham10000_images_part_2/ISIC_0029482.jpg  \n",
            "  inflating: ham10000_images_part_2/ISIC_0029483.jpg  \n",
            "  inflating: ham10000_images_part_2/ISIC_0029484.jpg  \n",
            "  inflating: ham10000_images_part_2/ISIC_0029485.jpg  \n",
            "  inflating: ham10000_images_part_2/ISIC_0029486.jpg  \n",
            "  inflating: ham10000_images_part_2/ISIC_0029487.jpg  \n",
            "  inflating: ham10000_images_part_2/ISIC_0029488.jpg  \n",
            "  inflating: ham10000_images_part_2/ISIC_0029489.jpg  \n",
            "  inflating: ham10000_images_part_2/ISIC_0029490.jpg  \n",
            "  inflating: ham10000_images_part_2/ISIC_0029491.jpg  \n",
            "  inflating: ham10000_images_part_2/ISIC_0029492.jpg  \n",
            "  inflating: ham10000_images_part_2/ISIC_0029493.jpg  \n",
            "  inflating: ham10000_images_part_2/ISIC_0029494.jpg  \n",
            "  inflating: ham10000_images_part_2/ISIC_0029495.jpg  \n",
            "  inflating: ham10000_images_part_2/ISIC_0029496.jpg  \n",
            "  inflating: ham10000_images_part_2/ISIC_0029497.jpg  \n",
            "  inflating: ham10000_images_part_2/ISIC_0029498.jpg  \n",
            "  inflating: ham10000_images_part_2/ISIC_0029499.jpg  \n",
            "  inflating: ham10000_images_part_2/ISIC_0029500.jpg  \n",
            "  inflating: ham10000_images_part_2/ISIC_0029501.jpg  \n",
            "  inflating: ham10000_images_part_2/ISIC_0029502.jpg  \n",
            "  inflating: ham10000_images_part_2/ISIC_0029503.jpg  \n",
            "  inflating: ham10000_images_part_2/ISIC_0029504.jpg  \n",
            "  inflating: ham10000_images_part_2/ISIC_0029505.jpg  \n",
            "  inflating: ham10000_images_part_2/ISIC_0029506.jpg  \n",
            "  inflating: ham10000_images_part_2/ISIC_0029507.jpg  \n",
            "  inflating: ham10000_images_part_2/ISIC_0029508.jpg  \n",
            "  inflating: ham10000_images_part_2/ISIC_0029509.jpg  \n",
            "  inflating: ham10000_images_part_2/ISIC_0029510.jpg  \n",
            "  inflating: ham10000_images_part_2/ISIC_0029511.jpg  \n",
            "  inflating: ham10000_images_part_2/ISIC_0029512.jpg  \n",
            "  inflating: ham10000_images_part_2/ISIC_0029513.jpg  \n",
            "  inflating: ham10000_images_part_2/ISIC_0029514.jpg  \n",
            "  inflating: ham10000_images_part_2/ISIC_0029515.jpg  \n",
            "  inflating: ham10000_images_part_2/ISIC_0029516.jpg  \n",
            "  inflating: ham10000_images_part_2/ISIC_0029517.jpg  \n",
            "  inflating: ham10000_images_part_2/ISIC_0029518.jpg  \n",
            "  inflating: ham10000_images_part_2/ISIC_0029519.jpg  \n",
            "  inflating: ham10000_images_part_2/ISIC_0029520.jpg  \n",
            "  inflating: ham10000_images_part_2/ISIC_0029521.jpg  \n",
            "  inflating: ham10000_images_part_2/ISIC_0029522.jpg  \n",
            "  inflating: ham10000_images_part_2/ISIC_0029523.jpg  \n",
            "  inflating: ham10000_images_part_2/ISIC_0029524.jpg  \n",
            "  inflating: ham10000_images_part_2/ISIC_0029525.jpg  \n",
            "  inflating: ham10000_images_part_2/ISIC_0029526.jpg  \n",
            "  inflating: ham10000_images_part_2/ISIC_0029527.jpg  \n",
            "  inflating: ham10000_images_part_2/ISIC_0029528.jpg  \n",
            "  inflating: ham10000_images_part_2/ISIC_0029529.jpg  \n",
            "  inflating: ham10000_images_part_2/ISIC_0029530.jpg  \n",
            "  inflating: ham10000_images_part_2/ISIC_0029531.jpg  \n",
            "  inflating: ham10000_images_part_2/ISIC_0029532.jpg  \n",
            "  inflating: ham10000_images_part_2/ISIC_0029533.jpg  \n",
            "  inflating: ham10000_images_part_2/ISIC_0029534.jpg  \n",
            "  inflating: ham10000_images_part_2/ISIC_0029535.jpg  \n",
            "  inflating: ham10000_images_part_2/ISIC_0029536.jpg  \n",
            "  inflating: ham10000_images_part_2/ISIC_0029537.jpg  \n",
            "  inflating: ham10000_images_part_2/ISIC_0029538.jpg  \n",
            "  inflating: ham10000_images_part_2/ISIC_0029539.jpg  \n",
            "  inflating: ham10000_images_part_2/ISIC_0029540.jpg  \n",
            "  inflating: ham10000_images_part_2/ISIC_0029541.jpg  \n",
            "  inflating: ham10000_images_part_2/ISIC_0029542.jpg  \n",
            "  inflating: ham10000_images_part_2/ISIC_0029543.jpg  \n",
            "  inflating: ham10000_images_part_2/ISIC_0029544.jpg  \n",
            "  inflating: ham10000_images_part_2/ISIC_0029545.jpg  \n",
            "  inflating: ham10000_images_part_2/ISIC_0029546.jpg  \n",
            "  inflating: ham10000_images_part_2/ISIC_0029547.jpg  \n",
            "  inflating: ham10000_images_part_2/ISIC_0029548.jpg  \n",
            "  inflating: ham10000_images_part_2/ISIC_0029549.jpg  \n",
            "  inflating: ham10000_images_part_2/ISIC_0029550.jpg  \n",
            "  inflating: ham10000_images_part_2/ISIC_0029551.jpg  \n",
            "  inflating: ham10000_images_part_2/ISIC_0029552.jpg  \n",
            "  inflating: ham10000_images_part_2/ISIC_0029553.jpg  \n",
            "  inflating: ham10000_images_part_2/ISIC_0029554.jpg  \n",
            "  inflating: ham10000_images_part_2/ISIC_0029555.jpg  \n",
            "  inflating: ham10000_images_part_2/ISIC_0029556.jpg  \n",
            "  inflating: ham10000_images_part_2/ISIC_0029557.jpg  \n",
            "  inflating: ham10000_images_part_2/ISIC_0029558.jpg  \n",
            "  inflating: ham10000_images_part_2/ISIC_0029559.jpg  \n",
            "  inflating: ham10000_images_part_2/ISIC_0029560.jpg  \n",
            "  inflating: ham10000_images_part_2/ISIC_0029561.jpg  \n",
            "  inflating: ham10000_images_part_2/ISIC_0029562.jpg  \n",
            "  inflating: ham10000_images_part_2/ISIC_0029563.jpg  \n",
            "  inflating: ham10000_images_part_2/ISIC_0029564.jpg  \n",
            "  inflating: ham10000_images_part_2/ISIC_0029565.jpg  \n",
            "  inflating: ham10000_images_part_2/ISIC_0029566.jpg  \n",
            "  inflating: ham10000_images_part_2/ISIC_0029567.jpg  \n",
            "  inflating: ham10000_images_part_2/ISIC_0029568.jpg  \n",
            "  inflating: ham10000_images_part_2/ISIC_0029569.jpg  \n",
            "  inflating: ham10000_images_part_2/ISIC_0029570.jpg  \n",
            "  inflating: ham10000_images_part_2/ISIC_0029571.jpg  \n",
            "  inflating: ham10000_images_part_2/ISIC_0029572.jpg  \n",
            "  inflating: ham10000_images_part_2/ISIC_0029573.jpg  \n",
            "  inflating: ham10000_images_part_2/ISIC_0029574.jpg  \n",
            "  inflating: ham10000_images_part_2/ISIC_0029575.jpg  \n",
            "  inflating: ham10000_images_part_2/ISIC_0029576.jpg  \n",
            "  inflating: ham10000_images_part_2/ISIC_0029577.jpg  \n",
            "  inflating: ham10000_images_part_2/ISIC_0029578.jpg  \n",
            "  inflating: ham10000_images_part_2/ISIC_0029579.jpg  \n",
            "  inflating: ham10000_images_part_2/ISIC_0029580.jpg  \n",
            "  inflating: ham10000_images_part_2/ISIC_0029581.jpg  \n",
            "  inflating: ham10000_images_part_2/ISIC_0029582.jpg  \n",
            "  inflating: ham10000_images_part_2/ISIC_0029583.jpg  \n",
            "  inflating: ham10000_images_part_2/ISIC_0029584.jpg  \n",
            "  inflating: ham10000_images_part_2/ISIC_0029585.jpg  \n",
            "  inflating: ham10000_images_part_2/ISIC_0029586.jpg  \n",
            "  inflating: ham10000_images_part_2/ISIC_0029587.jpg  \n",
            "  inflating: ham10000_images_part_2/ISIC_0029588.jpg  \n",
            "  inflating: ham10000_images_part_2/ISIC_0029589.jpg  \n",
            "  inflating: ham10000_images_part_2/ISIC_0029590.jpg  \n",
            "  inflating: ham10000_images_part_2/ISIC_0029591.jpg  \n",
            "  inflating: ham10000_images_part_2/ISIC_0029592.jpg  \n",
            "  inflating: ham10000_images_part_2/ISIC_0029593.jpg  \n",
            "  inflating: ham10000_images_part_2/ISIC_0029594.jpg  \n",
            "  inflating: ham10000_images_part_2/ISIC_0029595.jpg  \n",
            "  inflating: ham10000_images_part_2/ISIC_0029596.jpg  \n",
            "  inflating: ham10000_images_part_2/ISIC_0029597.jpg  \n",
            "  inflating: ham10000_images_part_2/ISIC_0029598.jpg  \n",
            "  inflating: ham10000_images_part_2/ISIC_0029599.jpg  \n",
            "  inflating: ham10000_images_part_2/ISIC_0029600.jpg  \n",
            "  inflating: ham10000_images_part_2/ISIC_0029601.jpg  \n",
            "  inflating: ham10000_images_part_2/ISIC_0029602.jpg  \n",
            "  inflating: ham10000_images_part_2/ISIC_0029603.jpg  \n",
            "  inflating: ham10000_images_part_2/ISIC_0029604.jpg  \n",
            "  inflating: ham10000_images_part_2/ISIC_0029605.jpg  \n",
            "  inflating: ham10000_images_part_2/ISIC_0029606.jpg  \n",
            "  inflating: ham10000_images_part_2/ISIC_0029607.jpg  \n",
            "  inflating: ham10000_images_part_2/ISIC_0029608.jpg  \n",
            "  inflating: ham10000_images_part_2/ISIC_0029609.jpg  \n",
            "  inflating: ham10000_images_part_2/ISIC_0029610.jpg  \n",
            "  inflating: ham10000_images_part_2/ISIC_0029611.jpg  \n",
            "  inflating: ham10000_images_part_2/ISIC_0029612.jpg  \n",
            "  inflating: ham10000_images_part_2/ISIC_0029613.jpg  \n",
            "  inflating: ham10000_images_part_2/ISIC_0029614.jpg  \n",
            "  inflating: ham10000_images_part_2/ISIC_0029615.jpg  \n",
            "  inflating: ham10000_images_part_2/ISIC_0029616.jpg  \n",
            "  inflating: ham10000_images_part_2/ISIC_0029617.jpg  \n",
            "  inflating: ham10000_images_part_2/ISIC_0029618.jpg  \n",
            "  inflating: ham10000_images_part_2/ISIC_0029619.jpg  \n",
            "  inflating: ham10000_images_part_2/ISIC_0029620.jpg  \n",
            "  inflating: ham10000_images_part_2/ISIC_0029621.jpg  \n",
            "  inflating: ham10000_images_part_2/ISIC_0029622.jpg  \n",
            "  inflating: ham10000_images_part_2/ISIC_0029623.jpg  \n",
            "  inflating: ham10000_images_part_2/ISIC_0029624.jpg  \n",
            "  inflating: ham10000_images_part_2/ISIC_0029625.jpg  \n",
            "  inflating: ham10000_images_part_2/ISIC_0029626.jpg  \n",
            "  inflating: ham10000_images_part_2/ISIC_0029627.jpg  \n",
            "  inflating: ham10000_images_part_2/ISIC_0029628.jpg  \n",
            "  inflating: ham10000_images_part_2/ISIC_0029629.jpg  \n",
            "  inflating: ham10000_images_part_2/ISIC_0029630.jpg  \n",
            "  inflating: ham10000_images_part_2/ISIC_0029631.jpg  \n",
            "  inflating: ham10000_images_part_2/ISIC_0029632.jpg  \n",
            "  inflating: ham10000_images_part_2/ISIC_0029633.jpg  \n",
            "  inflating: ham10000_images_part_2/ISIC_0029634.jpg  \n",
            "  inflating: ham10000_images_part_2/ISIC_0029635.jpg  \n",
            "  inflating: ham10000_images_part_2/ISIC_0029636.jpg  \n",
            "  inflating: ham10000_images_part_2/ISIC_0029637.jpg  \n",
            "  inflating: ham10000_images_part_2/ISIC_0029638.jpg  \n",
            "  inflating: ham10000_images_part_2/ISIC_0029639.jpg  \n",
            "  inflating: ham10000_images_part_2/ISIC_0029640.jpg  \n",
            "  inflating: ham10000_images_part_2/ISIC_0029641.jpg  \n",
            "  inflating: ham10000_images_part_2/ISIC_0029642.jpg  \n",
            "  inflating: ham10000_images_part_2/ISIC_0029643.jpg  \n",
            "  inflating: ham10000_images_part_2/ISIC_0029644.jpg  \n",
            "  inflating: ham10000_images_part_2/ISIC_0029645.jpg  \n",
            "  inflating: ham10000_images_part_2/ISIC_0029646.jpg  \n",
            "  inflating: ham10000_images_part_2/ISIC_0029647.jpg  \n",
            "  inflating: ham10000_images_part_2/ISIC_0029648.jpg  \n",
            "  inflating: ham10000_images_part_2/ISIC_0029649.jpg  \n",
            "  inflating: ham10000_images_part_2/ISIC_0029650.jpg  \n",
            "  inflating: ham10000_images_part_2/ISIC_0029651.jpg  \n",
            "  inflating: ham10000_images_part_2/ISIC_0029652.jpg  \n",
            "  inflating: ham10000_images_part_2/ISIC_0029653.jpg  \n",
            "  inflating: ham10000_images_part_2/ISIC_0029654.jpg  \n",
            "  inflating: ham10000_images_part_2/ISIC_0029655.jpg  \n",
            "  inflating: ham10000_images_part_2/ISIC_0029656.jpg  \n",
            "  inflating: ham10000_images_part_2/ISIC_0029657.jpg  \n",
            "  inflating: ham10000_images_part_2/ISIC_0029658.jpg  \n",
            "  inflating: ham10000_images_part_2/ISIC_0029659.jpg  \n",
            "  inflating: ham10000_images_part_2/ISIC_0029660.jpg  \n",
            "  inflating: ham10000_images_part_2/ISIC_0029661.jpg  \n",
            "  inflating: ham10000_images_part_2/ISIC_0029662.jpg  \n",
            "  inflating: ham10000_images_part_2/ISIC_0029663.jpg  \n",
            "  inflating: ham10000_images_part_2/ISIC_0029664.jpg  \n",
            "  inflating: ham10000_images_part_2/ISIC_0029665.jpg  \n",
            "  inflating: ham10000_images_part_2/ISIC_0029666.jpg  \n",
            "  inflating: ham10000_images_part_2/ISIC_0029667.jpg  \n",
            "  inflating: ham10000_images_part_2/ISIC_0029668.jpg  \n",
            "  inflating: ham10000_images_part_2/ISIC_0029669.jpg  \n",
            "  inflating: ham10000_images_part_2/ISIC_0029670.jpg  \n",
            "  inflating: ham10000_images_part_2/ISIC_0029671.jpg  \n",
            "  inflating: ham10000_images_part_2/ISIC_0029672.jpg  \n",
            "  inflating: ham10000_images_part_2/ISIC_0029673.jpg  \n",
            "  inflating: ham10000_images_part_2/ISIC_0029674.jpg  \n",
            "  inflating: ham10000_images_part_2/ISIC_0029675.jpg  \n",
            "  inflating: ham10000_images_part_2/ISIC_0029676.jpg  \n",
            "  inflating: ham10000_images_part_2/ISIC_0029677.jpg  \n",
            "  inflating: ham10000_images_part_2/ISIC_0029678.jpg  \n",
            "  inflating: ham10000_images_part_2/ISIC_0029679.jpg  \n",
            "  inflating: ham10000_images_part_2/ISIC_0029680.jpg  \n",
            "  inflating: ham10000_images_part_2/ISIC_0029681.jpg  \n",
            "  inflating: ham10000_images_part_2/ISIC_0029682.jpg  \n",
            "  inflating: ham10000_images_part_2/ISIC_0029683.jpg  \n",
            "  inflating: ham10000_images_part_2/ISIC_0029684.jpg  \n",
            "  inflating: ham10000_images_part_2/ISIC_0029685.jpg  \n",
            "  inflating: ham10000_images_part_2/ISIC_0029686.jpg  \n",
            "  inflating: ham10000_images_part_2/ISIC_0029687.jpg  \n",
            "  inflating: ham10000_images_part_2/ISIC_0029688.jpg  \n",
            "  inflating: ham10000_images_part_2/ISIC_0029689.jpg  \n",
            "  inflating: ham10000_images_part_2/ISIC_0029690.jpg  \n",
            "  inflating: ham10000_images_part_2/ISIC_0029691.jpg  \n",
            "  inflating: ham10000_images_part_2/ISIC_0029692.jpg  \n",
            "  inflating: ham10000_images_part_2/ISIC_0029693.jpg  \n",
            "  inflating: ham10000_images_part_2/ISIC_0029694.jpg  \n",
            "  inflating: ham10000_images_part_2/ISIC_0029695.jpg  \n",
            "  inflating: ham10000_images_part_2/ISIC_0029696.jpg  \n",
            "  inflating: ham10000_images_part_2/ISIC_0029697.jpg  \n",
            "  inflating: ham10000_images_part_2/ISIC_0029698.jpg  \n",
            "  inflating: ham10000_images_part_2/ISIC_0029699.jpg  \n",
            "  inflating: ham10000_images_part_2/ISIC_0029700.jpg  \n",
            "  inflating: ham10000_images_part_2/ISIC_0029701.jpg  \n",
            "  inflating: ham10000_images_part_2/ISIC_0029702.jpg  \n",
            "  inflating: ham10000_images_part_2/ISIC_0029703.jpg  \n",
            "  inflating: ham10000_images_part_2/ISIC_0029704.jpg  \n",
            "  inflating: ham10000_images_part_2/ISIC_0029705.jpg  \n",
            "  inflating: ham10000_images_part_2/ISIC_0029706.jpg  \n",
            "  inflating: ham10000_images_part_2/ISIC_0029707.jpg  \n",
            "  inflating: ham10000_images_part_2/ISIC_0029708.jpg  \n",
            "  inflating: ham10000_images_part_2/ISIC_0029709.jpg  \n",
            "  inflating: ham10000_images_part_2/ISIC_0029710.jpg  \n",
            "  inflating: ham10000_images_part_2/ISIC_0029711.jpg  \n",
            "  inflating: ham10000_images_part_2/ISIC_0029712.jpg  \n",
            "  inflating: ham10000_images_part_2/ISIC_0029713.jpg  \n",
            "  inflating: ham10000_images_part_2/ISIC_0029714.jpg  \n",
            "  inflating: ham10000_images_part_2/ISIC_0029715.jpg  \n",
            "  inflating: ham10000_images_part_2/ISIC_0029716.jpg  \n",
            "  inflating: ham10000_images_part_2/ISIC_0029717.jpg  \n",
            "  inflating: ham10000_images_part_2/ISIC_0029718.jpg  \n",
            "  inflating: ham10000_images_part_2/ISIC_0029719.jpg  \n",
            "  inflating: ham10000_images_part_2/ISIC_0029720.jpg  \n",
            "  inflating: ham10000_images_part_2/ISIC_0029721.jpg  \n",
            "  inflating: ham10000_images_part_2/ISIC_0029722.jpg  \n",
            "  inflating: ham10000_images_part_2/ISIC_0029723.jpg  \n",
            "  inflating: ham10000_images_part_2/ISIC_0029724.jpg  \n",
            "  inflating: ham10000_images_part_2/ISIC_0029725.jpg  \n",
            "  inflating: ham10000_images_part_2/ISIC_0029726.jpg  \n",
            "  inflating: ham10000_images_part_2/ISIC_0029727.jpg  \n",
            "  inflating: ham10000_images_part_2/ISIC_0029728.jpg  \n",
            "  inflating: ham10000_images_part_2/ISIC_0029729.jpg  \n",
            "  inflating: ham10000_images_part_2/ISIC_0029730.jpg  \n",
            "  inflating: ham10000_images_part_2/ISIC_0029731.jpg  \n",
            "  inflating: ham10000_images_part_2/ISIC_0029732.jpg  \n",
            "  inflating: ham10000_images_part_2/ISIC_0029733.jpg  \n",
            "  inflating: ham10000_images_part_2/ISIC_0029734.jpg  \n",
            "  inflating: ham10000_images_part_2/ISIC_0029735.jpg  \n",
            "  inflating: ham10000_images_part_2/ISIC_0029736.jpg  \n",
            "  inflating: ham10000_images_part_2/ISIC_0029737.jpg  \n",
            "  inflating: ham10000_images_part_2/ISIC_0029738.jpg  \n",
            "  inflating: ham10000_images_part_2/ISIC_0029739.jpg  \n",
            "  inflating: ham10000_images_part_2/ISIC_0029740.jpg  \n",
            "  inflating: ham10000_images_part_2/ISIC_0029741.jpg  \n",
            "  inflating: ham10000_images_part_2/ISIC_0029742.jpg  \n",
            "  inflating: ham10000_images_part_2/ISIC_0029743.jpg  \n",
            "  inflating: ham10000_images_part_2/ISIC_0029744.jpg  \n",
            "  inflating: ham10000_images_part_2/ISIC_0029745.jpg  \n",
            "  inflating: ham10000_images_part_2/ISIC_0029746.jpg  \n",
            "  inflating: ham10000_images_part_2/ISIC_0029747.jpg  \n",
            "  inflating: ham10000_images_part_2/ISIC_0029748.jpg  \n",
            "  inflating: ham10000_images_part_2/ISIC_0029749.jpg  \n",
            "  inflating: ham10000_images_part_2/ISIC_0029750.jpg  \n",
            "  inflating: ham10000_images_part_2/ISIC_0029751.jpg  \n",
            "  inflating: ham10000_images_part_2/ISIC_0029752.jpg  \n",
            "  inflating: ham10000_images_part_2/ISIC_0029753.jpg  \n",
            "  inflating: ham10000_images_part_2/ISIC_0029754.jpg  \n",
            "  inflating: ham10000_images_part_2/ISIC_0029755.jpg  \n",
            "  inflating: ham10000_images_part_2/ISIC_0029756.jpg  \n",
            "  inflating: ham10000_images_part_2/ISIC_0029757.jpg  \n",
            "  inflating: ham10000_images_part_2/ISIC_0029758.jpg  \n",
            "  inflating: ham10000_images_part_2/ISIC_0029759.jpg  \n",
            "  inflating: ham10000_images_part_2/ISIC_0029760.jpg  \n",
            "  inflating: ham10000_images_part_2/ISIC_0029761.jpg  \n",
            "  inflating: ham10000_images_part_2/ISIC_0029762.jpg  \n",
            "  inflating: ham10000_images_part_2/ISIC_0029763.jpg  \n",
            "  inflating: ham10000_images_part_2/ISIC_0029764.jpg  \n",
            "  inflating: ham10000_images_part_2/ISIC_0029765.jpg  \n",
            "  inflating: ham10000_images_part_2/ISIC_0029766.jpg  \n",
            "  inflating: ham10000_images_part_2/ISIC_0029767.jpg  \n",
            "  inflating: ham10000_images_part_2/ISIC_0029768.jpg  \n",
            "  inflating: ham10000_images_part_2/ISIC_0029769.jpg  \n",
            "  inflating: ham10000_images_part_2/ISIC_0029770.jpg  \n",
            "  inflating: ham10000_images_part_2/ISIC_0029771.jpg  \n",
            "  inflating: ham10000_images_part_2/ISIC_0029772.jpg  \n",
            "  inflating: ham10000_images_part_2/ISIC_0029773.jpg  \n",
            "  inflating: ham10000_images_part_2/ISIC_0029774.jpg  \n",
            "  inflating: ham10000_images_part_2/ISIC_0029775.jpg  \n",
            "  inflating: ham10000_images_part_2/ISIC_0029776.jpg  \n",
            "  inflating: ham10000_images_part_2/ISIC_0029777.jpg  \n",
            "  inflating: ham10000_images_part_2/ISIC_0029778.jpg  \n",
            "  inflating: ham10000_images_part_2/ISIC_0029779.jpg  \n",
            "  inflating: ham10000_images_part_2/ISIC_0029780.jpg  \n",
            "  inflating: ham10000_images_part_2/ISIC_0029781.jpg  \n",
            "  inflating: ham10000_images_part_2/ISIC_0029782.jpg  \n",
            "  inflating: ham10000_images_part_2/ISIC_0029783.jpg  \n",
            "  inflating: ham10000_images_part_2/ISIC_0029784.jpg  \n",
            "  inflating: ham10000_images_part_2/ISIC_0029785.jpg  \n",
            "  inflating: ham10000_images_part_2/ISIC_0029786.jpg  \n",
            "  inflating: ham10000_images_part_2/ISIC_0029787.jpg  \n",
            "  inflating: ham10000_images_part_2/ISIC_0029788.jpg  \n",
            "  inflating: ham10000_images_part_2/ISIC_0029789.jpg  \n",
            "  inflating: ham10000_images_part_2/ISIC_0029790.jpg  \n",
            "  inflating: ham10000_images_part_2/ISIC_0029791.jpg  \n",
            "  inflating: ham10000_images_part_2/ISIC_0029792.jpg  \n",
            "  inflating: ham10000_images_part_2/ISIC_0029793.jpg  \n",
            "  inflating: ham10000_images_part_2/ISIC_0029794.jpg  \n",
            "  inflating: ham10000_images_part_2/ISIC_0029795.jpg  \n",
            "  inflating: ham10000_images_part_2/ISIC_0029796.jpg  \n",
            "  inflating: ham10000_images_part_2/ISIC_0029797.jpg  \n",
            "  inflating: ham10000_images_part_2/ISIC_0029798.jpg  \n",
            "  inflating: ham10000_images_part_2/ISIC_0029799.jpg  \n",
            "  inflating: ham10000_images_part_2/ISIC_0029800.jpg  \n",
            "  inflating: ham10000_images_part_2/ISIC_0029801.jpg  \n",
            "  inflating: ham10000_images_part_2/ISIC_0029802.jpg  \n",
            "  inflating: ham10000_images_part_2/ISIC_0029803.jpg  \n",
            "  inflating: ham10000_images_part_2/ISIC_0029804.jpg  \n",
            "  inflating: ham10000_images_part_2/ISIC_0029805.jpg  \n",
            "  inflating: ham10000_images_part_2/ISIC_0029806.jpg  \n",
            "  inflating: ham10000_images_part_2/ISIC_0029807.jpg  \n",
            "  inflating: ham10000_images_part_2/ISIC_0029808.jpg  \n",
            "  inflating: ham10000_images_part_2/ISIC_0029809.jpg  \n",
            "  inflating: ham10000_images_part_2/ISIC_0029810.jpg  \n",
            "  inflating: ham10000_images_part_2/ISIC_0029811.jpg  \n",
            "  inflating: ham10000_images_part_2/ISIC_0029812.jpg  \n",
            "  inflating: ham10000_images_part_2/ISIC_0029813.jpg  \n",
            "  inflating: ham10000_images_part_2/ISIC_0029814.jpg  \n",
            "  inflating: ham10000_images_part_2/ISIC_0029815.jpg  \n",
            "  inflating: ham10000_images_part_2/ISIC_0029816.jpg  \n",
            "  inflating: ham10000_images_part_2/ISIC_0029817.jpg  \n",
            "  inflating: ham10000_images_part_2/ISIC_0029818.jpg  \n",
            "  inflating: ham10000_images_part_2/ISIC_0029819.jpg  \n",
            "  inflating: ham10000_images_part_2/ISIC_0029820.jpg  \n",
            "  inflating: ham10000_images_part_2/ISIC_0029821.jpg  \n",
            "  inflating: ham10000_images_part_2/ISIC_0029822.jpg  \n",
            "  inflating: ham10000_images_part_2/ISIC_0029823.jpg  \n",
            "  inflating: ham10000_images_part_2/ISIC_0029824.jpg  \n",
            "  inflating: ham10000_images_part_2/ISIC_0029825.jpg  \n",
            "  inflating: ham10000_images_part_2/ISIC_0029826.jpg  \n",
            "  inflating: ham10000_images_part_2/ISIC_0029827.jpg  \n",
            "  inflating: ham10000_images_part_2/ISIC_0029828.jpg  \n",
            "  inflating: ham10000_images_part_2/ISIC_0029829.jpg  \n",
            "  inflating: ham10000_images_part_2/ISIC_0029830.jpg  \n",
            "  inflating: ham10000_images_part_2/ISIC_0029831.jpg  \n",
            "  inflating: ham10000_images_part_2/ISIC_0029832.jpg  \n",
            "  inflating: ham10000_images_part_2/ISIC_0029833.jpg  \n",
            "  inflating: ham10000_images_part_2/ISIC_0029834.jpg  \n",
            "  inflating: ham10000_images_part_2/ISIC_0029835.jpg  \n",
            "  inflating: ham10000_images_part_2/ISIC_0029836.jpg  \n",
            "  inflating: ham10000_images_part_2/ISIC_0029837.jpg  \n",
            "  inflating: ham10000_images_part_2/ISIC_0029838.jpg  \n",
            "  inflating: ham10000_images_part_2/ISIC_0029839.jpg  \n",
            "  inflating: ham10000_images_part_2/ISIC_0029840.jpg  \n",
            "  inflating: ham10000_images_part_2/ISIC_0029841.jpg  \n",
            "  inflating: ham10000_images_part_2/ISIC_0029842.jpg  \n",
            "  inflating: ham10000_images_part_2/ISIC_0029843.jpg  \n",
            "  inflating: ham10000_images_part_2/ISIC_0029844.jpg  \n",
            "  inflating: ham10000_images_part_2/ISIC_0029845.jpg  \n",
            "  inflating: ham10000_images_part_2/ISIC_0029846.jpg  \n",
            "  inflating: ham10000_images_part_2/ISIC_0029847.jpg  \n",
            "  inflating: ham10000_images_part_2/ISIC_0029848.jpg  \n",
            "  inflating: ham10000_images_part_2/ISIC_0029849.jpg  \n",
            "  inflating: ham10000_images_part_2/ISIC_0029850.jpg  \n",
            "  inflating: ham10000_images_part_2/ISIC_0029851.jpg  \n",
            "  inflating: ham10000_images_part_2/ISIC_0029852.jpg  \n",
            "  inflating: ham10000_images_part_2/ISIC_0029853.jpg  \n",
            "  inflating: ham10000_images_part_2/ISIC_0029854.jpg  \n",
            "  inflating: ham10000_images_part_2/ISIC_0029855.jpg  \n",
            "  inflating: ham10000_images_part_2/ISIC_0029856.jpg  \n",
            "  inflating: ham10000_images_part_2/ISIC_0029857.jpg  \n",
            "  inflating: ham10000_images_part_2/ISIC_0029858.jpg  \n",
            "  inflating: ham10000_images_part_2/ISIC_0029859.jpg  \n",
            "  inflating: ham10000_images_part_2/ISIC_0029860.jpg  \n",
            "  inflating: ham10000_images_part_2/ISIC_0029861.jpg  \n",
            "  inflating: ham10000_images_part_2/ISIC_0029862.jpg  \n",
            "  inflating: ham10000_images_part_2/ISIC_0029863.jpg  \n",
            "  inflating: ham10000_images_part_2/ISIC_0029864.jpg  \n",
            "  inflating: ham10000_images_part_2/ISIC_0029865.jpg  \n",
            "  inflating: ham10000_images_part_2/ISIC_0029866.jpg  \n",
            "  inflating: ham10000_images_part_2/ISIC_0029867.jpg  \n",
            "  inflating: ham10000_images_part_2/ISIC_0029868.jpg  \n",
            "  inflating: ham10000_images_part_2/ISIC_0029869.jpg  \n",
            "  inflating: ham10000_images_part_2/ISIC_0029870.jpg  \n",
            "  inflating: ham10000_images_part_2/ISIC_0029871.jpg  \n",
            "  inflating: ham10000_images_part_2/ISIC_0029872.jpg  \n",
            "  inflating: ham10000_images_part_2/ISIC_0029873.jpg  \n",
            "  inflating: ham10000_images_part_2/ISIC_0029874.jpg  \n",
            "  inflating: ham10000_images_part_2/ISIC_0029875.jpg  \n",
            "  inflating: ham10000_images_part_2/ISIC_0029876.jpg  \n",
            "  inflating: ham10000_images_part_2/ISIC_0029877.jpg  \n",
            "  inflating: ham10000_images_part_2/ISIC_0029878.jpg  \n",
            "  inflating: ham10000_images_part_2/ISIC_0029879.jpg  \n",
            "  inflating: ham10000_images_part_2/ISIC_0029880.jpg  \n",
            "  inflating: ham10000_images_part_2/ISIC_0029881.jpg  \n",
            "  inflating: ham10000_images_part_2/ISIC_0029882.jpg  \n",
            "  inflating: ham10000_images_part_2/ISIC_0029883.jpg  \n",
            "  inflating: ham10000_images_part_2/ISIC_0029884.jpg  \n",
            "  inflating: ham10000_images_part_2/ISIC_0029885.jpg  \n",
            "  inflating: ham10000_images_part_2/ISIC_0029886.jpg  \n",
            "  inflating: ham10000_images_part_2/ISIC_0029887.jpg  \n",
            "  inflating: ham10000_images_part_2/ISIC_0029888.jpg  \n",
            "  inflating: ham10000_images_part_2/ISIC_0029889.jpg  \n",
            "  inflating: ham10000_images_part_2/ISIC_0029890.jpg  \n",
            "  inflating: ham10000_images_part_2/ISIC_0029891.jpg  \n",
            "  inflating: ham10000_images_part_2/ISIC_0029892.jpg  \n",
            "  inflating: ham10000_images_part_2/ISIC_0029893.jpg  \n",
            "  inflating: ham10000_images_part_2/ISIC_0029894.jpg  \n",
            "  inflating: ham10000_images_part_2/ISIC_0029895.jpg  \n",
            "  inflating: ham10000_images_part_2/ISIC_0029896.jpg  \n",
            "  inflating: ham10000_images_part_2/ISIC_0029897.jpg  \n",
            "  inflating: ham10000_images_part_2/ISIC_0029898.jpg  \n",
            "  inflating: ham10000_images_part_2/ISIC_0029899.jpg  \n",
            "  inflating: ham10000_images_part_2/ISIC_0029900.jpg  \n",
            "  inflating: ham10000_images_part_2/ISIC_0029901.jpg  \n",
            "  inflating: ham10000_images_part_2/ISIC_0029902.jpg  \n",
            "  inflating: ham10000_images_part_2/ISIC_0029903.jpg  \n",
            "  inflating: ham10000_images_part_2/ISIC_0029904.jpg  \n",
            "  inflating: ham10000_images_part_2/ISIC_0029905.jpg  \n",
            "  inflating: ham10000_images_part_2/ISIC_0029906.jpg  \n",
            "  inflating: ham10000_images_part_2/ISIC_0029907.jpg  \n",
            "  inflating: ham10000_images_part_2/ISIC_0029908.jpg  \n",
            "  inflating: ham10000_images_part_2/ISIC_0029909.jpg  \n",
            "  inflating: ham10000_images_part_2/ISIC_0029910.jpg  \n",
            "  inflating: ham10000_images_part_2/ISIC_0029911.jpg  \n",
            "  inflating: ham10000_images_part_2/ISIC_0029912.jpg  \n",
            "  inflating: ham10000_images_part_2/ISIC_0029913.jpg  \n",
            "  inflating: ham10000_images_part_2/ISIC_0029914.jpg  \n",
            "  inflating: ham10000_images_part_2/ISIC_0029915.jpg  \n",
            "  inflating: ham10000_images_part_2/ISIC_0029916.jpg  \n",
            "  inflating: ham10000_images_part_2/ISIC_0029917.jpg  \n",
            "  inflating: ham10000_images_part_2/ISIC_0029918.jpg  \n",
            "  inflating: ham10000_images_part_2/ISIC_0029919.jpg  \n",
            "  inflating: ham10000_images_part_2/ISIC_0029920.jpg  \n",
            "  inflating: ham10000_images_part_2/ISIC_0029921.jpg  \n",
            "  inflating: ham10000_images_part_2/ISIC_0029922.jpg  \n",
            "  inflating: ham10000_images_part_2/ISIC_0029923.jpg  \n",
            "  inflating: ham10000_images_part_2/ISIC_0029924.jpg  \n",
            "  inflating: ham10000_images_part_2/ISIC_0029925.jpg  \n",
            "  inflating: ham10000_images_part_2/ISIC_0029926.jpg  \n",
            "  inflating: ham10000_images_part_2/ISIC_0029927.jpg  \n",
            "  inflating: ham10000_images_part_2/ISIC_0029928.jpg  \n",
            "  inflating: ham10000_images_part_2/ISIC_0029929.jpg  \n",
            "  inflating: ham10000_images_part_2/ISIC_0029930.jpg  \n",
            "  inflating: ham10000_images_part_2/ISIC_0029931.jpg  \n",
            "  inflating: ham10000_images_part_2/ISIC_0029932.jpg  \n",
            "  inflating: ham10000_images_part_2/ISIC_0029933.jpg  \n",
            "  inflating: ham10000_images_part_2/ISIC_0029934.jpg  \n",
            "  inflating: ham10000_images_part_2/ISIC_0029935.jpg  \n",
            "  inflating: ham10000_images_part_2/ISIC_0029936.jpg  \n",
            "  inflating: ham10000_images_part_2/ISIC_0029937.jpg  \n",
            "  inflating: ham10000_images_part_2/ISIC_0029938.jpg  \n",
            "  inflating: ham10000_images_part_2/ISIC_0029939.jpg  \n",
            "  inflating: ham10000_images_part_2/ISIC_0029940.jpg  \n",
            "  inflating: ham10000_images_part_2/ISIC_0029941.jpg  \n",
            "  inflating: ham10000_images_part_2/ISIC_0029942.jpg  \n",
            "  inflating: ham10000_images_part_2/ISIC_0029943.jpg  \n",
            "  inflating: ham10000_images_part_2/ISIC_0029944.jpg  \n",
            "  inflating: ham10000_images_part_2/ISIC_0029945.jpg  \n",
            "  inflating: ham10000_images_part_2/ISIC_0029946.jpg  \n",
            "  inflating: ham10000_images_part_2/ISIC_0029947.jpg  \n",
            "  inflating: ham10000_images_part_2/ISIC_0029948.jpg  \n",
            "  inflating: ham10000_images_part_2/ISIC_0029949.jpg  \n",
            "  inflating: ham10000_images_part_2/ISIC_0029950.jpg  \n",
            "  inflating: ham10000_images_part_2/ISIC_0029951.jpg  \n",
            "  inflating: ham10000_images_part_2/ISIC_0029952.jpg  \n",
            "  inflating: ham10000_images_part_2/ISIC_0029953.jpg  \n",
            "  inflating: ham10000_images_part_2/ISIC_0029954.jpg  \n",
            "  inflating: ham10000_images_part_2/ISIC_0029955.jpg  \n",
            "  inflating: ham10000_images_part_2/ISIC_0029956.jpg  \n",
            "  inflating: ham10000_images_part_2/ISIC_0029957.jpg  \n",
            "  inflating: ham10000_images_part_2/ISIC_0029958.jpg  \n",
            "  inflating: ham10000_images_part_2/ISIC_0029959.jpg  \n",
            "  inflating: ham10000_images_part_2/ISIC_0029960.jpg  \n",
            "  inflating: ham10000_images_part_2/ISIC_0029961.jpg  \n",
            "  inflating: ham10000_images_part_2/ISIC_0029962.jpg  \n",
            "  inflating: ham10000_images_part_2/ISIC_0029963.jpg  \n",
            "  inflating: ham10000_images_part_2/ISIC_0029964.jpg  \n",
            "  inflating: ham10000_images_part_2/ISIC_0029965.jpg  \n",
            "  inflating: ham10000_images_part_2/ISIC_0029966.jpg  \n",
            "  inflating: ham10000_images_part_2/ISIC_0029967.jpg  \n",
            "  inflating: ham10000_images_part_2/ISIC_0029968.jpg  \n",
            "  inflating: ham10000_images_part_2/ISIC_0029969.jpg  \n",
            "  inflating: ham10000_images_part_2/ISIC_0029970.jpg  \n",
            "  inflating: ham10000_images_part_2/ISIC_0029971.jpg  \n",
            "  inflating: ham10000_images_part_2/ISIC_0029972.jpg  \n",
            "  inflating: ham10000_images_part_2/ISIC_0029973.jpg  \n",
            "  inflating: ham10000_images_part_2/ISIC_0029974.jpg  \n",
            "  inflating: ham10000_images_part_2/ISIC_0029975.jpg  \n",
            "  inflating: ham10000_images_part_2/ISIC_0029976.jpg  \n",
            "  inflating: ham10000_images_part_2/ISIC_0029977.jpg  \n",
            "  inflating: ham10000_images_part_2/ISIC_0029978.jpg  \n",
            "  inflating: ham10000_images_part_2/ISIC_0029979.jpg  \n",
            "  inflating: ham10000_images_part_2/ISIC_0029980.jpg  \n",
            "  inflating: ham10000_images_part_2/ISIC_0029981.jpg  \n",
            "  inflating: ham10000_images_part_2/ISIC_0029982.jpg  \n",
            "  inflating: ham10000_images_part_2/ISIC_0029983.jpg  \n",
            "  inflating: ham10000_images_part_2/ISIC_0029984.jpg  \n",
            "  inflating: ham10000_images_part_2/ISIC_0029985.jpg  \n",
            "  inflating: ham10000_images_part_2/ISIC_0029986.jpg  \n",
            "  inflating: ham10000_images_part_2/ISIC_0029987.jpg  \n",
            "  inflating: ham10000_images_part_2/ISIC_0029988.jpg  \n",
            "  inflating: ham10000_images_part_2/ISIC_0029989.jpg  \n",
            "  inflating: ham10000_images_part_2/ISIC_0029990.jpg  \n",
            "  inflating: ham10000_images_part_2/ISIC_0029991.jpg  \n",
            "  inflating: ham10000_images_part_2/ISIC_0029992.jpg  \n",
            "  inflating: ham10000_images_part_2/ISIC_0029993.jpg  \n",
            "  inflating: ham10000_images_part_2/ISIC_0029994.jpg  \n",
            "  inflating: ham10000_images_part_2/ISIC_0029995.jpg  \n",
            "  inflating: ham10000_images_part_2/ISIC_0029996.jpg  \n",
            "  inflating: ham10000_images_part_2/ISIC_0029997.jpg  \n",
            "  inflating: ham10000_images_part_2/ISIC_0029998.jpg  \n",
            "  inflating: ham10000_images_part_2/ISIC_0029999.jpg  \n",
            "  inflating: ham10000_images_part_2/ISIC_0030000.jpg  \n",
            "  inflating: ham10000_images_part_2/ISIC_0030001.jpg  \n",
            "  inflating: ham10000_images_part_2/ISIC_0030002.jpg  \n",
            "  inflating: ham10000_images_part_2/ISIC_0030003.jpg  \n",
            "  inflating: ham10000_images_part_2/ISIC_0030004.jpg  \n",
            "  inflating: ham10000_images_part_2/ISIC_0030005.jpg  \n",
            "  inflating: ham10000_images_part_2/ISIC_0030006.jpg  \n",
            "  inflating: ham10000_images_part_2/ISIC_0030007.jpg  \n",
            "  inflating: ham10000_images_part_2/ISIC_0030008.jpg  \n",
            "  inflating: ham10000_images_part_2/ISIC_0030009.jpg  \n",
            "  inflating: ham10000_images_part_2/ISIC_0030010.jpg  \n",
            "  inflating: ham10000_images_part_2/ISIC_0030011.jpg  \n",
            "  inflating: ham10000_images_part_2/ISIC_0030012.jpg  \n",
            "  inflating: ham10000_images_part_2/ISIC_0030013.jpg  \n",
            "  inflating: ham10000_images_part_2/ISIC_0030014.jpg  \n",
            "  inflating: ham10000_images_part_2/ISIC_0030015.jpg  \n",
            "  inflating: ham10000_images_part_2/ISIC_0030016.jpg  \n",
            "  inflating: ham10000_images_part_2/ISIC_0030017.jpg  \n",
            "  inflating: ham10000_images_part_2/ISIC_0030018.jpg  \n",
            "  inflating: ham10000_images_part_2/ISIC_0030019.jpg  \n",
            "  inflating: ham10000_images_part_2/ISIC_0030020.jpg  \n",
            "  inflating: ham10000_images_part_2/ISIC_0030021.jpg  \n",
            "  inflating: ham10000_images_part_2/ISIC_0030022.jpg  \n",
            "  inflating: ham10000_images_part_2/ISIC_0030023.jpg  \n",
            "  inflating: ham10000_images_part_2/ISIC_0030024.jpg  \n",
            "  inflating: ham10000_images_part_2/ISIC_0030025.jpg  \n",
            "  inflating: ham10000_images_part_2/ISIC_0030026.jpg  \n",
            "  inflating: ham10000_images_part_2/ISIC_0030027.jpg  \n",
            "  inflating: ham10000_images_part_2/ISIC_0030028.jpg  \n",
            "  inflating: ham10000_images_part_2/ISIC_0030029.jpg  \n",
            "  inflating: ham10000_images_part_2/ISIC_0030030.jpg  \n",
            "  inflating: ham10000_images_part_2/ISIC_0030031.jpg  \n",
            "  inflating: ham10000_images_part_2/ISIC_0030032.jpg  \n",
            "  inflating: ham10000_images_part_2/ISIC_0030033.jpg  \n",
            "  inflating: ham10000_images_part_2/ISIC_0030034.jpg  \n",
            "  inflating: ham10000_images_part_2/ISIC_0030035.jpg  \n",
            "  inflating: ham10000_images_part_2/ISIC_0030036.jpg  \n",
            "  inflating: ham10000_images_part_2/ISIC_0030037.jpg  \n",
            "  inflating: ham10000_images_part_2/ISIC_0030038.jpg  \n",
            "  inflating: ham10000_images_part_2/ISIC_0030039.jpg  \n",
            "  inflating: ham10000_images_part_2/ISIC_0030040.jpg  \n",
            "  inflating: ham10000_images_part_2/ISIC_0030041.jpg  \n",
            "  inflating: ham10000_images_part_2/ISIC_0030042.jpg  \n",
            "  inflating: ham10000_images_part_2/ISIC_0030043.jpg  \n",
            "  inflating: ham10000_images_part_2/ISIC_0030044.jpg  \n",
            "  inflating: ham10000_images_part_2/ISIC_0030045.jpg  \n",
            "  inflating: ham10000_images_part_2/ISIC_0030046.jpg  \n",
            "  inflating: ham10000_images_part_2/ISIC_0030047.jpg  \n",
            "  inflating: ham10000_images_part_2/ISIC_0030048.jpg  \n",
            "  inflating: ham10000_images_part_2/ISIC_0030049.jpg  \n",
            "  inflating: ham10000_images_part_2/ISIC_0030050.jpg  \n",
            "  inflating: ham10000_images_part_2/ISIC_0030051.jpg  \n",
            "  inflating: ham10000_images_part_2/ISIC_0030052.jpg  \n",
            "  inflating: ham10000_images_part_2/ISIC_0030053.jpg  \n",
            "  inflating: ham10000_images_part_2/ISIC_0030054.jpg  \n",
            "  inflating: ham10000_images_part_2/ISIC_0030055.jpg  \n",
            "  inflating: ham10000_images_part_2/ISIC_0030056.jpg  \n",
            "  inflating: ham10000_images_part_2/ISIC_0030057.jpg  \n",
            "  inflating: ham10000_images_part_2/ISIC_0030058.jpg  \n",
            "  inflating: ham10000_images_part_2/ISIC_0030059.jpg  \n",
            "  inflating: ham10000_images_part_2/ISIC_0030060.jpg  \n",
            "  inflating: ham10000_images_part_2/ISIC_0030061.jpg  \n",
            "  inflating: ham10000_images_part_2/ISIC_0030062.jpg  \n",
            "  inflating: ham10000_images_part_2/ISIC_0030063.jpg  \n",
            "  inflating: ham10000_images_part_2/ISIC_0030064.jpg  \n",
            "  inflating: ham10000_images_part_2/ISIC_0030065.jpg  \n",
            "  inflating: ham10000_images_part_2/ISIC_0030066.jpg  \n",
            "  inflating: ham10000_images_part_2/ISIC_0030067.jpg  \n",
            "  inflating: ham10000_images_part_2/ISIC_0030068.jpg  \n",
            "  inflating: ham10000_images_part_2/ISIC_0030069.jpg  \n",
            "  inflating: ham10000_images_part_2/ISIC_0030070.jpg  \n",
            "  inflating: ham10000_images_part_2/ISIC_0030071.jpg  \n",
            "  inflating: ham10000_images_part_2/ISIC_0030072.jpg  \n",
            "  inflating: ham10000_images_part_2/ISIC_0030073.jpg  \n",
            "  inflating: ham10000_images_part_2/ISIC_0030074.jpg  \n",
            "  inflating: ham10000_images_part_2/ISIC_0030075.jpg  \n",
            "  inflating: ham10000_images_part_2/ISIC_0030076.jpg  \n",
            "  inflating: ham10000_images_part_2/ISIC_0030077.jpg  \n",
            "  inflating: ham10000_images_part_2/ISIC_0030078.jpg  \n",
            "  inflating: ham10000_images_part_2/ISIC_0030079.jpg  \n",
            "  inflating: ham10000_images_part_2/ISIC_0030080.jpg  \n",
            "  inflating: ham10000_images_part_2/ISIC_0030081.jpg  \n",
            "  inflating: ham10000_images_part_2/ISIC_0030082.jpg  \n",
            "  inflating: ham10000_images_part_2/ISIC_0030083.jpg  \n",
            "  inflating: ham10000_images_part_2/ISIC_0030084.jpg  \n",
            "  inflating: ham10000_images_part_2/ISIC_0030085.jpg  \n",
            "  inflating: ham10000_images_part_2/ISIC_0030086.jpg  \n",
            "  inflating: ham10000_images_part_2/ISIC_0030087.jpg  \n",
            "  inflating: ham10000_images_part_2/ISIC_0030088.jpg  \n",
            "  inflating: ham10000_images_part_2/ISIC_0030089.jpg  \n",
            "  inflating: ham10000_images_part_2/ISIC_0030090.jpg  \n",
            "  inflating: ham10000_images_part_2/ISIC_0030091.jpg  \n",
            "  inflating: ham10000_images_part_2/ISIC_0030092.jpg  \n",
            "  inflating: ham10000_images_part_2/ISIC_0030093.jpg  \n",
            "  inflating: ham10000_images_part_2/ISIC_0030094.jpg  \n",
            "  inflating: ham10000_images_part_2/ISIC_0030095.jpg  \n",
            "  inflating: ham10000_images_part_2/ISIC_0030096.jpg  \n",
            "  inflating: ham10000_images_part_2/ISIC_0030097.jpg  \n",
            "  inflating: ham10000_images_part_2/ISIC_0030098.jpg  \n",
            "  inflating: ham10000_images_part_2/ISIC_0030099.jpg  \n",
            "  inflating: ham10000_images_part_2/ISIC_0030100.jpg  \n",
            "  inflating: ham10000_images_part_2/ISIC_0030101.jpg  \n",
            "  inflating: ham10000_images_part_2/ISIC_0030102.jpg  \n",
            "  inflating: ham10000_images_part_2/ISIC_0030103.jpg  \n",
            "  inflating: ham10000_images_part_2/ISIC_0030104.jpg  \n",
            "  inflating: ham10000_images_part_2/ISIC_0030105.jpg  \n",
            "  inflating: ham10000_images_part_2/ISIC_0030106.jpg  \n",
            "  inflating: ham10000_images_part_2/ISIC_0030107.jpg  \n",
            "  inflating: ham10000_images_part_2/ISIC_0030108.jpg  \n",
            "  inflating: ham10000_images_part_2/ISIC_0030109.jpg  \n",
            "  inflating: ham10000_images_part_2/ISIC_0030110.jpg  \n",
            "  inflating: ham10000_images_part_2/ISIC_0030111.jpg  \n",
            "  inflating: ham10000_images_part_2/ISIC_0030112.jpg  \n",
            "  inflating: ham10000_images_part_2/ISIC_0030113.jpg  \n",
            "  inflating: ham10000_images_part_2/ISIC_0030114.jpg  \n",
            "  inflating: ham10000_images_part_2/ISIC_0030115.jpg  \n",
            "  inflating: ham10000_images_part_2/ISIC_0030116.jpg  \n",
            "  inflating: ham10000_images_part_2/ISIC_0030117.jpg  \n",
            "  inflating: ham10000_images_part_2/ISIC_0030118.jpg  \n",
            "  inflating: ham10000_images_part_2/ISIC_0030119.jpg  \n",
            "  inflating: ham10000_images_part_2/ISIC_0030120.jpg  \n",
            "  inflating: ham10000_images_part_2/ISIC_0030121.jpg  \n",
            "  inflating: ham10000_images_part_2/ISIC_0030122.jpg  \n",
            "  inflating: ham10000_images_part_2/ISIC_0030123.jpg  \n",
            "  inflating: ham10000_images_part_2/ISIC_0030124.jpg  \n",
            "  inflating: ham10000_images_part_2/ISIC_0030125.jpg  \n",
            "  inflating: ham10000_images_part_2/ISIC_0030126.jpg  \n",
            "  inflating: ham10000_images_part_2/ISIC_0030127.jpg  \n",
            "  inflating: ham10000_images_part_2/ISIC_0030128.jpg  \n",
            "  inflating: ham10000_images_part_2/ISIC_0030129.jpg  \n",
            "  inflating: ham10000_images_part_2/ISIC_0030130.jpg  \n",
            "  inflating: ham10000_images_part_2/ISIC_0030131.jpg  \n",
            "  inflating: ham10000_images_part_2/ISIC_0030132.jpg  \n",
            "  inflating: ham10000_images_part_2/ISIC_0030133.jpg  \n",
            "  inflating: ham10000_images_part_2/ISIC_0030134.jpg  \n",
            "  inflating: ham10000_images_part_2/ISIC_0030135.jpg  \n",
            "  inflating: ham10000_images_part_2/ISIC_0030136.jpg  \n",
            "  inflating: ham10000_images_part_2/ISIC_0030137.jpg  \n",
            "  inflating: ham10000_images_part_2/ISIC_0030138.jpg  \n",
            "  inflating: ham10000_images_part_2/ISIC_0030139.jpg  \n",
            "  inflating: ham10000_images_part_2/ISIC_0030140.jpg  \n",
            "  inflating: ham10000_images_part_2/ISIC_0030141.jpg  \n",
            "  inflating: ham10000_images_part_2/ISIC_0030142.jpg  \n",
            "  inflating: ham10000_images_part_2/ISIC_0030143.jpg  \n",
            "  inflating: ham10000_images_part_2/ISIC_0030144.jpg  \n",
            "  inflating: ham10000_images_part_2/ISIC_0030145.jpg  \n",
            "  inflating: ham10000_images_part_2/ISIC_0030146.jpg  \n",
            "  inflating: ham10000_images_part_2/ISIC_0030147.jpg  \n",
            "  inflating: ham10000_images_part_2/ISIC_0030148.jpg  \n",
            "  inflating: ham10000_images_part_2/ISIC_0030149.jpg  \n",
            "  inflating: ham10000_images_part_2/ISIC_0030150.jpg  \n",
            "  inflating: ham10000_images_part_2/ISIC_0030151.jpg  \n",
            "  inflating: ham10000_images_part_2/ISIC_0030152.jpg  \n",
            "  inflating: ham10000_images_part_2/ISIC_0030153.jpg  \n",
            "  inflating: ham10000_images_part_2/ISIC_0030154.jpg  \n",
            "  inflating: ham10000_images_part_2/ISIC_0030155.jpg  \n",
            "  inflating: ham10000_images_part_2/ISIC_0030156.jpg  \n",
            "  inflating: ham10000_images_part_2/ISIC_0030157.jpg  \n",
            "  inflating: ham10000_images_part_2/ISIC_0030158.jpg  \n",
            "  inflating: ham10000_images_part_2/ISIC_0030159.jpg  \n",
            "  inflating: ham10000_images_part_2/ISIC_0030160.jpg  \n",
            "  inflating: ham10000_images_part_2/ISIC_0030161.jpg  \n",
            "  inflating: ham10000_images_part_2/ISIC_0030162.jpg  \n",
            "  inflating: ham10000_images_part_2/ISIC_0030163.jpg  \n",
            "  inflating: ham10000_images_part_2/ISIC_0030164.jpg  \n",
            "  inflating: ham10000_images_part_2/ISIC_0030165.jpg  \n",
            "  inflating: ham10000_images_part_2/ISIC_0030166.jpg  \n",
            "  inflating: ham10000_images_part_2/ISIC_0030167.jpg  \n",
            "  inflating: ham10000_images_part_2/ISIC_0030168.jpg  \n",
            "  inflating: ham10000_images_part_2/ISIC_0030169.jpg  \n",
            "  inflating: ham10000_images_part_2/ISIC_0030170.jpg  \n",
            "  inflating: ham10000_images_part_2/ISIC_0030171.jpg  \n",
            "  inflating: ham10000_images_part_2/ISIC_0030172.jpg  \n",
            "  inflating: ham10000_images_part_2/ISIC_0030173.jpg  \n",
            "  inflating: ham10000_images_part_2/ISIC_0030174.jpg  \n",
            "  inflating: ham10000_images_part_2/ISIC_0030175.jpg  \n",
            "  inflating: ham10000_images_part_2/ISIC_0030176.jpg  \n",
            "  inflating: ham10000_images_part_2/ISIC_0030177.jpg  \n",
            "  inflating: ham10000_images_part_2/ISIC_0030178.jpg  \n",
            "  inflating: ham10000_images_part_2/ISIC_0030179.jpg  \n",
            "  inflating: ham10000_images_part_2/ISIC_0030180.jpg  \n",
            "  inflating: ham10000_images_part_2/ISIC_0030181.jpg  \n",
            "  inflating: ham10000_images_part_2/ISIC_0030182.jpg  \n",
            "  inflating: ham10000_images_part_2/ISIC_0030183.jpg  \n",
            "  inflating: ham10000_images_part_2/ISIC_0030184.jpg  \n",
            "  inflating: ham10000_images_part_2/ISIC_0030185.jpg  \n",
            "  inflating: ham10000_images_part_2/ISIC_0030186.jpg  \n",
            "  inflating: ham10000_images_part_2/ISIC_0030187.jpg  \n",
            "  inflating: ham10000_images_part_2/ISIC_0030188.jpg  \n",
            "  inflating: ham10000_images_part_2/ISIC_0030189.jpg  \n",
            "  inflating: ham10000_images_part_2/ISIC_0030190.jpg  \n",
            "  inflating: ham10000_images_part_2/ISIC_0030191.jpg  \n",
            "  inflating: ham10000_images_part_2/ISIC_0030192.jpg  \n",
            "  inflating: ham10000_images_part_2/ISIC_0030193.jpg  \n",
            "  inflating: ham10000_images_part_2/ISIC_0030194.jpg  \n",
            "  inflating: ham10000_images_part_2/ISIC_0030195.jpg  \n",
            "  inflating: ham10000_images_part_2/ISIC_0030196.jpg  \n",
            "  inflating: ham10000_images_part_2/ISIC_0030197.jpg  \n",
            "  inflating: ham10000_images_part_2/ISIC_0030198.jpg  \n",
            "  inflating: ham10000_images_part_2/ISIC_0030199.jpg  \n",
            "  inflating: ham10000_images_part_2/ISIC_0030200.jpg  \n",
            "  inflating: ham10000_images_part_2/ISIC_0030201.jpg  \n",
            "  inflating: ham10000_images_part_2/ISIC_0030202.jpg  \n",
            "  inflating: ham10000_images_part_2/ISIC_0030203.jpg  \n",
            "  inflating: ham10000_images_part_2/ISIC_0030204.jpg  \n",
            "  inflating: ham10000_images_part_2/ISIC_0030205.jpg  \n",
            "  inflating: ham10000_images_part_2/ISIC_0030206.jpg  \n",
            "  inflating: ham10000_images_part_2/ISIC_0030207.jpg  \n",
            "  inflating: ham10000_images_part_2/ISIC_0030208.jpg  \n",
            "  inflating: ham10000_images_part_2/ISIC_0030209.jpg  \n",
            "  inflating: ham10000_images_part_2/ISIC_0030210.jpg  \n",
            "  inflating: ham10000_images_part_2/ISIC_0030211.jpg  \n",
            "  inflating: ham10000_images_part_2/ISIC_0030212.jpg  \n",
            "  inflating: ham10000_images_part_2/ISIC_0030213.jpg  \n",
            "  inflating: ham10000_images_part_2/ISIC_0030214.jpg  \n",
            "  inflating: ham10000_images_part_2/ISIC_0030215.jpg  \n",
            "  inflating: ham10000_images_part_2/ISIC_0030216.jpg  \n",
            "  inflating: ham10000_images_part_2/ISIC_0030217.jpg  \n",
            "  inflating: ham10000_images_part_2/ISIC_0030218.jpg  \n",
            "  inflating: ham10000_images_part_2/ISIC_0030219.jpg  \n",
            "  inflating: ham10000_images_part_2/ISIC_0030220.jpg  \n",
            "  inflating: ham10000_images_part_2/ISIC_0030221.jpg  \n",
            "  inflating: ham10000_images_part_2/ISIC_0030222.jpg  \n",
            "  inflating: ham10000_images_part_2/ISIC_0030223.jpg  \n",
            "  inflating: ham10000_images_part_2/ISIC_0030224.jpg  \n",
            "  inflating: ham10000_images_part_2/ISIC_0030225.jpg  \n",
            "  inflating: ham10000_images_part_2/ISIC_0030226.jpg  \n",
            "  inflating: ham10000_images_part_2/ISIC_0030227.jpg  \n",
            "  inflating: ham10000_images_part_2/ISIC_0030228.jpg  \n",
            "  inflating: ham10000_images_part_2/ISIC_0030229.jpg  \n",
            "  inflating: ham10000_images_part_2/ISIC_0030230.jpg  \n",
            "  inflating: ham10000_images_part_2/ISIC_0030231.jpg  \n",
            "  inflating: ham10000_images_part_2/ISIC_0030232.jpg  \n",
            "  inflating: ham10000_images_part_2/ISIC_0030233.jpg  \n",
            "  inflating: ham10000_images_part_2/ISIC_0030234.jpg  \n",
            "  inflating: ham10000_images_part_2/ISIC_0030235.jpg  \n",
            "  inflating: ham10000_images_part_2/ISIC_0030236.jpg  \n",
            "  inflating: ham10000_images_part_2/ISIC_0030237.jpg  \n",
            "  inflating: ham10000_images_part_2/ISIC_0030238.jpg  \n",
            "  inflating: ham10000_images_part_2/ISIC_0030239.jpg  \n",
            "  inflating: ham10000_images_part_2/ISIC_0030240.jpg  \n",
            "  inflating: ham10000_images_part_2/ISIC_0030241.jpg  \n",
            "  inflating: ham10000_images_part_2/ISIC_0030242.jpg  \n",
            "  inflating: ham10000_images_part_2/ISIC_0030243.jpg  \n",
            "  inflating: ham10000_images_part_2/ISIC_0030244.jpg  \n",
            "  inflating: ham10000_images_part_2/ISIC_0030245.jpg  \n",
            "  inflating: ham10000_images_part_2/ISIC_0030246.jpg  \n",
            "  inflating: ham10000_images_part_2/ISIC_0030247.jpg  \n",
            "  inflating: ham10000_images_part_2/ISIC_0030248.jpg  \n",
            "  inflating: ham10000_images_part_2/ISIC_0030249.jpg  \n",
            "  inflating: ham10000_images_part_2/ISIC_0030250.jpg  \n",
            "  inflating: ham10000_images_part_2/ISIC_0030251.jpg  \n",
            "  inflating: ham10000_images_part_2/ISIC_0030252.jpg  \n",
            "  inflating: ham10000_images_part_2/ISIC_0030253.jpg  \n",
            "  inflating: ham10000_images_part_2/ISIC_0030254.jpg  \n",
            "  inflating: ham10000_images_part_2/ISIC_0030255.jpg  \n",
            "  inflating: ham10000_images_part_2/ISIC_0030256.jpg  \n",
            "  inflating: ham10000_images_part_2/ISIC_0030257.jpg  \n",
            "  inflating: ham10000_images_part_2/ISIC_0030258.jpg  \n",
            "  inflating: ham10000_images_part_2/ISIC_0030259.jpg  \n",
            "  inflating: ham10000_images_part_2/ISIC_0030260.jpg  \n",
            "  inflating: ham10000_images_part_2/ISIC_0030261.jpg  \n",
            "  inflating: ham10000_images_part_2/ISIC_0030262.jpg  \n",
            "  inflating: ham10000_images_part_2/ISIC_0030263.jpg  \n",
            "  inflating: ham10000_images_part_2/ISIC_0030264.jpg  \n",
            "  inflating: ham10000_images_part_2/ISIC_0030265.jpg  \n",
            "  inflating: ham10000_images_part_2/ISIC_0030266.jpg  \n",
            "  inflating: ham10000_images_part_2/ISIC_0030267.jpg  \n",
            "  inflating: ham10000_images_part_2/ISIC_0030268.jpg  \n",
            "  inflating: ham10000_images_part_2/ISIC_0030269.jpg  \n",
            "  inflating: ham10000_images_part_2/ISIC_0030270.jpg  \n",
            "  inflating: ham10000_images_part_2/ISIC_0030271.jpg  \n",
            "  inflating: ham10000_images_part_2/ISIC_0030272.jpg  \n",
            "  inflating: ham10000_images_part_2/ISIC_0030273.jpg  \n",
            "  inflating: ham10000_images_part_2/ISIC_0030274.jpg  \n",
            "  inflating: ham10000_images_part_2/ISIC_0030275.jpg  \n",
            "  inflating: ham10000_images_part_2/ISIC_0030276.jpg  \n",
            "  inflating: ham10000_images_part_2/ISIC_0030277.jpg  \n",
            "  inflating: ham10000_images_part_2/ISIC_0030278.jpg  \n",
            "  inflating: ham10000_images_part_2/ISIC_0030279.jpg  \n",
            "  inflating: ham10000_images_part_2/ISIC_0030280.jpg  \n",
            "  inflating: ham10000_images_part_2/ISIC_0030281.jpg  \n",
            "  inflating: ham10000_images_part_2/ISIC_0030282.jpg  \n",
            "  inflating: ham10000_images_part_2/ISIC_0030283.jpg  \n",
            "  inflating: ham10000_images_part_2/ISIC_0030284.jpg  \n",
            "  inflating: ham10000_images_part_2/ISIC_0030285.jpg  \n",
            "  inflating: ham10000_images_part_2/ISIC_0030286.jpg  \n",
            "  inflating: ham10000_images_part_2/ISIC_0030287.jpg  \n",
            "  inflating: ham10000_images_part_2/ISIC_0030288.jpg  \n",
            "  inflating: ham10000_images_part_2/ISIC_0030289.jpg  \n",
            "  inflating: ham10000_images_part_2/ISIC_0030290.jpg  \n",
            "  inflating: ham10000_images_part_2/ISIC_0030291.jpg  \n",
            "  inflating: ham10000_images_part_2/ISIC_0030292.jpg  \n",
            "  inflating: ham10000_images_part_2/ISIC_0030293.jpg  \n",
            "  inflating: ham10000_images_part_2/ISIC_0030294.jpg  \n",
            "  inflating: ham10000_images_part_2/ISIC_0030295.jpg  \n",
            "  inflating: ham10000_images_part_2/ISIC_0030296.jpg  \n",
            "  inflating: ham10000_images_part_2/ISIC_0030297.jpg  \n",
            "  inflating: ham10000_images_part_2/ISIC_0030298.jpg  \n",
            "  inflating: ham10000_images_part_2/ISIC_0030299.jpg  \n",
            "  inflating: ham10000_images_part_2/ISIC_0030300.jpg  \n",
            "  inflating: ham10000_images_part_2/ISIC_0030301.jpg  \n",
            "  inflating: ham10000_images_part_2/ISIC_0030302.jpg  \n",
            "  inflating: ham10000_images_part_2/ISIC_0030303.jpg  \n",
            "  inflating: ham10000_images_part_2/ISIC_0030304.jpg  \n",
            "  inflating: ham10000_images_part_2/ISIC_0030305.jpg  \n",
            "  inflating: ham10000_images_part_2/ISIC_0030306.jpg  \n",
            "  inflating: ham10000_images_part_2/ISIC_0030307.jpg  \n",
            "  inflating: ham10000_images_part_2/ISIC_0030308.jpg  \n",
            "  inflating: ham10000_images_part_2/ISIC_0030309.jpg  \n",
            "  inflating: ham10000_images_part_2/ISIC_0030310.jpg  \n",
            "  inflating: ham10000_images_part_2/ISIC_0030311.jpg  \n",
            "  inflating: ham10000_images_part_2/ISIC_0030312.jpg  \n",
            "  inflating: ham10000_images_part_2/ISIC_0030313.jpg  \n",
            "  inflating: ham10000_images_part_2/ISIC_0030314.jpg  \n",
            "  inflating: ham10000_images_part_2/ISIC_0030315.jpg  \n",
            "  inflating: ham10000_images_part_2/ISIC_0030316.jpg  \n",
            "  inflating: ham10000_images_part_2/ISIC_0030317.jpg  \n",
            "  inflating: ham10000_images_part_2/ISIC_0030318.jpg  \n",
            "  inflating: ham10000_images_part_2/ISIC_0030319.jpg  \n",
            "  inflating: ham10000_images_part_2/ISIC_0030320.jpg  \n",
            "  inflating: ham10000_images_part_2/ISIC_0030321.jpg  \n",
            "  inflating: ham10000_images_part_2/ISIC_0030322.jpg  \n",
            "  inflating: ham10000_images_part_2/ISIC_0030323.jpg  \n",
            "  inflating: ham10000_images_part_2/ISIC_0030324.jpg  \n",
            "  inflating: ham10000_images_part_2/ISIC_0030325.jpg  \n",
            "  inflating: ham10000_images_part_2/ISIC_0030326.jpg  \n",
            "  inflating: ham10000_images_part_2/ISIC_0030327.jpg  \n",
            "  inflating: ham10000_images_part_2/ISIC_0030328.jpg  \n",
            "  inflating: ham10000_images_part_2/ISIC_0030329.jpg  \n",
            "  inflating: ham10000_images_part_2/ISIC_0030330.jpg  \n",
            "  inflating: ham10000_images_part_2/ISIC_0030331.jpg  \n",
            "  inflating: ham10000_images_part_2/ISIC_0030332.jpg  \n",
            "  inflating: ham10000_images_part_2/ISIC_0030333.jpg  \n",
            "  inflating: ham10000_images_part_2/ISIC_0030334.jpg  \n",
            "  inflating: ham10000_images_part_2/ISIC_0030335.jpg  \n",
            "  inflating: ham10000_images_part_2/ISIC_0030336.jpg  \n",
            "  inflating: ham10000_images_part_2/ISIC_0030337.jpg  \n",
            "  inflating: ham10000_images_part_2/ISIC_0030338.jpg  \n",
            "  inflating: ham10000_images_part_2/ISIC_0030339.jpg  \n",
            "  inflating: ham10000_images_part_2/ISIC_0030340.jpg  \n",
            "  inflating: ham10000_images_part_2/ISIC_0030341.jpg  \n",
            "  inflating: ham10000_images_part_2/ISIC_0030342.jpg  \n",
            "  inflating: ham10000_images_part_2/ISIC_0030343.jpg  \n",
            "  inflating: ham10000_images_part_2/ISIC_0030344.jpg  \n",
            "  inflating: ham10000_images_part_2/ISIC_0030345.jpg  \n",
            "  inflating: ham10000_images_part_2/ISIC_0030346.jpg  \n",
            "  inflating: ham10000_images_part_2/ISIC_0030347.jpg  \n",
            "  inflating: ham10000_images_part_2/ISIC_0030348.jpg  \n",
            "  inflating: ham10000_images_part_2/ISIC_0030349.jpg  \n",
            "  inflating: ham10000_images_part_2/ISIC_0030350.jpg  \n",
            "  inflating: ham10000_images_part_2/ISIC_0030351.jpg  \n",
            "  inflating: ham10000_images_part_2/ISIC_0030352.jpg  \n",
            "  inflating: ham10000_images_part_2/ISIC_0030353.jpg  \n",
            "  inflating: ham10000_images_part_2/ISIC_0030354.jpg  \n",
            "  inflating: ham10000_images_part_2/ISIC_0030355.jpg  \n",
            "  inflating: ham10000_images_part_2/ISIC_0030356.jpg  \n",
            "  inflating: ham10000_images_part_2/ISIC_0030357.jpg  \n",
            "  inflating: ham10000_images_part_2/ISIC_0030358.jpg  \n",
            "  inflating: ham10000_images_part_2/ISIC_0030359.jpg  \n",
            "  inflating: ham10000_images_part_2/ISIC_0030360.jpg  \n",
            "  inflating: ham10000_images_part_2/ISIC_0030361.jpg  \n",
            "  inflating: ham10000_images_part_2/ISIC_0030362.jpg  \n",
            "  inflating: ham10000_images_part_2/ISIC_0030363.jpg  \n",
            "  inflating: ham10000_images_part_2/ISIC_0030364.jpg  \n",
            "  inflating: ham10000_images_part_2/ISIC_0030365.jpg  \n",
            "  inflating: ham10000_images_part_2/ISIC_0030366.jpg  \n",
            "  inflating: ham10000_images_part_2/ISIC_0030367.jpg  \n",
            "  inflating: ham10000_images_part_2/ISIC_0030368.jpg  \n",
            "  inflating: ham10000_images_part_2/ISIC_0030369.jpg  \n",
            "  inflating: ham10000_images_part_2/ISIC_0030370.jpg  \n",
            "  inflating: ham10000_images_part_2/ISIC_0030371.jpg  \n",
            "  inflating: ham10000_images_part_2/ISIC_0030372.jpg  \n",
            "  inflating: ham10000_images_part_2/ISIC_0030373.jpg  \n",
            "  inflating: ham10000_images_part_2/ISIC_0030374.jpg  \n",
            "  inflating: ham10000_images_part_2/ISIC_0030375.jpg  \n",
            "  inflating: ham10000_images_part_2/ISIC_0030376.jpg  \n",
            "  inflating: ham10000_images_part_2/ISIC_0030377.jpg  \n",
            "  inflating: ham10000_images_part_2/ISIC_0030378.jpg  \n",
            "  inflating: ham10000_images_part_2/ISIC_0030379.jpg  \n",
            "  inflating: ham10000_images_part_2/ISIC_0030380.jpg  \n",
            "  inflating: ham10000_images_part_2/ISIC_0030381.jpg  \n",
            "  inflating: ham10000_images_part_2/ISIC_0030382.jpg  \n",
            "  inflating: ham10000_images_part_2/ISIC_0030383.jpg  \n",
            "  inflating: ham10000_images_part_2/ISIC_0030384.jpg  \n",
            "  inflating: ham10000_images_part_2/ISIC_0030385.jpg  \n",
            "  inflating: ham10000_images_part_2/ISIC_0030386.jpg  \n",
            "  inflating: ham10000_images_part_2/ISIC_0030387.jpg  \n",
            "  inflating: ham10000_images_part_2/ISIC_0030388.jpg  \n",
            "  inflating: ham10000_images_part_2/ISIC_0030389.jpg  \n",
            "  inflating: ham10000_images_part_2/ISIC_0030390.jpg  \n",
            "  inflating: ham10000_images_part_2/ISIC_0030391.jpg  \n",
            "  inflating: ham10000_images_part_2/ISIC_0030392.jpg  \n",
            "  inflating: ham10000_images_part_2/ISIC_0030393.jpg  \n",
            "  inflating: ham10000_images_part_2/ISIC_0030394.jpg  \n",
            "  inflating: ham10000_images_part_2/ISIC_0030395.jpg  \n",
            "  inflating: ham10000_images_part_2/ISIC_0030396.jpg  \n",
            "  inflating: ham10000_images_part_2/ISIC_0030397.jpg  \n",
            "  inflating: ham10000_images_part_2/ISIC_0030398.jpg  \n",
            "  inflating: ham10000_images_part_2/ISIC_0030399.jpg  \n",
            "  inflating: ham10000_images_part_2/ISIC_0030400.jpg  \n",
            "  inflating: ham10000_images_part_2/ISIC_0030401.jpg  \n",
            "  inflating: ham10000_images_part_2/ISIC_0030402.jpg  \n",
            "  inflating: ham10000_images_part_2/ISIC_0030403.jpg  \n",
            "  inflating: ham10000_images_part_2/ISIC_0030404.jpg  \n",
            "  inflating: ham10000_images_part_2/ISIC_0030405.jpg  \n",
            "  inflating: ham10000_images_part_2/ISIC_0030406.jpg  \n",
            "  inflating: ham10000_images_part_2/ISIC_0030407.jpg  \n",
            "  inflating: ham10000_images_part_2/ISIC_0030408.jpg  \n",
            "  inflating: ham10000_images_part_2/ISIC_0030409.jpg  \n",
            "  inflating: ham10000_images_part_2/ISIC_0030410.jpg  \n",
            "  inflating: ham10000_images_part_2/ISIC_0030411.jpg  \n",
            "  inflating: ham10000_images_part_2/ISIC_0030412.jpg  \n",
            "  inflating: ham10000_images_part_2/ISIC_0030413.jpg  \n",
            "  inflating: ham10000_images_part_2/ISIC_0030414.jpg  \n",
            "  inflating: ham10000_images_part_2/ISIC_0030415.jpg  \n",
            "  inflating: ham10000_images_part_2/ISIC_0030416.jpg  \n",
            "  inflating: ham10000_images_part_2/ISIC_0030417.jpg  \n",
            "  inflating: ham10000_images_part_2/ISIC_0030418.jpg  \n",
            "  inflating: ham10000_images_part_2/ISIC_0030419.jpg  \n",
            "  inflating: ham10000_images_part_2/ISIC_0030420.jpg  \n",
            "  inflating: ham10000_images_part_2/ISIC_0030421.jpg  \n",
            "  inflating: ham10000_images_part_2/ISIC_0030422.jpg  \n",
            "  inflating: ham10000_images_part_2/ISIC_0030423.jpg  \n",
            "  inflating: ham10000_images_part_2/ISIC_0030424.jpg  \n",
            "  inflating: ham10000_images_part_2/ISIC_0030425.jpg  \n",
            "  inflating: ham10000_images_part_2/ISIC_0030426.jpg  \n",
            "  inflating: ham10000_images_part_2/ISIC_0030427.jpg  \n",
            "  inflating: ham10000_images_part_2/ISIC_0030428.jpg  \n",
            "  inflating: ham10000_images_part_2/ISIC_0030429.jpg  \n",
            "  inflating: ham10000_images_part_2/ISIC_0030430.jpg  \n",
            "  inflating: ham10000_images_part_2/ISIC_0030431.jpg  \n",
            "  inflating: ham10000_images_part_2/ISIC_0030432.jpg  \n",
            "  inflating: ham10000_images_part_2/ISIC_0030433.jpg  \n",
            "  inflating: ham10000_images_part_2/ISIC_0030434.jpg  \n",
            "  inflating: ham10000_images_part_2/ISIC_0030435.jpg  \n",
            "  inflating: ham10000_images_part_2/ISIC_0030436.jpg  \n",
            "  inflating: ham10000_images_part_2/ISIC_0030437.jpg  \n",
            "  inflating: ham10000_images_part_2/ISIC_0030438.jpg  \n",
            "  inflating: ham10000_images_part_2/ISIC_0030439.jpg  \n",
            "  inflating: ham10000_images_part_2/ISIC_0030440.jpg  \n",
            "  inflating: ham10000_images_part_2/ISIC_0030441.jpg  \n",
            "  inflating: ham10000_images_part_2/ISIC_0030442.jpg  \n",
            "  inflating: ham10000_images_part_2/ISIC_0030443.jpg  \n",
            "  inflating: ham10000_images_part_2/ISIC_0030444.jpg  \n",
            "  inflating: ham10000_images_part_2/ISIC_0030445.jpg  \n",
            "  inflating: ham10000_images_part_2/ISIC_0030446.jpg  \n",
            "  inflating: ham10000_images_part_2/ISIC_0030447.jpg  \n",
            "  inflating: ham10000_images_part_2/ISIC_0030448.jpg  \n",
            "  inflating: ham10000_images_part_2/ISIC_0030449.jpg  \n",
            "  inflating: ham10000_images_part_2/ISIC_0030450.jpg  \n",
            "  inflating: ham10000_images_part_2/ISIC_0030451.jpg  \n",
            "  inflating: ham10000_images_part_2/ISIC_0030452.jpg  \n",
            "  inflating: ham10000_images_part_2/ISIC_0030453.jpg  \n",
            "  inflating: ham10000_images_part_2/ISIC_0030454.jpg  \n",
            "  inflating: ham10000_images_part_2/ISIC_0030455.jpg  \n",
            "  inflating: ham10000_images_part_2/ISIC_0030456.jpg  \n",
            "  inflating: ham10000_images_part_2/ISIC_0030457.jpg  \n",
            "  inflating: ham10000_images_part_2/ISIC_0030458.jpg  \n",
            "  inflating: ham10000_images_part_2/ISIC_0030459.jpg  \n",
            "  inflating: ham10000_images_part_2/ISIC_0030460.jpg  \n",
            "  inflating: ham10000_images_part_2/ISIC_0030461.jpg  \n",
            "  inflating: ham10000_images_part_2/ISIC_0030462.jpg  \n",
            "  inflating: ham10000_images_part_2/ISIC_0030463.jpg  \n",
            "  inflating: ham10000_images_part_2/ISIC_0030464.jpg  \n",
            "  inflating: ham10000_images_part_2/ISIC_0030465.jpg  \n",
            "  inflating: ham10000_images_part_2/ISIC_0030466.jpg  \n",
            "  inflating: ham10000_images_part_2/ISIC_0030467.jpg  \n",
            "  inflating: ham10000_images_part_2/ISIC_0030468.jpg  \n",
            "  inflating: ham10000_images_part_2/ISIC_0030469.jpg  \n",
            "  inflating: ham10000_images_part_2/ISIC_0030470.jpg  \n",
            "  inflating: ham10000_images_part_2/ISIC_0030471.jpg  \n",
            "  inflating: ham10000_images_part_2/ISIC_0030472.jpg  \n",
            "  inflating: ham10000_images_part_2/ISIC_0030473.jpg  \n",
            "  inflating: ham10000_images_part_2/ISIC_0030474.jpg  \n",
            "  inflating: ham10000_images_part_2/ISIC_0030475.jpg  \n",
            "  inflating: ham10000_images_part_2/ISIC_0030476.jpg  \n",
            "  inflating: ham10000_images_part_2/ISIC_0030477.jpg  \n",
            "  inflating: ham10000_images_part_2/ISIC_0030478.jpg  \n",
            "  inflating: ham10000_images_part_2/ISIC_0030479.jpg  \n",
            "  inflating: ham10000_images_part_2/ISIC_0030480.jpg  \n",
            "  inflating: ham10000_images_part_2/ISIC_0030481.jpg  \n",
            "  inflating: ham10000_images_part_2/ISIC_0030482.jpg  \n",
            "  inflating: ham10000_images_part_2/ISIC_0030483.jpg  \n",
            "  inflating: ham10000_images_part_2/ISIC_0030484.jpg  \n",
            "  inflating: ham10000_images_part_2/ISIC_0030485.jpg  \n",
            "  inflating: ham10000_images_part_2/ISIC_0030486.jpg  \n",
            "  inflating: ham10000_images_part_2/ISIC_0030487.jpg  \n",
            "  inflating: ham10000_images_part_2/ISIC_0030488.jpg  \n",
            "  inflating: ham10000_images_part_2/ISIC_0030489.jpg  \n",
            "  inflating: ham10000_images_part_2/ISIC_0030490.jpg  \n",
            "  inflating: ham10000_images_part_2/ISIC_0030491.jpg  \n",
            "  inflating: ham10000_images_part_2/ISIC_0030492.jpg  \n",
            "  inflating: ham10000_images_part_2/ISIC_0030493.jpg  \n",
            "  inflating: ham10000_images_part_2/ISIC_0030494.jpg  \n",
            "  inflating: ham10000_images_part_2/ISIC_0030495.jpg  \n",
            "  inflating: ham10000_images_part_2/ISIC_0030496.jpg  \n",
            "  inflating: ham10000_images_part_2/ISIC_0030497.jpg  \n",
            "  inflating: ham10000_images_part_2/ISIC_0030498.jpg  \n",
            "  inflating: ham10000_images_part_2/ISIC_0030499.jpg  \n",
            "  inflating: ham10000_images_part_2/ISIC_0030500.jpg  \n",
            "  inflating: ham10000_images_part_2/ISIC_0030501.jpg  \n",
            "  inflating: ham10000_images_part_2/ISIC_0030502.jpg  \n",
            "  inflating: ham10000_images_part_2/ISIC_0030503.jpg  \n",
            "  inflating: ham10000_images_part_2/ISIC_0030504.jpg  \n",
            "  inflating: ham10000_images_part_2/ISIC_0030505.jpg  \n",
            "  inflating: ham10000_images_part_2/ISIC_0030506.jpg  \n",
            "  inflating: ham10000_images_part_2/ISIC_0030507.jpg  \n",
            "  inflating: ham10000_images_part_2/ISIC_0030508.jpg  \n",
            "  inflating: ham10000_images_part_2/ISIC_0030509.jpg  \n",
            "  inflating: ham10000_images_part_2/ISIC_0030510.jpg  \n",
            "  inflating: ham10000_images_part_2/ISIC_0030511.jpg  \n",
            "  inflating: ham10000_images_part_2/ISIC_0030512.jpg  \n",
            "  inflating: ham10000_images_part_2/ISIC_0030513.jpg  \n",
            "  inflating: ham10000_images_part_2/ISIC_0030514.jpg  \n",
            "  inflating: ham10000_images_part_2/ISIC_0030515.jpg  \n",
            "  inflating: ham10000_images_part_2/ISIC_0030516.jpg  \n",
            "  inflating: ham10000_images_part_2/ISIC_0030517.jpg  \n",
            "  inflating: ham10000_images_part_2/ISIC_0030518.jpg  \n",
            "  inflating: ham10000_images_part_2/ISIC_0030519.jpg  \n",
            "  inflating: ham10000_images_part_2/ISIC_0030520.jpg  \n",
            "  inflating: ham10000_images_part_2/ISIC_0030521.jpg  \n",
            "  inflating: ham10000_images_part_2/ISIC_0030522.jpg  \n",
            "  inflating: ham10000_images_part_2/ISIC_0030523.jpg  \n",
            "  inflating: ham10000_images_part_2/ISIC_0030524.jpg  \n",
            "  inflating: ham10000_images_part_2/ISIC_0030525.jpg  \n",
            "  inflating: ham10000_images_part_2/ISIC_0030526.jpg  \n",
            "  inflating: ham10000_images_part_2/ISIC_0030527.jpg  \n",
            "  inflating: ham10000_images_part_2/ISIC_0030528.jpg  \n",
            "  inflating: ham10000_images_part_2/ISIC_0030529.jpg  \n",
            "  inflating: ham10000_images_part_2/ISIC_0030530.jpg  \n",
            "  inflating: ham10000_images_part_2/ISIC_0030531.jpg  \n",
            "  inflating: ham10000_images_part_2/ISIC_0030532.jpg  \n",
            "  inflating: ham10000_images_part_2/ISIC_0030533.jpg  \n",
            "  inflating: ham10000_images_part_2/ISIC_0030534.jpg  \n",
            "  inflating: ham10000_images_part_2/ISIC_0030535.jpg  \n",
            "  inflating: ham10000_images_part_2/ISIC_0030536.jpg  \n",
            "  inflating: ham10000_images_part_2/ISIC_0030537.jpg  \n",
            "  inflating: ham10000_images_part_2/ISIC_0030538.jpg  \n",
            "  inflating: ham10000_images_part_2/ISIC_0030539.jpg  \n",
            "  inflating: ham10000_images_part_2/ISIC_0030540.jpg  \n",
            "  inflating: ham10000_images_part_2/ISIC_0030541.jpg  \n",
            "  inflating: ham10000_images_part_2/ISIC_0030542.jpg  \n",
            "  inflating: ham10000_images_part_2/ISIC_0030543.jpg  \n",
            "  inflating: ham10000_images_part_2/ISIC_0030544.jpg  \n",
            "  inflating: ham10000_images_part_2/ISIC_0030545.jpg  \n",
            "  inflating: ham10000_images_part_2/ISIC_0030546.jpg  \n",
            "  inflating: ham10000_images_part_2/ISIC_0030547.jpg  \n",
            "  inflating: ham10000_images_part_2/ISIC_0030548.jpg  \n",
            "  inflating: ham10000_images_part_2/ISIC_0030549.jpg  \n",
            "  inflating: ham10000_images_part_2/ISIC_0030550.jpg  \n",
            "  inflating: ham10000_images_part_2/ISIC_0030551.jpg  \n",
            "  inflating: ham10000_images_part_2/ISIC_0030552.jpg  \n",
            "  inflating: ham10000_images_part_2/ISIC_0030553.jpg  \n",
            "  inflating: ham10000_images_part_2/ISIC_0030554.jpg  \n",
            "  inflating: ham10000_images_part_2/ISIC_0030555.jpg  \n",
            "  inflating: ham10000_images_part_2/ISIC_0030556.jpg  \n",
            "  inflating: ham10000_images_part_2/ISIC_0030557.jpg  \n",
            "  inflating: ham10000_images_part_2/ISIC_0030558.jpg  \n",
            "  inflating: ham10000_images_part_2/ISIC_0030559.jpg  \n",
            "  inflating: ham10000_images_part_2/ISIC_0030560.jpg  \n",
            "  inflating: ham10000_images_part_2/ISIC_0030561.jpg  \n",
            "  inflating: ham10000_images_part_2/ISIC_0030562.jpg  \n",
            "  inflating: ham10000_images_part_2/ISIC_0030563.jpg  \n",
            "  inflating: ham10000_images_part_2/ISIC_0030564.jpg  \n",
            "  inflating: ham10000_images_part_2/ISIC_0030565.jpg  \n",
            "  inflating: ham10000_images_part_2/ISIC_0030566.jpg  \n",
            "  inflating: ham10000_images_part_2/ISIC_0030567.jpg  \n",
            "  inflating: ham10000_images_part_2/ISIC_0030568.jpg  \n",
            "  inflating: ham10000_images_part_2/ISIC_0030569.jpg  \n",
            "  inflating: ham10000_images_part_2/ISIC_0030570.jpg  \n",
            "  inflating: ham10000_images_part_2/ISIC_0030571.jpg  \n",
            "  inflating: ham10000_images_part_2/ISIC_0030572.jpg  \n",
            "  inflating: ham10000_images_part_2/ISIC_0030573.jpg  \n",
            "  inflating: ham10000_images_part_2/ISIC_0030574.jpg  \n",
            "  inflating: ham10000_images_part_2/ISIC_0030575.jpg  \n",
            "  inflating: ham10000_images_part_2/ISIC_0030576.jpg  \n",
            "  inflating: ham10000_images_part_2/ISIC_0030577.jpg  \n",
            "  inflating: ham10000_images_part_2/ISIC_0030578.jpg  \n",
            "  inflating: ham10000_images_part_2/ISIC_0030579.jpg  \n",
            "  inflating: ham10000_images_part_2/ISIC_0030580.jpg  \n",
            "  inflating: ham10000_images_part_2/ISIC_0030581.jpg  \n",
            "  inflating: ham10000_images_part_2/ISIC_0030582.jpg  \n",
            "  inflating: ham10000_images_part_2/ISIC_0030583.jpg  \n",
            "  inflating: ham10000_images_part_2/ISIC_0030584.jpg  \n",
            "  inflating: ham10000_images_part_2/ISIC_0030585.jpg  \n",
            "  inflating: ham10000_images_part_2/ISIC_0030586.jpg  \n",
            "  inflating: ham10000_images_part_2/ISIC_0030587.jpg  \n",
            "  inflating: ham10000_images_part_2/ISIC_0030588.jpg  \n",
            "  inflating: ham10000_images_part_2/ISIC_0030589.jpg  \n",
            "  inflating: ham10000_images_part_2/ISIC_0030590.jpg  \n",
            "  inflating: ham10000_images_part_2/ISIC_0030591.jpg  \n",
            "  inflating: ham10000_images_part_2/ISIC_0030592.jpg  \n",
            "  inflating: ham10000_images_part_2/ISIC_0030593.jpg  \n",
            "  inflating: ham10000_images_part_2/ISIC_0030594.jpg  \n",
            "  inflating: ham10000_images_part_2/ISIC_0030595.jpg  \n",
            "  inflating: ham10000_images_part_2/ISIC_0030596.jpg  \n",
            "  inflating: ham10000_images_part_2/ISIC_0030597.jpg  \n",
            "  inflating: ham10000_images_part_2/ISIC_0030598.jpg  \n",
            "  inflating: ham10000_images_part_2/ISIC_0030599.jpg  \n",
            "  inflating: ham10000_images_part_2/ISIC_0030600.jpg  \n",
            "  inflating: ham10000_images_part_2/ISIC_0030601.jpg  \n",
            "  inflating: ham10000_images_part_2/ISIC_0030602.jpg  \n",
            "  inflating: ham10000_images_part_2/ISIC_0030603.jpg  \n",
            "  inflating: ham10000_images_part_2/ISIC_0030604.jpg  \n",
            "  inflating: ham10000_images_part_2/ISIC_0030605.jpg  \n",
            "  inflating: ham10000_images_part_2/ISIC_0030606.jpg  \n",
            "  inflating: ham10000_images_part_2/ISIC_0030607.jpg  \n",
            "  inflating: ham10000_images_part_2/ISIC_0030608.jpg  \n",
            "  inflating: ham10000_images_part_2/ISIC_0030609.jpg  \n",
            "  inflating: ham10000_images_part_2/ISIC_0030610.jpg  \n",
            "  inflating: ham10000_images_part_2/ISIC_0030611.jpg  \n",
            "  inflating: ham10000_images_part_2/ISIC_0030612.jpg  \n",
            "  inflating: ham10000_images_part_2/ISIC_0030613.jpg  \n",
            "  inflating: ham10000_images_part_2/ISIC_0030614.jpg  \n",
            "  inflating: ham10000_images_part_2/ISIC_0030615.jpg  \n",
            "  inflating: ham10000_images_part_2/ISIC_0030616.jpg  \n",
            "  inflating: ham10000_images_part_2/ISIC_0030617.jpg  \n",
            "  inflating: ham10000_images_part_2/ISIC_0030618.jpg  \n",
            "  inflating: ham10000_images_part_2/ISIC_0030619.jpg  \n",
            "  inflating: ham10000_images_part_2/ISIC_0030620.jpg  \n",
            "  inflating: ham10000_images_part_2/ISIC_0030621.jpg  \n",
            "  inflating: ham10000_images_part_2/ISIC_0030622.jpg  \n",
            "  inflating: ham10000_images_part_2/ISIC_0030623.jpg  \n",
            "  inflating: ham10000_images_part_2/ISIC_0030624.jpg  \n",
            "  inflating: ham10000_images_part_2/ISIC_0030625.jpg  \n",
            "  inflating: ham10000_images_part_2/ISIC_0030626.jpg  \n",
            "  inflating: ham10000_images_part_2/ISIC_0030627.jpg  \n",
            "  inflating: ham10000_images_part_2/ISIC_0030628.jpg  \n",
            "  inflating: ham10000_images_part_2/ISIC_0030629.jpg  \n",
            "  inflating: ham10000_images_part_2/ISIC_0030630.jpg  \n",
            "  inflating: ham10000_images_part_2/ISIC_0030631.jpg  \n",
            "  inflating: ham10000_images_part_2/ISIC_0030632.jpg  \n",
            "  inflating: ham10000_images_part_2/ISIC_0030633.jpg  \n",
            "  inflating: ham10000_images_part_2/ISIC_0030634.jpg  \n",
            "  inflating: ham10000_images_part_2/ISIC_0030635.jpg  \n",
            "  inflating: ham10000_images_part_2/ISIC_0030636.jpg  \n",
            "  inflating: ham10000_images_part_2/ISIC_0030637.jpg  \n",
            "  inflating: ham10000_images_part_2/ISIC_0030638.jpg  \n",
            "  inflating: ham10000_images_part_2/ISIC_0030639.jpg  \n",
            "  inflating: ham10000_images_part_2/ISIC_0030640.jpg  \n",
            "  inflating: ham10000_images_part_2/ISIC_0030641.jpg  \n",
            "  inflating: ham10000_images_part_2/ISIC_0030642.jpg  \n",
            "  inflating: ham10000_images_part_2/ISIC_0030643.jpg  \n",
            "  inflating: ham10000_images_part_2/ISIC_0030644.jpg  \n",
            "  inflating: ham10000_images_part_2/ISIC_0030645.jpg  \n",
            "  inflating: ham10000_images_part_2/ISIC_0030646.jpg  \n",
            "  inflating: ham10000_images_part_2/ISIC_0030647.jpg  \n",
            "  inflating: ham10000_images_part_2/ISIC_0030648.jpg  \n",
            "  inflating: ham10000_images_part_2/ISIC_0030649.jpg  \n",
            "  inflating: ham10000_images_part_2/ISIC_0030650.jpg  \n",
            "  inflating: ham10000_images_part_2/ISIC_0030651.jpg  \n",
            "  inflating: ham10000_images_part_2/ISIC_0030652.jpg  \n",
            "  inflating: ham10000_images_part_2/ISIC_0030653.jpg  \n",
            "  inflating: ham10000_images_part_2/ISIC_0030654.jpg  \n",
            "  inflating: ham10000_images_part_2/ISIC_0030655.jpg  \n",
            "  inflating: ham10000_images_part_2/ISIC_0030656.jpg  \n",
            "  inflating: ham10000_images_part_2/ISIC_0030657.jpg  \n",
            "  inflating: ham10000_images_part_2/ISIC_0030658.jpg  \n",
            "  inflating: ham10000_images_part_2/ISIC_0030659.jpg  \n",
            "  inflating: ham10000_images_part_2/ISIC_0030660.jpg  \n",
            "  inflating: ham10000_images_part_2/ISIC_0030661.jpg  \n",
            "  inflating: ham10000_images_part_2/ISIC_0030662.jpg  \n",
            "  inflating: ham10000_images_part_2/ISIC_0030663.jpg  \n",
            "  inflating: ham10000_images_part_2/ISIC_0030664.jpg  \n",
            "  inflating: ham10000_images_part_2/ISIC_0030665.jpg  \n",
            "  inflating: ham10000_images_part_2/ISIC_0030666.jpg  \n",
            "  inflating: ham10000_images_part_2/ISIC_0030667.jpg  \n",
            "  inflating: ham10000_images_part_2/ISIC_0030668.jpg  \n",
            "  inflating: ham10000_images_part_2/ISIC_0030669.jpg  \n",
            "  inflating: ham10000_images_part_2/ISIC_0030670.jpg  \n",
            "  inflating: ham10000_images_part_2/ISIC_0030671.jpg  \n",
            "  inflating: ham10000_images_part_2/ISIC_0030672.jpg  \n",
            "  inflating: ham10000_images_part_2/ISIC_0030673.jpg  \n",
            "  inflating: ham10000_images_part_2/ISIC_0030674.jpg  \n",
            "  inflating: ham10000_images_part_2/ISIC_0030675.jpg  \n",
            "  inflating: ham10000_images_part_2/ISIC_0030676.jpg  \n",
            "  inflating: ham10000_images_part_2/ISIC_0030677.jpg  \n",
            "  inflating: ham10000_images_part_2/ISIC_0030678.jpg  \n",
            "  inflating: ham10000_images_part_2/ISIC_0030679.jpg  \n",
            "  inflating: ham10000_images_part_2/ISIC_0030680.jpg  \n",
            "  inflating: ham10000_images_part_2/ISIC_0030681.jpg  \n",
            "  inflating: ham10000_images_part_2/ISIC_0030682.jpg  \n",
            "  inflating: ham10000_images_part_2/ISIC_0030683.jpg  \n",
            "  inflating: ham10000_images_part_2/ISIC_0030684.jpg  \n",
            "  inflating: ham10000_images_part_2/ISIC_0030685.jpg  \n",
            "  inflating: ham10000_images_part_2/ISIC_0030686.jpg  \n",
            "  inflating: ham10000_images_part_2/ISIC_0030687.jpg  \n",
            "  inflating: ham10000_images_part_2/ISIC_0030688.jpg  \n",
            "  inflating: ham10000_images_part_2/ISIC_0030689.jpg  \n",
            "  inflating: ham10000_images_part_2/ISIC_0030690.jpg  \n",
            "  inflating: ham10000_images_part_2/ISIC_0030691.jpg  \n",
            "  inflating: ham10000_images_part_2/ISIC_0030692.jpg  \n",
            "  inflating: ham10000_images_part_2/ISIC_0030693.jpg  \n",
            "  inflating: ham10000_images_part_2/ISIC_0030694.jpg  \n",
            "  inflating: ham10000_images_part_2/ISIC_0030695.jpg  \n",
            "  inflating: ham10000_images_part_2/ISIC_0030696.jpg  \n",
            "  inflating: ham10000_images_part_2/ISIC_0030697.jpg  \n",
            "  inflating: ham10000_images_part_2/ISIC_0030698.jpg  \n",
            "  inflating: ham10000_images_part_2/ISIC_0030699.jpg  \n",
            "  inflating: ham10000_images_part_2/ISIC_0030700.jpg  \n",
            "  inflating: ham10000_images_part_2/ISIC_0030701.jpg  \n",
            "  inflating: ham10000_images_part_2/ISIC_0030702.jpg  \n",
            "  inflating: ham10000_images_part_2/ISIC_0030703.jpg  \n",
            "  inflating: ham10000_images_part_2/ISIC_0030704.jpg  \n",
            "  inflating: ham10000_images_part_2/ISIC_0030705.jpg  \n",
            "  inflating: ham10000_images_part_2/ISIC_0030706.jpg  \n",
            "  inflating: ham10000_images_part_2/ISIC_0030707.jpg  \n",
            "  inflating: ham10000_images_part_2/ISIC_0030708.jpg  \n",
            "  inflating: ham10000_images_part_2/ISIC_0030709.jpg  \n",
            "  inflating: ham10000_images_part_2/ISIC_0030710.jpg  \n",
            "  inflating: ham10000_images_part_2/ISIC_0030711.jpg  \n",
            "  inflating: ham10000_images_part_2/ISIC_0030712.jpg  \n",
            "  inflating: ham10000_images_part_2/ISIC_0030713.jpg  \n",
            "  inflating: ham10000_images_part_2/ISIC_0030714.jpg  \n",
            "  inflating: ham10000_images_part_2/ISIC_0030715.jpg  \n",
            "  inflating: ham10000_images_part_2/ISIC_0030716.jpg  \n",
            "  inflating: ham10000_images_part_2/ISIC_0030717.jpg  \n",
            "  inflating: ham10000_images_part_2/ISIC_0030718.jpg  \n",
            "  inflating: ham10000_images_part_2/ISIC_0030719.jpg  \n",
            "  inflating: ham10000_images_part_2/ISIC_0030720.jpg  \n",
            "  inflating: ham10000_images_part_2/ISIC_0030721.jpg  \n",
            "  inflating: ham10000_images_part_2/ISIC_0030722.jpg  \n",
            "  inflating: ham10000_images_part_2/ISIC_0030723.jpg  \n",
            "  inflating: ham10000_images_part_2/ISIC_0030724.jpg  \n",
            "  inflating: ham10000_images_part_2/ISIC_0030725.jpg  \n",
            "  inflating: ham10000_images_part_2/ISIC_0030726.jpg  \n",
            "  inflating: ham10000_images_part_2/ISIC_0030727.jpg  \n",
            "  inflating: ham10000_images_part_2/ISIC_0030728.jpg  \n",
            "  inflating: ham10000_images_part_2/ISIC_0030729.jpg  \n",
            "  inflating: ham10000_images_part_2/ISIC_0030730.jpg  \n",
            "  inflating: ham10000_images_part_2/ISIC_0030731.jpg  \n",
            "  inflating: ham10000_images_part_2/ISIC_0030732.jpg  \n",
            "  inflating: ham10000_images_part_2/ISIC_0030733.jpg  \n",
            "  inflating: ham10000_images_part_2/ISIC_0030734.jpg  \n",
            "  inflating: ham10000_images_part_2/ISIC_0030735.jpg  \n",
            "  inflating: ham10000_images_part_2/ISIC_0030736.jpg  \n",
            "  inflating: ham10000_images_part_2/ISIC_0030737.jpg  \n",
            "  inflating: ham10000_images_part_2/ISIC_0030738.jpg  \n",
            "  inflating: ham10000_images_part_2/ISIC_0030739.jpg  \n",
            "  inflating: ham10000_images_part_2/ISIC_0030740.jpg  \n",
            "  inflating: ham10000_images_part_2/ISIC_0030741.jpg  \n",
            "  inflating: ham10000_images_part_2/ISIC_0030742.jpg  \n",
            "  inflating: ham10000_images_part_2/ISIC_0030743.jpg  \n",
            "  inflating: ham10000_images_part_2/ISIC_0030744.jpg  \n",
            "  inflating: ham10000_images_part_2/ISIC_0030745.jpg  \n",
            "  inflating: ham10000_images_part_2/ISIC_0030746.jpg  \n",
            "  inflating: ham10000_images_part_2/ISIC_0030747.jpg  \n",
            "  inflating: ham10000_images_part_2/ISIC_0030748.jpg  \n",
            "  inflating: ham10000_images_part_2/ISIC_0030749.jpg  \n",
            "  inflating: ham10000_images_part_2/ISIC_0030750.jpg  \n",
            "  inflating: ham10000_images_part_2/ISIC_0030751.jpg  \n",
            "  inflating: ham10000_images_part_2/ISIC_0030752.jpg  \n",
            "  inflating: ham10000_images_part_2/ISIC_0030753.jpg  \n",
            "  inflating: ham10000_images_part_2/ISIC_0030754.jpg  \n",
            "  inflating: ham10000_images_part_2/ISIC_0030755.jpg  \n",
            "  inflating: ham10000_images_part_2/ISIC_0030756.jpg  \n",
            "  inflating: ham10000_images_part_2/ISIC_0030757.jpg  \n",
            "  inflating: ham10000_images_part_2/ISIC_0030758.jpg  \n",
            "  inflating: ham10000_images_part_2/ISIC_0030759.jpg  \n",
            "  inflating: ham10000_images_part_2/ISIC_0030760.jpg  \n",
            "  inflating: ham10000_images_part_2/ISIC_0030761.jpg  \n",
            "  inflating: ham10000_images_part_2/ISIC_0030762.jpg  \n",
            "  inflating: ham10000_images_part_2/ISIC_0030763.jpg  \n",
            "  inflating: ham10000_images_part_2/ISIC_0030764.jpg  \n",
            "  inflating: ham10000_images_part_2/ISIC_0030765.jpg  \n",
            "  inflating: ham10000_images_part_2/ISIC_0030766.jpg  \n",
            "  inflating: ham10000_images_part_2/ISIC_0030767.jpg  \n",
            "  inflating: ham10000_images_part_2/ISIC_0030768.jpg  \n",
            "  inflating: ham10000_images_part_2/ISIC_0030769.jpg  \n",
            "  inflating: ham10000_images_part_2/ISIC_0030770.jpg  \n",
            "  inflating: ham10000_images_part_2/ISIC_0030771.jpg  \n",
            "  inflating: ham10000_images_part_2/ISIC_0030772.jpg  \n",
            "  inflating: ham10000_images_part_2/ISIC_0030773.jpg  \n",
            "  inflating: ham10000_images_part_2/ISIC_0030774.jpg  \n",
            "  inflating: ham10000_images_part_2/ISIC_0030775.jpg  \n",
            "  inflating: ham10000_images_part_2/ISIC_0030776.jpg  \n",
            "  inflating: ham10000_images_part_2/ISIC_0030777.jpg  \n",
            "  inflating: ham10000_images_part_2/ISIC_0030778.jpg  \n",
            "  inflating: ham10000_images_part_2/ISIC_0030779.jpg  \n",
            "  inflating: ham10000_images_part_2/ISIC_0030780.jpg  \n",
            "  inflating: ham10000_images_part_2/ISIC_0030781.jpg  \n",
            "  inflating: ham10000_images_part_2/ISIC_0030782.jpg  \n",
            "  inflating: ham10000_images_part_2/ISIC_0030783.jpg  \n",
            "  inflating: ham10000_images_part_2/ISIC_0030784.jpg  \n",
            "  inflating: ham10000_images_part_2/ISIC_0030785.jpg  \n",
            "  inflating: ham10000_images_part_2/ISIC_0030786.jpg  \n",
            "  inflating: ham10000_images_part_2/ISIC_0030787.jpg  \n",
            "  inflating: ham10000_images_part_2/ISIC_0030788.jpg  \n",
            "  inflating: ham10000_images_part_2/ISIC_0030789.jpg  \n",
            "  inflating: ham10000_images_part_2/ISIC_0030790.jpg  \n",
            "  inflating: ham10000_images_part_2/ISIC_0030791.jpg  \n",
            "  inflating: ham10000_images_part_2/ISIC_0030792.jpg  \n",
            "  inflating: ham10000_images_part_2/ISIC_0030793.jpg  \n",
            "  inflating: ham10000_images_part_2/ISIC_0030794.jpg  \n",
            "  inflating: ham10000_images_part_2/ISIC_0030795.jpg  \n",
            "  inflating: ham10000_images_part_2/ISIC_0030796.jpg  \n",
            "  inflating: ham10000_images_part_2/ISIC_0030797.jpg  \n",
            "  inflating: ham10000_images_part_2/ISIC_0030798.jpg  \n",
            "  inflating: ham10000_images_part_2/ISIC_0030799.jpg  \n",
            "  inflating: ham10000_images_part_2/ISIC_0030800.jpg  \n",
            "  inflating: ham10000_images_part_2/ISIC_0030801.jpg  \n",
            "  inflating: ham10000_images_part_2/ISIC_0030802.jpg  \n",
            "  inflating: ham10000_images_part_2/ISIC_0030803.jpg  \n",
            "  inflating: ham10000_images_part_2/ISIC_0030804.jpg  \n",
            "  inflating: ham10000_images_part_2/ISIC_0030805.jpg  \n",
            "  inflating: ham10000_images_part_2/ISIC_0030806.jpg  \n",
            "  inflating: ham10000_images_part_2/ISIC_0030807.jpg  \n",
            "  inflating: ham10000_images_part_2/ISIC_0030808.jpg  \n",
            "  inflating: ham10000_images_part_2/ISIC_0030809.jpg  \n",
            "  inflating: ham10000_images_part_2/ISIC_0030810.jpg  \n",
            "  inflating: ham10000_images_part_2/ISIC_0030811.jpg  \n",
            "  inflating: ham10000_images_part_2/ISIC_0030812.jpg  \n",
            "  inflating: ham10000_images_part_2/ISIC_0030813.jpg  \n",
            "  inflating: ham10000_images_part_2/ISIC_0030814.jpg  \n",
            "  inflating: ham10000_images_part_2/ISIC_0030815.jpg  \n",
            "  inflating: ham10000_images_part_2/ISIC_0030816.jpg  \n",
            "  inflating: ham10000_images_part_2/ISIC_0030817.jpg  \n",
            "  inflating: ham10000_images_part_2/ISIC_0030818.jpg  \n",
            "  inflating: ham10000_images_part_2/ISIC_0030819.jpg  \n",
            "  inflating: ham10000_images_part_2/ISIC_0030820.jpg  \n",
            "  inflating: ham10000_images_part_2/ISIC_0030821.jpg  \n",
            "  inflating: ham10000_images_part_2/ISIC_0030822.jpg  \n",
            "  inflating: ham10000_images_part_2/ISIC_0030823.jpg  \n",
            "  inflating: ham10000_images_part_2/ISIC_0030824.jpg  \n",
            "  inflating: ham10000_images_part_2/ISIC_0030825.jpg  \n",
            "  inflating: ham10000_images_part_2/ISIC_0030826.jpg  \n",
            "  inflating: ham10000_images_part_2/ISIC_0030827.jpg  \n",
            "  inflating: ham10000_images_part_2/ISIC_0030828.jpg  \n",
            "  inflating: ham10000_images_part_2/ISIC_0030829.jpg  \n",
            "  inflating: ham10000_images_part_2/ISIC_0030830.jpg  \n",
            "  inflating: ham10000_images_part_2/ISIC_0030831.jpg  \n",
            "  inflating: ham10000_images_part_2/ISIC_0030832.jpg  \n",
            "  inflating: ham10000_images_part_2/ISIC_0030833.jpg  \n",
            "  inflating: ham10000_images_part_2/ISIC_0030834.jpg  \n",
            "  inflating: ham10000_images_part_2/ISIC_0030835.jpg  \n",
            "  inflating: ham10000_images_part_2/ISIC_0030836.jpg  \n",
            "  inflating: ham10000_images_part_2/ISIC_0030837.jpg  \n",
            "  inflating: ham10000_images_part_2/ISIC_0030838.jpg  \n",
            "  inflating: ham10000_images_part_2/ISIC_0030839.jpg  \n",
            "  inflating: ham10000_images_part_2/ISIC_0030840.jpg  \n",
            "  inflating: ham10000_images_part_2/ISIC_0030841.jpg  \n",
            "  inflating: ham10000_images_part_2/ISIC_0030842.jpg  \n",
            "  inflating: ham10000_images_part_2/ISIC_0030843.jpg  \n",
            "  inflating: ham10000_images_part_2/ISIC_0030844.jpg  \n",
            "  inflating: ham10000_images_part_2/ISIC_0030845.jpg  \n",
            "  inflating: ham10000_images_part_2/ISIC_0030846.jpg  \n",
            "  inflating: ham10000_images_part_2/ISIC_0030847.jpg  \n",
            "  inflating: ham10000_images_part_2/ISIC_0030848.jpg  \n",
            "  inflating: ham10000_images_part_2/ISIC_0030849.jpg  \n",
            "  inflating: ham10000_images_part_2/ISIC_0030850.jpg  \n",
            "  inflating: ham10000_images_part_2/ISIC_0030851.jpg  \n",
            "  inflating: ham10000_images_part_2/ISIC_0030852.jpg  \n",
            "  inflating: ham10000_images_part_2/ISIC_0030853.jpg  \n",
            "  inflating: ham10000_images_part_2/ISIC_0030854.jpg  \n",
            "  inflating: ham10000_images_part_2/ISIC_0030855.jpg  \n",
            "  inflating: ham10000_images_part_2/ISIC_0030856.jpg  \n",
            "  inflating: ham10000_images_part_2/ISIC_0030857.jpg  \n",
            "  inflating: ham10000_images_part_2/ISIC_0030858.jpg  \n",
            "  inflating: ham10000_images_part_2/ISIC_0030859.jpg  \n",
            "  inflating: ham10000_images_part_2/ISIC_0030860.jpg  \n",
            "  inflating: ham10000_images_part_2/ISIC_0030861.jpg  \n",
            "  inflating: ham10000_images_part_2/ISIC_0030862.jpg  \n",
            "  inflating: ham10000_images_part_2/ISIC_0030863.jpg  \n",
            "  inflating: ham10000_images_part_2/ISIC_0030864.jpg  \n",
            "  inflating: ham10000_images_part_2/ISIC_0030865.jpg  \n",
            "  inflating: ham10000_images_part_2/ISIC_0030866.jpg  \n",
            "  inflating: ham10000_images_part_2/ISIC_0030867.jpg  \n",
            "  inflating: ham10000_images_part_2/ISIC_0030868.jpg  \n",
            "  inflating: ham10000_images_part_2/ISIC_0030869.jpg  \n",
            "  inflating: ham10000_images_part_2/ISIC_0030870.jpg  \n",
            "  inflating: ham10000_images_part_2/ISIC_0030871.jpg  \n",
            "  inflating: ham10000_images_part_2/ISIC_0030872.jpg  \n",
            "  inflating: ham10000_images_part_2/ISIC_0030873.jpg  \n",
            "  inflating: ham10000_images_part_2/ISIC_0030874.jpg  \n",
            "  inflating: ham10000_images_part_2/ISIC_0030875.jpg  \n",
            "  inflating: ham10000_images_part_2/ISIC_0030876.jpg  \n",
            "  inflating: ham10000_images_part_2/ISIC_0030877.jpg  \n",
            "  inflating: ham10000_images_part_2/ISIC_0030878.jpg  \n",
            "  inflating: ham10000_images_part_2/ISIC_0030879.jpg  \n",
            "  inflating: ham10000_images_part_2/ISIC_0030880.jpg  \n",
            "  inflating: ham10000_images_part_2/ISIC_0030881.jpg  \n",
            "  inflating: ham10000_images_part_2/ISIC_0030882.jpg  \n",
            "  inflating: ham10000_images_part_2/ISIC_0030883.jpg  \n",
            "  inflating: ham10000_images_part_2/ISIC_0030884.jpg  \n",
            "  inflating: ham10000_images_part_2/ISIC_0030885.jpg  \n",
            "  inflating: ham10000_images_part_2/ISIC_0030886.jpg  \n",
            "  inflating: ham10000_images_part_2/ISIC_0030887.jpg  \n",
            "  inflating: ham10000_images_part_2/ISIC_0030888.jpg  \n",
            "  inflating: ham10000_images_part_2/ISIC_0030889.jpg  \n",
            "  inflating: ham10000_images_part_2/ISIC_0030890.jpg  \n",
            "  inflating: ham10000_images_part_2/ISIC_0030891.jpg  \n",
            "  inflating: ham10000_images_part_2/ISIC_0030892.jpg  \n",
            "  inflating: ham10000_images_part_2/ISIC_0030893.jpg  \n",
            "  inflating: ham10000_images_part_2/ISIC_0030894.jpg  \n",
            "  inflating: ham10000_images_part_2/ISIC_0030895.jpg  \n",
            "  inflating: ham10000_images_part_2/ISIC_0030896.jpg  \n",
            "  inflating: ham10000_images_part_2/ISIC_0030897.jpg  \n",
            "  inflating: ham10000_images_part_2/ISIC_0030898.jpg  \n",
            "  inflating: ham10000_images_part_2/ISIC_0030899.jpg  \n",
            "  inflating: ham10000_images_part_2/ISIC_0030900.jpg  \n",
            "  inflating: ham10000_images_part_2/ISIC_0030901.jpg  \n",
            "  inflating: ham10000_images_part_2/ISIC_0030902.jpg  \n",
            "  inflating: ham10000_images_part_2/ISIC_0030903.jpg  \n",
            "  inflating: ham10000_images_part_2/ISIC_0030904.jpg  \n",
            "  inflating: ham10000_images_part_2/ISIC_0030905.jpg  \n",
            "  inflating: ham10000_images_part_2/ISIC_0030906.jpg  \n",
            "  inflating: ham10000_images_part_2/ISIC_0030907.jpg  \n",
            "  inflating: ham10000_images_part_2/ISIC_0030908.jpg  \n",
            "  inflating: ham10000_images_part_2/ISIC_0030909.jpg  \n",
            "  inflating: ham10000_images_part_2/ISIC_0030910.jpg  \n",
            "  inflating: ham10000_images_part_2/ISIC_0030911.jpg  \n",
            "  inflating: ham10000_images_part_2/ISIC_0030912.jpg  \n",
            "  inflating: ham10000_images_part_2/ISIC_0030913.jpg  \n",
            "  inflating: ham10000_images_part_2/ISIC_0030914.jpg  \n",
            "  inflating: ham10000_images_part_2/ISIC_0030915.jpg  \n",
            "  inflating: ham10000_images_part_2/ISIC_0030916.jpg  \n",
            "  inflating: ham10000_images_part_2/ISIC_0030917.jpg  \n",
            "  inflating: ham10000_images_part_2/ISIC_0030918.jpg  \n",
            "  inflating: ham10000_images_part_2/ISIC_0030919.jpg  \n",
            "  inflating: ham10000_images_part_2/ISIC_0030920.jpg  \n",
            "  inflating: ham10000_images_part_2/ISIC_0030921.jpg  \n",
            "  inflating: ham10000_images_part_2/ISIC_0030922.jpg  \n",
            "  inflating: ham10000_images_part_2/ISIC_0030923.jpg  \n",
            "  inflating: ham10000_images_part_2/ISIC_0030924.jpg  \n",
            "  inflating: ham10000_images_part_2/ISIC_0030925.jpg  \n",
            "  inflating: ham10000_images_part_2/ISIC_0030926.jpg  \n",
            "  inflating: ham10000_images_part_2/ISIC_0030927.jpg  \n",
            "  inflating: ham10000_images_part_2/ISIC_0030928.jpg  \n",
            "  inflating: ham10000_images_part_2/ISIC_0030929.jpg  \n",
            "  inflating: ham10000_images_part_2/ISIC_0030930.jpg  \n",
            "  inflating: ham10000_images_part_2/ISIC_0030931.jpg  \n",
            "  inflating: ham10000_images_part_2/ISIC_0030932.jpg  \n",
            "  inflating: ham10000_images_part_2/ISIC_0030933.jpg  \n",
            "  inflating: ham10000_images_part_2/ISIC_0030934.jpg  \n",
            "  inflating: ham10000_images_part_2/ISIC_0030935.jpg  \n",
            "  inflating: ham10000_images_part_2/ISIC_0030936.jpg  \n",
            "  inflating: ham10000_images_part_2/ISIC_0030937.jpg  \n",
            "  inflating: ham10000_images_part_2/ISIC_0030938.jpg  \n",
            "  inflating: ham10000_images_part_2/ISIC_0030939.jpg  \n",
            "  inflating: ham10000_images_part_2/ISIC_0030940.jpg  \n",
            "  inflating: ham10000_images_part_2/ISIC_0030941.jpg  \n",
            "  inflating: ham10000_images_part_2/ISIC_0030942.jpg  \n",
            "  inflating: ham10000_images_part_2/ISIC_0030943.jpg  \n",
            "  inflating: ham10000_images_part_2/ISIC_0030944.jpg  \n",
            "  inflating: ham10000_images_part_2/ISIC_0030945.jpg  \n",
            "  inflating: ham10000_images_part_2/ISIC_0030946.jpg  \n",
            "  inflating: ham10000_images_part_2/ISIC_0030947.jpg  \n",
            "  inflating: ham10000_images_part_2/ISIC_0030948.jpg  \n",
            "  inflating: ham10000_images_part_2/ISIC_0030949.jpg  \n",
            "  inflating: ham10000_images_part_2/ISIC_0030950.jpg  \n",
            "  inflating: ham10000_images_part_2/ISIC_0030951.jpg  \n",
            "  inflating: ham10000_images_part_2/ISIC_0030952.jpg  \n",
            "  inflating: ham10000_images_part_2/ISIC_0030953.jpg  \n",
            "  inflating: ham10000_images_part_2/ISIC_0030954.jpg  \n",
            "  inflating: ham10000_images_part_2/ISIC_0030955.jpg  \n",
            "  inflating: ham10000_images_part_2/ISIC_0030956.jpg  \n",
            "  inflating: ham10000_images_part_2/ISIC_0030957.jpg  \n",
            "  inflating: ham10000_images_part_2/ISIC_0030958.jpg  \n",
            "  inflating: ham10000_images_part_2/ISIC_0030959.jpg  \n",
            "  inflating: ham10000_images_part_2/ISIC_0030960.jpg  \n",
            "  inflating: ham10000_images_part_2/ISIC_0030961.jpg  \n",
            "  inflating: ham10000_images_part_2/ISIC_0030962.jpg  \n",
            "  inflating: ham10000_images_part_2/ISIC_0030963.jpg  \n",
            "  inflating: ham10000_images_part_2/ISIC_0030964.jpg  \n",
            "  inflating: ham10000_images_part_2/ISIC_0030965.jpg  \n",
            "  inflating: ham10000_images_part_2/ISIC_0030966.jpg  \n",
            "  inflating: ham10000_images_part_2/ISIC_0030967.jpg  \n",
            "  inflating: ham10000_images_part_2/ISIC_0030968.jpg  \n",
            "  inflating: ham10000_images_part_2/ISIC_0030969.jpg  \n",
            "  inflating: ham10000_images_part_2/ISIC_0030970.jpg  \n",
            "  inflating: ham10000_images_part_2/ISIC_0030971.jpg  \n",
            "  inflating: ham10000_images_part_2/ISIC_0030972.jpg  \n",
            "  inflating: ham10000_images_part_2/ISIC_0030973.jpg  \n",
            "  inflating: ham10000_images_part_2/ISIC_0030974.jpg  \n",
            "  inflating: ham10000_images_part_2/ISIC_0030975.jpg  \n",
            "  inflating: ham10000_images_part_2/ISIC_0030976.jpg  \n",
            "  inflating: ham10000_images_part_2/ISIC_0030977.jpg  \n",
            "  inflating: ham10000_images_part_2/ISIC_0030978.jpg  \n",
            "  inflating: ham10000_images_part_2/ISIC_0030979.jpg  \n",
            "  inflating: ham10000_images_part_2/ISIC_0030980.jpg  \n",
            "  inflating: ham10000_images_part_2/ISIC_0030981.jpg  \n",
            "  inflating: ham10000_images_part_2/ISIC_0030982.jpg  \n",
            "  inflating: ham10000_images_part_2/ISIC_0030983.jpg  \n",
            "  inflating: ham10000_images_part_2/ISIC_0030984.jpg  \n",
            "  inflating: ham10000_images_part_2/ISIC_0030985.jpg  \n",
            "  inflating: ham10000_images_part_2/ISIC_0030986.jpg  \n",
            "  inflating: ham10000_images_part_2/ISIC_0030987.jpg  \n",
            "  inflating: ham10000_images_part_2/ISIC_0030988.jpg  \n",
            "  inflating: ham10000_images_part_2/ISIC_0030989.jpg  \n",
            "  inflating: ham10000_images_part_2/ISIC_0030990.jpg  \n",
            "  inflating: ham10000_images_part_2/ISIC_0030991.jpg  \n",
            "  inflating: ham10000_images_part_2/ISIC_0030992.jpg  \n",
            "  inflating: ham10000_images_part_2/ISIC_0030993.jpg  \n",
            "  inflating: ham10000_images_part_2/ISIC_0030994.jpg  \n",
            "  inflating: ham10000_images_part_2/ISIC_0030995.jpg  \n",
            "  inflating: ham10000_images_part_2/ISIC_0030996.jpg  \n",
            "  inflating: ham10000_images_part_2/ISIC_0030997.jpg  \n",
            "  inflating: ham10000_images_part_2/ISIC_0030998.jpg  \n",
            "  inflating: ham10000_images_part_2/ISIC_0030999.jpg  \n",
            "  inflating: ham10000_images_part_2/ISIC_0031000.jpg  \n",
            "  inflating: ham10000_images_part_2/ISIC_0031001.jpg  \n",
            "  inflating: ham10000_images_part_2/ISIC_0031002.jpg  \n",
            "  inflating: ham10000_images_part_2/ISIC_0031003.jpg  \n",
            "  inflating: ham10000_images_part_2/ISIC_0031004.jpg  \n",
            "  inflating: ham10000_images_part_2/ISIC_0031005.jpg  \n",
            "  inflating: ham10000_images_part_2/ISIC_0031006.jpg  \n",
            "  inflating: ham10000_images_part_2/ISIC_0031007.jpg  \n",
            "  inflating: ham10000_images_part_2/ISIC_0031008.jpg  \n",
            "  inflating: ham10000_images_part_2/ISIC_0031009.jpg  \n",
            "  inflating: ham10000_images_part_2/ISIC_0031010.jpg  \n",
            "  inflating: ham10000_images_part_2/ISIC_0031011.jpg  \n",
            "  inflating: ham10000_images_part_2/ISIC_0031012.jpg  \n",
            "  inflating: ham10000_images_part_2/ISIC_0031013.jpg  \n",
            "  inflating: ham10000_images_part_2/ISIC_0031014.jpg  \n",
            "  inflating: ham10000_images_part_2/ISIC_0031015.jpg  \n",
            "  inflating: ham10000_images_part_2/ISIC_0031016.jpg  \n",
            "  inflating: ham10000_images_part_2/ISIC_0031017.jpg  \n",
            "  inflating: ham10000_images_part_2/ISIC_0031018.jpg  \n",
            "  inflating: ham10000_images_part_2/ISIC_0031019.jpg  \n",
            "  inflating: ham10000_images_part_2/ISIC_0031020.jpg  \n",
            "  inflating: ham10000_images_part_2/ISIC_0031021.jpg  \n",
            "  inflating: ham10000_images_part_2/ISIC_0031022.jpg  \n",
            "  inflating: ham10000_images_part_2/ISIC_0031023.jpg  \n",
            "  inflating: ham10000_images_part_2/ISIC_0031024.jpg  \n",
            "  inflating: ham10000_images_part_2/ISIC_0031025.jpg  \n",
            "  inflating: ham10000_images_part_2/ISIC_0031026.jpg  \n",
            "  inflating: ham10000_images_part_2/ISIC_0031027.jpg  \n",
            "  inflating: ham10000_images_part_2/ISIC_0031028.jpg  \n",
            "  inflating: ham10000_images_part_2/ISIC_0031029.jpg  \n",
            "  inflating: ham10000_images_part_2/ISIC_0031030.jpg  \n",
            "  inflating: ham10000_images_part_2/ISIC_0031031.jpg  \n",
            "  inflating: ham10000_images_part_2/ISIC_0031032.jpg  \n",
            "  inflating: ham10000_images_part_2/ISIC_0031033.jpg  \n",
            "  inflating: ham10000_images_part_2/ISIC_0031034.jpg  \n",
            "  inflating: ham10000_images_part_2/ISIC_0031035.jpg  \n",
            "  inflating: ham10000_images_part_2/ISIC_0031036.jpg  \n",
            "  inflating: ham10000_images_part_2/ISIC_0031037.jpg  \n",
            "  inflating: ham10000_images_part_2/ISIC_0031038.jpg  \n",
            "  inflating: ham10000_images_part_2/ISIC_0031039.jpg  \n",
            "  inflating: ham10000_images_part_2/ISIC_0031040.jpg  \n",
            "  inflating: ham10000_images_part_2/ISIC_0031041.jpg  \n",
            "  inflating: ham10000_images_part_2/ISIC_0031042.jpg  \n",
            "  inflating: ham10000_images_part_2/ISIC_0031043.jpg  \n",
            "  inflating: ham10000_images_part_2/ISIC_0031044.jpg  \n",
            "  inflating: ham10000_images_part_2/ISIC_0031045.jpg  \n",
            "  inflating: ham10000_images_part_2/ISIC_0031046.jpg  \n",
            "  inflating: ham10000_images_part_2/ISIC_0031047.jpg  \n",
            "  inflating: ham10000_images_part_2/ISIC_0031048.jpg  \n",
            "  inflating: ham10000_images_part_2/ISIC_0031049.jpg  \n",
            "  inflating: ham10000_images_part_2/ISIC_0031050.jpg  \n",
            "  inflating: ham10000_images_part_2/ISIC_0031051.jpg  \n",
            "  inflating: ham10000_images_part_2/ISIC_0031052.jpg  \n",
            "  inflating: ham10000_images_part_2/ISIC_0031053.jpg  \n",
            "  inflating: ham10000_images_part_2/ISIC_0031054.jpg  \n",
            "  inflating: ham10000_images_part_2/ISIC_0031055.jpg  \n",
            "  inflating: ham10000_images_part_2/ISIC_0031056.jpg  \n",
            "  inflating: ham10000_images_part_2/ISIC_0031057.jpg  \n",
            "  inflating: ham10000_images_part_2/ISIC_0031058.jpg  \n",
            "  inflating: ham10000_images_part_2/ISIC_0031059.jpg  \n",
            "  inflating: ham10000_images_part_2/ISIC_0031060.jpg  \n",
            "  inflating: ham10000_images_part_2/ISIC_0031061.jpg  \n",
            "  inflating: ham10000_images_part_2/ISIC_0031062.jpg  \n",
            "  inflating: ham10000_images_part_2/ISIC_0031063.jpg  \n",
            "  inflating: ham10000_images_part_2/ISIC_0031064.jpg  \n",
            "  inflating: ham10000_images_part_2/ISIC_0031065.jpg  \n",
            "  inflating: ham10000_images_part_2/ISIC_0031066.jpg  \n",
            "  inflating: ham10000_images_part_2/ISIC_0031067.jpg  \n",
            "  inflating: ham10000_images_part_2/ISIC_0031068.jpg  \n",
            "  inflating: ham10000_images_part_2/ISIC_0031069.jpg  \n",
            "  inflating: ham10000_images_part_2/ISIC_0031070.jpg  \n",
            "  inflating: ham10000_images_part_2/ISIC_0031071.jpg  \n",
            "  inflating: ham10000_images_part_2/ISIC_0031072.jpg  \n",
            "  inflating: ham10000_images_part_2/ISIC_0031073.jpg  \n",
            "  inflating: ham10000_images_part_2/ISIC_0031074.jpg  \n",
            "  inflating: ham10000_images_part_2/ISIC_0031075.jpg  \n",
            "  inflating: ham10000_images_part_2/ISIC_0031076.jpg  \n",
            "  inflating: ham10000_images_part_2/ISIC_0031077.jpg  \n",
            "  inflating: ham10000_images_part_2/ISIC_0031078.jpg  \n",
            "  inflating: ham10000_images_part_2/ISIC_0031079.jpg  \n",
            "  inflating: ham10000_images_part_2/ISIC_0031080.jpg  \n",
            "  inflating: ham10000_images_part_2/ISIC_0031081.jpg  \n",
            "  inflating: ham10000_images_part_2/ISIC_0031082.jpg  \n",
            "  inflating: ham10000_images_part_2/ISIC_0031083.jpg  \n",
            "  inflating: ham10000_images_part_2/ISIC_0031084.jpg  \n",
            "  inflating: ham10000_images_part_2/ISIC_0031085.jpg  \n",
            "  inflating: ham10000_images_part_2/ISIC_0031086.jpg  \n",
            "  inflating: ham10000_images_part_2/ISIC_0031087.jpg  \n",
            "  inflating: ham10000_images_part_2/ISIC_0031088.jpg  \n",
            "  inflating: ham10000_images_part_2/ISIC_0031089.jpg  \n",
            "  inflating: ham10000_images_part_2/ISIC_0031090.jpg  \n",
            "  inflating: ham10000_images_part_2/ISIC_0031091.jpg  \n",
            "  inflating: ham10000_images_part_2/ISIC_0031092.jpg  \n",
            "  inflating: ham10000_images_part_2/ISIC_0031093.jpg  \n",
            "  inflating: ham10000_images_part_2/ISIC_0031094.jpg  \n",
            "  inflating: ham10000_images_part_2/ISIC_0031095.jpg  \n",
            "  inflating: ham10000_images_part_2/ISIC_0031096.jpg  \n",
            "  inflating: ham10000_images_part_2/ISIC_0031097.jpg  \n",
            "  inflating: ham10000_images_part_2/ISIC_0031098.jpg  \n",
            "  inflating: ham10000_images_part_2/ISIC_0031099.jpg  \n",
            "  inflating: ham10000_images_part_2/ISIC_0031100.jpg  \n",
            "  inflating: ham10000_images_part_2/ISIC_0031101.jpg  \n",
            "  inflating: ham10000_images_part_2/ISIC_0031102.jpg  \n",
            "  inflating: ham10000_images_part_2/ISIC_0031103.jpg  \n",
            "  inflating: ham10000_images_part_2/ISIC_0031104.jpg  \n",
            "  inflating: ham10000_images_part_2/ISIC_0031105.jpg  \n",
            "  inflating: ham10000_images_part_2/ISIC_0031106.jpg  \n",
            "  inflating: ham10000_images_part_2/ISIC_0031107.jpg  \n",
            "  inflating: ham10000_images_part_2/ISIC_0031108.jpg  \n",
            "  inflating: ham10000_images_part_2/ISIC_0031109.jpg  \n",
            "  inflating: ham10000_images_part_2/ISIC_0031110.jpg  \n",
            "  inflating: ham10000_images_part_2/ISIC_0031111.jpg  \n",
            "  inflating: ham10000_images_part_2/ISIC_0031112.jpg  \n",
            "  inflating: ham10000_images_part_2/ISIC_0031113.jpg  \n",
            "  inflating: ham10000_images_part_2/ISIC_0031114.jpg  \n",
            "  inflating: ham10000_images_part_2/ISIC_0031115.jpg  \n",
            "  inflating: ham10000_images_part_2/ISIC_0031116.jpg  \n",
            "  inflating: ham10000_images_part_2/ISIC_0031117.jpg  \n",
            "  inflating: ham10000_images_part_2/ISIC_0031118.jpg  \n",
            "  inflating: ham10000_images_part_2/ISIC_0031119.jpg  \n",
            "  inflating: ham10000_images_part_2/ISIC_0031120.jpg  \n",
            "  inflating: ham10000_images_part_2/ISIC_0031121.jpg  \n",
            "  inflating: ham10000_images_part_2/ISIC_0031122.jpg  \n",
            "  inflating: ham10000_images_part_2/ISIC_0031123.jpg  \n",
            "  inflating: ham10000_images_part_2/ISIC_0031124.jpg  \n",
            "  inflating: ham10000_images_part_2/ISIC_0031125.jpg  \n",
            "  inflating: ham10000_images_part_2/ISIC_0031126.jpg  \n",
            "  inflating: ham10000_images_part_2/ISIC_0031127.jpg  \n",
            "  inflating: ham10000_images_part_2/ISIC_0031128.jpg  \n",
            "  inflating: ham10000_images_part_2/ISIC_0031129.jpg  \n",
            "  inflating: ham10000_images_part_2/ISIC_0031130.jpg  \n",
            "  inflating: ham10000_images_part_2/ISIC_0031131.jpg  \n",
            "  inflating: ham10000_images_part_2/ISIC_0031132.jpg  \n",
            "  inflating: ham10000_images_part_2/ISIC_0031133.jpg  \n",
            "  inflating: ham10000_images_part_2/ISIC_0031134.jpg  \n",
            "  inflating: ham10000_images_part_2/ISIC_0031135.jpg  \n",
            "  inflating: ham10000_images_part_2/ISIC_0031136.jpg  \n",
            "  inflating: ham10000_images_part_2/ISIC_0031137.jpg  \n",
            "  inflating: ham10000_images_part_2/ISIC_0031138.jpg  \n",
            "  inflating: ham10000_images_part_2/ISIC_0031139.jpg  \n",
            "  inflating: ham10000_images_part_2/ISIC_0031140.jpg  \n",
            "  inflating: ham10000_images_part_2/ISIC_0031141.jpg  \n",
            "  inflating: ham10000_images_part_2/ISIC_0031142.jpg  \n",
            "  inflating: ham10000_images_part_2/ISIC_0031143.jpg  \n",
            "  inflating: ham10000_images_part_2/ISIC_0031144.jpg  \n",
            "  inflating: ham10000_images_part_2/ISIC_0031145.jpg  \n",
            "  inflating: ham10000_images_part_2/ISIC_0031146.jpg  \n",
            "  inflating: ham10000_images_part_2/ISIC_0031147.jpg  \n",
            "  inflating: ham10000_images_part_2/ISIC_0031148.jpg  \n",
            "  inflating: ham10000_images_part_2/ISIC_0031149.jpg  \n",
            "  inflating: ham10000_images_part_2/ISIC_0031150.jpg  \n",
            "  inflating: ham10000_images_part_2/ISIC_0031151.jpg  \n",
            "  inflating: ham10000_images_part_2/ISIC_0031152.jpg  \n",
            "  inflating: ham10000_images_part_2/ISIC_0031153.jpg  \n",
            "  inflating: ham10000_images_part_2/ISIC_0031154.jpg  \n",
            "  inflating: ham10000_images_part_2/ISIC_0031155.jpg  \n",
            "  inflating: ham10000_images_part_2/ISIC_0031156.jpg  \n",
            "  inflating: ham10000_images_part_2/ISIC_0031157.jpg  \n",
            "  inflating: ham10000_images_part_2/ISIC_0031158.jpg  \n",
            "  inflating: ham10000_images_part_2/ISIC_0031159.jpg  \n",
            "  inflating: ham10000_images_part_2/ISIC_0031160.jpg  \n",
            "  inflating: ham10000_images_part_2/ISIC_0031161.jpg  \n",
            "  inflating: ham10000_images_part_2/ISIC_0031162.jpg  \n",
            "  inflating: ham10000_images_part_2/ISIC_0031163.jpg  \n",
            "  inflating: ham10000_images_part_2/ISIC_0031164.jpg  \n",
            "  inflating: ham10000_images_part_2/ISIC_0031165.jpg  \n",
            "  inflating: ham10000_images_part_2/ISIC_0031166.jpg  \n",
            "  inflating: ham10000_images_part_2/ISIC_0031167.jpg  \n",
            "  inflating: ham10000_images_part_2/ISIC_0031168.jpg  \n",
            "  inflating: ham10000_images_part_2/ISIC_0031169.jpg  \n",
            "  inflating: ham10000_images_part_2/ISIC_0031170.jpg  \n",
            "  inflating: ham10000_images_part_2/ISIC_0031171.jpg  \n",
            "  inflating: ham10000_images_part_2/ISIC_0031172.jpg  \n",
            "  inflating: ham10000_images_part_2/ISIC_0031173.jpg  \n",
            "  inflating: ham10000_images_part_2/ISIC_0031174.jpg  \n",
            "  inflating: ham10000_images_part_2/ISIC_0031175.jpg  \n",
            "  inflating: ham10000_images_part_2/ISIC_0031176.jpg  \n",
            "  inflating: ham10000_images_part_2/ISIC_0031177.jpg  \n",
            "  inflating: ham10000_images_part_2/ISIC_0031178.jpg  \n",
            "  inflating: ham10000_images_part_2/ISIC_0031179.jpg  \n",
            "  inflating: ham10000_images_part_2/ISIC_0031180.jpg  \n",
            "  inflating: ham10000_images_part_2/ISIC_0031181.jpg  \n",
            "  inflating: ham10000_images_part_2/ISIC_0031182.jpg  \n",
            "  inflating: ham10000_images_part_2/ISIC_0031183.jpg  \n",
            "  inflating: ham10000_images_part_2/ISIC_0031184.jpg  \n",
            "  inflating: ham10000_images_part_2/ISIC_0031185.jpg  \n",
            "  inflating: ham10000_images_part_2/ISIC_0031186.jpg  \n",
            "  inflating: ham10000_images_part_2/ISIC_0031187.jpg  \n",
            "  inflating: ham10000_images_part_2/ISIC_0031188.jpg  \n",
            "  inflating: ham10000_images_part_2/ISIC_0031189.jpg  \n",
            "  inflating: ham10000_images_part_2/ISIC_0031190.jpg  \n",
            "  inflating: ham10000_images_part_2/ISIC_0031191.jpg  \n",
            "  inflating: ham10000_images_part_2/ISIC_0031192.jpg  \n",
            "  inflating: ham10000_images_part_2/ISIC_0031193.jpg  \n",
            "  inflating: ham10000_images_part_2/ISIC_0031194.jpg  \n",
            "  inflating: ham10000_images_part_2/ISIC_0031195.jpg  \n",
            "  inflating: ham10000_images_part_2/ISIC_0031196.jpg  \n",
            "  inflating: ham10000_images_part_2/ISIC_0031197.jpg  \n",
            "  inflating: ham10000_images_part_2/ISIC_0031198.jpg  \n",
            "  inflating: ham10000_images_part_2/ISIC_0031199.jpg  \n",
            "  inflating: ham10000_images_part_2/ISIC_0031200.jpg  \n",
            "  inflating: ham10000_images_part_2/ISIC_0031201.jpg  \n",
            "  inflating: ham10000_images_part_2/ISIC_0031202.jpg  \n",
            "  inflating: ham10000_images_part_2/ISIC_0031203.jpg  \n",
            "  inflating: ham10000_images_part_2/ISIC_0031204.jpg  \n",
            "  inflating: ham10000_images_part_2/ISIC_0031205.jpg  \n",
            "  inflating: ham10000_images_part_2/ISIC_0031206.jpg  \n",
            "  inflating: ham10000_images_part_2/ISIC_0031207.jpg  \n",
            "  inflating: ham10000_images_part_2/ISIC_0031208.jpg  \n",
            "  inflating: ham10000_images_part_2/ISIC_0031209.jpg  \n",
            "  inflating: ham10000_images_part_2/ISIC_0031210.jpg  \n",
            "  inflating: ham10000_images_part_2/ISIC_0031211.jpg  \n",
            "  inflating: ham10000_images_part_2/ISIC_0031212.jpg  \n",
            "  inflating: ham10000_images_part_2/ISIC_0031213.jpg  \n",
            "  inflating: ham10000_images_part_2/ISIC_0031214.jpg  \n",
            "  inflating: ham10000_images_part_2/ISIC_0031215.jpg  \n",
            "  inflating: ham10000_images_part_2/ISIC_0031216.jpg  \n",
            "  inflating: ham10000_images_part_2/ISIC_0031217.jpg  \n",
            "  inflating: ham10000_images_part_2/ISIC_0031218.jpg  \n",
            "  inflating: ham10000_images_part_2/ISIC_0031219.jpg  \n",
            "  inflating: ham10000_images_part_2/ISIC_0031220.jpg  \n",
            "  inflating: ham10000_images_part_2/ISIC_0031221.jpg  \n",
            "  inflating: ham10000_images_part_2/ISIC_0031222.jpg  \n",
            "  inflating: ham10000_images_part_2/ISIC_0031223.jpg  \n",
            "  inflating: ham10000_images_part_2/ISIC_0031224.jpg  \n",
            "  inflating: ham10000_images_part_2/ISIC_0031225.jpg  \n",
            "  inflating: ham10000_images_part_2/ISIC_0031226.jpg  \n",
            "  inflating: ham10000_images_part_2/ISIC_0031227.jpg  \n",
            "  inflating: ham10000_images_part_2/ISIC_0031228.jpg  \n",
            "  inflating: ham10000_images_part_2/ISIC_0031229.jpg  \n",
            "  inflating: ham10000_images_part_2/ISIC_0031230.jpg  \n",
            "  inflating: ham10000_images_part_2/ISIC_0031231.jpg  \n",
            "  inflating: ham10000_images_part_2/ISIC_0031232.jpg  \n",
            "  inflating: ham10000_images_part_2/ISIC_0031233.jpg  \n",
            "  inflating: ham10000_images_part_2/ISIC_0031234.jpg  \n",
            "  inflating: ham10000_images_part_2/ISIC_0031235.jpg  \n",
            "  inflating: ham10000_images_part_2/ISIC_0031236.jpg  \n",
            "  inflating: ham10000_images_part_2/ISIC_0031237.jpg  \n",
            "  inflating: ham10000_images_part_2/ISIC_0031238.jpg  \n",
            "  inflating: ham10000_images_part_2/ISIC_0031239.jpg  \n",
            "  inflating: ham10000_images_part_2/ISIC_0031240.jpg  \n",
            "  inflating: ham10000_images_part_2/ISIC_0031241.jpg  \n",
            "  inflating: ham10000_images_part_2/ISIC_0031242.jpg  \n",
            "  inflating: ham10000_images_part_2/ISIC_0031243.jpg  \n",
            "  inflating: ham10000_images_part_2/ISIC_0031244.jpg  \n",
            "  inflating: ham10000_images_part_2/ISIC_0031245.jpg  \n",
            "  inflating: ham10000_images_part_2/ISIC_0031246.jpg  \n",
            "  inflating: ham10000_images_part_2/ISIC_0031247.jpg  \n",
            "  inflating: ham10000_images_part_2/ISIC_0031248.jpg  \n",
            "  inflating: ham10000_images_part_2/ISIC_0031249.jpg  \n",
            "  inflating: ham10000_images_part_2/ISIC_0031250.jpg  \n",
            "  inflating: ham10000_images_part_2/ISIC_0031251.jpg  \n",
            "  inflating: ham10000_images_part_2/ISIC_0031252.jpg  \n",
            "  inflating: ham10000_images_part_2/ISIC_0031253.jpg  \n",
            "  inflating: ham10000_images_part_2/ISIC_0031254.jpg  \n",
            "  inflating: ham10000_images_part_2/ISIC_0031255.jpg  \n",
            "  inflating: ham10000_images_part_2/ISIC_0031256.jpg  \n",
            "  inflating: ham10000_images_part_2/ISIC_0031257.jpg  \n",
            "  inflating: ham10000_images_part_2/ISIC_0031258.jpg  \n",
            "  inflating: ham10000_images_part_2/ISIC_0031259.jpg  \n",
            "  inflating: ham10000_images_part_2/ISIC_0031260.jpg  \n",
            "  inflating: ham10000_images_part_2/ISIC_0031261.jpg  \n",
            "  inflating: ham10000_images_part_2/ISIC_0031262.jpg  \n",
            "  inflating: ham10000_images_part_2/ISIC_0031263.jpg  \n",
            "  inflating: ham10000_images_part_2/ISIC_0031264.jpg  \n",
            "  inflating: ham10000_images_part_2/ISIC_0031265.jpg  \n",
            "  inflating: ham10000_images_part_2/ISIC_0031266.jpg  \n",
            "  inflating: ham10000_images_part_2/ISIC_0031267.jpg  \n",
            "  inflating: ham10000_images_part_2/ISIC_0031268.jpg  \n",
            "  inflating: ham10000_images_part_2/ISIC_0031269.jpg  \n",
            "  inflating: ham10000_images_part_2/ISIC_0031270.jpg  \n",
            "  inflating: ham10000_images_part_2/ISIC_0031271.jpg  \n",
            "  inflating: ham10000_images_part_2/ISIC_0031272.jpg  \n",
            "  inflating: ham10000_images_part_2/ISIC_0031273.jpg  \n",
            "  inflating: ham10000_images_part_2/ISIC_0031274.jpg  \n",
            "  inflating: ham10000_images_part_2/ISIC_0031275.jpg  \n",
            "  inflating: ham10000_images_part_2/ISIC_0031276.jpg  \n",
            "  inflating: ham10000_images_part_2/ISIC_0031277.jpg  \n",
            "  inflating: ham10000_images_part_2/ISIC_0031278.jpg  \n",
            "  inflating: ham10000_images_part_2/ISIC_0031279.jpg  \n",
            "  inflating: ham10000_images_part_2/ISIC_0031280.jpg  \n",
            "  inflating: ham10000_images_part_2/ISIC_0031281.jpg  \n",
            "  inflating: ham10000_images_part_2/ISIC_0031282.jpg  \n",
            "  inflating: ham10000_images_part_2/ISIC_0031283.jpg  \n",
            "  inflating: ham10000_images_part_2/ISIC_0031284.jpg  \n",
            "  inflating: ham10000_images_part_2/ISIC_0031285.jpg  \n",
            "  inflating: ham10000_images_part_2/ISIC_0031286.jpg  \n",
            "  inflating: ham10000_images_part_2/ISIC_0031287.jpg  \n",
            "  inflating: ham10000_images_part_2/ISIC_0031288.jpg  \n",
            "  inflating: ham10000_images_part_2/ISIC_0031289.jpg  \n",
            "  inflating: ham10000_images_part_2/ISIC_0031290.jpg  \n",
            "  inflating: ham10000_images_part_2/ISIC_0031291.jpg  \n",
            "  inflating: ham10000_images_part_2/ISIC_0031292.jpg  \n",
            "  inflating: ham10000_images_part_2/ISIC_0031293.jpg  \n",
            "  inflating: ham10000_images_part_2/ISIC_0031294.jpg  \n",
            "  inflating: ham10000_images_part_2/ISIC_0031295.jpg  \n",
            "  inflating: ham10000_images_part_2/ISIC_0031296.jpg  \n",
            "  inflating: ham10000_images_part_2/ISIC_0031297.jpg  \n",
            "  inflating: ham10000_images_part_2/ISIC_0031298.jpg  \n",
            "  inflating: ham10000_images_part_2/ISIC_0031299.jpg  \n",
            "  inflating: ham10000_images_part_2/ISIC_0031300.jpg  \n",
            "  inflating: ham10000_images_part_2/ISIC_0031301.jpg  \n",
            "  inflating: ham10000_images_part_2/ISIC_0031302.jpg  \n",
            "  inflating: ham10000_images_part_2/ISIC_0031303.jpg  \n",
            "  inflating: ham10000_images_part_2/ISIC_0031304.jpg  \n",
            "  inflating: ham10000_images_part_2/ISIC_0031305.jpg  \n",
            "  inflating: ham10000_images_part_2/ISIC_0031306.jpg  \n",
            "  inflating: ham10000_images_part_2/ISIC_0031307.jpg  \n",
            "  inflating: ham10000_images_part_2/ISIC_0031308.jpg  \n",
            "  inflating: ham10000_images_part_2/ISIC_0031309.jpg  \n",
            "  inflating: ham10000_images_part_2/ISIC_0031310.jpg  \n",
            "  inflating: ham10000_images_part_2/ISIC_0031311.jpg  \n",
            "  inflating: ham10000_images_part_2/ISIC_0031312.jpg  \n",
            "  inflating: ham10000_images_part_2/ISIC_0031313.jpg  \n",
            "  inflating: ham10000_images_part_2/ISIC_0031314.jpg  \n",
            "  inflating: ham10000_images_part_2/ISIC_0031315.jpg  \n",
            "  inflating: ham10000_images_part_2/ISIC_0031316.jpg  \n",
            "  inflating: ham10000_images_part_2/ISIC_0031317.jpg  \n",
            "  inflating: ham10000_images_part_2/ISIC_0031318.jpg  \n",
            "  inflating: ham10000_images_part_2/ISIC_0031319.jpg  \n",
            "  inflating: ham10000_images_part_2/ISIC_0031320.jpg  \n",
            "  inflating: ham10000_images_part_2/ISIC_0031321.jpg  \n",
            "  inflating: ham10000_images_part_2/ISIC_0031322.jpg  \n",
            "  inflating: ham10000_images_part_2/ISIC_0031323.jpg  \n",
            "  inflating: ham10000_images_part_2/ISIC_0031324.jpg  \n",
            "  inflating: ham10000_images_part_2/ISIC_0031325.jpg  \n",
            "  inflating: ham10000_images_part_2/ISIC_0031326.jpg  \n",
            "  inflating: ham10000_images_part_2/ISIC_0031327.jpg  \n",
            "  inflating: ham10000_images_part_2/ISIC_0031328.jpg  \n",
            "  inflating: ham10000_images_part_2/ISIC_0031329.jpg  \n",
            "  inflating: ham10000_images_part_2/ISIC_0031330.jpg  \n",
            "  inflating: ham10000_images_part_2/ISIC_0031331.jpg  \n",
            "  inflating: ham10000_images_part_2/ISIC_0031332.jpg  \n",
            "  inflating: ham10000_images_part_2/ISIC_0031333.jpg  \n",
            "  inflating: ham10000_images_part_2/ISIC_0031334.jpg  \n",
            "  inflating: ham10000_images_part_2/ISIC_0031335.jpg  \n",
            "  inflating: ham10000_images_part_2/ISIC_0031336.jpg  \n",
            "  inflating: ham10000_images_part_2/ISIC_0031337.jpg  \n",
            "  inflating: ham10000_images_part_2/ISIC_0031338.jpg  \n",
            "  inflating: ham10000_images_part_2/ISIC_0031339.jpg  \n",
            "  inflating: ham10000_images_part_2/ISIC_0031340.jpg  \n",
            "  inflating: ham10000_images_part_2/ISIC_0031341.jpg  \n",
            "  inflating: ham10000_images_part_2/ISIC_0031342.jpg  \n",
            "  inflating: ham10000_images_part_2/ISIC_0031343.jpg  \n",
            "  inflating: ham10000_images_part_2/ISIC_0031344.jpg  \n",
            "  inflating: ham10000_images_part_2/ISIC_0031345.jpg  \n",
            "  inflating: ham10000_images_part_2/ISIC_0031346.jpg  \n",
            "  inflating: ham10000_images_part_2/ISIC_0031347.jpg  \n",
            "  inflating: ham10000_images_part_2/ISIC_0031348.jpg  \n",
            "  inflating: ham10000_images_part_2/ISIC_0031349.jpg  \n",
            "  inflating: ham10000_images_part_2/ISIC_0031350.jpg  \n",
            "  inflating: ham10000_images_part_2/ISIC_0031351.jpg  \n",
            "  inflating: ham10000_images_part_2/ISIC_0031352.jpg  \n",
            "  inflating: ham10000_images_part_2/ISIC_0031353.jpg  \n",
            "  inflating: ham10000_images_part_2/ISIC_0031354.jpg  \n",
            "  inflating: ham10000_images_part_2/ISIC_0031355.jpg  \n",
            "  inflating: ham10000_images_part_2/ISIC_0031356.jpg  \n",
            "  inflating: ham10000_images_part_2/ISIC_0031357.jpg  \n",
            "  inflating: ham10000_images_part_2/ISIC_0031358.jpg  \n",
            "  inflating: ham10000_images_part_2/ISIC_0031359.jpg  \n",
            "  inflating: ham10000_images_part_2/ISIC_0031360.jpg  \n",
            "  inflating: ham10000_images_part_2/ISIC_0031361.jpg  \n",
            "  inflating: ham10000_images_part_2/ISIC_0031362.jpg  \n",
            "  inflating: ham10000_images_part_2/ISIC_0031363.jpg  \n",
            "  inflating: ham10000_images_part_2/ISIC_0031364.jpg  \n",
            "  inflating: ham10000_images_part_2/ISIC_0031365.jpg  \n",
            "  inflating: ham10000_images_part_2/ISIC_0031366.jpg  \n",
            "  inflating: ham10000_images_part_2/ISIC_0031367.jpg  \n",
            "  inflating: ham10000_images_part_2/ISIC_0031368.jpg  \n",
            "  inflating: ham10000_images_part_2/ISIC_0031369.jpg  \n",
            "  inflating: ham10000_images_part_2/ISIC_0031370.jpg  \n",
            "  inflating: ham10000_images_part_2/ISIC_0031371.jpg  \n",
            "  inflating: ham10000_images_part_2/ISIC_0031372.jpg  \n",
            "  inflating: ham10000_images_part_2/ISIC_0031373.jpg  \n",
            "  inflating: ham10000_images_part_2/ISIC_0031374.jpg  \n",
            "  inflating: ham10000_images_part_2/ISIC_0031375.jpg  \n",
            "  inflating: ham10000_images_part_2/ISIC_0031376.jpg  \n",
            "  inflating: ham10000_images_part_2/ISIC_0031377.jpg  \n",
            "  inflating: ham10000_images_part_2/ISIC_0031378.jpg  \n",
            "  inflating: ham10000_images_part_2/ISIC_0031379.jpg  \n",
            "  inflating: ham10000_images_part_2/ISIC_0031380.jpg  \n",
            "  inflating: ham10000_images_part_2/ISIC_0031381.jpg  \n",
            "  inflating: ham10000_images_part_2/ISIC_0031382.jpg  \n",
            "  inflating: ham10000_images_part_2/ISIC_0031383.jpg  \n",
            "  inflating: ham10000_images_part_2/ISIC_0031384.jpg  \n",
            "  inflating: ham10000_images_part_2/ISIC_0031385.jpg  \n",
            "  inflating: ham10000_images_part_2/ISIC_0031386.jpg  \n",
            "  inflating: ham10000_images_part_2/ISIC_0031387.jpg  \n",
            "  inflating: ham10000_images_part_2/ISIC_0031388.jpg  \n",
            "  inflating: ham10000_images_part_2/ISIC_0031389.jpg  \n",
            "  inflating: ham10000_images_part_2/ISIC_0031390.jpg  \n",
            "  inflating: ham10000_images_part_2/ISIC_0031391.jpg  \n",
            "  inflating: ham10000_images_part_2/ISIC_0031392.jpg  \n",
            "  inflating: ham10000_images_part_2/ISIC_0031393.jpg  \n",
            "  inflating: ham10000_images_part_2/ISIC_0031394.jpg  \n",
            "  inflating: ham10000_images_part_2/ISIC_0031395.jpg  \n",
            "  inflating: ham10000_images_part_2/ISIC_0031396.jpg  \n",
            "  inflating: ham10000_images_part_2/ISIC_0031397.jpg  \n",
            "  inflating: ham10000_images_part_2/ISIC_0031398.jpg  \n",
            "  inflating: ham10000_images_part_2/ISIC_0031399.jpg  \n",
            "  inflating: ham10000_images_part_2/ISIC_0031400.jpg  \n",
            "  inflating: ham10000_images_part_2/ISIC_0031401.jpg  \n",
            "  inflating: ham10000_images_part_2/ISIC_0031402.jpg  \n",
            "  inflating: ham10000_images_part_2/ISIC_0031403.jpg  \n",
            "  inflating: ham10000_images_part_2/ISIC_0031404.jpg  \n",
            "  inflating: ham10000_images_part_2/ISIC_0031405.jpg  \n",
            "  inflating: ham10000_images_part_2/ISIC_0031406.jpg  \n",
            "  inflating: ham10000_images_part_2/ISIC_0031407.jpg  \n",
            "  inflating: ham10000_images_part_2/ISIC_0031408.jpg  \n",
            "  inflating: ham10000_images_part_2/ISIC_0031409.jpg  \n",
            "  inflating: ham10000_images_part_2/ISIC_0031410.jpg  \n",
            "  inflating: ham10000_images_part_2/ISIC_0031411.jpg  \n",
            "  inflating: ham10000_images_part_2/ISIC_0031412.jpg  \n",
            "  inflating: ham10000_images_part_2/ISIC_0031413.jpg  \n",
            "  inflating: ham10000_images_part_2/ISIC_0031414.jpg  \n",
            "  inflating: ham10000_images_part_2/ISIC_0031415.jpg  \n",
            "  inflating: ham10000_images_part_2/ISIC_0031416.jpg  \n",
            "  inflating: ham10000_images_part_2/ISIC_0031417.jpg  \n",
            "  inflating: ham10000_images_part_2/ISIC_0031418.jpg  \n",
            "  inflating: ham10000_images_part_2/ISIC_0031419.jpg  \n",
            "  inflating: ham10000_images_part_2/ISIC_0031420.jpg  \n",
            "  inflating: ham10000_images_part_2/ISIC_0031421.jpg  \n",
            "  inflating: ham10000_images_part_2/ISIC_0031422.jpg  \n",
            "  inflating: ham10000_images_part_2/ISIC_0031423.jpg  \n",
            "  inflating: ham10000_images_part_2/ISIC_0031424.jpg  \n",
            "  inflating: ham10000_images_part_2/ISIC_0031425.jpg  \n",
            "  inflating: ham10000_images_part_2/ISIC_0031426.jpg  \n",
            "  inflating: ham10000_images_part_2/ISIC_0031427.jpg  \n",
            "  inflating: ham10000_images_part_2/ISIC_0031428.jpg  \n",
            "  inflating: ham10000_images_part_2/ISIC_0031429.jpg  \n",
            "  inflating: ham10000_images_part_2/ISIC_0031430.jpg  \n",
            "  inflating: ham10000_images_part_2/ISIC_0031431.jpg  \n",
            "  inflating: ham10000_images_part_2/ISIC_0031432.jpg  \n",
            "  inflating: ham10000_images_part_2/ISIC_0031433.jpg  \n",
            "  inflating: ham10000_images_part_2/ISIC_0031434.jpg  \n",
            "  inflating: ham10000_images_part_2/ISIC_0031435.jpg  \n",
            "  inflating: ham10000_images_part_2/ISIC_0031436.jpg  \n",
            "  inflating: ham10000_images_part_2/ISIC_0031437.jpg  \n",
            "  inflating: ham10000_images_part_2/ISIC_0031438.jpg  \n",
            "  inflating: ham10000_images_part_2/ISIC_0031439.jpg  \n",
            "  inflating: ham10000_images_part_2/ISIC_0031440.jpg  \n",
            "  inflating: ham10000_images_part_2/ISIC_0031441.jpg  \n",
            "  inflating: ham10000_images_part_2/ISIC_0031442.jpg  \n",
            "  inflating: ham10000_images_part_2/ISIC_0031443.jpg  \n",
            "  inflating: ham10000_images_part_2/ISIC_0031444.jpg  \n",
            "  inflating: ham10000_images_part_2/ISIC_0031445.jpg  \n",
            "  inflating: ham10000_images_part_2/ISIC_0031446.jpg  \n",
            "  inflating: ham10000_images_part_2/ISIC_0031447.jpg  \n",
            "  inflating: ham10000_images_part_2/ISIC_0031448.jpg  \n",
            "  inflating: ham10000_images_part_2/ISIC_0031449.jpg  \n",
            "  inflating: ham10000_images_part_2/ISIC_0031450.jpg  \n",
            "  inflating: ham10000_images_part_2/ISIC_0031451.jpg  \n",
            "  inflating: ham10000_images_part_2/ISIC_0031452.jpg  \n",
            "  inflating: ham10000_images_part_2/ISIC_0031453.jpg  \n",
            "  inflating: ham10000_images_part_2/ISIC_0031454.jpg  \n",
            "  inflating: ham10000_images_part_2/ISIC_0031455.jpg  \n",
            "  inflating: ham10000_images_part_2/ISIC_0031456.jpg  \n",
            "  inflating: ham10000_images_part_2/ISIC_0031457.jpg  \n",
            "  inflating: ham10000_images_part_2/ISIC_0031458.jpg  \n",
            "  inflating: ham10000_images_part_2/ISIC_0031459.jpg  \n",
            "  inflating: ham10000_images_part_2/ISIC_0031460.jpg  \n",
            "  inflating: ham10000_images_part_2/ISIC_0031461.jpg  \n",
            "  inflating: ham10000_images_part_2/ISIC_0031462.jpg  \n",
            "  inflating: ham10000_images_part_2/ISIC_0031463.jpg  \n",
            "  inflating: ham10000_images_part_2/ISIC_0031464.jpg  \n",
            "  inflating: ham10000_images_part_2/ISIC_0031465.jpg  \n",
            "  inflating: ham10000_images_part_2/ISIC_0031466.jpg  \n",
            "  inflating: ham10000_images_part_2/ISIC_0031467.jpg  \n",
            "  inflating: ham10000_images_part_2/ISIC_0031468.jpg  \n",
            "  inflating: ham10000_images_part_2/ISIC_0031469.jpg  \n",
            "  inflating: ham10000_images_part_2/ISIC_0031470.jpg  \n",
            "  inflating: ham10000_images_part_2/ISIC_0031471.jpg  \n",
            "  inflating: ham10000_images_part_2/ISIC_0031472.jpg  \n",
            "  inflating: ham10000_images_part_2/ISIC_0031473.jpg  \n",
            "  inflating: ham10000_images_part_2/ISIC_0031474.jpg  \n",
            "  inflating: ham10000_images_part_2/ISIC_0031475.jpg  \n",
            "  inflating: ham10000_images_part_2/ISIC_0031476.jpg  \n",
            "  inflating: ham10000_images_part_2/ISIC_0031477.jpg  \n",
            "  inflating: ham10000_images_part_2/ISIC_0031478.jpg  \n",
            "  inflating: ham10000_images_part_2/ISIC_0031479.jpg  \n",
            "  inflating: ham10000_images_part_2/ISIC_0031480.jpg  \n",
            "  inflating: ham10000_images_part_2/ISIC_0031481.jpg  \n",
            "  inflating: ham10000_images_part_2/ISIC_0031482.jpg  \n",
            "  inflating: ham10000_images_part_2/ISIC_0031483.jpg  \n",
            "  inflating: ham10000_images_part_2/ISIC_0031484.jpg  \n",
            "  inflating: ham10000_images_part_2/ISIC_0031485.jpg  \n",
            "  inflating: ham10000_images_part_2/ISIC_0031486.jpg  \n",
            "  inflating: ham10000_images_part_2/ISIC_0031487.jpg  \n",
            "  inflating: ham10000_images_part_2/ISIC_0031488.jpg  \n",
            "  inflating: ham10000_images_part_2/ISIC_0031489.jpg  \n",
            "  inflating: ham10000_images_part_2/ISIC_0031490.jpg  \n",
            "  inflating: ham10000_images_part_2/ISIC_0031491.jpg  \n",
            "  inflating: ham10000_images_part_2/ISIC_0031492.jpg  \n",
            "  inflating: ham10000_images_part_2/ISIC_0031493.jpg  \n",
            "  inflating: ham10000_images_part_2/ISIC_0031494.jpg  \n",
            "  inflating: ham10000_images_part_2/ISIC_0031495.jpg  \n",
            "  inflating: ham10000_images_part_2/ISIC_0031496.jpg  \n",
            "  inflating: ham10000_images_part_2/ISIC_0031497.jpg  \n",
            "  inflating: ham10000_images_part_2/ISIC_0031498.jpg  \n",
            "  inflating: ham10000_images_part_2/ISIC_0031499.jpg  \n",
            "  inflating: ham10000_images_part_2/ISIC_0031500.jpg  \n",
            "  inflating: ham10000_images_part_2/ISIC_0031501.jpg  \n",
            "  inflating: ham10000_images_part_2/ISIC_0031502.jpg  \n",
            "  inflating: ham10000_images_part_2/ISIC_0031503.jpg  \n",
            "  inflating: ham10000_images_part_2/ISIC_0031504.jpg  \n",
            "  inflating: ham10000_images_part_2/ISIC_0031505.jpg  \n",
            "  inflating: ham10000_images_part_2/ISIC_0031506.jpg  \n",
            "  inflating: ham10000_images_part_2/ISIC_0031507.jpg  \n",
            "  inflating: ham10000_images_part_2/ISIC_0031508.jpg  \n",
            "  inflating: ham10000_images_part_2/ISIC_0031509.jpg  \n",
            "  inflating: ham10000_images_part_2/ISIC_0031510.jpg  \n",
            "  inflating: ham10000_images_part_2/ISIC_0031511.jpg  \n",
            "  inflating: ham10000_images_part_2/ISIC_0031512.jpg  \n",
            "  inflating: ham10000_images_part_2/ISIC_0031513.jpg  \n",
            "  inflating: ham10000_images_part_2/ISIC_0031514.jpg  \n",
            "  inflating: ham10000_images_part_2/ISIC_0031515.jpg  \n",
            "  inflating: ham10000_images_part_2/ISIC_0031516.jpg  \n",
            "  inflating: ham10000_images_part_2/ISIC_0031517.jpg  \n",
            "  inflating: ham10000_images_part_2/ISIC_0031518.jpg  \n",
            "  inflating: ham10000_images_part_2/ISIC_0031519.jpg  \n",
            "  inflating: ham10000_images_part_2/ISIC_0031520.jpg  \n",
            "  inflating: ham10000_images_part_2/ISIC_0031521.jpg  \n",
            "  inflating: ham10000_images_part_2/ISIC_0031522.jpg  \n",
            "  inflating: ham10000_images_part_2/ISIC_0031523.jpg  \n",
            "  inflating: ham10000_images_part_2/ISIC_0031524.jpg  \n",
            "  inflating: ham10000_images_part_2/ISIC_0031525.jpg  \n",
            "  inflating: ham10000_images_part_2/ISIC_0031526.jpg  \n",
            "  inflating: ham10000_images_part_2/ISIC_0031527.jpg  \n",
            "  inflating: ham10000_images_part_2/ISIC_0031528.jpg  \n",
            "  inflating: ham10000_images_part_2/ISIC_0031529.jpg  \n",
            "  inflating: ham10000_images_part_2/ISIC_0031530.jpg  \n",
            "  inflating: ham10000_images_part_2/ISIC_0031531.jpg  \n",
            "  inflating: ham10000_images_part_2/ISIC_0031532.jpg  \n",
            "  inflating: ham10000_images_part_2/ISIC_0031533.jpg  \n",
            "  inflating: ham10000_images_part_2/ISIC_0031534.jpg  \n",
            "  inflating: ham10000_images_part_2/ISIC_0031535.jpg  \n",
            "  inflating: ham10000_images_part_2/ISIC_0031536.jpg  \n",
            "  inflating: ham10000_images_part_2/ISIC_0031537.jpg  \n",
            "  inflating: ham10000_images_part_2/ISIC_0031538.jpg  \n",
            "  inflating: ham10000_images_part_2/ISIC_0031539.jpg  \n",
            "  inflating: ham10000_images_part_2/ISIC_0031540.jpg  \n",
            "  inflating: ham10000_images_part_2/ISIC_0031541.jpg  \n",
            "  inflating: ham10000_images_part_2/ISIC_0031542.jpg  \n",
            "  inflating: ham10000_images_part_2/ISIC_0031543.jpg  \n",
            "  inflating: ham10000_images_part_2/ISIC_0031544.jpg  \n",
            "  inflating: ham10000_images_part_2/ISIC_0031545.jpg  \n",
            "  inflating: ham10000_images_part_2/ISIC_0031546.jpg  \n",
            "  inflating: ham10000_images_part_2/ISIC_0031547.jpg  \n",
            "  inflating: ham10000_images_part_2/ISIC_0031548.jpg  \n",
            "  inflating: ham10000_images_part_2/ISIC_0031549.jpg  \n",
            "  inflating: ham10000_images_part_2/ISIC_0031550.jpg  \n",
            "  inflating: ham10000_images_part_2/ISIC_0031551.jpg  \n",
            "  inflating: ham10000_images_part_2/ISIC_0031552.jpg  \n",
            "  inflating: ham10000_images_part_2/ISIC_0031553.jpg  \n",
            "  inflating: ham10000_images_part_2/ISIC_0031554.jpg  \n",
            "  inflating: ham10000_images_part_2/ISIC_0031555.jpg  \n",
            "  inflating: ham10000_images_part_2/ISIC_0031556.jpg  \n",
            "  inflating: ham10000_images_part_2/ISIC_0031557.jpg  \n",
            "  inflating: ham10000_images_part_2/ISIC_0031558.jpg  \n",
            "  inflating: ham10000_images_part_2/ISIC_0031559.jpg  \n",
            "  inflating: ham10000_images_part_2/ISIC_0031560.jpg  \n",
            "  inflating: ham10000_images_part_2/ISIC_0031561.jpg  \n",
            "  inflating: ham10000_images_part_2/ISIC_0031562.jpg  \n",
            "  inflating: ham10000_images_part_2/ISIC_0031563.jpg  \n",
            "  inflating: ham10000_images_part_2/ISIC_0031564.jpg  \n",
            "  inflating: ham10000_images_part_2/ISIC_0031565.jpg  \n",
            "  inflating: ham10000_images_part_2/ISIC_0031566.jpg  \n",
            "  inflating: ham10000_images_part_2/ISIC_0031567.jpg  \n",
            "  inflating: ham10000_images_part_2/ISIC_0031568.jpg  \n",
            "  inflating: ham10000_images_part_2/ISIC_0031569.jpg  \n",
            "  inflating: ham10000_images_part_2/ISIC_0031570.jpg  \n",
            "  inflating: ham10000_images_part_2/ISIC_0031571.jpg  \n",
            "  inflating: ham10000_images_part_2/ISIC_0031572.jpg  \n",
            "  inflating: ham10000_images_part_2/ISIC_0031573.jpg  \n",
            "  inflating: ham10000_images_part_2/ISIC_0031574.jpg  \n",
            "  inflating: ham10000_images_part_2/ISIC_0031575.jpg  \n",
            "  inflating: ham10000_images_part_2/ISIC_0031576.jpg  \n",
            "  inflating: ham10000_images_part_2/ISIC_0031577.jpg  \n",
            "  inflating: ham10000_images_part_2/ISIC_0031578.jpg  \n",
            "  inflating: ham10000_images_part_2/ISIC_0031579.jpg  \n",
            "  inflating: ham10000_images_part_2/ISIC_0031580.jpg  \n",
            "  inflating: ham10000_images_part_2/ISIC_0031581.jpg  \n",
            "  inflating: ham10000_images_part_2/ISIC_0031582.jpg  \n",
            "  inflating: ham10000_images_part_2/ISIC_0031583.jpg  \n",
            "  inflating: ham10000_images_part_2/ISIC_0031584.jpg  \n",
            "  inflating: ham10000_images_part_2/ISIC_0031585.jpg  \n",
            "  inflating: ham10000_images_part_2/ISIC_0031586.jpg  \n",
            "  inflating: ham10000_images_part_2/ISIC_0031587.jpg  \n",
            "  inflating: ham10000_images_part_2/ISIC_0031588.jpg  \n",
            "  inflating: ham10000_images_part_2/ISIC_0031589.jpg  \n",
            "  inflating: ham10000_images_part_2/ISIC_0031590.jpg  \n",
            "  inflating: ham10000_images_part_2/ISIC_0031591.jpg  \n",
            "  inflating: ham10000_images_part_2/ISIC_0031592.jpg  \n",
            "  inflating: ham10000_images_part_2/ISIC_0031593.jpg  \n",
            "  inflating: ham10000_images_part_2/ISIC_0031594.jpg  \n",
            "  inflating: ham10000_images_part_2/ISIC_0031595.jpg  \n",
            "  inflating: ham10000_images_part_2/ISIC_0031596.jpg  \n",
            "  inflating: ham10000_images_part_2/ISIC_0031597.jpg  \n",
            "  inflating: ham10000_images_part_2/ISIC_0031598.jpg  \n",
            "  inflating: ham10000_images_part_2/ISIC_0031599.jpg  \n",
            "  inflating: ham10000_images_part_2/ISIC_0031600.jpg  \n",
            "  inflating: ham10000_images_part_2/ISIC_0031601.jpg  \n",
            "  inflating: ham10000_images_part_2/ISIC_0031602.jpg  \n",
            "  inflating: ham10000_images_part_2/ISIC_0031603.jpg  \n",
            "  inflating: ham10000_images_part_2/ISIC_0031604.jpg  \n",
            "  inflating: ham10000_images_part_2/ISIC_0031605.jpg  \n",
            "  inflating: ham10000_images_part_2/ISIC_0031606.jpg  \n",
            "  inflating: ham10000_images_part_2/ISIC_0031607.jpg  \n",
            "  inflating: ham10000_images_part_2/ISIC_0031608.jpg  \n",
            "  inflating: ham10000_images_part_2/ISIC_0031609.jpg  \n",
            "  inflating: ham10000_images_part_2/ISIC_0031610.jpg  \n",
            "  inflating: ham10000_images_part_2/ISIC_0031611.jpg  \n",
            "  inflating: ham10000_images_part_2/ISIC_0031612.jpg  \n",
            "  inflating: ham10000_images_part_2/ISIC_0031613.jpg  \n",
            "  inflating: ham10000_images_part_2/ISIC_0031614.jpg  \n",
            "  inflating: ham10000_images_part_2/ISIC_0031615.jpg  \n",
            "  inflating: ham10000_images_part_2/ISIC_0031616.jpg  \n",
            "  inflating: ham10000_images_part_2/ISIC_0031617.jpg  \n",
            "  inflating: ham10000_images_part_2/ISIC_0031618.jpg  \n",
            "  inflating: ham10000_images_part_2/ISIC_0031619.jpg  \n",
            "  inflating: ham10000_images_part_2/ISIC_0031620.jpg  \n",
            "  inflating: ham10000_images_part_2/ISIC_0031621.jpg  \n",
            "  inflating: ham10000_images_part_2/ISIC_0031622.jpg  \n",
            "  inflating: ham10000_images_part_2/ISIC_0031623.jpg  \n",
            "  inflating: ham10000_images_part_2/ISIC_0031624.jpg  \n",
            "  inflating: ham10000_images_part_2/ISIC_0031625.jpg  \n",
            "  inflating: ham10000_images_part_2/ISIC_0031626.jpg  \n",
            "  inflating: ham10000_images_part_2/ISIC_0031627.jpg  \n",
            "  inflating: ham10000_images_part_2/ISIC_0031628.jpg  \n",
            "  inflating: ham10000_images_part_2/ISIC_0031629.jpg  \n",
            "  inflating: ham10000_images_part_2/ISIC_0031630.jpg  \n",
            "  inflating: ham10000_images_part_2/ISIC_0031631.jpg  \n",
            "  inflating: ham10000_images_part_2/ISIC_0031632.jpg  \n",
            "  inflating: ham10000_images_part_2/ISIC_0031633.jpg  \n",
            "  inflating: ham10000_images_part_2/ISIC_0031634.jpg  \n",
            "  inflating: ham10000_images_part_2/ISIC_0031635.jpg  \n",
            "  inflating: ham10000_images_part_2/ISIC_0031636.jpg  \n",
            "  inflating: ham10000_images_part_2/ISIC_0031637.jpg  \n",
            "  inflating: ham10000_images_part_2/ISIC_0031638.jpg  \n",
            "  inflating: ham10000_images_part_2/ISIC_0031639.jpg  \n",
            "  inflating: ham10000_images_part_2/ISIC_0031640.jpg  \n",
            "  inflating: ham10000_images_part_2/ISIC_0031641.jpg  \n",
            "  inflating: ham10000_images_part_2/ISIC_0031642.jpg  \n",
            "  inflating: ham10000_images_part_2/ISIC_0031643.jpg  \n",
            "  inflating: ham10000_images_part_2/ISIC_0031644.jpg  \n",
            "  inflating: ham10000_images_part_2/ISIC_0031645.jpg  \n",
            "  inflating: ham10000_images_part_2/ISIC_0031646.jpg  \n",
            "  inflating: ham10000_images_part_2/ISIC_0031647.jpg  \n",
            "  inflating: ham10000_images_part_2/ISIC_0031648.jpg  \n",
            "  inflating: ham10000_images_part_2/ISIC_0031649.jpg  \n",
            "  inflating: ham10000_images_part_2/ISIC_0031650.jpg  \n",
            "  inflating: ham10000_images_part_2/ISIC_0031651.jpg  \n",
            "  inflating: ham10000_images_part_2/ISIC_0031652.jpg  \n",
            "  inflating: ham10000_images_part_2/ISIC_0031653.jpg  \n",
            "  inflating: ham10000_images_part_2/ISIC_0031654.jpg  \n",
            "  inflating: ham10000_images_part_2/ISIC_0031655.jpg  \n",
            "  inflating: ham10000_images_part_2/ISIC_0031656.jpg  \n",
            "  inflating: ham10000_images_part_2/ISIC_0031657.jpg  \n",
            "  inflating: ham10000_images_part_2/ISIC_0031658.jpg  \n",
            "  inflating: ham10000_images_part_2/ISIC_0031659.jpg  \n",
            "  inflating: ham10000_images_part_2/ISIC_0031660.jpg  \n",
            "  inflating: ham10000_images_part_2/ISIC_0031661.jpg  \n",
            "  inflating: ham10000_images_part_2/ISIC_0031662.jpg  \n",
            "  inflating: ham10000_images_part_2/ISIC_0031663.jpg  \n",
            "  inflating: ham10000_images_part_2/ISIC_0031664.jpg  \n",
            "  inflating: ham10000_images_part_2/ISIC_0031665.jpg  \n",
            "  inflating: ham10000_images_part_2/ISIC_0031666.jpg  \n",
            "  inflating: ham10000_images_part_2/ISIC_0031667.jpg  \n",
            "  inflating: ham10000_images_part_2/ISIC_0031668.jpg  \n",
            "  inflating: ham10000_images_part_2/ISIC_0031669.jpg  \n",
            "  inflating: ham10000_images_part_2/ISIC_0031670.jpg  \n",
            "  inflating: ham10000_images_part_2/ISIC_0031671.jpg  \n",
            "  inflating: ham10000_images_part_2/ISIC_0031672.jpg  \n",
            "  inflating: ham10000_images_part_2/ISIC_0031673.jpg  \n",
            "  inflating: ham10000_images_part_2/ISIC_0031674.jpg  \n",
            "  inflating: ham10000_images_part_2/ISIC_0031675.jpg  \n",
            "  inflating: ham10000_images_part_2/ISIC_0031676.jpg  \n",
            "  inflating: ham10000_images_part_2/ISIC_0031677.jpg  \n",
            "  inflating: ham10000_images_part_2/ISIC_0031678.jpg  \n",
            "  inflating: ham10000_images_part_2/ISIC_0031679.jpg  \n",
            "  inflating: ham10000_images_part_2/ISIC_0031680.jpg  \n",
            "  inflating: ham10000_images_part_2/ISIC_0031681.jpg  \n",
            "  inflating: ham10000_images_part_2/ISIC_0031682.jpg  \n",
            "  inflating: ham10000_images_part_2/ISIC_0031683.jpg  \n",
            "  inflating: ham10000_images_part_2/ISIC_0031684.jpg  \n",
            "  inflating: ham10000_images_part_2/ISIC_0031685.jpg  \n",
            "  inflating: ham10000_images_part_2/ISIC_0031686.jpg  \n",
            "  inflating: ham10000_images_part_2/ISIC_0031687.jpg  \n",
            "  inflating: ham10000_images_part_2/ISIC_0031688.jpg  \n",
            "  inflating: ham10000_images_part_2/ISIC_0031689.jpg  \n",
            "  inflating: ham10000_images_part_2/ISIC_0031690.jpg  \n",
            "  inflating: ham10000_images_part_2/ISIC_0031691.jpg  \n",
            "  inflating: ham10000_images_part_2/ISIC_0031692.jpg  \n",
            "  inflating: ham10000_images_part_2/ISIC_0031693.jpg  \n",
            "  inflating: ham10000_images_part_2/ISIC_0031694.jpg  \n",
            "  inflating: ham10000_images_part_2/ISIC_0031695.jpg  \n",
            "  inflating: ham10000_images_part_2/ISIC_0031696.jpg  \n",
            "  inflating: ham10000_images_part_2/ISIC_0031697.jpg  \n",
            "  inflating: ham10000_images_part_2/ISIC_0031698.jpg  \n",
            "  inflating: ham10000_images_part_2/ISIC_0031699.jpg  \n",
            "  inflating: ham10000_images_part_2/ISIC_0031700.jpg  \n",
            "  inflating: ham10000_images_part_2/ISIC_0031701.jpg  \n",
            "  inflating: ham10000_images_part_2/ISIC_0031702.jpg  \n",
            "  inflating: ham10000_images_part_2/ISIC_0031703.jpg  \n",
            "  inflating: ham10000_images_part_2/ISIC_0031704.jpg  \n",
            "  inflating: ham10000_images_part_2/ISIC_0031705.jpg  \n",
            "  inflating: ham10000_images_part_2/ISIC_0031706.jpg  \n",
            "  inflating: ham10000_images_part_2/ISIC_0031707.jpg  \n",
            "  inflating: ham10000_images_part_2/ISIC_0031708.jpg  \n",
            "  inflating: ham10000_images_part_2/ISIC_0031709.jpg  \n",
            "  inflating: ham10000_images_part_2/ISIC_0031710.jpg  \n",
            "  inflating: ham10000_images_part_2/ISIC_0031711.jpg  \n",
            "  inflating: ham10000_images_part_2/ISIC_0031712.jpg  \n",
            "  inflating: ham10000_images_part_2/ISIC_0031713.jpg  \n",
            "  inflating: ham10000_images_part_2/ISIC_0031714.jpg  \n",
            "  inflating: ham10000_images_part_2/ISIC_0031715.jpg  \n",
            "  inflating: ham10000_images_part_2/ISIC_0031716.jpg  \n",
            "  inflating: ham10000_images_part_2/ISIC_0031717.jpg  \n",
            "  inflating: ham10000_images_part_2/ISIC_0031718.jpg  \n",
            "  inflating: ham10000_images_part_2/ISIC_0031719.jpg  \n",
            "  inflating: ham10000_images_part_2/ISIC_0031720.jpg  \n",
            "  inflating: ham10000_images_part_2/ISIC_0031721.jpg  \n",
            "  inflating: ham10000_images_part_2/ISIC_0031722.jpg  \n",
            "  inflating: ham10000_images_part_2/ISIC_0031723.jpg  \n",
            "  inflating: ham10000_images_part_2/ISIC_0031724.jpg  \n",
            "  inflating: ham10000_images_part_2/ISIC_0031725.jpg  \n",
            "  inflating: ham10000_images_part_2/ISIC_0031726.jpg  \n",
            "  inflating: ham10000_images_part_2/ISIC_0031727.jpg  \n",
            "  inflating: ham10000_images_part_2/ISIC_0031728.jpg  \n",
            "  inflating: ham10000_images_part_2/ISIC_0031729.jpg  \n",
            "  inflating: ham10000_images_part_2/ISIC_0031730.jpg  \n",
            "  inflating: ham10000_images_part_2/ISIC_0031731.jpg  \n",
            "  inflating: ham10000_images_part_2/ISIC_0031732.jpg  \n",
            "  inflating: ham10000_images_part_2/ISIC_0031733.jpg  \n",
            "  inflating: ham10000_images_part_2/ISIC_0031734.jpg  \n",
            "  inflating: ham10000_images_part_2/ISIC_0031735.jpg  \n",
            "  inflating: ham10000_images_part_2/ISIC_0031736.jpg  \n",
            "  inflating: ham10000_images_part_2/ISIC_0031737.jpg  \n",
            "  inflating: ham10000_images_part_2/ISIC_0031738.jpg  \n",
            "  inflating: ham10000_images_part_2/ISIC_0031739.jpg  \n",
            "  inflating: ham10000_images_part_2/ISIC_0031740.jpg  \n",
            "  inflating: ham10000_images_part_2/ISIC_0031741.jpg  \n",
            "  inflating: ham10000_images_part_2/ISIC_0031742.jpg  \n",
            "  inflating: ham10000_images_part_2/ISIC_0031743.jpg  \n",
            "  inflating: ham10000_images_part_2/ISIC_0031744.jpg  \n",
            "  inflating: ham10000_images_part_2/ISIC_0031745.jpg  \n",
            "  inflating: ham10000_images_part_2/ISIC_0031746.jpg  \n",
            "  inflating: ham10000_images_part_2/ISIC_0031747.jpg  \n",
            "  inflating: ham10000_images_part_2/ISIC_0031748.jpg  \n",
            "  inflating: ham10000_images_part_2/ISIC_0031749.jpg  \n",
            "  inflating: ham10000_images_part_2/ISIC_0031750.jpg  \n",
            "  inflating: ham10000_images_part_2/ISIC_0031751.jpg  \n",
            "  inflating: ham10000_images_part_2/ISIC_0031752.jpg  \n",
            "  inflating: ham10000_images_part_2/ISIC_0031753.jpg  \n",
            "  inflating: ham10000_images_part_2/ISIC_0031754.jpg  \n",
            "  inflating: ham10000_images_part_2/ISIC_0031755.jpg  \n",
            "  inflating: ham10000_images_part_2/ISIC_0031756.jpg  \n",
            "  inflating: ham10000_images_part_2/ISIC_0031757.jpg  \n",
            "  inflating: ham10000_images_part_2/ISIC_0031758.jpg  \n",
            "  inflating: ham10000_images_part_2/ISIC_0031759.jpg  \n",
            "  inflating: ham10000_images_part_2/ISIC_0031760.jpg  \n",
            "  inflating: ham10000_images_part_2/ISIC_0031761.jpg  \n",
            "  inflating: ham10000_images_part_2/ISIC_0031762.jpg  \n",
            "  inflating: ham10000_images_part_2/ISIC_0031763.jpg  \n",
            "  inflating: ham10000_images_part_2/ISIC_0031764.jpg  \n",
            "  inflating: ham10000_images_part_2/ISIC_0031765.jpg  \n",
            "  inflating: ham10000_images_part_2/ISIC_0031766.jpg  \n",
            "  inflating: ham10000_images_part_2/ISIC_0031767.jpg  \n",
            "  inflating: ham10000_images_part_2/ISIC_0031768.jpg  \n",
            "  inflating: ham10000_images_part_2/ISIC_0031769.jpg  \n",
            "  inflating: ham10000_images_part_2/ISIC_0031770.jpg  \n",
            "  inflating: ham10000_images_part_2/ISIC_0031771.jpg  \n",
            "  inflating: ham10000_images_part_2/ISIC_0031772.jpg  \n",
            "  inflating: ham10000_images_part_2/ISIC_0031773.jpg  \n",
            "  inflating: ham10000_images_part_2/ISIC_0031774.jpg  \n",
            "  inflating: ham10000_images_part_2/ISIC_0031775.jpg  \n",
            "  inflating: ham10000_images_part_2/ISIC_0031776.jpg  \n",
            "  inflating: ham10000_images_part_2/ISIC_0031777.jpg  \n",
            "  inflating: ham10000_images_part_2/ISIC_0031778.jpg  \n",
            "  inflating: ham10000_images_part_2/ISIC_0031779.jpg  \n",
            "  inflating: ham10000_images_part_2/ISIC_0031780.jpg  \n",
            "  inflating: ham10000_images_part_2/ISIC_0031781.jpg  \n",
            "  inflating: ham10000_images_part_2/ISIC_0031782.jpg  \n",
            "  inflating: ham10000_images_part_2/ISIC_0031783.jpg  \n",
            "  inflating: ham10000_images_part_2/ISIC_0031784.jpg  \n",
            "  inflating: ham10000_images_part_2/ISIC_0031785.jpg  \n",
            "  inflating: ham10000_images_part_2/ISIC_0031786.jpg  \n",
            "  inflating: ham10000_images_part_2/ISIC_0031787.jpg  \n",
            "  inflating: ham10000_images_part_2/ISIC_0031788.jpg  \n",
            "  inflating: ham10000_images_part_2/ISIC_0031789.jpg  \n",
            "  inflating: ham10000_images_part_2/ISIC_0031790.jpg  \n",
            "  inflating: ham10000_images_part_2/ISIC_0031791.jpg  \n",
            "  inflating: ham10000_images_part_2/ISIC_0031792.jpg  \n",
            "  inflating: ham10000_images_part_2/ISIC_0031793.jpg  \n",
            "  inflating: ham10000_images_part_2/ISIC_0031794.jpg  \n",
            "  inflating: ham10000_images_part_2/ISIC_0031795.jpg  \n",
            "  inflating: ham10000_images_part_2/ISIC_0031796.jpg  \n",
            "  inflating: ham10000_images_part_2/ISIC_0031797.jpg  \n",
            "  inflating: ham10000_images_part_2/ISIC_0031798.jpg  \n",
            "  inflating: ham10000_images_part_2/ISIC_0031799.jpg  \n",
            "  inflating: ham10000_images_part_2/ISIC_0031800.jpg  \n",
            "  inflating: ham10000_images_part_2/ISIC_0031801.jpg  \n",
            "  inflating: ham10000_images_part_2/ISIC_0031802.jpg  \n",
            "  inflating: ham10000_images_part_2/ISIC_0031803.jpg  \n",
            "  inflating: ham10000_images_part_2/ISIC_0031804.jpg  \n",
            "  inflating: ham10000_images_part_2/ISIC_0031805.jpg  \n",
            "  inflating: ham10000_images_part_2/ISIC_0031806.jpg  \n",
            "  inflating: ham10000_images_part_2/ISIC_0031807.jpg  \n",
            "  inflating: ham10000_images_part_2/ISIC_0031808.jpg  \n",
            "  inflating: ham10000_images_part_2/ISIC_0031809.jpg  \n",
            "  inflating: ham10000_images_part_2/ISIC_0031810.jpg  \n",
            "  inflating: ham10000_images_part_2/ISIC_0031811.jpg  \n",
            "  inflating: ham10000_images_part_2/ISIC_0031812.jpg  \n",
            "  inflating: ham10000_images_part_2/ISIC_0031813.jpg  \n",
            "  inflating: ham10000_images_part_2/ISIC_0031814.jpg  \n",
            "  inflating: ham10000_images_part_2/ISIC_0031815.jpg  \n",
            "  inflating: ham10000_images_part_2/ISIC_0031816.jpg  \n",
            "  inflating: ham10000_images_part_2/ISIC_0031817.jpg  \n",
            "  inflating: ham10000_images_part_2/ISIC_0031818.jpg  \n",
            "  inflating: ham10000_images_part_2/ISIC_0031819.jpg  \n",
            "  inflating: ham10000_images_part_2/ISIC_0031820.jpg  \n",
            "  inflating: ham10000_images_part_2/ISIC_0031821.jpg  \n",
            "  inflating: ham10000_images_part_2/ISIC_0031822.jpg  \n",
            "  inflating: ham10000_images_part_2/ISIC_0031823.jpg  \n",
            "  inflating: ham10000_images_part_2/ISIC_0031824.jpg  \n",
            "  inflating: ham10000_images_part_2/ISIC_0031825.jpg  \n",
            "  inflating: ham10000_images_part_2/ISIC_0031826.jpg  \n",
            "  inflating: ham10000_images_part_2/ISIC_0031827.jpg  \n",
            "  inflating: ham10000_images_part_2/ISIC_0031828.jpg  \n",
            "  inflating: ham10000_images_part_2/ISIC_0031829.jpg  \n",
            "  inflating: ham10000_images_part_2/ISIC_0031830.jpg  \n",
            "  inflating: ham10000_images_part_2/ISIC_0031831.jpg  \n",
            "  inflating: ham10000_images_part_2/ISIC_0031832.jpg  \n",
            "  inflating: ham10000_images_part_2/ISIC_0031833.jpg  \n",
            "  inflating: ham10000_images_part_2/ISIC_0031834.jpg  \n",
            "  inflating: ham10000_images_part_2/ISIC_0031835.jpg  \n",
            "  inflating: ham10000_images_part_2/ISIC_0031836.jpg  \n",
            "  inflating: ham10000_images_part_2/ISIC_0031837.jpg  \n",
            "  inflating: ham10000_images_part_2/ISIC_0031838.jpg  \n",
            "  inflating: ham10000_images_part_2/ISIC_0031839.jpg  \n",
            "  inflating: ham10000_images_part_2/ISIC_0031840.jpg  \n",
            "  inflating: ham10000_images_part_2/ISIC_0031841.jpg  \n",
            "  inflating: ham10000_images_part_2/ISIC_0031842.jpg  \n",
            "  inflating: ham10000_images_part_2/ISIC_0031843.jpg  \n",
            "  inflating: ham10000_images_part_2/ISIC_0031844.jpg  \n",
            "  inflating: ham10000_images_part_2/ISIC_0031845.jpg  \n",
            "  inflating: ham10000_images_part_2/ISIC_0031846.jpg  \n",
            "  inflating: ham10000_images_part_2/ISIC_0031847.jpg  \n",
            "  inflating: ham10000_images_part_2/ISIC_0031848.jpg  \n",
            "  inflating: ham10000_images_part_2/ISIC_0031849.jpg  \n",
            "  inflating: ham10000_images_part_2/ISIC_0031850.jpg  \n",
            "  inflating: ham10000_images_part_2/ISIC_0031851.jpg  \n",
            "  inflating: ham10000_images_part_2/ISIC_0031852.jpg  \n",
            "  inflating: ham10000_images_part_2/ISIC_0031853.jpg  \n",
            "  inflating: ham10000_images_part_2/ISIC_0031854.jpg  \n",
            "  inflating: ham10000_images_part_2/ISIC_0031855.jpg  \n",
            "  inflating: ham10000_images_part_2/ISIC_0031856.jpg  \n",
            "  inflating: ham10000_images_part_2/ISIC_0031857.jpg  \n",
            "  inflating: ham10000_images_part_2/ISIC_0031858.jpg  \n",
            "  inflating: ham10000_images_part_2/ISIC_0031859.jpg  \n",
            "  inflating: ham10000_images_part_2/ISIC_0031860.jpg  \n",
            "  inflating: ham10000_images_part_2/ISIC_0031861.jpg  \n",
            "  inflating: ham10000_images_part_2/ISIC_0031862.jpg  \n",
            "  inflating: ham10000_images_part_2/ISIC_0031863.jpg  \n",
            "  inflating: ham10000_images_part_2/ISIC_0031864.jpg  \n",
            "  inflating: ham10000_images_part_2/ISIC_0031865.jpg  \n",
            "  inflating: ham10000_images_part_2/ISIC_0031866.jpg  \n",
            "  inflating: ham10000_images_part_2/ISIC_0031867.jpg  \n",
            "  inflating: ham10000_images_part_2/ISIC_0031868.jpg  \n",
            "  inflating: ham10000_images_part_2/ISIC_0031869.jpg  \n",
            "  inflating: ham10000_images_part_2/ISIC_0031870.jpg  \n",
            "  inflating: ham10000_images_part_2/ISIC_0031871.jpg  \n",
            "  inflating: ham10000_images_part_2/ISIC_0031872.jpg  \n",
            "  inflating: ham10000_images_part_2/ISIC_0031873.jpg  \n",
            "  inflating: ham10000_images_part_2/ISIC_0031874.jpg  \n",
            "  inflating: ham10000_images_part_2/ISIC_0031875.jpg  \n",
            "  inflating: ham10000_images_part_2/ISIC_0031876.jpg  \n",
            "  inflating: ham10000_images_part_2/ISIC_0031877.jpg  \n",
            "  inflating: ham10000_images_part_2/ISIC_0031878.jpg  \n",
            "  inflating: ham10000_images_part_2/ISIC_0031879.jpg  \n",
            "  inflating: ham10000_images_part_2/ISIC_0031880.jpg  \n",
            "  inflating: ham10000_images_part_2/ISIC_0031881.jpg  \n",
            "  inflating: ham10000_images_part_2/ISIC_0031882.jpg  \n",
            "  inflating: ham10000_images_part_2/ISIC_0031883.jpg  \n",
            "  inflating: ham10000_images_part_2/ISIC_0031884.jpg  \n",
            "  inflating: ham10000_images_part_2/ISIC_0031885.jpg  \n",
            "  inflating: ham10000_images_part_2/ISIC_0031886.jpg  \n",
            "  inflating: ham10000_images_part_2/ISIC_0031887.jpg  \n",
            "  inflating: ham10000_images_part_2/ISIC_0031888.jpg  \n",
            "  inflating: ham10000_images_part_2/ISIC_0031889.jpg  \n",
            "  inflating: ham10000_images_part_2/ISIC_0031890.jpg  \n",
            "  inflating: ham10000_images_part_2/ISIC_0031891.jpg  \n",
            "  inflating: ham10000_images_part_2/ISIC_0031892.jpg  \n",
            "  inflating: ham10000_images_part_2/ISIC_0031893.jpg  \n",
            "  inflating: ham10000_images_part_2/ISIC_0031894.jpg  \n",
            "  inflating: ham10000_images_part_2/ISIC_0031895.jpg  \n",
            "  inflating: ham10000_images_part_2/ISIC_0031896.jpg  \n",
            "  inflating: ham10000_images_part_2/ISIC_0031897.jpg  \n",
            "  inflating: ham10000_images_part_2/ISIC_0031898.jpg  \n",
            "  inflating: ham10000_images_part_2/ISIC_0031899.jpg  \n",
            "  inflating: ham10000_images_part_2/ISIC_0031900.jpg  \n",
            "  inflating: ham10000_images_part_2/ISIC_0031901.jpg  \n",
            "  inflating: ham10000_images_part_2/ISIC_0031902.jpg  \n",
            "  inflating: ham10000_images_part_2/ISIC_0031903.jpg  \n",
            "  inflating: ham10000_images_part_2/ISIC_0031904.jpg  \n",
            "  inflating: ham10000_images_part_2/ISIC_0031905.jpg  \n",
            "  inflating: ham10000_images_part_2/ISIC_0031906.jpg  \n",
            "  inflating: ham10000_images_part_2/ISIC_0031907.jpg  \n",
            "  inflating: ham10000_images_part_2/ISIC_0031908.jpg  \n",
            "  inflating: ham10000_images_part_2/ISIC_0031909.jpg  \n",
            "  inflating: ham10000_images_part_2/ISIC_0031910.jpg  \n",
            "  inflating: ham10000_images_part_2/ISIC_0031911.jpg  \n",
            "  inflating: ham10000_images_part_2/ISIC_0031912.jpg  \n",
            "  inflating: ham10000_images_part_2/ISIC_0031913.jpg  \n",
            "  inflating: ham10000_images_part_2/ISIC_0031914.jpg  \n",
            "  inflating: ham10000_images_part_2/ISIC_0031915.jpg  \n",
            "  inflating: ham10000_images_part_2/ISIC_0031916.jpg  \n",
            "  inflating: ham10000_images_part_2/ISIC_0031917.jpg  \n",
            "  inflating: ham10000_images_part_2/ISIC_0031918.jpg  \n",
            "  inflating: ham10000_images_part_2/ISIC_0031919.jpg  \n",
            "  inflating: ham10000_images_part_2/ISIC_0031920.jpg  \n",
            "  inflating: ham10000_images_part_2/ISIC_0031921.jpg  \n",
            "  inflating: ham10000_images_part_2/ISIC_0031922.jpg  \n",
            "  inflating: ham10000_images_part_2/ISIC_0031923.jpg  \n",
            "  inflating: ham10000_images_part_2/ISIC_0031924.jpg  \n",
            "  inflating: ham10000_images_part_2/ISIC_0031925.jpg  \n",
            "  inflating: ham10000_images_part_2/ISIC_0031926.jpg  \n",
            "  inflating: ham10000_images_part_2/ISIC_0031927.jpg  \n",
            "  inflating: ham10000_images_part_2/ISIC_0031928.jpg  \n",
            "  inflating: ham10000_images_part_2/ISIC_0031929.jpg  \n",
            "  inflating: ham10000_images_part_2/ISIC_0031930.jpg  \n",
            "  inflating: ham10000_images_part_2/ISIC_0031931.jpg  \n",
            "  inflating: ham10000_images_part_2/ISIC_0031932.jpg  \n",
            "  inflating: ham10000_images_part_2/ISIC_0031933.jpg  \n",
            "  inflating: ham10000_images_part_2/ISIC_0031934.jpg  \n",
            "  inflating: ham10000_images_part_2/ISIC_0031935.jpg  \n",
            "  inflating: ham10000_images_part_2/ISIC_0031936.jpg  \n",
            "  inflating: ham10000_images_part_2/ISIC_0031937.jpg  \n",
            "  inflating: ham10000_images_part_2/ISIC_0031938.jpg  \n",
            "  inflating: ham10000_images_part_2/ISIC_0031939.jpg  \n",
            "  inflating: ham10000_images_part_2/ISIC_0031940.jpg  \n",
            "  inflating: ham10000_images_part_2/ISIC_0031941.jpg  \n",
            "  inflating: ham10000_images_part_2/ISIC_0031942.jpg  \n",
            "  inflating: ham10000_images_part_2/ISIC_0031943.jpg  \n",
            "  inflating: ham10000_images_part_2/ISIC_0031944.jpg  \n",
            "  inflating: ham10000_images_part_2/ISIC_0031945.jpg  \n",
            "  inflating: ham10000_images_part_2/ISIC_0031946.jpg  \n",
            "  inflating: ham10000_images_part_2/ISIC_0031947.jpg  \n",
            "  inflating: ham10000_images_part_2/ISIC_0031948.jpg  \n",
            "  inflating: ham10000_images_part_2/ISIC_0031949.jpg  \n",
            "  inflating: ham10000_images_part_2/ISIC_0031950.jpg  \n",
            "  inflating: ham10000_images_part_2/ISIC_0031951.jpg  \n",
            "  inflating: ham10000_images_part_2/ISIC_0031952.jpg  \n",
            "  inflating: ham10000_images_part_2/ISIC_0031953.jpg  \n",
            "  inflating: ham10000_images_part_2/ISIC_0031954.jpg  \n",
            "  inflating: ham10000_images_part_2/ISIC_0031955.jpg  \n",
            "  inflating: ham10000_images_part_2/ISIC_0031956.jpg  \n",
            "  inflating: ham10000_images_part_2/ISIC_0031957.jpg  \n",
            "  inflating: ham10000_images_part_2/ISIC_0031958.jpg  \n",
            "  inflating: ham10000_images_part_2/ISIC_0031959.jpg  \n",
            "  inflating: ham10000_images_part_2/ISIC_0031960.jpg  \n",
            "  inflating: ham10000_images_part_2/ISIC_0031961.jpg  \n",
            "  inflating: ham10000_images_part_2/ISIC_0031962.jpg  \n",
            "  inflating: ham10000_images_part_2/ISIC_0031963.jpg  \n",
            "  inflating: ham10000_images_part_2/ISIC_0031964.jpg  \n",
            "  inflating: ham10000_images_part_2/ISIC_0031965.jpg  \n",
            "  inflating: ham10000_images_part_2/ISIC_0031966.jpg  \n",
            "  inflating: ham10000_images_part_2/ISIC_0031967.jpg  \n",
            "  inflating: ham10000_images_part_2/ISIC_0031968.jpg  \n",
            "  inflating: ham10000_images_part_2/ISIC_0031969.jpg  \n",
            "  inflating: ham10000_images_part_2/ISIC_0031970.jpg  \n",
            "  inflating: ham10000_images_part_2/ISIC_0031971.jpg  \n",
            "  inflating: ham10000_images_part_2/ISIC_0031972.jpg  \n",
            "  inflating: ham10000_images_part_2/ISIC_0031973.jpg  \n",
            "  inflating: ham10000_images_part_2/ISIC_0031974.jpg  \n",
            "  inflating: ham10000_images_part_2/ISIC_0031975.jpg  \n",
            "  inflating: ham10000_images_part_2/ISIC_0031976.jpg  \n",
            "  inflating: ham10000_images_part_2/ISIC_0031977.jpg  \n",
            "  inflating: ham10000_images_part_2/ISIC_0031978.jpg  \n",
            "  inflating: ham10000_images_part_2/ISIC_0031979.jpg  \n",
            "  inflating: ham10000_images_part_2/ISIC_0031980.jpg  \n",
            "  inflating: ham10000_images_part_2/ISIC_0031981.jpg  \n",
            "  inflating: ham10000_images_part_2/ISIC_0031982.jpg  \n",
            "  inflating: ham10000_images_part_2/ISIC_0031983.jpg  \n",
            "  inflating: ham10000_images_part_2/ISIC_0031984.jpg  \n",
            "  inflating: ham10000_images_part_2/ISIC_0031985.jpg  \n",
            "  inflating: ham10000_images_part_2/ISIC_0031986.jpg  \n",
            "  inflating: ham10000_images_part_2/ISIC_0031987.jpg  \n",
            "  inflating: ham10000_images_part_2/ISIC_0031988.jpg  \n",
            "  inflating: ham10000_images_part_2/ISIC_0031989.jpg  \n",
            "  inflating: ham10000_images_part_2/ISIC_0031990.jpg  \n",
            "  inflating: ham10000_images_part_2/ISIC_0031991.jpg  \n",
            "  inflating: ham10000_images_part_2/ISIC_0031992.jpg  \n",
            "  inflating: ham10000_images_part_2/ISIC_0031993.jpg  \n",
            "  inflating: ham10000_images_part_2/ISIC_0031994.jpg  \n",
            "  inflating: ham10000_images_part_2/ISIC_0031995.jpg  \n",
            "  inflating: ham10000_images_part_2/ISIC_0031996.jpg  \n",
            "  inflating: ham10000_images_part_2/ISIC_0031997.jpg  \n",
            "  inflating: ham10000_images_part_2/ISIC_0031998.jpg  \n",
            "  inflating: ham10000_images_part_2/ISIC_0031999.jpg  \n",
            "  inflating: ham10000_images_part_2/ISIC_0032000.jpg  \n",
            "  inflating: ham10000_images_part_2/ISIC_0032001.jpg  \n",
            "  inflating: ham10000_images_part_2/ISIC_0032002.jpg  \n",
            "  inflating: ham10000_images_part_2/ISIC_0032003.jpg  \n",
            "  inflating: ham10000_images_part_2/ISIC_0032004.jpg  \n",
            "  inflating: ham10000_images_part_2/ISIC_0032005.jpg  \n",
            "  inflating: ham10000_images_part_2/ISIC_0032006.jpg  \n",
            "  inflating: ham10000_images_part_2/ISIC_0032007.jpg  \n",
            "  inflating: ham10000_images_part_2/ISIC_0032008.jpg  \n",
            "  inflating: ham10000_images_part_2/ISIC_0032009.jpg  \n",
            "  inflating: ham10000_images_part_2/ISIC_0032010.jpg  \n",
            "  inflating: ham10000_images_part_2/ISIC_0032011.jpg  \n",
            "  inflating: ham10000_images_part_2/ISIC_0032012.jpg  \n",
            "  inflating: ham10000_images_part_2/ISIC_0032013.jpg  \n",
            "  inflating: ham10000_images_part_2/ISIC_0032014.jpg  \n",
            "  inflating: ham10000_images_part_2/ISIC_0032015.jpg  \n",
            "  inflating: ham10000_images_part_2/ISIC_0032016.jpg  \n",
            "  inflating: ham10000_images_part_2/ISIC_0032017.jpg  \n",
            "  inflating: ham10000_images_part_2/ISIC_0032018.jpg  \n",
            "  inflating: ham10000_images_part_2/ISIC_0032019.jpg  \n",
            "  inflating: ham10000_images_part_2/ISIC_0032020.jpg  \n",
            "  inflating: ham10000_images_part_2/ISIC_0032021.jpg  \n",
            "  inflating: ham10000_images_part_2/ISIC_0032022.jpg  \n",
            "  inflating: ham10000_images_part_2/ISIC_0032023.jpg  \n",
            "  inflating: ham10000_images_part_2/ISIC_0032024.jpg  \n",
            "  inflating: ham10000_images_part_2/ISIC_0032025.jpg  \n",
            "  inflating: ham10000_images_part_2/ISIC_0032026.jpg  \n",
            "  inflating: ham10000_images_part_2/ISIC_0032027.jpg  \n",
            "  inflating: ham10000_images_part_2/ISIC_0032028.jpg  \n",
            "  inflating: ham10000_images_part_2/ISIC_0032029.jpg  \n",
            "  inflating: ham10000_images_part_2/ISIC_0032030.jpg  \n",
            "  inflating: ham10000_images_part_2/ISIC_0032031.jpg  \n",
            "  inflating: ham10000_images_part_2/ISIC_0032032.jpg  \n",
            "  inflating: ham10000_images_part_2/ISIC_0032033.jpg  \n",
            "  inflating: ham10000_images_part_2/ISIC_0032034.jpg  \n",
            "  inflating: ham10000_images_part_2/ISIC_0032035.jpg  \n",
            "  inflating: ham10000_images_part_2/ISIC_0032036.jpg  \n",
            "  inflating: ham10000_images_part_2/ISIC_0032037.jpg  \n",
            "  inflating: ham10000_images_part_2/ISIC_0032038.jpg  \n",
            "  inflating: ham10000_images_part_2/ISIC_0032039.jpg  \n",
            "  inflating: ham10000_images_part_2/ISIC_0032040.jpg  \n",
            "  inflating: ham10000_images_part_2/ISIC_0032041.jpg  \n",
            "  inflating: ham10000_images_part_2/ISIC_0032042.jpg  \n",
            "  inflating: ham10000_images_part_2/ISIC_0032043.jpg  \n",
            "  inflating: ham10000_images_part_2/ISIC_0032044.jpg  \n",
            "  inflating: ham10000_images_part_2/ISIC_0032045.jpg  \n",
            "  inflating: ham10000_images_part_2/ISIC_0032046.jpg  \n",
            "  inflating: ham10000_images_part_2/ISIC_0032047.jpg  \n",
            "  inflating: ham10000_images_part_2/ISIC_0032048.jpg  \n",
            "  inflating: ham10000_images_part_2/ISIC_0032049.jpg  \n",
            "  inflating: ham10000_images_part_2/ISIC_0032050.jpg  \n",
            "  inflating: ham10000_images_part_2/ISIC_0032051.jpg  \n",
            "  inflating: ham10000_images_part_2/ISIC_0032052.jpg  \n",
            "  inflating: ham10000_images_part_2/ISIC_0032053.jpg  \n",
            "  inflating: ham10000_images_part_2/ISIC_0032054.jpg  \n",
            "  inflating: ham10000_images_part_2/ISIC_0032055.jpg  \n",
            "  inflating: ham10000_images_part_2/ISIC_0032056.jpg  \n",
            "  inflating: ham10000_images_part_2/ISIC_0032057.jpg  \n",
            "  inflating: ham10000_images_part_2/ISIC_0032058.jpg  \n",
            "  inflating: ham10000_images_part_2/ISIC_0032059.jpg  \n",
            "  inflating: ham10000_images_part_2/ISIC_0032060.jpg  \n",
            "  inflating: ham10000_images_part_2/ISIC_0032061.jpg  \n",
            "  inflating: ham10000_images_part_2/ISIC_0032062.jpg  \n",
            "  inflating: ham10000_images_part_2/ISIC_0032063.jpg  \n",
            "  inflating: ham10000_images_part_2/ISIC_0032064.jpg  \n",
            "  inflating: ham10000_images_part_2/ISIC_0032065.jpg  \n",
            "  inflating: ham10000_images_part_2/ISIC_0032066.jpg  \n",
            "  inflating: ham10000_images_part_2/ISIC_0032067.jpg  \n",
            "  inflating: ham10000_images_part_2/ISIC_0032068.jpg  \n",
            "  inflating: ham10000_images_part_2/ISIC_0032069.jpg  \n",
            "  inflating: ham10000_images_part_2/ISIC_0032070.jpg  \n",
            "  inflating: ham10000_images_part_2/ISIC_0032071.jpg  \n",
            "  inflating: ham10000_images_part_2/ISIC_0032072.jpg  \n",
            "  inflating: ham10000_images_part_2/ISIC_0032073.jpg  \n",
            "  inflating: ham10000_images_part_2/ISIC_0032074.jpg  \n",
            "  inflating: ham10000_images_part_2/ISIC_0032075.jpg  \n",
            "  inflating: ham10000_images_part_2/ISIC_0032076.jpg  \n",
            "  inflating: ham10000_images_part_2/ISIC_0032077.jpg  \n",
            "  inflating: ham10000_images_part_2/ISIC_0032078.jpg  \n",
            "  inflating: ham10000_images_part_2/ISIC_0032079.jpg  \n",
            "  inflating: ham10000_images_part_2/ISIC_0032080.jpg  \n",
            "  inflating: ham10000_images_part_2/ISIC_0032081.jpg  \n",
            "  inflating: ham10000_images_part_2/ISIC_0032082.jpg  \n",
            "  inflating: ham10000_images_part_2/ISIC_0032083.jpg  \n",
            "  inflating: ham10000_images_part_2/ISIC_0032084.jpg  \n",
            "  inflating: ham10000_images_part_2/ISIC_0032085.jpg  \n",
            "  inflating: ham10000_images_part_2/ISIC_0032086.jpg  \n",
            "  inflating: ham10000_images_part_2/ISIC_0032087.jpg  \n",
            "  inflating: ham10000_images_part_2/ISIC_0032088.jpg  \n",
            "  inflating: ham10000_images_part_2/ISIC_0032089.jpg  \n",
            "  inflating: ham10000_images_part_2/ISIC_0032090.jpg  \n",
            "  inflating: ham10000_images_part_2/ISIC_0032091.jpg  \n",
            "  inflating: ham10000_images_part_2/ISIC_0032092.jpg  \n",
            "  inflating: ham10000_images_part_2/ISIC_0032093.jpg  \n",
            "  inflating: ham10000_images_part_2/ISIC_0032094.jpg  \n",
            "  inflating: ham10000_images_part_2/ISIC_0032095.jpg  \n",
            "  inflating: ham10000_images_part_2/ISIC_0032096.jpg  \n",
            "  inflating: ham10000_images_part_2/ISIC_0032097.jpg  \n",
            "  inflating: ham10000_images_part_2/ISIC_0032098.jpg  \n",
            "  inflating: ham10000_images_part_2/ISIC_0032099.jpg  \n",
            "  inflating: ham10000_images_part_2/ISIC_0032100.jpg  \n",
            "  inflating: ham10000_images_part_2/ISIC_0032101.jpg  \n",
            "  inflating: ham10000_images_part_2/ISIC_0032102.jpg  \n",
            "  inflating: ham10000_images_part_2/ISIC_0032103.jpg  \n",
            "  inflating: ham10000_images_part_2/ISIC_0032104.jpg  \n",
            "  inflating: ham10000_images_part_2/ISIC_0032105.jpg  \n",
            "  inflating: ham10000_images_part_2/ISIC_0032106.jpg  \n",
            "  inflating: ham10000_images_part_2/ISIC_0032107.jpg  \n",
            "  inflating: ham10000_images_part_2/ISIC_0032108.jpg  \n",
            "  inflating: ham10000_images_part_2/ISIC_0032109.jpg  \n",
            "  inflating: ham10000_images_part_2/ISIC_0032110.jpg  \n",
            "  inflating: ham10000_images_part_2/ISIC_0032111.jpg  \n",
            "  inflating: ham10000_images_part_2/ISIC_0032112.jpg  \n",
            "  inflating: ham10000_images_part_2/ISIC_0032113.jpg  \n",
            "  inflating: ham10000_images_part_2/ISIC_0032114.jpg  \n",
            "  inflating: ham10000_images_part_2/ISIC_0032115.jpg  \n",
            "  inflating: ham10000_images_part_2/ISIC_0032116.jpg  \n",
            "  inflating: ham10000_images_part_2/ISIC_0032117.jpg  \n",
            "  inflating: ham10000_images_part_2/ISIC_0032118.jpg  \n",
            "  inflating: ham10000_images_part_2/ISIC_0032119.jpg  \n",
            "  inflating: ham10000_images_part_2/ISIC_0032120.jpg  \n",
            "  inflating: ham10000_images_part_2/ISIC_0032121.jpg  \n",
            "  inflating: ham10000_images_part_2/ISIC_0032122.jpg  \n",
            "  inflating: ham10000_images_part_2/ISIC_0032123.jpg  \n",
            "  inflating: ham10000_images_part_2/ISIC_0032124.jpg  \n",
            "  inflating: ham10000_images_part_2/ISIC_0032125.jpg  \n",
            "  inflating: ham10000_images_part_2/ISIC_0032126.jpg  \n",
            "  inflating: ham10000_images_part_2/ISIC_0032127.jpg  \n",
            "  inflating: ham10000_images_part_2/ISIC_0032128.jpg  \n",
            "  inflating: ham10000_images_part_2/ISIC_0032129.jpg  \n",
            "  inflating: ham10000_images_part_2/ISIC_0032130.jpg  \n",
            "  inflating: ham10000_images_part_2/ISIC_0032131.jpg  \n",
            "  inflating: ham10000_images_part_2/ISIC_0032132.jpg  \n",
            "  inflating: ham10000_images_part_2/ISIC_0032133.jpg  \n",
            "  inflating: ham10000_images_part_2/ISIC_0032134.jpg  \n",
            "  inflating: ham10000_images_part_2/ISIC_0032135.jpg  \n",
            "  inflating: ham10000_images_part_2/ISIC_0032136.jpg  \n",
            "  inflating: ham10000_images_part_2/ISIC_0032137.jpg  \n",
            "  inflating: ham10000_images_part_2/ISIC_0032138.jpg  \n",
            "  inflating: ham10000_images_part_2/ISIC_0032139.jpg  \n",
            "  inflating: ham10000_images_part_2/ISIC_0032140.jpg  \n",
            "  inflating: ham10000_images_part_2/ISIC_0032141.jpg  \n",
            "  inflating: ham10000_images_part_2/ISIC_0032142.jpg  \n",
            "  inflating: ham10000_images_part_2/ISIC_0032143.jpg  \n",
            "  inflating: ham10000_images_part_2/ISIC_0032144.jpg  \n",
            "  inflating: ham10000_images_part_2/ISIC_0032145.jpg  \n",
            "  inflating: ham10000_images_part_2/ISIC_0032146.jpg  \n",
            "  inflating: ham10000_images_part_2/ISIC_0032147.jpg  \n",
            "  inflating: ham10000_images_part_2/ISIC_0032148.jpg  \n",
            "  inflating: ham10000_images_part_2/ISIC_0032149.jpg  \n",
            "  inflating: ham10000_images_part_2/ISIC_0032150.jpg  \n",
            "  inflating: ham10000_images_part_2/ISIC_0032151.jpg  \n",
            "  inflating: ham10000_images_part_2/ISIC_0032152.jpg  \n",
            "  inflating: ham10000_images_part_2/ISIC_0032153.jpg  \n",
            "  inflating: ham10000_images_part_2/ISIC_0032154.jpg  \n",
            "  inflating: ham10000_images_part_2/ISIC_0032155.jpg  \n",
            "  inflating: ham10000_images_part_2/ISIC_0032156.jpg  \n",
            "  inflating: ham10000_images_part_2/ISIC_0032157.jpg  \n",
            "  inflating: ham10000_images_part_2/ISIC_0032158.jpg  \n",
            "  inflating: ham10000_images_part_2/ISIC_0032159.jpg  \n",
            "  inflating: ham10000_images_part_2/ISIC_0032160.jpg  \n",
            "  inflating: ham10000_images_part_2/ISIC_0032161.jpg  \n",
            "  inflating: ham10000_images_part_2/ISIC_0032162.jpg  \n",
            "  inflating: ham10000_images_part_2/ISIC_0032163.jpg  \n",
            "  inflating: ham10000_images_part_2/ISIC_0032164.jpg  \n",
            "  inflating: ham10000_images_part_2/ISIC_0032165.jpg  \n",
            "  inflating: ham10000_images_part_2/ISIC_0032166.jpg  \n",
            "  inflating: ham10000_images_part_2/ISIC_0032167.jpg  \n",
            "  inflating: ham10000_images_part_2/ISIC_0032168.jpg  \n",
            "  inflating: ham10000_images_part_2/ISIC_0032169.jpg  \n",
            "  inflating: ham10000_images_part_2/ISIC_0032170.jpg  \n",
            "  inflating: ham10000_images_part_2/ISIC_0032171.jpg  \n",
            "  inflating: ham10000_images_part_2/ISIC_0032172.jpg  \n",
            "  inflating: ham10000_images_part_2/ISIC_0032173.jpg  \n",
            "  inflating: ham10000_images_part_2/ISIC_0032174.jpg  \n",
            "  inflating: ham10000_images_part_2/ISIC_0032175.jpg  \n",
            "  inflating: ham10000_images_part_2/ISIC_0032176.jpg  \n",
            "  inflating: ham10000_images_part_2/ISIC_0032177.jpg  \n",
            "  inflating: ham10000_images_part_2/ISIC_0032178.jpg  \n",
            "  inflating: ham10000_images_part_2/ISIC_0032179.jpg  \n",
            "  inflating: ham10000_images_part_2/ISIC_0032180.jpg  \n",
            "  inflating: ham10000_images_part_2/ISIC_0032181.jpg  \n",
            "  inflating: ham10000_images_part_2/ISIC_0032182.jpg  \n",
            "  inflating: ham10000_images_part_2/ISIC_0032183.jpg  \n",
            "  inflating: ham10000_images_part_2/ISIC_0032184.jpg  \n",
            "  inflating: ham10000_images_part_2/ISIC_0032185.jpg  \n",
            "  inflating: ham10000_images_part_2/ISIC_0032186.jpg  \n",
            "  inflating: ham10000_images_part_2/ISIC_0032187.jpg  \n",
            "  inflating: ham10000_images_part_2/ISIC_0032188.jpg  \n",
            "  inflating: ham10000_images_part_2/ISIC_0032189.jpg  \n",
            "  inflating: ham10000_images_part_2/ISIC_0032190.jpg  \n",
            "  inflating: ham10000_images_part_2/ISIC_0032191.jpg  \n",
            "  inflating: ham10000_images_part_2/ISIC_0032192.jpg  \n",
            "  inflating: ham10000_images_part_2/ISIC_0032193.jpg  \n",
            "  inflating: ham10000_images_part_2/ISIC_0032194.jpg  \n",
            "  inflating: ham10000_images_part_2/ISIC_0032195.jpg  \n",
            "  inflating: ham10000_images_part_2/ISIC_0032196.jpg  \n",
            "  inflating: ham10000_images_part_2/ISIC_0032197.jpg  \n",
            "  inflating: ham10000_images_part_2/ISIC_0032198.jpg  \n",
            "  inflating: ham10000_images_part_2/ISIC_0032199.jpg  \n",
            "  inflating: ham10000_images_part_2/ISIC_0032200.jpg  \n",
            "  inflating: ham10000_images_part_2/ISIC_0032201.jpg  \n",
            "  inflating: ham10000_images_part_2/ISIC_0032202.jpg  \n",
            "  inflating: ham10000_images_part_2/ISIC_0032203.jpg  \n",
            "  inflating: ham10000_images_part_2/ISIC_0032204.jpg  \n",
            "  inflating: ham10000_images_part_2/ISIC_0032205.jpg  \n",
            "  inflating: ham10000_images_part_2/ISIC_0032206.jpg  \n",
            "  inflating: ham10000_images_part_2/ISIC_0032207.jpg  \n",
            "  inflating: ham10000_images_part_2/ISIC_0032208.jpg  \n",
            "  inflating: ham10000_images_part_2/ISIC_0032209.jpg  \n",
            "  inflating: ham10000_images_part_2/ISIC_0032210.jpg  \n",
            "  inflating: ham10000_images_part_2/ISIC_0032211.jpg  \n",
            "  inflating: ham10000_images_part_2/ISIC_0032212.jpg  \n",
            "  inflating: ham10000_images_part_2/ISIC_0032213.jpg  \n",
            "  inflating: ham10000_images_part_2/ISIC_0032214.jpg  \n",
            "  inflating: ham10000_images_part_2/ISIC_0032215.jpg  \n",
            "  inflating: ham10000_images_part_2/ISIC_0032216.jpg  \n",
            "  inflating: ham10000_images_part_2/ISIC_0032217.jpg  \n",
            "  inflating: ham10000_images_part_2/ISIC_0032218.jpg  \n",
            "  inflating: ham10000_images_part_2/ISIC_0032219.jpg  \n",
            "  inflating: ham10000_images_part_2/ISIC_0032220.jpg  \n",
            "  inflating: ham10000_images_part_2/ISIC_0032221.jpg  \n",
            "  inflating: ham10000_images_part_2/ISIC_0032222.jpg  \n",
            "  inflating: ham10000_images_part_2/ISIC_0032223.jpg  \n",
            "  inflating: ham10000_images_part_2/ISIC_0032224.jpg  \n",
            "  inflating: ham10000_images_part_2/ISIC_0032225.jpg  \n",
            "  inflating: ham10000_images_part_2/ISIC_0032226.jpg  \n",
            "  inflating: ham10000_images_part_2/ISIC_0032227.jpg  \n",
            "  inflating: ham10000_images_part_2/ISIC_0032228.jpg  \n",
            "  inflating: ham10000_images_part_2/ISIC_0032229.jpg  \n",
            "  inflating: ham10000_images_part_2/ISIC_0032230.jpg  \n",
            "  inflating: ham10000_images_part_2/ISIC_0032231.jpg  \n",
            "  inflating: ham10000_images_part_2/ISIC_0032232.jpg  \n",
            "  inflating: ham10000_images_part_2/ISIC_0032233.jpg  \n",
            "  inflating: ham10000_images_part_2/ISIC_0032234.jpg  \n",
            "  inflating: ham10000_images_part_2/ISIC_0032235.jpg  \n",
            "  inflating: ham10000_images_part_2/ISIC_0032236.jpg  \n",
            "  inflating: ham10000_images_part_2/ISIC_0032237.jpg  \n",
            "  inflating: ham10000_images_part_2/ISIC_0032238.jpg  \n",
            "  inflating: ham10000_images_part_2/ISIC_0032239.jpg  \n",
            "  inflating: ham10000_images_part_2/ISIC_0032240.jpg  \n",
            "  inflating: ham10000_images_part_2/ISIC_0032241.jpg  \n",
            "  inflating: ham10000_images_part_2/ISIC_0032242.jpg  \n",
            "  inflating: ham10000_images_part_2/ISIC_0032243.jpg  \n",
            "  inflating: ham10000_images_part_2/ISIC_0032244.jpg  \n",
            "  inflating: ham10000_images_part_2/ISIC_0032245.jpg  \n",
            "  inflating: ham10000_images_part_2/ISIC_0032246.jpg  \n",
            "  inflating: ham10000_images_part_2/ISIC_0032247.jpg  \n",
            "  inflating: ham10000_images_part_2/ISIC_0032248.jpg  \n",
            "  inflating: ham10000_images_part_2/ISIC_0032249.jpg  \n",
            "  inflating: ham10000_images_part_2/ISIC_0032250.jpg  \n",
            "  inflating: ham10000_images_part_2/ISIC_0032251.jpg  \n",
            "  inflating: ham10000_images_part_2/ISIC_0032252.jpg  \n",
            "  inflating: ham10000_images_part_2/ISIC_0032253.jpg  \n",
            "  inflating: ham10000_images_part_2/ISIC_0032254.jpg  \n",
            "  inflating: ham10000_images_part_2/ISIC_0032255.jpg  \n",
            "  inflating: ham10000_images_part_2/ISIC_0032256.jpg  \n",
            "  inflating: ham10000_images_part_2/ISIC_0032257.jpg  \n",
            "  inflating: ham10000_images_part_2/ISIC_0032258.jpg  \n",
            "  inflating: ham10000_images_part_2/ISIC_0032259.jpg  \n",
            "  inflating: ham10000_images_part_2/ISIC_0032260.jpg  \n",
            "  inflating: ham10000_images_part_2/ISIC_0032261.jpg  \n",
            "  inflating: ham10000_images_part_2/ISIC_0032262.jpg  \n",
            "  inflating: ham10000_images_part_2/ISIC_0032263.jpg  \n",
            "  inflating: ham10000_images_part_2/ISIC_0032264.jpg  \n",
            "  inflating: ham10000_images_part_2/ISIC_0032265.jpg  \n",
            "  inflating: ham10000_images_part_2/ISIC_0032266.jpg  \n",
            "  inflating: ham10000_images_part_2/ISIC_0032267.jpg  \n",
            "  inflating: ham10000_images_part_2/ISIC_0032268.jpg  \n",
            "  inflating: ham10000_images_part_2/ISIC_0032269.jpg  \n",
            "  inflating: ham10000_images_part_2/ISIC_0032270.jpg  \n",
            "  inflating: ham10000_images_part_2/ISIC_0032271.jpg  \n",
            "  inflating: ham10000_images_part_2/ISIC_0032272.jpg  \n",
            "  inflating: ham10000_images_part_2/ISIC_0032273.jpg  \n",
            "  inflating: ham10000_images_part_2/ISIC_0032274.jpg  \n",
            "  inflating: ham10000_images_part_2/ISIC_0032275.jpg  \n",
            "  inflating: ham10000_images_part_2/ISIC_0032276.jpg  \n",
            "  inflating: ham10000_images_part_2/ISIC_0032277.jpg  \n",
            "  inflating: ham10000_images_part_2/ISIC_0032278.jpg  \n",
            "  inflating: ham10000_images_part_2/ISIC_0032279.jpg  \n",
            "  inflating: ham10000_images_part_2/ISIC_0032280.jpg  \n",
            "  inflating: ham10000_images_part_2/ISIC_0032281.jpg  \n",
            "  inflating: ham10000_images_part_2/ISIC_0032282.jpg  \n",
            "  inflating: ham10000_images_part_2/ISIC_0032283.jpg  \n",
            "  inflating: ham10000_images_part_2/ISIC_0032284.jpg  \n",
            "  inflating: ham10000_images_part_2/ISIC_0032285.jpg  \n",
            "  inflating: ham10000_images_part_2/ISIC_0032286.jpg  \n",
            "  inflating: ham10000_images_part_2/ISIC_0032287.jpg  \n",
            "  inflating: ham10000_images_part_2/ISIC_0032288.jpg  \n",
            "  inflating: ham10000_images_part_2/ISIC_0032289.jpg  \n",
            "  inflating: ham10000_images_part_2/ISIC_0032290.jpg  \n",
            "  inflating: ham10000_images_part_2/ISIC_0032291.jpg  \n",
            "  inflating: ham10000_images_part_2/ISIC_0032292.jpg  \n",
            "  inflating: ham10000_images_part_2/ISIC_0032293.jpg  \n",
            "  inflating: ham10000_images_part_2/ISIC_0032294.jpg  \n",
            "  inflating: ham10000_images_part_2/ISIC_0032295.jpg  \n",
            "  inflating: ham10000_images_part_2/ISIC_0032296.jpg  \n",
            "  inflating: ham10000_images_part_2/ISIC_0032297.jpg  \n",
            "  inflating: ham10000_images_part_2/ISIC_0032298.jpg  \n",
            "  inflating: ham10000_images_part_2/ISIC_0032299.jpg  \n",
            "  inflating: ham10000_images_part_2/ISIC_0032300.jpg  \n",
            "  inflating: ham10000_images_part_2/ISIC_0032301.jpg  \n",
            "  inflating: ham10000_images_part_2/ISIC_0032302.jpg  \n",
            "  inflating: ham10000_images_part_2/ISIC_0032303.jpg  \n",
            "  inflating: ham10000_images_part_2/ISIC_0032304.jpg  \n",
            "  inflating: ham10000_images_part_2/ISIC_0032305.jpg  \n",
            "  inflating: ham10000_images_part_2/ISIC_0032306.jpg  \n",
            "  inflating: ham10000_images_part_2/ISIC_0032307.jpg  \n",
            "  inflating: ham10000_images_part_2/ISIC_0032308.jpg  \n",
            "  inflating: ham10000_images_part_2/ISIC_0032309.jpg  \n",
            "  inflating: ham10000_images_part_2/ISIC_0032310.jpg  \n",
            "  inflating: ham10000_images_part_2/ISIC_0032311.jpg  \n",
            "  inflating: ham10000_images_part_2/ISIC_0032312.jpg  \n",
            "  inflating: ham10000_images_part_2/ISIC_0032313.jpg  \n",
            "  inflating: ham10000_images_part_2/ISIC_0032314.jpg  \n",
            "  inflating: ham10000_images_part_2/ISIC_0032315.jpg  \n",
            "  inflating: ham10000_images_part_2/ISIC_0032316.jpg  \n",
            "  inflating: ham10000_images_part_2/ISIC_0032317.jpg  \n",
            "  inflating: ham10000_images_part_2/ISIC_0032318.jpg  \n",
            "  inflating: ham10000_images_part_2/ISIC_0032319.jpg  \n",
            "  inflating: ham10000_images_part_2/ISIC_0032320.jpg  \n",
            "  inflating: ham10000_images_part_2/ISIC_0032321.jpg  \n",
            "  inflating: ham10000_images_part_2/ISIC_0032322.jpg  \n",
            "  inflating: ham10000_images_part_2/ISIC_0032323.jpg  \n",
            "  inflating: ham10000_images_part_2/ISIC_0032324.jpg  \n",
            "  inflating: ham10000_images_part_2/ISIC_0032325.jpg  \n",
            "  inflating: ham10000_images_part_2/ISIC_0032326.jpg  \n",
            "  inflating: ham10000_images_part_2/ISIC_0032327.jpg  \n",
            "  inflating: ham10000_images_part_2/ISIC_0032328.jpg  \n",
            "  inflating: ham10000_images_part_2/ISIC_0032329.jpg  \n",
            "  inflating: ham10000_images_part_2/ISIC_0032330.jpg  \n",
            "  inflating: ham10000_images_part_2/ISIC_0032331.jpg  \n",
            "  inflating: ham10000_images_part_2/ISIC_0032332.jpg  \n",
            "  inflating: ham10000_images_part_2/ISIC_0032333.jpg  \n",
            "  inflating: ham10000_images_part_2/ISIC_0032334.jpg  \n",
            "  inflating: ham10000_images_part_2/ISIC_0032335.jpg  \n",
            "  inflating: ham10000_images_part_2/ISIC_0032336.jpg  \n",
            "  inflating: ham10000_images_part_2/ISIC_0032337.jpg  \n",
            "  inflating: ham10000_images_part_2/ISIC_0032338.jpg  \n",
            "  inflating: ham10000_images_part_2/ISIC_0032339.jpg  \n",
            "  inflating: ham10000_images_part_2/ISIC_0032340.jpg  \n",
            "  inflating: ham10000_images_part_2/ISIC_0032341.jpg  \n",
            "  inflating: ham10000_images_part_2/ISIC_0032342.jpg  \n",
            "  inflating: ham10000_images_part_2/ISIC_0032343.jpg  \n",
            "  inflating: ham10000_images_part_2/ISIC_0032344.jpg  \n",
            "  inflating: ham10000_images_part_2/ISIC_0032345.jpg  \n",
            "  inflating: ham10000_images_part_2/ISIC_0032346.jpg  \n",
            "  inflating: ham10000_images_part_2/ISIC_0032347.jpg  \n",
            "  inflating: ham10000_images_part_2/ISIC_0032348.jpg  \n",
            "  inflating: ham10000_images_part_2/ISIC_0032349.jpg  \n",
            "  inflating: ham10000_images_part_2/ISIC_0032350.jpg  \n",
            "  inflating: ham10000_images_part_2/ISIC_0032351.jpg  \n",
            "  inflating: ham10000_images_part_2/ISIC_0032352.jpg  \n",
            "  inflating: ham10000_images_part_2/ISIC_0032353.jpg  \n",
            "  inflating: ham10000_images_part_2/ISIC_0032354.jpg  \n",
            "  inflating: ham10000_images_part_2/ISIC_0032355.jpg  \n",
            "  inflating: ham10000_images_part_2/ISIC_0032356.jpg  \n",
            "  inflating: ham10000_images_part_2/ISIC_0032357.jpg  \n",
            "  inflating: ham10000_images_part_2/ISIC_0032358.jpg  \n",
            "  inflating: ham10000_images_part_2/ISIC_0032359.jpg  \n",
            "  inflating: ham10000_images_part_2/ISIC_0032360.jpg  \n",
            "  inflating: ham10000_images_part_2/ISIC_0032361.jpg  \n",
            "  inflating: ham10000_images_part_2/ISIC_0032362.jpg  \n",
            "  inflating: ham10000_images_part_2/ISIC_0032363.jpg  \n",
            "  inflating: ham10000_images_part_2/ISIC_0032364.jpg  \n",
            "  inflating: ham10000_images_part_2/ISIC_0032365.jpg  \n",
            "  inflating: ham10000_images_part_2/ISIC_0032366.jpg  \n",
            "  inflating: ham10000_images_part_2/ISIC_0032367.jpg  \n",
            "  inflating: ham10000_images_part_2/ISIC_0032368.jpg  \n",
            "  inflating: ham10000_images_part_2/ISIC_0032369.jpg  \n",
            "  inflating: ham10000_images_part_2/ISIC_0032370.jpg  \n",
            "  inflating: ham10000_images_part_2/ISIC_0032371.jpg  \n",
            "  inflating: ham10000_images_part_2/ISIC_0032372.jpg  \n",
            "  inflating: ham10000_images_part_2/ISIC_0032373.jpg  \n",
            "  inflating: ham10000_images_part_2/ISIC_0032374.jpg  \n",
            "  inflating: ham10000_images_part_2/ISIC_0032375.jpg  \n",
            "  inflating: ham10000_images_part_2/ISIC_0032376.jpg  \n",
            "  inflating: ham10000_images_part_2/ISIC_0032377.jpg  \n",
            "  inflating: ham10000_images_part_2/ISIC_0032378.jpg  \n",
            "  inflating: ham10000_images_part_2/ISIC_0032379.jpg  \n",
            "  inflating: ham10000_images_part_2/ISIC_0032380.jpg  \n",
            "  inflating: ham10000_images_part_2/ISIC_0032381.jpg  \n",
            "  inflating: ham10000_images_part_2/ISIC_0032382.jpg  \n",
            "  inflating: ham10000_images_part_2/ISIC_0032383.jpg  \n",
            "  inflating: ham10000_images_part_2/ISIC_0032384.jpg  \n",
            "  inflating: ham10000_images_part_2/ISIC_0032385.jpg  \n",
            "  inflating: ham10000_images_part_2/ISIC_0032386.jpg  \n",
            "  inflating: ham10000_images_part_2/ISIC_0032387.jpg  \n",
            "  inflating: ham10000_images_part_2/ISIC_0032388.jpg  \n",
            "  inflating: ham10000_images_part_2/ISIC_0032389.jpg  \n",
            "  inflating: ham10000_images_part_2/ISIC_0032390.jpg  \n",
            "  inflating: ham10000_images_part_2/ISIC_0032391.jpg  \n",
            "  inflating: ham10000_images_part_2/ISIC_0032392.jpg  \n",
            "  inflating: ham10000_images_part_2/ISIC_0032393.jpg  \n",
            "  inflating: ham10000_images_part_2/ISIC_0032394.jpg  \n",
            "  inflating: ham10000_images_part_2/ISIC_0032395.jpg  \n",
            "  inflating: ham10000_images_part_2/ISIC_0032396.jpg  \n",
            "  inflating: ham10000_images_part_2/ISIC_0032397.jpg  \n",
            "  inflating: ham10000_images_part_2/ISIC_0032398.jpg  \n",
            "  inflating: ham10000_images_part_2/ISIC_0032399.jpg  \n",
            "  inflating: ham10000_images_part_2/ISIC_0032400.jpg  \n",
            "  inflating: ham10000_images_part_2/ISIC_0032401.jpg  \n",
            "  inflating: ham10000_images_part_2/ISIC_0032402.jpg  \n",
            "  inflating: ham10000_images_part_2/ISIC_0032403.jpg  \n",
            "  inflating: ham10000_images_part_2/ISIC_0032404.jpg  \n",
            "  inflating: ham10000_images_part_2/ISIC_0032405.jpg  \n",
            "  inflating: ham10000_images_part_2/ISIC_0032406.jpg  \n",
            "  inflating: ham10000_images_part_2/ISIC_0032407.jpg  \n",
            "  inflating: ham10000_images_part_2/ISIC_0032408.jpg  \n",
            "  inflating: ham10000_images_part_2/ISIC_0032409.jpg  \n",
            "  inflating: ham10000_images_part_2/ISIC_0032410.jpg  \n",
            "  inflating: ham10000_images_part_2/ISIC_0032411.jpg  \n",
            "  inflating: ham10000_images_part_2/ISIC_0032412.jpg  \n",
            "  inflating: ham10000_images_part_2/ISIC_0032413.jpg  \n",
            "  inflating: ham10000_images_part_2/ISIC_0032414.jpg  \n",
            "  inflating: ham10000_images_part_2/ISIC_0032415.jpg  \n",
            "  inflating: ham10000_images_part_2/ISIC_0032416.jpg  \n",
            "  inflating: ham10000_images_part_2/ISIC_0032417.jpg  \n",
            "  inflating: ham10000_images_part_2/ISIC_0032418.jpg  \n",
            "  inflating: ham10000_images_part_2/ISIC_0032419.jpg  \n",
            "  inflating: ham10000_images_part_2/ISIC_0032420.jpg  \n",
            "  inflating: ham10000_images_part_2/ISIC_0032421.jpg  \n",
            "  inflating: ham10000_images_part_2/ISIC_0032422.jpg  \n",
            "  inflating: ham10000_images_part_2/ISIC_0032423.jpg  \n",
            "  inflating: ham10000_images_part_2/ISIC_0032424.jpg  \n",
            "  inflating: ham10000_images_part_2/ISIC_0032425.jpg  \n",
            "  inflating: ham10000_images_part_2/ISIC_0032426.jpg  \n",
            "  inflating: ham10000_images_part_2/ISIC_0032427.jpg  \n",
            "  inflating: ham10000_images_part_2/ISIC_0032428.jpg  \n",
            "  inflating: ham10000_images_part_2/ISIC_0032429.jpg  \n",
            "  inflating: ham10000_images_part_2/ISIC_0032430.jpg  \n",
            "  inflating: ham10000_images_part_2/ISIC_0032431.jpg  \n",
            "  inflating: ham10000_images_part_2/ISIC_0032432.jpg  \n",
            "  inflating: ham10000_images_part_2/ISIC_0032433.jpg  \n",
            "  inflating: ham10000_images_part_2/ISIC_0032434.jpg  \n",
            "  inflating: ham10000_images_part_2/ISIC_0032435.jpg  \n",
            "  inflating: ham10000_images_part_2/ISIC_0032436.jpg  \n",
            "  inflating: ham10000_images_part_2/ISIC_0032437.jpg  \n",
            "  inflating: ham10000_images_part_2/ISIC_0032438.jpg  \n",
            "  inflating: ham10000_images_part_2/ISIC_0032439.jpg  \n",
            "  inflating: ham10000_images_part_2/ISIC_0032440.jpg  \n",
            "  inflating: ham10000_images_part_2/ISIC_0032441.jpg  \n",
            "  inflating: ham10000_images_part_2/ISIC_0032442.jpg  \n",
            "  inflating: ham10000_images_part_2/ISIC_0032443.jpg  \n",
            "  inflating: ham10000_images_part_2/ISIC_0032444.jpg  \n",
            "  inflating: ham10000_images_part_2/ISIC_0032445.jpg  \n",
            "  inflating: ham10000_images_part_2/ISIC_0032446.jpg  \n",
            "  inflating: ham10000_images_part_2/ISIC_0032447.jpg  \n",
            "  inflating: ham10000_images_part_2/ISIC_0032448.jpg  \n",
            "  inflating: ham10000_images_part_2/ISIC_0032449.jpg  \n",
            "  inflating: ham10000_images_part_2/ISIC_0032450.jpg  \n",
            "  inflating: ham10000_images_part_2/ISIC_0032451.jpg  \n",
            "  inflating: ham10000_images_part_2/ISIC_0032452.jpg  \n",
            "  inflating: ham10000_images_part_2/ISIC_0032453.jpg  \n",
            "  inflating: ham10000_images_part_2/ISIC_0032454.jpg  \n",
            "  inflating: ham10000_images_part_2/ISIC_0032455.jpg  \n",
            "  inflating: ham10000_images_part_2/ISIC_0032456.jpg  \n",
            "  inflating: ham10000_images_part_2/ISIC_0032457.jpg  \n",
            "  inflating: ham10000_images_part_2/ISIC_0032458.jpg  \n",
            "  inflating: ham10000_images_part_2/ISIC_0032459.jpg  \n",
            "  inflating: ham10000_images_part_2/ISIC_0032460.jpg  \n",
            "  inflating: ham10000_images_part_2/ISIC_0032461.jpg  \n",
            "  inflating: ham10000_images_part_2/ISIC_0032462.jpg  \n",
            "  inflating: ham10000_images_part_2/ISIC_0032463.jpg  \n",
            "  inflating: ham10000_images_part_2/ISIC_0032464.jpg  \n",
            "  inflating: ham10000_images_part_2/ISIC_0032465.jpg  \n",
            "  inflating: ham10000_images_part_2/ISIC_0032466.jpg  \n",
            "  inflating: ham10000_images_part_2/ISIC_0032467.jpg  \n",
            "  inflating: ham10000_images_part_2/ISIC_0032468.jpg  \n",
            "  inflating: ham10000_images_part_2/ISIC_0032469.jpg  \n",
            "  inflating: ham10000_images_part_2/ISIC_0032470.jpg  \n",
            "  inflating: ham10000_images_part_2/ISIC_0032471.jpg  \n",
            "  inflating: ham10000_images_part_2/ISIC_0032472.jpg  \n",
            "  inflating: ham10000_images_part_2/ISIC_0032473.jpg  \n",
            "  inflating: ham10000_images_part_2/ISIC_0032474.jpg  \n",
            "  inflating: ham10000_images_part_2/ISIC_0032475.jpg  \n",
            "  inflating: ham10000_images_part_2/ISIC_0032476.jpg  \n",
            "  inflating: ham10000_images_part_2/ISIC_0032477.jpg  \n",
            "  inflating: ham10000_images_part_2/ISIC_0032478.jpg  \n",
            "  inflating: ham10000_images_part_2/ISIC_0032479.jpg  \n",
            "  inflating: ham10000_images_part_2/ISIC_0032480.jpg  \n",
            "  inflating: ham10000_images_part_2/ISIC_0032481.jpg  \n",
            "  inflating: ham10000_images_part_2/ISIC_0032482.jpg  \n",
            "  inflating: ham10000_images_part_2/ISIC_0032483.jpg  \n",
            "  inflating: ham10000_images_part_2/ISIC_0032484.jpg  \n",
            "  inflating: ham10000_images_part_2/ISIC_0032485.jpg  \n",
            "  inflating: ham10000_images_part_2/ISIC_0032486.jpg  \n",
            "  inflating: ham10000_images_part_2/ISIC_0032487.jpg  \n",
            "  inflating: ham10000_images_part_2/ISIC_0032488.jpg  \n",
            "  inflating: ham10000_images_part_2/ISIC_0032489.jpg  \n",
            "  inflating: ham10000_images_part_2/ISIC_0032490.jpg  \n",
            "  inflating: ham10000_images_part_2/ISIC_0032491.jpg  \n",
            "  inflating: ham10000_images_part_2/ISIC_0032492.jpg  \n",
            "  inflating: ham10000_images_part_2/ISIC_0032493.jpg  \n",
            "  inflating: ham10000_images_part_2/ISIC_0032494.jpg  \n",
            "  inflating: ham10000_images_part_2/ISIC_0032495.jpg  \n",
            "  inflating: ham10000_images_part_2/ISIC_0032496.jpg  \n",
            "  inflating: ham10000_images_part_2/ISIC_0032497.jpg  \n",
            "  inflating: ham10000_images_part_2/ISIC_0032498.jpg  \n",
            "  inflating: ham10000_images_part_2/ISIC_0032499.jpg  \n",
            "  inflating: ham10000_images_part_2/ISIC_0032500.jpg  \n",
            "  inflating: ham10000_images_part_2/ISIC_0032501.jpg  \n",
            "  inflating: ham10000_images_part_2/ISIC_0032502.jpg  \n",
            "  inflating: ham10000_images_part_2/ISIC_0032503.jpg  \n",
            "  inflating: ham10000_images_part_2/ISIC_0032504.jpg  \n",
            "  inflating: ham10000_images_part_2/ISIC_0032505.jpg  \n",
            "  inflating: ham10000_images_part_2/ISIC_0032506.jpg  \n",
            "  inflating: ham10000_images_part_2/ISIC_0032507.jpg  \n",
            "  inflating: ham10000_images_part_2/ISIC_0032508.jpg  \n",
            "  inflating: ham10000_images_part_2/ISIC_0032509.jpg  \n",
            "  inflating: ham10000_images_part_2/ISIC_0032510.jpg  \n",
            "  inflating: ham10000_images_part_2/ISIC_0032511.jpg  \n",
            "  inflating: ham10000_images_part_2/ISIC_0032512.jpg  \n",
            "  inflating: ham10000_images_part_2/ISIC_0032513.jpg  \n",
            "  inflating: ham10000_images_part_2/ISIC_0032514.jpg  \n",
            "  inflating: ham10000_images_part_2/ISIC_0032515.jpg  \n",
            "  inflating: ham10000_images_part_2/ISIC_0032516.jpg  \n",
            "  inflating: ham10000_images_part_2/ISIC_0032517.jpg  \n",
            "  inflating: ham10000_images_part_2/ISIC_0032518.jpg  \n",
            "  inflating: ham10000_images_part_2/ISIC_0032519.jpg  \n",
            "  inflating: ham10000_images_part_2/ISIC_0032520.jpg  \n",
            "  inflating: ham10000_images_part_2/ISIC_0032521.jpg  \n",
            "  inflating: ham10000_images_part_2/ISIC_0032522.jpg  \n",
            "  inflating: ham10000_images_part_2/ISIC_0032523.jpg  \n",
            "  inflating: ham10000_images_part_2/ISIC_0032524.jpg  \n",
            "  inflating: ham10000_images_part_2/ISIC_0032525.jpg  \n",
            "  inflating: ham10000_images_part_2/ISIC_0032526.jpg  \n",
            "  inflating: ham10000_images_part_2/ISIC_0032527.jpg  \n",
            "  inflating: ham10000_images_part_2/ISIC_0032528.jpg  \n",
            "  inflating: ham10000_images_part_2/ISIC_0032529.jpg  \n",
            "  inflating: ham10000_images_part_2/ISIC_0032530.jpg  \n",
            "  inflating: ham10000_images_part_2/ISIC_0032531.jpg  \n",
            "  inflating: ham10000_images_part_2/ISIC_0032532.jpg  \n",
            "  inflating: ham10000_images_part_2/ISIC_0032533.jpg  \n",
            "  inflating: ham10000_images_part_2/ISIC_0032534.jpg  \n",
            "  inflating: ham10000_images_part_2/ISIC_0032535.jpg  \n",
            "  inflating: ham10000_images_part_2/ISIC_0032536.jpg  \n",
            "  inflating: ham10000_images_part_2/ISIC_0032537.jpg  \n",
            "  inflating: ham10000_images_part_2/ISIC_0032538.jpg  \n",
            "  inflating: ham10000_images_part_2/ISIC_0032539.jpg  \n",
            "  inflating: ham10000_images_part_2/ISIC_0032540.jpg  \n",
            "  inflating: ham10000_images_part_2/ISIC_0032541.jpg  \n",
            "  inflating: ham10000_images_part_2/ISIC_0032542.jpg  \n",
            "  inflating: ham10000_images_part_2/ISIC_0032543.jpg  \n",
            "  inflating: ham10000_images_part_2/ISIC_0032544.jpg  \n",
            "  inflating: ham10000_images_part_2/ISIC_0032545.jpg  \n",
            "  inflating: ham10000_images_part_2/ISIC_0032546.jpg  \n",
            "  inflating: ham10000_images_part_2/ISIC_0032547.jpg  \n",
            "  inflating: ham10000_images_part_2/ISIC_0032548.jpg  \n",
            "  inflating: ham10000_images_part_2/ISIC_0032549.jpg  \n",
            "  inflating: ham10000_images_part_2/ISIC_0032550.jpg  \n",
            "  inflating: ham10000_images_part_2/ISIC_0032551.jpg  \n",
            "  inflating: ham10000_images_part_2/ISIC_0032552.jpg  \n",
            "  inflating: ham10000_images_part_2/ISIC_0032553.jpg  \n",
            "  inflating: ham10000_images_part_2/ISIC_0032554.jpg  \n",
            "  inflating: ham10000_images_part_2/ISIC_0032555.jpg  \n",
            "  inflating: ham10000_images_part_2/ISIC_0032556.jpg  \n",
            "  inflating: ham10000_images_part_2/ISIC_0032557.jpg  \n",
            "  inflating: ham10000_images_part_2/ISIC_0032558.jpg  \n",
            "  inflating: ham10000_images_part_2/ISIC_0032559.jpg  \n",
            "  inflating: ham10000_images_part_2/ISIC_0032560.jpg  \n",
            "  inflating: ham10000_images_part_2/ISIC_0032561.jpg  \n",
            "  inflating: ham10000_images_part_2/ISIC_0032562.jpg  \n",
            "  inflating: ham10000_images_part_2/ISIC_0032563.jpg  \n",
            "  inflating: ham10000_images_part_2/ISIC_0032564.jpg  \n",
            "  inflating: ham10000_images_part_2/ISIC_0032565.jpg  \n",
            "  inflating: ham10000_images_part_2/ISIC_0032566.jpg  \n",
            "  inflating: ham10000_images_part_2/ISIC_0032567.jpg  \n",
            "  inflating: ham10000_images_part_2/ISIC_0032568.jpg  \n",
            "  inflating: ham10000_images_part_2/ISIC_0032569.jpg  \n",
            "  inflating: ham10000_images_part_2/ISIC_0032570.jpg  \n",
            "  inflating: ham10000_images_part_2/ISIC_0032571.jpg  \n",
            "  inflating: ham10000_images_part_2/ISIC_0032572.jpg  \n",
            "  inflating: ham10000_images_part_2/ISIC_0032573.jpg  \n",
            "  inflating: ham10000_images_part_2/ISIC_0032574.jpg  \n",
            "  inflating: ham10000_images_part_2/ISIC_0032575.jpg  \n",
            "  inflating: ham10000_images_part_2/ISIC_0032576.jpg  \n",
            "  inflating: ham10000_images_part_2/ISIC_0032577.jpg  \n",
            "  inflating: ham10000_images_part_2/ISIC_0032578.jpg  \n",
            "  inflating: ham10000_images_part_2/ISIC_0032579.jpg  \n",
            "  inflating: ham10000_images_part_2/ISIC_0032580.jpg  \n",
            "  inflating: ham10000_images_part_2/ISIC_0032581.jpg  \n",
            "  inflating: ham10000_images_part_2/ISIC_0032582.jpg  \n",
            "  inflating: ham10000_images_part_2/ISIC_0032583.jpg  \n",
            "  inflating: ham10000_images_part_2/ISIC_0032584.jpg  \n",
            "  inflating: ham10000_images_part_2/ISIC_0032585.jpg  \n",
            "  inflating: ham10000_images_part_2/ISIC_0032586.jpg  \n",
            "  inflating: ham10000_images_part_2/ISIC_0032587.jpg  \n",
            "  inflating: ham10000_images_part_2/ISIC_0032588.jpg  \n",
            "  inflating: ham10000_images_part_2/ISIC_0032589.jpg  \n",
            "  inflating: ham10000_images_part_2/ISIC_0032590.jpg  \n",
            "  inflating: ham10000_images_part_2/ISIC_0032591.jpg  \n",
            "  inflating: ham10000_images_part_2/ISIC_0032592.jpg  \n",
            "  inflating: ham10000_images_part_2/ISIC_0032593.jpg  \n",
            "  inflating: ham10000_images_part_2/ISIC_0032594.jpg  \n",
            "  inflating: ham10000_images_part_2/ISIC_0032595.jpg  \n",
            "  inflating: ham10000_images_part_2/ISIC_0032596.jpg  \n",
            "  inflating: ham10000_images_part_2/ISIC_0032597.jpg  \n",
            "  inflating: ham10000_images_part_2/ISIC_0032598.jpg  \n",
            "  inflating: ham10000_images_part_2/ISIC_0032599.jpg  \n",
            "  inflating: ham10000_images_part_2/ISIC_0032600.jpg  \n",
            "  inflating: ham10000_images_part_2/ISIC_0032601.jpg  \n",
            "  inflating: ham10000_images_part_2/ISIC_0032602.jpg  \n",
            "  inflating: ham10000_images_part_2/ISIC_0032603.jpg  \n",
            "  inflating: ham10000_images_part_2/ISIC_0032604.jpg  \n",
            "  inflating: ham10000_images_part_2/ISIC_0032605.jpg  \n",
            "  inflating: ham10000_images_part_2/ISIC_0032606.jpg  \n",
            "  inflating: ham10000_images_part_2/ISIC_0032607.jpg  \n",
            "  inflating: ham10000_images_part_2/ISIC_0032608.jpg  \n",
            "  inflating: ham10000_images_part_2/ISIC_0032609.jpg  \n",
            "  inflating: ham10000_images_part_2/ISIC_0032610.jpg  \n",
            "  inflating: ham10000_images_part_2/ISIC_0032611.jpg  \n",
            "  inflating: ham10000_images_part_2/ISIC_0032612.jpg  \n",
            "  inflating: ham10000_images_part_2/ISIC_0032613.jpg  \n",
            "  inflating: ham10000_images_part_2/ISIC_0032614.jpg  \n",
            "  inflating: ham10000_images_part_2/ISIC_0032615.jpg  \n",
            "  inflating: ham10000_images_part_2/ISIC_0032616.jpg  \n",
            "  inflating: ham10000_images_part_2/ISIC_0032617.jpg  \n",
            "  inflating: ham10000_images_part_2/ISIC_0032618.jpg  \n",
            "  inflating: ham10000_images_part_2/ISIC_0032619.jpg  \n",
            "  inflating: ham10000_images_part_2/ISIC_0032620.jpg  \n",
            "  inflating: ham10000_images_part_2/ISIC_0032621.jpg  \n",
            "  inflating: ham10000_images_part_2/ISIC_0032622.jpg  \n",
            "  inflating: ham10000_images_part_2/ISIC_0032623.jpg  \n",
            "  inflating: ham10000_images_part_2/ISIC_0032624.jpg  \n",
            "  inflating: ham10000_images_part_2/ISIC_0032625.jpg  \n",
            "  inflating: ham10000_images_part_2/ISIC_0032626.jpg  \n",
            "  inflating: ham10000_images_part_2/ISIC_0032627.jpg  \n",
            "  inflating: ham10000_images_part_2/ISIC_0032628.jpg  \n",
            "  inflating: ham10000_images_part_2/ISIC_0032629.jpg  \n",
            "  inflating: ham10000_images_part_2/ISIC_0032630.jpg  \n",
            "  inflating: ham10000_images_part_2/ISIC_0032631.jpg  \n",
            "  inflating: ham10000_images_part_2/ISIC_0032632.jpg  \n",
            "  inflating: ham10000_images_part_2/ISIC_0032633.jpg  \n",
            "  inflating: ham10000_images_part_2/ISIC_0032634.jpg  \n",
            "  inflating: ham10000_images_part_2/ISIC_0032635.jpg  \n",
            "  inflating: ham10000_images_part_2/ISIC_0032636.jpg  \n",
            "  inflating: ham10000_images_part_2/ISIC_0032637.jpg  \n",
            "  inflating: ham10000_images_part_2/ISIC_0032638.jpg  \n",
            "  inflating: ham10000_images_part_2/ISIC_0032639.jpg  \n",
            "  inflating: ham10000_images_part_2/ISIC_0032640.jpg  \n",
            "  inflating: ham10000_images_part_2/ISIC_0032641.jpg  \n",
            "  inflating: ham10000_images_part_2/ISIC_0032642.jpg  \n",
            "  inflating: ham10000_images_part_2/ISIC_0032643.jpg  \n",
            "  inflating: ham10000_images_part_2/ISIC_0032644.jpg  \n",
            "  inflating: ham10000_images_part_2/ISIC_0032645.jpg  \n",
            "  inflating: ham10000_images_part_2/ISIC_0032646.jpg  \n",
            "  inflating: ham10000_images_part_2/ISIC_0032647.jpg  \n",
            "  inflating: ham10000_images_part_2/ISIC_0032648.jpg  \n",
            "  inflating: ham10000_images_part_2/ISIC_0032649.jpg  \n",
            "  inflating: ham10000_images_part_2/ISIC_0032650.jpg  \n",
            "  inflating: ham10000_images_part_2/ISIC_0032651.jpg  \n",
            "  inflating: ham10000_images_part_2/ISIC_0032652.jpg  \n",
            "  inflating: ham10000_images_part_2/ISIC_0032653.jpg  \n",
            "  inflating: ham10000_images_part_2/ISIC_0032654.jpg  \n",
            "  inflating: ham10000_images_part_2/ISIC_0032655.jpg  \n",
            "  inflating: ham10000_images_part_2/ISIC_0032656.jpg  \n",
            "  inflating: ham10000_images_part_2/ISIC_0032657.jpg  \n",
            "  inflating: ham10000_images_part_2/ISIC_0032658.jpg  \n",
            "  inflating: ham10000_images_part_2/ISIC_0032659.jpg  \n",
            "  inflating: ham10000_images_part_2/ISIC_0032660.jpg  \n",
            "  inflating: ham10000_images_part_2/ISIC_0032661.jpg  \n",
            "  inflating: ham10000_images_part_2/ISIC_0032662.jpg  \n",
            "  inflating: ham10000_images_part_2/ISIC_0032663.jpg  \n",
            "  inflating: ham10000_images_part_2/ISIC_0032664.jpg  \n",
            "  inflating: ham10000_images_part_2/ISIC_0032665.jpg  \n",
            "  inflating: ham10000_images_part_2/ISIC_0032666.jpg  \n",
            "  inflating: ham10000_images_part_2/ISIC_0032667.jpg  \n",
            "  inflating: ham10000_images_part_2/ISIC_0032668.jpg  \n",
            "  inflating: ham10000_images_part_2/ISIC_0032669.jpg  \n",
            "  inflating: ham10000_images_part_2/ISIC_0032670.jpg  \n",
            "  inflating: ham10000_images_part_2/ISIC_0032671.jpg  \n",
            "  inflating: ham10000_images_part_2/ISIC_0032672.jpg  \n",
            "  inflating: ham10000_images_part_2/ISIC_0032673.jpg  \n",
            "  inflating: ham10000_images_part_2/ISIC_0032674.jpg  \n",
            "  inflating: ham10000_images_part_2/ISIC_0032675.jpg  \n",
            "  inflating: ham10000_images_part_2/ISIC_0032676.jpg  \n",
            "  inflating: ham10000_images_part_2/ISIC_0032677.jpg  \n",
            "  inflating: ham10000_images_part_2/ISIC_0032678.jpg  \n",
            "  inflating: ham10000_images_part_2/ISIC_0032679.jpg  \n",
            "  inflating: ham10000_images_part_2/ISIC_0032680.jpg  \n",
            "  inflating: ham10000_images_part_2/ISIC_0032681.jpg  \n",
            "  inflating: ham10000_images_part_2/ISIC_0032682.jpg  \n",
            "  inflating: ham10000_images_part_2/ISIC_0032683.jpg  \n",
            "  inflating: ham10000_images_part_2/ISIC_0032684.jpg  \n",
            "  inflating: ham10000_images_part_2/ISIC_0032685.jpg  \n",
            "  inflating: ham10000_images_part_2/ISIC_0032686.jpg  \n",
            "  inflating: ham10000_images_part_2/ISIC_0032687.jpg  \n",
            "  inflating: ham10000_images_part_2/ISIC_0032688.jpg  \n",
            "  inflating: ham10000_images_part_2/ISIC_0032689.jpg  \n",
            "  inflating: ham10000_images_part_2/ISIC_0032690.jpg  \n",
            "  inflating: ham10000_images_part_2/ISIC_0032691.jpg  \n",
            "  inflating: ham10000_images_part_2/ISIC_0032692.jpg  \n",
            "  inflating: ham10000_images_part_2/ISIC_0032693.jpg  \n",
            "  inflating: ham10000_images_part_2/ISIC_0032694.jpg  \n",
            "  inflating: ham10000_images_part_2/ISIC_0032695.jpg  \n",
            "  inflating: ham10000_images_part_2/ISIC_0032696.jpg  \n",
            "  inflating: ham10000_images_part_2/ISIC_0032697.jpg  \n",
            "  inflating: ham10000_images_part_2/ISIC_0032698.jpg  \n",
            "  inflating: ham10000_images_part_2/ISIC_0032699.jpg  \n",
            "  inflating: ham10000_images_part_2/ISIC_0032700.jpg  \n",
            "  inflating: ham10000_images_part_2/ISIC_0032701.jpg  \n",
            "  inflating: ham10000_images_part_2/ISIC_0032702.jpg  \n",
            "  inflating: ham10000_images_part_2/ISIC_0032703.jpg  \n",
            "  inflating: ham10000_images_part_2/ISIC_0032704.jpg  \n",
            "  inflating: ham10000_images_part_2/ISIC_0032705.jpg  \n",
            "  inflating: ham10000_images_part_2/ISIC_0032706.jpg  \n",
            "  inflating: ham10000_images_part_2/ISIC_0032707.jpg  \n",
            "  inflating: ham10000_images_part_2/ISIC_0032708.jpg  \n",
            "  inflating: ham10000_images_part_2/ISIC_0032709.jpg  \n",
            "  inflating: ham10000_images_part_2/ISIC_0032710.jpg  \n",
            "  inflating: ham10000_images_part_2/ISIC_0032711.jpg  \n",
            "  inflating: ham10000_images_part_2/ISIC_0032712.jpg  \n",
            "  inflating: ham10000_images_part_2/ISIC_0032713.jpg  \n",
            "  inflating: ham10000_images_part_2/ISIC_0032714.jpg  \n",
            "  inflating: ham10000_images_part_2/ISIC_0032715.jpg  \n",
            "  inflating: ham10000_images_part_2/ISIC_0032716.jpg  \n",
            "  inflating: ham10000_images_part_2/ISIC_0032717.jpg  \n",
            "  inflating: ham10000_images_part_2/ISIC_0032718.jpg  \n",
            "  inflating: ham10000_images_part_2/ISIC_0032719.jpg  \n",
            "  inflating: ham10000_images_part_2/ISIC_0032720.jpg  \n",
            "  inflating: ham10000_images_part_2/ISIC_0032721.jpg  \n",
            "  inflating: ham10000_images_part_2/ISIC_0032722.jpg  \n",
            "  inflating: ham10000_images_part_2/ISIC_0032723.jpg  \n",
            "  inflating: ham10000_images_part_2/ISIC_0032724.jpg  \n",
            "  inflating: ham10000_images_part_2/ISIC_0032725.jpg  \n",
            "  inflating: ham10000_images_part_2/ISIC_0032726.jpg  \n",
            "  inflating: ham10000_images_part_2/ISIC_0032727.jpg  \n",
            "  inflating: ham10000_images_part_2/ISIC_0032728.jpg  \n",
            "  inflating: ham10000_images_part_2/ISIC_0032729.jpg  \n",
            "  inflating: ham10000_images_part_2/ISIC_0032730.jpg  \n",
            "  inflating: ham10000_images_part_2/ISIC_0032731.jpg  \n",
            "  inflating: ham10000_images_part_2/ISIC_0032732.jpg  \n",
            "  inflating: ham10000_images_part_2/ISIC_0032733.jpg  \n",
            "  inflating: ham10000_images_part_2/ISIC_0032734.jpg  \n",
            "  inflating: ham10000_images_part_2/ISIC_0032735.jpg  \n",
            "  inflating: ham10000_images_part_2/ISIC_0032736.jpg  \n",
            "  inflating: ham10000_images_part_2/ISIC_0032737.jpg  \n",
            "  inflating: ham10000_images_part_2/ISIC_0032738.jpg  \n",
            "  inflating: ham10000_images_part_2/ISIC_0032739.jpg  \n",
            "  inflating: ham10000_images_part_2/ISIC_0032740.jpg  \n",
            "  inflating: ham10000_images_part_2/ISIC_0032741.jpg  \n",
            "  inflating: ham10000_images_part_2/ISIC_0032742.jpg  \n",
            "  inflating: ham10000_images_part_2/ISIC_0032743.jpg  \n",
            "  inflating: ham10000_images_part_2/ISIC_0032744.jpg  \n",
            "  inflating: ham10000_images_part_2/ISIC_0032745.jpg  \n",
            "  inflating: ham10000_images_part_2/ISIC_0032746.jpg  \n",
            "  inflating: ham10000_images_part_2/ISIC_0032747.jpg  \n",
            "  inflating: ham10000_images_part_2/ISIC_0032748.jpg  \n",
            "  inflating: ham10000_images_part_2/ISIC_0032749.jpg  \n",
            "  inflating: ham10000_images_part_2/ISIC_0032750.jpg  \n",
            "  inflating: ham10000_images_part_2/ISIC_0032751.jpg  \n",
            "  inflating: ham10000_images_part_2/ISIC_0032752.jpg  \n",
            "  inflating: ham10000_images_part_2/ISIC_0032753.jpg  \n",
            "  inflating: ham10000_images_part_2/ISIC_0032754.jpg  \n",
            "  inflating: ham10000_images_part_2/ISIC_0032755.jpg  \n",
            "  inflating: ham10000_images_part_2/ISIC_0032756.jpg  \n",
            "  inflating: ham10000_images_part_2/ISIC_0032757.jpg  \n",
            "  inflating: ham10000_images_part_2/ISIC_0032758.jpg  \n",
            "  inflating: ham10000_images_part_2/ISIC_0032759.jpg  \n",
            "  inflating: ham10000_images_part_2/ISIC_0032760.jpg  \n",
            "  inflating: ham10000_images_part_2/ISIC_0032761.jpg  \n",
            "  inflating: ham10000_images_part_2/ISIC_0032762.jpg  \n",
            "  inflating: ham10000_images_part_2/ISIC_0032763.jpg  \n",
            "  inflating: ham10000_images_part_2/ISIC_0032764.jpg  \n",
            "  inflating: ham10000_images_part_2/ISIC_0032765.jpg  \n",
            "  inflating: ham10000_images_part_2/ISIC_0032766.jpg  \n",
            "  inflating: ham10000_images_part_2/ISIC_0032767.jpg  \n",
            "  inflating: ham10000_images_part_2/ISIC_0032768.jpg  \n",
            "  inflating: ham10000_images_part_2/ISIC_0032769.jpg  \n",
            "  inflating: ham10000_images_part_2/ISIC_0032770.jpg  \n",
            "  inflating: ham10000_images_part_2/ISIC_0032771.jpg  \n",
            "  inflating: ham10000_images_part_2/ISIC_0032772.jpg  \n",
            "  inflating: ham10000_images_part_2/ISIC_0032773.jpg  \n",
            "  inflating: ham10000_images_part_2/ISIC_0032774.jpg  \n",
            "  inflating: ham10000_images_part_2/ISIC_0032775.jpg  \n",
            "  inflating: ham10000_images_part_2/ISIC_0032776.jpg  \n",
            "  inflating: ham10000_images_part_2/ISIC_0032777.jpg  \n",
            "  inflating: ham10000_images_part_2/ISIC_0032778.jpg  \n",
            "  inflating: ham10000_images_part_2/ISIC_0032779.jpg  \n",
            "  inflating: ham10000_images_part_2/ISIC_0032780.jpg  \n",
            "  inflating: ham10000_images_part_2/ISIC_0032781.jpg  \n",
            "  inflating: ham10000_images_part_2/ISIC_0032782.jpg  \n",
            "  inflating: ham10000_images_part_2/ISIC_0032783.jpg  \n",
            "  inflating: ham10000_images_part_2/ISIC_0032784.jpg  \n",
            "  inflating: ham10000_images_part_2/ISIC_0032785.jpg  \n",
            "  inflating: ham10000_images_part_2/ISIC_0032786.jpg  \n",
            "  inflating: ham10000_images_part_2/ISIC_0032787.jpg  \n",
            "  inflating: ham10000_images_part_2/ISIC_0032788.jpg  \n",
            "  inflating: ham10000_images_part_2/ISIC_0032789.jpg  \n",
            "  inflating: ham10000_images_part_2/ISIC_0032790.jpg  \n",
            "  inflating: ham10000_images_part_2/ISIC_0032791.jpg  \n",
            "  inflating: ham10000_images_part_2/ISIC_0032792.jpg  \n",
            "  inflating: ham10000_images_part_2/ISIC_0032793.jpg  \n",
            "  inflating: ham10000_images_part_2/ISIC_0032794.jpg  \n",
            "  inflating: ham10000_images_part_2/ISIC_0032795.jpg  \n",
            "  inflating: ham10000_images_part_2/ISIC_0032796.jpg  \n",
            "  inflating: ham10000_images_part_2/ISIC_0032797.jpg  \n",
            "  inflating: ham10000_images_part_2/ISIC_0032798.jpg  \n",
            "  inflating: ham10000_images_part_2/ISIC_0032799.jpg  \n",
            "  inflating: ham10000_images_part_2/ISIC_0032800.jpg  \n",
            "  inflating: ham10000_images_part_2/ISIC_0032801.jpg  \n",
            "  inflating: ham10000_images_part_2/ISIC_0032802.jpg  \n",
            "  inflating: ham10000_images_part_2/ISIC_0032803.jpg  \n",
            "  inflating: ham10000_images_part_2/ISIC_0032804.jpg  \n",
            "  inflating: ham10000_images_part_2/ISIC_0032805.jpg  \n",
            "  inflating: ham10000_images_part_2/ISIC_0032806.jpg  \n",
            "  inflating: ham10000_images_part_2/ISIC_0032807.jpg  \n",
            "  inflating: ham10000_images_part_2/ISIC_0032808.jpg  \n",
            "  inflating: ham10000_images_part_2/ISIC_0032809.jpg  \n",
            "  inflating: ham10000_images_part_2/ISIC_0032810.jpg  \n",
            "  inflating: ham10000_images_part_2/ISIC_0032811.jpg  \n",
            "  inflating: ham10000_images_part_2/ISIC_0032812.jpg  \n",
            "  inflating: ham10000_images_part_2/ISIC_0032813.jpg  \n",
            "  inflating: ham10000_images_part_2/ISIC_0032814.jpg  \n",
            "  inflating: ham10000_images_part_2/ISIC_0032815.jpg  \n",
            "  inflating: ham10000_images_part_2/ISIC_0032816.jpg  \n",
            "  inflating: ham10000_images_part_2/ISIC_0032817.jpg  \n",
            "  inflating: ham10000_images_part_2/ISIC_0032818.jpg  \n",
            "  inflating: ham10000_images_part_2/ISIC_0032819.jpg  \n",
            "  inflating: ham10000_images_part_2/ISIC_0032820.jpg  \n",
            "  inflating: ham10000_images_part_2/ISIC_0032821.jpg  \n",
            "  inflating: ham10000_images_part_2/ISIC_0032822.jpg  \n",
            "  inflating: ham10000_images_part_2/ISIC_0032823.jpg  \n",
            "  inflating: ham10000_images_part_2/ISIC_0032824.jpg  \n",
            "  inflating: ham10000_images_part_2/ISIC_0032825.jpg  \n",
            "  inflating: ham10000_images_part_2/ISIC_0032826.jpg  \n",
            "  inflating: ham10000_images_part_2/ISIC_0032827.jpg  \n",
            "  inflating: ham10000_images_part_2/ISIC_0032828.jpg  \n",
            "  inflating: ham10000_images_part_2/ISIC_0032829.jpg  \n",
            "  inflating: ham10000_images_part_2/ISIC_0032830.jpg  \n",
            "  inflating: ham10000_images_part_2/ISIC_0032831.jpg  \n",
            "  inflating: ham10000_images_part_2/ISIC_0032832.jpg  \n",
            "  inflating: ham10000_images_part_2/ISIC_0032833.jpg  \n",
            "  inflating: ham10000_images_part_2/ISIC_0032834.jpg  \n",
            "  inflating: ham10000_images_part_2/ISIC_0032835.jpg  \n",
            "  inflating: ham10000_images_part_2/ISIC_0032836.jpg  \n",
            "  inflating: ham10000_images_part_2/ISIC_0032837.jpg  \n",
            "  inflating: ham10000_images_part_2/ISIC_0032838.jpg  \n",
            "  inflating: ham10000_images_part_2/ISIC_0032839.jpg  \n",
            "  inflating: ham10000_images_part_2/ISIC_0032840.jpg  \n",
            "  inflating: ham10000_images_part_2/ISIC_0032841.jpg  \n",
            "  inflating: ham10000_images_part_2/ISIC_0032842.jpg  \n",
            "  inflating: ham10000_images_part_2/ISIC_0032843.jpg  \n",
            "  inflating: ham10000_images_part_2/ISIC_0032844.jpg  \n",
            "  inflating: ham10000_images_part_2/ISIC_0032845.jpg  \n",
            "  inflating: ham10000_images_part_2/ISIC_0032846.jpg  \n",
            "  inflating: ham10000_images_part_2/ISIC_0032847.jpg  \n",
            "  inflating: ham10000_images_part_2/ISIC_0032848.jpg  \n",
            "  inflating: ham10000_images_part_2/ISIC_0032849.jpg  \n",
            "  inflating: ham10000_images_part_2/ISIC_0032850.jpg  \n",
            "  inflating: ham10000_images_part_2/ISIC_0032851.jpg  \n",
            "  inflating: ham10000_images_part_2/ISIC_0032852.jpg  \n",
            "  inflating: ham10000_images_part_2/ISIC_0032853.jpg  \n",
            "  inflating: ham10000_images_part_2/ISIC_0032854.jpg  \n",
            "  inflating: ham10000_images_part_2/ISIC_0032855.jpg  \n",
            "  inflating: ham10000_images_part_2/ISIC_0032856.jpg  \n",
            "  inflating: ham10000_images_part_2/ISIC_0032857.jpg  \n",
            "  inflating: ham10000_images_part_2/ISIC_0032858.jpg  \n",
            "  inflating: ham10000_images_part_2/ISIC_0032859.jpg  \n",
            "  inflating: ham10000_images_part_2/ISIC_0032860.jpg  \n",
            "  inflating: ham10000_images_part_2/ISIC_0032861.jpg  \n",
            "  inflating: ham10000_images_part_2/ISIC_0032862.jpg  \n",
            "  inflating: ham10000_images_part_2/ISIC_0032863.jpg  \n",
            "  inflating: ham10000_images_part_2/ISIC_0032864.jpg  \n",
            "  inflating: ham10000_images_part_2/ISIC_0032865.jpg  \n",
            "  inflating: ham10000_images_part_2/ISIC_0032866.jpg  \n",
            "  inflating: ham10000_images_part_2/ISIC_0032867.jpg  \n",
            "  inflating: ham10000_images_part_2/ISIC_0032868.jpg  \n",
            "  inflating: ham10000_images_part_2/ISIC_0032869.jpg  \n",
            "  inflating: ham10000_images_part_2/ISIC_0032870.jpg  \n",
            "  inflating: ham10000_images_part_2/ISIC_0032871.jpg  \n",
            "  inflating: ham10000_images_part_2/ISIC_0032872.jpg  \n",
            "  inflating: ham10000_images_part_2/ISIC_0032873.jpg  \n",
            "  inflating: ham10000_images_part_2/ISIC_0032874.jpg  \n",
            "  inflating: ham10000_images_part_2/ISIC_0032875.jpg  \n",
            "  inflating: ham10000_images_part_2/ISIC_0032876.jpg  \n",
            "  inflating: ham10000_images_part_2/ISIC_0032877.jpg  \n",
            "  inflating: ham10000_images_part_2/ISIC_0032878.jpg  \n",
            "  inflating: ham10000_images_part_2/ISIC_0032879.jpg  \n",
            "  inflating: ham10000_images_part_2/ISIC_0032880.jpg  \n",
            "  inflating: ham10000_images_part_2/ISIC_0032881.jpg  \n",
            "  inflating: ham10000_images_part_2/ISIC_0032882.jpg  \n",
            "  inflating: ham10000_images_part_2/ISIC_0032883.jpg  \n",
            "  inflating: ham10000_images_part_2/ISIC_0032884.jpg  \n",
            "  inflating: ham10000_images_part_2/ISIC_0032885.jpg  \n",
            "  inflating: ham10000_images_part_2/ISIC_0032886.jpg  \n",
            "  inflating: ham10000_images_part_2/ISIC_0032887.jpg  \n",
            "  inflating: ham10000_images_part_2/ISIC_0032888.jpg  \n",
            "  inflating: ham10000_images_part_2/ISIC_0032889.jpg  \n",
            "  inflating: ham10000_images_part_2/ISIC_0032890.jpg  \n",
            "  inflating: ham10000_images_part_2/ISIC_0032891.jpg  \n",
            "  inflating: ham10000_images_part_2/ISIC_0032892.jpg  \n",
            "  inflating: ham10000_images_part_2/ISIC_0032893.jpg  \n",
            "  inflating: ham10000_images_part_2/ISIC_0032894.jpg  \n",
            "  inflating: ham10000_images_part_2/ISIC_0032895.jpg  \n",
            "  inflating: ham10000_images_part_2/ISIC_0032896.jpg  \n",
            "  inflating: ham10000_images_part_2/ISIC_0032897.jpg  \n",
            "  inflating: ham10000_images_part_2/ISIC_0032898.jpg  \n",
            "  inflating: ham10000_images_part_2/ISIC_0032899.jpg  \n",
            "  inflating: ham10000_images_part_2/ISIC_0032900.jpg  \n",
            "  inflating: ham10000_images_part_2/ISIC_0032901.jpg  \n",
            "  inflating: ham10000_images_part_2/ISIC_0032902.jpg  \n",
            "  inflating: ham10000_images_part_2/ISIC_0032903.jpg  \n",
            "  inflating: ham10000_images_part_2/ISIC_0032904.jpg  \n",
            "  inflating: ham10000_images_part_2/ISIC_0032905.jpg  \n",
            "  inflating: ham10000_images_part_2/ISIC_0032906.jpg  \n",
            "  inflating: ham10000_images_part_2/ISIC_0032907.jpg  \n",
            "  inflating: ham10000_images_part_2/ISIC_0032908.jpg  \n",
            "  inflating: ham10000_images_part_2/ISIC_0032909.jpg  \n",
            "  inflating: ham10000_images_part_2/ISIC_0032910.jpg  \n",
            "  inflating: ham10000_images_part_2/ISIC_0032911.jpg  \n",
            "  inflating: ham10000_images_part_2/ISIC_0032912.jpg  \n",
            "  inflating: ham10000_images_part_2/ISIC_0032913.jpg  \n",
            "  inflating: ham10000_images_part_2/ISIC_0032914.jpg  \n",
            "  inflating: ham10000_images_part_2/ISIC_0032915.jpg  \n",
            "  inflating: ham10000_images_part_2/ISIC_0032916.jpg  \n",
            "  inflating: ham10000_images_part_2/ISIC_0032917.jpg  \n",
            "  inflating: ham10000_images_part_2/ISIC_0032918.jpg  \n",
            "  inflating: ham10000_images_part_2/ISIC_0032919.jpg  \n",
            "  inflating: ham10000_images_part_2/ISIC_0032920.jpg  \n",
            "  inflating: ham10000_images_part_2/ISIC_0032921.jpg  \n",
            "  inflating: ham10000_images_part_2/ISIC_0032922.jpg  \n",
            "  inflating: ham10000_images_part_2/ISIC_0032923.jpg  \n",
            "  inflating: ham10000_images_part_2/ISIC_0032924.jpg  \n",
            "  inflating: ham10000_images_part_2/ISIC_0032925.jpg  \n",
            "  inflating: ham10000_images_part_2/ISIC_0032926.jpg  \n",
            "  inflating: ham10000_images_part_2/ISIC_0032927.jpg  \n",
            "  inflating: ham10000_images_part_2/ISIC_0032928.jpg  \n",
            "  inflating: ham10000_images_part_2/ISIC_0032929.jpg  \n",
            "  inflating: ham10000_images_part_2/ISIC_0032930.jpg  \n",
            "  inflating: ham10000_images_part_2/ISIC_0032931.jpg  \n",
            "  inflating: ham10000_images_part_2/ISIC_0032932.jpg  \n",
            "  inflating: ham10000_images_part_2/ISIC_0032933.jpg  \n",
            "  inflating: ham10000_images_part_2/ISIC_0032934.jpg  \n",
            "  inflating: ham10000_images_part_2/ISIC_0032935.jpg  \n",
            "  inflating: ham10000_images_part_2/ISIC_0032936.jpg  \n",
            "  inflating: ham10000_images_part_2/ISIC_0032937.jpg  \n",
            "  inflating: ham10000_images_part_2/ISIC_0032938.jpg  \n",
            "  inflating: ham10000_images_part_2/ISIC_0032939.jpg  \n",
            "  inflating: ham10000_images_part_2/ISIC_0032940.jpg  \n",
            "  inflating: ham10000_images_part_2/ISIC_0032941.jpg  \n",
            "  inflating: ham10000_images_part_2/ISIC_0032942.jpg  \n",
            "  inflating: ham10000_images_part_2/ISIC_0032943.jpg  \n",
            "  inflating: ham10000_images_part_2/ISIC_0032944.jpg  \n",
            "  inflating: ham10000_images_part_2/ISIC_0032945.jpg  \n",
            "  inflating: ham10000_images_part_2/ISIC_0032946.jpg  \n",
            "  inflating: ham10000_images_part_2/ISIC_0032947.jpg  \n",
            "  inflating: ham10000_images_part_2/ISIC_0032948.jpg  \n",
            "  inflating: ham10000_images_part_2/ISIC_0032949.jpg  \n",
            "  inflating: ham10000_images_part_2/ISIC_0032950.jpg  \n",
            "  inflating: ham10000_images_part_2/ISIC_0032951.jpg  \n",
            "  inflating: ham10000_images_part_2/ISIC_0032952.jpg  \n",
            "  inflating: ham10000_images_part_2/ISIC_0032953.jpg  \n",
            "  inflating: ham10000_images_part_2/ISIC_0032954.jpg  \n",
            "  inflating: ham10000_images_part_2/ISIC_0032955.jpg  \n",
            "  inflating: ham10000_images_part_2/ISIC_0032956.jpg  \n",
            "  inflating: ham10000_images_part_2/ISIC_0032957.jpg  \n",
            "  inflating: ham10000_images_part_2/ISIC_0032958.jpg  \n",
            "  inflating: ham10000_images_part_2/ISIC_0032959.jpg  \n",
            "  inflating: ham10000_images_part_2/ISIC_0032960.jpg  \n",
            "  inflating: ham10000_images_part_2/ISIC_0032961.jpg  \n",
            "  inflating: ham10000_images_part_2/ISIC_0032962.jpg  \n",
            "  inflating: ham10000_images_part_2/ISIC_0032963.jpg  \n",
            "  inflating: ham10000_images_part_2/ISIC_0032964.jpg  \n",
            "  inflating: ham10000_images_part_2/ISIC_0032965.jpg  \n",
            "  inflating: ham10000_images_part_2/ISIC_0032966.jpg  \n",
            "  inflating: ham10000_images_part_2/ISIC_0032967.jpg  \n",
            "  inflating: ham10000_images_part_2/ISIC_0032968.jpg  \n",
            "  inflating: ham10000_images_part_2/ISIC_0032969.jpg  \n",
            "  inflating: ham10000_images_part_2/ISIC_0032970.jpg  \n",
            "  inflating: ham10000_images_part_2/ISIC_0032971.jpg  \n",
            "  inflating: ham10000_images_part_2/ISIC_0032972.jpg  \n",
            "  inflating: ham10000_images_part_2/ISIC_0032973.jpg  \n",
            "  inflating: ham10000_images_part_2/ISIC_0032974.jpg  \n",
            "  inflating: ham10000_images_part_2/ISIC_0032975.jpg  \n",
            "  inflating: ham10000_images_part_2/ISIC_0032976.jpg  \n",
            "  inflating: ham10000_images_part_2/ISIC_0032977.jpg  \n",
            "  inflating: ham10000_images_part_2/ISIC_0032978.jpg  \n",
            "  inflating: ham10000_images_part_2/ISIC_0032979.jpg  \n",
            "  inflating: ham10000_images_part_2/ISIC_0032980.jpg  \n",
            "  inflating: ham10000_images_part_2/ISIC_0032981.jpg  \n",
            "  inflating: ham10000_images_part_2/ISIC_0032982.jpg  \n",
            "  inflating: ham10000_images_part_2/ISIC_0032983.jpg  \n",
            "  inflating: ham10000_images_part_2/ISIC_0032984.jpg  \n",
            "  inflating: ham10000_images_part_2/ISIC_0032985.jpg  \n",
            "  inflating: ham10000_images_part_2/ISIC_0032986.jpg  \n",
            "  inflating: ham10000_images_part_2/ISIC_0032987.jpg  \n",
            "  inflating: ham10000_images_part_2/ISIC_0032988.jpg  \n",
            "  inflating: ham10000_images_part_2/ISIC_0032989.jpg  \n",
            "  inflating: ham10000_images_part_2/ISIC_0032990.jpg  \n",
            "  inflating: ham10000_images_part_2/ISIC_0032991.jpg  \n",
            "  inflating: ham10000_images_part_2/ISIC_0032992.jpg  \n",
            "  inflating: ham10000_images_part_2/ISIC_0032993.jpg  \n",
            "  inflating: ham10000_images_part_2/ISIC_0032994.jpg  \n",
            "  inflating: ham10000_images_part_2/ISIC_0032995.jpg  \n",
            "  inflating: ham10000_images_part_2/ISIC_0032996.jpg  \n",
            "  inflating: ham10000_images_part_2/ISIC_0032997.jpg  \n",
            "  inflating: ham10000_images_part_2/ISIC_0032998.jpg  \n",
            "  inflating: ham10000_images_part_2/ISIC_0032999.jpg  \n",
            "  inflating: ham10000_images_part_2/ISIC_0033000.jpg  \n",
            "  inflating: ham10000_images_part_2/ISIC_0033001.jpg  \n",
            "  inflating: ham10000_images_part_2/ISIC_0033002.jpg  \n",
            "  inflating: ham10000_images_part_2/ISIC_0033003.jpg  \n",
            "  inflating: ham10000_images_part_2/ISIC_0033004.jpg  \n",
            "  inflating: ham10000_images_part_2/ISIC_0033005.jpg  \n",
            "  inflating: ham10000_images_part_2/ISIC_0033006.jpg  \n",
            "  inflating: ham10000_images_part_2/ISIC_0033007.jpg  \n",
            "  inflating: ham10000_images_part_2/ISIC_0033008.jpg  \n",
            "  inflating: ham10000_images_part_2/ISIC_0033009.jpg  \n",
            "  inflating: ham10000_images_part_2/ISIC_0033010.jpg  \n",
            "  inflating: ham10000_images_part_2/ISIC_0033011.jpg  \n",
            "  inflating: ham10000_images_part_2/ISIC_0033012.jpg  \n",
            "  inflating: ham10000_images_part_2/ISIC_0033013.jpg  \n",
            "  inflating: ham10000_images_part_2/ISIC_0033014.jpg  \n",
            "  inflating: ham10000_images_part_2/ISIC_0033015.jpg  \n",
            "  inflating: ham10000_images_part_2/ISIC_0033016.jpg  \n",
            "  inflating: ham10000_images_part_2/ISIC_0033017.jpg  \n",
            "  inflating: ham10000_images_part_2/ISIC_0033018.jpg  \n",
            "  inflating: ham10000_images_part_2/ISIC_0033019.jpg  \n",
            "  inflating: ham10000_images_part_2/ISIC_0033020.jpg  \n",
            "  inflating: ham10000_images_part_2/ISIC_0033021.jpg  \n",
            "  inflating: ham10000_images_part_2/ISIC_0033022.jpg  \n",
            "  inflating: ham10000_images_part_2/ISIC_0033023.jpg  \n",
            "  inflating: ham10000_images_part_2/ISIC_0033024.jpg  \n",
            "  inflating: ham10000_images_part_2/ISIC_0033025.jpg  \n",
            "  inflating: ham10000_images_part_2/ISIC_0033026.jpg  \n",
            "  inflating: ham10000_images_part_2/ISIC_0033027.jpg  \n",
            "  inflating: ham10000_images_part_2/ISIC_0033028.jpg  \n",
            "  inflating: ham10000_images_part_2/ISIC_0033029.jpg  \n",
            "  inflating: ham10000_images_part_2/ISIC_0033030.jpg  \n",
            "  inflating: ham10000_images_part_2/ISIC_0033031.jpg  \n",
            "  inflating: ham10000_images_part_2/ISIC_0033032.jpg  \n",
            "  inflating: ham10000_images_part_2/ISIC_0033033.jpg  \n",
            "  inflating: ham10000_images_part_2/ISIC_0033034.jpg  \n",
            "  inflating: ham10000_images_part_2/ISIC_0033035.jpg  \n",
            "  inflating: ham10000_images_part_2/ISIC_0033036.jpg  \n",
            "  inflating: ham10000_images_part_2/ISIC_0033037.jpg  \n",
            "  inflating: ham10000_images_part_2/ISIC_0033038.jpg  \n",
            "  inflating: ham10000_images_part_2/ISIC_0033039.jpg  \n",
            "  inflating: ham10000_images_part_2/ISIC_0033040.jpg  \n",
            "  inflating: ham10000_images_part_2/ISIC_0033041.jpg  \n",
            "  inflating: ham10000_images_part_2/ISIC_0033042.jpg  \n",
            "  inflating: ham10000_images_part_2/ISIC_0033043.jpg  \n",
            "  inflating: ham10000_images_part_2/ISIC_0033044.jpg  \n",
            "  inflating: ham10000_images_part_2/ISIC_0033045.jpg  \n",
            "  inflating: ham10000_images_part_2/ISIC_0033046.jpg  \n",
            "  inflating: ham10000_images_part_2/ISIC_0033047.jpg  \n",
            "  inflating: ham10000_images_part_2/ISIC_0033048.jpg  \n",
            "  inflating: ham10000_images_part_2/ISIC_0033049.jpg  \n",
            "  inflating: ham10000_images_part_2/ISIC_0033050.jpg  \n",
            "  inflating: ham10000_images_part_2/ISIC_0033051.jpg  \n",
            "  inflating: ham10000_images_part_2/ISIC_0033052.jpg  \n",
            "  inflating: ham10000_images_part_2/ISIC_0033053.jpg  \n",
            "  inflating: ham10000_images_part_2/ISIC_0033054.jpg  \n",
            "  inflating: ham10000_images_part_2/ISIC_0033055.jpg  \n",
            "  inflating: ham10000_images_part_2/ISIC_0033056.jpg  \n",
            "  inflating: ham10000_images_part_2/ISIC_0033057.jpg  \n",
            "  inflating: ham10000_images_part_2/ISIC_0033058.jpg  \n",
            "  inflating: ham10000_images_part_2/ISIC_0033059.jpg  \n",
            "  inflating: ham10000_images_part_2/ISIC_0033060.jpg  \n",
            "  inflating: ham10000_images_part_2/ISIC_0033061.jpg  \n",
            "  inflating: ham10000_images_part_2/ISIC_0033062.jpg  \n",
            "  inflating: ham10000_images_part_2/ISIC_0033063.jpg  \n",
            "  inflating: ham10000_images_part_2/ISIC_0033064.jpg  \n",
            "  inflating: ham10000_images_part_2/ISIC_0033065.jpg  \n",
            "  inflating: ham10000_images_part_2/ISIC_0033066.jpg  \n",
            "  inflating: ham10000_images_part_2/ISIC_0033067.jpg  \n",
            "  inflating: ham10000_images_part_2/ISIC_0033068.jpg  \n",
            "  inflating: ham10000_images_part_2/ISIC_0033069.jpg  \n",
            "  inflating: ham10000_images_part_2/ISIC_0033070.jpg  \n",
            "  inflating: ham10000_images_part_2/ISIC_0033071.jpg  \n",
            "  inflating: ham10000_images_part_2/ISIC_0033072.jpg  \n",
            "  inflating: ham10000_images_part_2/ISIC_0033073.jpg  \n",
            "  inflating: ham10000_images_part_2/ISIC_0033074.jpg  \n",
            "  inflating: ham10000_images_part_2/ISIC_0033075.jpg  \n",
            "  inflating: ham10000_images_part_2/ISIC_0033076.jpg  \n",
            "  inflating: ham10000_images_part_2/ISIC_0033077.jpg  \n",
            "  inflating: ham10000_images_part_2/ISIC_0033078.jpg  \n",
            "  inflating: ham10000_images_part_2/ISIC_0033079.jpg  \n",
            "  inflating: ham10000_images_part_2/ISIC_0033080.jpg  \n",
            "  inflating: ham10000_images_part_2/ISIC_0033081.jpg  \n",
            "  inflating: ham10000_images_part_2/ISIC_0033082.jpg  \n",
            "  inflating: ham10000_images_part_2/ISIC_0033083.jpg  \n",
            "  inflating: ham10000_images_part_2/ISIC_0033084.jpg  \n",
            "  inflating: ham10000_images_part_2/ISIC_0033085.jpg  \n",
            "  inflating: ham10000_images_part_2/ISIC_0033086.jpg  \n",
            "  inflating: ham10000_images_part_2/ISIC_0033087.jpg  \n",
            "  inflating: ham10000_images_part_2/ISIC_0033088.jpg  \n",
            "  inflating: ham10000_images_part_2/ISIC_0033089.jpg  \n",
            "  inflating: ham10000_images_part_2/ISIC_0033090.jpg  \n",
            "  inflating: ham10000_images_part_2/ISIC_0033091.jpg  \n",
            "  inflating: ham10000_images_part_2/ISIC_0033092.jpg  \n",
            "  inflating: ham10000_images_part_2/ISIC_0033093.jpg  \n",
            "  inflating: ham10000_images_part_2/ISIC_0033094.jpg  \n",
            "  inflating: ham10000_images_part_2/ISIC_0033095.jpg  \n",
            "  inflating: ham10000_images_part_2/ISIC_0033096.jpg  \n",
            "  inflating: ham10000_images_part_2/ISIC_0033097.jpg  \n",
            "  inflating: ham10000_images_part_2/ISIC_0033098.jpg  \n",
            "  inflating: ham10000_images_part_2/ISIC_0033099.jpg  \n",
            "  inflating: ham10000_images_part_2/ISIC_0033100.jpg  \n",
            "  inflating: ham10000_images_part_2/ISIC_0033101.jpg  \n",
            "  inflating: ham10000_images_part_2/ISIC_0033102.jpg  \n",
            "  inflating: ham10000_images_part_2/ISIC_0033103.jpg  \n",
            "  inflating: ham10000_images_part_2/ISIC_0033104.jpg  \n",
            "  inflating: ham10000_images_part_2/ISIC_0033105.jpg  \n",
            "  inflating: ham10000_images_part_2/ISIC_0033106.jpg  \n",
            "  inflating: ham10000_images_part_2/ISIC_0033107.jpg  \n",
            "  inflating: ham10000_images_part_2/ISIC_0033108.jpg  \n",
            "  inflating: ham10000_images_part_2/ISIC_0033109.jpg  \n",
            "  inflating: ham10000_images_part_2/ISIC_0033110.jpg  \n",
            "  inflating: ham10000_images_part_2/ISIC_0033111.jpg  \n",
            "  inflating: ham10000_images_part_2/ISIC_0033112.jpg  \n",
            "  inflating: ham10000_images_part_2/ISIC_0033113.jpg  \n",
            "  inflating: ham10000_images_part_2/ISIC_0033114.jpg  \n",
            "  inflating: ham10000_images_part_2/ISIC_0033115.jpg  \n",
            "  inflating: ham10000_images_part_2/ISIC_0033116.jpg  \n",
            "  inflating: ham10000_images_part_2/ISIC_0033117.jpg  \n",
            "  inflating: ham10000_images_part_2/ISIC_0033118.jpg  \n",
            "  inflating: ham10000_images_part_2/ISIC_0033119.jpg  \n",
            "  inflating: ham10000_images_part_2/ISIC_0033120.jpg  \n",
            "  inflating: ham10000_images_part_2/ISIC_0033121.jpg  \n",
            "  inflating: ham10000_images_part_2/ISIC_0033122.jpg  \n",
            "  inflating: ham10000_images_part_2/ISIC_0033123.jpg  \n",
            "  inflating: ham10000_images_part_2/ISIC_0033124.jpg  \n",
            "  inflating: ham10000_images_part_2/ISIC_0033125.jpg  \n",
            "  inflating: ham10000_images_part_2/ISIC_0033126.jpg  \n",
            "  inflating: ham10000_images_part_2/ISIC_0033127.jpg  \n",
            "  inflating: ham10000_images_part_2/ISIC_0033128.jpg  \n",
            "  inflating: ham10000_images_part_2/ISIC_0033129.jpg  \n",
            "  inflating: ham10000_images_part_2/ISIC_0033130.jpg  \n",
            "  inflating: ham10000_images_part_2/ISIC_0033131.jpg  \n",
            "  inflating: ham10000_images_part_2/ISIC_0033132.jpg  \n",
            "  inflating: ham10000_images_part_2/ISIC_0033133.jpg  \n",
            "  inflating: ham10000_images_part_2/ISIC_0033134.jpg  \n",
            "  inflating: ham10000_images_part_2/ISIC_0033135.jpg  \n",
            "  inflating: ham10000_images_part_2/ISIC_0033136.jpg  \n",
            "  inflating: ham10000_images_part_2/ISIC_0033137.jpg  \n",
            "  inflating: ham10000_images_part_2/ISIC_0033138.jpg  \n",
            "  inflating: ham10000_images_part_2/ISIC_0033139.jpg  \n",
            "  inflating: ham10000_images_part_2/ISIC_0033140.jpg  \n",
            "  inflating: ham10000_images_part_2/ISIC_0033141.jpg  \n",
            "  inflating: ham10000_images_part_2/ISIC_0033142.jpg  \n",
            "  inflating: ham10000_images_part_2/ISIC_0033143.jpg  \n",
            "  inflating: ham10000_images_part_2/ISIC_0033144.jpg  \n",
            "  inflating: ham10000_images_part_2/ISIC_0033145.jpg  \n",
            "  inflating: ham10000_images_part_2/ISIC_0033146.jpg  \n",
            "  inflating: ham10000_images_part_2/ISIC_0033147.jpg  \n",
            "  inflating: ham10000_images_part_2/ISIC_0033148.jpg  \n",
            "  inflating: ham10000_images_part_2/ISIC_0033149.jpg  \n",
            "  inflating: ham10000_images_part_2/ISIC_0033150.jpg  \n",
            "  inflating: ham10000_images_part_2/ISIC_0033151.jpg  \n",
            "  inflating: ham10000_images_part_2/ISIC_0033152.jpg  \n",
            "  inflating: ham10000_images_part_2/ISIC_0033153.jpg  \n",
            "  inflating: ham10000_images_part_2/ISIC_0033154.jpg  \n",
            "  inflating: ham10000_images_part_2/ISIC_0033155.jpg  \n",
            "  inflating: ham10000_images_part_2/ISIC_0033156.jpg  \n",
            "  inflating: ham10000_images_part_2/ISIC_0033157.jpg  \n",
            "  inflating: ham10000_images_part_2/ISIC_0033158.jpg  \n",
            "  inflating: ham10000_images_part_2/ISIC_0033159.jpg  \n",
            "  inflating: ham10000_images_part_2/ISIC_0033160.jpg  \n",
            "  inflating: ham10000_images_part_2/ISIC_0033161.jpg  \n",
            "  inflating: ham10000_images_part_2/ISIC_0033162.jpg  \n",
            "  inflating: ham10000_images_part_2/ISIC_0033163.jpg  \n",
            "  inflating: ham10000_images_part_2/ISIC_0033164.jpg  \n",
            "  inflating: ham10000_images_part_2/ISIC_0033165.jpg  \n",
            "  inflating: ham10000_images_part_2/ISIC_0033166.jpg  \n",
            "  inflating: ham10000_images_part_2/ISIC_0033167.jpg  \n",
            "  inflating: ham10000_images_part_2/ISIC_0033168.jpg  \n",
            "  inflating: ham10000_images_part_2/ISIC_0033169.jpg  \n",
            "  inflating: ham10000_images_part_2/ISIC_0033170.jpg  \n",
            "  inflating: ham10000_images_part_2/ISIC_0033171.jpg  \n",
            "  inflating: ham10000_images_part_2/ISIC_0033172.jpg  \n",
            "  inflating: ham10000_images_part_2/ISIC_0033173.jpg  \n",
            "  inflating: ham10000_images_part_2/ISIC_0033174.jpg  \n",
            "  inflating: ham10000_images_part_2/ISIC_0033175.jpg  \n",
            "  inflating: ham10000_images_part_2/ISIC_0033176.jpg  \n",
            "  inflating: ham10000_images_part_2/ISIC_0033177.jpg  \n",
            "  inflating: ham10000_images_part_2/ISIC_0033178.jpg  \n",
            "  inflating: ham10000_images_part_2/ISIC_0033179.jpg  \n",
            "  inflating: ham10000_images_part_2/ISIC_0033180.jpg  \n",
            "  inflating: ham10000_images_part_2/ISIC_0033181.jpg  \n",
            "  inflating: ham10000_images_part_2/ISIC_0033182.jpg  \n",
            "  inflating: ham10000_images_part_2/ISIC_0033183.jpg  \n",
            "  inflating: ham10000_images_part_2/ISIC_0033184.jpg  \n",
            "  inflating: ham10000_images_part_2/ISIC_0033185.jpg  \n",
            "  inflating: ham10000_images_part_2/ISIC_0033186.jpg  \n",
            "  inflating: ham10000_images_part_2/ISIC_0033187.jpg  \n",
            "  inflating: ham10000_images_part_2/ISIC_0033188.jpg  \n",
            "  inflating: ham10000_images_part_2/ISIC_0033189.jpg  \n",
            "  inflating: ham10000_images_part_2/ISIC_0033190.jpg  \n",
            "  inflating: ham10000_images_part_2/ISIC_0033191.jpg  \n",
            "  inflating: ham10000_images_part_2/ISIC_0033192.jpg  \n",
            "  inflating: ham10000_images_part_2/ISIC_0033193.jpg  \n",
            "  inflating: ham10000_images_part_2/ISIC_0033194.jpg  \n",
            "  inflating: ham10000_images_part_2/ISIC_0033195.jpg  \n",
            "  inflating: ham10000_images_part_2/ISIC_0033196.jpg  \n",
            "  inflating: ham10000_images_part_2/ISIC_0033197.jpg  \n",
            "  inflating: ham10000_images_part_2/ISIC_0033198.jpg  \n",
            "  inflating: ham10000_images_part_2/ISIC_0033199.jpg  \n",
            "  inflating: ham10000_images_part_2/ISIC_0033200.jpg  \n",
            "  inflating: ham10000_images_part_2/ISIC_0033201.jpg  \n",
            "  inflating: ham10000_images_part_2/ISIC_0033202.jpg  \n",
            "  inflating: ham10000_images_part_2/ISIC_0033203.jpg  \n",
            "  inflating: ham10000_images_part_2/ISIC_0033204.jpg  \n",
            "  inflating: ham10000_images_part_2/ISIC_0033205.jpg  \n",
            "  inflating: ham10000_images_part_2/ISIC_0033206.jpg  \n",
            "  inflating: ham10000_images_part_2/ISIC_0033207.jpg  \n",
            "  inflating: ham10000_images_part_2/ISIC_0033208.jpg  \n",
            "  inflating: ham10000_images_part_2/ISIC_0033209.jpg  \n",
            "  inflating: ham10000_images_part_2/ISIC_0033210.jpg  \n",
            "  inflating: ham10000_images_part_2/ISIC_0033211.jpg  \n",
            "  inflating: ham10000_images_part_2/ISIC_0033212.jpg  \n",
            "  inflating: ham10000_images_part_2/ISIC_0033213.jpg  \n",
            "  inflating: ham10000_images_part_2/ISIC_0033214.jpg  \n",
            "  inflating: ham10000_images_part_2/ISIC_0033215.jpg  \n",
            "  inflating: ham10000_images_part_2/ISIC_0033216.jpg  \n",
            "  inflating: ham10000_images_part_2/ISIC_0033217.jpg  \n",
            "  inflating: ham10000_images_part_2/ISIC_0033218.jpg  \n",
            "  inflating: ham10000_images_part_2/ISIC_0033219.jpg  \n",
            "  inflating: ham10000_images_part_2/ISIC_0033220.jpg  \n",
            "  inflating: ham10000_images_part_2/ISIC_0033221.jpg  \n",
            "  inflating: ham10000_images_part_2/ISIC_0033222.jpg  \n",
            "  inflating: ham10000_images_part_2/ISIC_0033223.jpg  \n",
            "  inflating: ham10000_images_part_2/ISIC_0033224.jpg  \n",
            "  inflating: ham10000_images_part_2/ISIC_0033225.jpg  \n",
            "  inflating: ham10000_images_part_2/ISIC_0033226.jpg  \n",
            "  inflating: ham10000_images_part_2/ISIC_0033227.jpg  \n",
            "  inflating: ham10000_images_part_2/ISIC_0033228.jpg  \n",
            "  inflating: ham10000_images_part_2/ISIC_0033229.jpg  \n",
            "  inflating: ham10000_images_part_2/ISIC_0033230.jpg  \n",
            "  inflating: ham10000_images_part_2/ISIC_0033231.jpg  \n",
            "  inflating: ham10000_images_part_2/ISIC_0033232.jpg  \n",
            "  inflating: ham10000_images_part_2/ISIC_0033233.jpg  \n",
            "  inflating: ham10000_images_part_2/ISIC_0033234.jpg  \n",
            "  inflating: ham10000_images_part_2/ISIC_0033235.jpg  \n",
            "  inflating: ham10000_images_part_2/ISIC_0033236.jpg  \n",
            "  inflating: ham10000_images_part_2/ISIC_0033237.jpg  \n",
            "  inflating: ham10000_images_part_2/ISIC_0033238.jpg  \n",
            "  inflating: ham10000_images_part_2/ISIC_0033239.jpg  \n",
            "  inflating: ham10000_images_part_2/ISIC_0033240.jpg  \n",
            "  inflating: ham10000_images_part_2/ISIC_0033241.jpg  \n",
            "  inflating: ham10000_images_part_2/ISIC_0033242.jpg  \n",
            "  inflating: ham10000_images_part_2/ISIC_0033243.jpg  \n",
            "  inflating: ham10000_images_part_2/ISIC_0033244.jpg  \n",
            "  inflating: ham10000_images_part_2/ISIC_0033245.jpg  \n",
            "  inflating: ham10000_images_part_2/ISIC_0033246.jpg  \n",
            "  inflating: ham10000_images_part_2/ISIC_0033247.jpg  \n",
            "  inflating: ham10000_images_part_2/ISIC_0033248.jpg  \n",
            "  inflating: ham10000_images_part_2/ISIC_0033249.jpg  \n",
            "  inflating: ham10000_images_part_2/ISIC_0033250.jpg  \n",
            "  inflating: ham10000_images_part_2/ISIC_0033251.jpg  \n",
            "  inflating: ham10000_images_part_2/ISIC_0033252.jpg  \n",
            "  inflating: ham10000_images_part_2/ISIC_0033253.jpg  \n",
            "  inflating: ham10000_images_part_2/ISIC_0033254.jpg  \n",
            "  inflating: ham10000_images_part_2/ISIC_0033255.jpg  \n",
            "  inflating: ham10000_images_part_2/ISIC_0033256.jpg  \n",
            "  inflating: ham10000_images_part_2/ISIC_0033257.jpg  \n",
            "  inflating: ham10000_images_part_2/ISIC_0033258.jpg  \n",
            "  inflating: ham10000_images_part_2/ISIC_0033259.jpg  \n",
            "  inflating: ham10000_images_part_2/ISIC_0033260.jpg  \n",
            "  inflating: ham10000_images_part_2/ISIC_0033261.jpg  \n",
            "  inflating: ham10000_images_part_2/ISIC_0033262.jpg  \n",
            "  inflating: ham10000_images_part_2/ISIC_0033263.jpg  \n",
            "  inflating: ham10000_images_part_2/ISIC_0033264.jpg  \n",
            "  inflating: ham10000_images_part_2/ISIC_0033265.jpg  \n",
            "  inflating: ham10000_images_part_2/ISIC_0033266.jpg  \n",
            "  inflating: ham10000_images_part_2/ISIC_0033267.jpg  \n",
            "  inflating: ham10000_images_part_2/ISIC_0033268.jpg  \n",
            "  inflating: ham10000_images_part_2/ISIC_0033269.jpg  \n",
            "  inflating: ham10000_images_part_2/ISIC_0033270.jpg  \n",
            "  inflating: ham10000_images_part_2/ISIC_0033271.jpg  \n",
            "  inflating: ham10000_images_part_2/ISIC_0033272.jpg  \n",
            "  inflating: ham10000_images_part_2/ISIC_0033273.jpg  \n",
            "  inflating: ham10000_images_part_2/ISIC_0033274.jpg  \n",
            "  inflating: ham10000_images_part_2/ISIC_0033275.jpg  \n",
            "  inflating: ham10000_images_part_2/ISIC_0033276.jpg  \n",
            "  inflating: ham10000_images_part_2/ISIC_0033277.jpg  \n",
            "  inflating: ham10000_images_part_2/ISIC_0033278.jpg  \n",
            "  inflating: ham10000_images_part_2/ISIC_0033279.jpg  \n",
            "  inflating: ham10000_images_part_2/ISIC_0033280.jpg  \n",
            "  inflating: ham10000_images_part_2/ISIC_0033281.jpg  \n",
            "  inflating: ham10000_images_part_2/ISIC_0033282.jpg  \n",
            "  inflating: ham10000_images_part_2/ISIC_0033283.jpg  \n",
            "  inflating: ham10000_images_part_2/ISIC_0033284.jpg  \n",
            "  inflating: ham10000_images_part_2/ISIC_0033285.jpg  \n",
            "  inflating: ham10000_images_part_2/ISIC_0033286.jpg  \n",
            "  inflating: ham10000_images_part_2/ISIC_0033287.jpg  \n",
            "  inflating: ham10000_images_part_2/ISIC_0033288.jpg  \n",
            "  inflating: ham10000_images_part_2/ISIC_0033289.jpg  \n",
            "  inflating: ham10000_images_part_2/ISIC_0033290.jpg  \n",
            "  inflating: ham10000_images_part_2/ISIC_0033291.jpg  \n",
            "  inflating: ham10000_images_part_2/ISIC_0033292.jpg  \n",
            "  inflating: ham10000_images_part_2/ISIC_0033293.jpg  \n",
            "  inflating: ham10000_images_part_2/ISIC_0033294.jpg  \n",
            "  inflating: ham10000_images_part_2/ISIC_0033295.jpg  \n",
            "  inflating: ham10000_images_part_2/ISIC_0033296.jpg  \n",
            "  inflating: ham10000_images_part_2/ISIC_0033297.jpg  \n",
            "  inflating: ham10000_images_part_2/ISIC_0033298.jpg  \n",
            "  inflating: ham10000_images_part_2/ISIC_0033299.jpg  \n",
            "  inflating: ham10000_images_part_2/ISIC_0033300.jpg  \n",
            "  inflating: ham10000_images_part_2/ISIC_0033301.jpg  \n",
            "  inflating: ham10000_images_part_2/ISIC_0033302.jpg  \n",
            "  inflating: ham10000_images_part_2/ISIC_0033303.jpg  \n",
            "  inflating: ham10000_images_part_2/ISIC_0033304.jpg  \n",
            "  inflating: ham10000_images_part_2/ISIC_0033305.jpg  \n",
            "  inflating: ham10000_images_part_2/ISIC_0033306.jpg  \n",
            "  inflating: ham10000_images_part_2/ISIC_0033307.jpg  \n",
            "  inflating: ham10000_images_part_2/ISIC_0033308.jpg  \n",
            "  inflating: ham10000_images_part_2/ISIC_0033309.jpg  \n",
            "  inflating: ham10000_images_part_2/ISIC_0033310.jpg  \n",
            "  inflating: ham10000_images_part_2/ISIC_0033311.jpg  \n",
            "  inflating: ham10000_images_part_2/ISIC_0033312.jpg  \n",
            "  inflating: ham10000_images_part_2/ISIC_0033313.jpg  \n",
            "  inflating: ham10000_images_part_2/ISIC_0033314.jpg  \n",
            "  inflating: ham10000_images_part_2/ISIC_0033315.jpg  \n",
            "  inflating: ham10000_images_part_2/ISIC_0033316.jpg  \n",
            "  inflating: ham10000_images_part_2/ISIC_0033317.jpg  \n",
            "  inflating: ham10000_images_part_2/ISIC_0033318.jpg  \n",
            "  inflating: ham10000_images_part_2/ISIC_0033319.jpg  \n",
            "  inflating: ham10000_images_part_2/ISIC_0033320.jpg  \n",
            "  inflating: ham10000_images_part_2/ISIC_0033321.jpg  \n",
            "  inflating: ham10000_images_part_2/ISIC_0033322.jpg  \n",
            "  inflating: ham10000_images_part_2/ISIC_0033323.jpg  \n",
            "  inflating: ham10000_images_part_2/ISIC_0033324.jpg  \n",
            "  inflating: ham10000_images_part_2/ISIC_0033325.jpg  \n",
            "  inflating: ham10000_images_part_2/ISIC_0033326.jpg  \n",
            "  inflating: ham10000_images_part_2/ISIC_0033327.jpg  \n",
            "  inflating: ham10000_images_part_2/ISIC_0033328.jpg  \n",
            "  inflating: ham10000_images_part_2/ISIC_0033329.jpg  \n",
            "  inflating: ham10000_images_part_2/ISIC_0033330.jpg  \n",
            "  inflating: ham10000_images_part_2/ISIC_0033331.jpg  \n",
            "  inflating: ham10000_images_part_2/ISIC_0033332.jpg  \n",
            "  inflating: ham10000_images_part_2/ISIC_0033333.jpg  \n",
            "  inflating: ham10000_images_part_2/ISIC_0033334.jpg  \n",
            "  inflating: ham10000_images_part_2/ISIC_0033335.jpg  \n",
            "  inflating: ham10000_images_part_2/ISIC_0033336.jpg  \n",
            "  inflating: ham10000_images_part_2/ISIC_0033337.jpg  \n",
            "  inflating: ham10000_images_part_2/ISIC_0033338.jpg  \n",
            "  inflating: ham10000_images_part_2/ISIC_0033339.jpg  \n",
            "  inflating: ham10000_images_part_2/ISIC_0033340.jpg  \n",
            "  inflating: ham10000_images_part_2/ISIC_0033341.jpg  \n",
            "  inflating: ham10000_images_part_2/ISIC_0033342.jpg  \n",
            "  inflating: ham10000_images_part_2/ISIC_0033343.jpg  \n",
            "  inflating: ham10000_images_part_2/ISIC_0033344.jpg  \n",
            "  inflating: ham10000_images_part_2/ISIC_0033345.jpg  \n",
            "  inflating: ham10000_images_part_2/ISIC_0033346.jpg  \n",
            "  inflating: ham10000_images_part_2/ISIC_0033347.jpg  \n",
            "  inflating: ham10000_images_part_2/ISIC_0033348.jpg  \n",
            "  inflating: ham10000_images_part_2/ISIC_0033349.jpg  \n",
            "  inflating: ham10000_images_part_2/ISIC_0033350.jpg  \n",
            "  inflating: ham10000_images_part_2/ISIC_0033351.jpg  \n",
            "  inflating: ham10000_images_part_2/ISIC_0033352.jpg  \n",
            "  inflating: ham10000_images_part_2/ISIC_0033353.jpg  \n",
            "  inflating: ham10000_images_part_2/ISIC_0033354.jpg  \n",
            "  inflating: ham10000_images_part_2/ISIC_0033355.jpg  \n",
            "  inflating: ham10000_images_part_2/ISIC_0033356.jpg  \n",
            "  inflating: ham10000_images_part_2/ISIC_0033357.jpg  \n",
            "  inflating: ham10000_images_part_2/ISIC_0033358.jpg  \n",
            "  inflating: ham10000_images_part_2/ISIC_0033359.jpg  \n",
            "  inflating: ham10000_images_part_2/ISIC_0033360.jpg  \n",
            "  inflating: ham10000_images_part_2/ISIC_0033361.jpg  \n",
            "  inflating: ham10000_images_part_2/ISIC_0033362.jpg  \n",
            "  inflating: ham10000_images_part_2/ISIC_0033363.jpg  \n",
            "  inflating: ham10000_images_part_2/ISIC_0033364.jpg  \n",
            "  inflating: ham10000_images_part_2/ISIC_0033365.jpg  \n",
            "  inflating: ham10000_images_part_2/ISIC_0033366.jpg  \n",
            "  inflating: ham10000_images_part_2/ISIC_0033367.jpg  \n",
            "  inflating: ham10000_images_part_2/ISIC_0033368.jpg  \n",
            "  inflating: ham10000_images_part_2/ISIC_0033369.jpg  \n",
            "  inflating: ham10000_images_part_2/ISIC_0033370.jpg  \n",
            "  inflating: ham10000_images_part_2/ISIC_0033371.jpg  \n",
            "  inflating: ham10000_images_part_2/ISIC_0033372.jpg  \n",
            "  inflating: ham10000_images_part_2/ISIC_0033373.jpg  \n",
            "  inflating: ham10000_images_part_2/ISIC_0033374.jpg  \n",
            "  inflating: ham10000_images_part_2/ISIC_0033375.jpg  \n",
            "  inflating: ham10000_images_part_2/ISIC_0033376.jpg  \n",
            "  inflating: ham10000_images_part_2/ISIC_0033377.jpg  \n",
            "  inflating: ham10000_images_part_2/ISIC_0033378.jpg  \n",
            "  inflating: ham10000_images_part_2/ISIC_0033379.jpg  \n",
            "  inflating: ham10000_images_part_2/ISIC_0033380.jpg  \n",
            "  inflating: ham10000_images_part_2/ISIC_0033381.jpg  \n",
            "  inflating: ham10000_images_part_2/ISIC_0033382.jpg  \n",
            "  inflating: ham10000_images_part_2/ISIC_0033383.jpg  \n",
            "  inflating: ham10000_images_part_2/ISIC_0033384.jpg  \n",
            "  inflating: ham10000_images_part_2/ISIC_0033385.jpg  \n",
            "  inflating: ham10000_images_part_2/ISIC_0033386.jpg  \n",
            "  inflating: ham10000_images_part_2/ISIC_0033387.jpg  \n",
            "  inflating: ham10000_images_part_2/ISIC_0033388.jpg  \n",
            "  inflating: ham10000_images_part_2/ISIC_0033389.jpg  \n",
            "  inflating: ham10000_images_part_2/ISIC_0033390.jpg  \n",
            "  inflating: ham10000_images_part_2/ISIC_0033391.jpg  \n",
            "  inflating: ham10000_images_part_2/ISIC_0033392.jpg  \n",
            "  inflating: ham10000_images_part_2/ISIC_0033393.jpg  \n",
            "  inflating: ham10000_images_part_2/ISIC_0033394.jpg  \n",
            "  inflating: ham10000_images_part_2/ISIC_0033395.jpg  \n",
            "  inflating: ham10000_images_part_2/ISIC_0033396.jpg  \n",
            "  inflating: ham10000_images_part_2/ISIC_0033397.jpg  \n",
            "  inflating: ham10000_images_part_2/ISIC_0033398.jpg  \n",
            "  inflating: ham10000_images_part_2/ISIC_0033399.jpg  \n",
            "  inflating: ham10000_images_part_2/ISIC_0033400.jpg  \n",
            "  inflating: ham10000_images_part_2/ISIC_0033401.jpg  \n",
            "  inflating: ham10000_images_part_2/ISIC_0033402.jpg  \n",
            "  inflating: ham10000_images_part_2/ISIC_0033403.jpg  \n",
            "  inflating: ham10000_images_part_2/ISIC_0033404.jpg  \n",
            "  inflating: ham10000_images_part_2/ISIC_0033405.jpg  \n",
            "  inflating: ham10000_images_part_2/ISIC_0033406.jpg  \n",
            "  inflating: ham10000_images_part_2/ISIC_0033407.jpg  \n",
            "  inflating: ham10000_images_part_2/ISIC_0033408.jpg  \n",
            "  inflating: ham10000_images_part_2/ISIC_0033409.jpg  \n",
            "  inflating: ham10000_images_part_2/ISIC_0033410.jpg  \n",
            "  inflating: ham10000_images_part_2/ISIC_0033411.jpg  \n",
            "  inflating: ham10000_images_part_2/ISIC_0033412.jpg  \n",
            "  inflating: ham10000_images_part_2/ISIC_0033413.jpg  \n",
            "  inflating: ham10000_images_part_2/ISIC_0033414.jpg  \n",
            "  inflating: ham10000_images_part_2/ISIC_0033415.jpg  \n",
            "  inflating: ham10000_images_part_2/ISIC_0033416.jpg  \n",
            "  inflating: ham10000_images_part_2/ISIC_0033417.jpg  \n",
            "  inflating: ham10000_images_part_2/ISIC_0033418.jpg  \n",
            "  inflating: ham10000_images_part_2/ISIC_0033419.jpg  \n",
            "  inflating: ham10000_images_part_2/ISIC_0033420.jpg  \n",
            "  inflating: ham10000_images_part_2/ISIC_0033421.jpg  \n",
            "  inflating: ham10000_images_part_2/ISIC_0033422.jpg  \n",
            "  inflating: ham10000_images_part_2/ISIC_0033423.jpg  \n",
            "  inflating: ham10000_images_part_2/ISIC_0033424.jpg  \n",
            "  inflating: ham10000_images_part_2/ISIC_0033425.jpg  \n",
            "  inflating: ham10000_images_part_2/ISIC_0033426.jpg  \n",
            "  inflating: ham10000_images_part_2/ISIC_0033427.jpg  \n",
            "  inflating: ham10000_images_part_2/ISIC_0033428.jpg  \n",
            "  inflating: ham10000_images_part_2/ISIC_0033429.jpg  \n",
            "  inflating: ham10000_images_part_2/ISIC_0033430.jpg  \n",
            "  inflating: ham10000_images_part_2/ISIC_0033431.jpg  \n",
            "  inflating: ham10000_images_part_2/ISIC_0033432.jpg  \n",
            "  inflating: ham10000_images_part_2/ISIC_0033433.jpg  \n",
            "  inflating: ham10000_images_part_2/ISIC_0033434.jpg  \n",
            "  inflating: ham10000_images_part_2/ISIC_0033435.jpg  \n",
            "  inflating: ham10000_images_part_2/ISIC_0033436.jpg  \n",
            "  inflating: ham10000_images_part_2/ISIC_0033437.jpg  \n",
            "  inflating: ham10000_images_part_2/ISIC_0033438.jpg  \n",
            "  inflating: ham10000_images_part_2/ISIC_0033439.jpg  \n",
            "  inflating: ham10000_images_part_2/ISIC_0033440.jpg  \n",
            "  inflating: ham10000_images_part_2/ISIC_0033441.jpg  \n",
            "  inflating: ham10000_images_part_2/ISIC_0033442.jpg  \n",
            "  inflating: ham10000_images_part_2/ISIC_0033443.jpg  \n",
            "  inflating: ham10000_images_part_2/ISIC_0033444.jpg  \n",
            "  inflating: ham10000_images_part_2/ISIC_0033445.jpg  \n",
            "  inflating: ham10000_images_part_2/ISIC_0033446.jpg  \n",
            "  inflating: ham10000_images_part_2/ISIC_0033447.jpg  \n",
            "  inflating: ham10000_images_part_2/ISIC_0033448.jpg  \n",
            "  inflating: ham10000_images_part_2/ISIC_0033449.jpg  \n",
            "  inflating: ham10000_images_part_2/ISIC_0033450.jpg  \n",
            "  inflating: ham10000_images_part_2/ISIC_0033451.jpg  \n",
            "  inflating: ham10000_images_part_2/ISIC_0033452.jpg  \n",
            "  inflating: ham10000_images_part_2/ISIC_0033453.jpg  \n",
            "  inflating: ham10000_images_part_2/ISIC_0033454.jpg  \n",
            "  inflating: ham10000_images_part_2/ISIC_0033455.jpg  \n",
            "  inflating: ham10000_images_part_2/ISIC_0033456.jpg  \n",
            "  inflating: ham10000_images_part_2/ISIC_0033457.jpg  \n",
            "  inflating: ham10000_images_part_2/ISIC_0033458.jpg  \n",
            "  inflating: ham10000_images_part_2/ISIC_0033459.jpg  \n",
            "  inflating: ham10000_images_part_2/ISIC_0033460.jpg  \n",
            "  inflating: ham10000_images_part_2/ISIC_0033461.jpg  \n",
            "  inflating: ham10000_images_part_2/ISIC_0033462.jpg  \n",
            "  inflating: ham10000_images_part_2/ISIC_0033463.jpg  \n",
            "  inflating: ham10000_images_part_2/ISIC_0033464.jpg  \n",
            "  inflating: ham10000_images_part_2/ISIC_0033465.jpg  \n",
            "  inflating: ham10000_images_part_2/ISIC_0033466.jpg  \n",
            "  inflating: ham10000_images_part_2/ISIC_0033467.jpg  \n",
            "  inflating: ham10000_images_part_2/ISIC_0033468.jpg  \n",
            "  inflating: ham10000_images_part_2/ISIC_0033469.jpg  \n",
            "  inflating: ham10000_images_part_2/ISIC_0033470.jpg  \n",
            "  inflating: ham10000_images_part_2/ISIC_0033471.jpg  \n",
            "  inflating: ham10000_images_part_2/ISIC_0033472.jpg  \n",
            "  inflating: ham10000_images_part_2/ISIC_0033473.jpg  \n",
            "  inflating: ham10000_images_part_2/ISIC_0033474.jpg  \n",
            "  inflating: ham10000_images_part_2/ISIC_0033475.jpg  \n",
            "  inflating: ham10000_images_part_2/ISIC_0033476.jpg  \n",
            "  inflating: ham10000_images_part_2/ISIC_0033477.jpg  \n",
            "  inflating: ham10000_images_part_2/ISIC_0033478.jpg  \n",
            "  inflating: ham10000_images_part_2/ISIC_0033479.jpg  \n",
            "  inflating: ham10000_images_part_2/ISIC_0033480.jpg  \n",
            "  inflating: ham10000_images_part_2/ISIC_0033481.jpg  \n",
            "  inflating: ham10000_images_part_2/ISIC_0033482.jpg  \n",
            "  inflating: ham10000_images_part_2/ISIC_0033483.jpg  \n",
            "  inflating: ham10000_images_part_2/ISIC_0033484.jpg  \n",
            "  inflating: ham10000_images_part_2/ISIC_0033485.jpg  \n",
            "  inflating: ham10000_images_part_2/ISIC_0033486.jpg  \n",
            "  inflating: ham10000_images_part_2/ISIC_0033487.jpg  \n",
            "  inflating: ham10000_images_part_2/ISIC_0033488.jpg  \n",
            "  inflating: ham10000_images_part_2/ISIC_0033489.jpg  \n",
            "  inflating: ham10000_images_part_2/ISIC_0033490.jpg  \n",
            "  inflating: ham10000_images_part_2/ISIC_0033491.jpg  \n",
            "  inflating: ham10000_images_part_2/ISIC_0033492.jpg  \n",
            "  inflating: ham10000_images_part_2/ISIC_0033493.jpg  \n",
            "  inflating: ham10000_images_part_2/ISIC_0033494.jpg  \n",
            "  inflating: ham10000_images_part_2/ISIC_0033495.jpg  \n",
            "  inflating: ham10000_images_part_2/ISIC_0033496.jpg  \n",
            "  inflating: ham10000_images_part_2/ISIC_0033497.jpg  \n",
            "  inflating: ham10000_images_part_2/ISIC_0033498.jpg  \n",
            "  inflating: ham10000_images_part_2/ISIC_0033499.jpg  \n",
            "  inflating: ham10000_images_part_2/ISIC_0033500.jpg  \n",
            "  inflating: ham10000_images_part_2/ISIC_0033501.jpg  \n",
            "  inflating: ham10000_images_part_2/ISIC_0033502.jpg  \n",
            "  inflating: ham10000_images_part_2/ISIC_0033503.jpg  \n",
            "  inflating: ham10000_images_part_2/ISIC_0033504.jpg  \n",
            "  inflating: ham10000_images_part_2/ISIC_0033505.jpg  \n",
            "  inflating: ham10000_images_part_2/ISIC_0033506.jpg  \n",
            "  inflating: ham10000_images_part_2/ISIC_0033507.jpg  \n",
            "  inflating: ham10000_images_part_2/ISIC_0033508.jpg  \n",
            "  inflating: ham10000_images_part_2/ISIC_0033509.jpg  \n",
            "  inflating: ham10000_images_part_2/ISIC_0033510.jpg  \n",
            "  inflating: ham10000_images_part_2/ISIC_0033511.jpg  \n",
            "  inflating: ham10000_images_part_2/ISIC_0033512.jpg  \n",
            "  inflating: ham10000_images_part_2/ISIC_0033513.jpg  \n",
            "  inflating: ham10000_images_part_2/ISIC_0033514.jpg  \n",
            "  inflating: ham10000_images_part_2/ISIC_0033515.jpg  \n",
            "  inflating: ham10000_images_part_2/ISIC_0033516.jpg  \n",
            "  inflating: ham10000_images_part_2/ISIC_0033517.jpg  \n",
            "  inflating: ham10000_images_part_2/ISIC_0033518.jpg  \n",
            "  inflating: ham10000_images_part_2/ISIC_0033519.jpg  \n",
            "  inflating: ham10000_images_part_2/ISIC_0033520.jpg  \n",
            "  inflating: ham10000_images_part_2/ISIC_0033521.jpg  \n",
            "  inflating: ham10000_images_part_2/ISIC_0033522.jpg  \n",
            "  inflating: ham10000_images_part_2/ISIC_0033523.jpg  \n",
            "  inflating: ham10000_images_part_2/ISIC_0033524.jpg  \n",
            "  inflating: ham10000_images_part_2/ISIC_0033525.jpg  \n",
            "  inflating: ham10000_images_part_2/ISIC_0033526.jpg  \n",
            "  inflating: ham10000_images_part_2/ISIC_0033527.jpg  \n",
            "  inflating: ham10000_images_part_2/ISIC_0033528.jpg  \n",
            "  inflating: ham10000_images_part_2/ISIC_0033529.jpg  \n",
            "  inflating: ham10000_images_part_2/ISIC_0033530.jpg  \n",
            "  inflating: ham10000_images_part_2/ISIC_0033531.jpg  \n",
            "  inflating: ham10000_images_part_2/ISIC_0033532.jpg  \n",
            "  inflating: ham10000_images_part_2/ISIC_0033533.jpg  \n",
            "  inflating: ham10000_images_part_2/ISIC_0033534.jpg  \n",
            "  inflating: ham10000_images_part_2/ISIC_0033535.jpg  \n",
            "  inflating: ham10000_images_part_2/ISIC_0033536.jpg  \n",
            "  inflating: ham10000_images_part_2/ISIC_0033537.jpg  \n",
            "  inflating: ham10000_images_part_2/ISIC_0033538.jpg  \n",
            "  inflating: ham10000_images_part_2/ISIC_0033539.jpg  \n",
            "  inflating: ham10000_images_part_2/ISIC_0033540.jpg  \n",
            "  inflating: ham10000_images_part_2/ISIC_0033541.jpg  \n",
            "  inflating: ham10000_images_part_2/ISIC_0033542.jpg  \n",
            "  inflating: ham10000_images_part_2/ISIC_0033543.jpg  \n",
            "  inflating: ham10000_images_part_2/ISIC_0033544.jpg  \n",
            "  inflating: ham10000_images_part_2/ISIC_0033545.jpg  \n",
            "  inflating: ham10000_images_part_2/ISIC_0033546.jpg  \n",
            "  inflating: ham10000_images_part_2/ISIC_0033547.jpg  \n",
            "  inflating: ham10000_images_part_2/ISIC_0033548.jpg  \n",
            "  inflating: ham10000_images_part_2/ISIC_0033549.jpg  \n",
            "  inflating: ham10000_images_part_2/ISIC_0033550.jpg  \n",
            "  inflating: ham10000_images_part_2/ISIC_0033551.jpg  \n",
            "  inflating: ham10000_images_part_2/ISIC_0033552.jpg  \n",
            "  inflating: ham10000_images_part_2/ISIC_0033553.jpg  \n",
            "  inflating: ham10000_images_part_2/ISIC_0033554.jpg  \n",
            "  inflating: ham10000_images_part_2/ISIC_0033555.jpg  \n",
            "  inflating: ham10000_images_part_2/ISIC_0033556.jpg  \n",
            "  inflating: ham10000_images_part_2/ISIC_0033557.jpg  \n",
            "  inflating: ham10000_images_part_2/ISIC_0033558.jpg  \n",
            "  inflating: ham10000_images_part_2/ISIC_0033559.jpg  \n",
            "  inflating: ham10000_images_part_2/ISIC_0033560.jpg  \n",
            "  inflating: ham10000_images_part_2/ISIC_0033561.jpg  \n",
            "  inflating: ham10000_images_part_2/ISIC_0033562.jpg  \n",
            "  inflating: ham10000_images_part_2/ISIC_0033563.jpg  \n",
            "  inflating: ham10000_images_part_2/ISIC_0033564.jpg  \n",
            "  inflating: ham10000_images_part_2/ISIC_0033565.jpg  \n",
            "  inflating: ham10000_images_part_2/ISIC_0033566.jpg  \n",
            "  inflating: ham10000_images_part_2/ISIC_0033567.jpg  \n",
            "  inflating: ham10000_images_part_2/ISIC_0033568.jpg  \n",
            "  inflating: ham10000_images_part_2/ISIC_0033569.jpg  \n",
            "  inflating: ham10000_images_part_2/ISIC_0033570.jpg  \n",
            "  inflating: ham10000_images_part_2/ISIC_0033571.jpg  \n",
            "  inflating: ham10000_images_part_2/ISIC_0033572.jpg  \n",
            "  inflating: ham10000_images_part_2/ISIC_0033573.jpg  \n",
            "  inflating: ham10000_images_part_2/ISIC_0033574.jpg  \n",
            "  inflating: ham10000_images_part_2/ISIC_0033575.jpg  \n",
            "  inflating: ham10000_images_part_2/ISIC_0033576.jpg  \n",
            "  inflating: ham10000_images_part_2/ISIC_0033577.jpg  \n",
            "  inflating: ham10000_images_part_2/ISIC_0033578.jpg  \n",
            "  inflating: ham10000_images_part_2/ISIC_0033579.jpg  \n",
            "  inflating: ham10000_images_part_2/ISIC_0033580.jpg  \n",
            "  inflating: ham10000_images_part_2/ISIC_0033581.jpg  \n",
            "  inflating: ham10000_images_part_2/ISIC_0033582.jpg  \n",
            "  inflating: ham10000_images_part_2/ISIC_0033583.jpg  \n",
            "  inflating: ham10000_images_part_2/ISIC_0033584.jpg  \n",
            "  inflating: ham10000_images_part_2/ISIC_0033585.jpg  \n",
            "  inflating: ham10000_images_part_2/ISIC_0033586.jpg  \n",
            "  inflating: ham10000_images_part_2/ISIC_0033587.jpg  \n",
            "  inflating: ham10000_images_part_2/ISIC_0033588.jpg  \n",
            "  inflating: ham10000_images_part_2/ISIC_0033589.jpg  \n",
            "  inflating: ham10000_images_part_2/ISIC_0033590.jpg  \n",
            "  inflating: ham10000_images_part_2/ISIC_0033591.jpg  \n",
            "  inflating: ham10000_images_part_2/ISIC_0033592.jpg  \n",
            "  inflating: ham10000_images_part_2/ISIC_0033593.jpg  \n",
            "  inflating: ham10000_images_part_2/ISIC_0033594.jpg  \n",
            "  inflating: ham10000_images_part_2/ISIC_0033595.jpg  \n",
            "  inflating: ham10000_images_part_2/ISIC_0033596.jpg  \n",
            "  inflating: ham10000_images_part_2/ISIC_0033597.jpg  \n",
            "  inflating: ham10000_images_part_2/ISIC_0033598.jpg  \n",
            "  inflating: ham10000_images_part_2/ISIC_0033599.jpg  \n",
            "  inflating: ham10000_images_part_2/ISIC_0033600.jpg  \n",
            "  inflating: ham10000_images_part_2/ISIC_0033601.jpg  \n",
            "  inflating: ham10000_images_part_2/ISIC_0033602.jpg  \n",
            "  inflating: ham10000_images_part_2/ISIC_0033603.jpg  \n",
            "  inflating: ham10000_images_part_2/ISIC_0033604.jpg  \n",
            "  inflating: ham10000_images_part_2/ISIC_0033605.jpg  \n",
            "  inflating: ham10000_images_part_2/ISIC_0033606.jpg  \n",
            "  inflating: ham10000_images_part_2/ISIC_0033607.jpg  \n",
            "  inflating: ham10000_images_part_2/ISIC_0033608.jpg  \n",
            "  inflating: ham10000_images_part_2/ISIC_0033609.jpg  \n",
            "  inflating: ham10000_images_part_2/ISIC_0033610.jpg  \n",
            "  inflating: ham10000_images_part_2/ISIC_0033611.jpg  \n",
            "  inflating: ham10000_images_part_2/ISIC_0033612.jpg  \n",
            "  inflating: ham10000_images_part_2/ISIC_0033613.jpg  \n",
            "  inflating: ham10000_images_part_2/ISIC_0033614.jpg  \n",
            "  inflating: ham10000_images_part_2/ISIC_0033615.jpg  \n",
            "  inflating: ham10000_images_part_2/ISIC_0033616.jpg  \n",
            "  inflating: ham10000_images_part_2/ISIC_0033617.jpg  \n",
            "  inflating: ham10000_images_part_2/ISIC_0033618.jpg  \n",
            "  inflating: ham10000_images_part_2/ISIC_0033619.jpg  \n",
            "  inflating: ham10000_images_part_2/ISIC_0033620.jpg  \n",
            "  inflating: ham10000_images_part_2/ISIC_0033621.jpg  \n",
            "  inflating: ham10000_images_part_2/ISIC_0033622.jpg  \n",
            "  inflating: ham10000_images_part_2/ISIC_0033623.jpg  \n",
            "  inflating: ham10000_images_part_2/ISIC_0033624.jpg  \n",
            "  inflating: ham10000_images_part_2/ISIC_0033625.jpg  \n",
            "  inflating: ham10000_images_part_2/ISIC_0033626.jpg  \n",
            "  inflating: ham10000_images_part_2/ISIC_0033627.jpg  \n",
            "  inflating: ham10000_images_part_2/ISIC_0033628.jpg  \n",
            "  inflating: ham10000_images_part_2/ISIC_0033629.jpg  \n",
            "  inflating: ham10000_images_part_2/ISIC_0033630.jpg  \n",
            "  inflating: ham10000_images_part_2/ISIC_0033631.jpg  \n",
            "  inflating: ham10000_images_part_2/ISIC_0033632.jpg  \n",
            "  inflating: ham10000_images_part_2/ISIC_0033633.jpg  \n",
            "  inflating: ham10000_images_part_2/ISIC_0033634.jpg  \n",
            "  inflating: ham10000_images_part_2/ISIC_0033635.jpg  \n",
            "  inflating: ham10000_images_part_2/ISIC_0033636.jpg  \n",
            "  inflating: ham10000_images_part_2/ISIC_0033637.jpg  \n",
            "  inflating: ham10000_images_part_2/ISIC_0033638.jpg  \n",
            "  inflating: ham10000_images_part_2/ISIC_0033639.jpg  \n",
            "  inflating: ham10000_images_part_2/ISIC_0033640.jpg  \n",
            "  inflating: ham10000_images_part_2/ISIC_0033641.jpg  \n",
            "  inflating: ham10000_images_part_2/ISIC_0033642.jpg  \n",
            "  inflating: ham10000_images_part_2/ISIC_0033643.jpg  \n",
            "  inflating: ham10000_images_part_2/ISIC_0033644.jpg  \n",
            "  inflating: ham10000_images_part_2/ISIC_0033645.jpg  \n",
            "  inflating: ham10000_images_part_2/ISIC_0033646.jpg  \n",
            "  inflating: ham10000_images_part_2/ISIC_0033647.jpg  \n",
            "  inflating: ham10000_images_part_2/ISIC_0033648.jpg  \n",
            "  inflating: ham10000_images_part_2/ISIC_0033649.jpg  \n",
            "  inflating: ham10000_images_part_2/ISIC_0033650.jpg  \n",
            "  inflating: ham10000_images_part_2/ISIC_0033651.jpg  \n",
            "  inflating: ham10000_images_part_2/ISIC_0033652.jpg  \n",
            "  inflating: ham10000_images_part_2/ISIC_0033653.jpg  \n",
            "  inflating: ham10000_images_part_2/ISIC_0033654.jpg  \n",
            "  inflating: ham10000_images_part_2/ISIC_0033655.jpg  \n",
            "  inflating: ham10000_images_part_2/ISIC_0033656.jpg  \n",
            "  inflating: ham10000_images_part_2/ISIC_0033657.jpg  \n",
            "  inflating: ham10000_images_part_2/ISIC_0033658.jpg  \n",
            "  inflating: ham10000_images_part_2/ISIC_0033659.jpg  \n",
            "  inflating: ham10000_images_part_2/ISIC_0033660.jpg  \n",
            "  inflating: ham10000_images_part_2/ISIC_0033661.jpg  \n",
            "  inflating: ham10000_images_part_2/ISIC_0033662.jpg  \n",
            "  inflating: ham10000_images_part_2/ISIC_0033663.jpg  \n",
            "  inflating: ham10000_images_part_2/ISIC_0033664.jpg  \n",
            "  inflating: ham10000_images_part_2/ISIC_0033665.jpg  \n",
            "  inflating: ham10000_images_part_2/ISIC_0033666.jpg  \n",
            "  inflating: ham10000_images_part_2/ISIC_0033667.jpg  \n",
            "  inflating: ham10000_images_part_2/ISIC_0033668.jpg  \n",
            "  inflating: ham10000_images_part_2/ISIC_0033669.jpg  \n",
            "  inflating: ham10000_images_part_2/ISIC_0033670.jpg  \n",
            "  inflating: ham10000_images_part_2/ISIC_0033671.jpg  \n",
            "  inflating: ham10000_images_part_2/ISIC_0033672.jpg  \n",
            "  inflating: ham10000_images_part_2/ISIC_0033673.jpg  \n",
            "  inflating: ham10000_images_part_2/ISIC_0033674.jpg  \n",
            "  inflating: ham10000_images_part_2/ISIC_0033675.jpg  \n",
            "  inflating: ham10000_images_part_2/ISIC_0033676.jpg  \n",
            "  inflating: ham10000_images_part_2/ISIC_0033677.jpg  \n",
            "  inflating: ham10000_images_part_2/ISIC_0033678.jpg  \n",
            "  inflating: ham10000_images_part_2/ISIC_0033679.jpg  \n",
            "  inflating: ham10000_images_part_2/ISIC_0033680.jpg  \n",
            "  inflating: ham10000_images_part_2/ISIC_0033681.jpg  \n",
            "  inflating: ham10000_images_part_2/ISIC_0033682.jpg  \n",
            "  inflating: ham10000_images_part_2/ISIC_0033683.jpg  \n",
            "  inflating: ham10000_images_part_2/ISIC_0033684.jpg  \n",
            "  inflating: ham10000_images_part_2/ISIC_0033685.jpg  \n",
            "  inflating: ham10000_images_part_2/ISIC_0033686.jpg  \n",
            "  inflating: ham10000_images_part_2/ISIC_0033687.jpg  \n",
            "  inflating: ham10000_images_part_2/ISIC_0033688.jpg  \n",
            "  inflating: ham10000_images_part_2/ISIC_0033689.jpg  \n",
            "  inflating: ham10000_images_part_2/ISIC_0033690.jpg  \n",
            "  inflating: ham10000_images_part_2/ISIC_0033691.jpg  \n",
            "  inflating: ham10000_images_part_2/ISIC_0033692.jpg  \n",
            "  inflating: ham10000_images_part_2/ISIC_0033693.jpg  \n",
            "  inflating: ham10000_images_part_2/ISIC_0033694.jpg  \n",
            "  inflating: ham10000_images_part_2/ISIC_0033695.jpg  \n",
            "  inflating: ham10000_images_part_2/ISIC_0033696.jpg  \n",
            "  inflating: ham10000_images_part_2/ISIC_0033697.jpg  \n",
            "  inflating: ham10000_images_part_2/ISIC_0033698.jpg  \n",
            "  inflating: ham10000_images_part_2/ISIC_0033699.jpg  \n",
            "  inflating: ham10000_images_part_2/ISIC_0033700.jpg  \n",
            "  inflating: ham10000_images_part_2/ISIC_0033701.jpg  \n",
            "  inflating: ham10000_images_part_2/ISIC_0033702.jpg  \n",
            "  inflating: ham10000_images_part_2/ISIC_0033703.jpg  \n",
            "  inflating: ham10000_images_part_2/ISIC_0033704.jpg  \n",
            "  inflating: ham10000_images_part_2/ISIC_0033705.jpg  \n",
            "  inflating: ham10000_images_part_2/ISIC_0033706.jpg  \n",
            "  inflating: ham10000_images_part_2/ISIC_0033707.jpg  \n",
            "  inflating: ham10000_images_part_2/ISIC_0033708.jpg  \n",
            "  inflating: ham10000_images_part_2/ISIC_0033709.jpg  \n",
            "  inflating: ham10000_images_part_2/ISIC_0033710.jpg  \n",
            "  inflating: ham10000_images_part_2/ISIC_0033711.jpg  \n",
            "  inflating: ham10000_images_part_2/ISIC_0033712.jpg  \n",
            "  inflating: ham10000_images_part_2/ISIC_0033713.jpg  \n",
            "  inflating: ham10000_images_part_2/ISIC_0033714.jpg  \n",
            "  inflating: ham10000_images_part_2/ISIC_0033715.jpg  \n",
            "  inflating: ham10000_images_part_2/ISIC_0033716.jpg  \n",
            "  inflating: ham10000_images_part_2/ISIC_0033717.jpg  \n",
            "  inflating: ham10000_images_part_2/ISIC_0033718.jpg  \n",
            "  inflating: ham10000_images_part_2/ISIC_0033719.jpg  \n",
            "  inflating: ham10000_images_part_2/ISIC_0033720.jpg  \n",
            "  inflating: ham10000_images_part_2/ISIC_0033721.jpg  \n",
            "  inflating: ham10000_images_part_2/ISIC_0033722.jpg  \n",
            "  inflating: ham10000_images_part_2/ISIC_0033723.jpg  \n",
            "  inflating: ham10000_images_part_2/ISIC_0033724.jpg  \n",
            "  inflating: ham10000_images_part_2/ISIC_0033725.jpg  \n",
            "  inflating: ham10000_images_part_2/ISIC_0033726.jpg  \n",
            "  inflating: ham10000_images_part_2/ISIC_0033727.jpg  \n",
            "  inflating: ham10000_images_part_2/ISIC_0033728.jpg  \n",
            "  inflating: ham10000_images_part_2/ISIC_0033729.jpg  \n",
            "  inflating: ham10000_images_part_2/ISIC_0033730.jpg  \n",
            "  inflating: ham10000_images_part_2/ISIC_0033731.jpg  \n",
            "  inflating: ham10000_images_part_2/ISIC_0033732.jpg  \n",
            "  inflating: ham10000_images_part_2/ISIC_0033733.jpg  \n",
            "  inflating: ham10000_images_part_2/ISIC_0033734.jpg  \n",
            "  inflating: ham10000_images_part_2/ISIC_0033735.jpg  \n",
            "  inflating: ham10000_images_part_2/ISIC_0033736.jpg  \n",
            "  inflating: ham10000_images_part_2/ISIC_0033737.jpg  \n",
            "  inflating: ham10000_images_part_2/ISIC_0033738.jpg  \n",
            "  inflating: ham10000_images_part_2/ISIC_0033739.jpg  \n",
            "  inflating: ham10000_images_part_2/ISIC_0033740.jpg  \n",
            "  inflating: ham10000_images_part_2/ISIC_0033741.jpg  \n",
            "  inflating: ham10000_images_part_2/ISIC_0033742.jpg  \n",
            "  inflating: ham10000_images_part_2/ISIC_0033743.jpg  \n",
            "  inflating: ham10000_images_part_2/ISIC_0033744.jpg  \n",
            "  inflating: ham10000_images_part_2/ISIC_0033745.jpg  \n",
            "  inflating: ham10000_images_part_2/ISIC_0033746.jpg  \n",
            "  inflating: ham10000_images_part_2/ISIC_0033747.jpg  \n",
            "  inflating: ham10000_images_part_2/ISIC_0033748.jpg  \n",
            "  inflating: ham10000_images_part_2/ISIC_0033749.jpg  \n",
            "  inflating: ham10000_images_part_2/ISIC_0033750.jpg  \n",
            "  inflating: ham10000_images_part_2/ISIC_0033751.jpg  \n",
            "  inflating: ham10000_images_part_2/ISIC_0033752.jpg  \n",
            "  inflating: ham10000_images_part_2/ISIC_0033753.jpg  \n",
            "  inflating: ham10000_images_part_2/ISIC_0033754.jpg  \n",
            "  inflating: ham10000_images_part_2/ISIC_0033755.jpg  \n",
            "  inflating: ham10000_images_part_2/ISIC_0033756.jpg  \n",
            "  inflating: ham10000_images_part_2/ISIC_0033757.jpg  \n",
            "  inflating: ham10000_images_part_2/ISIC_0033758.jpg  \n",
            "  inflating: ham10000_images_part_2/ISIC_0033759.jpg  \n",
            "  inflating: ham10000_images_part_2/ISIC_0033760.jpg  \n",
            "  inflating: ham10000_images_part_2/ISIC_0033761.jpg  \n",
            "  inflating: ham10000_images_part_2/ISIC_0033762.jpg  \n",
            "  inflating: ham10000_images_part_2/ISIC_0033763.jpg  \n",
            "  inflating: ham10000_images_part_2/ISIC_0033764.jpg  \n",
            "  inflating: ham10000_images_part_2/ISIC_0033765.jpg  \n",
            "  inflating: ham10000_images_part_2/ISIC_0033766.jpg  \n",
            "  inflating: ham10000_images_part_2/ISIC_0033767.jpg  \n",
            "  inflating: ham10000_images_part_2/ISIC_0033768.jpg  \n",
            "  inflating: ham10000_images_part_2/ISIC_0033769.jpg  \n",
            "  inflating: ham10000_images_part_2/ISIC_0033770.jpg  \n",
            "  inflating: ham10000_images_part_2/ISIC_0033771.jpg  \n",
            "  inflating: ham10000_images_part_2/ISIC_0033772.jpg  \n",
            "  inflating: ham10000_images_part_2/ISIC_0033773.jpg  \n",
            "  inflating: ham10000_images_part_2/ISIC_0033774.jpg  \n",
            "  inflating: ham10000_images_part_2/ISIC_0033775.jpg  \n",
            "  inflating: ham10000_images_part_2/ISIC_0033776.jpg  \n",
            "  inflating: ham10000_images_part_2/ISIC_0033777.jpg  \n",
            "  inflating: ham10000_images_part_2/ISIC_0033778.jpg  \n",
            "  inflating: ham10000_images_part_2/ISIC_0033779.jpg  \n",
            "  inflating: ham10000_images_part_2/ISIC_0033780.jpg  \n",
            "  inflating: ham10000_images_part_2/ISIC_0033781.jpg  \n",
            "  inflating: ham10000_images_part_2/ISIC_0033782.jpg  \n",
            "  inflating: ham10000_images_part_2/ISIC_0033783.jpg  \n",
            "  inflating: ham10000_images_part_2/ISIC_0033784.jpg  \n",
            "  inflating: ham10000_images_part_2/ISIC_0033785.jpg  \n",
            "  inflating: ham10000_images_part_2/ISIC_0033786.jpg  \n",
            "  inflating: ham10000_images_part_2/ISIC_0033787.jpg  \n",
            "  inflating: ham10000_images_part_2/ISIC_0033788.jpg  \n",
            "  inflating: ham10000_images_part_2/ISIC_0033789.jpg  \n",
            "  inflating: ham10000_images_part_2/ISIC_0033790.jpg  \n",
            "  inflating: ham10000_images_part_2/ISIC_0033791.jpg  \n",
            "  inflating: ham10000_images_part_2/ISIC_0033792.jpg  \n",
            "  inflating: ham10000_images_part_2/ISIC_0033793.jpg  \n",
            "  inflating: ham10000_images_part_2/ISIC_0033794.jpg  \n",
            "  inflating: ham10000_images_part_2/ISIC_0033795.jpg  \n",
            "  inflating: ham10000_images_part_2/ISIC_0033796.jpg  \n",
            "  inflating: ham10000_images_part_2/ISIC_0033797.jpg  \n",
            "  inflating: ham10000_images_part_2/ISIC_0033798.jpg  \n",
            "  inflating: ham10000_images_part_2/ISIC_0033799.jpg  \n",
            "  inflating: ham10000_images_part_2/ISIC_0033800.jpg  \n",
            "  inflating: ham10000_images_part_2/ISIC_0033801.jpg  \n",
            "  inflating: ham10000_images_part_2/ISIC_0033802.jpg  \n",
            "  inflating: ham10000_images_part_2/ISIC_0033803.jpg  \n",
            "  inflating: ham10000_images_part_2/ISIC_0033804.jpg  \n",
            "  inflating: ham10000_images_part_2/ISIC_0033805.jpg  \n",
            "  inflating: ham10000_images_part_2/ISIC_0033806.jpg  \n",
            "  inflating: ham10000_images_part_2/ISIC_0033807.jpg  \n",
            "  inflating: ham10000_images_part_2/ISIC_0033808.jpg  \n",
            "  inflating: ham10000_images_part_2/ISIC_0033809.jpg  \n",
            "  inflating: ham10000_images_part_2/ISIC_0033810.jpg  \n",
            "  inflating: ham10000_images_part_2/ISIC_0033811.jpg  \n",
            "  inflating: ham10000_images_part_2/ISIC_0033812.jpg  \n",
            "  inflating: ham10000_images_part_2/ISIC_0033813.jpg  \n",
            "  inflating: ham10000_images_part_2/ISIC_0033814.jpg  \n",
            "  inflating: ham10000_images_part_2/ISIC_0033815.jpg  \n",
            "  inflating: ham10000_images_part_2/ISIC_0033816.jpg  \n",
            "  inflating: ham10000_images_part_2/ISIC_0033817.jpg  \n",
            "  inflating: ham10000_images_part_2/ISIC_0033818.jpg  \n",
            "  inflating: ham10000_images_part_2/ISIC_0033819.jpg  \n",
            "  inflating: ham10000_images_part_2/ISIC_0033820.jpg  \n",
            "  inflating: ham10000_images_part_2/ISIC_0033821.jpg  \n",
            "  inflating: ham10000_images_part_2/ISIC_0033822.jpg  \n",
            "  inflating: ham10000_images_part_2/ISIC_0033823.jpg  \n",
            "  inflating: ham10000_images_part_2/ISIC_0033824.jpg  \n",
            "  inflating: ham10000_images_part_2/ISIC_0033825.jpg  \n",
            "  inflating: ham10000_images_part_2/ISIC_0033826.jpg  \n",
            "  inflating: ham10000_images_part_2/ISIC_0033827.jpg  \n",
            "  inflating: ham10000_images_part_2/ISIC_0033828.jpg  \n",
            "  inflating: ham10000_images_part_2/ISIC_0033829.jpg  \n",
            "  inflating: ham10000_images_part_2/ISIC_0033830.jpg  \n",
            "  inflating: ham10000_images_part_2/ISIC_0033831.jpg  \n",
            "  inflating: ham10000_images_part_2/ISIC_0033832.jpg  \n",
            "  inflating: ham10000_images_part_2/ISIC_0033833.jpg  \n",
            "  inflating: ham10000_images_part_2/ISIC_0033834.jpg  \n",
            "  inflating: ham10000_images_part_2/ISIC_0033835.jpg  \n",
            "  inflating: ham10000_images_part_2/ISIC_0033836.jpg  \n",
            "  inflating: ham10000_images_part_2/ISIC_0033837.jpg  \n",
            "  inflating: ham10000_images_part_2/ISIC_0033838.jpg  \n",
            "  inflating: ham10000_images_part_2/ISIC_0033839.jpg  \n",
            "  inflating: ham10000_images_part_2/ISIC_0033840.jpg  \n",
            "  inflating: ham10000_images_part_2/ISIC_0033841.jpg  \n",
            "  inflating: ham10000_images_part_2/ISIC_0033842.jpg  \n",
            "  inflating: ham10000_images_part_2/ISIC_0033843.jpg  \n",
            "  inflating: ham10000_images_part_2/ISIC_0033844.jpg  \n",
            "  inflating: ham10000_images_part_2/ISIC_0033845.jpg  \n",
            "  inflating: ham10000_images_part_2/ISIC_0033846.jpg  \n",
            "  inflating: ham10000_images_part_2/ISIC_0033847.jpg  \n",
            "  inflating: ham10000_images_part_2/ISIC_0033848.jpg  \n",
            "  inflating: ham10000_images_part_2/ISIC_0033849.jpg  \n",
            "  inflating: ham10000_images_part_2/ISIC_0033850.jpg  \n",
            "  inflating: ham10000_images_part_2/ISIC_0033851.jpg  \n",
            "  inflating: ham10000_images_part_2/ISIC_0033852.jpg  \n",
            "  inflating: ham10000_images_part_2/ISIC_0033853.jpg  \n",
            "  inflating: ham10000_images_part_2/ISIC_0033854.jpg  \n",
            "  inflating: ham10000_images_part_2/ISIC_0033855.jpg  \n",
            "  inflating: ham10000_images_part_2/ISIC_0033856.jpg  \n",
            "  inflating: ham10000_images_part_2/ISIC_0033857.jpg  \n",
            "  inflating: ham10000_images_part_2/ISIC_0033858.jpg  \n",
            "  inflating: ham10000_images_part_2/ISIC_0033859.jpg  \n",
            "  inflating: ham10000_images_part_2/ISIC_0033860.jpg  \n",
            "  inflating: ham10000_images_part_2/ISIC_0033861.jpg  \n",
            "  inflating: ham10000_images_part_2/ISIC_0033862.jpg  \n",
            "  inflating: ham10000_images_part_2/ISIC_0033863.jpg  \n",
            "  inflating: ham10000_images_part_2/ISIC_0033864.jpg  \n",
            "  inflating: ham10000_images_part_2/ISIC_0033865.jpg  \n",
            "  inflating: ham10000_images_part_2/ISIC_0033866.jpg  \n",
            "  inflating: ham10000_images_part_2/ISIC_0033867.jpg  \n",
            "  inflating: ham10000_images_part_2/ISIC_0033868.jpg  \n",
            "  inflating: ham10000_images_part_2/ISIC_0033869.jpg  \n",
            "  inflating: ham10000_images_part_2/ISIC_0033870.jpg  \n",
            "  inflating: ham10000_images_part_2/ISIC_0033871.jpg  \n",
            "  inflating: ham10000_images_part_2/ISIC_0033872.jpg  \n",
            "  inflating: ham10000_images_part_2/ISIC_0033873.jpg  \n",
            "  inflating: ham10000_images_part_2/ISIC_0033874.jpg  \n",
            "  inflating: ham10000_images_part_2/ISIC_0033875.jpg  \n",
            "  inflating: ham10000_images_part_2/ISIC_0033876.jpg  \n",
            "  inflating: ham10000_images_part_2/ISIC_0033877.jpg  \n",
            "  inflating: ham10000_images_part_2/ISIC_0033878.jpg  \n",
            "  inflating: ham10000_images_part_2/ISIC_0033879.jpg  \n",
            "  inflating: ham10000_images_part_2/ISIC_0033880.jpg  \n",
            "  inflating: ham10000_images_part_2/ISIC_0033881.jpg  \n",
            "  inflating: ham10000_images_part_2/ISIC_0033882.jpg  \n",
            "  inflating: ham10000_images_part_2/ISIC_0033883.jpg  \n",
            "  inflating: ham10000_images_part_2/ISIC_0033884.jpg  \n",
            "  inflating: ham10000_images_part_2/ISIC_0033885.jpg  \n",
            "  inflating: ham10000_images_part_2/ISIC_0033886.jpg  \n",
            "  inflating: ham10000_images_part_2/ISIC_0033887.jpg  \n",
            "  inflating: ham10000_images_part_2/ISIC_0033888.jpg  \n",
            "  inflating: ham10000_images_part_2/ISIC_0033889.jpg  \n",
            "  inflating: ham10000_images_part_2/ISIC_0033890.jpg  \n",
            "  inflating: ham10000_images_part_2/ISIC_0033891.jpg  \n",
            "  inflating: ham10000_images_part_2/ISIC_0033892.jpg  \n",
            "  inflating: ham10000_images_part_2/ISIC_0033893.jpg  \n",
            "  inflating: ham10000_images_part_2/ISIC_0033894.jpg  \n",
            "  inflating: ham10000_images_part_2/ISIC_0033895.jpg  \n",
            "  inflating: ham10000_images_part_2/ISIC_0033896.jpg  \n",
            "  inflating: ham10000_images_part_2/ISIC_0033897.jpg  \n",
            "  inflating: ham10000_images_part_2/ISIC_0033898.jpg  \n",
            "  inflating: ham10000_images_part_2/ISIC_0033899.jpg  \n",
            "  inflating: ham10000_images_part_2/ISIC_0033900.jpg  \n",
            "  inflating: ham10000_images_part_2/ISIC_0033901.jpg  \n",
            "  inflating: ham10000_images_part_2/ISIC_0033902.jpg  \n",
            "  inflating: ham10000_images_part_2/ISIC_0033903.jpg  \n",
            "  inflating: ham10000_images_part_2/ISIC_0033904.jpg  \n",
            "  inflating: ham10000_images_part_2/ISIC_0033905.jpg  \n",
            "  inflating: ham10000_images_part_2/ISIC_0033906.jpg  \n",
            "  inflating: ham10000_images_part_2/ISIC_0033907.jpg  \n",
            "  inflating: ham10000_images_part_2/ISIC_0033908.jpg  \n",
            "  inflating: ham10000_images_part_2/ISIC_0033909.jpg  \n",
            "  inflating: ham10000_images_part_2/ISIC_0033910.jpg  \n",
            "  inflating: ham10000_images_part_2/ISIC_0033911.jpg  \n",
            "  inflating: ham10000_images_part_2/ISIC_0033912.jpg  \n",
            "  inflating: ham10000_images_part_2/ISIC_0033913.jpg  \n",
            "  inflating: ham10000_images_part_2/ISIC_0033914.jpg  \n",
            "  inflating: ham10000_images_part_2/ISIC_0033915.jpg  \n",
            "  inflating: ham10000_images_part_2/ISIC_0033916.jpg  \n",
            "  inflating: ham10000_images_part_2/ISIC_0033917.jpg  \n",
            "  inflating: ham10000_images_part_2/ISIC_0033918.jpg  \n",
            "  inflating: ham10000_images_part_2/ISIC_0033919.jpg  \n",
            "  inflating: ham10000_images_part_2/ISIC_0033920.jpg  \n",
            "  inflating: ham10000_images_part_2/ISIC_0033921.jpg  \n",
            "  inflating: ham10000_images_part_2/ISIC_0033922.jpg  \n",
            "  inflating: ham10000_images_part_2/ISIC_0033923.jpg  \n",
            "  inflating: ham10000_images_part_2/ISIC_0033924.jpg  \n",
            "  inflating: ham10000_images_part_2/ISIC_0033925.jpg  \n",
            "  inflating: ham10000_images_part_2/ISIC_0033926.jpg  \n",
            "  inflating: ham10000_images_part_2/ISIC_0033927.jpg  \n",
            "  inflating: ham10000_images_part_2/ISIC_0033928.jpg  \n",
            "  inflating: ham10000_images_part_2/ISIC_0033929.jpg  \n",
            "  inflating: ham10000_images_part_2/ISIC_0033930.jpg  \n",
            "  inflating: ham10000_images_part_2/ISIC_0033931.jpg  \n",
            "  inflating: ham10000_images_part_2/ISIC_0033932.jpg  \n",
            "  inflating: ham10000_images_part_2/ISIC_0033933.jpg  \n",
            "  inflating: ham10000_images_part_2/ISIC_0033934.jpg  \n",
            "  inflating: ham10000_images_part_2/ISIC_0033935.jpg  \n",
            "  inflating: ham10000_images_part_2/ISIC_0033936.jpg  \n",
            "  inflating: ham10000_images_part_2/ISIC_0033937.jpg  \n",
            "  inflating: ham10000_images_part_2/ISIC_0033938.jpg  \n",
            "  inflating: ham10000_images_part_2/ISIC_0033939.jpg  \n",
            "  inflating: ham10000_images_part_2/ISIC_0033940.jpg  \n",
            "  inflating: ham10000_images_part_2/ISIC_0033941.jpg  \n",
            "  inflating: ham10000_images_part_2/ISIC_0033942.jpg  \n",
            "  inflating: ham10000_images_part_2/ISIC_0033943.jpg  \n",
            "  inflating: ham10000_images_part_2/ISIC_0033944.jpg  \n",
            "  inflating: ham10000_images_part_2/ISIC_0033945.jpg  \n",
            "  inflating: ham10000_images_part_2/ISIC_0033946.jpg  \n",
            "  inflating: ham10000_images_part_2/ISIC_0033947.jpg  \n",
            "  inflating: ham10000_images_part_2/ISIC_0033948.jpg  \n",
            "  inflating: ham10000_images_part_2/ISIC_0033949.jpg  \n",
            "  inflating: ham10000_images_part_2/ISIC_0033950.jpg  \n",
            "  inflating: ham10000_images_part_2/ISIC_0033951.jpg  \n",
            "  inflating: ham10000_images_part_2/ISIC_0033952.jpg  \n",
            "  inflating: ham10000_images_part_2/ISIC_0033953.jpg  \n",
            "  inflating: ham10000_images_part_2/ISIC_0033954.jpg  \n",
            "  inflating: ham10000_images_part_2/ISIC_0033955.jpg  \n",
            "  inflating: ham10000_images_part_2/ISIC_0033956.jpg  \n",
            "  inflating: ham10000_images_part_2/ISIC_0033957.jpg  \n",
            "  inflating: ham10000_images_part_2/ISIC_0033958.jpg  \n",
            "  inflating: ham10000_images_part_2/ISIC_0033959.jpg  \n",
            "  inflating: ham10000_images_part_2/ISIC_0033960.jpg  \n",
            "  inflating: ham10000_images_part_2/ISIC_0033961.jpg  \n",
            "  inflating: ham10000_images_part_2/ISIC_0033962.jpg  \n",
            "  inflating: ham10000_images_part_2/ISIC_0033963.jpg  \n",
            "  inflating: ham10000_images_part_2/ISIC_0033964.jpg  \n",
            "  inflating: ham10000_images_part_2/ISIC_0033965.jpg  \n",
            "  inflating: ham10000_images_part_2/ISIC_0033966.jpg  \n",
            "  inflating: ham10000_images_part_2/ISIC_0033967.jpg  \n",
            "  inflating: ham10000_images_part_2/ISIC_0033968.jpg  \n",
            "  inflating: ham10000_images_part_2/ISIC_0033969.jpg  \n",
            "  inflating: ham10000_images_part_2/ISIC_0033970.jpg  \n",
            "  inflating: ham10000_images_part_2/ISIC_0033971.jpg  \n",
            "  inflating: ham10000_images_part_2/ISIC_0033972.jpg  \n",
            "  inflating: ham10000_images_part_2/ISIC_0033973.jpg  \n",
            "  inflating: ham10000_images_part_2/ISIC_0033974.jpg  \n",
            "  inflating: ham10000_images_part_2/ISIC_0033975.jpg  \n",
            "  inflating: ham10000_images_part_2/ISIC_0033976.jpg  \n",
            "  inflating: ham10000_images_part_2/ISIC_0033977.jpg  \n",
            "  inflating: ham10000_images_part_2/ISIC_0033978.jpg  \n",
            "  inflating: ham10000_images_part_2/ISIC_0033979.jpg  \n",
            "  inflating: ham10000_images_part_2/ISIC_0033980.jpg  \n",
            "  inflating: ham10000_images_part_2/ISIC_0033981.jpg  \n",
            "  inflating: ham10000_images_part_2/ISIC_0033982.jpg  \n",
            "  inflating: ham10000_images_part_2/ISIC_0033983.jpg  \n",
            "  inflating: ham10000_images_part_2/ISIC_0033984.jpg  \n",
            "  inflating: ham10000_images_part_2/ISIC_0033985.jpg  \n",
            "  inflating: ham10000_images_part_2/ISIC_0033986.jpg  \n",
            "  inflating: ham10000_images_part_2/ISIC_0033987.jpg  \n",
            "  inflating: ham10000_images_part_2/ISIC_0033988.jpg  \n",
            "  inflating: ham10000_images_part_2/ISIC_0033989.jpg  \n",
            "  inflating: ham10000_images_part_2/ISIC_0033990.jpg  \n",
            "  inflating: ham10000_images_part_2/ISIC_0033991.jpg  \n",
            "  inflating: ham10000_images_part_2/ISIC_0033992.jpg  \n",
            "  inflating: ham10000_images_part_2/ISIC_0033993.jpg  \n",
            "  inflating: ham10000_images_part_2/ISIC_0033994.jpg  \n",
            "  inflating: ham10000_images_part_2/ISIC_0033995.jpg  \n",
            "  inflating: ham10000_images_part_2/ISIC_0033996.jpg  \n",
            "  inflating: ham10000_images_part_2/ISIC_0033997.jpg  \n",
            "  inflating: ham10000_images_part_2/ISIC_0033998.jpg  \n",
            "  inflating: ham10000_images_part_2/ISIC_0033999.jpg  \n",
            "  inflating: ham10000_images_part_2/ISIC_0034000.jpg  \n",
            "  inflating: ham10000_images_part_2/ISIC_0034001.jpg  \n",
            "  inflating: ham10000_images_part_2/ISIC_0034002.jpg  \n",
            "  inflating: ham10000_images_part_2/ISIC_0034003.jpg  \n",
            "  inflating: ham10000_images_part_2/ISIC_0034004.jpg  \n",
            "  inflating: ham10000_images_part_2/ISIC_0034005.jpg  \n",
            "  inflating: ham10000_images_part_2/ISIC_0034006.jpg  \n",
            "  inflating: ham10000_images_part_2/ISIC_0034007.jpg  \n",
            "  inflating: ham10000_images_part_2/ISIC_0034008.jpg  \n",
            "  inflating: ham10000_images_part_2/ISIC_0034009.jpg  \n",
            "  inflating: ham10000_images_part_2/ISIC_0034010.jpg  \n",
            "  inflating: ham10000_images_part_2/ISIC_0034011.jpg  \n",
            "  inflating: ham10000_images_part_2/ISIC_0034012.jpg  \n",
            "  inflating: ham10000_images_part_2/ISIC_0034013.jpg  \n",
            "  inflating: ham10000_images_part_2/ISIC_0034014.jpg  \n",
            "  inflating: ham10000_images_part_2/ISIC_0034015.jpg  \n",
            "  inflating: ham10000_images_part_2/ISIC_0034016.jpg  \n",
            "  inflating: ham10000_images_part_2/ISIC_0034017.jpg  \n",
            "  inflating: ham10000_images_part_2/ISIC_0034018.jpg  \n",
            "  inflating: ham10000_images_part_2/ISIC_0034019.jpg  \n",
            "  inflating: ham10000_images_part_2/ISIC_0034020.jpg  \n",
            "  inflating: ham10000_images_part_2/ISIC_0034021.jpg  \n",
            "  inflating: ham10000_images_part_2/ISIC_0034022.jpg  \n",
            "  inflating: ham10000_images_part_2/ISIC_0034023.jpg  \n",
            "  inflating: ham10000_images_part_2/ISIC_0034024.jpg  \n",
            "  inflating: ham10000_images_part_2/ISIC_0034025.jpg  \n",
            "  inflating: ham10000_images_part_2/ISIC_0034026.jpg  \n",
            "  inflating: ham10000_images_part_2/ISIC_0034027.jpg  \n",
            "  inflating: ham10000_images_part_2/ISIC_0034028.jpg  \n",
            "  inflating: ham10000_images_part_2/ISIC_0034029.jpg  \n",
            "  inflating: ham10000_images_part_2/ISIC_0034030.jpg  \n",
            "  inflating: ham10000_images_part_2/ISIC_0034031.jpg  \n",
            "  inflating: ham10000_images_part_2/ISIC_0034032.jpg  \n",
            "  inflating: ham10000_images_part_2/ISIC_0034033.jpg  \n",
            "  inflating: ham10000_images_part_2/ISIC_0034034.jpg  \n",
            "  inflating: ham10000_images_part_2/ISIC_0034035.jpg  \n",
            "  inflating: ham10000_images_part_2/ISIC_0034036.jpg  \n",
            "  inflating: ham10000_images_part_2/ISIC_0034037.jpg  \n",
            "  inflating: ham10000_images_part_2/ISIC_0034038.jpg  \n",
            "  inflating: ham10000_images_part_2/ISIC_0034039.jpg  \n",
            "  inflating: ham10000_images_part_2/ISIC_0034040.jpg  \n",
            "  inflating: ham10000_images_part_2/ISIC_0034041.jpg  \n",
            "  inflating: ham10000_images_part_2/ISIC_0034042.jpg  \n",
            "  inflating: ham10000_images_part_2/ISIC_0034043.jpg  \n",
            "  inflating: ham10000_images_part_2/ISIC_0034044.jpg  \n",
            "  inflating: ham10000_images_part_2/ISIC_0034045.jpg  \n",
            "  inflating: ham10000_images_part_2/ISIC_0034046.jpg  \n",
            "  inflating: ham10000_images_part_2/ISIC_0034047.jpg  \n",
            "  inflating: ham10000_images_part_2/ISIC_0034048.jpg  \n",
            "  inflating: ham10000_images_part_2/ISIC_0034049.jpg  \n",
            "  inflating: ham10000_images_part_2/ISIC_0034050.jpg  \n",
            "  inflating: ham10000_images_part_2/ISIC_0034051.jpg  \n",
            "  inflating: ham10000_images_part_2/ISIC_0034052.jpg  \n",
            "  inflating: ham10000_images_part_2/ISIC_0034053.jpg  \n",
            "  inflating: ham10000_images_part_2/ISIC_0034054.jpg  \n",
            "  inflating: ham10000_images_part_2/ISIC_0034055.jpg  \n",
            "  inflating: ham10000_images_part_2/ISIC_0034056.jpg  \n",
            "  inflating: ham10000_images_part_2/ISIC_0034057.jpg  \n",
            "  inflating: ham10000_images_part_2/ISIC_0034058.jpg  \n",
            "  inflating: ham10000_images_part_2/ISIC_0034059.jpg  \n",
            "  inflating: ham10000_images_part_2/ISIC_0034060.jpg  \n",
            "  inflating: ham10000_images_part_2/ISIC_0034061.jpg  \n",
            "  inflating: ham10000_images_part_2/ISIC_0034062.jpg  \n",
            "  inflating: ham10000_images_part_2/ISIC_0034063.jpg  \n",
            "  inflating: ham10000_images_part_2/ISIC_0034064.jpg  \n",
            "  inflating: ham10000_images_part_2/ISIC_0034065.jpg  \n",
            "  inflating: ham10000_images_part_2/ISIC_0034066.jpg  \n",
            "  inflating: ham10000_images_part_2/ISIC_0034067.jpg  \n",
            "  inflating: ham10000_images_part_2/ISIC_0034068.jpg  \n",
            "  inflating: ham10000_images_part_2/ISIC_0034069.jpg  \n",
            "  inflating: ham10000_images_part_2/ISIC_0034070.jpg  \n",
            "  inflating: ham10000_images_part_2/ISIC_0034071.jpg  \n",
            "  inflating: ham10000_images_part_2/ISIC_0034072.jpg  \n",
            "  inflating: ham10000_images_part_2/ISIC_0034073.jpg  \n",
            "  inflating: ham10000_images_part_2/ISIC_0034074.jpg  \n",
            "  inflating: ham10000_images_part_2/ISIC_0034075.jpg  \n",
            "  inflating: ham10000_images_part_2/ISIC_0034076.jpg  \n",
            "  inflating: ham10000_images_part_2/ISIC_0034077.jpg  \n",
            "  inflating: ham10000_images_part_2/ISIC_0034078.jpg  \n",
            "  inflating: ham10000_images_part_2/ISIC_0034079.jpg  \n",
            "  inflating: ham10000_images_part_2/ISIC_0034080.jpg  \n",
            "  inflating: ham10000_images_part_2/ISIC_0034081.jpg  \n",
            "  inflating: ham10000_images_part_2/ISIC_0034082.jpg  \n",
            "  inflating: ham10000_images_part_2/ISIC_0034083.jpg  \n",
            "  inflating: ham10000_images_part_2/ISIC_0034084.jpg  \n",
            "  inflating: ham10000_images_part_2/ISIC_0034085.jpg  \n",
            "  inflating: ham10000_images_part_2/ISIC_0034086.jpg  \n",
            "  inflating: ham10000_images_part_2/ISIC_0034087.jpg  \n",
            "  inflating: ham10000_images_part_2/ISIC_0034088.jpg  \n",
            "  inflating: ham10000_images_part_2/ISIC_0034089.jpg  \n",
            "  inflating: ham10000_images_part_2/ISIC_0034090.jpg  \n",
            "  inflating: ham10000_images_part_2/ISIC_0034091.jpg  \n",
            "  inflating: ham10000_images_part_2/ISIC_0034092.jpg  \n",
            "  inflating: ham10000_images_part_2/ISIC_0034093.jpg  \n",
            "  inflating: ham10000_images_part_2/ISIC_0034094.jpg  \n",
            "  inflating: ham10000_images_part_2/ISIC_0034095.jpg  \n",
            "  inflating: ham10000_images_part_2/ISIC_0034096.jpg  \n",
            "  inflating: ham10000_images_part_2/ISIC_0034097.jpg  \n",
            "  inflating: ham10000_images_part_2/ISIC_0034098.jpg  \n",
            "  inflating: ham10000_images_part_2/ISIC_0034099.jpg  \n",
            "  inflating: ham10000_images_part_2/ISIC_0034100.jpg  \n",
            "  inflating: ham10000_images_part_2/ISIC_0034101.jpg  \n",
            "  inflating: ham10000_images_part_2/ISIC_0034102.jpg  \n",
            "  inflating: ham10000_images_part_2/ISIC_0034103.jpg  \n",
            "  inflating: ham10000_images_part_2/ISIC_0034104.jpg  \n",
            "  inflating: ham10000_images_part_2/ISIC_0034105.jpg  \n",
            "  inflating: ham10000_images_part_2/ISIC_0034106.jpg  \n",
            "  inflating: ham10000_images_part_2/ISIC_0034107.jpg  \n",
            "  inflating: ham10000_images_part_2/ISIC_0034108.jpg  \n",
            "  inflating: ham10000_images_part_2/ISIC_0034109.jpg  \n",
            "  inflating: ham10000_images_part_2/ISIC_0034110.jpg  \n",
            "  inflating: ham10000_images_part_2/ISIC_0034111.jpg  \n",
            "  inflating: ham10000_images_part_2/ISIC_0034112.jpg  \n",
            "  inflating: ham10000_images_part_2/ISIC_0034113.jpg  \n",
            "  inflating: ham10000_images_part_2/ISIC_0034114.jpg  \n",
            "  inflating: ham10000_images_part_2/ISIC_0034115.jpg  \n",
            "  inflating: ham10000_images_part_2/ISIC_0034116.jpg  \n",
            "  inflating: ham10000_images_part_2/ISIC_0034117.jpg  \n",
            "  inflating: ham10000_images_part_2/ISIC_0034118.jpg  \n",
            "  inflating: ham10000_images_part_2/ISIC_0034119.jpg  \n",
            "  inflating: ham10000_images_part_2/ISIC_0034120.jpg  \n",
            "  inflating: ham10000_images_part_2/ISIC_0034121.jpg  \n",
            "  inflating: ham10000_images_part_2/ISIC_0034122.jpg  \n",
            "  inflating: ham10000_images_part_2/ISIC_0034123.jpg  \n",
            "  inflating: ham10000_images_part_2/ISIC_0034124.jpg  \n",
            "  inflating: ham10000_images_part_2/ISIC_0034125.jpg  \n",
            "  inflating: ham10000_images_part_2/ISIC_0034126.jpg  \n",
            "  inflating: ham10000_images_part_2/ISIC_0034127.jpg  \n",
            "  inflating: ham10000_images_part_2/ISIC_0034128.jpg  \n",
            "  inflating: ham10000_images_part_2/ISIC_0034129.jpg  \n",
            "  inflating: ham10000_images_part_2/ISIC_0034130.jpg  \n",
            "  inflating: ham10000_images_part_2/ISIC_0034131.jpg  \n",
            "  inflating: ham10000_images_part_2/ISIC_0034132.jpg  \n",
            "  inflating: ham10000_images_part_2/ISIC_0034133.jpg  \n",
            "  inflating: ham10000_images_part_2/ISIC_0034134.jpg  \n",
            "  inflating: ham10000_images_part_2/ISIC_0034135.jpg  \n",
            "  inflating: ham10000_images_part_2/ISIC_0034136.jpg  \n",
            "  inflating: ham10000_images_part_2/ISIC_0034137.jpg  \n",
            "  inflating: ham10000_images_part_2/ISIC_0034138.jpg  \n",
            "  inflating: ham10000_images_part_2/ISIC_0034139.jpg  \n",
            "  inflating: ham10000_images_part_2/ISIC_0034140.jpg  \n",
            "  inflating: ham10000_images_part_2/ISIC_0034141.jpg  \n",
            "  inflating: ham10000_images_part_2/ISIC_0034142.jpg  \n",
            "  inflating: ham10000_images_part_2/ISIC_0034143.jpg  \n",
            "  inflating: ham10000_images_part_2/ISIC_0034144.jpg  \n",
            "  inflating: ham10000_images_part_2/ISIC_0034145.jpg  \n",
            "  inflating: ham10000_images_part_2/ISIC_0034146.jpg  \n",
            "  inflating: ham10000_images_part_2/ISIC_0034147.jpg  \n",
            "  inflating: ham10000_images_part_2/ISIC_0034148.jpg  \n",
            "  inflating: ham10000_images_part_2/ISIC_0034149.jpg  \n",
            "  inflating: ham10000_images_part_2/ISIC_0034150.jpg  \n",
            "  inflating: ham10000_images_part_2/ISIC_0034151.jpg  \n",
            "  inflating: ham10000_images_part_2/ISIC_0034152.jpg  \n",
            "  inflating: ham10000_images_part_2/ISIC_0034153.jpg  \n",
            "  inflating: ham10000_images_part_2/ISIC_0034154.jpg  \n",
            "  inflating: ham10000_images_part_2/ISIC_0034155.jpg  \n",
            "  inflating: ham10000_images_part_2/ISIC_0034156.jpg  \n",
            "  inflating: ham10000_images_part_2/ISIC_0034157.jpg  \n",
            "  inflating: ham10000_images_part_2/ISIC_0034158.jpg  \n",
            "  inflating: ham10000_images_part_2/ISIC_0034159.jpg  \n",
            "  inflating: ham10000_images_part_2/ISIC_0034160.jpg  \n",
            "  inflating: ham10000_images_part_2/ISIC_0034161.jpg  \n",
            "  inflating: ham10000_images_part_2/ISIC_0034162.jpg  \n",
            "  inflating: ham10000_images_part_2/ISIC_0034163.jpg  \n",
            "  inflating: ham10000_images_part_2/ISIC_0034164.jpg  \n",
            "  inflating: ham10000_images_part_2/ISIC_0034165.jpg  \n",
            "  inflating: ham10000_images_part_2/ISIC_0034166.jpg  \n",
            "  inflating: ham10000_images_part_2/ISIC_0034167.jpg  \n",
            "  inflating: ham10000_images_part_2/ISIC_0034168.jpg  \n",
            "  inflating: ham10000_images_part_2/ISIC_0034169.jpg  \n",
            "  inflating: ham10000_images_part_2/ISIC_0034170.jpg  \n",
            "  inflating: ham10000_images_part_2/ISIC_0034171.jpg  \n",
            "  inflating: ham10000_images_part_2/ISIC_0034172.jpg  \n",
            "  inflating: ham10000_images_part_2/ISIC_0034173.jpg  \n",
            "  inflating: ham10000_images_part_2/ISIC_0034174.jpg  \n",
            "  inflating: ham10000_images_part_2/ISIC_0034175.jpg  \n",
            "  inflating: ham10000_images_part_2/ISIC_0034176.jpg  \n",
            "  inflating: ham10000_images_part_2/ISIC_0034177.jpg  \n",
            "  inflating: ham10000_images_part_2/ISIC_0034178.jpg  \n",
            "  inflating: ham10000_images_part_2/ISIC_0034179.jpg  \n",
            "  inflating: ham10000_images_part_2/ISIC_0034180.jpg  \n",
            "  inflating: ham10000_images_part_2/ISIC_0034181.jpg  \n",
            "  inflating: ham10000_images_part_2/ISIC_0034182.jpg  \n",
            "  inflating: ham10000_images_part_2/ISIC_0034183.jpg  \n",
            "  inflating: ham10000_images_part_2/ISIC_0034184.jpg  \n",
            "  inflating: ham10000_images_part_2/ISIC_0034185.jpg  \n",
            "  inflating: ham10000_images_part_2/ISIC_0034186.jpg  \n",
            "  inflating: ham10000_images_part_2/ISIC_0034187.jpg  \n",
            "  inflating: ham10000_images_part_2/ISIC_0034188.jpg  \n",
            "  inflating: ham10000_images_part_2/ISIC_0034189.jpg  \n",
            "  inflating: ham10000_images_part_2/ISIC_0034190.jpg  \n",
            "  inflating: ham10000_images_part_2/ISIC_0034191.jpg  \n",
            "  inflating: ham10000_images_part_2/ISIC_0034192.jpg  \n",
            "  inflating: ham10000_images_part_2/ISIC_0034193.jpg  \n",
            "  inflating: ham10000_images_part_2/ISIC_0034194.jpg  \n",
            "  inflating: ham10000_images_part_2/ISIC_0034195.jpg  \n",
            "  inflating: ham10000_images_part_2/ISIC_0034196.jpg  \n",
            "  inflating: ham10000_images_part_2/ISIC_0034197.jpg  \n",
            "  inflating: ham10000_images_part_2/ISIC_0034198.jpg  \n",
            "  inflating: ham10000_images_part_2/ISIC_0034199.jpg  \n",
            "  inflating: ham10000_images_part_2/ISIC_0034200.jpg  \n",
            "  inflating: ham10000_images_part_2/ISIC_0034201.jpg  \n",
            "  inflating: ham10000_images_part_2/ISIC_0034202.jpg  \n",
            "  inflating: ham10000_images_part_2/ISIC_0034203.jpg  \n",
            "  inflating: ham10000_images_part_2/ISIC_0034204.jpg  \n",
            "  inflating: ham10000_images_part_2/ISIC_0034205.jpg  \n",
            "  inflating: ham10000_images_part_2/ISIC_0034206.jpg  \n",
            "  inflating: ham10000_images_part_2/ISIC_0034207.jpg  \n",
            "  inflating: ham10000_images_part_2/ISIC_0034208.jpg  \n",
            "  inflating: ham10000_images_part_2/ISIC_0034209.jpg  \n",
            "  inflating: ham10000_images_part_2/ISIC_0034210.jpg  \n",
            "  inflating: ham10000_images_part_2/ISIC_0034211.jpg  \n",
            "  inflating: ham10000_images_part_2/ISIC_0034212.jpg  \n",
            "  inflating: ham10000_images_part_2/ISIC_0034213.jpg  \n",
            "  inflating: ham10000_images_part_2/ISIC_0034214.jpg  \n",
            "  inflating: ham10000_images_part_2/ISIC_0034215.jpg  \n",
            "  inflating: ham10000_images_part_2/ISIC_0034216.jpg  \n",
            "  inflating: ham10000_images_part_2/ISIC_0034217.jpg  \n",
            "  inflating: ham10000_images_part_2/ISIC_0034218.jpg  \n",
            "  inflating: ham10000_images_part_2/ISIC_0034219.jpg  \n",
            "  inflating: ham10000_images_part_2/ISIC_0034220.jpg  \n",
            "  inflating: ham10000_images_part_2/ISIC_0034221.jpg  \n",
            "  inflating: ham10000_images_part_2/ISIC_0034222.jpg  \n",
            "  inflating: ham10000_images_part_2/ISIC_0034223.jpg  \n",
            "  inflating: ham10000_images_part_2/ISIC_0034224.jpg  \n",
            "  inflating: ham10000_images_part_2/ISIC_0034225.jpg  \n",
            "  inflating: ham10000_images_part_2/ISIC_0034226.jpg  \n",
            "  inflating: ham10000_images_part_2/ISIC_0034227.jpg  \n",
            "  inflating: ham10000_images_part_2/ISIC_0034228.jpg  \n",
            "  inflating: ham10000_images_part_2/ISIC_0034229.jpg  \n",
            "  inflating: ham10000_images_part_2/ISIC_0034230.jpg  \n",
            "  inflating: ham10000_images_part_2/ISIC_0034231.jpg  \n",
            "  inflating: ham10000_images_part_2/ISIC_0034232.jpg  \n",
            "  inflating: ham10000_images_part_2/ISIC_0034233.jpg  \n",
            "  inflating: ham10000_images_part_2/ISIC_0034234.jpg  \n",
            "  inflating: ham10000_images_part_2/ISIC_0034235.jpg  \n",
            "  inflating: ham10000_images_part_2/ISIC_0034236.jpg  \n",
            "  inflating: ham10000_images_part_2/ISIC_0034237.jpg  \n",
            "  inflating: ham10000_images_part_2/ISIC_0034238.jpg  \n",
            "  inflating: ham10000_images_part_2/ISIC_0034239.jpg  \n",
            "  inflating: ham10000_images_part_2/ISIC_0034240.jpg  \n",
            "  inflating: ham10000_images_part_2/ISIC_0034241.jpg  \n",
            "  inflating: ham10000_images_part_2/ISIC_0034242.jpg  \n",
            "  inflating: ham10000_images_part_2/ISIC_0034243.jpg  \n",
            "  inflating: ham10000_images_part_2/ISIC_0034244.jpg  \n",
            "  inflating: ham10000_images_part_2/ISIC_0034245.jpg  \n",
            "  inflating: ham10000_images_part_2/ISIC_0034246.jpg  \n",
            "  inflating: ham10000_images_part_2/ISIC_0034247.jpg  \n",
            "  inflating: ham10000_images_part_2/ISIC_0034248.jpg  \n",
            "  inflating: ham10000_images_part_2/ISIC_0034249.jpg  \n",
            "  inflating: ham10000_images_part_2/ISIC_0034250.jpg  \n",
            "  inflating: ham10000_images_part_2/ISIC_0034251.jpg  \n",
            "  inflating: ham10000_images_part_2/ISIC_0034252.jpg  \n",
            "  inflating: ham10000_images_part_2/ISIC_0034253.jpg  \n",
            "  inflating: ham10000_images_part_2/ISIC_0034254.jpg  \n",
            "  inflating: ham10000_images_part_2/ISIC_0034255.jpg  \n",
            "  inflating: ham10000_images_part_2/ISIC_0034256.jpg  \n",
            "  inflating: ham10000_images_part_2/ISIC_0034257.jpg  \n",
            "  inflating: ham10000_images_part_2/ISIC_0034258.jpg  \n",
            "  inflating: ham10000_images_part_2/ISIC_0034259.jpg  \n",
            "  inflating: ham10000_images_part_2/ISIC_0034260.jpg  \n",
            "  inflating: ham10000_images_part_2/ISIC_0034261.jpg  \n",
            "  inflating: ham10000_images_part_2/ISIC_0034262.jpg  \n",
            "  inflating: ham10000_images_part_2/ISIC_0034263.jpg  \n",
            "  inflating: ham10000_images_part_2/ISIC_0034264.jpg  \n",
            "  inflating: ham10000_images_part_2/ISIC_0034265.jpg  \n",
            "  inflating: ham10000_images_part_2/ISIC_0034266.jpg  \n",
            "  inflating: ham10000_images_part_2/ISIC_0034267.jpg  \n",
            "  inflating: ham10000_images_part_2/ISIC_0034268.jpg  \n",
            "  inflating: ham10000_images_part_2/ISIC_0034269.jpg  \n",
            "  inflating: ham10000_images_part_2/ISIC_0034270.jpg  \n",
            "  inflating: ham10000_images_part_2/ISIC_0034271.jpg  \n",
            "  inflating: ham10000_images_part_2/ISIC_0034272.jpg  \n",
            "  inflating: ham10000_images_part_2/ISIC_0034273.jpg  \n",
            "  inflating: ham10000_images_part_2/ISIC_0034274.jpg  \n",
            "  inflating: ham10000_images_part_2/ISIC_0034275.jpg  \n",
            "  inflating: ham10000_images_part_2/ISIC_0034276.jpg  \n",
            "  inflating: ham10000_images_part_2/ISIC_0034277.jpg  \n",
            "  inflating: ham10000_images_part_2/ISIC_0034278.jpg  \n",
            "  inflating: ham10000_images_part_2/ISIC_0034279.jpg  \n",
            "  inflating: ham10000_images_part_2/ISIC_0034280.jpg  \n",
            "  inflating: ham10000_images_part_2/ISIC_0034281.jpg  \n",
            "  inflating: ham10000_images_part_2/ISIC_0034282.jpg  \n",
            "  inflating: ham10000_images_part_2/ISIC_0034283.jpg  \n",
            "  inflating: ham10000_images_part_2/ISIC_0034284.jpg  \n",
            "  inflating: ham10000_images_part_2/ISIC_0034285.jpg  \n",
            "  inflating: ham10000_images_part_2/ISIC_0034286.jpg  \n",
            "  inflating: ham10000_images_part_2/ISIC_0034287.jpg  \n",
            "  inflating: ham10000_images_part_2/ISIC_0034288.jpg  \n",
            "  inflating: ham10000_images_part_2/ISIC_0034289.jpg  \n",
            "  inflating: ham10000_images_part_2/ISIC_0034290.jpg  \n",
            "  inflating: ham10000_images_part_2/ISIC_0034291.jpg  \n",
            "  inflating: ham10000_images_part_2/ISIC_0034292.jpg  \n",
            "  inflating: ham10000_images_part_2/ISIC_0034293.jpg  \n",
            "  inflating: ham10000_images_part_2/ISIC_0034294.jpg  \n",
            "  inflating: ham10000_images_part_2/ISIC_0034295.jpg  \n",
            "  inflating: ham10000_images_part_2/ISIC_0034296.jpg  \n",
            "  inflating: ham10000_images_part_2/ISIC_0034297.jpg  \n",
            "  inflating: ham10000_images_part_2/ISIC_0034298.jpg  \n",
            "  inflating: ham10000_images_part_2/ISIC_0034299.jpg  \n",
            "  inflating: ham10000_images_part_2/ISIC_0034300.jpg  \n",
            "  inflating: ham10000_images_part_2/ISIC_0034301.jpg  \n",
            "  inflating: ham10000_images_part_2/ISIC_0034302.jpg  \n",
            "  inflating: ham10000_images_part_2/ISIC_0034303.jpg  \n",
            "  inflating: ham10000_images_part_2/ISIC_0034304.jpg  \n",
            "  inflating: ham10000_images_part_2/ISIC_0034305.jpg  \n",
            "  inflating: ham10000_images_part_2/ISIC_0034306.jpg  \n",
            "  inflating: ham10000_images_part_2/ISIC_0034307.jpg  \n",
            "  inflating: ham10000_images_part_2/ISIC_0034308.jpg  \n",
            "  inflating: ham10000_images_part_2/ISIC_0034309.jpg  \n",
            "  inflating: ham10000_images_part_2/ISIC_0034310.jpg  \n",
            "  inflating: ham10000_images_part_2/ISIC_0034311.jpg  \n",
            "  inflating: ham10000_images_part_2/ISIC_0034312.jpg  \n",
            "  inflating: ham10000_images_part_2/ISIC_0034313.jpg  \n",
            "  inflating: ham10000_images_part_2/ISIC_0034314.jpg  \n",
            "  inflating: ham10000_images_part_2/ISIC_0034315.jpg  \n",
            "  inflating: ham10000_images_part_2/ISIC_0034316.jpg  \n",
            "  inflating: ham10000_images_part_2/ISIC_0034317.jpg  \n",
            "  inflating: ham10000_images_part_2/ISIC_0034318.jpg  \n",
            "  inflating: ham10000_images_part_2/ISIC_0034319.jpg  \n",
            "  inflating: ham10000_images_part_2/ISIC_0034320.jpg  \n",
            "  inflating: hmnist_28_28_L.csv      \n",
            "  inflating: hmnist_28_28_RGB.csv    \n",
            "  inflating: hmnist_8_8_L.csv        \n",
            "  inflating: hmnist_8_8_RGB.csv      \n"
          ]
        }
      ]
    },
    {
      "cell_type": "code",
      "source": [
        "%matplotlib inline\n",
        "import matplotlib.pyplot as plt\n",
        "import numpy as np\n",
        "import pandas as pd\n",
        "import os\n",
        "from glob import glob\n",
        "import seaborn as sns\n",
        "from PIL import Image\n",
        "np.random.seed(123)\n",
        "from sklearn.preprocessing import label_binarize\n",
        "from sklearn.metrics import confusion_matrix\n",
        "import itertools\n",
        "\n",
        "import keras\n",
        "from keras.utils.np_utils import to_categorical # used for converting labels to one-hot-encoding\n",
        "from keras.models import Sequential\n",
        "from keras.layers import Dense, Dropout, Flatten, Conv2D, MaxPool2D\n",
        "from keras import backend as K\n",
        "import itertools\n",
        "from tensorflow.keras.layers import BatchNormalization\n",
        "from keras.utils.np_utils import to_categorical # convert to one-hot-encoding\n",
        "from tensorflow.keras.callbacks import ModelCheckpoint\n",
        "\n",
        "from keras.optimizers import Adam , RMSprop ,SGD ,Adadelta , Adagrad , Adamax , Ftrl , Nadam\n",
        "from keras.preprocessing.image import ImageDataGenerator\n",
        "from keras.callbacks import ReduceLROnPlateau\n",
        "from sklearn.model_selection import train_test_split"
      ],
      "metadata": {
        "id": "hZp1J9SmUbR1"
      },
      "execution_count": 1,
      "outputs": []
    },
    {
      "cell_type": "code",
      "source": [
        "image_path = {os.path.splitext(os.path.basename(x))[0]: x\n",
        "                     for x in glob(os.path.join('/content/HAM10000/', '*', '*.jpg'))}\n",
        "\n",
        "lesion_type_dict = {\n",
        "    'nv': 'Melanocytic nevi',\n",
        "    'mel': 'Melanoma',\n",
        "    'bkl': 'Benign keratosis-like lesions ',\n",
        "    'bcc': 'Basal cell carcinoma',\n",
        "    'akiec': 'Actinic keratoses',\n",
        "    'vasc': 'Vascular lesions',\n",
        "    'df': 'Dermatofibroma'\n",
        "}                     "
      ],
      "metadata": {
        "id": "rzqUi66eX0Re"
      },
      "execution_count": 2,
      "outputs": []
    },
    {
      "cell_type": "code",
      "source": [
        "skin_df = pd.read_csv(os.path.join( '/content/HAM10000/HAM10000_metadata.csv'))\n"
      ],
      "metadata": {
        "id": "x5vCcht5gJaS"
      },
      "execution_count": 3,
      "outputs": []
    },
    {
      "cell_type": "code",
      "source": [
        "skin_df['path'] = skin_df['image_id'].map(image_path.get)\n",
        "skin_df['cell_type'] = skin_df['dx'].map(lesion_type_dict.get) \n",
        "skin_df['cell_type_idx'] = pd.Categorical(skin_df['cell_type']).codes"
      ],
      "metadata": {
        "id": "jyZ0PRxOUaIb"
      },
      "execution_count": 4,
      "outputs": []
    },
    {
      "cell_type": "code",
      "source": [
        "skin_df.head()"
      ],
      "metadata": {
        "colab": {
          "base_uri": "https://localhost:8080/",
          "height": 206
        },
        "id": "FQxz349dUrdV",
        "outputId": "bb4ee604-2d6a-4015-ad09-4fc44094f82a"
      },
      "execution_count": 5,
      "outputs": [
        {
          "output_type": "execute_result",
          "data": {
            "text/plain": [
              "     lesion_id      image_id   dx dx_type   age   sex localization  \\\n",
              "0  HAM_0000118  ISIC_0027419  bkl   histo  80.0  male        scalp   \n",
              "1  HAM_0000118  ISIC_0025030  bkl   histo  80.0  male        scalp   \n",
              "2  HAM_0002730  ISIC_0026769  bkl   histo  80.0  male        scalp   \n",
              "3  HAM_0002730  ISIC_0025661  bkl   histo  80.0  male        scalp   \n",
              "4  HAM_0001466  ISIC_0031633  bkl   histo  75.0  male          ear   \n",
              "\n",
              "                                                path  \\\n",
              "0  /content/HAM10000/HAM10000_images_part_1/ISIC_...   \n",
              "1  /content/HAM10000/HAM10000_images_part_1/ISIC_...   \n",
              "2  /content/HAM10000/HAM10000_images_part_1/ISIC_...   \n",
              "3  /content/HAM10000/HAM10000_images_part_1/ISIC_...   \n",
              "4  /content/HAM10000/HAM10000_images_part_2/ISIC_...   \n",
              "\n",
              "                        cell_type  cell_type_idx  \n",
              "0  Benign keratosis-like lesions               2  \n",
              "1  Benign keratosis-like lesions               2  \n",
              "2  Benign keratosis-like lesions               2  \n",
              "3  Benign keratosis-like lesions               2  \n",
              "4  Benign keratosis-like lesions               2  "
            ],
            "text/html": [
              "\n",
              "  <div id=\"df-4b229b12-c7cb-4b9d-9045-7dab45156ff8\">\n",
              "    <div class=\"colab-df-container\">\n",
              "      <div>\n",
              "<style scoped>\n",
              "    .dataframe tbody tr th:only-of-type {\n",
              "        vertical-align: middle;\n",
              "    }\n",
              "\n",
              "    .dataframe tbody tr th {\n",
              "        vertical-align: top;\n",
              "    }\n",
              "\n",
              "    .dataframe thead th {\n",
              "        text-align: right;\n",
              "    }\n",
              "</style>\n",
              "<table border=\"1\" class=\"dataframe\">\n",
              "  <thead>\n",
              "    <tr style=\"text-align: right;\">\n",
              "      <th></th>\n",
              "      <th>lesion_id</th>\n",
              "      <th>image_id</th>\n",
              "      <th>dx</th>\n",
              "      <th>dx_type</th>\n",
              "      <th>age</th>\n",
              "      <th>sex</th>\n",
              "      <th>localization</th>\n",
              "      <th>path</th>\n",
              "      <th>cell_type</th>\n",
              "      <th>cell_type_idx</th>\n",
              "    </tr>\n",
              "  </thead>\n",
              "  <tbody>\n",
              "    <tr>\n",
              "      <th>0</th>\n",
              "      <td>HAM_0000118</td>\n",
              "      <td>ISIC_0027419</td>\n",
              "      <td>bkl</td>\n",
              "      <td>histo</td>\n",
              "      <td>80.0</td>\n",
              "      <td>male</td>\n",
              "      <td>scalp</td>\n",
              "      <td>/content/HAM10000/HAM10000_images_part_1/ISIC_...</td>\n",
              "      <td>Benign keratosis-like lesions</td>\n",
              "      <td>2</td>\n",
              "    </tr>\n",
              "    <tr>\n",
              "      <th>1</th>\n",
              "      <td>HAM_0000118</td>\n",
              "      <td>ISIC_0025030</td>\n",
              "      <td>bkl</td>\n",
              "      <td>histo</td>\n",
              "      <td>80.0</td>\n",
              "      <td>male</td>\n",
              "      <td>scalp</td>\n",
              "      <td>/content/HAM10000/HAM10000_images_part_1/ISIC_...</td>\n",
              "      <td>Benign keratosis-like lesions</td>\n",
              "      <td>2</td>\n",
              "    </tr>\n",
              "    <tr>\n",
              "      <th>2</th>\n",
              "      <td>HAM_0002730</td>\n",
              "      <td>ISIC_0026769</td>\n",
              "      <td>bkl</td>\n",
              "      <td>histo</td>\n",
              "      <td>80.0</td>\n",
              "      <td>male</td>\n",
              "      <td>scalp</td>\n",
              "      <td>/content/HAM10000/HAM10000_images_part_1/ISIC_...</td>\n",
              "      <td>Benign keratosis-like lesions</td>\n",
              "      <td>2</td>\n",
              "    </tr>\n",
              "    <tr>\n",
              "      <th>3</th>\n",
              "      <td>HAM_0002730</td>\n",
              "      <td>ISIC_0025661</td>\n",
              "      <td>bkl</td>\n",
              "      <td>histo</td>\n",
              "      <td>80.0</td>\n",
              "      <td>male</td>\n",
              "      <td>scalp</td>\n",
              "      <td>/content/HAM10000/HAM10000_images_part_1/ISIC_...</td>\n",
              "      <td>Benign keratosis-like lesions</td>\n",
              "      <td>2</td>\n",
              "    </tr>\n",
              "    <tr>\n",
              "      <th>4</th>\n",
              "      <td>HAM_0001466</td>\n",
              "      <td>ISIC_0031633</td>\n",
              "      <td>bkl</td>\n",
              "      <td>histo</td>\n",
              "      <td>75.0</td>\n",
              "      <td>male</td>\n",
              "      <td>ear</td>\n",
              "      <td>/content/HAM10000/HAM10000_images_part_2/ISIC_...</td>\n",
              "      <td>Benign keratosis-like lesions</td>\n",
              "      <td>2</td>\n",
              "    </tr>\n",
              "  </tbody>\n",
              "</table>\n",
              "</div>\n",
              "      <button class=\"colab-df-convert\" onclick=\"convertToInteractive('df-4b229b12-c7cb-4b9d-9045-7dab45156ff8')\"\n",
              "              title=\"Convert this dataframe to an interactive table.\"\n",
              "              style=\"display:none;\">\n",
              "        \n",
              "  <svg xmlns=\"http://www.w3.org/2000/svg\" height=\"24px\"viewBox=\"0 0 24 24\"\n",
              "       width=\"24px\">\n",
              "    <path d=\"M0 0h24v24H0V0z\" fill=\"none\"/>\n",
              "    <path d=\"M18.56 5.44l.94 2.06.94-2.06 2.06-.94-2.06-.94-.94-2.06-.94 2.06-2.06.94zm-11 1L8.5 8.5l.94-2.06 2.06-.94-2.06-.94L8.5 2.5l-.94 2.06-2.06.94zm10 10l.94 2.06.94-2.06 2.06-.94-2.06-.94-.94-2.06-.94 2.06-2.06.94z\"/><path d=\"M17.41 7.96l-1.37-1.37c-.4-.4-.92-.59-1.43-.59-.52 0-1.04.2-1.43.59L10.3 9.45l-7.72 7.72c-.78.78-.78 2.05 0 2.83L4 21.41c.39.39.9.59 1.41.59.51 0 1.02-.2 1.41-.59l7.78-7.78 2.81-2.81c.8-.78.8-2.07 0-2.86zM5.41 20L4 18.59l7.72-7.72 1.47 1.35L5.41 20z\"/>\n",
              "  </svg>\n",
              "      </button>\n",
              "      \n",
              "  <style>\n",
              "    .colab-df-container {\n",
              "      display:flex;\n",
              "      flex-wrap:wrap;\n",
              "      gap: 12px;\n",
              "    }\n",
              "\n",
              "    .colab-df-convert {\n",
              "      background-color: #E8F0FE;\n",
              "      border: none;\n",
              "      border-radius: 50%;\n",
              "      cursor: pointer;\n",
              "      display: none;\n",
              "      fill: #1967D2;\n",
              "      height: 32px;\n",
              "      padding: 0 0 0 0;\n",
              "      width: 32px;\n",
              "    }\n",
              "\n",
              "    .colab-df-convert:hover {\n",
              "      background-color: #E2EBFA;\n",
              "      box-shadow: 0px 1px 2px rgba(60, 64, 67, 0.3), 0px 1px 3px 1px rgba(60, 64, 67, 0.15);\n",
              "      fill: #174EA6;\n",
              "    }\n",
              "\n",
              "    [theme=dark] .colab-df-convert {\n",
              "      background-color: #3B4455;\n",
              "      fill: #D2E3FC;\n",
              "    }\n",
              "\n",
              "    [theme=dark] .colab-df-convert:hover {\n",
              "      background-color: #434B5C;\n",
              "      box-shadow: 0px 1px 3px 1px rgba(0, 0, 0, 0.15);\n",
              "      filter: drop-shadow(0px 1px 2px rgba(0, 0, 0, 0.3));\n",
              "      fill: #FFFFFF;\n",
              "    }\n",
              "  </style>\n",
              "\n",
              "      <script>\n",
              "        const buttonEl =\n",
              "          document.querySelector('#df-4b229b12-c7cb-4b9d-9045-7dab45156ff8 button.colab-df-convert');\n",
              "        buttonEl.style.display =\n",
              "          google.colab.kernel.accessAllowed ? 'block' : 'none';\n",
              "\n",
              "        async function convertToInteractive(key) {\n",
              "          const element = document.querySelector('#df-4b229b12-c7cb-4b9d-9045-7dab45156ff8');\n",
              "          const dataTable =\n",
              "            await google.colab.kernel.invokeFunction('convertToInteractive',\n",
              "                                                     [key], {});\n",
              "          if (!dataTable) return;\n",
              "\n",
              "          const docLinkHtml = 'Like what you see? Visit the ' +\n",
              "            '<a target=\"_blank\" href=https://colab.research.google.com/notebooks/data_table.ipynb>data table notebook</a>'\n",
              "            + ' to learn more about interactive tables.';\n",
              "          element.innerHTML = '';\n",
              "          dataTable['output_type'] = 'display_data';\n",
              "          await google.colab.output.renderOutput(dataTable, element);\n",
              "          const docLink = document.createElement('div');\n",
              "          docLink.innerHTML = docLinkHtml;\n",
              "          element.appendChild(docLink);\n",
              "        }\n",
              "      </script>\n",
              "    </div>\n",
              "  </div>\n",
              "  "
            ]
          },
          "metadata": {},
          "execution_count": 5
        }
      ]
    },
    {
      "cell_type": "code",
      "source": [
        "skin_df['path'] = skin_df['image_id'].map(image_path.get)\n",
        "#Use the path to read images.\n",
        "skin_df['image'] = skin_df['path'].map(lambda x: np.asarray(Image.open(x).resize((32,32))))"
      ],
      "metadata": {
        "id": "YNG5zwPtX0UE"
      },
      "execution_count": 6,
      "outputs": []
    },
    {
      "cell_type": "code",
      "source": [
        "features=skin_df.drop(columns=['cell_type_idx'],axis=1)\n",
        "target=skin_df['cell_type_idx']"
      ],
      "metadata": {
        "id": "2xDOBLlAaFZu"
      },
      "execution_count": 7,
      "outputs": []
    },
    {
      "cell_type": "code",
      "source": [
        "x_train_o, x_test_o, y_train_o, y_test_o = train_test_split(features, target, test_size=0.20,random_state=42)\n",
        "\n",
        "x_train = np.asarray(x_train_o['image'].tolist())\n",
        "x_test = np.asarray(x_test_o['image'].tolist())\n",
        "\n",
        "x_train_mean = np.mean(x_train)\n",
        "x_train_std = np.std(x_train)\n",
        "\n",
        "x_test_mean = np.mean(x_test)\n",
        "x_test_std = np.std(x_test)\n",
        "\n",
        "x_train = (x_train - x_train_mean)/x_train_std\n",
        "x_test = (x_test - x_test_mean)/x_test_std"
      ],
      "metadata": {
        "id": "oZmIRg_4aIfv"
      },
      "execution_count": 8,
      "outputs": []
    },
    {
      "cell_type": "code",
      "source": [
        "# Perform one-hot encoding on the labels\n",
        "y_train = to_categorical(y_train_o, num_classes = 7)\n",
        "y_test = to_categorical(y_test_o, num_classes = 7)"
      ],
      "metadata": {
        "id": "Aey2s8MqaRQx"
      },
      "execution_count": 9,
      "outputs": []
    },
    {
      "cell_type": "code",
      "source": [
        "x_train, x_validate, y_train, y_validate = train_test_split(x_train, y_train, test_size = 0.1, random_state = 2)"
      ],
      "metadata": {
        "id": "YTMo3dUWaURu"
      },
      "execution_count": 10,
      "outputs": []
    },
    {
      "cell_type": "code",
      "source": [
        "# Reshape image in 3 dimensions (height = 128px, width = 128px , canal = 3)\n",
        "x_train = x_train.reshape(x_train.shape[0], *(32, 32, 3))\n",
        "x_test = x_test.reshape(x_test.shape[0], *(32, 32, 3))\n",
        "x_validate = x_validate.reshape(x_validate.shape[0], *(32, 32, 3))"
      ],
      "metadata": {
        "id": "6iDJ6rgHaXhr"
      },
      "execution_count": 11,
      "outputs": []
    },
    {
      "cell_type": "code",
      "source": [
        "# With data augmentation to prevent overfitting \n",
        "\n",
        "datagen = ImageDataGenerator(\n",
        "        featurewise_center=False,  # set input mean to 0 over the dataset\n",
        "        samplewise_center=False,  # set each sample mean to 0\n",
        "        featurewise_std_normalization=False,  # divide inputs by std of the dataset\n",
        "        samplewise_std_normalization=False,  # divide each input by its std\n",
        "        zca_whitening=False,  # apply ZCA whitening\n",
        "        rotation_range=10,  # randomly rotate images in the range (degrees, 0 to 180)\n",
        "        zoom_range = 0.1, # Randomly zoom image \n",
        "        width_shift_range=0.1,  # randomly shift images horizontally (fraction of total width)\n",
        "        height_shift_range=0.1,  # randomly shift images vertically (fraction of total height)\n",
        "        horizontal_flip=False,  # randomly flip images\n",
        "        vertical_flip=False)  # randomly flip images\n",
        "\n",
        "datagen.fit(x_train)"
      ],
      "metadata": {
        "id": "lt2pSOruak91"
      },
      "execution_count": 12,
      "outputs": []
    },
    {
      "cell_type": "markdown",
      "source": [
        "# Fitting the model using Adam"
      ],
      "metadata": {
        "id": "XWPe5govdQT2"
      }
    },
    {
      "cell_type": "code",
      "source": [
        "from tensorflow.keras.layers import LeakyReLU, Dense\n",
        "act = LeakyReLU()"
      ],
      "metadata": {
        "id": "VOZtiYsTanfa"
      },
      "execution_count": 13,
      "outputs": []
    },
    {
      "cell_type": "code",
      "source": [
        "\n",
        "input_shape = (32, 32, 3)\n",
        "num_classes = 7\n",
        "\n",
        "model = Sequential()\n",
        "model.add(Conv2D(32, kernel_size=(3, 3),activation=act,padding = 'Same',input_shape=input_shape))\n",
        "model.add(Conv2D(32,kernel_size=(3, 3), activation=act,padding = 'Same',))\n",
        "model.add(MaxPool2D(pool_size = (2, 2)))\n",
        "model.add(Dropout(0.25))\n",
        "\n",
        "model.add(Conv2D(64, (3, 3), activation=act,padding = 'Same'))\n",
        "model.add(Conv2D(64, (3, 3), activation=act,padding = 'Same'))\n",
        "model.add(MaxPool2D(pool_size=(2, 2)))\n",
        "model.add(Dropout(0.40))\n",
        "\n",
        "model.add(Flatten())\n",
        "model.add(Dense(128, activation=act))\n",
        "model.add(Dropout(0.5))\n",
        "model.add(Dense(num_classes, activation='softmax'))\n",
        "model.summary()"
      ],
      "metadata": {
        "colab": {
          "base_uri": "https://localhost:8080/"
        },
        "id": "3_aB9MPTaxNd",
        "outputId": "cfe8e0e3-ee10-42e6-9c73-a4d5dc31310f"
      },
      "execution_count": 14,
      "outputs": [
        {
          "output_type": "stream",
          "name": "stdout",
          "text": [
            "Model: \"sequential\"\n",
            "_________________________________________________________________\n",
            " Layer (type)                Output Shape              Param #   \n",
            "=================================================================\n",
            " conv2d (Conv2D)             (None, 32, 32, 32)        896       \n",
            "                                                                 \n",
            " conv2d_1 (Conv2D)           (None, 32, 32, 32)        9248      \n",
            "                                                                 \n",
            " max_pooling2d (MaxPooling2D  (None, 16, 16, 32)       0         \n",
            " )                                                               \n",
            "                                                                 \n",
            " dropout (Dropout)           (None, 16, 16, 32)        0         \n",
            "                                                                 \n",
            " conv2d_2 (Conv2D)           (None, 16, 16, 64)        18496     \n",
            "                                                                 \n",
            " conv2d_3 (Conv2D)           (None, 16, 16, 64)        36928     \n",
            "                                                                 \n",
            " max_pooling2d_1 (MaxPooling  (None, 8, 8, 64)         0         \n",
            " 2D)                                                             \n",
            "                                                                 \n",
            " dropout_1 (Dropout)         (None, 8, 8, 64)          0         \n",
            "                                                                 \n",
            " flatten (Flatten)           (None, 4096)              0         \n",
            "                                                                 \n",
            " dense (Dense)               (None, 128)               524416    \n",
            "                                                                 \n",
            " dropout_2 (Dropout)         (None, 128)               0         \n",
            "                                                                 \n",
            " dense_1 (Dense)             (None, 7)                 903       \n",
            "                                                                 \n",
            "=================================================================\n",
            "Total params: 590,887\n",
            "Trainable params: 590,887\n",
            "Non-trainable params: 0\n",
            "_________________________________________________________________\n"
          ]
        }
      ]
    },
    {
      "cell_type": "code",
      "source": [
        "\n",
        "\n",
        "\n",
        "filepath=\"best_model_LeakyReLU.hdf5\"\n",
        "checkpoint = ModelCheckpoint(filepath, monitor='val_acc', verbose=1, save_best_only=True, mode='max')"
      ],
      "metadata": {
        "id": "NoM8M50gbATz"
      },
      "execution_count": 15,
      "outputs": []
    },
    {
      "cell_type": "code",
      "source": [
        "# Define the optimizer\n",
        "optimizer = Adam(learning_rate=0.1)\n",
        "# Compile the model\n",
        "model.compile(optimizer = optimizer , loss = \"categorical_crossentropy\", metrics=[\"accuracy\"])\n",
        "\n",
        "\n",
        "\n",
        "# Fit the model\n",
        "epochs = 50 \n",
        "batch_size = 64\n",
        "history_01= model.fit_generator(datagen.flow(x_train,y_train, batch_size=batch_size),\n",
        "                              epochs = epochs, validation_data = (x_validate,y_validate),\n",
        "                              verbose = 1, steps_per_epoch=x_train.shape[0] // batch_size\n",
        "                              , callbacks=[checkpoint])"
      ],
      "metadata": {
        "colab": {
          "base_uri": "https://localhost:8080/"
        },
        "id": "dMuUhhsCdOY0",
        "outputId": "34c2c331-2f2f-4895-c890-c7c98077c10e"
      },
      "execution_count": 19,
      "outputs": [
        {
          "output_type": "stream",
          "name": "stdout",
          "text": [
            "Epoch 1/50\n"
          ]
        },
        {
          "output_type": "stream",
          "name": "stderr",
          "text": [
            "<ipython-input-19-71f99dd405d5>:11: UserWarning: `Model.fit_generator` is deprecated and will be removed in a future version. Please use `Model.fit`, which supports generators.\n",
            "  history_01= model.fit_generator(datagen.flow(x_train,y_train, batch_size=batch_size),\n"
          ]
        },
        {
          "output_type": "stream",
          "name": "stdout",
          "text": [
            "111/112 [============================>.] - ETA: 0s - loss: 9150211.0000 - accuracy: 0.5097"
          ]
        },
        {
          "output_type": "stream",
          "name": "stderr",
          "text": [
            "WARNING:tensorflow:Can save best model only with val_acc available, skipping.\n"
          ]
        },
        {
          "output_type": "stream",
          "name": "stdout",
          "text": [
            "\b\b\b\b\b\b\b\b\b\b\b\b\b\b\b\b\b\b\b\b\b\b\b\b\b\b\b\b\b\b\b\b\b\b\b\b\b\b\b\b\b\b\b\b\b\b\b\b\b\b\b\b\b\b\b\b\b\b\b\b\b\b\b\b\b\b\b\b\b\b\b\b\b\b\b\b\b\b\b\b\b\b\b\b\b\b\b\b\b\b\r112/112 [==============================] - 5s 42ms/step - loss: 9070450.0000 - accuracy: 0.5099 - val_loss: 205287.1875 - val_accuracy: 0.6334\n",
            "Epoch 2/50\n",
            "111/112 [============================>.] - ETA: 0s - loss: 106233.8359 - accuracy: 0.5418"
          ]
        },
        {
          "output_type": "stream",
          "name": "stderr",
          "text": [
            "WARNING:tensorflow:Can save best model only with val_acc available, skipping.\n"
          ]
        },
        {
          "output_type": "stream",
          "name": "stdout",
          "text": [
            "\b\b\b\b\b\b\b\b\b\b\b\b\b\b\b\b\b\b\b\b\b\b\b\b\b\b\b\b\b\b\b\b\b\b\b\b\b\b\b\b\b\b\b\b\b\b\b\b\b\b\b\b\b\b\b\b\b\b\b\b\b\b\b\b\b\b\b\b\b\b\b\b\b\b\b\b\b\b\b\b\b\b\b\b\b\b\b\b\b\r112/112 [==============================] - 5s 47ms/step - loss: 106183.3359 - accuracy: 0.5410 - val_loss: 114275.3906 - val_accuracy: 0.4140\n",
            "Epoch 3/50\n",
            "111/112 [============================>.] - ETA: 0s - loss: 50455.5625 - accuracy: 0.5487"
          ]
        },
        {
          "output_type": "stream",
          "name": "stderr",
          "text": [
            "WARNING:tensorflow:Can save best model only with val_acc available, skipping.\n"
          ]
        },
        {
          "output_type": "stream",
          "name": "stdout",
          "text": [
            "\b\b\b\b\b\b\b\b\b\b\b\b\b\b\b\b\b\b\b\b\b\b\b\b\b\b\b\b\b\b\b\b\b\b\b\b\b\b\b\b\b\b\b\b\b\b\b\b\b\b\b\b\b\b\b\b\b\b\b\b\b\b\b\b\b\b\b\b\b\b\b\b\b\b\b\b\b\b\b\b\b\b\b\b\b\b\b\b\r112/112 [==============================] - 5s 44ms/step - loss: 50265.5820 - accuracy: 0.5490 - val_loss: 16233.4219 - val_accuracy: 0.6234\n",
            "Epoch 4/50\n",
            "111/112 [============================>.] - ETA: 0s - loss: 27303.7949 - accuracy: 0.5566"
          ]
        },
        {
          "output_type": "stream",
          "name": "stderr",
          "text": [
            "WARNING:tensorflow:Can save best model only with val_acc available, skipping.\n"
          ]
        },
        {
          "output_type": "stream",
          "name": "stdout",
          "text": [
            "\b\b\b\b\b\b\b\b\b\b\b\b\b\b\b\b\b\b\b\b\b\b\b\b\b\b\b\b\b\b\b\b\b\b\b\b\b\b\b\b\b\b\b\b\b\b\b\b\b\b\b\b\b\b\b\b\b\b\b\b\b\b\b\b\b\b\b\b\b\b\b\b\b\b\b\b\b\b\b\b\b\b\b\b\b\b\b\b\r112/112 [==============================] - 5s 44ms/step - loss: 27345.6016 - accuracy: 0.5557 - val_loss: 14087.2900 - val_accuracy: 0.6334\n",
            "Epoch 5/50\n",
            "111/112 [============================>.] - ETA: 0s - loss: 24744.8633 - accuracy: 0.5391"
          ]
        },
        {
          "output_type": "stream",
          "name": "stderr",
          "text": [
            "WARNING:tensorflow:Can save best model only with val_acc available, skipping.\n"
          ]
        },
        {
          "output_type": "stream",
          "name": "stdout",
          "text": [
            "\b\b\b\b\b\b\b\b\b\b\b\b\b\b\b\b\b\b\b\b\b\b\b\b\b\b\b\b\b\b\b\b\b\b\b\b\b\b\b\b\b\b\b\b\b\b\b\b\b\b\b\b\b\b\b\b\b\b\b\b\b\b\b\b\b\b\b\b\b\b\b\b\b\b\b\b\b\b\b\b\b\b\b\b\b\b\b\b\r112/112 [==============================] - 4s 38ms/step - loss: 24669.6289 - accuracy: 0.5385 - val_loss: 14030.5898 - val_accuracy: 0.5998\n",
            "Epoch 6/50\n",
            "112/112 [==============================] - ETA: 0s - loss: 16295.7832 - accuracy: 0.5514"
          ]
        },
        {
          "output_type": "stream",
          "name": "stderr",
          "text": [
            "WARNING:tensorflow:Can save best model only with val_acc available, skipping.\n"
          ]
        },
        {
          "output_type": "stream",
          "name": "stdout",
          "text": [
            "\b\b\b\b\b\b\b\b\b\b\b\b\b\b\b\b\b\b\b\b\b\b\b\b\b\b\b\b\b\b\b\b\b\b\b\b\b\b\b\b\b\b\b\b\b\b\b\b\b\b\b\b\b\b\b\b\b\b\b\b\b\b\b\b\b\b\b\b\b\b\b\b\b\b\b\b\b\b\b\b\b\b\b\b\b\b\b\b\r112/112 [==============================] - 5s 47ms/step - loss: 16295.7832 - accuracy: 0.5514 - val_loss: 6197.2383 - val_accuracy: 0.5823\n",
            "Epoch 7/50\n",
            "111/112 [============================>.] - ETA: 0s - loss: 12922.2051 - accuracy: 0.5428"
          ]
        },
        {
          "output_type": "stream",
          "name": "stderr",
          "text": [
            "WARNING:tensorflow:Can save best model only with val_acc available, skipping.\n"
          ]
        },
        {
          "output_type": "stream",
          "name": "stdout",
          "text": [
            "\b\b\b\b\b\b\b\b\b\b\b\b\b\b\b\b\b\b\b\b\b\b\b\b\b\b\b\b\b\b\b\b\b\b\b\b\b\b\b\b\b\b\b\b\b\b\b\b\b\b\b\b\b\b\b\b\b\b\b\b\b\b\b\b\b\b\b\b\b\b\b\b\b\b\b\b\b\b\b\b\b\b\b\b\b\b\b\b\r112/112 [==============================] - 4s 36ms/step - loss: 12938.3770 - accuracy: 0.5430 - val_loss: 5539.9956 - val_accuracy: 0.6484\n",
            "Epoch 8/50\n",
            "112/112 [==============================] - ETA: 0s - loss: 9763.0996 - accuracy: 0.5462"
          ]
        },
        {
          "output_type": "stream",
          "name": "stderr",
          "text": [
            "WARNING:tensorflow:Can save best model only with val_acc available, skipping.\n"
          ]
        },
        {
          "output_type": "stream",
          "name": "stdout",
          "text": [
            "\b\b\b\b\b\b\b\b\b\b\b\b\b\b\b\b\b\b\b\b\b\b\b\b\b\b\b\b\b\b\b\b\b\b\b\b\b\b\b\b\b\b\b\b\b\b\b\b\b\b\b\b\b\b\b\b\b\b\b\b\b\b\b\b\b\b\b\b\b\b\b\b\b\b\b\b\b\b\b\b\b\b\b\b\b\b\b\r112/112 [==============================] - 5s 46ms/step - loss: 9763.0996 - accuracy: 0.5462 - val_loss: 16252.5498 - val_accuracy: 0.4825\n",
            "Epoch 9/50\n",
            "112/112 [==============================] - ETA: 0s - loss: 13160.4844 - accuracy: 0.5281"
          ]
        },
        {
          "output_type": "stream",
          "name": "stderr",
          "text": [
            "WARNING:tensorflow:Can save best model only with val_acc available, skipping.\n"
          ]
        },
        {
          "output_type": "stream",
          "name": "stdout",
          "text": [
            "\b\b\b\b\b\b\b\b\b\b\b\b\b\b\b\b\b\b\b\b\b\b\b\b\b\b\b\b\b\b\b\b\b\b\b\b\b\b\b\b\b\b\b\b\b\b\b\b\b\b\b\b\b\b\b\b\b\b\b\b\b\b\b\b\b\b\b\b\b\b\b\b\b\b\b\b\b\b\b\b\b\b\b\b\b\b\b\b\r112/112 [==============================] - 6s 51ms/step - loss: 13160.4844 - accuracy: 0.5281 - val_loss: 4199.9761 - val_accuracy: 0.6297\n",
            "Epoch 10/50\n",
            "112/112 [==============================] - ETA: 0s - loss: 10542.0635 - accuracy: 0.5476"
          ]
        },
        {
          "output_type": "stream",
          "name": "stderr",
          "text": [
            "WARNING:tensorflow:Can save best model only with val_acc available, skipping.\n"
          ]
        },
        {
          "output_type": "stream",
          "name": "stdout",
          "text": [
            "\b\b\b\b\b\b\b\b\b\b\b\b\b\b\b\b\b\b\b\b\b\b\b\b\b\b\b\b\b\b\b\b\b\b\b\b\b\b\b\b\b\b\b\b\b\b\b\b\b\b\b\b\b\b\b\b\b\b\b\b\b\b\b\b\b\b\b\b\b\b\b\b\b\b\b\b\b\b\b\b\b\b\b\b\b\b\b\b\r112/112 [==============================] - 7s 59ms/step - loss: 10542.0635 - accuracy: 0.5476 - val_loss: 39102.3359 - val_accuracy: 0.6434\n",
            "Epoch 11/50\n",
            "112/112 [==============================] - ETA: 0s - loss: 14607.7080 - accuracy: 0.5239"
          ]
        },
        {
          "output_type": "stream",
          "name": "stderr",
          "text": [
            "WARNING:tensorflow:Can save best model only with val_acc available, skipping.\n"
          ]
        },
        {
          "output_type": "stream",
          "name": "stdout",
          "text": [
            "\b\b\b\b\b\b\b\b\b\b\b\b\b\b\b\b\b\b\b\b\b\b\b\b\b\b\b\b\b\b\b\b\b\b\b\b\b\b\b\b\b\b\b\b\b\b\b\b\b\b\b\b\b\b\b\b\b\b\b\b\b\b\b\b\b\b\b\b\b\b\b\b\b\b\b\b\b\b\b\b\b\b\b\b\b\b\b\b\r112/112 [==============================] - 5s 41ms/step - loss: 14607.7080 - accuracy: 0.5239 - val_loss: 3834.2297 - val_accuracy: 0.6446\n",
            "Epoch 12/50\n",
            "111/112 [============================>.] - ETA: 0s - loss: 5672.0815 - accuracy: 0.5432"
          ]
        },
        {
          "output_type": "stream",
          "name": "stderr",
          "text": [
            "WARNING:tensorflow:Can save best model only with val_acc available, skipping.\n"
          ]
        },
        {
          "output_type": "stream",
          "name": "stdout",
          "text": [
            "\b\b\b\b\b\b\b\b\b\b\b\b\b\b\b\b\b\b\b\b\b\b\b\b\b\b\b\b\b\b\b\b\b\b\b\b\b\b\b\b\b\b\b\b\b\b\b\b\b\b\b\b\b\b\b\b\b\b\b\b\b\b\b\b\b\b\b\b\b\b\b\b\b\b\b\b\b\b\b\b\b\b\b\b\b\b\b\r112/112 [==============================] - 4s 35ms/step - loss: 5679.3545 - accuracy: 0.5435 - val_loss: 2986.8171 - val_accuracy: 0.6434\n",
            "Epoch 13/50\n",
            "111/112 [============================>.] - ETA: 0s - loss: 4316.0547 - accuracy: 0.5510"
          ]
        },
        {
          "output_type": "stream",
          "name": "stderr",
          "text": [
            "WARNING:tensorflow:Can save best model only with val_acc available, skipping.\n"
          ]
        },
        {
          "output_type": "stream",
          "name": "stdout",
          "text": [
            "\b\b\b\b\b\b\b\b\b\b\b\b\b\b\b\b\b\b\b\b\b\b\b\b\b\b\b\b\b\b\b\b\b\b\b\b\b\b\b\b\b\b\b\b\b\b\b\b\b\b\b\b\b\b\b\b\b\b\b\b\b\b\b\b\b\b\b\b\b\b\b\b\b\b\b\b\b\b\b\b\b\b\b\b\b\b\b\r112/112 [==============================] - 4s 36ms/step - loss: 4297.6313 - accuracy: 0.5511 - val_loss: 3044.1250 - val_accuracy: 0.6509\n",
            "Epoch 14/50\n",
            "111/112 [============================>.] - ETA: 0s - loss: 4614.0513 - accuracy: 0.5419"
          ]
        },
        {
          "output_type": "stream",
          "name": "stderr",
          "text": [
            "WARNING:tensorflow:Can save best model only with val_acc available, skipping.\n"
          ]
        },
        {
          "output_type": "stream",
          "name": "stdout",
          "text": [
            "\b\b\b\b\b\b\b\b\b\b\b\b\b\b\b\b\b\b\b\b\b\b\b\b\b\b\b\b\b\b\b\b\b\b\b\b\b\b\b\b\b\b\b\b\b\b\b\b\b\b\b\b\b\b\b\b\b\b\b\b\b\b\b\b\b\b\b\b\b\b\b\b\b\b\b\b\b\b\b\b\b\b\b\b\b\b\b\r112/112 [==============================] - 4s 35ms/step - loss: 4625.0093 - accuracy: 0.5406 - val_loss: 3652.3774 - val_accuracy: 0.6185\n",
            "Epoch 15/50\n",
            "111/112 [============================>.] - ETA: 0s - loss: 7976.8623 - accuracy: 0.5360"
          ]
        },
        {
          "output_type": "stream",
          "name": "stderr",
          "text": [
            "WARNING:tensorflow:Can save best model only with val_acc available, skipping.\n"
          ]
        },
        {
          "output_type": "stream",
          "name": "stdout",
          "text": [
            "\b\b\b\b\b\b\b\b\b\b\b\b\b\b\b\b\b\b\b\b\b\b\b\b\b\b\b\b\b\b\b\b\b\b\b\b\b\b\b\b\b\b\b\b\b\b\b\b\b\b\b\b\b\b\b\b\b\b\b\b\b\b\b\b\b\b\b\b\b\b\b\b\b\b\b\b\b\b\b\b\b\b\b\b\b\b\b\r112/112 [==============================] - 4s 36ms/step - loss: 7941.5762 - accuracy: 0.5364 - val_loss: 2582.0234 - val_accuracy: 0.6172\n",
            "Epoch 16/50\n",
            "112/112 [==============================] - ETA: 0s - loss: 3736.4946 - accuracy: 0.5578"
          ]
        },
        {
          "output_type": "stream",
          "name": "stderr",
          "text": [
            "WARNING:tensorflow:Can save best model only with val_acc available, skipping.\n"
          ]
        },
        {
          "output_type": "stream",
          "name": "stdout",
          "text": [
            "\b\b\b\b\b\b\b\b\b\b\b\b\b\b\b\b\b\b\b\b\b\b\b\b\b\b\b\b\b\b\b\b\b\b\b\b\b\b\b\b\b\b\b\b\b\b\b\b\b\b\b\b\b\b\b\b\b\b\b\b\b\b\b\b\b\b\b\b\b\b\b\b\b\b\b\b\b\b\b\b\b\b\b\b\b\b\b\r112/112 [==============================] - 4s 36ms/step - loss: 3736.4946 - accuracy: 0.5578 - val_loss: 3560.7053 - val_accuracy: 0.6322\n",
            "Epoch 17/50\n",
            "111/112 [============================>.] - ETA: 0s - loss: 3599.5300 - accuracy: 0.5425"
          ]
        },
        {
          "output_type": "stream",
          "name": "stderr",
          "text": [
            "WARNING:tensorflow:Can save best model only with val_acc available, skipping.\n"
          ]
        },
        {
          "output_type": "stream",
          "name": "stdout",
          "text": [
            "\b\b\b\b\b\b\b\b\b\b\b\b\b\b\b\b\b\b\b\b\b\b\b\b\b\b\b\b\b\b\b\b\b\b\b\b\b\b\b\b\b\b\b\b\b\b\b\b\b\b\b\b\b\b\b\b\b\b\b\b\b\b\b\b\b\b\b\b\b\b\b\b\b\b\b\b\b\b\b\b\b\b\b\b\b\b\b\r112/112 [==============================] - 4s 36ms/step - loss: 3597.3137 - accuracy: 0.5417 - val_loss: 3461.0632 - val_accuracy: 0.5998\n",
            "Epoch 18/50\n",
            "111/112 [============================>.] - ETA: 0s - loss: 2772.5493 - accuracy: 0.5366"
          ]
        },
        {
          "output_type": "stream",
          "name": "stderr",
          "text": [
            "WARNING:tensorflow:Can save best model only with val_acc available, skipping.\n"
          ]
        },
        {
          "output_type": "stream",
          "name": "stdout",
          "text": [
            "\b\b\b\b\b\b\b\b\b\b\b\b\b\b\b\b\b\b\b\b\b\b\b\b\b\b\b\b\b\b\b\b\b\b\b\b\b\b\b\b\b\b\b\b\b\b\b\b\b\b\b\b\b\b\b\b\b\b\b\b\b\b\b\b\b\b\b\b\b\b\b\b\b\b\b\b\b\b\b\b\b\b\b\b\b\b\b\r112/112 [==============================] - 4s 35ms/step - loss: 2767.9514 - accuracy: 0.5365 - val_loss: 1802.2909 - val_accuracy: 0.6509\n",
            "Epoch 19/50\n",
            "112/112 [==============================] - ETA: 0s - loss: 4543.9189 - accuracy: 0.5259"
          ]
        },
        {
          "output_type": "stream",
          "name": "stderr",
          "text": [
            "WARNING:tensorflow:Can save best model only with val_acc available, skipping.\n"
          ]
        },
        {
          "output_type": "stream",
          "name": "stdout",
          "text": [
            "\b\b\b\b\b\b\b\b\b\b\b\b\b\b\b\b\b\b\b\b\b\b\b\b\b\b\b\b\b\b\b\b\b\b\b\b\b\b\b\b\b\b\b\b\b\b\b\b\b\b\b\b\b\b\b\b\b\b\b\b\b\b\b\b\b\b\b\b\b\b\b\b\b\b\b\b\b\b\b\b\b\b\b\b\b\b\b\r112/112 [==============================] - 4s 36ms/step - loss: 4543.9189 - accuracy: 0.5259 - val_loss: 3127.1792 - val_accuracy: 0.5998\n",
            "Epoch 20/50\n",
            "111/112 [============================>.] - ETA: 0s - loss: 2789.7458 - accuracy: 0.5450"
          ]
        },
        {
          "output_type": "stream",
          "name": "stderr",
          "text": [
            "WARNING:tensorflow:Can save best model only with val_acc available, skipping.\n"
          ]
        },
        {
          "output_type": "stream",
          "name": "stdout",
          "text": [
            "\b\b\b\b\b\b\b\b\b\b\b\b\b\b\b\b\b\b\b\b\b\b\b\b\b\b\b\b\b\b\b\b\b\b\b\b\b\b\b\b\b\b\b\b\b\b\b\b\b\b\b\b\b\b\b\b\b\b\b\b\b\b\b\b\b\b\b\b\b\b\b\b\b\b\b\b\b\b\b\b\b\b\b\b\b\b\b\r112/112 [==============================] - 5s 44ms/step - loss: 2795.4766 - accuracy: 0.5442 - val_loss: 3482.3523 - val_accuracy: 0.5648\n",
            "Epoch 21/50\n",
            "111/112 [============================>.] - ETA: 0s - loss: 3802.6470 - accuracy: 0.5203"
          ]
        },
        {
          "output_type": "stream",
          "name": "stderr",
          "text": [
            "WARNING:tensorflow:Can save best model only with val_acc available, skipping.\n"
          ]
        },
        {
          "output_type": "stream",
          "name": "stdout",
          "text": [
            "\b\b\b\b\b\b\b\b\b\b\b\b\b\b\b\b\b\b\b\b\b\b\b\b\b\b\b\b\b\b\b\b\b\b\b\b\b\b\b\b\b\b\b\b\b\b\b\b\b\b\b\b\b\b\b\b\b\b\b\b\b\b\b\b\b\b\b\b\b\b\b\b\b\b\b\b\b\b\b\b\b\b\b\b\b\b\b\r112/112 [==============================] - 4s 36ms/step - loss: 3783.0676 - accuracy: 0.5209 - val_loss: 2953.6179 - val_accuracy: 0.6384\n",
            "Epoch 22/50\n",
            "111/112 [============================>.] - ETA: 0s - loss: 2082.2507 - accuracy: 0.5435"
          ]
        },
        {
          "output_type": "stream",
          "name": "stderr",
          "text": [
            "WARNING:tensorflow:Can save best model only with val_acc available, skipping.\n"
          ]
        },
        {
          "output_type": "stream",
          "name": "stdout",
          "text": [
            "\b\b\b\b\b\b\b\b\b\b\b\b\b\b\b\b\b\b\b\b\b\b\b\b\b\b\b\b\b\b\b\b\b\b\b\b\b\b\b\b\b\b\b\b\b\b\b\b\b\b\b\b\b\b\b\b\b\b\b\b\b\b\b\b\b\b\b\b\b\b\b\b\b\b\b\b\b\b\b\b\b\b\b\b\b\b\b\r112/112 [==============================] - 4s 35ms/step - loss: 2072.8977 - accuracy: 0.5435 - val_loss: 885.5836 - val_accuracy: 0.5998\n",
            "Epoch 23/50\n",
            "111/112 [============================>.] - ETA: 0s - loss: 13088.2334 - accuracy: 0.5127"
          ]
        },
        {
          "output_type": "stream",
          "name": "stderr",
          "text": [
            "WARNING:tensorflow:Can save best model only with val_acc available, skipping.\n"
          ]
        },
        {
          "output_type": "stream",
          "name": "stdout",
          "text": [
            "\b\b\b\b\b\b\b\b\b\b\b\b\b\b\b\b\b\b\b\b\b\b\b\b\b\b\b\b\b\b\b\b\b\b\b\b\b\b\b\b\b\b\b\b\b\b\b\b\b\b\b\b\b\b\b\b\b\b\b\b\b\b\b\b\b\b\b\b\b\b\b\b\b\b\b\b\b\b\b\b\b\b\b\b\b\b\b\b\r112/112 [==============================] - 4s 35ms/step - loss: 13033.8643 - accuracy: 0.5125 - val_loss: 5034.9180 - val_accuracy: 0.5474\n",
            "Epoch 24/50\n",
            "111/112 [============================>.] - ETA: 0s - loss: 3053.9546 - accuracy: 0.5295"
          ]
        },
        {
          "output_type": "stream",
          "name": "stderr",
          "text": [
            "WARNING:tensorflow:Can save best model only with val_acc available, skipping.\n"
          ]
        },
        {
          "output_type": "stream",
          "name": "stdout",
          "text": [
            "\b\b\b\b\b\b\b\b\b\b\b\b\b\b\b\b\b\b\b\b\b\b\b\b\b\b\b\b\b\b\b\b\b\b\b\b\b\b\b\b\b\b\b\b\b\b\b\b\b\b\b\b\b\b\b\b\b\b\b\b\b\b\b\b\b\b\b\b\b\b\b\b\b\b\b\b\b\b\b\b\b\b\b\b\b\b\b\r112/112 [==============================] - 4s 36ms/step - loss: 3053.6772 - accuracy: 0.5304 - val_loss: 1734.7577 - val_accuracy: 0.5436\n",
            "Epoch 25/50\n",
            "111/112 [============================>.] - ETA: 0s - loss: 1951.0159 - accuracy: 0.5219"
          ]
        },
        {
          "output_type": "stream",
          "name": "stderr",
          "text": [
            "WARNING:tensorflow:Can save best model only with val_acc available, skipping.\n"
          ]
        },
        {
          "output_type": "stream",
          "name": "stdout",
          "text": [
            "\b\b\b\b\b\b\b\b\b\b\b\b\b\b\b\b\b\b\b\b\b\b\b\b\b\b\b\b\b\b\b\b\b\b\b\b\b\b\b\b\b\b\b\b\b\b\b\b\b\b\b\b\b\b\b\b\b\b\b\b\b\b\b\b\b\b\b\b\b\b\b\b\b\b\b\b\b\b\b\b\b\b\b\b\b\b\b\r112/112 [==============================] - 4s 35ms/step - loss: 1968.0902 - accuracy: 0.5229 - val_loss: 2017.2831 - val_accuracy: 0.6434\n",
            "Epoch 26/50\n",
            "111/112 [============================>.] - ETA: 0s - loss: 1297.0715 - accuracy: 0.5515"
          ]
        },
        {
          "output_type": "stream",
          "name": "stderr",
          "text": [
            "WARNING:tensorflow:Can save best model only with val_acc available, skipping.\n"
          ]
        },
        {
          "output_type": "stream",
          "name": "stdout",
          "text": [
            "\b\b\b\b\b\b\b\b\b\b\b\b\b\b\b\b\b\b\b\b\b\b\b\b\b\b\b\b\b\b\b\b\b\b\b\b\b\b\b\b\b\b\b\b\b\b\b\b\b\b\b\b\b\b\b\b\b\b\b\b\b\b\b\b\b\b\b\b\b\b\b\b\b\b\b\b\b\b\b\b\b\b\b\b\b\b\b\r112/112 [==============================] - 4s 36ms/step - loss: 1291.4581 - accuracy: 0.5522 - val_loss: 927.8398 - val_accuracy: 0.6372\n",
            "Epoch 27/50\n",
            "111/112 [============================>.] - ETA: 0s - loss: 1494.5461 - accuracy: 0.5301"
          ]
        },
        {
          "output_type": "stream",
          "name": "stderr",
          "text": [
            "WARNING:tensorflow:Can save best model only with val_acc available, skipping.\n"
          ]
        },
        {
          "output_type": "stream",
          "name": "stdout",
          "text": [
            "\b\b\b\b\b\b\b\b\b\b\b\b\b\b\b\b\b\b\b\b\b\b\b\b\b\b\b\b\b\b\b\b\b\b\b\b\b\b\b\b\b\b\b\b\b\b\b\b\b\b\b\b\b\b\b\b\b\b\b\b\b\b\b\b\b\b\b\b\b\b\b\b\b\b\b\b\b\b\b\b\b\b\b\b\b\b\b\r112/112 [==============================] - 4s 36ms/step - loss: 1490.1403 - accuracy: 0.5295 - val_loss: 1376.2360 - val_accuracy: 0.6284\n",
            "Epoch 28/50\n",
            "111/112 [============================>.] - ETA: 0s - loss: 1695.2784 - accuracy: 0.5350"
          ]
        },
        {
          "output_type": "stream",
          "name": "stderr",
          "text": [
            "WARNING:tensorflow:Can save best model only with val_acc available, skipping.\n"
          ]
        },
        {
          "output_type": "stream",
          "name": "stdout",
          "text": [
            "\b\b\b\b\b\b\b\b\b\b\b\b\b\b\b\b\b\b\b\b\b\b\b\b\b\b\b\b\b\b\b\b\b\b\b\b\b\b\b\b\b\b\b\b\b\b\b\b\b\b\b\b\b\b\b\b\b\b\b\b\b\b\b\b\b\b\b\b\b\b\b\b\b\b\b\b\b\b\b\b\b\b\b\b\b\b\b\r112/112 [==============================] - 4s 37ms/step - loss: 1683.3566 - accuracy: 0.5357 - val_loss: 1272.1300 - val_accuracy: 0.6434\n",
            "Epoch 29/50\n",
            "111/112 [============================>.] - ETA: 0s - loss: 1084.7382 - accuracy: 0.5452"
          ]
        },
        {
          "output_type": "stream",
          "name": "stderr",
          "text": [
            "WARNING:tensorflow:Can save best model only with val_acc available, skipping.\n"
          ]
        },
        {
          "output_type": "stream",
          "name": "stdout",
          "text": [
            "\b\b\b\b\b\b\b\b\b\b\b\b\b\b\b\b\b\b\b\b\b\b\b\b\b\b\b\b\b\b\b\b\b\b\b\b\b\b\b\b\b\b\b\b\b\b\b\b\b\b\b\b\b\b\b\b\b\b\b\b\b\b\b\b\b\b\b\b\b\b\b\b\b\b\b\b\b\b\b\b\b\b\b\b\b\b\b\r112/112 [==============================] - 4s 35ms/step - loss: 1078.0122 - accuracy: 0.5451 - val_loss: 490.9701 - val_accuracy: 0.6234\n",
            "Epoch 30/50\n",
            "111/112 [============================>.] - ETA: 0s - loss: 1527.9307 - accuracy: 0.5367"
          ]
        },
        {
          "output_type": "stream",
          "name": "stderr",
          "text": [
            "WARNING:tensorflow:Can save best model only with val_acc available, skipping.\n"
          ]
        },
        {
          "output_type": "stream",
          "name": "stdout",
          "text": [
            "\b\b\b\b\b\b\b\b\b\b\b\b\b\b\b\b\b\b\b\b\b\b\b\b\b\b\b\b\b\b\b\b\b\b\b\b\b\b\b\b\b\b\b\b\b\b\b\b\b\b\b\b\b\b\b\b\b\b\b\b\b\b\b\b\b\b\b\b\b\b\b\b\b\b\b\b\b\b\b\b\b\b\b\b\b\b\b\r112/112 [==============================] - 4s 36ms/step - loss: 1522.7761 - accuracy: 0.5367 - val_loss: 1733.5161 - val_accuracy: 0.6284\n",
            "Epoch 31/50\n",
            "111/112 [============================>.] - ETA: 0s - loss: 1692.8151 - accuracy: 0.5271"
          ]
        },
        {
          "output_type": "stream",
          "name": "stderr",
          "text": [
            "WARNING:tensorflow:Can save best model only with val_acc available, skipping.\n"
          ]
        },
        {
          "output_type": "stream",
          "name": "stdout",
          "text": [
            "\b\b\b\b\b\b\b\b\b\b\b\b\b\b\b\b\b\b\b\b\b\b\b\b\b\b\b\b\b\b\b\b\b\b\b\b\b\b\b\b\b\b\b\b\b\b\b\b\b\b\b\b\b\b\b\b\b\b\b\b\b\b\b\b\b\b\b\b\b\b\b\b\b\b\b\b\b\b\b\b\b\b\b\b\b\b\b\r112/112 [==============================] - 4s 35ms/step - loss: 1719.2306 - accuracy: 0.5278 - val_loss: 7217.9658 - val_accuracy: 0.6397\n",
            "Epoch 32/50\n",
            "111/112 [============================>.] - ETA: 0s - loss: 2531.4326 - accuracy: 0.5306"
          ]
        },
        {
          "output_type": "stream",
          "name": "stderr",
          "text": [
            "WARNING:tensorflow:Can save best model only with val_acc available, skipping.\n"
          ]
        },
        {
          "output_type": "stream",
          "name": "stdout",
          "text": [
            "\b\b\b\b\b\b\b\b\b\b\b\b\b\b\b\b\b\b\b\b\b\b\b\b\b\b\b\b\b\b\b\b\b\b\b\b\b\b\b\b\b\b\b\b\b\b\b\b\b\b\b\b\b\b\b\b\b\b\b\b\b\b\b\b\b\b\b\b\b\b\b\b\b\b\b\b\b\b\b\b\b\b\b\b\b\b\b\r112/112 [==============================] - 4s 36ms/step - loss: 2518.6101 - accuracy: 0.5311 - val_loss: 671.0042 - val_accuracy: 0.6559\n",
            "Epoch 33/50\n",
            "111/112 [============================>.] - ETA: 0s - loss: 1525.8252 - accuracy: 0.5261"
          ]
        },
        {
          "output_type": "stream",
          "name": "stderr",
          "text": [
            "WARNING:tensorflow:Can save best model only with val_acc available, skipping.\n"
          ]
        },
        {
          "output_type": "stream",
          "name": "stdout",
          "text": [
            "\b\b\b\b\b\b\b\b\b\b\b\b\b\b\b\b\b\b\b\b\b\b\b\b\b\b\b\b\b\b\b\b\b\b\b\b\b\b\b\b\b\b\b\b\b\b\b\b\b\b\b\b\b\b\b\b\b\b\b\b\b\b\b\b\b\b\b\b\b\b\b\b\b\b\b\b\b\b\b\b\b\b\b\b\b\b\b\r112/112 [==============================] - 4s 36ms/step - loss: 1523.0048 - accuracy: 0.5266 - val_loss: 1555.2393 - val_accuracy: 0.6434\n",
            "Epoch 34/50\n",
            "111/112 [============================>.] - ETA: 0s - loss: 1148.6162 - accuracy: 0.5374"
          ]
        },
        {
          "output_type": "stream",
          "name": "stderr",
          "text": [
            "WARNING:tensorflow:Can save best model only with val_acc available, skipping.\n"
          ]
        },
        {
          "output_type": "stream",
          "name": "stdout",
          "text": [
            "\b\b\b\b\b\b\b\b\b\b\b\b\b\b\b\b\b\b\b\b\b\b\b\b\b\b\b\b\b\b\b\b\b\b\b\b\b\b\b\b\b\b\b\b\b\b\b\b\b\b\b\b\b\b\b\b\b\b\b\b\b\b\b\b\b\b\b\b\b\b\b\b\b\b\b\b\b\b\b\b\b\b\b\b\b\b\b\r112/112 [==============================] - 4s 36ms/step - loss: 1141.7533 - accuracy: 0.5372 - val_loss: 1084.7823 - val_accuracy: 0.6334\n",
            "Epoch 35/50\n",
            "111/112 [============================>.] - ETA: 0s - loss: 1569.0547 - accuracy: 0.5216"
          ]
        },
        {
          "output_type": "stream",
          "name": "stderr",
          "text": [
            "WARNING:tensorflow:Can save best model only with val_acc available, skipping.\n"
          ]
        },
        {
          "output_type": "stream",
          "name": "stdout",
          "text": [
            "\b\b\b\b\b\b\b\b\b\b\b\b\b\b\b\b\b\b\b\b\b\b\b\b\b\b\b\b\b\b\b\b\b\b\b\b\b\b\b\b\b\b\b\b\b\b\b\b\b\b\b\b\b\b\b\b\b\b\b\b\b\b\b\b\b\b\b\b\b\b\b\b\b\b\b\b\b\b\b\b\b\b\b\b\b\b\b\r112/112 [==============================] - 4s 35ms/step - loss: 1573.6860 - accuracy: 0.5225 - val_loss: 824.8815 - val_accuracy: 0.6397\n",
            "Epoch 36/50\n",
            "111/112 [============================>.] - ETA: 0s - loss: 2382.6350 - accuracy: 0.5178"
          ]
        },
        {
          "output_type": "stream",
          "name": "stderr",
          "text": [
            "WARNING:tensorflow:Can save best model only with val_acc available, skipping.\n"
          ]
        },
        {
          "output_type": "stream",
          "name": "stdout",
          "text": [
            "\b\b\b\b\b\b\b\b\b\b\b\b\b\b\b\b\b\b\b\b\b\b\b\b\b\b\b\b\b\b\b\b\b\b\b\b\b\b\b\b\b\b\b\b\b\b\b\b\b\b\b\b\b\b\b\b\b\b\b\b\b\b\b\b\b\b\b\b\b\b\b\b\b\b\b\b\b\b\b\b\b\b\b\b\b\b\b\r112/112 [==============================] - 4s 36ms/step - loss: 2406.8391 - accuracy: 0.5164 - val_loss: 2721.5818 - val_accuracy: 0.6309\n",
            "Epoch 37/50\n",
            "111/112 [============================>.] - ETA: 0s - loss: 1642.6204 - accuracy: 0.5310"
          ]
        },
        {
          "output_type": "stream",
          "name": "stderr",
          "text": [
            "WARNING:tensorflow:Can save best model only with val_acc available, skipping.\n"
          ]
        },
        {
          "output_type": "stream",
          "name": "stdout",
          "text": [
            "\b\b\b\b\b\b\b\b\b\b\b\b\b\b\b\b\b\b\b\b\b\b\b\b\b\b\b\b\b\b\b\b\b\b\b\b\b\b\b\b\b\b\b\b\b\b\b\b\b\b\b\b\b\b\b\b\b\b\b\b\b\b\b\b\b\b\b\b\b\b\b\b\b\b\b\b\b\b\b\b\b\b\b\b\b\b\b\r112/112 [==============================] - 4s 35ms/step - loss: 1634.9500 - accuracy: 0.5321 - val_loss: 912.8959 - val_accuracy: 0.6085\n",
            "Epoch 38/50\n",
            "111/112 [============================>.] - ETA: 0s - loss: 1414.3773 - accuracy: 0.5249"
          ]
        },
        {
          "output_type": "stream",
          "name": "stderr",
          "text": [
            "WARNING:tensorflow:Can save best model only with val_acc available, skipping.\n"
          ]
        },
        {
          "output_type": "stream",
          "name": "stdout",
          "text": [
            "\b\b\b\b\b\b\b\b\b\b\b\b\b\b\b\b\b\b\b\b\b\b\b\b\b\b\b\b\b\b\b\b\b\b\b\b\b\b\b\b\b\b\b\b\b\b\b\b\b\b\b\b\b\b\b\b\b\b\b\b\b\b\b\b\b\b\b\b\b\b\b\b\b\b\b\b\b\b\b\b\b\b\b\b\b\b\b\r112/112 [==============================] - 4s 36ms/step - loss: 1410.6761 - accuracy: 0.5257 - val_loss: 1450.6744 - val_accuracy: 0.6421\n",
            "Epoch 39/50\n",
            "111/112 [============================>.] - ETA: 0s - loss: 2023.6199 - accuracy: 0.5199"
          ]
        },
        {
          "output_type": "stream",
          "name": "stderr",
          "text": [
            "WARNING:tensorflow:Can save best model only with val_acc available, skipping.\n"
          ]
        },
        {
          "output_type": "stream",
          "name": "stdout",
          "text": [
            "\b\b\b\b\b\b\b\b\b\b\b\b\b\b\b\b\b\b\b\b\b\b\b\b\b\b\b\b\b\b\b\b\b\b\b\b\b\b\b\b\b\b\b\b\b\b\b\b\b\b\b\b\b\b\b\b\b\b\b\b\b\b\b\b\b\b\b\b\b\b\b\b\b\b\b\b\b\b\b\b\b\b\b\b\b\b\b\r112/112 [==============================] - 4s 35ms/step - loss: 2016.5350 - accuracy: 0.5193 - val_loss: 1555.4109 - val_accuracy: 0.6434\n",
            "Epoch 40/50\n",
            "112/112 [==============================] - ETA: 0s - loss: 1116.7197 - accuracy: 0.5402"
          ]
        },
        {
          "output_type": "stream",
          "name": "stderr",
          "text": [
            "WARNING:tensorflow:Can save best model only with val_acc available, skipping.\n"
          ]
        },
        {
          "output_type": "stream",
          "name": "stdout",
          "text": [
            "\b\b\b\b\b\b\b\b\b\b\b\b\b\b\b\b\b\b\b\b\b\b\b\b\b\b\b\b\b\b\b\b\b\b\b\b\b\b\b\b\b\b\b\b\b\b\b\b\b\b\b\b\b\b\b\b\b\b\b\b\b\b\b\b\b\b\b\b\b\b\b\b\b\b\b\b\b\b\b\b\b\b\b\b\b\b\b\r112/112 [==============================] - 4s 36ms/step - loss: 1116.7197 - accuracy: 0.5402 - val_loss: 2092.3667 - val_accuracy: 0.5574\n",
            "Epoch 41/50\n",
            "112/112 [==============================] - ETA: 0s - loss: 132635860992.0000 - accuracy: 0.4503"
          ]
        },
        {
          "output_type": "stream",
          "name": "stderr",
          "text": [
            "WARNING:tensorflow:Can save best model only with val_acc available, skipping.\n"
          ]
        },
        {
          "output_type": "stream",
          "name": "stdout",
          "text": [
            "\b\b\b\b\b\b\b\b\b\b\b\b\b\b\b\b\b\b\b\b\b\b\b\b\b\b\b\b\b\b\b\b\b\b\b\b\b\b\b\b\b\b\b\b\b\b\b\b\b\b\b\b\b\b\b\b\b\b\b\b\b\b\b\b\b\b\b\b\b\b\b\b\b\b\b\b\b\b\b\b\b\b\b\b\b\b\b\b\b\b\b\b\b\b\b\r112/112 [==============================] - 4s 37ms/step - loss: 132635860992.0000 - accuracy: 0.4503 - val_loss: 26012602368.0000 - val_accuracy: 0.5698\n",
            "Epoch 42/50\n",
            "111/112 [============================>.] - ETA: 0s - loss: 7204926464.0000 - accuracy: 0.5161"
          ]
        },
        {
          "output_type": "stream",
          "name": "stderr",
          "text": [
            "WARNING:tensorflow:Can save best model only with val_acc available, skipping.\n"
          ]
        },
        {
          "output_type": "stream",
          "name": "stdout",
          "text": [
            "\b\b\b\b\b\b\b\b\b\b\b\b\b\b\b\b\b\b\b\b\b\b\b\b\b\b\b\b\b\b\b\b\b\b\b\b\b\b\b\b\b\b\b\b\b\b\b\b\b\b\b\b\b\b\b\b\b\b\b\b\b\b\b\b\b\b\b\b\b\b\b\b\b\b\b\b\b\b\b\b\b\b\b\b\b\b\b\b\b\b\b\b\b\r112/112 [==============================] - 4s 35ms/step - loss: 7163896832.0000 - accuracy: 0.5169 - val_loss: 1703500928.0000 - val_accuracy: 0.6384\n",
            "Epoch 43/50\n",
            "111/112 [============================>.] - ETA: 0s - loss: 1073868672.0000 - accuracy: 0.5497"
          ]
        },
        {
          "output_type": "stream",
          "name": "stderr",
          "text": [
            "WARNING:tensorflow:Can save best model only with val_acc available, skipping.\n"
          ]
        },
        {
          "output_type": "stream",
          "name": "stdout",
          "text": [
            "\b\b\b\b\b\b\b\b\b\b\b\b\b\b\b\b\b\b\b\b\b\b\b\b\b\b\b\b\b\b\b\b\b\b\b\b\b\b\b\b\b\b\b\b\b\b\b\b\b\b\b\b\b\b\b\b\b\b\b\b\b\b\b\b\b\b\b\b\b\b\b\b\b\b\b\b\b\b\b\b\b\b\b\b\b\b\b\b\b\b\b\b\b\r112/112 [==============================] - 4s 36ms/step - loss: 1072278336.0000 - accuracy: 0.5486 - val_loss: 462303488.0000 - val_accuracy: 0.5549\n",
            "Epoch 44/50\n",
            "111/112 [============================>.] - ETA: 0s - loss: 565210624.0000 - accuracy: 0.5551"
          ]
        },
        {
          "output_type": "stream",
          "name": "stderr",
          "text": [
            "WARNING:tensorflow:Can save best model only with val_acc available, skipping.\n"
          ]
        },
        {
          "output_type": "stream",
          "name": "stdout",
          "text": [
            "\b\b\b\b\b\b\b\b\b\b\b\b\b\b\b\b\b\b\b\b\b\b\b\b\b\b\b\b\b\b\b\b\b\b\b\b\b\b\b\b\b\b\b\b\b\b\b\b\b\b\b\b\b\b\b\b\b\b\b\b\b\b\b\b\b\b\b\b\b\b\b\b\b\b\b\b\b\b\b\b\b\b\b\b\b\b\b\b\b\b\b\b\r112/112 [==============================] - 4s 36ms/step - loss: 563547008.0000 - accuracy: 0.5553 - val_loss: 324758112.0000 - val_accuracy: 0.5661\n",
            "Epoch 45/50\n",
            "111/112 [============================>.] - ETA: 0s - loss: 424516416.0000 - accuracy: 0.5521"
          ]
        },
        {
          "output_type": "stream",
          "name": "stderr",
          "text": [
            "WARNING:tensorflow:Can save best model only with val_acc available, skipping.\n"
          ]
        },
        {
          "output_type": "stream",
          "name": "stdout",
          "text": [
            "\b\b\b\b\b\b\b\b\b\b\b\b\b\b\b\b\b\b\b\b\b\b\b\b\b\b\b\b\b\b\b\b\b\b\b\b\b\b\b\b\b\b\b\b\b\b\b\b\b\b\b\b\b\b\b\b\b\b\b\b\b\b\b\b\b\b\b\b\b\b\b\b\b\b\b\b\b\b\b\b\b\b\b\b\b\b\b\b\b\b\b\b\r112/112 [==============================] - 4s 36ms/step - loss: 424072544.0000 - accuracy: 0.5525 - val_loss: 171404480.0000 - val_accuracy: 0.5935\n",
            "Epoch 46/50\n",
            "111/112 [============================>.] - ETA: 0s - loss: 329165632.0000 - accuracy: 0.5438"
          ]
        },
        {
          "output_type": "stream",
          "name": "stderr",
          "text": [
            "WARNING:tensorflow:Can save best model only with val_acc available, skipping.\n"
          ]
        },
        {
          "output_type": "stream",
          "name": "stdout",
          "text": [
            "\b\b\b\b\b\b\b\b\b\b\b\b\b\b\b\b\b\b\b\b\b\b\b\b\b\b\b\b\b\b\b\b\b\b\b\b\b\b\b\b\b\b\b\b\b\b\b\b\b\b\b\b\b\b\b\b\b\b\b\b\b\b\b\b\b\b\b\b\b\b\b\b\b\b\b\b\b\b\b\b\b\b\b\b\b\b\b\b\b\b\b\b\r112/112 [==============================] - 4s 36ms/step - loss: 328358112.0000 - accuracy: 0.5441 - val_loss: 132789512.0000 - val_accuracy: 0.5998\n",
            "Epoch 47/50\n",
            "111/112 [============================>.] - ETA: 0s - loss: 248919168.0000 - accuracy: 0.5508"
          ]
        },
        {
          "output_type": "stream",
          "name": "stderr",
          "text": [
            "WARNING:tensorflow:Can save best model only with val_acc available, skipping.\n"
          ]
        },
        {
          "output_type": "stream",
          "name": "stdout",
          "text": [
            "\b\b\b\b\b\b\b\b\b\b\b\b\b\b\b\b\b\b\b\b\b\b\b\b\b\b\b\b\b\b\b\b\b\b\b\b\b\b\b\b\b\b\b\b\b\b\b\b\b\b\b\b\b\b\b\b\b\b\b\b\b\b\b\b\b\b\b\b\b\b\b\b\b\b\b\b\b\b\b\b\b\b\b\b\b\b\b\b\b\b\b\b\r112/112 [==============================] - 4s 35ms/step - loss: 249011504.0000 - accuracy: 0.5509 - val_loss: 178911584.0000 - val_accuracy: 0.6434\n",
            "Epoch 48/50\n",
            "111/112 [============================>.] - ETA: 0s - loss: 209648720.0000 - accuracy: 0.5530"
          ]
        },
        {
          "output_type": "stream",
          "name": "stderr",
          "text": [
            "WARNING:tensorflow:Can save best model only with val_acc available, skipping.\n"
          ]
        },
        {
          "output_type": "stream",
          "name": "stdout",
          "text": [
            "\b\b\b\b\b\b\b\b\b\b\b\b\b\b\b\b\b\b\b\b\b\b\b\b\b\b\b\b\b\b\b\b\b\b\b\b\b\b\b\b\b\b\b\b\b\b\b\b\b\b\b\b\b\b\b\b\b\b\b\b\b\b\b\b\b\b\b\b\b\b\b\b\b\b\b\b\b\b\b\b\b\b\b\b\b\b\b\b\b\b\b\b\r112/112 [==============================] - 4s 36ms/step - loss: 210148688.0000 - accuracy: 0.5525 - val_loss: 156601280.0000 - val_accuracy: 0.6434\n",
            "Epoch 49/50\n",
            "111/112 [============================>.] - ETA: 0s - loss: 168377936.0000 - accuracy: 0.5554"
          ]
        },
        {
          "output_type": "stream",
          "name": "stderr",
          "text": [
            "WARNING:tensorflow:Can save best model only with val_acc available, skipping.\n"
          ]
        },
        {
          "output_type": "stream",
          "name": "stdout",
          "text": [
            "\b\b\b\b\b\b\b\b\b\b\b\b\b\b\b\b\b\b\b\b\b\b\b\b\b\b\b\b\b\b\b\b\b\b\b\b\b\b\b\b\b\b\b\b\b\b\b\b\b\b\b\b\b\b\b\b\b\b\b\b\b\b\b\b\b\b\b\b\b\b\b\b\b\b\b\b\b\b\b\b\b\b\b\b\b\b\b\b\b\b\b\b\r112/112 [==============================] - 4s 35ms/step - loss: 168243872.0000 - accuracy: 0.5546 - val_loss: 101173640.0000 - val_accuracy: 0.6222\n",
            "Epoch 50/50\n",
            "111/112 [============================>.] - ETA: 0s - loss: 134134000.0000 - accuracy: 0.5506"
          ]
        },
        {
          "output_type": "stream",
          "name": "stderr",
          "text": [
            "WARNING:tensorflow:Can save best model only with val_acc available, skipping.\n"
          ]
        },
        {
          "output_type": "stream",
          "name": "stdout",
          "text": [
            "\b\b\b\b\b\b\b\b\b\b\b\b\b\b\b\b\b\b\b\b\b\b\b\b\b\b\b\b\b\b\b\b\b\b\b\b\b\b\b\b\b\b\b\b\b\b\b\b\b\b\b\b\b\b\b\b\b\b\b\b\b\b\b\b\b\b\b\b\b\b\b\b\b\b\b\b\b\b\b\b\b\b\b\b\b\b\b\b\b\b\b\b\r112/112 [==============================] - 4s 36ms/step - loss: 133858200.0000 - accuracy: 0.5505 - val_loss: 114233392.0000 - val_accuracy: 0.6384\n"
          ]
        }
      ]
    },
    {
      "cell_type": "code",
      "source": [
        "# Define the optimizer\n",
        "optimizer = Adam(learning_rate=0.01)\n",
        "# Compile the model\n",
        "model.compile(optimizer = optimizer , loss = \"categorical_crossentropy\", metrics=[\"accuracy\"])\n",
        "\n",
        "\n",
        "\n",
        "# Fit the model\n",
        "epochs = 50 \n",
        "batch_size = 64\n",
        "history_001= model.fit_generator(datagen.flow(x_train,y_train, batch_size=batch_size),\n",
        "                              epochs = epochs, validation_data = (x_validate,y_validate),\n",
        "                              verbose = 1, steps_per_epoch=x_train.shape[0] // batch_size\n",
        "                              , callbacks=[checkpoint])"
      ],
      "metadata": {
        "colab": {
          "base_uri": "https://localhost:8080/"
        },
        "id": "w7AKrlgLiMgL",
        "outputId": "39ff45c4-72fe-4fb8-ac41-e5efddc2f345"
      },
      "execution_count": 20,
      "outputs": [
        {
          "output_type": "stream",
          "name": "stdout",
          "text": [
            "Epoch 1/50\n"
          ]
        },
        {
          "output_type": "stream",
          "name": "stderr",
          "text": [
            "<ipython-input-20-ba94a245dfd9>:11: UserWarning: `Model.fit_generator` is deprecated and will be removed in a future version. Please use `Model.fit`, which supports generators.\n",
            "  history_001= model.fit_generator(datagen.flow(x_train,y_train, batch_size=batch_size),\n"
          ]
        },
        {
          "output_type": "stream",
          "name": "stdout",
          "text": [
            "111/112 [============================>.] - ETA: 0s - loss: 149755104.0000 - accuracy: 0.5425"
          ]
        },
        {
          "output_type": "stream",
          "name": "stderr",
          "text": [
            "WARNING:tensorflow:Can save best model only with val_acc available, skipping.\n"
          ]
        },
        {
          "output_type": "stream",
          "name": "stdout",
          "text": [
            "\b\b\b\b\b\b\b\b\b\b\b\b\b\b\b\b\b\b\b\b\b\b\b\b\b\b\b\b\b\b\b\b\b\b\b\b\b\b\b\b\b\b\b\b\b\b\b\b\b\b\b\b\b\b\b\b\b\b\b\b\b\b\b\b\b\b\b\b\b\b\b\b\b\b\b\b\b\b\b\b\b\b\b\b\b\b\b\b\b\b\b\b\r112/112 [==============================] - 5s 37ms/step - loss: 149052688.0000 - accuracy: 0.5430 - val_loss: 47482700.0000 - val_accuracy: 0.6384\n",
            "Epoch 2/50\n",
            "111/112 [============================>.] - ETA: 0s - loss: 67944736.0000 - accuracy: 0.5515"
          ]
        },
        {
          "output_type": "stream",
          "name": "stderr",
          "text": [
            "WARNING:tensorflow:Can save best model only with val_acc available, skipping.\n"
          ]
        },
        {
          "output_type": "stream",
          "name": "stdout",
          "text": [
            "\b\b\b\b\b\b\b\b\b\b\b\b\b\b\b\b\b\b\b\b\b\b\b\b\b\b\b\b\b\b\b\b\b\b\b\b\b\b\b\b\b\b\b\b\b\b\b\b\b\b\b\b\b\b\b\b\b\b\b\b\b\b\b\b\b\b\b\b\b\b\b\b\b\b\b\b\b\b\b\b\b\b\b\b\b\b\b\b\b\b\b\r112/112 [==============================] - 4s 36ms/step - loss: 67842448.0000 - accuracy: 0.5516 - val_loss: 39222816.0000 - val_accuracy: 0.6297\n",
            "Epoch 3/50\n",
            "111/112 [============================>.] - ETA: 0s - loss: 47367304.0000 - accuracy: 0.5517"
          ]
        },
        {
          "output_type": "stream",
          "name": "stderr",
          "text": [
            "WARNING:tensorflow:Can save best model only with val_acc available, skipping.\n"
          ]
        },
        {
          "output_type": "stream",
          "name": "stdout",
          "text": [
            "\b\b\b\b\b\b\b\b\b\b\b\b\b\b\b\b\b\b\b\b\b\b\b\b\b\b\b\b\b\b\b\b\b\b\b\b\b\b\b\b\b\b\b\b\b\b\b\b\b\b\b\b\b\b\b\b\b\b\b\b\b\b\b\b\b\b\b\b\b\b\b\b\b\b\b\b\b\b\b\b\b\b\b\b\b\b\b\b\b\b\b\r112/112 [==============================] - 4s 35ms/step - loss: 47510032.0000 - accuracy: 0.5518 - val_loss: 33355700.0000 - val_accuracy: 0.6372\n",
            "Epoch 4/50\n",
            "111/112 [============================>.] - ETA: 0s - loss: 33960620.0000 - accuracy: 0.5503"
          ]
        },
        {
          "output_type": "stream",
          "name": "stderr",
          "text": [
            "WARNING:tensorflow:Can save best model only with val_acc available, skipping.\n"
          ]
        },
        {
          "output_type": "stream",
          "name": "stdout",
          "text": [
            "\b\b\b\b\b\b\b\b\b\b\b\b\b\b\b\b\b\b\b\b\b\b\b\b\b\b\b\b\b\b\b\b\b\b\b\b\b\b\b\b\b\b\b\b\b\b\b\b\b\b\b\b\b\b\b\b\b\b\b\b\b\b\b\b\b\b\b\b\b\b\b\b\b\b\b\b\b\b\b\b\b\b\b\b\b\b\b\b\b\b\b\r112/112 [==============================] - 4s 36ms/step - loss: 34016432.0000 - accuracy: 0.5494 - val_loss: 24035668.0000 - val_accuracy: 0.6421\n",
            "Epoch 5/50\n",
            "111/112 [============================>.] - ETA: 0s - loss: 32746258.0000 - accuracy: 0.5469"
          ]
        },
        {
          "output_type": "stream",
          "name": "stderr",
          "text": [
            "WARNING:tensorflow:Can save best model only with val_acc available, skipping.\n"
          ]
        },
        {
          "output_type": "stream",
          "name": "stdout",
          "text": [
            "\b\b\b\b\b\b\b\b\b\b\b\b\b\b\b\b\b\b\b\b\b\b\b\b\b\b\b\b\b\b\b\b\b\b\b\b\b\b\b\b\b\b\b\b\b\b\b\b\b\b\b\b\b\b\b\b\b\b\b\b\b\b\b\b\b\b\b\b\b\b\b\b\b\b\b\b\b\b\b\b\b\b\b\b\b\b\b\b\b\b\b\r112/112 [==============================] - 4s 36ms/step - loss: 32550206.0000 - accuracy: 0.5483 - val_loss: 18174036.0000 - val_accuracy: 0.6446\n",
            "Epoch 6/50\n",
            "111/112 [============================>.] - ETA: 0s - loss: 21260546.0000 - accuracy: 0.5555"
          ]
        },
        {
          "output_type": "stream",
          "name": "stderr",
          "text": [
            "WARNING:tensorflow:Can save best model only with val_acc available, skipping.\n"
          ]
        },
        {
          "output_type": "stream",
          "name": "stdout",
          "text": [
            "\b\b\b\b\b\b\b\b\b\b\b\b\b\b\b\b\b\b\b\b\b\b\b\b\b\b\b\b\b\b\b\b\b\b\b\b\b\b\b\b\b\b\b\b\b\b\b\b\b\b\b\b\b\b\b\b\b\b\b\b\b\b\b\b\b\b\b\b\b\b\b\b\b\b\b\b\b\b\b\b\b\b\b\b\b\b\b\b\b\b\b\r112/112 [==============================] - 4s 36ms/step - loss: 21206766.0000 - accuracy: 0.5560 - val_loss: 9978153.0000 - val_accuracy: 0.6372\n",
            "Epoch 7/50\n",
            "111/112 [============================>.] - ETA: 0s - loss: 16649833.0000 - accuracy: 0.5486"
          ]
        },
        {
          "output_type": "stream",
          "name": "stderr",
          "text": [
            "WARNING:tensorflow:Can save best model only with val_acc available, skipping.\n"
          ]
        },
        {
          "output_type": "stream",
          "name": "stdout",
          "text": [
            "\b\b\b\b\b\b\b\b\b\b\b\b\b\b\b\b\b\b\b\b\b\b\b\b\b\b\b\b\b\b\b\b\b\b\b\b\b\b\b\b\b\b\b\b\b\b\b\b\b\b\b\b\b\b\b\b\b\b\b\b\b\b\b\b\b\b\b\b\b\b\b\b\b\b\b\b\b\b\b\b\b\b\b\b\b\b\b\b\b\b\b\r112/112 [==============================] - 4s 36ms/step - loss: 16641595.0000 - accuracy: 0.5474 - val_loss: 14634716.0000 - val_accuracy: 0.6397\n",
            "Epoch 8/50\n",
            "111/112 [============================>.] - ETA: 0s - loss: 14242139.0000 - accuracy: 0.5546"
          ]
        },
        {
          "output_type": "stream",
          "name": "stderr",
          "text": [
            "WARNING:tensorflow:Can save best model only with val_acc available, skipping.\n"
          ]
        },
        {
          "output_type": "stream",
          "name": "stdout",
          "text": [
            "\b\b\b\b\b\b\b\b\b\b\b\b\b\b\b\b\b\b\b\b\b\b\b\b\b\b\b\b\b\b\b\b\b\b\b\b\b\b\b\b\b\b\b\b\b\b\b\b\b\b\b\b\b\b\b\b\b\b\b\b\b\b\b\b\b\b\b\b\b\b\b\b\b\b\b\b\b\b\b\b\b\b\b\b\b\b\b\b\b\b\b\r112/112 [==============================] - 4s 36ms/step - loss: 14278360.0000 - accuracy: 0.5542 - val_loss: 9594256.0000 - val_accuracy: 0.6459\n",
            "Epoch 9/50\n",
            "111/112 [============================>.] - ETA: 0s - loss: 12382968.0000 - accuracy: 0.5421"
          ]
        },
        {
          "output_type": "stream",
          "name": "stderr",
          "text": [
            "WARNING:tensorflow:Can save best model only with val_acc available, skipping.\n"
          ]
        },
        {
          "output_type": "stream",
          "name": "stdout",
          "text": [
            "\b\b\b\b\b\b\b\b\b\b\b\b\b\b\b\b\b\b\b\b\b\b\b\b\b\b\b\b\b\b\b\b\b\b\b\b\b\b\b\b\b\b\b\b\b\b\b\b\b\b\b\b\b\b\b\b\b\b\b\b\b\b\b\b\b\b\b\b\b\b\b\b\b\b\b\b\b\b\b\b\b\b\b\b\b\b\b\b\b\b\b\r112/112 [==============================] - 4s 36ms/step - loss: 12390598.0000 - accuracy: 0.5423 - val_loss: 4286696.5000 - val_accuracy: 0.6521\n",
            "Epoch 10/50\n",
            "111/112 [============================>.] - ETA: 0s - loss: 9631646.0000 - accuracy: 0.5528"
          ]
        },
        {
          "output_type": "stream",
          "name": "stderr",
          "text": [
            "WARNING:tensorflow:Can save best model only with val_acc available, skipping.\n"
          ]
        },
        {
          "output_type": "stream",
          "name": "stdout",
          "text": [
            "\b\b\b\b\b\b\b\b\b\b\b\b\b\b\b\b\b\b\b\b\b\b\b\b\b\b\b\b\b\b\b\b\b\b\b\b\b\b\b\b\b\b\b\b\b\b\b\b\b\b\b\b\b\b\b\b\b\b\b\b\b\b\b\b\b\b\b\b\b\b\b\b\b\b\b\b\b\b\b\b\b\b\b\b\b\b\b\b\b\b\r112/112 [==============================] - 4s 36ms/step - loss: 9598147.0000 - accuracy: 0.5530 - val_loss: 5638806.5000 - val_accuracy: 0.6509\n",
            "Epoch 11/50\n",
            "112/112 [==============================] - ETA: 0s - loss: 8682592.0000 - accuracy: 0.5383"
          ]
        },
        {
          "output_type": "stream",
          "name": "stderr",
          "text": [
            "WARNING:tensorflow:Can save best model only with val_acc available, skipping.\n"
          ]
        },
        {
          "output_type": "stream",
          "name": "stdout",
          "text": [
            "\b\b\b\b\b\b\b\b\b\b\b\b\b\b\b\b\b\b\b\b\b\b\b\b\b\b\b\b\b\b\b\b\b\b\b\b\b\b\b\b\b\b\b\b\b\b\b\b\b\b\b\b\b\b\b\b\b\b\b\b\b\b\b\b\b\b\b\b\b\b\b\b\b\b\b\b\b\b\b\b\b\b\b\b\b\b\b\b\b\b\r112/112 [==============================] - 4s 36ms/step - loss: 8682592.0000 - accuracy: 0.5383 - val_loss: 7871995.0000 - val_accuracy: 0.6234\n",
            "Epoch 12/50\n",
            "111/112 [============================>.] - ETA: 0s - loss: 7423576.0000 - accuracy: 0.5339"
          ]
        },
        {
          "output_type": "stream",
          "name": "stderr",
          "text": [
            "WARNING:tensorflow:Can save best model only with val_acc available, skipping.\n"
          ]
        },
        {
          "output_type": "stream",
          "name": "stdout",
          "text": [
            "\b\b\b\b\b\b\b\b\b\b\b\b\b\b\b\b\b\b\b\b\b\b\b\b\b\b\b\b\b\b\b\b\b\b\b\b\b\b\b\b\b\b\b\b\b\b\b\b\b\b\b\b\b\b\b\b\b\b\b\b\b\b\b\b\b\b\b\b\b\b\b\b\b\b\b\b\b\b\b\b\b\b\b\b\b\b\b\b\b\b\r112/112 [==============================] - 4s 36ms/step - loss: 7390148.5000 - accuracy: 0.5334 - val_loss: 2661256.5000 - val_accuracy: 0.6234\n",
            "Epoch 13/50\n",
            "111/112 [============================>.] - ETA: 0s - loss: 6526485.5000 - accuracy: 0.5414"
          ]
        },
        {
          "output_type": "stream",
          "name": "stderr",
          "text": [
            "WARNING:tensorflow:Can save best model only with val_acc available, skipping.\n"
          ]
        },
        {
          "output_type": "stream",
          "name": "stdout",
          "text": [
            "\b\b\b\b\b\b\b\b\b\b\b\b\b\b\b\b\b\b\b\b\b\b\b\b\b\b\b\b\b\b\b\b\b\b\b\b\b\b\b\b\b\b\b\b\b\b\b\b\b\b\b\b\b\b\b\b\b\b\b\b\b\b\b\b\b\b\b\b\b\b\b\b\b\b\b\b\b\b\b\b\b\b\b\b\b\b\b\b\b\b\r112/112 [==============================] - 4s 36ms/step - loss: 6523012.5000 - accuracy: 0.5425 - val_loss: 7167721.0000 - val_accuracy: 0.6209\n",
            "Epoch 14/50\n",
            "111/112 [============================>.] - ETA: 0s - loss: 6423741.0000 - accuracy: 0.5453"
          ]
        },
        {
          "output_type": "stream",
          "name": "stderr",
          "text": [
            "WARNING:tensorflow:Can save best model only with val_acc available, skipping.\n"
          ]
        },
        {
          "output_type": "stream",
          "name": "stdout",
          "text": [
            "\b\b\b\b\b\b\b\b\b\b\b\b\b\b\b\b\b\b\b\b\b\b\b\b\b\b\b\b\b\b\b\b\b\b\b\b\b\b\b\b\b\b\b\b\b\b\b\b\b\b\b\b\b\b\b\b\b\b\b\b\b\b\b\b\b\b\b\b\b\b\b\b\b\b\b\b\b\b\b\b\b\b\b\b\b\b\b\b\b\b\r112/112 [==============================] - 4s 35ms/step - loss: 6428300.0000 - accuracy: 0.5462 - val_loss: 4008777.0000 - val_accuracy: 0.6259\n",
            "Epoch 15/50\n",
            "111/112 [============================>.] - ETA: 0s - loss: 5883849.5000 - accuracy: 0.5378"
          ]
        },
        {
          "output_type": "stream",
          "name": "stderr",
          "text": [
            "WARNING:tensorflow:Can save best model only with val_acc available, skipping.\n"
          ]
        },
        {
          "output_type": "stream",
          "name": "stdout",
          "text": [
            "\b\b\b\b\b\b\b\b\b\b\b\b\b\b\b\b\b\b\b\b\b\b\b\b\b\b\b\b\b\b\b\b\b\b\b\b\b\b\b\b\b\b\b\b\b\b\b\b\b\b\b\b\b\b\b\b\b\b\b\b\b\b\b\b\b\b\b\b\b\b\b\b\b\b\b\b\b\b\b\b\b\b\b\b\b\b\b\b\b\b\r112/112 [==============================] - 5s 44ms/step - loss: 5882413.0000 - accuracy: 0.5371 - val_loss: 4427869.0000 - val_accuracy: 0.5773\n",
            "Epoch 16/50\n",
            "111/112 [============================>.] - ETA: 0s - loss: 4836956.5000 - accuracy: 0.5376"
          ]
        },
        {
          "output_type": "stream",
          "name": "stderr",
          "text": [
            "WARNING:tensorflow:Can save best model only with val_acc available, skipping.\n"
          ]
        },
        {
          "output_type": "stream",
          "name": "stdout",
          "text": [
            "\b\b\b\b\b\b\b\b\b\b\b\b\b\b\b\b\b\b\b\b\b\b\b\b\b\b\b\b\b\b\b\b\b\b\b\b\b\b\b\b\b\b\b\b\b\b\b\b\b\b\b\b\b\b\b\b\b\b\b\b\b\b\b\b\b\b\b\b\b\b\b\b\b\b\b\b\b\b\b\b\b\b\b\b\b\b\b\b\b\b\r112/112 [==============================] - 4s 35ms/step - loss: 4836337.5000 - accuracy: 0.5382 - val_loss: 3019436.7500 - val_accuracy: 0.6147\n",
            "Epoch 17/50\n",
            "111/112 [============================>.] - ETA: 0s - loss: 5666425.5000 - accuracy: 0.5223"
          ]
        },
        {
          "output_type": "stream",
          "name": "stderr",
          "text": [
            "WARNING:tensorflow:Can save best model only with val_acc available, skipping.\n"
          ]
        },
        {
          "output_type": "stream",
          "name": "stdout",
          "text": [
            "\b\b\b\b\b\b\b\b\b\b\b\b\b\b\b\b\b\b\b\b\b\b\b\b\b\b\b\b\b\b\b\b\b\b\b\b\b\b\b\b\b\b\b\b\b\b\b\b\b\b\b\b\b\b\b\b\b\b\b\b\b\b\b\b\b\b\b\b\b\b\b\b\b\b\b\b\b\b\b\b\b\b\b\b\b\b\b\b\b\b\r112/112 [==============================] - 4s 35ms/step - loss: 5635564.0000 - accuracy: 0.5236 - val_loss: 3950594.0000 - val_accuracy: 0.5923\n",
            "Epoch 18/50\n",
            "111/112 [============================>.] - ETA: 0s - loss: 3236169.5000 - accuracy: 0.5479"
          ]
        },
        {
          "output_type": "stream",
          "name": "stderr",
          "text": [
            "WARNING:tensorflow:Can save best model only with val_acc available, skipping.\n"
          ]
        },
        {
          "output_type": "stream",
          "name": "stdout",
          "text": [
            "\b\b\b\b\b\b\b\b\b\b\b\b\b\b\b\b\b\b\b\b\b\b\b\b\b\b\b\b\b\b\b\b\b\b\b\b\b\b\b\b\b\b\b\b\b\b\b\b\b\b\b\b\b\b\b\b\b\b\b\b\b\b\b\b\b\b\b\b\b\b\b\b\b\b\b\b\b\b\b\b\b\b\b\b\b\b\b\b\b\b\r112/112 [==============================] - 4s 35ms/step - loss: 3234181.7500 - accuracy: 0.5469 - val_loss: 1580562.0000 - val_accuracy: 0.6185\n",
            "Epoch 19/50\n",
            "111/112 [============================>.] - ETA: 0s - loss: 3084286.7500 - accuracy: 0.5429"
          ]
        },
        {
          "output_type": "stream",
          "name": "stderr",
          "text": [
            "WARNING:tensorflow:Can save best model only with val_acc available, skipping.\n"
          ]
        },
        {
          "output_type": "stream",
          "name": "stdout",
          "text": [
            "\b\b\b\b\b\b\b\b\b\b\b\b\b\b\b\b\b\b\b\b\b\b\b\b\b\b\b\b\b\b\b\b\b\b\b\b\b\b\b\b\b\b\b\b\b\b\b\b\b\b\b\b\b\b\b\b\b\b\b\b\b\b\b\b\b\b\b\b\b\b\b\b\b\b\b\b\b\b\b\b\b\b\b\b\b\b\b\b\b\b\r112/112 [==============================] - 4s 36ms/step - loss: 3076613.5000 - accuracy: 0.5434 - val_loss: 1876157.5000 - val_accuracy: 0.5424\n",
            "Epoch 20/50\n",
            "111/112 [============================>.] - ETA: 0s - loss: 3193944.2500 - accuracy: 0.5318"
          ]
        },
        {
          "output_type": "stream",
          "name": "stderr",
          "text": [
            "WARNING:tensorflow:Can save best model only with val_acc available, skipping.\n"
          ]
        },
        {
          "output_type": "stream",
          "name": "stdout",
          "text": [
            "\b\b\b\b\b\b\b\b\b\b\b\b\b\b\b\b\b\b\b\b\b\b\b\b\b\b\b\b\b\b\b\b\b\b\b\b\b\b\b\b\b\b\b\b\b\b\b\b\b\b\b\b\b\b\b\b\b\b\b\b\b\b\b\b\b\b\b\b\b\b\b\b\b\b\b\b\b\b\b\b\b\b\b\b\b\b\b\b\b\b\r112/112 [==============================] - 4s 35ms/step - loss: 3190938.2500 - accuracy: 0.5325 - val_loss: 2179423.5000 - val_accuracy: 0.6309\n",
            "Epoch 21/50\n",
            "111/112 [============================>.] - ETA: 0s - loss: 2555522.0000 - accuracy: 0.5491"
          ]
        },
        {
          "output_type": "stream",
          "name": "stderr",
          "text": [
            "WARNING:tensorflow:Can save best model only with val_acc available, skipping.\n"
          ]
        },
        {
          "output_type": "stream",
          "name": "stdout",
          "text": [
            "\b\b\b\b\b\b\b\b\b\b\b\b\b\b\b\b\b\b\b\b\b\b\b\b\b\b\b\b\b\b\b\b\b\b\b\b\b\b\b\b\b\b\b\b\b\b\b\b\b\b\b\b\b\b\b\b\b\b\b\b\b\b\b\b\b\b\b\b\b\b\b\b\b\b\b\b\b\b\b\b\b\b\b\b\b\b\b\b\b\b\r112/112 [==============================] - 4s 36ms/step - loss: 2582373.7500 - accuracy: 0.5495 - val_loss: 4217428.0000 - val_accuracy: 0.6060\n",
            "Epoch 22/50\n",
            "111/112 [============================>.] - ETA: 0s - loss: 2389584.0000 - accuracy: 0.5438"
          ]
        },
        {
          "output_type": "stream",
          "name": "stderr",
          "text": [
            "WARNING:tensorflow:Can save best model only with val_acc available, skipping.\n"
          ]
        },
        {
          "output_type": "stream",
          "name": "stdout",
          "text": [
            "\b\b\b\b\b\b\b\b\b\b\b\b\b\b\b\b\b\b\b\b\b\b\b\b\b\b\b\b\b\b\b\b\b\b\b\b\b\b\b\b\b\b\b\b\b\b\b\b\b\b\b\b\b\b\b\b\b\b\b\b\b\b\b\b\b\b\b\b\b\b\b\b\b\b\b\b\b\b\b\b\b\b\b\b\b\b\b\b\b\b\r112/112 [==============================] - 4s 35ms/step - loss: 2386320.7500 - accuracy: 0.5435 - val_loss: 1460590.5000 - val_accuracy: 0.6259\n",
            "Epoch 23/50\n",
            "111/112 [============================>.] - ETA: 0s - loss: 1526818.0000 - accuracy: 0.5480"
          ]
        },
        {
          "output_type": "stream",
          "name": "stderr",
          "text": [
            "WARNING:tensorflow:Can save best model only with val_acc available, skipping.\n"
          ]
        },
        {
          "output_type": "stream",
          "name": "stdout",
          "text": [
            "\b\b\b\b\b\b\b\b\b\b\b\b\b\b\b\b\b\b\b\b\b\b\b\b\b\b\b\b\b\b\b\b\b\b\b\b\b\b\b\b\b\b\b\b\b\b\b\b\b\b\b\b\b\b\b\b\b\b\b\b\b\b\b\b\b\b\b\b\b\b\b\b\b\b\b\b\b\b\b\b\b\b\b\b\b\b\b\b\b\b\r112/112 [==============================] - 4s 35ms/step - loss: 1523990.6250 - accuracy: 0.5476 - val_loss: 1367870.7500 - val_accuracy: 0.6209\n",
            "Epoch 24/50\n",
            "111/112 [============================>.] - ETA: 0s - loss: 1435080.7500 - accuracy: 0.5609"
          ]
        },
        {
          "output_type": "stream",
          "name": "stderr",
          "text": [
            "WARNING:tensorflow:Can save best model only with val_acc available, skipping.\n"
          ]
        },
        {
          "output_type": "stream",
          "name": "stdout",
          "text": [
            "\b\b\b\b\b\b\b\b\b\b\b\b\b\b\b\b\b\b\b\b\b\b\b\b\b\b\b\b\b\b\b\b\b\b\b\b\b\b\b\b\b\b\b\b\b\b\b\b\b\b\b\b\b\b\b\b\b\b\b\b\b\b\b\b\b\b\b\b\b\b\b\b\b\b\b\b\b\b\b\b\b\b\b\b\b\b\b\b\b\b\r112/112 [==============================] - 4s 35ms/step - loss: 1429632.2500 - accuracy: 0.5605 - val_loss: 1069383.0000 - val_accuracy: 0.6446\n",
            "Epoch 25/50\n",
            "111/112 [============================>.] - ETA: 0s - loss: 1492668.8750 - accuracy: 0.5470"
          ]
        },
        {
          "output_type": "stream",
          "name": "stderr",
          "text": [
            "WARNING:tensorflow:Can save best model only with val_acc available, skipping.\n"
          ]
        },
        {
          "output_type": "stream",
          "name": "stdout",
          "text": [
            "\b\b\b\b\b\b\b\b\b\b\b\b\b\b\b\b\b\b\b\b\b\b\b\b\b\b\b\b\b\b\b\b\b\b\b\b\b\b\b\b\b\b\b\b\b\b\b\b\b\b\b\b\b\b\b\b\b\b\b\b\b\b\b\b\b\b\b\b\b\b\b\b\b\b\b\b\b\b\b\b\b\b\b\b\b\b\b\b\b\b\r112/112 [==============================] - 4s 36ms/step - loss: 1485637.2500 - accuracy: 0.5477 - val_loss: 872796.5625 - val_accuracy: 0.5449\n",
            "Epoch 26/50\n",
            "111/112 [============================>.] - ETA: 0s - loss: 1240032.8750 - accuracy: 0.5404"
          ]
        },
        {
          "output_type": "stream",
          "name": "stderr",
          "text": [
            "WARNING:tensorflow:Can save best model only with val_acc available, skipping.\n"
          ]
        },
        {
          "output_type": "stream",
          "name": "stdout",
          "text": [
            "\b\b\b\b\b\b\b\b\b\b\b\b\b\b\b\b\b\b\b\b\b\b\b\b\b\b\b\b\b\b\b\b\b\b\b\b\b\b\b\b\b\b\b\b\b\b\b\b\b\b\b\b\b\b\b\b\b\b\b\b\b\b\b\b\b\b\b\b\b\b\b\b\b\b\b\b\b\b\b\b\b\b\b\b\b\b\b\b\b\b\r112/112 [==============================] - 4s 35ms/step - loss: 1244008.2500 - accuracy: 0.5396 - val_loss: 1197941.5000 - val_accuracy: 0.6434\n",
            "Epoch 27/50\n",
            "111/112 [============================>.] - ETA: 0s - loss: 1514665.7500 - accuracy: 0.5422"
          ]
        },
        {
          "output_type": "stream",
          "name": "stderr",
          "text": [
            "WARNING:tensorflow:Can save best model only with val_acc available, skipping.\n"
          ]
        },
        {
          "output_type": "stream",
          "name": "stdout",
          "text": [
            "\b\b\b\b\b\b\b\b\b\b\b\b\b\b\b\b\b\b\b\b\b\b\b\b\b\b\b\b\b\b\b\b\b\b\b\b\b\b\b\b\b\b\b\b\b\b\b\b\b\b\b\b\b\b\b\b\b\b\b\b\b\b\b\b\b\b\b\b\b\b\b\b\b\b\b\b\b\b\b\b\b\b\b\b\b\b\b\b\b\b\r112/112 [==============================] - 4s 36ms/step - loss: 1508576.7500 - accuracy: 0.5425 - val_loss: 836930.9375 - val_accuracy: 0.6347\n",
            "Epoch 28/50\n",
            "111/112 [============================>.] - ETA: 0s - loss: 936344.1250 - accuracy: 0.5450"
          ]
        },
        {
          "output_type": "stream",
          "name": "stderr",
          "text": [
            "WARNING:tensorflow:Can save best model only with val_acc available, skipping.\n"
          ]
        },
        {
          "output_type": "stream",
          "name": "stdout",
          "text": [
            "\b\b\b\b\b\b\b\b\b\b\b\b\b\b\b\b\b\b\b\b\b\b\b\b\b\b\b\b\b\b\b\b\b\b\b\b\b\b\b\b\b\b\b\b\b\b\b\b\b\b\b\b\b\b\b\b\b\b\b\b\b\b\b\b\b\b\b\b\b\b\b\b\b\b\b\b\b\b\b\b\b\b\b\b\b\b\b\b\b\r112/112 [==============================] - 4s 36ms/step - loss: 930309.5000 - accuracy: 0.5458 - val_loss: 427838.1250 - val_accuracy: 0.6434\n",
            "Epoch 29/50\n",
            "111/112 [============================>.] - ETA: 0s - loss: 830900.8750 - accuracy: 0.5517"
          ]
        },
        {
          "output_type": "stream",
          "name": "stderr",
          "text": [
            "WARNING:tensorflow:Can save best model only with val_acc available, skipping.\n"
          ]
        },
        {
          "output_type": "stream",
          "name": "stdout",
          "text": [
            "\b\b\b\b\b\b\b\b\b\b\b\b\b\b\b\b\b\b\b\b\b\b\b\b\b\b\b\b\b\b\b\b\b\b\b\b\b\b\b\b\b\b\b\b\b\b\b\b\b\b\b\b\b\b\b\b\b\b\b\b\b\b\b\b\b\b\b\b\b\b\b\b\b\b\b\b\b\b\b\b\b\b\b\b\b\b\b\b\b\r112/112 [==============================] - 4s 35ms/step - loss: 830755.3750 - accuracy: 0.5518 - val_loss: 511949.7188 - val_accuracy: 0.6010\n",
            "Epoch 30/50\n",
            "111/112 [============================>.] - ETA: 0s - loss: 758800.4375 - accuracy: 0.5364"
          ]
        },
        {
          "output_type": "stream",
          "name": "stderr",
          "text": [
            "WARNING:tensorflow:Can save best model only with val_acc available, skipping.\n"
          ]
        },
        {
          "output_type": "stream",
          "name": "stdout",
          "text": [
            "\b\b\b\b\b\b\b\b\b\b\b\b\b\b\b\b\b\b\b\b\b\b\b\b\b\b\b\b\b\b\b\b\b\b\b\b\b\b\b\b\b\b\b\b\b\b\b\b\b\b\b\b\b\b\b\b\b\b\b\b\b\b\b\b\b\b\b\b\b\b\b\b\b\b\b\b\b\b\b\b\b\b\b\b\b\b\b\b\b\r112/112 [==============================] - 4s 35ms/step - loss: 757340.8750 - accuracy: 0.5369 - val_loss: 527290.7500 - val_accuracy: 0.6359\n",
            "Epoch 31/50\n",
            "111/112 [============================>.] - ETA: 0s - loss: 727004.1875 - accuracy: 0.5431"
          ]
        },
        {
          "output_type": "stream",
          "name": "stderr",
          "text": [
            "WARNING:tensorflow:Can save best model only with val_acc available, skipping.\n"
          ]
        },
        {
          "output_type": "stream",
          "name": "stdout",
          "text": [
            "\b\b\b\b\b\b\b\b\b\b\b\b\b\b\b\b\b\b\b\b\b\b\b\b\b\b\b\b\b\b\b\b\b\b\b\b\b\b\b\b\b\b\b\b\b\b\b\b\b\b\b\b\b\b\b\b\b\b\b\b\b\b\b\b\b\b\b\b\b\b\b\b\b\b\b\b\b\b\b\b\b\b\b\b\b\b\b\b\b\r112/112 [==============================] - 4s 35ms/step - loss: 723930.0000 - accuracy: 0.5428 - val_loss: 638846.1250 - val_accuracy: 0.6459\n",
            "Epoch 32/50\n",
            "111/112 [============================>.] - ETA: 0s - loss: 555368.1250 - accuracy: 0.5377"
          ]
        },
        {
          "output_type": "stream",
          "name": "stderr",
          "text": [
            "WARNING:tensorflow:Can save best model only with val_acc available, skipping.\n"
          ]
        },
        {
          "output_type": "stream",
          "name": "stdout",
          "text": [
            "\b\b\b\b\b\b\b\b\b\b\b\b\b\b\b\b\b\b\b\b\b\b\b\b\b\b\b\b\b\b\b\b\b\b\b\b\b\b\b\b\b\b\b\b\b\b\b\b\b\b\b\b\b\b\b\b\b\b\b\b\b\b\b\b\b\b\b\b\b\b\b\b\b\b\b\b\b\b\b\b\b\b\b\b\b\b\b\b\b\r112/112 [==============================] - 4s 36ms/step - loss: 554871.6250 - accuracy: 0.5383 - val_loss: 806034.8125 - val_accuracy: 0.6259\n",
            "Epoch 33/50\n",
            "111/112 [============================>.] - ETA: 0s - loss: 569736.3750 - accuracy: 0.5371"
          ]
        },
        {
          "output_type": "stream",
          "name": "stderr",
          "text": [
            "WARNING:tensorflow:Can save best model only with val_acc available, skipping.\n"
          ]
        },
        {
          "output_type": "stream",
          "name": "stdout",
          "text": [
            "\b\b\b\b\b\b\b\b\b\b\b\b\b\b\b\b\b\b\b\b\b\b\b\b\b\b\b\b\b\b\b\b\b\b\b\b\b\b\b\b\b\b\b\b\b\b\b\b\b\b\b\b\b\b\b\b\b\b\b\b\b\b\b\b\b\b\b\b\b\b\b\b\b\b\b\b\b\b\b\b\b\b\b\b\b\b\b\b\b\r112/112 [==============================] - 4s 35ms/step - loss: 567014.1250 - accuracy: 0.5358 - val_loss: 322448.9688 - val_accuracy: 0.6147\n",
            "Epoch 34/50\n",
            "111/112 [============================>.] - ETA: 0s - loss: 415160.1875 - accuracy: 0.5556"
          ]
        },
        {
          "output_type": "stream",
          "name": "stderr",
          "text": [
            "WARNING:tensorflow:Can save best model only with val_acc available, skipping.\n"
          ]
        },
        {
          "output_type": "stream",
          "name": "stdout",
          "text": [
            "\b\b\b\b\b\b\b\b\b\b\b\b\b\b\b\b\b\b\b\b\b\b\b\b\b\b\b\b\b\b\b\b\b\b\b\b\b\b\b\b\b\b\b\b\b\b\b\b\b\b\b\b\b\b\b\b\b\b\b\b\b\b\b\b\b\b\b\b\b\b\b\b\b\b\b\b\b\b\b\b\b\b\b\b\b\b\b\b\b\r112/112 [==============================] - 4s 36ms/step - loss: 413129.4688 - accuracy: 0.5567 - val_loss: 347699.6250 - val_accuracy: 0.6185\n",
            "Epoch 35/50\n",
            "111/112 [============================>.] - ETA: 0s - loss: 432976.6562 - accuracy: 0.5311"
          ]
        },
        {
          "output_type": "stream",
          "name": "stderr",
          "text": [
            "WARNING:tensorflow:Can save best model only with val_acc available, skipping.\n"
          ]
        },
        {
          "output_type": "stream",
          "name": "stdout",
          "text": [
            "\b\b\b\b\b\b\b\b\b\b\b\b\b\b\b\b\b\b\b\b\b\b\b\b\b\b\b\b\b\b\b\b\b\b\b\b\b\b\b\b\b\b\b\b\b\b\b\b\b\b\b\b\b\b\b\b\b\b\b\b\b\b\b\b\b\b\b\b\b\b\b\b\b\b\b\b\b\b\b\b\b\b\b\b\b\b\b\b\b\r112/112 [==============================] - 4s 35ms/step - loss: 431373.4062 - accuracy: 0.5323 - val_loss: 265737.3125 - val_accuracy: 0.4913\n",
            "Epoch 36/50\n",
            "111/112 [============================>.] - ETA: 0s - loss: 348762.1250 - accuracy: 0.5328"
          ]
        },
        {
          "output_type": "stream",
          "name": "stderr",
          "text": [
            "WARNING:tensorflow:Can save best model only with val_acc available, skipping.\n"
          ]
        },
        {
          "output_type": "stream",
          "name": "stdout",
          "text": [
            "\b\b\b\b\b\b\b\b\b\b\b\b\b\b\b\b\b\b\b\b\b\b\b\b\b\b\b\b\b\b\b\b\b\b\b\b\b\b\b\b\b\b\b\b\b\b\b\b\b\b\b\b\b\b\b\b\b\b\b\b\b\b\b\b\b\b\b\b\b\b\b\b\b\b\b\b\b\b\b\b\b\b\b\b\b\b\b\b\b\r112/112 [==============================] - 4s 35ms/step - loss: 348803.3438 - accuracy: 0.5330 - val_loss: 404004.8125 - val_accuracy: 0.6359\n",
            "Epoch 37/50\n",
            "111/112 [============================>.] - ETA: 0s - loss: 339878.2500 - accuracy: 0.5373"
          ]
        },
        {
          "output_type": "stream",
          "name": "stderr",
          "text": [
            "WARNING:tensorflow:Can save best model only with val_acc available, skipping.\n"
          ]
        },
        {
          "output_type": "stream",
          "name": "stdout",
          "text": [
            "\b\b\b\b\b\b\b\b\b\b\b\b\b\b\b\b\b\b\b\b\b\b\b\b\b\b\b\b\b\b\b\b\b\b\b\b\b\b\b\b\b\b\b\b\b\b\b\b\b\b\b\b\b\b\b\b\b\b\b\b\b\b\b\b\b\b\b\b\b\b\b\b\b\b\b\b\b\b\b\b\b\b\b\b\b\b\b\b\b\r112/112 [==============================] - 4s 36ms/step - loss: 339709.0312 - accuracy: 0.5362 - val_loss: 192267.7656 - val_accuracy: 0.6397\n",
            "Epoch 38/50\n",
            "111/112 [============================>.] - ETA: 0s - loss: 337387.7188 - accuracy: 0.5335"
          ]
        },
        {
          "output_type": "stream",
          "name": "stderr",
          "text": [
            "WARNING:tensorflow:Can save best model only with val_acc available, skipping.\n"
          ]
        },
        {
          "output_type": "stream",
          "name": "stdout",
          "text": [
            "\b\b\b\b\b\b\b\b\b\b\b\b\b\b\b\b\b\b\b\b\b\b\b\b\b\b\b\b\b\b\b\b\b\b\b\b\b\b\b\b\b\b\b\b\b\b\b\b\b\b\b\b\b\b\b\b\b\b\b\b\b\b\b\b\b\b\b\b\b\b\b\b\b\b\b\b\b\b\b\b\b\b\b\b\b\b\b\b\b\r112/112 [==============================] - 4s 36ms/step - loss: 337654.7500 - accuracy: 0.5339 - val_loss: 375655.6562 - val_accuracy: 0.6434\n",
            "Epoch 39/50\n",
            "111/112 [============================>.] - ETA: 0s - loss: 234422.3281 - accuracy: 0.5452"
          ]
        },
        {
          "output_type": "stream",
          "name": "stderr",
          "text": [
            "WARNING:tensorflow:Can save best model only with val_acc available, skipping.\n"
          ]
        },
        {
          "output_type": "stream",
          "name": "stdout",
          "text": [
            "\b\b\b\b\b\b\b\b\b\b\b\b\b\b\b\b\b\b\b\b\b\b\b\b\b\b\b\b\b\b\b\b\b\b\b\b\b\b\b\b\b\b\b\b\b\b\b\b\b\b\b\b\b\b\b\b\b\b\b\b\b\b\b\b\b\b\b\b\b\b\b\b\b\b\b\b\b\b\b\b\b\b\b\b\b\b\b\b\b\r112/112 [==============================] - 4s 36ms/step - loss: 235303.1406 - accuracy: 0.5453 - val_loss: 136516.4062 - val_accuracy: 0.6085\n",
            "Epoch 40/50\n",
            "111/112 [============================>.] - ETA: 0s - loss: 503612.8125 - accuracy: 0.5306"
          ]
        },
        {
          "output_type": "stream",
          "name": "stderr",
          "text": [
            "WARNING:tensorflow:Can save best model only with val_acc available, skipping.\n"
          ]
        },
        {
          "output_type": "stream",
          "name": "stdout",
          "text": [
            "\b\b\b\b\b\b\b\b\b\b\b\b\b\b\b\b\b\b\b\b\b\b\b\b\b\b\b\b\b\b\b\b\b\b\b\b\b\b\b\b\b\b\b\b\b\b\b\b\b\b\b\b\b\b\b\b\b\b\b\b\b\b\b\b\b\b\b\b\b\b\b\b\b\b\b\b\b\b\b\b\b\b\b\b\b\b\b\b\b\r112/112 [==============================] - 4s 36ms/step - loss: 530212.9375 - accuracy: 0.5298 - val_loss: 4230955.0000 - val_accuracy: 0.6459\n",
            "Epoch 41/50\n",
            "111/112 [============================>.] - ETA: 0s - loss: 898067.3750 - accuracy: 0.5460"
          ]
        },
        {
          "output_type": "stream",
          "name": "stderr",
          "text": [
            "WARNING:tensorflow:Can save best model only with val_acc available, skipping.\n"
          ]
        },
        {
          "output_type": "stream",
          "name": "stdout",
          "text": [
            "\b\b\b\b\b\b\b\b\b\b\b\b\b\b\b\b\b\b\b\b\b\b\b\b\b\b\b\b\b\b\b\b\b\b\b\b\b\b\b\b\b\b\b\b\b\b\b\b\b\b\b\b\b\b\b\b\b\b\b\b\b\b\b\b\b\b\b\b\b\b\b\b\b\b\b\b\b\b\b\b\b\b\b\b\b\b\b\b\b\r112/112 [==============================] - 4s 36ms/step - loss: 892004.1875 - accuracy: 0.5466 - val_loss: 241025.8750 - val_accuracy: 0.5885\n",
            "Epoch 42/50\n",
            "111/112 [============================>.] - ETA: 0s - loss: 237132.4219 - accuracy: 0.5459"
          ]
        },
        {
          "output_type": "stream",
          "name": "stderr",
          "text": [
            "WARNING:tensorflow:Can save best model only with val_acc available, skipping.\n"
          ]
        },
        {
          "output_type": "stream",
          "name": "stdout",
          "text": [
            "\b\b\b\b\b\b\b\b\b\b\b\b\b\b\b\b\b\b\b\b\b\b\b\b\b\b\b\b\b\b\b\b\b\b\b\b\b\b\b\b\b\b\b\b\b\b\b\b\b\b\b\b\b\b\b\b\b\b\b\b\b\b\b\b\b\b\b\b\b\b\b\b\b\b\b\b\b\b\b\b\b\b\b\b\b\b\b\b\b\r112/112 [==============================] - 4s 36ms/step - loss: 236495.5156 - accuracy: 0.5456 - val_loss: 135752.9688 - val_accuracy: 0.6509\n",
            "Epoch 43/50\n",
            "112/112 [==============================] - ETA: 0s - loss: 164375.7344 - accuracy: 0.5494"
          ]
        },
        {
          "output_type": "stream",
          "name": "stderr",
          "text": [
            "WARNING:tensorflow:Can save best model only with val_acc available, skipping.\n"
          ]
        },
        {
          "output_type": "stream",
          "name": "stdout",
          "text": [
            "\b\b\b\b\b\b\b\b\b\b\b\b\b\b\b\b\b\b\b\b\b\b\b\b\b\b\b\b\b\b\b\b\b\b\b\b\b\b\b\b\b\b\b\b\b\b\b\b\b\b\b\b\b\b\b\b\b\b\b\b\b\b\b\b\b\b\b\b\b\b\b\b\b\b\b\b\b\b\b\b\b\b\b\b\b\b\b\b\b\r112/112 [==============================] - 4s 37ms/step - loss: 164375.7344 - accuracy: 0.5494 - val_loss: 101164.5781 - val_accuracy: 0.6421\n",
            "Epoch 44/50\n",
            "111/112 [============================>.] - ETA: 0s - loss: 125231.1562 - accuracy: 0.5515"
          ]
        },
        {
          "output_type": "stream",
          "name": "stderr",
          "text": [
            "WARNING:tensorflow:Can save best model only with val_acc available, skipping.\n"
          ]
        },
        {
          "output_type": "stream",
          "name": "stdout",
          "text": [
            "\b\b\b\b\b\b\b\b\b\b\b\b\b\b\b\b\b\b\b\b\b\b\b\b\b\b\b\b\b\b\b\b\b\b\b\b\b\b\b\b\b\b\b\b\b\b\b\b\b\b\b\b\b\b\b\b\b\b\b\b\b\b\b\b\b\b\b\b\b\b\b\b\b\b\b\b\b\b\b\b\b\b\b\b\b\b\b\b\b\r112/112 [==============================] - 4s 35ms/step - loss: 124796.7500 - accuracy: 0.5522 - val_loss: 79555.6562 - val_accuracy: 0.4177\n",
            "Epoch 45/50\n",
            "111/112 [============================>.] - ETA: 0s - loss: 93595.0000 - accuracy: 0.5537"
          ]
        },
        {
          "output_type": "stream",
          "name": "stderr",
          "text": [
            "WARNING:tensorflow:Can save best model only with val_acc available, skipping.\n"
          ]
        },
        {
          "output_type": "stream",
          "name": "stdout",
          "text": [
            "\b\b\b\b\b\b\b\b\b\b\b\b\b\b\b\b\b\b\b\b\b\b\b\b\b\b\b\b\b\b\b\b\b\b\b\b\b\b\b\b\b\b\b\b\b\b\b\b\b\b\b\b\b\b\b\b\b\b\b\b\b\b\b\b\b\b\b\b\b\b\b\b\b\b\b\b\b\b\b\b\b\b\b\b\b\b\b\b\r112/112 [==============================] - 4s 37ms/step - loss: 93540.0000 - accuracy: 0.5526 - val_loss: 88641.4531 - val_accuracy: 0.6359\n",
            "Epoch 46/50\n",
            "111/112 [============================>.] - ETA: 0s - loss: 88185.6406 - accuracy: 0.5566"
          ]
        },
        {
          "output_type": "stream",
          "name": "stderr",
          "text": [
            "WARNING:tensorflow:Can save best model only with val_acc available, skipping.\n"
          ]
        },
        {
          "output_type": "stream",
          "name": "stdout",
          "text": [
            "\b\b\b\b\b\b\b\b\b\b\b\b\b\b\b\b\b\b\b\b\b\b\b\b\b\b\b\b\b\b\b\b\b\b\b\b\b\b\b\b\b\b\b\b\b\b\b\b\b\b\b\b\b\b\b\b\b\b\b\b\b\b\b\b\b\b\b\b\b\b\b\b\b\b\b\b\b\b\b\b\b\b\b\b\b\b\b\b\r112/112 [==============================] - 4s 36ms/step - loss: 87997.4531 - accuracy: 0.5564 - val_loss: 54668.3594 - val_accuracy: 0.6222\n",
            "Epoch 47/50\n",
            "112/112 [==============================] - ETA: 0s - loss: 74249.7422 - accuracy: 0.5474"
          ]
        },
        {
          "output_type": "stream",
          "name": "stderr",
          "text": [
            "WARNING:tensorflow:Can save best model only with val_acc available, skipping.\n"
          ]
        },
        {
          "output_type": "stream",
          "name": "stdout",
          "text": [
            "\b\b\b\b\b\b\b\b\b\b\b\b\b\b\b\b\b\b\b\b\b\b\b\b\b\b\b\b\b\b\b\b\b\b\b\b\b\b\b\b\b\b\b\b\b\b\b\b\b\b\b\b\b\b\b\b\b\b\b\b\b\b\b\b\b\b\b\b\b\b\b\b\b\b\b\b\b\b\b\b\b\b\b\b\b\b\b\b\r112/112 [==============================] - 4s 37ms/step - loss: 74249.7422 - accuracy: 0.5474 - val_loss: 42937.7109 - val_accuracy: 0.5536\n",
            "Epoch 48/50\n",
            "111/112 [============================>.] - ETA: 0s - loss: 63055.4805 - accuracy: 0.5503"
          ]
        },
        {
          "output_type": "stream",
          "name": "stderr",
          "text": [
            "WARNING:tensorflow:Can save best model only with val_acc available, skipping.\n"
          ]
        },
        {
          "output_type": "stream",
          "name": "stdout",
          "text": [
            "\b\b\b\b\b\b\b\b\b\b\b\b\b\b\b\b\b\b\b\b\b\b\b\b\b\b\b\b\b\b\b\b\b\b\b\b\b\b\b\b\b\b\b\b\b\b\b\b\b\b\b\b\b\b\b\b\b\b\b\b\b\b\b\b\b\b\b\b\b\b\b\b\b\b\b\b\b\b\b\b\b\b\b\b\b\b\b\b\r112/112 [==============================] - 4s 36ms/step - loss: 63151.8672 - accuracy: 0.5500 - val_loss: 84195.8672 - val_accuracy: 0.6384\n",
            "Epoch 49/50\n",
            "111/112 [============================>.] - ETA: 0s - loss: 60123.9180 - accuracy: 0.5511"
          ]
        },
        {
          "output_type": "stream",
          "name": "stderr",
          "text": [
            "WARNING:tensorflow:Can save best model only with val_acc available, skipping.\n"
          ]
        },
        {
          "output_type": "stream",
          "name": "stdout",
          "text": [
            "\b\b\b\b\b\b\b\b\b\b\b\b\b\b\b\b\b\b\b\b\b\b\b\b\b\b\b\b\b\b\b\b\b\b\b\b\b\b\b\b\b\b\b\b\b\b\b\b\b\b\b\b\b\b\b\b\b\b\b\b\b\b\b\b\b\b\b\b\b\b\b\b\b\b\b\b\b\b\b\b\b\b\b\b\b\b\b\b\r112/112 [==============================] - 4s 35ms/step - loss: 60078.1914 - accuracy: 0.5519 - val_loss: 69820.2266 - val_accuracy: 0.4813\n",
            "Epoch 50/50\n",
            "111/112 [============================>.] - ETA: 0s - loss: 55516.1914 - accuracy: 0.5455"
          ]
        },
        {
          "output_type": "stream",
          "name": "stderr",
          "text": [
            "WARNING:tensorflow:Can save best model only with val_acc available, skipping.\n"
          ]
        },
        {
          "output_type": "stream",
          "name": "stdout",
          "text": [
            "\b\b\b\b\b\b\b\b\b\b\b\b\b\b\b\b\b\b\b\b\b\b\b\b\b\b\b\b\b\b\b\b\b\b\b\b\b\b\b\b\b\b\b\b\b\b\b\b\b\b\b\b\b\b\b\b\b\b\b\b\b\b\b\b\b\b\b\b\b\b\b\b\b\b\b\b\b\b\b\b\b\b\b\b\b\b\b\b\r112/112 [==============================] - 4s 35ms/step - loss: 55488.9688 - accuracy: 0.5449 - val_loss: 34949.6875 - val_accuracy: 0.6347\n"
          ]
        }
      ]
    },
    {
      "cell_type": "code",
      "source": [
        "# Define the optimizer\n",
        "optimizer = Adam(learning_rate=0.001)\n",
        "# Compile the model\n",
        "model.compile(optimizer = optimizer , loss = \"categorical_crossentropy\", metrics=[\"accuracy\"])\n",
        "\n",
        "\n",
        "\n",
        "# Fit the model\n",
        "epochs = 50 \n",
        "batch_size = 64\n",
        "history_0001= model.fit_generator(datagen.flow(x_train,y_train, batch_size=batch_size),\n",
        "                              epochs = epochs, validation_data = (x_validate,y_validate),\n",
        "                              verbose = 1, steps_per_epoch=x_train.shape[0] // batch_size\n",
        "                              , callbacks=[checkpoint])"
      ],
      "metadata": {
        "colab": {
          "base_uri": "https://localhost:8080/"
        },
        "id": "53JZFSGnpHmh",
        "outputId": "718ce830-4373-4679-c7d1-e96bd33247fc"
      },
      "execution_count": 21,
      "outputs": [
        {
          "output_type": "stream",
          "name": "stdout",
          "text": [
            "Epoch 1/50\n"
          ]
        },
        {
          "output_type": "stream",
          "name": "stderr",
          "text": [
            "<ipython-input-21-b7b2143ba59e>:11: UserWarning: `Model.fit_generator` is deprecated and will be removed in a future version. Please use `Model.fit`, which supports generators.\n",
            "  history_0001= model.fit_generator(datagen.flow(x_train,y_train, batch_size=batch_size),\n"
          ]
        },
        {
          "output_type": "stream",
          "name": "stdout",
          "text": [
            "111/112 [============================>.] - ETA: 0s - loss: 35272.1055 - accuracy: 0.5541"
          ]
        },
        {
          "output_type": "stream",
          "name": "stderr",
          "text": [
            "WARNING:tensorflow:Can save best model only with val_acc available, skipping.\n"
          ]
        },
        {
          "output_type": "stream",
          "name": "stdout",
          "text": [
            "\b\b\b\b\b\b\b\b\b\b\b\b\b\b\b\b\b\b\b\b\b\b\b\b\b\b\b\b\b\b\b\b\b\b\b\b\b\b\b\b\b\b\b\b\b\b\b\b\b\b\b\b\b\b\b\b\b\b\b\b\b\b\b\b\b\b\b\b\b\b\b\b\b\b\b\b\b\b\b\b\b\b\b\b\b\b\b\b\r112/112 [==============================] - 5s 38ms/step - loss: 35626.9141 - accuracy: 0.5542 - val_loss: 23017.4355 - val_accuracy: 0.5536\n",
            "Epoch 2/50\n",
            "111/112 [============================>.] - ETA: 0s - loss: 25180.2676 - accuracy: 0.5441"
          ]
        },
        {
          "output_type": "stream",
          "name": "stderr",
          "text": [
            "WARNING:tensorflow:Can save best model only with val_acc available, skipping.\n"
          ]
        },
        {
          "output_type": "stream",
          "name": "stdout",
          "text": [
            "\b\b\b\b\b\b\b\b\b\b\b\b\b\b\b\b\b\b\b\b\b\b\b\b\b\b\b\b\b\b\b\b\b\b\b\b\b\b\b\b\b\b\b\b\b\b\b\b\b\b\b\b\b\b\b\b\b\b\b\b\b\b\b\b\b\b\b\b\b\b\b\b\b\b\b\b\b\b\b\b\b\b\b\b\b\b\b\b\r112/112 [==============================] - 4s 35ms/step - loss: 25089.2559 - accuracy: 0.5435 - val_loss: 26668.3906 - val_accuracy: 0.6421\n",
            "Epoch 3/50\n",
            "111/112 [============================>.] - ETA: 0s - loss: 17266.2832 - accuracy: 0.5544"
          ]
        },
        {
          "output_type": "stream",
          "name": "stderr",
          "text": [
            "WARNING:tensorflow:Can save best model only with val_acc available, skipping.\n"
          ]
        },
        {
          "output_type": "stream",
          "name": "stdout",
          "text": [
            "\b\b\b\b\b\b\b\b\b\b\b\b\b\b\b\b\b\b\b\b\b\b\b\b\b\b\b\b\b\b\b\b\b\b\b\b\b\b\b\b\b\b\b\b\b\b\b\b\b\b\b\b\b\b\b\b\b\b\b\b\b\b\b\b\b\b\b\b\b\b\b\b\b\b\b\b\b\b\b\b\b\b\b\b\b\b\b\b\r112/112 [==============================] - 4s 36ms/step - loss: 17331.6367 - accuracy: 0.5539 - val_loss: 17366.8320 - val_accuracy: 0.3292\n",
            "Epoch 4/50\n",
            "111/112 [============================>.] - ETA: 0s - loss: 16332.8984 - accuracy: 0.5376"
          ]
        },
        {
          "output_type": "stream",
          "name": "stderr",
          "text": [
            "WARNING:tensorflow:Can save best model only with val_acc available, skipping.\n"
          ]
        },
        {
          "output_type": "stream",
          "name": "stdout",
          "text": [
            "\b\b\b\b\b\b\b\b\b\b\b\b\b\b\b\b\b\b\b\b\b\b\b\b\b\b\b\b\b\b\b\b\b\b\b\b\b\b\b\b\b\b\b\b\b\b\b\b\b\b\b\b\b\b\b\b\b\b\b\b\b\b\b\b\b\b\b\b\b\b\b\b\b\b\b\b\b\b\b\b\b\b\b\b\b\b\b\b\r112/112 [==============================] - 4s 36ms/step - loss: 16340.2646 - accuracy: 0.5375 - val_loss: 11214.3408 - val_accuracy: 0.6446\n",
            "Epoch 5/50\n",
            "111/112 [============================>.] - ETA: 0s - loss: 13630.9316 - accuracy: 0.5486"
          ]
        },
        {
          "output_type": "stream",
          "name": "stderr",
          "text": [
            "WARNING:tensorflow:Can save best model only with val_acc available, skipping.\n"
          ]
        },
        {
          "output_type": "stream",
          "name": "stdout",
          "text": [
            "\b\b\b\b\b\b\b\b\b\b\b\b\b\b\b\b\b\b\b\b\b\b\b\b\b\b\b\b\b\b\b\b\b\b\b\b\b\b\b\b\b\b\b\b\b\b\b\b\b\b\b\b\b\b\b\b\b\b\b\b\b\b\b\b\b\b\b\b\b\b\b\b\b\b\b\b\b\b\b\b\b\b\b\b\b\b\b\b\r112/112 [==============================] - 4s 36ms/step - loss: 13621.4150 - accuracy: 0.5494 - val_loss: 14505.1064 - val_accuracy: 0.5586\n",
            "Epoch 6/50\n",
            "111/112 [============================>.] - ETA: 0s - loss: 29348.5723 - accuracy: 0.5257"
          ]
        },
        {
          "output_type": "stream",
          "name": "stderr",
          "text": [
            "WARNING:tensorflow:Can save best model only with val_acc available, skipping.\n"
          ]
        },
        {
          "output_type": "stream",
          "name": "stdout",
          "text": [
            "\b\b\b\b\b\b\b\b\b\b\b\b\b\b\b\b\b\b\b\b\b\b\b\b\b\b\b\b\b\b\b\b\b\b\b\b\b\b\b\b\b\b\b\b\b\b\b\b\b\b\b\b\b\b\b\b\b\b\b\b\b\b\b\b\b\b\b\b\b\b\b\b\b\b\b\b\b\b\b\b\b\b\b\b\b\b\b\b\r112/112 [==============================] - 4s 36ms/step - loss: 29196.4023 - accuracy: 0.5260 - val_loss: 21607.0879 - val_accuracy: 0.5299\n",
            "Epoch 7/50\n",
            "111/112 [============================>.] - ETA: 0s - loss: 12722.3809 - accuracy: 0.5400"
          ]
        },
        {
          "output_type": "stream",
          "name": "stderr",
          "text": [
            "WARNING:tensorflow:Can save best model only with val_acc available, skipping.\n"
          ]
        },
        {
          "output_type": "stream",
          "name": "stdout",
          "text": [
            "\b\b\b\b\b\b\b\b\b\b\b\b\b\b\b\b\b\b\b\b\b\b\b\b\b\b\b\b\b\b\b\b\b\b\b\b\b\b\b\b\b\b\b\b\b\b\b\b\b\b\b\b\b\b\b\b\b\b\b\b\b\b\b\b\b\b\b\b\b\b\b\b\b\b\b\b\b\b\b\b\b\b\b\b\b\b\b\b\r112/112 [==============================] - 4s 36ms/step - loss: 12722.6611 - accuracy: 0.5390 - val_loss: 8360.2822 - val_accuracy: 0.5723\n",
            "Epoch 8/50\n",
            "111/112 [============================>.] - ETA: 0s - loss: 8534.6006 - accuracy: 0.5483"
          ]
        },
        {
          "output_type": "stream",
          "name": "stderr",
          "text": [
            "WARNING:tensorflow:Can save best model only with val_acc available, skipping.\n"
          ]
        },
        {
          "output_type": "stream",
          "name": "stdout",
          "text": [
            "\b\b\b\b\b\b\b\b\b\b\b\b\b\b\b\b\b\b\b\b\b\b\b\b\b\b\b\b\b\b\b\b\b\b\b\b\b\b\b\b\b\b\b\b\b\b\b\b\b\b\b\b\b\b\b\b\b\b\b\b\b\b\b\b\b\b\b\b\b\b\b\b\b\b\b\b\b\b\b\b\b\b\b\b\b\b\b\r112/112 [==============================] - 4s 36ms/step - loss: 8525.5801 - accuracy: 0.5476 - val_loss: 6866.8984 - val_accuracy: 0.6197\n",
            "Epoch 9/50\n",
            "112/112 [==============================] - ETA: 0s - loss: 7805.4395 - accuracy: 0.5432"
          ]
        },
        {
          "output_type": "stream",
          "name": "stderr",
          "text": [
            "WARNING:tensorflow:Can save best model only with val_acc available, skipping.\n"
          ]
        },
        {
          "output_type": "stream",
          "name": "stdout",
          "text": [
            "\b\b\b\b\b\b\b\b\b\b\b\b\b\b\b\b\b\b\b\b\b\b\b\b\b\b\b\b\b\b\b\b\b\b\b\b\b\b\b\b\b\b\b\b\b\b\b\b\b\b\b\b\b\b\b\b\b\b\b\b\b\b\b\b\b\b\b\b\b\b\b\b\b\b\b\b\b\b\b\b\b\b\b\b\b\b\b\r112/112 [==============================] - 4s 39ms/step - loss: 7805.4395 - accuracy: 0.5432 - val_loss: 3635.7271 - val_accuracy: 0.6347\n",
            "Epoch 10/50\n",
            "112/112 [==============================] - ETA: 0s - loss: 7437.3926 - accuracy: 0.5463"
          ]
        },
        {
          "output_type": "stream",
          "name": "stderr",
          "text": [
            "WARNING:tensorflow:Can save best model only with val_acc available, skipping.\n"
          ]
        },
        {
          "output_type": "stream",
          "name": "stdout",
          "text": [
            "\b\b\b\b\b\b\b\b\b\b\b\b\b\b\b\b\b\b\b\b\b\b\b\b\b\b\b\b\b\b\b\b\b\b\b\b\b\b\b\b\b\b\b\b\b\b\b\b\b\b\b\b\b\b\b\b\b\b\b\b\b\b\b\b\b\b\b\b\b\b\b\b\b\b\b\b\b\b\b\b\b\b\b\b\b\b\b\r112/112 [==============================] - 5s 40ms/step - loss: 7437.3926 - accuracy: 0.5463 - val_loss: 3885.2209 - val_accuracy: 0.5973\n",
            "Epoch 11/50\n",
            "112/112 [==============================] - ETA: 0s - loss: 6370.1528 - accuracy: 0.5463"
          ]
        },
        {
          "output_type": "stream",
          "name": "stderr",
          "text": [
            "WARNING:tensorflow:Can save best model only with val_acc available, skipping.\n"
          ]
        },
        {
          "output_type": "stream",
          "name": "stdout",
          "text": [
            "\b\b\b\b\b\b\b\b\b\b\b\b\b\b\b\b\b\b\b\b\b\b\b\b\b\b\b\b\b\b\b\b\b\b\b\b\b\b\b\b\b\b\b\b\b\b\b\b\b\b\b\b\b\b\b\b\b\b\b\b\b\b\b\b\b\b\b\b\b\b\b\b\b\b\b\b\b\b\b\b\b\b\b\b\b\b\b\r112/112 [==============================] - 4s 36ms/step - loss: 6370.1528 - accuracy: 0.5463 - val_loss: 3727.0820 - val_accuracy: 0.6097\n",
            "Epoch 12/50\n",
            "111/112 [============================>.] - ETA: 0s - loss: 6431.7729 - accuracy: 0.5500"
          ]
        },
        {
          "output_type": "stream",
          "name": "stderr",
          "text": [
            "WARNING:tensorflow:Can save best model only with val_acc available, skipping.\n"
          ]
        },
        {
          "output_type": "stream",
          "name": "stdout",
          "text": [
            "\b\b\b\b\b\b\b\b\b\b\b\b\b\b\b\b\b\b\b\b\b\b\b\b\b\b\b\b\b\b\b\b\b\b\b\b\b\b\b\b\b\b\b\b\b\b\b\b\b\b\b\b\b\b\b\b\b\b\b\b\b\b\b\b\b\b\b\b\b\b\b\b\b\b\b\b\b\b\b\b\b\b\b\b\b\b\b\r112/112 [==============================] - 4s 35ms/step - loss: 6443.9575 - accuracy: 0.5493 - val_loss: 6495.0908 - val_accuracy: 0.6372\n",
            "Epoch 13/50\n",
            "111/112 [============================>.] - ETA: 0s - loss: 5810.3965 - accuracy: 0.5325"
          ]
        },
        {
          "output_type": "stream",
          "name": "stderr",
          "text": [
            "WARNING:tensorflow:Can save best model only with val_acc available, skipping.\n"
          ]
        },
        {
          "output_type": "stream",
          "name": "stdout",
          "text": [
            "\b\b\b\b\b\b\b\b\b\b\b\b\b\b\b\b\b\b\b\b\b\b\b\b\b\b\b\b\b\b\b\b\b\b\b\b\b\b\b\b\b\b\b\b\b\b\b\b\b\b\b\b\b\b\b\b\b\b\b\b\b\b\b\b\b\b\b\b\b\b\b\b\b\b\b\b\b\b\b\b\b\b\b\b\b\b\b\r112/112 [==============================] - 4s 36ms/step - loss: 5840.4438 - accuracy: 0.5325 - val_loss: 6159.3101 - val_accuracy: 0.5062\n",
            "Epoch 14/50\n",
            "111/112 [============================>.] - ETA: 0s - loss: 6089.6987 - accuracy: 0.5439"
          ]
        },
        {
          "output_type": "stream",
          "name": "stderr",
          "text": [
            "WARNING:tensorflow:Can save best model only with val_acc available, skipping.\n"
          ]
        },
        {
          "output_type": "stream",
          "name": "stdout",
          "text": [
            "\b\b\b\b\b\b\b\b\b\b\b\b\b\b\b\b\b\b\b\b\b\b\b\b\b\b\b\b\b\b\b\b\b\b\b\b\b\b\b\b\b\b\b\b\b\b\b\b\b\b\b\b\b\b\b\b\b\b\b\b\b\b\b\b\b\b\b\b\b\b\b\b\b\b\b\b\b\b\b\b\b\b\b\b\b\b\b\r112/112 [==============================] - 4s 36ms/step - loss: 6075.8735 - accuracy: 0.5441 - val_loss: 4171.9189 - val_accuracy: 0.6372\n",
            "Epoch 15/50\n",
            "111/112 [============================>.] - ETA: 0s - loss: 6620.7305 - accuracy: 0.5490"
          ]
        },
        {
          "output_type": "stream",
          "name": "stderr",
          "text": [
            "WARNING:tensorflow:Can save best model only with val_acc available, skipping.\n"
          ]
        },
        {
          "output_type": "stream",
          "name": "stdout",
          "text": [
            "\b\b\b\b\b\b\b\b\b\b\b\b\b\b\b\b\b\b\b\b\b\b\b\b\b\b\b\b\b\b\b\b\b\b\b\b\b\b\b\b\b\b\b\b\b\b\b\b\b\b\b\b\b\b\b\b\b\b\b\b\b\b\b\b\b\b\b\b\b\b\b\b\b\b\b\b\b\b\b\b\b\b\b\b\b\b\b\r112/112 [==============================] - 4s 36ms/step - loss: 6617.1265 - accuracy: 0.5494 - val_loss: 5135.4712 - val_accuracy: 0.6434\n",
            "Epoch 16/50\n",
            "111/112 [============================>.] - ETA: 0s - loss: 6610.5225 - accuracy: 0.5431"
          ]
        },
        {
          "output_type": "stream",
          "name": "stderr",
          "text": [
            "WARNING:tensorflow:Can save best model only with val_acc available, skipping.\n"
          ]
        },
        {
          "output_type": "stream",
          "name": "stdout",
          "text": [
            "\b\b\b\b\b\b\b\b\b\b\b\b\b\b\b\b\b\b\b\b\b\b\b\b\b\b\b\b\b\b\b\b\b\b\b\b\b\b\b\b\b\b\b\b\b\b\b\b\b\b\b\b\b\b\b\b\b\b\b\b\b\b\b\b\b\b\b\b\b\b\b\b\b\b\b\b\b\b\b\b\b\b\b\b\b\b\b\r112/112 [==============================] - 4s 36ms/step - loss: 6602.7065 - accuracy: 0.5437 - val_loss: 6496.5474 - val_accuracy: 0.6397\n",
            "Epoch 17/50\n",
            "112/112 [==============================] - ETA: 0s - loss: 6360.5898 - accuracy: 0.5474"
          ]
        },
        {
          "output_type": "stream",
          "name": "stderr",
          "text": [
            "WARNING:tensorflow:Can save best model only with val_acc available, skipping.\n"
          ]
        },
        {
          "output_type": "stream",
          "name": "stdout",
          "text": [
            "\b\b\b\b\b\b\b\b\b\b\b\b\b\b\b\b\b\b\b\b\b\b\b\b\b\b\b\b\b\b\b\b\b\b\b\b\b\b\b\b\b\b\b\b\b\b\b\b\b\b\b\b\b\b\b\b\b\b\b\b\b\b\b\b\b\b\b\b\b\b\b\b\b\b\b\b\b\b\b\b\b\b\b\b\b\b\b\r112/112 [==============================] - 4s 35ms/step - loss: 6360.5898 - accuracy: 0.5474 - val_loss: 3849.0137 - val_accuracy: 0.6234\n",
            "Epoch 18/50\n",
            "111/112 [============================>.] - ETA: 0s - loss: 6749.3369 - accuracy: 0.5476"
          ]
        },
        {
          "output_type": "stream",
          "name": "stderr",
          "text": [
            "WARNING:tensorflow:Can save best model only with val_acc available, skipping.\n"
          ]
        },
        {
          "output_type": "stream",
          "name": "stdout",
          "text": [
            "\b\b\b\b\b\b\b\b\b\b\b\b\b\b\b\b\b\b\b\b\b\b\b\b\b\b\b\b\b\b\b\b\b\b\b\b\b\b\b\b\b\b\b\b\b\b\b\b\b\b\b\b\b\b\b\b\b\b\b\b\b\b\b\b\b\b\b\b\b\b\b\b\b\b\b\b\b\b\b\b\b\b\b\b\b\b\b\r112/112 [==============================] - 4s 36ms/step - loss: 6769.8364 - accuracy: 0.5474 - val_loss: 5528.5591 - val_accuracy: 0.5736\n",
            "Epoch 19/50\n",
            "111/112 [============================>.] - ETA: 0s - loss: 7461.4482 - accuracy: 0.5428"
          ]
        },
        {
          "output_type": "stream",
          "name": "stderr",
          "text": [
            "WARNING:tensorflow:Can save best model only with val_acc available, skipping.\n"
          ]
        },
        {
          "output_type": "stream",
          "name": "stdout",
          "text": [
            "\b\b\b\b\b\b\b\b\b\b\b\b\b\b\b\b\b\b\b\b\b\b\b\b\b\b\b\b\b\b\b\b\b\b\b\b\b\b\b\b\b\b\b\b\b\b\b\b\b\b\b\b\b\b\b\b\b\b\b\b\b\b\b\b\b\b\b\b\b\b\b\b\b\b\b\b\b\b\b\b\b\b\b\b\b\b\b\r112/112 [==============================] - 4s 35ms/step - loss: 7443.8774 - accuracy: 0.5437 - val_loss: 7118.0054 - val_accuracy: 0.6397\n",
            "Epoch 20/50\n",
            "111/112 [============================>.] - ETA: 0s - loss: 6861.0645 - accuracy: 0.5352"
          ]
        },
        {
          "output_type": "stream",
          "name": "stderr",
          "text": [
            "WARNING:tensorflow:Can save best model only with val_acc available, skipping.\n"
          ]
        },
        {
          "output_type": "stream",
          "name": "stdout",
          "text": [
            "\b\b\b\b\b\b\b\b\b\b\b\b\b\b\b\b\b\b\b\b\b\b\b\b\b\b\b\b\b\b\b\b\b\b\b\b\b\b\b\b\b\b\b\b\b\b\b\b\b\b\b\b\b\b\b\b\b\b\b\b\b\b\b\b\b\b\b\b\b\b\b\b\b\b\b\b\b\b\b\b\b\b\b\b\b\b\b\r112/112 [==============================] - 4s 36ms/step - loss: 6853.8086 - accuracy: 0.5355 - val_loss: 3658.6384 - val_accuracy: 0.5686\n",
            "Epoch 21/50\n",
            "111/112 [============================>.] - ETA: 0s - loss: 6563.5234 - accuracy: 0.5407"
          ]
        },
        {
          "output_type": "stream",
          "name": "stderr",
          "text": [
            "WARNING:tensorflow:Can save best model only with val_acc available, skipping.\n"
          ]
        },
        {
          "output_type": "stream",
          "name": "stdout",
          "text": [
            "\b\b\b\b\b\b\b\b\b\b\b\b\b\b\b\b\b\b\b\b\b\b\b\b\b\b\b\b\b\b\b\b\b\b\b\b\b\b\b\b\b\b\b\b\b\b\b\b\b\b\b\b\b\b\b\b\b\b\b\b\b\b\b\b\b\b\b\b\b\b\b\b\b\b\b\b\b\b\b\b\b\b\b\b\b\b\b\r112/112 [==============================] - 4s 35ms/step - loss: 6547.9146 - accuracy: 0.5413 - val_loss: 5246.8853 - val_accuracy: 0.5012\n",
            "Epoch 22/50\n",
            "111/112 [============================>.] - ETA: 0s - loss: 6352.1113 - accuracy: 0.5417"
          ]
        },
        {
          "output_type": "stream",
          "name": "stderr",
          "text": [
            "WARNING:tensorflow:Can save best model only with val_acc available, skipping.\n"
          ]
        },
        {
          "output_type": "stream",
          "name": "stdout",
          "text": [
            "\b\b\b\b\b\b\b\b\b\b\b\b\b\b\b\b\b\b\b\b\b\b\b\b\b\b\b\b\b\b\b\b\b\b\b\b\b\b\b\b\b\b\b\b\b\b\b\b\b\b\b\b\b\b\b\b\b\b\b\b\b\b\b\b\b\b\b\b\b\b\b\b\b\b\b\b\b\b\b\b\b\b\b\b\b\b\b\r112/112 [==============================] - 4s 35ms/step - loss: 6351.0825 - accuracy: 0.5406 - val_loss: 5251.4365 - val_accuracy: 0.6421\n",
            "Epoch 23/50\n",
            "111/112 [============================>.] - ETA: 0s - loss: 5276.5117 - accuracy: 0.5510"
          ]
        },
        {
          "output_type": "stream",
          "name": "stderr",
          "text": [
            "WARNING:tensorflow:Can save best model only with val_acc available, skipping.\n"
          ]
        },
        {
          "output_type": "stream",
          "name": "stdout",
          "text": [
            "\b\b\b\b\b\b\b\b\b\b\b\b\b\b\b\b\b\b\b\b\b\b\b\b\b\b\b\b\b\b\b\b\b\b\b\b\b\b\b\b\b\b\b\b\b\b\b\b\b\b\b\b\b\b\b\b\b\b\b\b\b\b\b\b\b\b\b\b\b\b\b\b\b\b\b\b\b\b\b\b\b\b\b\b\b\b\b\r112/112 [==============================] - 4s 35ms/step - loss: 5292.1616 - accuracy: 0.5505 - val_loss: 3680.4773 - val_accuracy: 0.5761\n",
            "Epoch 24/50\n",
            "112/112 [==============================] - ETA: 0s - loss: 6853.2729 - accuracy: 0.5406"
          ]
        },
        {
          "output_type": "stream",
          "name": "stderr",
          "text": [
            "WARNING:tensorflow:Can save best model only with val_acc available, skipping.\n"
          ]
        },
        {
          "output_type": "stream",
          "name": "stdout",
          "text": [
            "\b\b\b\b\b\b\b\b\b\b\b\b\b\b\b\b\b\b\b\b\b\b\b\b\b\b\b\b\b\b\b\b\b\b\b\b\b\b\b\b\b\b\b\b\b\b\b\b\b\b\b\b\b\b\b\b\b\b\b\b\b\b\b\b\b\b\b\b\b\b\b\b\b\b\b\b\b\b\b\b\b\b\b\b\b\b\b\r112/112 [==============================] - 4s 36ms/step - loss: 6853.2729 - accuracy: 0.5406 - val_loss: 8926.2129 - val_accuracy: 0.6397\n",
            "Epoch 25/50\n",
            "111/112 [============================>.] - ETA: 0s - loss: 6258.0063 - accuracy: 0.5360"
          ]
        },
        {
          "output_type": "stream",
          "name": "stderr",
          "text": [
            "WARNING:tensorflow:Can save best model only with val_acc available, skipping.\n"
          ]
        },
        {
          "output_type": "stream",
          "name": "stdout",
          "text": [
            "\b\b\b\b\b\b\b\b\b\b\b\b\b\b\b\b\b\b\b\b\b\b\b\b\b\b\b\b\b\b\b\b\b\b\b\b\b\b\b\b\b\b\b\b\b\b\b\b\b\b\b\b\b\b\b\b\b\b\b\b\b\b\b\b\b\b\b\b\b\b\b\b\b\b\b\b\b\b\b\b\b\b\b\b\b\b\b\r112/112 [==============================] - 4s 36ms/step - loss: 6271.7568 - accuracy: 0.5372 - val_loss: 4390.3721 - val_accuracy: 0.5050\n",
            "Epoch 26/50\n",
            "111/112 [============================>.] - ETA: 0s - loss: 6673.9463 - accuracy: 0.5350"
          ]
        },
        {
          "output_type": "stream",
          "name": "stderr",
          "text": [
            "WARNING:tensorflow:Can save best model only with val_acc available, skipping.\n"
          ]
        },
        {
          "output_type": "stream",
          "name": "stdout",
          "text": [
            "\b\b\b\b\b\b\b\b\b\b\b\b\b\b\b\b\b\b\b\b\b\b\b\b\b\b\b\b\b\b\b\b\b\b\b\b\b\b\b\b\b\b\b\b\b\b\b\b\b\b\b\b\b\b\b\b\b\b\b\b\b\b\b\b\b\b\b\b\b\b\b\b\b\b\b\b\b\b\b\b\b\b\b\b\b\b\b\r112/112 [==============================] - 4s 37ms/step - loss: 6664.6304 - accuracy: 0.5351 - val_loss: 6899.2407 - val_accuracy: 0.6434\n",
            "Epoch 27/50\n",
            "111/112 [============================>.] - ETA: 0s - loss: 7051.1484 - accuracy: 0.5316"
          ]
        },
        {
          "output_type": "stream",
          "name": "stderr",
          "text": [
            "WARNING:tensorflow:Can save best model only with val_acc available, skipping.\n"
          ]
        },
        {
          "output_type": "stream",
          "name": "stdout",
          "text": [
            "\b\b\b\b\b\b\b\b\b\b\b\b\b\b\b\b\b\b\b\b\b\b\b\b\b\b\b\b\b\b\b\b\b\b\b\b\b\b\b\b\b\b\b\b\b\b\b\b\b\b\b\b\b\b\b\b\b\b\b\b\b\b\b\b\b\b\b\b\b\b\b\b\b\b\b\b\b\b\b\b\b\b\b\b\b\b\b\r112/112 [==============================] - 4s 35ms/step - loss: 7052.6792 - accuracy: 0.5306 - val_loss: 4203.7539 - val_accuracy: 0.6247\n",
            "Epoch 28/50\n",
            "111/112 [============================>.] - ETA: 0s - loss: 6747.1270 - accuracy: 0.5345"
          ]
        },
        {
          "output_type": "stream",
          "name": "stderr",
          "text": [
            "WARNING:tensorflow:Can save best model only with val_acc available, skipping.\n"
          ]
        },
        {
          "output_type": "stream",
          "name": "stdout",
          "text": [
            "\b\b\b\b\b\b\b\b\b\b\b\b\b\b\b\b\b\b\b\b\b\b\b\b\b\b\b\b\b\b\b\b\b\b\b\b\b\b\b\b\b\b\b\b\b\b\b\b\b\b\b\b\b\b\b\b\b\b\b\b\b\b\b\b\b\b\b\b\b\b\b\b\b\b\b\b\b\b\b\b\b\b\b\b\b\b\b\r112/112 [==============================] - 4s 35ms/step - loss: 6764.7920 - accuracy: 0.5340 - val_loss: 8886.8574 - val_accuracy: 0.6409\n",
            "Epoch 29/50\n",
            "111/112 [============================>.] - ETA: 0s - loss: 8006.0024 - accuracy: 0.5442"
          ]
        },
        {
          "output_type": "stream",
          "name": "stderr",
          "text": [
            "WARNING:tensorflow:Can save best model only with val_acc available, skipping.\n"
          ]
        },
        {
          "output_type": "stream",
          "name": "stdout",
          "text": [
            "\b\b\b\b\b\b\b\b\b\b\b\b\b\b\b\b\b\b\b\b\b\b\b\b\b\b\b\b\b\b\b\b\b\b\b\b\b\b\b\b\b\b\b\b\b\b\b\b\b\b\b\b\b\b\b\b\b\b\b\b\b\b\b\b\b\b\b\b\b\b\b\b\b\b\b\b\b\b\b\b\b\b\b\b\b\b\b\r112/112 [==============================] - 4s 35ms/step - loss: 8047.6172 - accuracy: 0.5445 - val_loss: 8542.4893 - val_accuracy: 0.6409\n",
            "Epoch 30/50\n",
            "111/112 [============================>.] - ETA: 0s - loss: 6189.4526 - accuracy: 0.5400"
          ]
        },
        {
          "output_type": "stream",
          "name": "stderr",
          "text": [
            "WARNING:tensorflow:Can save best model only with val_acc available, skipping.\n"
          ]
        },
        {
          "output_type": "stream",
          "name": "stdout",
          "text": [
            "\b\b\b\b\b\b\b\b\b\b\b\b\b\b\b\b\b\b\b\b\b\b\b\b\b\b\b\b\b\b\b\b\b\b\b\b\b\b\b\b\b\b\b\b\b\b\b\b\b\b\b\b\b\b\b\b\b\b\b\b\b\b\b\b\b\b\b\b\b\b\b\b\b\b\b\b\b\b\b\b\b\b\b\b\b\b\b\r112/112 [==============================] - 4s 36ms/step - loss: 6181.3120 - accuracy: 0.5404 - val_loss: 7193.9961 - val_accuracy: 0.4302\n",
            "Epoch 31/50\n",
            "111/112 [============================>.] - ETA: 0s - loss: 4911.5322 - accuracy: 0.5364"
          ]
        },
        {
          "output_type": "stream",
          "name": "stderr",
          "text": [
            "WARNING:tensorflow:Can save best model only with val_acc available, skipping.\n"
          ]
        },
        {
          "output_type": "stream",
          "name": "stdout",
          "text": [
            "\b\b\b\b\b\b\b\b\b\b\b\b\b\b\b\b\b\b\b\b\b\b\b\b\b\b\b\b\b\b\b\b\b\b\b\b\b\b\b\b\b\b\b\b\b\b\b\b\b\b\b\b\b\b\b\b\b\b\b\b\b\b\b\b\b\b\b\b\b\b\b\b\b\b\b\b\b\b\b\b\b\b\b\b\b\b\b\r112/112 [==============================] - 4s 35ms/step - loss: 4915.0703 - accuracy: 0.5365 - val_loss: 6051.2832 - val_accuracy: 0.6409\n",
            "Epoch 32/50\n",
            "111/112 [============================>.] - ETA: 0s - loss: 5331.7725 - accuracy: 0.5393"
          ]
        },
        {
          "output_type": "stream",
          "name": "stderr",
          "text": [
            "WARNING:tensorflow:Can save best model only with val_acc available, skipping.\n"
          ]
        },
        {
          "output_type": "stream",
          "name": "stdout",
          "text": [
            "\b\b\b\b\b\b\b\b\b\b\b\b\b\b\b\b\b\b\b\b\b\b\b\b\b\b\b\b\b\b\b\b\b\b\b\b\b\b\b\b\b\b\b\b\b\b\b\b\b\b\b\b\b\b\b\b\b\b\b\b\b\b\b\b\b\b\b\b\b\b\b\b\b\b\b\b\b\b\b\b\b\b\b\b\b\b\b\r112/112 [==============================] - 4s 35ms/step - loss: 5332.7700 - accuracy: 0.5392 - val_loss: 4240.0605 - val_accuracy: 0.6446\n",
            "Epoch 33/50\n",
            "111/112 [============================>.] - ETA: 0s - loss: 5471.6372 - accuracy: 0.5456"
          ]
        },
        {
          "output_type": "stream",
          "name": "stderr",
          "text": [
            "WARNING:tensorflow:Can save best model only with val_acc available, skipping.\n"
          ]
        },
        {
          "output_type": "stream",
          "name": "stdout",
          "text": [
            "\b\b\b\b\b\b\b\b\b\b\b\b\b\b\b\b\b\b\b\b\b\b\b\b\b\b\b\b\b\b\b\b\b\b\b\b\b\b\b\b\b\b\b\b\b\b\b\b\b\b\b\b\b\b\b\b\b\b\b\b\b\b\b\b\b\b\b\b\b\b\b\b\b\b\b\b\b\b\b\b\b\b\b\b\b\b\b\r112/112 [==============================] - 4s 36ms/step - loss: 5465.5015 - accuracy: 0.5451 - val_loss: 2738.7568 - val_accuracy: 0.6384\n",
            "Epoch 34/50\n",
            "112/112 [==============================] - ETA: 0s - loss: 5794.8550 - accuracy: 0.5430"
          ]
        },
        {
          "output_type": "stream",
          "name": "stderr",
          "text": [
            "WARNING:tensorflow:Can save best model only with val_acc available, skipping.\n"
          ]
        },
        {
          "output_type": "stream",
          "name": "stdout",
          "text": [
            "\b\b\b\b\b\b\b\b\b\b\b\b\b\b\b\b\b\b\b\b\b\b\b\b\b\b\b\b\b\b\b\b\b\b\b\b\b\b\b\b\b\b\b\b\b\b\b\b\b\b\b\b\b\b\b\b\b\b\b\b\b\b\b\b\b\b\b\b\b\b\b\b\b\b\b\b\b\b\b\b\b\b\b\b\b\b\b\r112/112 [==============================] - 4s 36ms/step - loss: 5794.8550 - accuracy: 0.5430 - val_loss: 4350.9531 - val_accuracy: 0.6434\n",
            "Epoch 35/50\n",
            "111/112 [============================>.] - ETA: 0s - loss: 5616.7061 - accuracy: 0.5412"
          ]
        },
        {
          "output_type": "stream",
          "name": "stderr",
          "text": [
            "WARNING:tensorflow:Can save best model only with val_acc available, skipping.\n"
          ]
        },
        {
          "output_type": "stream",
          "name": "stdout",
          "text": [
            "\b\b\b\b\b\b\b\b\b\b\b\b\b\b\b\b\b\b\b\b\b\b\b\b\b\b\b\b\b\b\b\b\b\b\b\b\b\b\b\b\b\b\b\b\b\b\b\b\b\b\b\b\b\b\b\b\b\b\b\b\b\b\b\b\b\b\b\b\b\b\b\b\b\b\b\b\b\b\b\b\b\b\b\b\b\b\b\r112/112 [==============================] - 4s 36ms/step - loss: 5600.0088 - accuracy: 0.5416 - val_loss: 4614.0952 - val_accuracy: 0.6446\n",
            "Epoch 36/50\n",
            "111/112 [============================>.] - ETA: 0s - loss: 5933.8486 - accuracy: 0.5445"
          ]
        },
        {
          "output_type": "stream",
          "name": "stderr",
          "text": [
            "WARNING:tensorflow:Can save best model only with val_acc available, skipping.\n"
          ]
        },
        {
          "output_type": "stream",
          "name": "stdout",
          "text": [
            "\b\b\b\b\b\b\b\b\b\b\b\b\b\b\b\b\b\b\b\b\b\b\b\b\b\b\b\b\b\b\b\b\b\b\b\b\b\b\b\b\b\b\b\b\b\b\b\b\b\b\b\b\b\b\b\b\b\b\b\b\b\b\b\b\b\b\b\b\b\b\b\b\b\b\b\b\b\b\b\b\b\b\b\b\b\b\b\r112/112 [==============================] - 4s 36ms/step - loss: 5948.0015 - accuracy: 0.5438 - val_loss: 9059.6729 - val_accuracy: 0.4813\n",
            "Epoch 37/50\n",
            "111/112 [============================>.] - ETA: 0s - loss: 5816.5122 - accuracy: 0.5483"
          ]
        },
        {
          "output_type": "stream",
          "name": "stderr",
          "text": [
            "WARNING:tensorflow:Can save best model only with val_acc available, skipping.\n"
          ]
        },
        {
          "output_type": "stream",
          "name": "stdout",
          "text": [
            "\b\b\b\b\b\b\b\b\b\b\b\b\b\b\b\b\b\b\b\b\b\b\b\b\b\b\b\b\b\b\b\b\b\b\b\b\b\b\b\b\b\b\b\b\b\b\b\b\b\b\b\b\b\b\b\b\b\b\b\b\b\b\b\b\b\b\b\b\b\b\b\b\b\b\b\b\b\b\b\b\b\b\b\b\b\b\b\r112/112 [==============================] - 4s 36ms/step - loss: 5811.8560 - accuracy: 0.5488 - val_loss: 7917.8403 - val_accuracy: 0.4913\n",
            "Epoch 38/50\n",
            "111/112 [============================>.] - ETA: 0s - loss: 5254.4673 - accuracy: 0.5520"
          ]
        },
        {
          "output_type": "stream",
          "name": "stderr",
          "text": [
            "WARNING:tensorflow:Can save best model only with val_acc available, skipping.\n"
          ]
        },
        {
          "output_type": "stream",
          "name": "stdout",
          "text": [
            "\b\b\b\b\b\b\b\b\b\b\b\b\b\b\b\b\b\b\b\b\b\b\b\b\b\b\b\b\b\b\b\b\b\b\b\b\b\b\b\b\b\b\b\b\b\b\b\b\b\b\b\b\b\b\b\b\b\b\b\b\b\b\b\b\b\b\b\b\b\b\b\b\b\b\b\b\b\b\b\b\b\b\b\b\b\b\b\r112/112 [==============================] - 4s 35ms/step - loss: 5246.5176 - accuracy: 0.5519 - val_loss: 5042.6338 - val_accuracy: 0.4314\n",
            "Epoch 39/50\n",
            "111/112 [============================>.] - ETA: 0s - loss: 6150.3921 - accuracy: 0.5370"
          ]
        },
        {
          "output_type": "stream",
          "name": "stderr",
          "text": [
            "WARNING:tensorflow:Can save best model only with val_acc available, skipping.\n"
          ]
        },
        {
          "output_type": "stream",
          "name": "stdout",
          "text": [
            "\b\b\b\b\b\b\b\b\b\b\b\b\b\b\b\b\b\b\b\b\b\b\b\b\b\b\b\b\b\b\b\b\b\b\b\b\b\b\b\b\b\b\b\b\b\b\b\b\b\b\b\b\b\b\b\b\b\b\b\b\b\b\b\b\b\b\b\b\b\b\b\b\b\b\b\b\b\b\b\b\b\b\b\b\b\b\b\r112/112 [==============================] - 4s 36ms/step - loss: 6132.8193 - accuracy: 0.5368 - val_loss: 3523.6812 - val_accuracy: 0.6334\n",
            "Epoch 40/50\n",
            "111/112 [============================>.] - ETA: 0s - loss: 5005.2383 - accuracy: 0.5473"
          ]
        },
        {
          "output_type": "stream",
          "name": "stderr",
          "text": [
            "WARNING:tensorflow:Can save best model only with val_acc available, skipping.\n"
          ]
        },
        {
          "output_type": "stream",
          "name": "stdout",
          "text": [
            "\b\b\b\b\b\b\b\b\b\b\b\b\b\b\b\b\b\b\b\b\b\b\b\b\b\b\b\b\b\b\b\b\b\b\b\b\b\b\b\b\b\b\b\b\b\b\b\b\b\b\b\b\b\b\b\b\b\b\b\b\b\b\b\b\b\b\b\b\b\b\b\b\b\b\b\b\b\b\b\b\b\b\b\b\b\b\b\r112/112 [==============================] - 4s 36ms/step - loss: 4994.2451 - accuracy: 0.5470 - val_loss: 4156.4189 - val_accuracy: 0.4576\n",
            "Epoch 41/50\n",
            "111/112 [============================>.] - ETA: 0s - loss: 5140.1880 - accuracy: 0.5415"
          ]
        },
        {
          "output_type": "stream",
          "name": "stderr",
          "text": [
            "WARNING:tensorflow:Can save best model only with val_acc available, skipping.\n"
          ]
        },
        {
          "output_type": "stream",
          "name": "stdout",
          "text": [
            "\b\b\b\b\b\b\b\b\b\b\b\b\b\b\b\b\b\b\b\b\b\b\b\b\b\b\b\b\b\b\b\b\b\b\b\b\b\b\b\b\b\b\b\b\b\b\b\b\b\b\b\b\b\b\b\b\b\b\b\b\b\b\b\b\b\b\b\b\b\b\b\b\b\b\b\b\b\b\b\b\b\b\b\b\b\b\b\r112/112 [==============================] - 4s 36ms/step - loss: 5129.4731 - accuracy: 0.5416 - val_loss: 2965.9253 - val_accuracy: 0.6397\n",
            "Epoch 42/50\n",
            "112/112 [==============================] - ETA: 0s - loss: 4381.5020 - accuracy: 0.5459"
          ]
        },
        {
          "output_type": "stream",
          "name": "stderr",
          "text": [
            "WARNING:tensorflow:Can save best model only with val_acc available, skipping.\n"
          ]
        },
        {
          "output_type": "stream",
          "name": "stdout",
          "text": [
            "\b\b\b\b\b\b\b\b\b\b\b\b\b\b\b\b\b\b\b\b\b\b\b\b\b\b\b\b\b\b\b\b\b\b\b\b\b\b\b\b\b\b\b\b\b\b\b\b\b\b\b\b\b\b\b\b\b\b\b\b\b\b\b\b\b\b\b\b\b\b\b\b\b\b\b\b\b\b\b\b\b\b\b\b\b\b\b\r112/112 [==============================] - 4s 35ms/step - loss: 4381.5020 - accuracy: 0.5459 - val_loss: 4447.4062 - val_accuracy: 0.4825\n",
            "Epoch 43/50\n",
            "111/112 [============================>.] - ETA: 0s - loss: 4464.7964 - accuracy: 0.5439"
          ]
        },
        {
          "output_type": "stream",
          "name": "stderr",
          "text": [
            "WARNING:tensorflow:Can save best model only with val_acc available, skipping.\n"
          ]
        },
        {
          "output_type": "stream",
          "name": "stdout",
          "text": [
            "\b\b\b\b\b\b\b\b\b\b\b\b\b\b\b\b\b\b\b\b\b\b\b\b\b\b\b\b\b\b\b\b\b\b\b\b\b\b\b\b\b\b\b\b\b\b\b\b\b\b\b\b\b\b\b\b\b\b\b\b\b\b\b\b\b\b\b\b\b\b\b\b\b\b\b\b\b\b\b\b\b\b\b\b\b\b\b\r112/112 [==============================] - 4s 35ms/step - loss: 4470.7798 - accuracy: 0.5437 - val_loss: 4342.8633 - val_accuracy: 0.6421\n",
            "Epoch 44/50\n",
            "112/112 [==============================] - ETA: 0s - loss: 4173.7661 - accuracy: 0.5434"
          ]
        },
        {
          "output_type": "stream",
          "name": "stderr",
          "text": [
            "WARNING:tensorflow:Can save best model only with val_acc available, skipping.\n"
          ]
        },
        {
          "output_type": "stream",
          "name": "stdout",
          "text": [
            "\b\b\b\b\b\b\b\b\b\b\b\b\b\b\b\b\b\b\b\b\b\b\b\b\b\b\b\b\b\b\b\b\b\b\b\b\b\b\b\b\b\b\b\b\b\b\b\b\b\b\b\b\b\b\b\b\b\b\b\b\b\b\b\b\b\b\b\b\b\b\b\b\b\b\b\b\b\b\b\b\b\b\b\b\b\b\b\r112/112 [==============================] - 4s 36ms/step - loss: 4173.7661 - accuracy: 0.5434 - val_loss: 4665.4102 - val_accuracy: 0.6259\n",
            "Epoch 45/50\n",
            "111/112 [============================>.] - ETA: 0s - loss: 5987.2651 - accuracy: 0.5298"
          ]
        },
        {
          "output_type": "stream",
          "name": "stderr",
          "text": [
            "WARNING:tensorflow:Can save best model only with val_acc available, skipping.\n"
          ]
        },
        {
          "output_type": "stream",
          "name": "stdout",
          "text": [
            "\b\b\b\b\b\b\b\b\b\b\b\b\b\b\b\b\b\b\b\b\b\b\b\b\b\b\b\b\b\b\b\b\b\b\b\b\b\b\b\b\b\b\b\b\b\b\b\b\b\b\b\b\b\b\b\b\b\b\b\b\b\b\b\b\b\b\b\b\b\b\b\b\b\b\b\b\b\b\b\b\b\b\b\b\b\b\b\r112/112 [==============================] - 4s 35ms/step - loss: 5992.3301 - accuracy: 0.5297 - val_loss: 4016.0093 - val_accuracy: 0.4364\n",
            "Epoch 46/50\n",
            "111/112 [============================>.] - ETA: 0s - loss: 7223.2368 - accuracy: 0.5289"
          ]
        },
        {
          "output_type": "stream",
          "name": "stderr",
          "text": [
            "WARNING:tensorflow:Can save best model only with val_acc available, skipping.\n"
          ]
        },
        {
          "output_type": "stream",
          "name": "stdout",
          "text": [
            "\b\b\b\b\b\b\b\b\b\b\b\b\b\b\b\b\b\b\b\b\b\b\b\b\b\b\b\b\b\b\b\b\b\b\b\b\b\b\b\b\b\b\b\b\b\b\b\b\b\b\b\b\b\b\b\b\b\b\b\b\b\b\b\b\b\b\b\b\b\b\b\b\b\b\b\b\b\b\b\b\b\b\b\b\b\b\b\r112/112 [==============================] - 4s 35ms/step - loss: 7215.9478 - accuracy: 0.5295 - val_loss: 9857.1377 - val_accuracy: 0.6359\n",
            "Epoch 47/50\n",
            "111/112 [============================>.] - ETA: 0s - loss: 9165.5801 - accuracy: 0.5332"
          ]
        },
        {
          "output_type": "stream",
          "name": "stderr",
          "text": [
            "WARNING:tensorflow:Can save best model only with val_acc available, skipping.\n"
          ]
        },
        {
          "output_type": "stream",
          "name": "stdout",
          "text": [
            "\b\b\b\b\b\b\b\b\b\b\b\b\b\b\b\b\b\b\b\b\b\b\b\b\b\b\b\b\b\b\b\b\b\b\b\b\b\b\b\b\b\b\b\b\b\b\b\b\b\b\b\b\b\b\b\b\b\b\b\b\b\b\b\b\b\b\b\b\b\b\b\b\b\b\b\b\b\b\b\b\b\b\b\b\b\b\b\r112/112 [==============================] - 4s 35ms/step - loss: 9126.6133 - accuracy: 0.5343 - val_loss: 3788.8408 - val_accuracy: 0.6160\n",
            "Epoch 48/50\n",
            "111/112 [============================>.] - ETA: 0s - loss: 4109.3320 - accuracy: 0.5496"
          ]
        },
        {
          "output_type": "stream",
          "name": "stderr",
          "text": [
            "WARNING:tensorflow:Can save best model only with val_acc available, skipping.\n"
          ]
        },
        {
          "output_type": "stream",
          "name": "stdout",
          "text": [
            "\b\b\b\b\b\b\b\b\b\b\b\b\b\b\b\b\b\b\b\b\b\b\b\b\b\b\b\b\b\b\b\b\b\b\b\b\b\b\b\b\b\b\b\b\b\b\b\b\b\b\b\b\b\b\b\b\b\b\b\b\b\b\b\b\b\b\b\b\b\b\b\b\b\b\b\b\b\b\b\b\b\b\b\b\b\b\b\r112/112 [==============================] - 4s 36ms/step - loss: 4101.3481 - accuracy: 0.5495 - val_loss: 3321.0063 - val_accuracy: 0.4888\n",
            "Epoch 49/50\n",
            "111/112 [============================>.] - ETA: 0s - loss: 4688.2427 - accuracy: 0.5480"
          ]
        },
        {
          "output_type": "stream",
          "name": "stderr",
          "text": [
            "WARNING:tensorflow:Can save best model only with val_acc available, skipping.\n"
          ]
        },
        {
          "output_type": "stream",
          "name": "stdout",
          "text": [
            "\b\b\b\b\b\b\b\b\b\b\b\b\b\b\b\b\b\b\b\b\b\b\b\b\b\b\b\b\b\b\b\b\b\b\b\b\b\b\b\b\b\b\b\b\b\b\b\b\b\b\b\b\b\b\b\b\b\b\b\b\b\b\b\b\b\b\b\b\b\b\b\b\b\b\b\b\b\b\b\b\b\b\b\b\b\b\b\r112/112 [==============================] - 4s 36ms/step - loss: 4687.0742 - accuracy: 0.5470 - val_loss: 2246.6865 - val_accuracy: 0.6097\n",
            "Epoch 50/50\n",
            "111/112 [============================>.] - ETA: 0s - loss: 4085.3770 - accuracy: 0.5424"
          ]
        },
        {
          "output_type": "stream",
          "name": "stderr",
          "text": [
            "WARNING:tensorflow:Can save best model only with val_acc available, skipping.\n"
          ]
        },
        {
          "output_type": "stream",
          "name": "stdout",
          "text": [
            "\b\b\b\b\b\b\b\b\b\b\b\b\b\b\b\b\b\b\b\b\b\b\b\b\b\b\b\b\b\b\b\b\b\b\b\b\b\b\b\b\b\b\b\b\b\b\b\b\b\b\b\b\b\b\b\b\b\b\b\b\b\b\b\b\b\b\b\b\b\b\b\b\b\b\b\b\b\b\b\b\b\b\b\b\b\b\b\r112/112 [==============================] - 4s 36ms/step - loss: 4087.1611 - accuracy: 0.5418 - val_loss: 3556.9302 - val_accuracy: 0.6446\n"
          ]
        }
      ]
    },
    {
      "cell_type": "code",
      "source": [
        "# Define the optimizer\n",
        "optimizer = Adam(learning_rate=1E-4)\n",
        "# Compile the model\n",
        "model.compile(optimizer = optimizer , loss = \"categorical_crossentropy\", metrics=[\"accuracy\"])\n",
        "\n",
        "\n",
        "\n",
        "# Fit the model\n",
        "epochs = 50 \n",
        "batch_size = 64\n",
        "history_1E_4= model.fit_generator(datagen.flow(x_train,y_train, batch_size=batch_size),\n",
        "                              epochs = epochs, validation_data = (x_validate,y_validate),\n",
        "                              verbose = 1, steps_per_epoch=x_train.shape[0] // batch_size\n",
        "                              , callbacks=[checkpoint])"
      ],
      "metadata": {
        "colab": {
          "base_uri": "https://localhost:8080/"
        },
        "id": "vEHkGM6Cp7ta",
        "outputId": "252e6a38-0367-4af2-aaaf-94c6ca8801b6"
      },
      "execution_count": 22,
      "outputs": [
        {
          "output_type": "stream",
          "name": "stdout",
          "text": [
            "Epoch 1/50\n"
          ]
        },
        {
          "output_type": "stream",
          "name": "stderr",
          "text": [
            "<ipython-input-22-b71698b28300>:11: UserWarning: `Model.fit_generator` is deprecated and will be removed in a future version. Please use `Model.fit`, which supports generators.\n",
            "  history_1E_4= model.fit_generator(datagen.flow(x_train,y_train, batch_size=batch_size),\n"
          ]
        },
        {
          "output_type": "stream",
          "name": "stdout",
          "text": [
            "111/112 [============================>.] - ETA: 0s - loss: 2137.8857 - accuracy: 0.5760"
          ]
        },
        {
          "output_type": "stream",
          "name": "stderr",
          "text": [
            "WARNING:tensorflow:Can save best model only with val_acc available, skipping.\n"
          ]
        },
        {
          "output_type": "stream",
          "name": "stdout",
          "text": [
            "\b\b\b\b\b\b\b\b\b\b\b\b\b\b\b\b\b\b\b\b\b\b\b\b\b\b\b\b\b\b\b\b\b\b\b\b\b\b\b\b\b\b\b\b\b\b\b\b\b\b\b\b\b\b\b\b\b\b\b\b\b\b\b\b\b\b\b\b\b\b\b\b\b\b\b\b\b\b\b\b\b\b\b\b\b\b\b\r112/112 [==============================] - 5s 37ms/step - loss: 2133.0325 - accuracy: 0.5753 - val_loss: 1113.9219 - val_accuracy: 0.6384\n",
            "Epoch 2/50\n",
            "111/112 [============================>.] - ETA: 0s - loss: 967.6741 - accuracy: 0.5521"
          ]
        },
        {
          "output_type": "stream",
          "name": "stderr",
          "text": [
            "WARNING:tensorflow:Can save best model only with val_acc available, skipping.\n"
          ]
        },
        {
          "output_type": "stream",
          "name": "stdout",
          "text": [
            "\b\b\b\b\b\b\b\b\b\b\b\b\b\b\b\b\b\b\b\b\b\b\b\b\b\b\b\b\b\b\b\b\b\b\b\b\b\b\b\b\b\b\b\b\b\b\b\b\b\b\b\b\b\b\b\b\b\b\b\b\b\b\b\b\b\b\b\b\b\b\b\b\b\b\b\b\b\b\b\b\b\b\b\b\b\b\r112/112 [==============================] - 4s 36ms/step - loss: 967.4599 - accuracy: 0.5519 - val_loss: 623.5785 - val_accuracy: 0.6446\n",
            "Epoch 3/50\n",
            "112/112 [==============================] - ETA: 0s - loss: 661.4017 - accuracy: 0.5550"
          ]
        },
        {
          "output_type": "stream",
          "name": "stderr",
          "text": [
            "WARNING:tensorflow:Can save best model only with val_acc available, skipping.\n"
          ]
        },
        {
          "output_type": "stream",
          "name": "stdout",
          "text": [
            "\b\b\b\b\b\b\b\b\b\b\b\b\b\b\b\b\b\b\b\b\b\b\b\b\b\b\b\b\b\b\b\b\b\b\b\b\b\b\b\b\b\b\b\b\b\b\b\b\b\b\b\b\b\b\b\b\b\b\b\b\b\b\b\b\b\b\b\b\b\b\b\b\b\b\b\b\b\b\b\b\b\b\b\b\b\b\r112/112 [==============================] - 4s 39ms/step - loss: 661.4017 - accuracy: 0.5550 - val_loss: 418.9005 - val_accuracy: 0.4850\n",
            "Epoch 4/50\n",
            "111/112 [============================>.] - ETA: 0s - loss: 575.8612 - accuracy: 0.5662"
          ]
        },
        {
          "output_type": "stream",
          "name": "stderr",
          "text": [
            "WARNING:tensorflow:Can save best model only with val_acc available, skipping.\n"
          ]
        },
        {
          "output_type": "stream",
          "name": "stdout",
          "text": [
            "\b\b\b\b\b\b\b\b\b\b\b\b\b\b\b\b\b\b\b\b\b\b\b\b\b\b\b\b\b\b\b\b\b\b\b\b\b\b\b\b\b\b\b\b\b\b\b\b\b\b\b\b\b\b\b\b\b\b\b\b\b\b\b\b\b\b\b\b\b\b\b\b\b\b\b\b\b\b\b\b\b\b\b\b\b\b\r112/112 [==============================] - 5s 43ms/step - loss: 574.2128 - accuracy: 0.5665 - val_loss: 475.3080 - val_accuracy: 0.6446\n",
            "Epoch 5/50\n",
            "111/112 [============================>.] - ETA: 0s - loss: 493.9976 - accuracy: 0.5668"
          ]
        },
        {
          "output_type": "stream",
          "name": "stderr",
          "text": [
            "WARNING:tensorflow:Can save best model only with val_acc available, skipping.\n"
          ]
        },
        {
          "output_type": "stream",
          "name": "stdout",
          "text": [
            "\b\b\b\b\b\b\b\b\b\b\b\b\b\b\b\b\b\b\b\b\b\b\b\b\b\b\b\b\b\b\b\b\b\b\b\b\b\b\b\b\b\b\b\b\b\b\b\b\b\b\b\b\b\b\b\b\b\b\b\b\b\b\b\b\b\b\b\b\b\b\b\b\b\b\b\b\b\b\b\b\b\b\b\b\b\b\r112/112 [==============================] - 4s 35ms/step - loss: 493.1432 - accuracy: 0.5672 - val_loss: 350.3810 - val_accuracy: 0.5611\n",
            "Epoch 6/50\n",
            "111/112 [============================>.] - ETA: 0s - loss: 426.3067 - accuracy: 0.5600"
          ]
        },
        {
          "output_type": "stream",
          "name": "stderr",
          "text": [
            "WARNING:tensorflow:Can save best model only with val_acc available, skipping.\n"
          ]
        },
        {
          "output_type": "stream",
          "name": "stdout",
          "text": [
            "\b\b\b\b\b\b\b\b\b\b\b\b\b\b\b\b\b\b\b\b\b\b\b\b\b\b\b\b\b\b\b\b\b\b\b\b\b\b\b\b\b\b\b\b\b\b\b\b\b\b\b\b\b\b\b\b\b\b\b\b\b\b\b\b\b\b\b\b\b\b\b\b\b\b\b\b\b\b\b\b\b\b\b\b\b\b\r112/112 [==============================] - 4s 35ms/step - loss: 425.8552 - accuracy: 0.5612 - val_loss: 591.0682 - val_accuracy: 0.6421\n",
            "Epoch 7/50\n",
            "111/112 [============================>.] - ETA: 0s - loss: 443.9770 - accuracy: 0.5634"
          ]
        },
        {
          "output_type": "stream",
          "name": "stderr",
          "text": [
            "WARNING:tensorflow:Can save best model only with val_acc available, skipping.\n"
          ]
        },
        {
          "output_type": "stream",
          "name": "stdout",
          "text": [
            "\b\b\b\b\b\b\b\b\b\b\b\b\b\b\b\b\b\b\b\b\b\b\b\b\b\b\b\b\b\b\b\b\b\b\b\b\b\b\b\b\b\b\b\b\b\b\b\b\b\b\b\b\b\b\b\b\b\b\b\b\b\b\b\b\b\b\b\b\b\b\b\b\b\b\b\b\b\b\b\b\b\b\b\b\b\b\r112/112 [==============================] - 4s 36ms/step - loss: 443.9417 - accuracy: 0.5633 - val_loss: 273.0881 - val_accuracy: 0.5599\n",
            "Epoch 8/50\n",
            "111/112 [============================>.] - ETA: 0s - loss: 421.5606 - accuracy: 0.5569"
          ]
        },
        {
          "output_type": "stream",
          "name": "stderr",
          "text": [
            "WARNING:tensorflow:Can save best model only with val_acc available, skipping.\n"
          ]
        },
        {
          "output_type": "stream",
          "name": "stdout",
          "text": [
            "\b\b\b\b\b\b\b\b\b\b\b\b\b\b\b\b\b\b\b\b\b\b\b\b\b\b\b\b\b\b\b\b\b\b\b\b\b\b\b\b\b\b\b\b\b\b\b\b\b\b\b\b\b\b\b\b\b\b\b\b\b\b\b\b\b\b\b\b\b\b\b\b\b\b\b\b\b\b\b\b\b\b\b\b\b\b\r112/112 [==============================] - 4s 35ms/step - loss: 420.8530 - accuracy: 0.5579 - val_loss: 345.3554 - val_accuracy: 0.6197\n",
            "Epoch 9/50\n",
            "111/112 [============================>.] - ETA: 0s - loss: 457.0356 - accuracy: 0.5628"
          ]
        },
        {
          "output_type": "stream",
          "name": "stderr",
          "text": [
            "WARNING:tensorflow:Can save best model only with val_acc available, skipping.\n"
          ]
        },
        {
          "output_type": "stream",
          "name": "stdout",
          "text": [
            "\b\b\b\b\b\b\b\b\b\b\b\b\b\b\b\b\b\b\b\b\b\b\b\b\b\b\b\b\b\b\b\b\b\b\b\b\b\b\b\b\b\b\b\b\b\b\b\b\b\b\b\b\b\b\b\b\b\b\b\b\b\b\b\b\b\b\b\b\b\b\b\b\b\b\b\b\b\b\b\b\b\b\b\b\b\b\r112/112 [==============================] - 4s 35ms/step - loss: 457.1121 - accuracy: 0.5621 - val_loss: 419.2763 - val_accuracy: 0.5810\n",
            "Epoch 10/50\n",
            "111/112 [============================>.] - ETA: 0s - loss: 452.4340 - accuracy: 0.5640"
          ]
        },
        {
          "output_type": "stream",
          "name": "stderr",
          "text": [
            "WARNING:tensorflow:Can save best model only with val_acc available, skipping.\n"
          ]
        },
        {
          "output_type": "stream",
          "name": "stdout",
          "text": [
            "\b\b\b\b\b\b\b\b\b\b\b\b\b\b\b\b\b\b\b\b\b\b\b\b\b\b\b\b\b\b\b\b\b\b\b\b\b\b\b\b\b\b\b\b\b\b\b\b\b\b\b\b\b\b\b\b\b\b\b\b\b\b\b\b\b\b\b\b\b\b\b\b\b\b\b\b\b\b\b\b\b\b\b\b\b\b\r112/112 [==============================] - 4s 35ms/step - loss: 452.7635 - accuracy: 0.5641 - val_loss: 464.9760 - val_accuracy: 0.6421\n",
            "Epoch 11/50\n",
            "111/112 [============================>.] - ETA: 0s - loss: 389.6555 - accuracy: 0.5602"
          ]
        },
        {
          "output_type": "stream",
          "name": "stderr",
          "text": [
            "WARNING:tensorflow:Can save best model only with val_acc available, skipping.\n"
          ]
        },
        {
          "output_type": "stream",
          "name": "stdout",
          "text": [
            "\b\b\b\b\b\b\b\b\b\b\b\b\b\b\b\b\b\b\b\b\b\b\b\b\b\b\b\b\b\b\b\b\b\b\b\b\b\b\b\b\b\b\b\b\b\b\b\b\b\b\b\b\b\b\b\b\b\b\b\b\b\b\b\b\b\b\b\b\b\b\b\b\b\b\b\b\b\b\b\b\b\b\b\b\b\b\r112/112 [==============================] - 4s 36ms/step - loss: 389.1707 - accuracy: 0.5599 - val_loss: 322.8759 - val_accuracy: 0.4988\n",
            "Epoch 12/50\n",
            "111/112 [============================>.] - ETA: 0s - loss: 363.7932 - accuracy: 0.5573"
          ]
        },
        {
          "output_type": "stream",
          "name": "stderr",
          "text": [
            "WARNING:tensorflow:Can save best model only with val_acc available, skipping.\n"
          ]
        },
        {
          "output_type": "stream",
          "name": "stdout",
          "text": [
            "\b\b\b\b\b\b\b\b\b\b\b\b\b\b\b\b\b\b\b\b\b\b\b\b\b\b\b\b\b\b\b\b\b\b\b\b\b\b\b\b\b\b\b\b\b\b\b\b\b\b\b\b\b\b\b\b\b\b\b\b\b\b\b\b\b\b\b\b\b\b\b\b\b\b\b\b\b\b\b\b\b\b\b\b\b\b\r112/112 [==============================] - 4s 35ms/step - loss: 364.7091 - accuracy: 0.5585 - val_loss: 137.5595 - val_accuracy: 0.6334\n",
            "Epoch 13/50\n",
            "111/112 [============================>.] - ETA: 0s - loss: 372.8816 - accuracy: 0.5548"
          ]
        },
        {
          "output_type": "stream",
          "name": "stderr",
          "text": [
            "WARNING:tensorflow:Can save best model only with val_acc available, skipping.\n"
          ]
        },
        {
          "output_type": "stream",
          "name": "stdout",
          "text": [
            "\b\b\b\b\b\b\b\b\b\b\b\b\b\b\b\b\b\b\b\b\b\b\b\b\b\b\b\b\b\b\b\b\b\b\b\b\b\b\b\b\b\b\b\b\b\b\b\b\b\b\b\b\b\b\b\b\b\b\b\b\b\b\b\b\b\b\b\b\b\b\b\b\b\b\b\b\b\b\b\b\b\b\b\b\b\b\r112/112 [==============================] - 4s 36ms/step - loss: 372.8343 - accuracy: 0.5553 - val_loss: 581.4425 - val_accuracy: 0.6035\n",
            "Epoch 14/50\n",
            "111/112 [============================>.] - ETA: 0s - loss: 400.3532 - accuracy: 0.5657"
          ]
        },
        {
          "output_type": "stream",
          "name": "stderr",
          "text": [
            "WARNING:tensorflow:Can save best model only with val_acc available, skipping.\n"
          ]
        },
        {
          "output_type": "stream",
          "name": "stdout",
          "text": [
            "\b\b\b\b\b\b\b\b\b\b\b\b\b\b\b\b\b\b\b\b\b\b\b\b\b\b\b\b\b\b\b\b\b\b\b\b\b\b\b\b\b\b\b\b\b\b\b\b\b\b\b\b\b\b\b\b\b\b\b\b\b\b\b\b\b\b\b\b\b\b\b\b\b\b\b\b\b\b\b\b\b\b\b\b\b\b\r112/112 [==============================] - 4s 35ms/step - loss: 398.8156 - accuracy: 0.5668 - val_loss: 494.5595 - val_accuracy: 0.4800\n",
            "Epoch 15/50\n",
            "111/112 [============================>.] - ETA: 0s - loss: 351.1577 - accuracy: 0.5546"
          ]
        },
        {
          "output_type": "stream",
          "name": "stderr",
          "text": [
            "WARNING:tensorflow:Can save best model only with val_acc available, skipping.\n"
          ]
        },
        {
          "output_type": "stream",
          "name": "stdout",
          "text": [
            "\b\b\b\b\b\b\b\b\b\b\b\b\b\b\b\b\b\b\b\b\b\b\b\b\b\b\b\b\b\b\b\b\b\b\b\b\b\b\b\b\b\b\b\b\b\b\b\b\b\b\b\b\b\b\b\b\b\b\b\b\b\b\b\b\b\b\b\b\b\b\b\b\b\b\b\b\b\b\b\b\b\b\b\b\b\b\r112/112 [==============================] - 4s 35ms/step - loss: 350.9377 - accuracy: 0.5561 - val_loss: 400.9385 - val_accuracy: 0.6010\n",
            "Epoch 16/50\n",
            "111/112 [============================>.] - ETA: 0s - loss: 372.3327 - accuracy: 0.5586"
          ]
        },
        {
          "output_type": "stream",
          "name": "stderr",
          "text": [
            "WARNING:tensorflow:Can save best model only with val_acc available, skipping.\n"
          ]
        },
        {
          "output_type": "stream",
          "name": "stdout",
          "text": [
            "\b\b\b\b\b\b\b\b\b\b\b\b\b\b\b\b\b\b\b\b\b\b\b\b\b\b\b\b\b\b\b\b\b\b\b\b\b\b\b\b\b\b\b\b\b\b\b\b\b\b\b\b\b\b\b\b\b\b\b\b\b\b\b\b\b\b\b\b\b\b\b\b\b\b\b\b\b\b\b\b\b\b\b\b\b\b\r112/112 [==============================] - 4s 36ms/step - loss: 372.5742 - accuracy: 0.5589 - val_loss: 246.5046 - val_accuracy: 0.6384\n",
            "Epoch 17/50\n",
            "111/112 [============================>.] - ETA: 0s - loss: 403.2225 - accuracy: 0.5597"
          ]
        },
        {
          "output_type": "stream",
          "name": "stderr",
          "text": [
            "WARNING:tensorflow:Can save best model only with val_acc available, skipping.\n"
          ]
        },
        {
          "output_type": "stream",
          "name": "stdout",
          "text": [
            "\b\b\b\b\b\b\b\b\b\b\b\b\b\b\b\b\b\b\b\b\b\b\b\b\b\b\b\b\b\b\b\b\b\b\b\b\b\b\b\b\b\b\b\b\b\b\b\b\b\b\b\b\b\b\b\b\b\b\b\b\b\b\b\b\b\b\b\b\b\b\b\b\b\b\b\b\b\b\b\b\b\b\b\b\b\b\r112/112 [==============================] - 4s 35ms/step - loss: 404.0425 - accuracy: 0.5596 - val_loss: 198.6402 - val_accuracy: 0.6584\n",
            "Epoch 18/50\n",
            "111/112 [============================>.] - ETA: 0s - loss: 368.9656 - accuracy: 0.5668"
          ]
        },
        {
          "output_type": "stream",
          "name": "stderr",
          "text": [
            "WARNING:tensorflow:Can save best model only with val_acc available, skipping.\n"
          ]
        },
        {
          "output_type": "stream",
          "name": "stdout",
          "text": [
            "\b\b\b\b\b\b\b\b\b\b\b\b\b\b\b\b\b\b\b\b\b\b\b\b\b\b\b\b\b\b\b\b\b\b\b\b\b\b\b\b\b\b\b\b\b\b\b\b\b\b\b\b\b\b\b\b\b\b\b\b\b\b\b\b\b\b\b\b\b\b\b\b\b\b\b\b\b\b\b\b\b\b\b\b\b\b\r112/112 [==============================] - 4s 36ms/step - loss: 369.0413 - accuracy: 0.5676 - val_loss: 401.8778 - val_accuracy: 0.5037\n",
            "Epoch 19/50\n",
            "111/112 [============================>.] - ETA: 0s - loss: 432.7775 - accuracy: 0.5541"
          ]
        },
        {
          "output_type": "stream",
          "name": "stderr",
          "text": [
            "WARNING:tensorflow:Can save best model only with val_acc available, skipping.\n"
          ]
        },
        {
          "output_type": "stream",
          "name": "stdout",
          "text": [
            "\b\b\b\b\b\b\b\b\b\b\b\b\b\b\b\b\b\b\b\b\b\b\b\b\b\b\b\b\b\b\b\b\b\b\b\b\b\b\b\b\b\b\b\b\b\b\b\b\b\b\b\b\b\b\b\b\b\b\b\b\b\b\b\b\b\b\b\b\b\b\b\b\b\b\b\b\b\b\b\b\b\b\b\b\b\b\r112/112 [==============================] - 4s 36ms/step - loss: 432.8141 - accuracy: 0.5549 - val_loss: 419.8634 - val_accuracy: 0.6434\n",
            "Epoch 20/50\n",
            "111/112 [============================>.] - ETA: 0s - loss: 420.4982 - accuracy: 0.5651"
          ]
        },
        {
          "output_type": "stream",
          "name": "stderr",
          "text": [
            "WARNING:tensorflow:Can save best model only with val_acc available, skipping.\n"
          ]
        },
        {
          "output_type": "stream",
          "name": "stdout",
          "text": [
            "\b\b\b\b\b\b\b\b\b\b\b\b\b\b\b\b\b\b\b\b\b\b\b\b\b\b\b\b\b\b\b\b\b\b\b\b\b\b\b\b\b\b\b\b\b\b\b\b\b\b\b\b\b\b\b\b\b\b\b\b\b\b\b\b\b\b\b\b\b\b\b\b\b\b\b\b\b\b\b\b\b\b\b\b\b\b\r112/112 [==============================] - 4s 36ms/step - loss: 420.8201 - accuracy: 0.5656 - val_loss: 341.8137 - val_accuracy: 0.6397\n",
            "Epoch 21/50\n",
            "111/112 [============================>.] - ETA: 0s - loss: 386.1207 - accuracy: 0.5580"
          ]
        },
        {
          "output_type": "stream",
          "name": "stderr",
          "text": [
            "WARNING:tensorflow:Can save best model only with val_acc available, skipping.\n"
          ]
        },
        {
          "output_type": "stream",
          "name": "stdout",
          "text": [
            "\b\b\b\b\b\b\b\b\b\b\b\b\b\b\b\b\b\b\b\b\b\b\b\b\b\b\b\b\b\b\b\b\b\b\b\b\b\b\b\b\b\b\b\b\b\b\b\b\b\b\b\b\b\b\b\b\b\b\b\b\b\b\b\b\b\b\b\b\b\b\b\b\b\b\b\b\b\b\b\b\b\b\b\b\b\b\r112/112 [==============================] - 4s 35ms/step - loss: 386.7561 - accuracy: 0.5575 - val_loss: 390.6187 - val_accuracy: 0.5673\n",
            "Epoch 22/50\n",
            "111/112 [============================>.] - ETA: 0s - loss: 393.5599 - accuracy: 0.5617"
          ]
        },
        {
          "output_type": "stream",
          "name": "stderr",
          "text": [
            "WARNING:tensorflow:Can save best model only with val_acc available, skipping.\n"
          ]
        },
        {
          "output_type": "stream",
          "name": "stdout",
          "text": [
            "\b\b\b\b\b\b\b\b\b\b\b\b\b\b\b\b\b\b\b\b\b\b\b\b\b\b\b\b\b\b\b\b\b\b\b\b\b\b\b\b\b\b\b\b\b\b\b\b\b\b\b\b\b\b\b\b\b\b\b\b\b\b\b\b\b\b\b\b\b\b\b\b\b\b\b\b\b\b\b\b\b\b\b\b\b\b\r112/112 [==============================] - 4s 36ms/step - loss: 392.8656 - accuracy: 0.5621 - val_loss: 358.2255 - val_accuracy: 0.6309\n",
            "Epoch 23/50\n",
            "111/112 [============================>.] - ETA: 0s - loss: 420.7327 - accuracy: 0.5599"
          ]
        },
        {
          "output_type": "stream",
          "name": "stderr",
          "text": [
            "WARNING:tensorflow:Can save best model only with val_acc available, skipping.\n"
          ]
        },
        {
          "output_type": "stream",
          "name": "stdout",
          "text": [
            "\b\b\b\b\b\b\b\b\b\b\b\b\b\b\b\b\b\b\b\b\b\b\b\b\b\b\b\b\b\b\b\b\b\b\b\b\b\b\b\b\b\b\b\b\b\b\b\b\b\b\b\b\b\b\b\b\b\b\b\b\b\b\b\b\b\b\b\b\b\b\b\b\b\b\b\b\b\b\b\b\b\b\b\b\b\b\r112/112 [==============================] - 4s 36ms/step - loss: 420.3928 - accuracy: 0.5596 - val_loss: 306.1729 - val_accuracy: 0.5224\n",
            "Epoch 24/50\n",
            "111/112 [============================>.] - ETA: 0s - loss: 327.5081 - accuracy: 0.5590"
          ]
        },
        {
          "output_type": "stream",
          "name": "stderr",
          "text": [
            "WARNING:tensorflow:Can save best model only with val_acc available, skipping.\n"
          ]
        },
        {
          "output_type": "stream",
          "name": "stdout",
          "text": [
            "\b\b\b\b\b\b\b\b\b\b\b\b\b\b\b\b\b\b\b\b\b\b\b\b\b\b\b\b\b\b\b\b\b\b\b\b\b\b\b\b\b\b\b\b\b\b\b\b\b\b\b\b\b\b\b\b\b\b\b\b\b\b\b\b\b\b\b\b\b\b\b\b\b\b\b\b\b\b\b\b\b\b\b\b\b\b\r112/112 [==============================] - 4s 36ms/step - loss: 327.4020 - accuracy: 0.5591 - val_loss: 254.1830 - val_accuracy: 0.6384\n",
            "Epoch 25/50\n",
            "111/112 [============================>.] - ETA: 0s - loss: 327.1228 - accuracy: 0.5613"
          ]
        },
        {
          "output_type": "stream",
          "name": "stderr",
          "text": [
            "WARNING:tensorflow:Can save best model only with val_acc available, skipping.\n"
          ]
        },
        {
          "output_type": "stream",
          "name": "stdout",
          "text": [
            "\b\b\b\b\b\b\b\b\b\b\b\b\b\b\b\b\b\b\b\b\b\b\b\b\b\b\b\b\b\b\b\b\b\b\b\b\b\b\b\b\b\b\b\b\b\b\b\b\b\b\b\b\b\b\b\b\b\b\b\b\b\b\b\b\b\b\b\b\b\b\b\b\b\b\b\b\b\b\b\b\b\b\b\b\b\b\r112/112 [==============================] - 4s 36ms/step - loss: 327.6800 - accuracy: 0.5606 - val_loss: 322.3638 - val_accuracy: 0.5499\n",
            "Epoch 26/50\n",
            "111/112 [============================>.] - ETA: 0s - loss: 383.9692 - accuracy: 0.5606"
          ]
        },
        {
          "output_type": "stream",
          "name": "stderr",
          "text": [
            "WARNING:tensorflow:Can save best model only with val_acc available, skipping.\n"
          ]
        },
        {
          "output_type": "stream",
          "name": "stdout",
          "text": [
            "\b\b\b\b\b\b\b\b\b\b\b\b\b\b\b\b\b\b\b\b\b\b\b\b\b\b\b\b\b\b\b\b\b\b\b\b\b\b\b\b\b\b\b\b\b\b\b\b\b\b\b\b\b\b\b\b\b\b\b\b\b\b\b\b\b\b\b\b\b\b\b\b\b\b\b\b\b\b\b\b\b\b\b\b\b\b\r112/112 [==============================] - 4s 36ms/step - loss: 382.9603 - accuracy: 0.5610 - val_loss: 205.7439 - val_accuracy: 0.6484\n",
            "Epoch 27/50\n",
            "111/112 [============================>.] - ETA: 0s - loss: 411.8156 - accuracy: 0.5582"
          ]
        },
        {
          "output_type": "stream",
          "name": "stderr",
          "text": [
            "WARNING:tensorflow:Can save best model only with val_acc available, skipping.\n"
          ]
        },
        {
          "output_type": "stream",
          "name": "stdout",
          "text": [
            "\b\b\b\b\b\b\b\b\b\b\b\b\b\b\b\b\b\b\b\b\b\b\b\b\b\b\b\b\b\b\b\b\b\b\b\b\b\b\b\b\b\b\b\b\b\b\b\b\b\b\b\b\b\b\b\b\b\b\b\b\b\b\b\b\b\b\b\b\b\b\b\b\b\b\b\b\b\b\b\b\b\b\b\b\b\b\r112/112 [==============================] - 4s 36ms/step - loss: 410.9299 - accuracy: 0.5586 - val_loss: 367.9647 - val_accuracy: 0.5075\n",
            "Epoch 28/50\n",
            "111/112 [============================>.] - ETA: 0s - loss: 374.4919 - accuracy: 0.5590"
          ]
        },
        {
          "output_type": "stream",
          "name": "stderr",
          "text": [
            "WARNING:tensorflow:Can save best model only with val_acc available, skipping.\n"
          ]
        },
        {
          "output_type": "stream",
          "name": "stdout",
          "text": [
            "\b\b\b\b\b\b\b\b\b\b\b\b\b\b\b\b\b\b\b\b\b\b\b\b\b\b\b\b\b\b\b\b\b\b\b\b\b\b\b\b\b\b\b\b\b\b\b\b\b\b\b\b\b\b\b\b\b\b\b\b\b\b\b\b\b\b\b\b\b\b\b\b\b\b\b\b\b\b\b\b\b\b\b\b\b\b\r112/112 [==============================] - 4s 35ms/step - loss: 373.8752 - accuracy: 0.5593 - val_loss: 240.0530 - val_accuracy: 0.5274\n",
            "Epoch 29/50\n",
            "111/112 [============================>.] - ETA: 0s - loss: 352.5838 - accuracy: 0.5626"
          ]
        },
        {
          "output_type": "stream",
          "name": "stderr",
          "text": [
            "WARNING:tensorflow:Can save best model only with val_acc available, skipping.\n"
          ]
        },
        {
          "output_type": "stream",
          "name": "stdout",
          "text": [
            "\b\b\b\b\b\b\b\b\b\b\b\b\b\b\b\b\b\b\b\b\b\b\b\b\b\b\b\b\b\b\b\b\b\b\b\b\b\b\b\b\b\b\b\b\b\b\b\b\b\b\b\b\b\b\b\b\b\b\b\b\b\b\b\b\b\b\b\b\b\b\b\b\b\b\b\b\b\b\b\b\b\b\b\b\b\b\r112/112 [==============================] - 4s 36ms/step - loss: 351.8535 - accuracy: 0.5621 - val_loss: 252.5270 - val_accuracy: 0.5349\n",
            "Epoch 30/50\n",
            "111/112 [============================>.] - ETA: 0s - loss: 382.0345 - accuracy: 0.5582"
          ]
        },
        {
          "output_type": "stream",
          "name": "stderr",
          "text": [
            "WARNING:tensorflow:Can save best model only with val_acc available, skipping.\n"
          ]
        },
        {
          "output_type": "stream",
          "name": "stdout",
          "text": [
            "\b\b\b\b\b\b\b\b\b\b\b\b\b\b\b\b\b\b\b\b\b\b\b\b\b\b\b\b\b\b\b\b\b\b\b\b\b\b\b\b\b\b\b\b\b\b\b\b\b\b\b\b\b\b\b\b\b\b\b\b\b\b\b\b\b\b\b\b\b\b\b\b\b\b\b\b\b\b\b\b\b\b\b\b\b\b\r112/112 [==============================] - 4s 35ms/step - loss: 382.3126 - accuracy: 0.5589 - val_loss: 398.8515 - val_accuracy: 0.6372\n",
            "Epoch 31/50\n",
            "111/112 [============================>.] - ETA: 0s - loss: 390.7295 - accuracy: 0.5602"
          ]
        },
        {
          "output_type": "stream",
          "name": "stderr",
          "text": [
            "WARNING:tensorflow:Can save best model only with val_acc available, skipping.\n"
          ]
        },
        {
          "output_type": "stream",
          "name": "stdout",
          "text": [
            "\b\b\b\b\b\b\b\b\b\b\b\b\b\b\b\b\b\b\b\b\b\b\b\b\b\b\b\b\b\b\b\b\b\b\b\b\b\b\b\b\b\b\b\b\b\b\b\b\b\b\b\b\b\b\b\b\b\b\b\b\b\b\b\b\b\b\b\b\b\b\b\b\b\b\b\b\b\b\b\b\b\b\b\b\b\b\r112/112 [==============================] - 4s 36ms/step - loss: 391.8141 - accuracy: 0.5593 - val_loss: 251.4605 - val_accuracy: 0.5636\n",
            "Epoch 32/50\n",
            "111/112 [============================>.] - ETA: 0s - loss: 381.5338 - accuracy: 0.5593"
          ]
        },
        {
          "output_type": "stream",
          "name": "stderr",
          "text": [
            "WARNING:tensorflow:Can save best model only with val_acc available, skipping.\n"
          ]
        },
        {
          "output_type": "stream",
          "name": "stdout",
          "text": [
            "\b\b\b\b\b\b\b\b\b\b\b\b\b\b\b\b\b\b\b\b\b\b\b\b\b\b\b\b\b\b\b\b\b\b\b\b\b\b\b\b\b\b\b\b\b\b\b\b\b\b\b\b\b\b\b\b\b\b\b\b\b\b\b\b\b\b\b\b\b\b\b\b\b\b\b\b\b\b\b\b\b\b\b\b\b\b\r112/112 [==============================] - 4s 34ms/step - loss: 381.0629 - accuracy: 0.5600 - val_loss: 309.0230 - val_accuracy: 0.6197\n",
            "Epoch 33/50\n",
            "111/112 [============================>.] - ETA: 0s - loss: 394.0894 - accuracy: 0.5534"
          ]
        },
        {
          "output_type": "stream",
          "name": "stderr",
          "text": [
            "WARNING:tensorflow:Can save best model only with val_acc available, skipping.\n"
          ]
        },
        {
          "output_type": "stream",
          "name": "stdout",
          "text": [
            "\b\b\b\b\b\b\b\b\b\b\b\b\b\b\b\b\b\b\b\b\b\b\b\b\b\b\b\b\b\b\b\b\b\b\b\b\b\b\b\b\b\b\b\b\b\b\b\b\b\b\b\b\b\b\b\b\b\b\b\b\b\b\b\b\b\b\b\b\b\b\b\b\b\b\b\b\b\b\b\b\b\b\b\b\b\b\r112/112 [==============================] - 4s 36ms/step - loss: 393.8994 - accuracy: 0.5535 - val_loss: 208.8914 - val_accuracy: 0.6521\n",
            "Epoch 34/50\n",
            "111/112 [============================>.] - ETA: 0s - loss: 342.3001 - accuracy: 0.5562"
          ]
        },
        {
          "output_type": "stream",
          "name": "stderr",
          "text": [
            "WARNING:tensorflow:Can save best model only with val_acc available, skipping.\n"
          ]
        },
        {
          "output_type": "stream",
          "name": "stdout",
          "text": [
            "\b\b\b\b\b\b\b\b\b\b\b\b\b\b\b\b\b\b\b\b\b\b\b\b\b\b\b\b\b\b\b\b\b\b\b\b\b\b\b\b\b\b\b\b\b\b\b\b\b\b\b\b\b\b\b\b\b\b\b\b\b\b\b\b\b\b\b\b\b\b\b\b\b\b\b\b\b\b\b\b\b\b\b\b\b\b\r112/112 [==============================] - 4s 35ms/step - loss: 342.3923 - accuracy: 0.5558 - val_loss: 213.9046 - val_accuracy: 0.6172\n",
            "Epoch 35/50\n",
            "112/112 [==============================] - ETA: 0s - loss: 372.7770 - accuracy: 0.5585"
          ]
        },
        {
          "output_type": "stream",
          "name": "stderr",
          "text": [
            "WARNING:tensorflow:Can save best model only with val_acc available, skipping.\n"
          ]
        },
        {
          "output_type": "stream",
          "name": "stdout",
          "text": [
            "\b\b\b\b\b\b\b\b\b\b\b\b\b\b\b\b\b\b\b\b\b\b\b\b\b\b\b\b\b\b\b\b\b\b\b\b\b\b\b\b\b\b\b\b\b\b\b\b\b\b\b\b\b\b\b\b\b\b\b\b\b\b\b\b\b\b\b\b\b\b\b\b\b\b\b\b\b\b\b\b\b\b\b\b\b\b\r112/112 [==============================] - 4s 35ms/step - loss: 372.7770 - accuracy: 0.5585 - val_loss: 190.5567 - val_accuracy: 0.5748\n",
            "Epoch 36/50\n",
            "111/112 [============================>.] - ETA: 0s - loss: 376.0453 - accuracy: 0.5560"
          ]
        },
        {
          "output_type": "stream",
          "name": "stderr",
          "text": [
            "WARNING:tensorflow:Can save best model only with val_acc available, skipping.\n"
          ]
        },
        {
          "output_type": "stream",
          "name": "stdout",
          "text": [
            "\b\b\b\b\b\b\b\b\b\b\b\b\b\b\b\b\b\b\b\b\b\b\b\b\b\b\b\b\b\b\b\b\b\b\b\b\b\b\b\b\b\b\b\b\b\b\b\b\b\b\b\b\b\b\b\b\b\b\b\b\b\b\b\b\b\b\b\b\b\b\b\b\b\b\b\b\b\b\b\b\b\b\b\b\b\b\r112/112 [==============================] - 4s 36ms/step - loss: 374.8239 - accuracy: 0.5565 - val_loss: 223.2631 - val_accuracy: 0.6047\n",
            "Epoch 37/50\n",
            "111/112 [============================>.] - ETA: 0s - loss: 367.0698 - accuracy: 0.5606"
          ]
        },
        {
          "output_type": "stream",
          "name": "stderr",
          "text": [
            "WARNING:tensorflow:Can save best model only with val_acc available, skipping.\n"
          ]
        },
        {
          "output_type": "stream",
          "name": "stdout",
          "text": [
            "\b\b\b\b\b\b\b\b\b\b\b\b\b\b\b\b\b\b\b\b\b\b\b\b\b\b\b\b\b\b\b\b\b\b\b\b\b\b\b\b\b\b\b\b\b\b\b\b\b\b\b\b\b\b\b\b\b\b\b\b\b\b\b\b\b\b\b\b\b\b\b\b\b\b\b\b\b\b\b\b\b\b\b\b\b\b\r112/112 [==============================] - 4s 36ms/step - loss: 367.9375 - accuracy: 0.5607 - val_loss: 550.6407 - val_accuracy: 0.4052\n",
            "Epoch 38/50\n",
            "112/112 [==============================] - ETA: 0s - loss: 355.4364 - accuracy: 0.5669"
          ]
        },
        {
          "output_type": "stream",
          "name": "stderr",
          "text": [
            "WARNING:tensorflow:Can save best model only with val_acc available, skipping.\n"
          ]
        },
        {
          "output_type": "stream",
          "name": "stdout",
          "text": [
            "\b\b\b\b\b\b\b\b\b\b\b\b\b\b\b\b\b\b\b\b\b\b\b\b\b\b\b\b\b\b\b\b\b\b\b\b\b\b\b\b\b\b\b\b\b\b\b\b\b\b\b\b\b\b\b\b\b\b\b\b\b\b\b\b\b\b\b\b\b\b\b\b\b\b\b\b\b\b\b\b\b\b\b\b\b\b\r112/112 [==============================] - 4s 35ms/step - loss: 355.4364 - accuracy: 0.5669 - val_loss: 249.0668 - val_accuracy: 0.5012\n",
            "Epoch 39/50\n",
            "111/112 [============================>.] - ETA: 0s - loss: 375.6356 - accuracy: 0.5532"
          ]
        },
        {
          "output_type": "stream",
          "name": "stderr",
          "text": [
            "WARNING:tensorflow:Can save best model only with val_acc available, skipping.\n"
          ]
        },
        {
          "output_type": "stream",
          "name": "stdout",
          "text": [
            "\b\b\b\b\b\b\b\b\b\b\b\b\b\b\b\b\b\b\b\b\b\b\b\b\b\b\b\b\b\b\b\b\b\b\b\b\b\b\b\b\b\b\b\b\b\b\b\b\b\b\b\b\b\b\b\b\b\b\b\b\b\b\b\b\b\b\b\b\b\b\b\b\b\b\b\b\b\b\b\b\b\b\b\b\b\b\r112/112 [==============================] - 4s 36ms/step - loss: 375.6438 - accuracy: 0.5537 - val_loss: 206.0487 - val_accuracy: 0.6384\n",
            "Epoch 40/50\n",
            "111/112 [============================>.] - ETA: 0s - loss: 345.7585 - accuracy: 0.5559"
          ]
        },
        {
          "output_type": "stream",
          "name": "stderr",
          "text": [
            "WARNING:tensorflow:Can save best model only with val_acc available, skipping.\n"
          ]
        },
        {
          "output_type": "stream",
          "name": "stdout",
          "text": [
            "\b\b\b\b\b\b\b\b\b\b\b\b\b\b\b\b\b\b\b\b\b\b\b\b\b\b\b\b\b\b\b\b\b\b\b\b\b\b\b\b\b\b\b\b\b\b\b\b\b\b\b\b\b\b\b\b\b\b\b\b\b\b\b\b\b\b\b\b\b\b\b\b\b\b\b\b\b\b\b\b\b\b\b\b\b\b\r112/112 [==============================] - 4s 36ms/step - loss: 345.1053 - accuracy: 0.5568 - val_loss: 292.6681 - val_accuracy: 0.6434\n",
            "Epoch 41/50\n",
            "111/112 [============================>.] - ETA: 0s - loss: 345.2955 - accuracy: 0.5524"
          ]
        },
        {
          "output_type": "stream",
          "name": "stderr",
          "text": [
            "WARNING:tensorflow:Can save best model only with val_acc available, skipping.\n"
          ]
        },
        {
          "output_type": "stream",
          "name": "stdout",
          "text": [
            "\b\b\b\b\b\b\b\b\b\b\b\b\b\b\b\b\b\b\b\b\b\b\b\b\b\b\b\b\b\b\b\b\b\b\b\b\b\b\b\b\b\b\b\b\b\b\b\b\b\b\b\b\b\b\b\b\b\b\b\b\b\b\b\b\b\b\b\b\b\b\b\b\b\b\b\b\b\b\b\b\b\b\b\b\b\b\r112/112 [==============================] - 4s 36ms/step - loss: 343.7351 - accuracy: 0.5537 - val_loss: 224.7675 - val_accuracy: 0.6421\n",
            "Epoch 42/50\n",
            "111/112 [============================>.] - ETA: 0s - loss: 340.5732 - accuracy: 0.5610"
          ]
        },
        {
          "output_type": "stream",
          "name": "stderr",
          "text": [
            "WARNING:tensorflow:Can save best model only with val_acc available, skipping.\n"
          ]
        },
        {
          "output_type": "stream",
          "name": "stdout",
          "text": [
            "\b\b\b\b\b\b\b\b\b\b\b\b\b\b\b\b\b\b\b\b\b\b\b\b\b\b\b\b\b\b\b\b\b\b\b\b\b\b\b\b\b\b\b\b\b\b\b\b\b\b\b\b\b\b\b\b\b\b\b\b\b\b\b\b\b\b\b\b\b\b\b\b\b\b\b\b\b\b\b\b\b\b\b\b\b\b\r112/112 [==============================] - 4s 35ms/step - loss: 340.5305 - accuracy: 0.5613 - val_loss: 259.3736 - val_accuracy: 0.6372\n",
            "Epoch 43/50\n",
            "111/112 [============================>.] - ETA: 0s - loss: 429.6685 - accuracy: 0.5650"
          ]
        },
        {
          "output_type": "stream",
          "name": "stderr",
          "text": [
            "WARNING:tensorflow:Can save best model only with val_acc available, skipping.\n"
          ]
        },
        {
          "output_type": "stream",
          "name": "stdout",
          "text": [
            "\b\b\b\b\b\b\b\b\b\b\b\b\b\b\b\b\b\b\b\b\b\b\b\b\b\b\b\b\b\b\b\b\b\b\b\b\b\b\b\b\b\b\b\b\b\b\b\b\b\b\b\b\b\b\b\b\b\b\b\b\b\b\b\b\b\b\b\b\b\b\b\b\b\b\b\b\b\b\b\b\b\b\b\b\b\b\r112/112 [==============================] - 4s 36ms/step - loss: 428.2318 - accuracy: 0.5655 - val_loss: 217.7325 - val_accuracy: 0.4863\n",
            "Epoch 44/50\n",
            "111/112 [============================>.] - ETA: 0s - loss: 380.4306 - accuracy: 0.5665"
          ]
        },
        {
          "output_type": "stream",
          "name": "stderr",
          "text": [
            "WARNING:tensorflow:Can save best model only with val_acc available, skipping.\n"
          ]
        },
        {
          "output_type": "stream",
          "name": "stdout",
          "text": [
            "\b\b\b\b\b\b\b\b\b\b\b\b\b\b\b\b\b\b\b\b\b\b\b\b\b\b\b\b\b\b\b\b\b\b\b\b\b\b\b\b\b\b\b\b\b\b\b\b\b\b\b\b\b\b\b\b\b\b\b\b\b\b\b\b\b\b\b\b\b\b\b\b\b\b\b\b\b\b\b\b\b\b\b\b\b\b\r112/112 [==============================] - 4s 36ms/step - loss: 380.3064 - accuracy: 0.5666 - val_loss: 205.9348 - val_accuracy: 0.5773\n",
            "Epoch 45/50\n",
            "111/112 [============================>.] - ETA: 0s - loss: 344.5446 - accuracy: 0.5606"
          ]
        },
        {
          "output_type": "stream",
          "name": "stderr",
          "text": [
            "WARNING:tensorflow:Can save best model only with val_acc available, skipping.\n"
          ]
        },
        {
          "output_type": "stream",
          "name": "stdout",
          "text": [
            "\b\b\b\b\b\b\b\b\b\b\b\b\b\b\b\b\b\b\b\b\b\b\b\b\b\b\b\b\b\b\b\b\b\b\b\b\b\b\b\b\b\b\b\b\b\b\b\b\b\b\b\b\b\b\b\b\b\b\b\b\b\b\b\b\b\b\b\b\b\b\b\b\b\b\b\b\b\b\b\b\b\b\b\b\b\b\r112/112 [==============================] - 4s 36ms/step - loss: 344.1092 - accuracy: 0.5607 - val_loss: 231.0689 - val_accuracy: 0.5399\n",
            "Epoch 46/50\n",
            "111/112 [============================>.] - ETA: 0s - loss: 420.4631 - accuracy: 0.5606"
          ]
        },
        {
          "output_type": "stream",
          "name": "stderr",
          "text": [
            "WARNING:tensorflow:Can save best model only with val_acc available, skipping.\n"
          ]
        },
        {
          "output_type": "stream",
          "name": "stdout",
          "text": [
            "\b\b\b\b\b\b\b\b\b\b\b\b\b\b\b\b\b\b\b\b\b\b\b\b\b\b\b\b\b\b\b\b\b\b\b\b\b\b\b\b\b\b\b\b\b\b\b\b\b\b\b\b\b\b\b\b\b\b\b\b\b\b\b\b\b\b\b\b\b\b\b\b\b\b\b\b\b\b\b\b\b\b\b\b\b\b\r112/112 [==============================] - 4s 36ms/step - loss: 421.0447 - accuracy: 0.5607 - val_loss: 363.7866 - val_accuracy: 0.5723\n",
            "Epoch 47/50\n",
            "112/112 [==============================] - ETA: 0s - loss: 351.2442 - accuracy: 0.5568"
          ]
        },
        {
          "output_type": "stream",
          "name": "stderr",
          "text": [
            "WARNING:tensorflow:Can save best model only with val_acc available, skipping.\n"
          ]
        },
        {
          "output_type": "stream",
          "name": "stdout",
          "text": [
            "\b\b\b\b\b\b\b\b\b\b\b\b\b\b\b\b\b\b\b\b\b\b\b\b\b\b\b\b\b\b\b\b\b\b\b\b\b\b\b\b\b\b\b\b\b\b\b\b\b\b\b\b\b\b\b\b\b\b\b\b\b\b\b\b\b\b\b\b\b\b\b\b\b\b\b\b\b\b\b\b\b\b\b\b\b\b\r112/112 [==============================] - 4s 35ms/step - loss: 351.2442 - accuracy: 0.5568 - val_loss: 303.4159 - val_accuracy: 0.6421\n",
            "Epoch 48/50\n",
            "111/112 [============================>.] - ETA: 0s - loss: 320.7932 - accuracy: 0.5600"
          ]
        },
        {
          "output_type": "stream",
          "name": "stderr",
          "text": [
            "WARNING:tensorflow:Can save best model only with val_acc available, skipping.\n"
          ]
        },
        {
          "output_type": "stream",
          "name": "stdout",
          "text": [
            "\b\b\b\b\b\b\b\b\b\b\b\b\b\b\b\b\b\b\b\b\b\b\b\b\b\b\b\b\b\b\b\b\b\b\b\b\b\b\b\b\b\b\b\b\b\b\b\b\b\b\b\b\b\b\b\b\b\b\b\b\b\b\b\b\b\b\b\b\b\b\b\b\b\b\b\b\b\b\b\b\b\b\b\b\b\b\r112/112 [==============================] - 4s 36ms/step - loss: 321.6609 - accuracy: 0.5593 - val_loss: 821.3826 - val_accuracy: 0.2756\n",
            "Epoch 49/50\n",
            "111/112 [============================>.] - ETA: 0s - loss: 379.5545 - accuracy: 0.5530"
          ]
        },
        {
          "output_type": "stream",
          "name": "stderr",
          "text": [
            "WARNING:tensorflow:Can save best model only with val_acc available, skipping.\n"
          ]
        },
        {
          "output_type": "stream",
          "name": "stdout",
          "text": [
            "\b\b\b\b\b\b\b\b\b\b\b\b\b\b\b\b\b\b\b\b\b\b\b\b\b\b\b\b\b\b\b\b\b\b\b\b\b\b\b\b\b\b\b\b\b\b\b\b\b\b\b\b\b\b\b\b\b\b\b\b\b\b\b\b\b\b\b\b\b\b\b\b\b\b\b\b\b\b\b\b\b\b\b\b\b\b\r112/112 [==============================] - 5s 43ms/step - loss: 379.2973 - accuracy: 0.5543 - val_loss: 162.2873 - val_accuracy: 0.6035\n",
            "Epoch 50/50\n",
            "111/112 [============================>.] - ETA: 0s - loss: 314.3272 - accuracy: 0.5682"
          ]
        },
        {
          "output_type": "stream",
          "name": "stderr",
          "text": [
            "WARNING:tensorflow:Can save best model only with val_acc available, skipping.\n"
          ]
        },
        {
          "output_type": "stream",
          "name": "stdout",
          "text": [
            "\b\b\b\b\b\b\b\b\b\b\b\b\b\b\b\b\b\b\b\b\b\b\b\b\b\b\b\b\b\b\b\b\b\b\b\b\b\b\b\b\b\b\b\b\b\b\b\b\b\b\b\b\b\b\b\b\b\b\b\b\b\b\b\b\b\b\b\b\b\b\b\b\b\b\b\b\b\b\b\b\b\b\b\b\b\b\r112/112 [==============================] - 4s 36ms/step - loss: 315.0682 - accuracy: 0.5684 - val_loss: 364.9711 - val_accuracy: 0.4738\n"
          ]
        }
      ]
    },
    {
      "cell_type": "code",
      "source": [
        "# Define the optimizer\n",
        "optimizer = Adam(learning_rate=1E-5)\n",
        "# Compile the model\n",
        "model.compile(optimizer = optimizer , loss = \"categorical_crossentropy\", metrics=[\"accuracy\"])\n",
        "\n",
        "\n",
        "\n",
        "# Fit the model\n",
        "epochs = 50 \n",
        "batch_size = 64\n",
        "history_1E_5= model.fit_generator(datagen.flow(x_train,y_train, batch_size=batch_size),\n",
        "                              epochs = epochs, validation_data = (x_validate,y_validate),\n",
        "                              verbose = 1, steps_per_epoch=x_train.shape[0] // batch_size\n",
        "                              , callbacks=[checkpoint])"
      ],
      "metadata": {
        "colab": {
          "base_uri": "https://localhost:8080/"
        },
        "id": "xQvYBPcSpVIE",
        "outputId": "a858b167-fc1d-4e50-cdee-38e367b7c600"
      },
      "execution_count": 23,
      "outputs": [
        {
          "output_type": "stream",
          "name": "stdout",
          "text": [
            "Epoch 1/50\n"
          ]
        },
        {
          "output_type": "stream",
          "name": "stderr",
          "text": [
            "<ipython-input-23-cc84eb632c13>:11: UserWarning: `Model.fit_generator` is deprecated and will be removed in a future version. Please use `Model.fit`, which supports generators.\n",
            "  history_1E_5= model.fit_generator(datagen.flow(x_train,y_train, batch_size=batch_size),\n"
          ]
        },
        {
          "output_type": "stream",
          "name": "stdout",
          "text": [
            "111/112 [============================>.] - ETA: 0s - loss: 205.2495 - accuracy: 0.5758"
          ]
        },
        {
          "output_type": "stream",
          "name": "stderr",
          "text": [
            "WARNING:tensorflow:Can save best model only with val_acc available, skipping.\n"
          ]
        },
        {
          "output_type": "stream",
          "name": "stdout",
          "text": [
            "\b\b\b\b\b\b\b\b\b\b\b\b\b\b\b\b\b\b\b\b\b\b\b\b\b\b\b\b\b\b\b\b\b\b\b\b\b\b\b\b\b\b\b\b\b\b\b\b\b\b\b\b\b\b\b\b\b\b\b\b\b\b\b\b\b\b\b\b\b\b\b\b\b\b\b\b\b\b\b\b\b\b\b\b\b\b\r112/112 [==============================] - 5s 38ms/step - loss: 204.6055 - accuracy: 0.5765 - val_loss: 68.3469 - val_accuracy: 0.6820\n",
            "Epoch 2/50\n",
            "111/112 [============================>.] - ETA: 0s - loss: 95.7196 - accuracy: 0.5712"
          ]
        },
        {
          "output_type": "stream",
          "name": "stderr",
          "text": [
            "WARNING:tensorflow:Can save best model only with val_acc available, skipping.\n"
          ]
        },
        {
          "output_type": "stream",
          "name": "stdout",
          "text": [
            "\b\b\b\b\b\b\b\b\b\b\b\b\b\b\b\b\b\b\b\b\b\b\b\b\b\b\b\b\b\b\b\b\b\b\b\b\b\b\b\b\b\b\b\b\b\b\b\b\b\b\b\b\b\b\b\b\b\b\b\b\b\b\b\b\b\b\b\b\b\b\b\b\b\b\b\b\b\b\b\b\b\b\b\b\b\r112/112 [==============================] - 4s 36ms/step - loss: 95.6476 - accuracy: 0.5697 - val_loss: 42.7648 - val_accuracy: 0.5150\n",
            "Epoch 3/50\n",
            "111/112 [============================>.] - ETA: 0s - loss: 66.6082 - accuracy: 0.5724"
          ]
        },
        {
          "output_type": "stream",
          "name": "stderr",
          "text": [
            "WARNING:tensorflow:Can save best model only with val_acc available, skipping.\n"
          ]
        },
        {
          "output_type": "stream",
          "name": "stdout",
          "text": [
            "\b\b\b\b\b\b\b\b\b\b\b\b\b\b\b\b\b\b\b\b\b\b\b\b\b\b\b\b\b\b\b\b\b\b\b\b\b\b\b\b\b\b\b\b\b\b\b\b\b\b\b\b\b\b\b\b\b\b\b\b\b\b\b\b\b\b\b\b\b\b\b\b\b\b\b\b\b\b\b\b\b\b\b\b\b\r112/112 [==============================] - 4s 36ms/step - loss: 66.2364 - accuracy: 0.5725 - val_loss: 37.7523 - val_accuracy: 0.5711\n",
            "Epoch 4/50\n",
            "111/112 [============================>.] - ETA: 0s - loss: 53.2754 - accuracy: 0.5713"
          ]
        },
        {
          "output_type": "stream",
          "name": "stderr",
          "text": [
            "WARNING:tensorflow:Can save best model only with val_acc available, skipping.\n"
          ]
        },
        {
          "output_type": "stream",
          "name": "stdout",
          "text": [
            "\b\b\b\b\b\b\b\b\b\b\b\b\b\b\b\b\b\b\b\b\b\b\b\b\b\b\b\b\b\b\b\b\b\b\b\b\b\b\b\b\b\b\b\b\b\b\b\b\b\b\b\b\b\b\b\b\b\b\b\b\b\b\b\b\b\b\b\b\b\b\b\b\b\b\b\b\b\b\b\b\b\b\b\b\b\r112/112 [==============================] - 4s 35ms/step - loss: 53.4374 - accuracy: 0.5715 - val_loss: 34.1884 - val_accuracy: 0.6185\n",
            "Epoch 5/50\n",
            "111/112 [============================>.] - ETA: 0s - loss: 49.0230 - accuracy: 0.5686"
          ]
        },
        {
          "output_type": "stream",
          "name": "stderr",
          "text": [
            "WARNING:tensorflow:Can save best model only with val_acc available, skipping.\n"
          ]
        },
        {
          "output_type": "stream",
          "name": "stdout",
          "text": [
            "\b\b\b\b\b\b\b\b\b\b\b\b\b\b\b\b\b\b\b\b\b\b\b\b\b\b\b\b\b\b\b\b\b\b\b\b\b\b\b\b\b\b\b\b\b\b\b\b\b\b\b\b\b\b\b\b\b\b\b\b\b\b\b\b\b\b\b\b\b\b\b\b\b\b\b\b\b\b\b\b\b\b\b\b\b\r112/112 [==============================] - 4s 36ms/step - loss: 48.9116 - accuracy: 0.5687 - val_loss: 51.3475 - val_accuracy: 0.4626\n",
            "Epoch 6/50\n",
            "111/112 [============================>.] - ETA: 0s - loss: 40.2735 - accuracy: 0.5631"
          ]
        },
        {
          "output_type": "stream",
          "name": "stderr",
          "text": [
            "WARNING:tensorflow:Can save best model only with val_acc available, skipping.\n"
          ]
        },
        {
          "output_type": "stream",
          "name": "stdout",
          "text": [
            "\b\b\b\b\b\b\b\b\b\b\b\b\b\b\b\b\b\b\b\b\b\b\b\b\b\b\b\b\b\b\b\b\b\b\b\b\b\b\b\b\b\b\b\b\b\b\b\b\b\b\b\b\b\b\b\b\b\b\b\b\b\b\b\b\b\b\b\b\b\b\b\b\b\b\b\b\b\b\b\b\b\b\b\b\b\r112/112 [==============================] - 4s 36ms/step - loss: 40.1212 - accuracy: 0.5635 - val_loss: 24.9268 - val_accuracy: 0.4701\n",
            "Epoch 7/50\n",
            "111/112 [============================>.] - ETA: 0s - loss: 37.1372 - accuracy: 0.5688"
          ]
        },
        {
          "output_type": "stream",
          "name": "stderr",
          "text": [
            "WARNING:tensorflow:Can save best model only with val_acc available, skipping.\n"
          ]
        },
        {
          "output_type": "stream",
          "name": "stdout",
          "text": [
            "\b\b\b\b\b\b\b\b\b\b\b\b\b\b\b\b\b\b\b\b\b\b\b\b\b\b\b\b\b\b\b\b\b\b\b\b\b\b\b\b\b\b\b\b\b\b\b\b\b\b\b\b\b\b\b\b\b\b\b\b\b\b\b\b\b\b\b\b\b\b\b\b\b\b\b\b\b\b\b\b\b\b\b\b\b\r112/112 [==============================] - 4s 36ms/step - loss: 37.0863 - accuracy: 0.5697 - val_loss: 23.3438 - val_accuracy: 0.6222\n",
            "Epoch 8/50\n",
            "111/112 [============================>.] - ETA: 0s - loss: 35.4008 - accuracy: 0.5621"
          ]
        },
        {
          "output_type": "stream",
          "name": "stderr",
          "text": [
            "WARNING:tensorflow:Can save best model only with val_acc available, skipping.\n"
          ]
        },
        {
          "output_type": "stream",
          "name": "stdout",
          "text": [
            "\b\b\b\b\b\b\b\b\b\b\b\b\b\b\b\b\b\b\b\b\b\b\b\b\b\b\b\b\b\b\b\b\b\b\b\b\b\b\b\b\b\b\b\b\b\b\b\b\b\b\b\b\b\b\b\b\b\b\b\b\b\b\b\b\b\b\b\b\b\b\b\b\b\b\b\b\b\b\b\b\b\b\b\b\b\r112/112 [==============================] - 4s 36ms/step - loss: 35.3338 - accuracy: 0.5630 - val_loss: 43.4987 - val_accuracy: 0.5037\n",
            "Epoch 9/50\n",
            "111/112 [============================>.] - ETA: 0s - loss: 36.2153 - accuracy: 0.5717"
          ]
        },
        {
          "output_type": "stream",
          "name": "stderr",
          "text": [
            "WARNING:tensorflow:Can save best model only with val_acc available, skipping.\n"
          ]
        },
        {
          "output_type": "stream",
          "name": "stdout",
          "text": [
            "\b\b\b\b\b\b\b\b\b\b\b\b\b\b\b\b\b\b\b\b\b\b\b\b\b\b\b\b\b\b\b\b\b\b\b\b\b\b\b\b\b\b\b\b\b\b\b\b\b\b\b\b\b\b\b\b\b\b\b\b\b\b\b\b\b\b\b\b\b\b\b\b\b\b\b\b\b\b\b\b\b\b\b\b\b\r112/112 [==============================] - 4s 36ms/step - loss: 36.1669 - accuracy: 0.5709 - val_loss: 21.1194 - val_accuracy: 0.6347\n",
            "Epoch 10/50\n",
            "111/112 [============================>.] - ETA: 0s - loss: 33.0041 - accuracy: 0.5658"
          ]
        },
        {
          "output_type": "stream",
          "name": "stderr",
          "text": [
            "WARNING:tensorflow:Can save best model only with val_acc available, skipping.\n"
          ]
        },
        {
          "output_type": "stream",
          "name": "stdout",
          "text": [
            "\b\b\b\b\b\b\b\b\b\b\b\b\b\b\b\b\b\b\b\b\b\b\b\b\b\b\b\b\b\b\b\b\b\b\b\b\b\b\b\b\b\b\b\b\b\b\b\b\b\b\b\b\b\b\b\b\b\b\b\b\b\b\b\b\b\b\b\b\b\b\b\b\b\b\b\b\b\b\b\b\b\b\b\b\b\r112/112 [==============================] - 4s 35ms/step - loss: 32.9709 - accuracy: 0.5672 - val_loss: 62.9631 - val_accuracy: 0.2544\n",
            "Epoch 11/50\n",
            "111/112 [============================>.] - ETA: 0s - loss: 33.2127 - accuracy: 0.5726"
          ]
        },
        {
          "output_type": "stream",
          "name": "stderr",
          "text": [
            "WARNING:tensorflow:Can save best model only with val_acc available, skipping.\n"
          ]
        },
        {
          "output_type": "stream",
          "name": "stdout",
          "text": [
            "\b\b\b\b\b\b\b\b\b\b\b\b\b\b\b\b\b\b\b\b\b\b\b\b\b\b\b\b\b\b\b\b\b\b\b\b\b\b\b\b\b\b\b\b\b\b\b\b\b\b\b\b\b\b\b\b\b\b\b\b\b\b\b\b\b\b\b\b\b\b\b\b\b\b\b\b\b\b\b\b\b\b\b\b\b\r112/112 [==============================] - 4s 36ms/step - loss: 33.2627 - accuracy: 0.5723 - val_loss: 31.5155 - val_accuracy: 0.5998\n",
            "Epoch 12/50\n",
            "111/112 [============================>.] - ETA: 0s - loss: 35.3249 - accuracy: 0.5586"
          ]
        },
        {
          "output_type": "stream",
          "name": "stderr",
          "text": [
            "WARNING:tensorflow:Can save best model only with val_acc available, skipping.\n"
          ]
        },
        {
          "output_type": "stream",
          "name": "stdout",
          "text": [
            "\b\b\b\b\b\b\b\b\b\b\b\b\b\b\b\b\b\b\b\b\b\b\b\b\b\b\b\b\b\b\b\b\b\b\b\b\b\b\b\b\b\b\b\b\b\b\b\b\b\b\b\b\b\b\b\b\b\b\b\b\b\b\b\b\b\b\b\b\b\b\b\b\b\b\b\b\b\b\b\b\b\b\b\b\b\r112/112 [==============================] - 4s 35ms/step - loss: 35.1658 - accuracy: 0.5599 - val_loss: 39.0089 - val_accuracy: 0.6197\n",
            "Epoch 13/50\n",
            "111/112 [============================>.] - ETA: 0s - loss: 35.3570 - accuracy: 0.5730"
          ]
        },
        {
          "output_type": "stream",
          "name": "stderr",
          "text": [
            "WARNING:tensorflow:Can save best model only with val_acc available, skipping.\n"
          ]
        },
        {
          "output_type": "stream",
          "name": "stdout",
          "text": [
            "\b\b\b\b\b\b\b\b\b\b\b\b\b\b\b\b\b\b\b\b\b\b\b\b\b\b\b\b\b\b\b\b\b\b\b\b\b\b\b\b\b\b\b\b\b\b\b\b\b\b\b\b\b\b\b\b\b\b\b\b\b\b\b\b\b\b\b\b\b\b\b\b\b\b\b\b\b\b\b\b\b\b\b\b\b\r112/112 [==============================] - 4s 36ms/step - loss: 35.7051 - accuracy: 0.5732 - val_loss: 26.3384 - val_accuracy: 0.6135\n",
            "Epoch 14/50\n",
            "111/112 [============================>.] - ETA: 0s - loss: 40.5540 - accuracy: 0.5640"
          ]
        },
        {
          "output_type": "stream",
          "name": "stderr",
          "text": [
            "WARNING:tensorflow:Can save best model only with val_acc available, skipping.\n"
          ]
        },
        {
          "output_type": "stream",
          "name": "stdout",
          "text": [
            "\b\b\b\b\b\b\b\b\b\b\b\b\b\b\b\b\b\b\b\b\b\b\b\b\b\b\b\b\b\b\b\b\b\b\b\b\b\b\b\b\b\b\b\b\b\b\b\b\b\b\b\b\b\b\b\b\b\b\b\b\b\b\b\b\b\b\b\b\b\b\b\b\b\b\b\b\b\b\b\b\b\b\b\b\b\r112/112 [==============================] - 4s 35ms/step - loss: 40.6234 - accuracy: 0.5648 - val_loss: 47.3323 - val_accuracy: 0.3990\n",
            "Epoch 15/50\n",
            "111/112 [============================>.] - ETA: 0s - loss: 37.7482 - accuracy: 0.5681"
          ]
        },
        {
          "output_type": "stream",
          "name": "stderr",
          "text": [
            "WARNING:tensorflow:Can save best model only with val_acc available, skipping.\n"
          ]
        },
        {
          "output_type": "stream",
          "name": "stdout",
          "text": [
            "\b\b\b\b\b\b\b\b\b\b\b\b\b\b\b\b\b\b\b\b\b\b\b\b\b\b\b\b\b\b\b\b\b\b\b\b\b\b\b\b\b\b\b\b\b\b\b\b\b\b\b\b\b\b\b\b\b\b\b\b\b\b\b\b\b\b\b\b\b\b\b\b\b\b\b\b\b\b\b\b\b\b\b\b\b\r112/112 [==============================] - 4s 35ms/step - loss: 37.5812 - accuracy: 0.5687 - val_loss: 36.9648 - val_accuracy: 0.6471\n",
            "Epoch 16/50\n",
            "111/112 [============================>.] - ETA: 0s - loss: 35.7742 - accuracy: 0.5657"
          ]
        },
        {
          "output_type": "stream",
          "name": "stderr",
          "text": [
            "WARNING:tensorflow:Can save best model only with val_acc available, skipping.\n"
          ]
        },
        {
          "output_type": "stream",
          "name": "stdout",
          "text": [
            "\b\b\b\b\b\b\b\b\b\b\b\b\b\b\b\b\b\b\b\b\b\b\b\b\b\b\b\b\b\b\b\b\b\b\b\b\b\b\b\b\b\b\b\b\b\b\b\b\b\b\b\b\b\b\b\b\b\b\b\b\b\b\b\b\b\b\b\b\b\b\b\b\b\b\b\b\b\b\b\b\b\b\b\b\b\r112/112 [==============================] - 4s 35ms/step - loss: 35.6839 - accuracy: 0.5659 - val_loss: 24.0650 - val_accuracy: 0.5960\n",
            "Epoch 17/50\n",
            "111/112 [============================>.] - ETA: 0s - loss: 34.2144 - accuracy: 0.5652"
          ]
        },
        {
          "output_type": "stream",
          "name": "stderr",
          "text": [
            "WARNING:tensorflow:Can save best model only with val_acc available, skipping.\n"
          ]
        },
        {
          "output_type": "stream",
          "name": "stdout",
          "text": [
            "\b\b\b\b\b\b\b\b\b\b\b\b\b\b\b\b\b\b\b\b\b\b\b\b\b\b\b\b\b\b\b\b\b\b\b\b\b\b\b\b\b\b\b\b\b\b\b\b\b\b\b\b\b\b\b\b\b\b\b\b\b\b\b\b\b\b\b\b\b\b\b\b\b\b\b\b\b\b\b\b\b\b\b\b\b\r112/112 [==============================] - 4s 35ms/step - loss: 34.2320 - accuracy: 0.5642 - val_loss: 19.8701 - val_accuracy: 0.6259\n",
            "Epoch 18/50\n",
            "111/112 [============================>.] - ETA: 0s - loss: 33.1033 - accuracy: 0.5634"
          ]
        },
        {
          "output_type": "stream",
          "name": "stderr",
          "text": [
            "WARNING:tensorflow:Can save best model only with val_acc available, skipping.\n"
          ]
        },
        {
          "output_type": "stream",
          "name": "stdout",
          "text": [
            "\b\b\b\b\b\b\b\b\b\b\b\b\b\b\b\b\b\b\b\b\b\b\b\b\b\b\b\b\b\b\b\b\b\b\b\b\b\b\b\b\b\b\b\b\b\b\b\b\b\b\b\b\b\b\b\b\b\b\b\b\b\b\b\b\b\b\b\b\b\b\b\b\b\b\b\b\b\b\b\b\b\b\b\b\b\r112/112 [==============================] - 4s 36ms/step - loss: 32.9897 - accuracy: 0.5642 - val_loss: 32.5040 - val_accuracy: 0.4888\n",
            "Epoch 19/50\n",
            "111/112 [============================>.] - ETA: 0s - loss: 33.7124 - accuracy: 0.5694"
          ]
        },
        {
          "output_type": "stream",
          "name": "stderr",
          "text": [
            "WARNING:tensorflow:Can save best model only with val_acc available, skipping.\n"
          ]
        },
        {
          "output_type": "stream",
          "name": "stdout",
          "text": [
            "\b\b\b\b\b\b\b\b\b\b\b\b\b\b\b\b\b\b\b\b\b\b\b\b\b\b\b\b\b\b\b\b\b\b\b\b\b\b\b\b\b\b\b\b\b\b\b\b\b\b\b\b\b\b\b\b\b\b\b\b\b\b\b\b\b\b\b\b\b\b\b\b\b\b\b\b\b\b\b\b\b\b\b\b\b\r112/112 [==============================] - 4s 34ms/step - loss: 33.6766 - accuracy: 0.5687 - val_loss: 37.1318 - val_accuracy: 0.5075\n",
            "Epoch 20/50\n",
            "111/112 [============================>.] - ETA: 0s - loss: 32.1684 - accuracy: 0.5651"
          ]
        },
        {
          "output_type": "stream",
          "name": "stderr",
          "text": [
            "WARNING:tensorflow:Can save best model only with val_acc available, skipping.\n"
          ]
        },
        {
          "output_type": "stream",
          "name": "stdout",
          "text": [
            "\b\b\b\b\b\b\b\b\b\b\b\b\b\b\b\b\b\b\b\b\b\b\b\b\b\b\b\b\b\b\b\b\b\b\b\b\b\b\b\b\b\b\b\b\b\b\b\b\b\b\b\b\b\b\b\b\b\b\b\b\b\b\b\b\b\b\b\b\b\b\b\b\b\b\b\b\b\b\b\b\b\b\b\b\b\r112/112 [==============================] - 4s 36ms/step - loss: 32.1357 - accuracy: 0.5655 - val_loss: 25.3087 - val_accuracy: 0.5050\n",
            "Epoch 21/50\n",
            "111/112 [============================>.] - ETA: 0s - loss: 37.1105 - accuracy: 0.5671"
          ]
        },
        {
          "output_type": "stream",
          "name": "stderr",
          "text": [
            "WARNING:tensorflow:Can save best model only with val_acc available, skipping.\n"
          ]
        },
        {
          "output_type": "stream",
          "name": "stdout",
          "text": [
            "\b\b\b\b\b\b\b\b\b\b\b\b\b\b\b\b\b\b\b\b\b\b\b\b\b\b\b\b\b\b\b\b\b\b\b\b\b\b\b\b\b\b\b\b\b\b\b\b\b\b\b\b\b\b\b\b\b\b\b\b\b\b\b\b\b\b\b\b\b\b\b\b\b\b\b\b\b\b\b\b\b\b\b\b\b\r112/112 [==============================] - 4s 36ms/step - loss: 37.1208 - accuracy: 0.5672 - val_loss: 19.8397 - val_accuracy: 0.5910\n",
            "Epoch 22/50\n",
            "111/112 [============================>.] - ETA: 0s - loss: 33.6037 - accuracy: 0.5685"
          ]
        },
        {
          "output_type": "stream",
          "name": "stderr",
          "text": [
            "WARNING:tensorflow:Can save best model only with val_acc available, skipping.\n"
          ]
        },
        {
          "output_type": "stream",
          "name": "stdout",
          "text": [
            "\b\b\b\b\b\b\b\b\b\b\b\b\b\b\b\b\b\b\b\b\b\b\b\b\b\b\b\b\b\b\b\b\b\b\b\b\b\b\b\b\b\b\b\b\b\b\b\b\b\b\b\b\b\b\b\b\b\b\b\b\b\b\b\b\b\b\b\b\b\b\b\b\b\b\b\b\b\b\b\b\b\b\b\b\b\r112/112 [==============================] - 4s 36ms/step - loss: 33.6658 - accuracy: 0.5680 - val_loss: 21.6605 - val_accuracy: 0.6334\n",
            "Epoch 23/50\n",
            "111/112 [============================>.] - ETA: 0s - loss: 33.7354 - accuracy: 0.5658"
          ]
        },
        {
          "output_type": "stream",
          "name": "stderr",
          "text": [
            "WARNING:tensorflow:Can save best model only with val_acc available, skipping.\n"
          ]
        },
        {
          "output_type": "stream",
          "name": "stdout",
          "text": [
            "\b\b\b\b\b\b\b\b\b\b\b\b\b\b\b\b\b\b\b\b\b\b\b\b\b\b\b\b\b\b\b\b\b\b\b\b\b\b\b\b\b\b\b\b\b\b\b\b\b\b\b\b\b\b\b\b\b\b\b\b\b\b\b\b\b\b\b\b\b\b\b\b\b\b\b\b\b\b\b\b\b\b\b\b\b\r112/112 [==============================] - 4s 36ms/step - loss: 33.5709 - accuracy: 0.5662 - val_loss: 21.0906 - val_accuracy: 0.5037\n",
            "Epoch 24/50\n",
            "112/112 [==============================] - ETA: 0s - loss: 31.5362 - accuracy: 0.5635"
          ]
        },
        {
          "output_type": "stream",
          "name": "stderr",
          "text": [
            "WARNING:tensorflow:Can save best model only with val_acc available, skipping.\n"
          ]
        },
        {
          "output_type": "stream",
          "name": "stdout",
          "text": [
            "\b\b\b\b\b\b\b\b\b\b\b\b\b\b\b\b\b\b\b\b\b\b\b\b\b\b\b\b\b\b\b\b\b\b\b\b\b\b\b\b\b\b\b\b\b\b\b\b\b\b\b\b\b\b\b\b\b\b\b\b\b\b\b\b\b\b\b\b\b\b\b\b\b\b\b\b\b\b\b\b\b\b\b\b\b\r112/112 [==============================] - 4s 35ms/step - loss: 31.5362 - accuracy: 0.5635 - val_loss: 54.9498 - val_accuracy: 0.2968\n",
            "Epoch 25/50\n",
            "111/112 [============================>.] - ETA: 0s - loss: 36.6504 - accuracy: 0.5659"
          ]
        },
        {
          "output_type": "stream",
          "name": "stderr",
          "text": [
            "WARNING:tensorflow:Can save best model only with val_acc available, skipping.\n"
          ]
        },
        {
          "output_type": "stream",
          "name": "stdout",
          "text": [
            "\b\b\b\b\b\b\b\b\b\b\b\b\b\b\b\b\b\b\b\b\b\b\b\b\b\b\b\b\b\b\b\b\b\b\b\b\b\b\b\b\b\b\b\b\b\b\b\b\b\b\b\b\b\b\b\b\b\b\b\b\b\b\b\b\b\b\b\b\b\b\b\b\b\b\b\b\b\b\b\b\b\b\b\b\b\r112/112 [==============================] - 4s 36ms/step - loss: 36.6144 - accuracy: 0.5656 - val_loss: 19.4771 - val_accuracy: 0.4763\n",
            "Epoch 26/50\n",
            "111/112 [============================>.] - ETA: 0s - loss: 32.2682 - accuracy: 0.5645"
          ]
        },
        {
          "output_type": "stream",
          "name": "stderr",
          "text": [
            "WARNING:tensorflow:Can save best model only with val_acc available, skipping.\n"
          ]
        },
        {
          "output_type": "stream",
          "name": "stdout",
          "text": [
            "\b\b\b\b\b\b\b\b\b\b\b\b\b\b\b\b\b\b\b\b\b\b\b\b\b\b\b\b\b\b\b\b\b\b\b\b\b\b\b\b\b\b\b\b\b\b\b\b\b\b\b\b\b\b\b\b\b\b\b\b\b\b\b\b\b\b\b\b\b\b\b\b\b\b\b\b\b\b\b\b\b\b\b\b\b\r112/112 [==============================] - 4s 36ms/step - loss: 32.5131 - accuracy: 0.5642 - val_loss: 100.4169 - val_accuracy: 0.1945\n",
            "Epoch 27/50\n",
            "112/112 [==============================] - ETA: 0s - loss: 38.4572 - accuracy: 0.5662"
          ]
        },
        {
          "output_type": "stream",
          "name": "stderr",
          "text": [
            "WARNING:tensorflow:Can save best model only with val_acc available, skipping.\n"
          ]
        },
        {
          "output_type": "stream",
          "name": "stdout",
          "text": [
            "\b\b\b\b\b\b\b\b\b\b\b\b\b\b\b\b\b\b\b\b\b\b\b\b\b\b\b\b\b\b\b\b\b\b\b\b\b\b\b\b\b\b\b\b\b\b\b\b\b\b\b\b\b\b\b\b\b\b\b\b\b\b\b\b\b\b\b\b\b\b\b\b\b\b\b\b\b\b\b\b\b\b\b\b\b\r112/112 [==============================] - 4s 36ms/step - loss: 38.4572 - accuracy: 0.5662 - val_loss: 46.6997 - val_accuracy: 0.4027\n",
            "Epoch 28/50\n",
            "111/112 [============================>.] - ETA: 0s - loss: 32.6763 - accuracy: 0.5688"
          ]
        },
        {
          "output_type": "stream",
          "name": "stderr",
          "text": [
            "WARNING:tensorflow:Can save best model only with val_acc available, skipping.\n"
          ]
        },
        {
          "output_type": "stream",
          "name": "stdout",
          "text": [
            "\b\b\b\b\b\b\b\b\b\b\b\b\b\b\b\b\b\b\b\b\b\b\b\b\b\b\b\b\b\b\b\b\b\b\b\b\b\b\b\b\b\b\b\b\b\b\b\b\b\b\b\b\b\b\b\b\b\b\b\b\b\b\b\b\b\b\b\b\b\b\b\b\b\b\b\b\b\b\b\b\b\b\b\b\b\r112/112 [==============================] - 4s 36ms/step - loss: 32.6702 - accuracy: 0.5690 - val_loss: 25.5566 - val_accuracy: 0.6384\n",
            "Epoch 29/50\n",
            "111/112 [============================>.] - ETA: 0s - loss: 34.8147 - accuracy: 0.5603"
          ]
        },
        {
          "output_type": "stream",
          "name": "stderr",
          "text": [
            "WARNING:tensorflow:Can save best model only with val_acc available, skipping.\n"
          ]
        },
        {
          "output_type": "stream",
          "name": "stdout",
          "text": [
            "\b\b\b\b\b\b\b\b\b\b\b\b\b\b\b\b\b\b\b\b\b\b\b\b\b\b\b\b\b\b\b\b\b\b\b\b\b\b\b\b\b\b\b\b\b\b\b\b\b\b\b\b\b\b\b\b\b\b\b\b\b\b\b\b\b\b\b\b\b\b\b\b\b\b\b\b\b\b\b\b\b\b\b\b\b\r112/112 [==============================] - 4s 36ms/step - loss: 34.7396 - accuracy: 0.5596 - val_loss: 20.4029 - val_accuracy: 0.4900\n",
            "Epoch 30/50\n",
            "112/112 [==============================] - ETA: 0s - loss: 35.8936 - accuracy: 0.5666"
          ]
        },
        {
          "output_type": "stream",
          "name": "stderr",
          "text": [
            "WARNING:tensorflow:Can save best model only with val_acc available, skipping.\n"
          ]
        },
        {
          "output_type": "stream",
          "name": "stdout",
          "text": [
            "\b\b\b\b\b\b\b\b\b\b\b\b\b\b\b\b\b\b\b\b\b\b\b\b\b\b\b\b\b\b\b\b\b\b\b\b\b\b\b\b\b\b\b\b\b\b\b\b\b\b\b\b\b\b\b\b\b\b\b\b\b\b\b\b\b\b\b\b\b\b\b\b\b\b\b\b\b\b\b\b\b\b\b\b\b\r112/112 [==============================] - 4s 35ms/step - loss: 35.8936 - accuracy: 0.5666 - val_loss: 53.2544 - val_accuracy: 0.3367\n",
            "Epoch 31/50\n",
            "111/112 [============================>.] - ETA: 0s - loss: 35.1134 - accuracy: 0.5570"
          ]
        },
        {
          "output_type": "stream",
          "name": "stderr",
          "text": [
            "WARNING:tensorflow:Can save best model only with val_acc available, skipping.\n"
          ]
        },
        {
          "output_type": "stream",
          "name": "stdout",
          "text": [
            "\b\b\b\b\b\b\b\b\b\b\b\b\b\b\b\b\b\b\b\b\b\b\b\b\b\b\b\b\b\b\b\b\b\b\b\b\b\b\b\b\b\b\b\b\b\b\b\b\b\b\b\b\b\b\b\b\b\b\b\b\b\b\b\b\b\b\b\b\b\b\b\b\b\b\b\b\b\b\b\b\b\b\b\b\b\r112/112 [==============================] - 4s 36ms/step - loss: 35.0351 - accuracy: 0.5575 - val_loss: 25.3377 - val_accuracy: 0.5648\n",
            "Epoch 32/50\n",
            "112/112 [==============================] - ETA: 0s - loss: 34.6180 - accuracy: 0.5586"
          ]
        },
        {
          "output_type": "stream",
          "name": "stderr",
          "text": [
            "WARNING:tensorflow:Can save best model only with val_acc available, skipping.\n"
          ]
        },
        {
          "output_type": "stream",
          "name": "stdout",
          "text": [
            "\b\b\b\b\b\b\b\b\b\b\b\b\b\b\b\b\b\b\b\b\b\b\b\b\b\b\b\b\b\b\b\b\b\b\b\b\b\b\b\b\b\b\b\b\b\b\b\b\b\b\b\b\b\b\b\b\b\b\b\b\b\b\b\b\b\b\b\b\b\b\b\b\b\b\b\b\b\b\b\b\b\b\b\b\b\r112/112 [==============================] - 4s 36ms/step - loss: 34.6180 - accuracy: 0.5586 - val_loss: 32.7038 - val_accuracy: 0.5025\n",
            "Epoch 33/50\n",
            "111/112 [============================>.] - ETA: 0s - loss: 40.7938 - accuracy: 0.5654"
          ]
        },
        {
          "output_type": "stream",
          "name": "stderr",
          "text": [
            "WARNING:tensorflow:Can save best model only with val_acc available, skipping.\n"
          ]
        },
        {
          "output_type": "stream",
          "name": "stdout",
          "text": [
            "\b\b\b\b\b\b\b\b\b\b\b\b\b\b\b\b\b\b\b\b\b\b\b\b\b\b\b\b\b\b\b\b\b\b\b\b\b\b\b\b\b\b\b\b\b\b\b\b\b\b\b\b\b\b\b\b\b\b\b\b\b\b\b\b\b\b\b\b\b\b\b\b\b\b\b\b\b\b\b\b\b\b\b\b\b\r112/112 [==============================] - 4s 35ms/step - loss: 40.7099 - accuracy: 0.5655 - val_loss: 26.8610 - val_accuracy: 0.6022\n",
            "Epoch 34/50\n",
            "111/112 [============================>.] - ETA: 0s - loss: 34.4683 - accuracy: 0.5637"
          ]
        },
        {
          "output_type": "stream",
          "name": "stderr",
          "text": [
            "WARNING:tensorflow:Can save best model only with val_acc available, skipping.\n"
          ]
        },
        {
          "output_type": "stream",
          "name": "stdout",
          "text": [
            "\b\b\b\b\b\b\b\b\b\b\b\b\b\b\b\b\b\b\b\b\b\b\b\b\b\b\b\b\b\b\b\b\b\b\b\b\b\b\b\b\b\b\b\b\b\b\b\b\b\b\b\b\b\b\b\b\b\b\b\b\b\b\b\b\b\b\b\b\b\b\b\b\b\b\b\b\b\b\b\b\b\b\b\b\b\r112/112 [==============================] - 4s 36ms/step - loss: 34.3810 - accuracy: 0.5638 - val_loss: 27.3738 - val_accuracy: 0.4464\n",
            "Epoch 35/50\n",
            "111/112 [============================>.] - ETA: 0s - loss: 30.0466 - accuracy: 0.5705"
          ]
        },
        {
          "output_type": "stream",
          "name": "stderr",
          "text": [
            "WARNING:tensorflow:Can save best model only with val_acc available, skipping.\n"
          ]
        },
        {
          "output_type": "stream",
          "name": "stdout",
          "text": [
            "\b\b\b\b\b\b\b\b\b\b\b\b\b\b\b\b\b\b\b\b\b\b\b\b\b\b\b\b\b\b\b\b\b\b\b\b\b\b\b\b\b\b\b\b\b\b\b\b\b\b\b\b\b\b\b\b\b\b\b\b\b\b\b\b\b\b\b\b\b\b\b\b\b\b\b\b\b\b\b\b\b\b\b\b\b\r112/112 [==============================] - 4s 36ms/step - loss: 30.1420 - accuracy: 0.5705 - val_loss: 42.4855 - val_accuracy: 0.6446\n",
            "Epoch 36/50\n",
            "111/112 [============================>.] - ETA: 0s - loss: 32.5926 - accuracy: 0.5689"
          ]
        },
        {
          "output_type": "stream",
          "name": "stderr",
          "text": [
            "WARNING:tensorflow:Can save best model only with val_acc available, skipping.\n"
          ]
        },
        {
          "output_type": "stream",
          "name": "stdout",
          "text": [
            "\b\b\b\b\b\b\b\b\b\b\b\b\b\b\b\b\b\b\b\b\b\b\b\b\b\b\b\b\b\b\b\b\b\b\b\b\b\b\b\b\b\b\b\b\b\b\b\b\b\b\b\b\b\b\b\b\b\b\b\b\b\b\b\b\b\b\b\b\b\b\b\b\b\b\b\b\b\b\b\b\b\b\b\b\b\r112/112 [==============================] - 4s 36ms/step - loss: 32.7655 - accuracy: 0.5679 - val_loss: 32.8954 - val_accuracy: 0.5087\n",
            "Epoch 37/50\n",
            "111/112 [============================>.] - ETA: 0s - loss: 36.6214 - accuracy: 0.5651"
          ]
        },
        {
          "output_type": "stream",
          "name": "stderr",
          "text": [
            "WARNING:tensorflow:Can save best model only with val_acc available, skipping.\n"
          ]
        },
        {
          "output_type": "stream",
          "name": "stdout",
          "text": [
            "\b\b\b\b\b\b\b\b\b\b\b\b\b\b\b\b\b\b\b\b\b\b\b\b\b\b\b\b\b\b\b\b\b\b\b\b\b\b\b\b\b\b\b\b\b\b\b\b\b\b\b\b\b\b\b\b\b\b\b\b\b\b\b\b\b\b\b\b\b\b\b\b\b\b\b\b\b\b\b\b\b\b\b\b\b\r112/112 [==============================] - 4s 35ms/step - loss: 36.4951 - accuracy: 0.5654 - val_loss: 43.5236 - val_accuracy: 0.5150\n",
            "Epoch 38/50\n",
            "111/112 [============================>.] - ETA: 0s - loss: 33.2723 - accuracy: 0.5648"
          ]
        },
        {
          "output_type": "stream",
          "name": "stderr",
          "text": [
            "WARNING:tensorflow:Can save best model only with val_acc available, skipping.\n"
          ]
        },
        {
          "output_type": "stream",
          "name": "stdout",
          "text": [
            "\b\b\b\b\b\b\b\b\b\b\b\b\b\b\b\b\b\b\b\b\b\b\b\b\b\b\b\b\b\b\b\b\b\b\b\b\b\b\b\b\b\b\b\b\b\b\b\b\b\b\b\b\b\b\b\b\b\b\b\b\b\b\b\b\b\b\b\b\b\b\b\b\b\b\b\b\b\b\b\b\b\b\b\b\b\r112/112 [==============================] - 4s 36ms/step - loss: 33.1088 - accuracy: 0.5662 - val_loss: 24.8016 - val_accuracy: 0.4813\n",
            "Epoch 39/50\n",
            "111/112 [============================>.] - ETA: 0s - loss: 34.8486 - accuracy: 0.5664"
          ]
        },
        {
          "output_type": "stream",
          "name": "stderr",
          "text": [
            "WARNING:tensorflow:Can save best model only with val_acc available, skipping.\n"
          ]
        },
        {
          "output_type": "stream",
          "name": "stdout",
          "text": [
            "\b\b\b\b\b\b\b\b\b\b\b\b\b\b\b\b\b\b\b\b\b\b\b\b\b\b\b\b\b\b\b\b\b\b\b\b\b\b\b\b\b\b\b\b\b\b\b\b\b\b\b\b\b\b\b\b\b\b\b\b\b\b\b\b\b\b\b\b\b\b\b\b\b\b\b\b\b\b\b\b\b\b\b\b\b\r112/112 [==============================] - 4s 36ms/step - loss: 34.7875 - accuracy: 0.5669 - val_loss: 27.4421 - val_accuracy: 0.4825\n",
            "Epoch 40/50\n",
            "111/112 [============================>.] - ETA: 0s - loss: 33.1926 - accuracy: 0.5640"
          ]
        },
        {
          "output_type": "stream",
          "name": "stderr",
          "text": [
            "WARNING:tensorflow:Can save best model only with val_acc available, skipping.\n"
          ]
        },
        {
          "output_type": "stream",
          "name": "stdout",
          "text": [
            "\b\b\b\b\b\b\b\b\b\b\b\b\b\b\b\b\b\b\b\b\b\b\b\b\b\b\b\b\b\b\b\b\b\b\b\b\b\b\b\b\b\b\b\b\b\b\b\b\b\b\b\b\b\b\b\b\b\b\b\b\b\b\b\b\b\b\b\b\b\b\b\b\b\b\b\b\b\b\b\b\b\b\b\b\b\r112/112 [==============================] - 4s 36ms/step - loss: 33.2045 - accuracy: 0.5645 - val_loss: 20.5208 - val_accuracy: 0.5337\n",
            "Epoch 41/50\n",
            "111/112 [============================>.] - ETA: 0s - loss: 32.2285 - accuracy: 0.5659"
          ]
        },
        {
          "output_type": "stream",
          "name": "stderr",
          "text": [
            "WARNING:tensorflow:Can save best model only with val_acc available, skipping.\n"
          ]
        },
        {
          "output_type": "stream",
          "name": "stdout",
          "text": [
            "\b\b\b\b\b\b\b\b\b\b\b\b\b\b\b\b\b\b\b\b\b\b\b\b\b\b\b\b\b\b\b\b\b\b\b\b\b\b\b\b\b\b\b\b\b\b\b\b\b\b\b\b\b\b\b\b\b\b\b\b\b\b\b\b\b\b\b\b\b\b\b\b\b\b\b\b\b\b\b\b\b\b\b\b\b\r112/112 [==============================] - 4s 36ms/step - loss: 32.2646 - accuracy: 0.5666 - val_loss: 40.8206 - val_accuracy: 0.4027\n",
            "Epoch 42/50\n",
            "111/112 [============================>.] - ETA: 0s - loss: 35.4149 - accuracy: 0.5698"
          ]
        },
        {
          "output_type": "stream",
          "name": "stderr",
          "text": [
            "WARNING:tensorflow:Can save best model only with val_acc available, skipping.\n"
          ]
        },
        {
          "output_type": "stream",
          "name": "stdout",
          "text": [
            "\b\b\b\b\b\b\b\b\b\b\b\b\b\b\b\b\b\b\b\b\b\b\b\b\b\b\b\b\b\b\b\b\b\b\b\b\b\b\b\b\b\b\b\b\b\b\b\b\b\b\b\b\b\b\b\b\b\b\b\b\b\b\b\b\b\b\b\b\b\b\b\b\b\b\b\b\b\b\b\b\b\b\b\b\b\r112/112 [==============================] - 4s 35ms/step - loss: 35.4440 - accuracy: 0.5693 - val_loss: 29.3947 - val_accuracy: 0.5237\n",
            "Epoch 43/50\n",
            "111/112 [============================>.] - ETA: 0s - loss: 35.7302 - accuracy: 0.5678"
          ]
        },
        {
          "output_type": "stream",
          "name": "stderr",
          "text": [
            "WARNING:tensorflow:Can save best model only with val_acc available, skipping.\n"
          ]
        },
        {
          "output_type": "stream",
          "name": "stdout",
          "text": [
            "\b\b\b\b\b\b\b\b\b\b\b\b\b\b\b\b\b\b\b\b\b\b\b\b\b\b\b\b\b\b\b\b\b\b\b\b\b\b\b\b\b\b\b\b\b\b\b\b\b\b\b\b\b\b\b\b\b\b\b\b\b\b\b\b\b\b\b\b\b\b\b\b\b\b\b\b\b\b\b\b\b\b\b\b\b\r112/112 [==============================] - 4s 35ms/step - loss: 35.6704 - accuracy: 0.5679 - val_loss: 31.7221 - val_accuracy: 0.6446\n",
            "Epoch 44/50\n",
            "111/112 [============================>.] - ETA: 0s - loss: 34.0733 - accuracy: 0.5645"
          ]
        },
        {
          "output_type": "stream",
          "name": "stderr",
          "text": [
            "WARNING:tensorflow:Can save best model only with val_acc available, skipping.\n"
          ]
        },
        {
          "output_type": "stream",
          "name": "stdout",
          "text": [
            "\b\b\b\b\b\b\b\b\b\b\b\b\b\b\b\b\b\b\b\b\b\b\b\b\b\b\b\b\b\b\b\b\b\b\b\b\b\b\b\b\b\b\b\b\b\b\b\b\b\b\b\b\b\b\b\b\b\b\b\b\b\b\b\b\b\b\b\b\b\b\b\b\b\b\b\b\b\b\b\b\b\b\b\b\b\r112/112 [==============================] - 4s 36ms/step - loss: 34.1115 - accuracy: 0.5645 - val_loss: 63.8902 - val_accuracy: 0.3940\n",
            "Epoch 45/50\n",
            "112/112 [==============================] - ETA: 0s - loss: 31.4519 - accuracy: 0.5644"
          ]
        },
        {
          "output_type": "stream",
          "name": "stderr",
          "text": [
            "WARNING:tensorflow:Can save best model only with val_acc available, skipping.\n"
          ]
        },
        {
          "output_type": "stream",
          "name": "stdout",
          "text": [
            "\b\b\b\b\b\b\b\b\b\b\b\b\b\b\b\b\b\b\b\b\b\b\b\b\b\b\b\b\b\b\b\b\b\b\b\b\b\b\b\b\b\b\b\b\b\b\b\b\b\b\b\b\b\b\b\b\b\b\b\b\b\b\b\b\b\b\b\b\b\b\b\b\b\b\b\b\b\b\b\b\b\b\b\b\b\r112/112 [==============================] - 4s 37ms/step - loss: 31.4519 - accuracy: 0.5644 - val_loss: 26.9265 - val_accuracy: 0.6546\n",
            "Epoch 46/50\n",
            "111/112 [============================>.] - ETA: 0s - loss: 34.7998 - accuracy: 0.5658"
          ]
        },
        {
          "output_type": "stream",
          "name": "stderr",
          "text": [
            "WARNING:tensorflow:Can save best model only with val_acc available, skipping.\n"
          ]
        },
        {
          "output_type": "stream",
          "name": "stdout",
          "text": [
            "\b\b\b\b\b\b\b\b\b\b\b\b\b\b\b\b\b\b\b\b\b\b\b\b\b\b\b\b\b\b\b\b\b\b\b\b\b\b\b\b\b\b\b\b\b\b\b\b\b\b\b\b\b\b\b\b\b\b\b\b\b\b\b\b\b\b\b\b\b\b\b\b\b\b\b\b\b\b\b\b\b\b\b\b\b\r112/112 [==============================] - 5s 42ms/step - loss: 34.7980 - accuracy: 0.5659 - val_loss: 22.1294 - val_accuracy: 0.6347\n",
            "Epoch 47/50\n",
            "111/112 [============================>.] - ETA: 0s - loss: 34.9879 - accuracy: 0.5659"
          ]
        },
        {
          "output_type": "stream",
          "name": "stderr",
          "text": [
            "WARNING:tensorflow:Can save best model only with val_acc available, skipping.\n"
          ]
        },
        {
          "output_type": "stream",
          "name": "stdout",
          "text": [
            "\b\b\b\b\b\b\b\b\b\b\b\b\b\b\b\b\b\b\b\b\b\b\b\b\b\b\b\b\b\b\b\b\b\b\b\b\b\b\b\b\b\b\b\b\b\b\b\b\b\b\b\b\b\b\b\b\b\b\b\b\b\b\b\b\b\b\b\b\b\b\b\b\b\b\b\b\b\b\b\b\b\b\b\b\b\r112/112 [==============================] - 4s 36ms/step - loss: 35.0147 - accuracy: 0.5658 - val_loss: 19.2491 - val_accuracy: 0.5798\n",
            "Epoch 48/50\n",
            "112/112 [==============================] - ETA: 0s - loss: 35.1271 - accuracy: 0.5655"
          ]
        },
        {
          "output_type": "stream",
          "name": "stderr",
          "text": [
            "WARNING:tensorflow:Can save best model only with val_acc available, skipping.\n"
          ]
        },
        {
          "output_type": "stream",
          "name": "stdout",
          "text": [
            "\b\b\b\b\b\b\b\b\b\b\b\b\b\b\b\b\b\b\b\b\b\b\b\b\b\b\b\b\b\b\b\b\b\b\b\b\b\b\b\b\b\b\b\b\b\b\b\b\b\b\b\b\b\b\b\b\b\b\b\b\b\b\b\b\b\b\b\b\b\b\b\b\b\b\b\b\b\b\b\b\b\b\b\b\b\r112/112 [==============================] - 4s 36ms/step - loss: 35.1271 - accuracy: 0.5655 - val_loss: 30.2540 - val_accuracy: 0.6471\n",
            "Epoch 49/50\n",
            "111/112 [============================>.] - ETA: 0s - loss: 35.9391 - accuracy: 0.5562"
          ]
        },
        {
          "output_type": "stream",
          "name": "stderr",
          "text": [
            "WARNING:tensorflow:Can save best model only with val_acc available, skipping.\n"
          ]
        },
        {
          "output_type": "stream",
          "name": "stdout",
          "text": [
            "\b\b\b\b\b\b\b\b\b\b\b\b\b\b\b\b\b\b\b\b\b\b\b\b\b\b\b\b\b\b\b\b\b\b\b\b\b\b\b\b\b\b\b\b\b\b\b\b\b\b\b\b\b\b\b\b\b\b\b\b\b\b\b\b\b\b\b\b\b\b\b\b\b\b\b\b\b\b\b\b\b\b\b\b\b\r112/112 [==============================] - 4s 36ms/step - loss: 35.8906 - accuracy: 0.5560 - val_loss: 24.6491 - val_accuracy: 0.6471\n",
            "Epoch 50/50\n",
            "111/112 [============================>.] - ETA: 0s - loss: 33.8355 - accuracy: 0.5676"
          ]
        },
        {
          "output_type": "stream",
          "name": "stderr",
          "text": [
            "WARNING:tensorflow:Can save best model only with val_acc available, skipping.\n"
          ]
        },
        {
          "output_type": "stream",
          "name": "stdout",
          "text": [
            "\b\b\b\b\b\b\b\b\b\b\b\b\b\b\b\b\b\b\b\b\b\b\b\b\b\b\b\b\b\b\b\b\b\b\b\b\b\b\b\b\b\b\b\b\b\b\b\b\b\b\b\b\b\b\b\b\b\b\b\b\b\b\b\b\b\b\b\b\b\b\b\b\b\b\b\b\b\b\b\b\b\b\b\b\b\r112/112 [==============================] - 4s 35ms/step - loss: 33.8914 - accuracy: 0.5675 - val_loss: 27.7530 - val_accuracy: 0.6372\n"
          ]
        }
      ]
    },
    {
      "cell_type": "code",
      "source": [
        "# Define the optimizer\n",
        "optimizer = Adam(learning_rate=1E-6)\n",
        "# Compile the model\n",
        "model.compile(optimizer = optimizer , loss = \"categorical_crossentropy\", metrics=[\"accuracy\"])\n",
        "\n",
        "\n",
        "\n",
        "# Fit the model\n",
        "epochs = 50 \n",
        "batch_size = 64\n",
        "history_1E_6= model.fit_generator(datagen.flow(x_train,y_train, batch_size=batch_size),\n",
        "                              epochs = epochs, validation_data = (x_validate,y_validate),\n",
        "                              verbose = 1, steps_per_epoch=x_train.shape[0] // batch_size\n",
        "                              , callbacks=[checkpoint])"
      ],
      "metadata": {
        "colab": {
          "base_uri": "https://localhost:8080/"
        },
        "id": "vBWRkBNoqKUT",
        "outputId": "16078266-26c6-4fe0-d03c-8ddcf3a085ef"
      },
      "execution_count": 24,
      "outputs": [
        {
          "output_type": "stream",
          "name": "stdout",
          "text": [
            "Epoch 1/50\n"
          ]
        },
        {
          "output_type": "stream",
          "name": "stderr",
          "text": [
            "<ipython-input-24-4afe4c73df80>:11: UserWarning: `Model.fit_generator` is deprecated and will be removed in a future version. Please use `Model.fit`, which supports generators.\n",
            "  history_1E_6= model.fit_generator(datagen.flow(x_train,y_train, batch_size=batch_size),\n"
          ]
        },
        {
          "output_type": "stream",
          "name": "stdout",
          "text": [
            "111/112 [============================>.] - ETA: 0s - loss: 28.4814 - accuracy: 0.5835"
          ]
        },
        {
          "output_type": "stream",
          "name": "stderr",
          "text": [
            "WARNING:tensorflow:Can save best model only with val_acc available, skipping.\n"
          ]
        },
        {
          "output_type": "stream",
          "name": "stdout",
          "text": [
            "\b\b\b\b\b\b\b\b\b\b\b\b\b\b\b\b\b\b\b\b\b\b\b\b\b\b\b\b\b\b\b\b\b\b\b\b\b\b\b\b\b\b\b\b\b\b\b\b\b\b\b\b\b\b\b\b\b\b\b\b\b\b\b\b\b\b\b\b\b\b\b\b\b\b\b\b\b\b\b\b\b\b\b\b\b\r112/112 [==============================] - 5s 37ms/step - loss: 28.4147 - accuracy: 0.5841 - val_loss: 12.5034 - val_accuracy: 0.6359\n",
            "Epoch 2/50\n",
            "111/112 [============================>.] - ETA: 0s - loss: 15.1624 - accuracy: 0.5867"
          ]
        },
        {
          "output_type": "stream",
          "name": "stderr",
          "text": [
            "WARNING:tensorflow:Can save best model only with val_acc available, skipping.\n"
          ]
        },
        {
          "output_type": "stream",
          "name": "stdout",
          "text": [
            "\b\b\b\b\b\b\b\b\b\b\b\b\b\b\b\b\b\b\b\b\b\b\b\b\b\b\b\b\b\b\b\b\b\b\b\b\b\b\b\b\b\b\b\b\b\b\b\b\b\b\b\b\b\b\b\b\b\b\b\b\b\b\b\b\b\b\b\b\b\b\b\b\b\b\b\b\b\b\b\b\b\b\b\b\b\r112/112 [==============================] - 4s 35ms/step - loss: 15.1029 - accuracy: 0.5863 - val_loss: 8.0134 - val_accuracy: 0.6222\n",
            "Epoch 3/50\n",
            "111/112 [============================>.] - ETA: 0s - loss: 11.9723 - accuracy: 0.5837"
          ]
        },
        {
          "output_type": "stream",
          "name": "stderr",
          "text": [
            "WARNING:tensorflow:Can save best model only with val_acc available, skipping.\n"
          ]
        },
        {
          "output_type": "stream",
          "name": "stdout",
          "text": [
            "\b\b\b\b\b\b\b\b\b\b\b\b\b\b\b\b\b\b\b\b\b\b\b\b\b\b\b\b\b\b\b\b\b\b\b\b\b\b\b\b\b\b\b\b\b\b\b\b\b\b\b\b\b\b\b\b\b\b\b\b\b\b\b\b\b\b\b\b\b\b\b\b\b\b\b\b\b\b\b\b\b\b\b\b\b\r112/112 [==============================] - 4s 36ms/step - loss: 11.9225 - accuracy: 0.5840 - val_loss: 9.9474 - val_accuracy: 0.5935\n",
            "Epoch 4/50\n",
            "111/112 [============================>.] - ETA: 0s - loss: 10.1830 - accuracy: 0.5888"
          ]
        },
        {
          "output_type": "stream",
          "name": "stderr",
          "text": [
            "WARNING:tensorflow:Can save best model only with val_acc available, skipping.\n"
          ]
        },
        {
          "output_type": "stream",
          "name": "stdout",
          "text": [
            "\b\b\b\b\b\b\b\b\b\b\b\b\b\b\b\b\b\b\b\b\b\b\b\b\b\b\b\b\b\b\b\b\b\b\b\b\b\b\b\b\b\b\b\b\b\b\b\b\b\b\b\b\b\b\b\b\b\b\b\b\b\b\b\b\b\b\b\b\b\b\b\b\b\b\b\b\b\b\b\b\b\b\b\b\b\r112/112 [==============================] - 4s 35ms/step - loss: 10.1701 - accuracy: 0.5900 - val_loss: 7.9397 - val_accuracy: 0.6122\n",
            "Epoch 5/50\n",
            "111/112 [============================>.] - ETA: 0s - loss: 9.0190 - accuracy: 0.5898"
          ]
        },
        {
          "output_type": "stream",
          "name": "stderr",
          "text": [
            "WARNING:tensorflow:Can save best model only with val_acc available, skipping.\n"
          ]
        },
        {
          "output_type": "stream",
          "name": "stdout",
          "text": [
            "\b\b\b\b\b\b\b\b\b\b\b\b\b\b\b\b\b\b\b\b\b\b\b\b\b\b\b\b\b\b\b\b\b\b\b\b\b\b\b\b\b\b\b\b\b\b\b\b\b\b\b\b\b\b\b\b\b\b\b\b\b\b\b\b\b\b\b\b\b\b\b\b\b\b\b\b\b\b\b\b\b\b\b\b\r112/112 [==============================] - 4s 35ms/step - loss: 9.0118 - accuracy: 0.5907 - val_loss: 9.4272 - val_accuracy: 0.6409\n",
            "Epoch 6/50\n",
            "111/112 [============================>.] - ETA: 0s - loss: 8.3129 - accuracy: 0.5770"
          ]
        },
        {
          "output_type": "stream",
          "name": "stderr",
          "text": [
            "WARNING:tensorflow:Can save best model only with val_acc available, skipping.\n"
          ]
        },
        {
          "output_type": "stream",
          "name": "stdout",
          "text": [
            "\b\b\b\b\b\b\b\b\b\b\b\b\b\b\b\b\b\b\b\b\b\b\b\b\b\b\b\b\b\b\b\b\b\b\b\b\b\b\b\b\b\b\b\b\b\b\b\b\b\b\b\b\b\b\b\b\b\b\b\b\b\b\b\b\b\b\b\b\b\b\b\b\b\b\b\b\b\b\b\b\b\b\b\b\r112/112 [==============================] - 4s 36ms/step - loss: 8.2827 - accuracy: 0.5778 - val_loss: 6.1495 - val_accuracy: 0.6359\n",
            "Epoch 7/50\n",
            "112/112 [==============================] - ETA: 0s - loss: 7.9324 - accuracy: 0.5828"
          ]
        },
        {
          "output_type": "stream",
          "name": "stderr",
          "text": [
            "WARNING:tensorflow:Can save best model only with val_acc available, skipping.\n"
          ]
        },
        {
          "output_type": "stream",
          "name": "stdout",
          "text": [
            "\b\b\b\b\b\b\b\b\b\b\b\b\b\b\b\b\b\b\b\b\b\b\b\b\b\b\b\b\b\b\b\b\b\b\b\b\b\b\b\b\b\b\b\b\b\b\b\b\b\b\b\b\b\b\b\b\b\b\b\b\b\b\b\b\b\b\b\b\b\b\b\b\b\b\b\b\b\b\b\b\b\b\b\b\r112/112 [==============================] - 4s 36ms/step - loss: 7.9324 - accuracy: 0.5828 - val_loss: 7.4315 - val_accuracy: 0.6297\n",
            "Epoch 8/50\n",
            "111/112 [============================>.] - ETA: 0s - loss: 7.2433 - accuracy: 0.5803"
          ]
        },
        {
          "output_type": "stream",
          "name": "stderr",
          "text": [
            "WARNING:tensorflow:Can save best model only with val_acc available, skipping.\n"
          ]
        },
        {
          "output_type": "stream",
          "name": "stdout",
          "text": [
            "\b\b\b\b\b\b\b\b\b\b\b\b\b\b\b\b\b\b\b\b\b\b\b\b\b\b\b\b\b\b\b\b\b\b\b\b\b\b\b\b\b\b\b\b\b\b\b\b\b\b\b\b\b\b\b\b\b\b\b\b\b\b\b\b\b\b\b\b\b\b\b\b\b\b\b\b\b\b\b\b\b\b\b\b\r112/112 [==============================] - 4s 36ms/step - loss: 7.2169 - accuracy: 0.5807 - val_loss: 6.6575 - val_accuracy: 0.5050\n",
            "Epoch 9/50\n",
            "111/112 [============================>.] - ETA: 0s - loss: 7.2405 - accuracy: 0.5806"
          ]
        },
        {
          "output_type": "stream",
          "name": "stderr",
          "text": [
            "WARNING:tensorflow:Can save best model only with val_acc available, skipping.\n"
          ]
        },
        {
          "output_type": "stream",
          "name": "stdout",
          "text": [
            "\b\b\b\b\b\b\b\b\b\b\b\b\b\b\b\b\b\b\b\b\b\b\b\b\b\b\b\b\b\b\b\b\b\b\b\b\b\b\b\b\b\b\b\b\b\b\b\b\b\b\b\b\b\b\b\b\b\b\b\b\b\b\b\b\b\b\b\b\b\b\b\b\b\b\b\b\b\b\b\b\b\b\b\b\r112/112 [==============================] - 4s 35ms/step - loss: 7.2575 - accuracy: 0.5795 - val_loss: 3.6746 - val_accuracy: 0.5898\n",
            "Epoch 10/50\n",
            "112/112 [==============================] - ETA: 0s - loss: 6.6974 - accuracy: 0.5785"
          ]
        },
        {
          "output_type": "stream",
          "name": "stderr",
          "text": [
            "WARNING:tensorflow:Can save best model only with val_acc available, skipping.\n"
          ]
        },
        {
          "output_type": "stream",
          "name": "stdout",
          "text": [
            "\b\b\b\b\b\b\b\b\b\b\b\b\b\b\b\b\b\b\b\b\b\b\b\b\b\b\b\b\b\b\b\b\b\b\b\b\b\b\b\b\b\b\b\b\b\b\b\b\b\b\b\b\b\b\b\b\b\b\b\b\b\b\b\b\b\b\b\b\b\b\b\b\b\b\b\b\b\b\b\b\b\b\b\b\r112/112 [==============================] - 4s 36ms/step - loss: 6.6974 - accuracy: 0.5785 - val_loss: 6.6175 - val_accuracy: 0.6397\n",
            "Epoch 11/50\n",
            "111/112 [============================>.] - ETA: 0s - loss: 6.7037 - accuracy: 0.5835"
          ]
        },
        {
          "output_type": "stream",
          "name": "stderr",
          "text": [
            "WARNING:tensorflow:Can save best model only with val_acc available, skipping.\n"
          ]
        },
        {
          "output_type": "stream",
          "name": "stdout",
          "text": [
            "\b\b\b\b\b\b\b\b\b\b\b\b\b\b\b\b\b\b\b\b\b\b\b\b\b\b\b\b\b\b\b\b\b\b\b\b\b\b\b\b\b\b\b\b\b\b\b\b\b\b\b\b\b\b\b\b\b\b\b\b\b\b\b\b\b\b\b\b\b\b\b\b\b\b\b\b\b\b\b\b\b\b\b\b\r112/112 [==============================] - 4s 36ms/step - loss: 6.6982 - accuracy: 0.5834 - val_loss: 6.3401 - val_accuracy: 0.6172\n",
            "Epoch 12/50\n",
            "111/112 [============================>.] - ETA: 0s - loss: 6.4384 - accuracy: 0.5801"
          ]
        },
        {
          "output_type": "stream",
          "name": "stderr",
          "text": [
            "WARNING:tensorflow:Can save best model only with val_acc available, skipping.\n"
          ]
        },
        {
          "output_type": "stream",
          "name": "stdout",
          "text": [
            "\b\b\b\b\b\b\b\b\b\b\b\b\b\b\b\b\b\b\b\b\b\b\b\b\b\b\b\b\b\b\b\b\b\b\b\b\b\b\b\b\b\b\b\b\b\b\b\b\b\b\b\b\b\b\b\b\b\b\b\b\b\b\b\b\b\b\b\b\b\b\b\b\b\b\b\b\b\b\b\b\b\b\b\b\r112/112 [==============================] - 4s 36ms/step - loss: 6.4537 - accuracy: 0.5799 - val_loss: 6.3958 - val_accuracy: 0.5461\n",
            "Epoch 13/50\n",
            "111/112 [============================>.] - ETA: 0s - loss: 6.5010 - accuracy: 0.5825"
          ]
        },
        {
          "output_type": "stream",
          "name": "stderr",
          "text": [
            "WARNING:tensorflow:Can save best model only with val_acc available, skipping.\n"
          ]
        },
        {
          "output_type": "stream",
          "name": "stdout",
          "text": [
            "\b\b\b\b\b\b\b\b\b\b\b\b\b\b\b\b\b\b\b\b\b\b\b\b\b\b\b\b\b\b\b\b\b\b\b\b\b\b\b\b\b\b\b\b\b\b\b\b\b\b\b\b\b\b\b\b\b\b\b\b\b\b\b\b\b\b\b\b\b\b\b\b\b\b\b\b\b\b\b\b\b\b\b\b\r112/112 [==============================] - 4s 36ms/step - loss: 6.4974 - accuracy: 0.5828 - val_loss: 4.5113 - val_accuracy: 0.5636\n",
            "Epoch 14/50\n",
            "111/112 [============================>.] - ETA: 0s - loss: 6.2229 - accuracy: 0.5846"
          ]
        },
        {
          "output_type": "stream",
          "name": "stderr",
          "text": [
            "WARNING:tensorflow:Can save best model only with val_acc available, skipping.\n"
          ]
        },
        {
          "output_type": "stream",
          "name": "stdout",
          "text": [
            "\b\b\b\b\b\b\b\b\b\b\b\b\b\b\b\b\b\b\b\b\b\b\b\b\b\b\b\b\b\b\b\b\b\b\b\b\b\b\b\b\b\b\b\b\b\b\b\b\b\b\b\b\b\b\b\b\b\b\b\b\b\b\b\b\b\b\b\b\b\b\b\b\b\b\b\b\b\b\b\b\b\b\b\b\r112/112 [==============================] - 4s 35ms/step - loss: 6.2200 - accuracy: 0.5842 - val_loss: 6.3012 - val_accuracy: 0.6434\n",
            "Epoch 15/50\n",
            "111/112 [============================>.] - ETA: 0s - loss: 6.3267 - accuracy: 0.5781"
          ]
        },
        {
          "output_type": "stream",
          "name": "stderr",
          "text": [
            "WARNING:tensorflow:Can save best model only with val_acc available, skipping.\n"
          ]
        },
        {
          "output_type": "stream",
          "name": "stdout",
          "text": [
            "\b\b\b\b\b\b\b\b\b\b\b\b\b\b\b\b\b\b\b\b\b\b\b\b\b\b\b\b\b\b\b\b\b\b\b\b\b\b\b\b\b\b\b\b\b\b\b\b\b\b\b\b\b\b\b\b\b\b\b\b\b\b\b\b\b\b\b\b\b\b\b\b\b\b\b\b\b\b\b\b\b\b\b\b\r112/112 [==============================] - 4s 36ms/step - loss: 6.3297 - accuracy: 0.5788 - val_loss: 5.7290 - val_accuracy: 0.6446\n",
            "Epoch 16/50\n",
            "112/112 [==============================] - ETA: 0s - loss: 6.2946 - accuracy: 0.5861"
          ]
        },
        {
          "output_type": "stream",
          "name": "stderr",
          "text": [
            "WARNING:tensorflow:Can save best model only with val_acc available, skipping.\n"
          ]
        },
        {
          "output_type": "stream",
          "name": "stdout",
          "text": [
            "\b\b\b\b\b\b\b\b\b\b\b\b\b\b\b\b\b\b\b\b\b\b\b\b\b\b\b\b\b\b\b\b\b\b\b\b\b\b\b\b\b\b\b\b\b\b\b\b\b\b\b\b\b\b\b\b\b\b\b\b\b\b\b\b\b\b\b\b\b\b\b\b\b\b\b\b\b\b\b\b\b\b\b\b\r112/112 [==============================] - 4s 35ms/step - loss: 6.2946 - accuracy: 0.5861 - val_loss: 4.7458 - val_accuracy: 0.5561\n",
            "Epoch 17/50\n",
            "112/112 [==============================] - ETA: 0s - loss: 6.4709 - accuracy: 0.5796"
          ]
        },
        {
          "output_type": "stream",
          "name": "stderr",
          "text": [
            "WARNING:tensorflow:Can save best model only with val_acc available, skipping.\n"
          ]
        },
        {
          "output_type": "stream",
          "name": "stdout",
          "text": [
            "\b\b\b\b\b\b\b\b\b\b\b\b\b\b\b\b\b\b\b\b\b\b\b\b\b\b\b\b\b\b\b\b\b\b\b\b\b\b\b\b\b\b\b\b\b\b\b\b\b\b\b\b\b\b\b\b\b\b\b\b\b\b\b\b\b\b\b\b\b\b\b\b\b\b\b\b\b\b\b\b\b\b\b\b\r112/112 [==============================] - 4s 36ms/step - loss: 6.4709 - accuracy: 0.5796 - val_loss: 4.3281 - val_accuracy: 0.6035\n",
            "Epoch 18/50\n",
            "111/112 [============================>.] - ETA: 0s - loss: 6.2998 - accuracy: 0.5751"
          ]
        },
        {
          "output_type": "stream",
          "name": "stderr",
          "text": [
            "WARNING:tensorflow:Can save best model only with val_acc available, skipping.\n"
          ]
        },
        {
          "output_type": "stream",
          "name": "stdout",
          "text": [
            "\b\b\b\b\b\b\b\b\b\b\b\b\b\b\b\b\b\b\b\b\b\b\b\b\b\b\b\b\b\b\b\b\b\b\b\b\b\b\b\b\b\b\b\b\b\b\b\b\b\b\b\b\b\b\b\b\b\b\b\b\b\b\b\b\b\b\b\b\b\b\b\b\b\b\b\b\b\b\b\b\b\b\b\b\r112/112 [==============================] - 4s 34ms/step - loss: 6.2942 - accuracy: 0.5763 - val_loss: 3.7309 - val_accuracy: 0.6384\n",
            "Epoch 19/50\n",
            "111/112 [============================>.] - ETA: 0s - loss: 6.3095 - accuracy: 0.5767"
          ]
        },
        {
          "output_type": "stream",
          "name": "stderr",
          "text": [
            "WARNING:tensorflow:Can save best model only with val_acc available, skipping.\n"
          ]
        },
        {
          "output_type": "stream",
          "name": "stdout",
          "text": [
            "\b\b\b\b\b\b\b\b\b\b\b\b\b\b\b\b\b\b\b\b\b\b\b\b\b\b\b\b\b\b\b\b\b\b\b\b\b\b\b\b\b\b\b\b\b\b\b\b\b\b\b\b\b\b\b\b\b\b\b\b\b\b\b\b\b\b\b\b\b\b\b\b\b\b\b\b\b\b\b\b\b\b\b\b\r112/112 [==============================] - 5s 46ms/step - loss: 6.3119 - accuracy: 0.5771 - val_loss: 6.6770 - val_accuracy: 0.6397\n",
            "Epoch 20/50\n",
            "111/112 [============================>.] - ETA: 0s - loss: 6.5321 - accuracy: 0.5815"
          ]
        },
        {
          "output_type": "stream",
          "name": "stderr",
          "text": [
            "WARNING:tensorflow:Can save best model only with val_acc available, skipping.\n"
          ]
        },
        {
          "output_type": "stream",
          "name": "stdout",
          "text": [
            "\b\b\b\b\b\b\b\b\b\b\b\b\b\b\b\b\b\b\b\b\b\b\b\b\b\b\b\b\b\b\b\b\b\b\b\b\b\b\b\b\b\b\b\b\b\b\b\b\b\b\b\b\b\b\b\b\b\b\b\b\b\b\b\b\b\b\b\b\b\b\b\b\b\b\b\b\b\b\b\b\b\b\b\b\r112/112 [==============================] - 4s 36ms/step - loss: 6.5480 - accuracy: 0.5812 - val_loss: 6.5284 - val_accuracy: 0.6409\n",
            "Epoch 21/50\n",
            "111/112 [============================>.] - ETA: 0s - loss: 6.7724 - accuracy: 0.5746"
          ]
        },
        {
          "output_type": "stream",
          "name": "stderr",
          "text": [
            "WARNING:tensorflow:Can save best model only with val_acc available, skipping.\n"
          ]
        },
        {
          "output_type": "stream",
          "name": "stdout",
          "text": [
            "\b\b\b\b\b\b\b\b\b\b\b\b\b\b\b\b\b\b\b\b\b\b\b\b\b\b\b\b\b\b\b\b\b\b\b\b\b\b\b\b\b\b\b\b\b\b\b\b\b\b\b\b\b\b\b\b\b\b\b\b\b\b\b\b\b\b\b\b\b\b\b\b\b\b\b\b\b\b\b\b\b\b\b\b\r112/112 [==============================] - 4s 35ms/step - loss: 6.7609 - accuracy: 0.5756 - val_loss: 4.0844 - val_accuracy: 0.5698\n",
            "Epoch 22/50\n",
            "111/112 [============================>.] - ETA: 0s - loss: 6.1636 - accuracy: 0.5850"
          ]
        },
        {
          "output_type": "stream",
          "name": "stderr",
          "text": [
            "WARNING:tensorflow:Can save best model only with val_acc available, skipping.\n"
          ]
        },
        {
          "output_type": "stream",
          "name": "stdout",
          "text": [
            "\b\b\b\b\b\b\b\b\b\b\b\b\b\b\b\b\b\b\b\b\b\b\b\b\b\b\b\b\b\b\b\b\b\b\b\b\b\b\b\b\b\b\b\b\b\b\b\b\b\b\b\b\b\b\b\b\b\b\b\b\b\b\b\b\b\b\b\b\b\b\b\b\b\b\b\b\b\b\b\b\b\b\b\b\r112/112 [==============================] - 4s 35ms/step - loss: 6.1609 - accuracy: 0.5854 - val_loss: 5.5481 - val_accuracy: 0.6372\n",
            "Epoch 23/50\n",
            "111/112 [============================>.] - ETA: 0s - loss: 6.2555 - accuracy: 0.5795"
          ]
        },
        {
          "output_type": "stream",
          "name": "stderr",
          "text": [
            "WARNING:tensorflow:Can save best model only with val_acc available, skipping.\n"
          ]
        },
        {
          "output_type": "stream",
          "name": "stdout",
          "text": [
            "\b\b\b\b\b\b\b\b\b\b\b\b\b\b\b\b\b\b\b\b\b\b\b\b\b\b\b\b\b\b\b\b\b\b\b\b\b\b\b\b\b\b\b\b\b\b\b\b\b\b\b\b\b\b\b\b\b\b\b\b\b\b\b\b\b\b\b\b\b\b\b\b\b\b\b\b\b\b\b\b\b\b\b\b\r112/112 [==============================] - 4s 36ms/step - loss: 6.2451 - accuracy: 0.5791 - val_loss: 4.9788 - val_accuracy: 0.5686\n",
            "Epoch 24/50\n",
            "112/112 [==============================] - ETA: 0s - loss: 6.2820 - accuracy: 0.5848"
          ]
        },
        {
          "output_type": "stream",
          "name": "stderr",
          "text": [
            "WARNING:tensorflow:Can save best model only with val_acc available, skipping.\n"
          ]
        },
        {
          "output_type": "stream",
          "name": "stdout",
          "text": [
            "\b\b\b\b\b\b\b\b\b\b\b\b\b\b\b\b\b\b\b\b\b\b\b\b\b\b\b\b\b\b\b\b\b\b\b\b\b\b\b\b\b\b\b\b\b\b\b\b\b\b\b\b\b\b\b\b\b\b\b\b\b\b\b\b\b\b\b\b\b\b\b\b\b\b\b\b\b\b\b\b\b\b\b\b\r112/112 [==============================] - 4s 35ms/step - loss: 6.2820 - accuracy: 0.5848 - val_loss: 4.9325 - val_accuracy: 0.6347\n",
            "Epoch 25/50\n",
            "111/112 [============================>.] - ETA: 0s - loss: 6.4249 - accuracy: 0.5825"
          ]
        },
        {
          "output_type": "stream",
          "name": "stderr",
          "text": [
            "WARNING:tensorflow:Can save best model only with val_acc available, skipping.\n"
          ]
        },
        {
          "output_type": "stream",
          "name": "stdout",
          "text": [
            "\b\b\b\b\b\b\b\b\b\b\b\b\b\b\b\b\b\b\b\b\b\b\b\b\b\b\b\b\b\b\b\b\b\b\b\b\b\b\b\b\b\b\b\b\b\b\b\b\b\b\b\b\b\b\b\b\b\b\b\b\b\b\b\b\b\b\b\b\b\b\b\b\b\b\b\b\b\b\b\b\b\b\b\b\r112/112 [==============================] - 4s 35ms/step - loss: 6.4071 - accuracy: 0.5830 - val_loss: 7.4049 - val_accuracy: 0.6372\n",
            "Epoch 26/50\n",
            "111/112 [============================>.] - ETA: 0s - loss: 6.5203 - accuracy: 0.5767"
          ]
        },
        {
          "output_type": "stream",
          "name": "stderr",
          "text": [
            "WARNING:tensorflow:Can save best model only with val_acc available, skipping.\n"
          ]
        },
        {
          "output_type": "stream",
          "name": "stdout",
          "text": [
            "\b\b\b\b\b\b\b\b\b\b\b\b\b\b\b\b\b\b\b\b\b\b\b\b\b\b\b\b\b\b\b\b\b\b\b\b\b\b\b\b\b\b\b\b\b\b\b\b\b\b\b\b\b\b\b\b\b\b\b\b\b\b\b\b\b\b\b\b\b\b\b\b\b\b\b\b\b\b\b\b\b\b\b\b\r112/112 [==============================] - 4s 35ms/step - loss: 6.5083 - accuracy: 0.5774 - val_loss: 6.8401 - val_accuracy: 0.6322\n",
            "Epoch 27/50\n",
            "111/112 [============================>.] - ETA: 0s - loss: 6.1824 - accuracy: 0.5775"
          ]
        },
        {
          "output_type": "stream",
          "name": "stderr",
          "text": [
            "WARNING:tensorflow:Can save best model only with val_acc available, skipping.\n"
          ]
        },
        {
          "output_type": "stream",
          "name": "stdout",
          "text": [
            "\b\b\b\b\b\b\b\b\b\b\b\b\b\b\b\b\b\b\b\b\b\b\b\b\b\b\b\b\b\b\b\b\b\b\b\b\b\b\b\b\b\b\b\b\b\b\b\b\b\b\b\b\b\b\b\b\b\b\b\b\b\b\b\b\b\b\b\b\b\b\b\b\b\b\b\b\b\b\b\b\b\b\b\b\r112/112 [==============================] - 4s 35ms/step - loss: 6.1965 - accuracy: 0.5782 - val_loss: 5.8512 - val_accuracy: 0.6397\n",
            "Epoch 28/50\n",
            "111/112 [============================>.] - ETA: 0s - loss: 6.3995 - accuracy: 0.5778"
          ]
        },
        {
          "output_type": "stream",
          "name": "stderr",
          "text": [
            "WARNING:tensorflow:Can save best model only with val_acc available, skipping.\n"
          ]
        },
        {
          "output_type": "stream",
          "name": "stdout",
          "text": [
            "\b\b\b\b\b\b\b\b\b\b\b\b\b\b\b\b\b\b\b\b\b\b\b\b\b\b\b\b\b\b\b\b\b\b\b\b\b\b\b\b\b\b\b\b\b\b\b\b\b\b\b\b\b\b\b\b\b\b\b\b\b\b\b\b\b\b\b\b\b\b\b\b\b\b\b\b\b\b\b\b\b\b\b\b\r112/112 [==============================] - 4s 36ms/step - loss: 6.4299 - accuracy: 0.5772 - val_loss: 5.4643 - val_accuracy: 0.6347\n",
            "Epoch 29/50\n",
            "111/112 [============================>.] - ETA: 0s - loss: 6.0349 - accuracy: 0.5912"
          ]
        },
        {
          "output_type": "stream",
          "name": "stderr",
          "text": [
            "WARNING:tensorflow:Can save best model only with val_acc available, skipping.\n"
          ]
        },
        {
          "output_type": "stream",
          "name": "stdout",
          "text": [
            "\b\b\b\b\b\b\b\b\b\b\b\b\b\b\b\b\b\b\b\b\b\b\b\b\b\b\b\b\b\b\b\b\b\b\b\b\b\b\b\b\b\b\b\b\b\b\b\b\b\b\b\b\b\b\b\b\b\b\b\b\b\b\b\b\b\b\b\b\b\b\b\b\b\b\b\b\b\b\b\b\b\b\b\b\r112/112 [==============================] - 4s 36ms/step - loss: 6.0444 - accuracy: 0.5908 - val_loss: 5.0466 - val_accuracy: 0.6284\n",
            "Epoch 30/50\n",
            "111/112 [============================>.] - ETA: 0s - loss: 6.5295 - accuracy: 0.5722"
          ]
        },
        {
          "output_type": "stream",
          "name": "stderr",
          "text": [
            "WARNING:tensorflow:Can save best model only with val_acc available, skipping.\n"
          ]
        },
        {
          "output_type": "stream",
          "name": "stdout",
          "text": [
            "\b\b\b\b\b\b\b\b\b\b\b\b\b\b\b\b\b\b\b\b\b\b\b\b\b\b\b\b\b\b\b\b\b\b\b\b\b\b\b\b\b\b\b\b\b\b\b\b\b\b\b\b\b\b\b\b\b\b\b\b\b\b\b\b\b\b\b\b\b\b\b\b\b\b\b\b\b\b\b\b\b\b\b\b\r112/112 [==============================] - 4s 35ms/step - loss: 6.5336 - accuracy: 0.5721 - val_loss: 3.7339 - val_accuracy: 0.6459\n",
            "Epoch 31/50\n",
            "111/112 [============================>.] - ETA: 0s - loss: 5.7693 - accuracy: 0.5854"
          ]
        },
        {
          "output_type": "stream",
          "name": "stderr",
          "text": [
            "WARNING:tensorflow:Can save best model only with val_acc available, skipping.\n"
          ]
        },
        {
          "output_type": "stream",
          "name": "stdout",
          "text": [
            "\b\b\b\b\b\b\b\b\b\b\b\b\b\b\b\b\b\b\b\b\b\b\b\b\b\b\b\b\b\b\b\b\b\b\b\b\b\b\b\b\b\b\b\b\b\b\b\b\b\b\b\b\b\b\b\b\b\b\b\b\b\b\b\b\b\b\b\b\b\b\b\b\b\b\b\b\b\b\b\b\b\b\b\b\r112/112 [==============================] - 4s 36ms/step - loss: 5.7895 - accuracy: 0.5845 - val_loss: 3.9146 - val_accuracy: 0.5823\n",
            "Epoch 32/50\n",
            "112/112 [==============================] - ETA: 0s - loss: 6.2726 - accuracy: 0.5824"
          ]
        },
        {
          "output_type": "stream",
          "name": "stderr",
          "text": [
            "WARNING:tensorflow:Can save best model only with val_acc available, skipping.\n"
          ]
        },
        {
          "output_type": "stream",
          "name": "stdout",
          "text": [
            "\b\b\b\b\b\b\b\b\b\b\b\b\b\b\b\b\b\b\b\b\b\b\b\b\b\b\b\b\b\b\b\b\b\b\b\b\b\b\b\b\b\b\b\b\b\b\b\b\b\b\b\b\b\b\b\b\b\b\b\b\b\b\b\b\b\b\b\b\b\b\b\b\b\b\b\b\b\b\b\b\b\b\b\b\r112/112 [==============================] - 5s 44ms/step - loss: 6.2726 - accuracy: 0.5824 - val_loss: 8.8046 - val_accuracy: 0.6397\n",
            "Epoch 33/50\n",
            "112/112 [==============================] - ETA: 0s - loss: 6.1429 - accuracy: 0.5831"
          ]
        },
        {
          "output_type": "stream",
          "name": "stderr",
          "text": [
            "WARNING:tensorflow:Can save best model only with val_acc available, skipping.\n"
          ]
        },
        {
          "output_type": "stream",
          "name": "stdout",
          "text": [
            "\b\b\b\b\b\b\b\b\b\b\b\b\b\b\b\b\b\b\b\b\b\b\b\b\b\b\b\b\b\b\b\b\b\b\b\b\b\b\b\b\b\b\b\b\b\b\b\b\b\b\b\b\b\b\b\b\b\b\b\b\b\b\b\b\b\b\b\b\b\b\b\b\b\b\b\b\b\b\b\b\b\b\b\b\r112/112 [==============================] - 4s 36ms/step - loss: 6.1429 - accuracy: 0.5831 - val_loss: 5.2957 - val_accuracy: 0.6384\n",
            "Epoch 34/50\n",
            "111/112 [============================>.] - ETA: 0s - loss: 5.8812 - accuracy: 0.5818"
          ]
        },
        {
          "output_type": "stream",
          "name": "stderr",
          "text": [
            "WARNING:tensorflow:Can save best model only with val_acc available, skipping.\n"
          ]
        },
        {
          "output_type": "stream",
          "name": "stdout",
          "text": [
            "\b\b\b\b\b\b\b\b\b\b\b\b\b\b\b\b\b\b\b\b\b\b\b\b\b\b\b\b\b\b\b\b\b\b\b\b\b\b\b\b\b\b\b\b\b\b\b\b\b\b\b\b\b\b\b\b\b\b\b\b\b\b\b\b\b\b\b\b\b\b\b\b\b\b\b\b\b\b\b\b\b\b\b\b\r112/112 [==============================] - 4s 35ms/step - loss: 5.8675 - accuracy: 0.5820 - val_loss: 4.3094 - val_accuracy: 0.5848\n",
            "Epoch 35/50\n",
            "111/112 [============================>.] - ETA: 0s - loss: 6.1056 - accuracy: 0.5870"
          ]
        },
        {
          "output_type": "stream",
          "name": "stderr",
          "text": [
            "WARNING:tensorflow:Can save best model only with val_acc available, skipping.\n"
          ]
        },
        {
          "output_type": "stream",
          "name": "stdout",
          "text": [
            "\b\b\b\b\b\b\b\b\b\b\b\b\b\b\b\b\b\b\b\b\b\b\b\b\b\b\b\b\b\b\b\b\b\b\b\b\b\b\b\b\b\b\b\b\b\b\b\b\b\b\b\b\b\b\b\b\b\b\b\b\b\b\b\b\b\b\b\b\b\b\b\b\b\b\b\b\b\b\b\b\b\b\b\b\r112/112 [==============================] - 4s 35ms/step - loss: 6.1314 - accuracy: 0.5862 - val_loss: 5.8524 - val_accuracy: 0.5037\n",
            "Epoch 36/50\n",
            "111/112 [============================>.] - ETA: 0s - loss: 6.2589 - accuracy: 0.5775"
          ]
        },
        {
          "output_type": "stream",
          "name": "stderr",
          "text": [
            "WARNING:tensorflow:Can save best model only with val_acc available, skipping.\n"
          ]
        },
        {
          "output_type": "stream",
          "name": "stdout",
          "text": [
            "\b\b\b\b\b\b\b\b\b\b\b\b\b\b\b\b\b\b\b\b\b\b\b\b\b\b\b\b\b\b\b\b\b\b\b\b\b\b\b\b\b\b\b\b\b\b\b\b\b\b\b\b\b\b\b\b\b\b\b\b\b\b\b\b\b\b\b\b\b\b\b\b\b\b\b\b\b\b\b\b\b\b\b\b\r112/112 [==============================] - 4s 36ms/step - loss: 6.2724 - accuracy: 0.5767 - val_loss: 6.5719 - val_accuracy: 0.6160\n",
            "Epoch 37/50\n",
            "111/112 [============================>.] - ETA: 0s - loss: 6.1107 - accuracy: 0.5740"
          ]
        },
        {
          "output_type": "stream",
          "name": "stderr",
          "text": [
            "WARNING:tensorflow:Can save best model only with val_acc available, skipping.\n"
          ]
        },
        {
          "output_type": "stream",
          "name": "stdout",
          "text": [
            "\b\b\b\b\b\b\b\b\b\b\b\b\b\b\b\b\b\b\b\b\b\b\b\b\b\b\b\b\b\b\b\b\b\b\b\b\b\b\b\b\b\b\b\b\b\b\b\b\b\b\b\b\b\b\b\b\b\b\b\b\b\b\b\b\b\b\b\b\b\b\b\b\b\b\b\b\b\b\b\b\b\b\b\b\r112/112 [==============================] - 4s 36ms/step - loss: 6.1091 - accuracy: 0.5747 - val_loss: 5.6008 - val_accuracy: 0.6322\n",
            "Epoch 38/50\n",
            "111/112 [============================>.] - ETA: 0s - loss: 6.3163 - accuracy: 0.5740"
          ]
        },
        {
          "output_type": "stream",
          "name": "stderr",
          "text": [
            "WARNING:tensorflow:Can save best model only with val_acc available, skipping.\n"
          ]
        },
        {
          "output_type": "stream",
          "name": "stdout",
          "text": [
            "\b\b\b\b\b\b\b\b\b\b\b\b\b\b\b\b\b\b\b\b\b\b\b\b\b\b\b\b\b\b\b\b\b\b\b\b\b\b\b\b\b\b\b\b\b\b\b\b\b\b\b\b\b\b\b\b\b\b\b\b\b\b\b\b\b\b\b\b\b\b\b\b\b\b\b\b\b\b\b\b\b\b\b\b\r112/112 [==============================] - 4s 35ms/step - loss: 6.3105 - accuracy: 0.5737 - val_loss: 5.3530 - val_accuracy: 0.4289\n",
            "Epoch 39/50\n",
            "112/112 [==============================] - ETA: 0s - loss: 6.1494 - accuracy: 0.5870"
          ]
        },
        {
          "output_type": "stream",
          "name": "stderr",
          "text": [
            "WARNING:tensorflow:Can save best model only with val_acc available, skipping.\n"
          ]
        },
        {
          "output_type": "stream",
          "name": "stdout",
          "text": [
            "\b\b\b\b\b\b\b\b\b\b\b\b\b\b\b\b\b\b\b\b\b\b\b\b\b\b\b\b\b\b\b\b\b\b\b\b\b\b\b\b\b\b\b\b\b\b\b\b\b\b\b\b\b\b\b\b\b\b\b\b\b\b\b\b\b\b\b\b\b\b\b\b\b\b\b\b\b\b\b\b\b\b\b\b\r112/112 [==============================] - 5s 40ms/step - loss: 6.1494 - accuracy: 0.5870 - val_loss: 4.4907 - val_accuracy: 0.6347\n",
            "Epoch 40/50\n",
            "111/112 [============================>.] - ETA: 0s - loss: 6.0858 - accuracy: 0.5812"
          ]
        },
        {
          "output_type": "stream",
          "name": "stderr",
          "text": [
            "WARNING:tensorflow:Can save best model only with val_acc available, skipping.\n"
          ]
        },
        {
          "output_type": "stream",
          "name": "stdout",
          "text": [
            "\b\b\b\b\b\b\b\b\b\b\b\b\b\b\b\b\b\b\b\b\b\b\b\b\b\b\b\b\b\b\b\b\b\b\b\b\b\b\b\b\b\b\b\b\b\b\b\b\b\b\b\b\b\b\b\b\b\b\b\b\b\b\b\b\b\b\b\b\b\b\b\b\b\b\b\b\b\b\b\b\b\b\b\b\r112/112 [==============================] - 4s 35ms/step - loss: 6.0868 - accuracy: 0.5809 - val_loss: 4.6803 - val_accuracy: 0.5200\n",
            "Epoch 41/50\n",
            "111/112 [============================>.] - ETA: 0s - loss: 5.9404 - accuracy: 0.5787"
          ]
        },
        {
          "output_type": "stream",
          "name": "stderr",
          "text": [
            "WARNING:tensorflow:Can save best model only with val_acc available, skipping.\n"
          ]
        },
        {
          "output_type": "stream",
          "name": "stdout",
          "text": [
            "\b\b\b\b\b\b\b\b\b\b\b\b\b\b\b\b\b\b\b\b\b\b\b\b\b\b\b\b\b\b\b\b\b\b\b\b\b\b\b\b\b\b\b\b\b\b\b\b\b\b\b\b\b\b\b\b\b\b\b\b\b\b\b\b\b\b\b\b\b\b\b\b\b\b\b\b\b\b\b\b\b\b\b\b\r112/112 [==============================] - 4s 36ms/step - loss: 5.9424 - accuracy: 0.5795 - val_loss: 6.1313 - val_accuracy: 0.6297\n",
            "Epoch 42/50\n",
            "111/112 [============================>.] - ETA: 0s - loss: 6.1583 - accuracy: 0.5815"
          ]
        },
        {
          "output_type": "stream",
          "name": "stderr",
          "text": [
            "WARNING:tensorflow:Can save best model only with val_acc available, skipping.\n"
          ]
        },
        {
          "output_type": "stream",
          "name": "stdout",
          "text": [
            "\b\b\b\b\b\b\b\b\b\b\b\b\b\b\b\b\b\b\b\b\b\b\b\b\b\b\b\b\b\b\b\b\b\b\b\b\b\b\b\b\b\b\b\b\b\b\b\b\b\b\b\b\b\b\b\b\b\b\b\b\b\b\b\b\b\b\b\b\b\b\b\b\b\b\b\b\b\b\b\b\b\b\b\b\r112/112 [==============================] - 4s 36ms/step - loss: 6.1421 - accuracy: 0.5824 - val_loss: 3.8149 - val_accuracy: 0.6060\n",
            "Epoch 43/50\n",
            "111/112 [============================>.] - ETA: 0s - loss: 6.1151 - accuracy: 0.5833"
          ]
        },
        {
          "output_type": "stream",
          "name": "stderr",
          "text": [
            "WARNING:tensorflow:Can save best model only with val_acc available, skipping.\n"
          ]
        },
        {
          "output_type": "stream",
          "name": "stdout",
          "text": [
            "\b\b\b\b\b\b\b\b\b\b\b\b\b\b\b\b\b\b\b\b\b\b\b\b\b\b\b\b\b\b\b\b\b\b\b\b\b\b\b\b\b\b\b\b\b\b\b\b\b\b\b\b\b\b\b\b\b\b\b\b\b\b\b\b\b\b\b\b\b\b\b\b\b\b\b\b\b\b\b\b\b\b\b\b\r112/112 [==============================] - 4s 35ms/step - loss: 6.1219 - accuracy: 0.5833 - val_loss: 5.0141 - val_accuracy: 0.6272\n",
            "Epoch 44/50\n",
            "111/112 [============================>.] - ETA: 0s - loss: 5.9654 - accuracy: 0.5796"
          ]
        },
        {
          "output_type": "stream",
          "name": "stderr",
          "text": [
            "WARNING:tensorflow:Can save best model only with val_acc available, skipping.\n"
          ]
        },
        {
          "output_type": "stream",
          "name": "stdout",
          "text": [
            "\b\b\b\b\b\b\b\b\b\b\b\b\b\b\b\b\b\b\b\b\b\b\b\b\b\b\b\b\b\b\b\b\b\b\b\b\b\b\b\b\b\b\b\b\b\b\b\b\b\b\b\b\b\b\b\b\b\b\b\b\b\b\b\b\b\b\b\b\b\b\b\b\b\b\b\b\b\b\b\b\b\b\b\b\r112/112 [==============================] - 4s 36ms/step - loss: 5.9805 - accuracy: 0.5799 - val_loss: 6.2607 - val_accuracy: 0.6359\n",
            "Epoch 45/50\n",
            "111/112 [============================>.] - ETA: 0s - loss: 5.9864 - accuracy: 0.5787"
          ]
        },
        {
          "output_type": "stream",
          "name": "stderr",
          "text": [
            "WARNING:tensorflow:Can save best model only with val_acc available, skipping.\n"
          ]
        },
        {
          "output_type": "stream",
          "name": "stdout",
          "text": [
            "\b\b\b\b\b\b\b\b\b\b\b\b\b\b\b\b\b\b\b\b\b\b\b\b\b\b\b\b\b\b\b\b\b\b\b\b\b\b\b\b\b\b\b\b\b\b\b\b\b\b\b\b\b\b\b\b\b\b\b\b\b\b\b\b\b\b\b\b\b\b\b\b\b\b\b\b\b\b\b\b\b\b\b\b\r112/112 [==============================] - 4s 35ms/step - loss: 5.9676 - accuracy: 0.5785 - val_loss: 4.8419 - val_accuracy: 0.5362\n",
            "Epoch 46/50\n",
            "111/112 [============================>.] - ETA: 0s - loss: 5.9760 - accuracy: 0.5823"
          ]
        },
        {
          "output_type": "stream",
          "name": "stderr",
          "text": [
            "WARNING:tensorflow:Can save best model only with val_acc available, skipping.\n"
          ]
        },
        {
          "output_type": "stream",
          "name": "stdout",
          "text": [
            "\b\b\b\b\b\b\b\b\b\b\b\b\b\b\b\b\b\b\b\b\b\b\b\b\b\b\b\b\b\b\b\b\b\b\b\b\b\b\b\b\b\b\b\b\b\b\b\b\b\b\b\b\b\b\b\b\b\b\b\b\b\b\b\b\b\b\b\b\b\b\b\b\b\b\b\b\b\b\b\b\b\b\b\b\r112/112 [==============================] - 4s 36ms/step - loss: 5.9838 - accuracy: 0.5830 - val_loss: 7.4628 - val_accuracy: 0.6434\n",
            "Epoch 47/50\n",
            "111/112 [============================>.] - ETA: 0s - loss: 6.0887 - accuracy: 0.5774"
          ]
        },
        {
          "output_type": "stream",
          "name": "stderr",
          "text": [
            "WARNING:tensorflow:Can save best model only with val_acc available, skipping.\n"
          ]
        },
        {
          "output_type": "stream",
          "name": "stdout",
          "text": [
            "\b\b\b\b\b\b\b\b\b\b\b\b\b\b\b\b\b\b\b\b\b\b\b\b\b\b\b\b\b\b\b\b\b\b\b\b\b\b\b\b\b\b\b\b\b\b\b\b\b\b\b\b\b\b\b\b\b\b\b\b\b\b\b\b\b\b\b\b\b\b\b\b\b\b\b\b\b\b\b\b\b\b\b\b\r112/112 [==============================] - 4s 34ms/step - loss: 6.0890 - accuracy: 0.5778 - val_loss: 5.7223 - val_accuracy: 0.6284\n",
            "Epoch 48/50\n",
            "111/112 [============================>.] - ETA: 0s - loss: 5.9577 - accuracy: 0.5789"
          ]
        },
        {
          "output_type": "stream",
          "name": "stderr",
          "text": [
            "WARNING:tensorflow:Can save best model only with val_acc available, skipping.\n"
          ]
        },
        {
          "output_type": "stream",
          "name": "stdout",
          "text": [
            "\b\b\b\b\b\b\b\b\b\b\b\b\b\b\b\b\b\b\b\b\b\b\b\b\b\b\b\b\b\b\b\b\b\b\b\b\b\b\b\b\b\b\b\b\b\b\b\b\b\b\b\b\b\b\b\b\b\b\b\b\b\b\b\b\b\b\b\b\b\b\b\b\b\b\b\b\b\b\b\b\b\b\b\b\r112/112 [==============================] - 4s 35ms/step - loss: 5.9695 - accuracy: 0.5775 - val_loss: 4.1478 - val_accuracy: 0.4800\n",
            "Epoch 49/50\n",
            "111/112 [============================>.] - ETA: 0s - loss: 6.1391 - accuracy: 0.5799"
          ]
        },
        {
          "output_type": "stream",
          "name": "stderr",
          "text": [
            "WARNING:tensorflow:Can save best model only with val_acc available, skipping.\n"
          ]
        },
        {
          "output_type": "stream",
          "name": "stdout",
          "text": [
            "\b\b\b\b\b\b\b\b\b\b\b\b\b\b\b\b\b\b\b\b\b\b\b\b\b\b\b\b\b\b\b\b\b\b\b\b\b\b\b\b\b\b\b\b\b\b\b\b\b\b\b\b\b\b\b\b\b\b\b\b\b\b\b\b\b\b\b\b\b\b\b\b\b\b\b\b\b\b\b\b\b\b\b\b\r112/112 [==============================] - 4s 35ms/step - loss: 6.1486 - accuracy: 0.5791 - val_loss: 4.1818 - val_accuracy: 0.6309\n",
            "Epoch 50/50\n",
            "111/112 [============================>.] - ETA: 0s - loss: 5.8111 - accuracy: 0.5785"
          ]
        },
        {
          "output_type": "stream",
          "name": "stderr",
          "text": [
            "WARNING:tensorflow:Can save best model only with val_acc available, skipping.\n"
          ]
        },
        {
          "output_type": "stream",
          "name": "stdout",
          "text": [
            "\b\b\b\b\b\b\b\b\b\b\b\b\b\b\b\b\b\b\b\b\b\b\b\b\b\b\b\b\b\b\b\b\b\b\b\b\b\b\b\b\b\b\b\b\b\b\b\b\b\b\b\b\b\b\b\b\b\b\b\b\b\b\b\b\b\b\b\b\b\b\b\b\b\b\b\b\b\b\b\b\b\b\b\b\r112/112 [==============================] - 4s 35ms/step - loss: 5.8423 - accuracy: 0.5784 - val_loss: 5.5200 - val_accuracy: 0.6309\n"
          ]
        }
      ]
    },
    {
      "cell_type": "code",
      "source": [
        "plt.rcParams[\"figure.figsize\"] = (20,16)\n",
        "plt.plot(history_01.history['accuracy'] ,'o:r')\n",
        "plt.plot(history_001.history['accuracy'] ,'o:b')\n",
        "plt.plot(history_0001.history['accuracy'] ,'o:g')\n",
        "plt.plot(history_1E_5.history['accuracy'] ,'o:c')\n",
        "plt.plot(history_1E_6.history['accuracy'] ,'o:m')\n",
        "\n",
        "\n",
        "\n",
        "\n",
        "plt.title('model accuracy')\n",
        "plt.ylabel('accuracy')\n",
        "plt.xlabel('epoch')\n",
        "plt.legend(['learning_rate=0.1',\"learning_rate=0.01\",\"learning_rate=0.001\",\"learning_rate=0.0001\",\"learning_rate=0.00001\",\"learning_rate=0.000001\"], loc='upper left')\n",
        "plt.show()\n",
        "\n",
        "\n",
        "\n",
        "\n",
        "\n",
        "\n",
        "\n",
        "# summarize history for loss\n",
        "plt.plot(history_01.history['loss'] ,'o:r')\n",
        "plt.plot(history_001.history['loss'] ,'o:b')\n",
        "plt.plot(history_0001.history['loss'] ,'o:g')\n",
        "plt.plot(history_1E_5.history['loss'] ,'o:c')\n",
        "plt.plot(history_1E_6.history['loss'] ,'o:m')\n",
        "\n",
        "\n",
        "\n",
        "\n",
        "\n",
        "plt.title('model loss')\n",
        "plt.ylabel('loss')\n",
        "plt.xlabel('epoch')\n",
        "plt.legend(['learning_rate=0.1',\"learning_rate=0.01\",\"learning_rate=0.001\",\"learning_rate=0.0001\",\"learning_rate=0.00001\",\"learning_rate=0.000001\"], loc='upper left')\n",
        "plt.show()"
      ],
      "metadata": {
        "colab": {
          "base_uri": "https://localhost:8080/",
          "height": 1000
        },
        "id": "dz5gn6DxqPII",
        "outputId": "03ea79fa-e853-40c3-c7fb-87af3879517c"
      },
      "execution_count": 28,
      "outputs": [
        {
          "output_type": "display_data",
          "data": {
            "text/plain": [
              "<Figure size 1440x1152 with 1 Axes>"
            ],
            "image/png": "[encoded data removed]"
          },
          "metadata": {
            "needs_background": "light"
          }
        },
        {
          "output_type": "display_data",
          "data": {
            "text/plain": [
              "<Figure size 1440x1152 with 1 Axes>"
            ],
            "image/png": "[encoded data removed]"
          },
          "metadata": {
            "needs_background": "light"
          }
        }
      ]
    },
    {
      "cell_type": "code",
      "source": [],
      "metadata": {
        "id": "Frh3g3LxxsRY"
      },
      "execution_count": null,
      "outputs": []
    },
    {
      "cell_type": "code",
      "source": [
        "plt.plot(hist.history['accuracy'])\n",
        "plt.plot(hist.history['val_accuracy'])\n",
        "plt.title('model accuracy')\n",
        "plt.ylabel('accuracy')\n",
        "plt.xlabel('epoch')\n",
        "plt.legend(['train', 'test'], loc='upper left')\n",
        "plt.show()\n",
        "# summarize history for loss\n",
        "plt.plot(hist.history['loss'])\n",
        "plt.plot(hist.history['val_loss'])\n",
        "plt.title('model loss')\n",
        "plt.ylabel('loss')\n",
        "plt.xlabel('epoch')\n",
        "plt.legend(['train', 'test'], loc='upper left')\n",
        "plt.show()"
      ],
      "metadata": {
        "colab": {
          "base_uri": "https://localhost:8080/",
          "height": 1000
        },
        "id": "gHlzi0siy4xV",
        "outputId": "7771986f-2eef-4503-d6d6-5f107cd2d414"
      },
      "execution_count": 44,
      "outputs": [
        {
          "output_type": "display_data",
          "data": {
            "text/plain": [
              "<Figure size 1440x1152 with 1 Axes>"
            ],
            "image/png": "[encoded data removed]"
          },
          "metadata": {
            "needs_background": "light"
          }
        },
        {
          "output_type": "display_data",
          "data": {
            "text/plain": [
              "<Figure size 1440x1152 with 1 Axes>"
            ],
            "image/png": "[encoded data removed]"
          },
          "metadata": {
            "needs_background": "light"
          }
        }
      ]
    },
    {
      "cell_type": "code",
      "source": [],
      "metadata": {
        "id": "JCu3HVflzMG1"
      },
      "execution_count": null,
      "outputs": []
    }
  ]
}