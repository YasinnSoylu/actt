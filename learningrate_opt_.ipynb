{
  "nbformat": 4,
  "nbformat_minor": 0,
  "metadata": {
    "colab": {
      "provenance": [],
      "authorship_tag": "ABX9TyNy2E7sQGxysFBYtFbfPoKj",
      "include_colab_link": true
    },
    "kernelspec": {
      "name": "python3",
      "display_name": "Python 3"
    },
    "language_info": {
      "name": "python"
    },
    "accelerator": "GPU",
    "gpuClass": "standard"
  },
  "cells": [
    {
      "cell_type": "markdown",
      "metadata": {
        "id": "view-in-github",
        "colab_type": "text"
      },
      "source": [
        "<a href=\"https://colab.research.google.com/github/YasinnSoylu/actt/blob/main/learningrate_opt_.ipynb\" target=\"_parent\"><img src=\"https://colab.research.google.com/assets/colab-badge.svg\" alt=\"Open In Colab\"/></a>"
      ]
    },
    {
      "cell_type": "code",
      "execution_count": null,
      "metadata": {
        "id": "PXIZ1vq6TTfE"
      },
      "outputs": [],
      "source": [
        "#! pip install kaggle"
      ]
    },
    {
      "cell_type": "code",
      "source": [
        "#! mkdir ~/.kaggle\n"
      ],
      "metadata": {
        "id": "a1IbM40dTiAz"
      },
      "execution_count": null,
      "outputs": []
    },
    {
      "cell_type": "code",
      "source": [
        "#! cp kaggle.json ~/.kaggle/\n"
      ],
      "metadata": {
        "id": "X4G0exqcTjAg"
      },
      "execution_count": null,
      "outputs": []
    },
    {
      "cell_type": "code",
      "source": [
        "#! chmod 600 ~/.kaggle/kaggle.json\n"
      ],
      "metadata": {
        "id": "UM_QKwucTkim"
      },
      "execution_count": null,
      "outputs": []
    },
    {
      "cell_type": "code",
      "source": [
        "#!kaggle datasets download -d kmader/skin-cancer-mnist-ham10000"
      ],
      "metadata": {
        "id": "0NyXVyqITli9"
      },
      "execution_count": null,
      "outputs": []
    },
    {
      "cell_type": "code",
      "source": [
        "#! unzip skin-cancer-mnist-ham10000.zip\n"
      ],
      "metadata": {
        "id": "owpL-O9PTzYU"
      },
      "execution_count": null,
      "outputs": []
    },
    {
      "cell_type": "code",
      "source": [
        "%matplotlib inline\n",
        "import os, time\n",
        "\n",
        "import matplotlib.pyplot as plt\n",
        "import numpy as np\n",
        "import pandas as pd\n",
        "import os\n",
        "from glob import glob\n",
        "import seaborn as sns\n",
        "from PIL import Image\n",
        "np.random.seed(123)\n",
        "from sklearn.preprocessing import label_binarize\n",
        "from sklearn.metrics import confusion_matrix\n",
        "import itertools\n",
        "import numpy as np\n",
        "import tensorflow as tf\n",
        "from tensorflow import keras\n",
        "import matplotlib.pyplot as plt\n",
        "from tensorflow.keras import layers\n",
        "from tensorflow.keras.models import Sequential\n",
        "import keras\n",
        "from keras.utils.np_utils import to_categorical # used for converting labels to one-hot-encoding\n",
        "from keras.models import Sequential\n",
        "from keras.layers import Dense, Dropout, Flatten, Conv2D, MaxPool2D\n",
        "from keras import backend as K\n",
        "import itertools\n",
        "import tensorflow as tf\n",
        "from tensorflow.keras.layers import BatchNormalization\n",
        "from keras.utils.np_utils import to_categorical # convert to one-hot-encoding\n",
        "from tensorflow.keras.callbacks import ModelCheckpoint\n",
        "\n",
        "from keras.optimizers import Adam , RMSprop ,SGD ,Adadelta , Adagrad , Adamax , Ftrl , Nadam\n",
        "from keras.preprocessing.image import ImageDataGenerator\n",
        "from keras.callbacks import ReduceLROnPlateau\n",
        "from sklearn.model_selection import train_test_split\n"
      ],
      "metadata": {
        "id": "hZp1J9SmUbR1"
      },
      "execution_count": null,
      "outputs": []
    },
    {
      "cell_type": "code",
      "source": [
        "image_path = {os.path.splitext(os.path.basename(x))[0]: x\n",
        "                     for x in glob(os.path.join('/content/HAM10000/', '*', '*.jpg'))}\n",
        "\n",
        "lesion_type_dict = {\n",
        "    'nv': 'Melanocytic nevi',\n",
        "    'mel': 'Melanoma',\n",
        "    'bkl': 'Benign keratosis-like lesions ',\n",
        "    'bcc': 'Basal cell carcinoma',\n",
        "    'akiec': 'Actinic keratoses',\n",
        "    'vasc': 'Vascular lesions',\n",
        "    'df': 'Dermatofibroma'\n",
        "}      \n",
        "\n",
        "\n",
        "labels = ['nv','mel','bkl','bcc',\"akiec\",\"vasc\",\"df\"]"
      ],
      "metadata": {
        "id": "rzqUi66eX0Re"
      },
      "execution_count": null,
      "outputs": []
    },
    {
      "cell_type": "code",
      "source": [
        "skin_df = pd.read_csv(os.path.join( '/content/HAM10000/HAM10000_metadata.csv'))\n"
      ],
      "metadata": {
        "id": "x5vCcht5gJaS"
      },
      "execution_count": null,
      "outputs": []
    },
    {
      "cell_type": "code",
      "source": [
        "skin_df['path'] = skin_df['image_id'].map(image_path.get)\n",
        "skin_df['cell_type'] = skin_df['dx'].map(lesion_type_dict.get) \n",
        "skin_df['cell_type_idx'] = pd.Categorical(skin_df['cell_type']).codes"
      ],
      "metadata": {
        "id": "jyZ0PRxOUaIb"
      },
      "execution_count": null,
      "outputs": []
    },
    {
      "cell_type": "code",
      "source": [
        "skin_df.head()"
      ],
      "metadata": {
        "colab": {
          "base_uri": "https://localhost:8080/",
          "height": 337
        },
        "id": "FQxz349dUrdV",
        "outputId": "a1003693-0416-49f1-8e83-cf782c0087e6"
      },
      "execution_count": null,
      "outputs": [
        {
          "output_type": "execute_result",
          "data": {
            "text/plain": [
              "     lesion_id      image_id   dx dx_type   age   sex localization  \\\n",
              "0  HAM_0000118  ISIC_0027419  bkl   histo  80.0  male        scalp   \n",
              "1  HAM_0000118  ISIC_0025030  bkl   histo  80.0  male        scalp   \n",
              "2  HAM_0002730  ISIC_0026769  bkl   histo  80.0  male        scalp   \n",
              "3  HAM_0002730  ISIC_0025661  bkl   histo  80.0  male        scalp   \n",
              "4  HAM_0001466  ISIC_0031633  bkl   histo  75.0  male          ear   \n",
              "\n",
              "                                                path  \\\n",
              "0  /content/HAM10000/HAM10000_images_part_1/ISIC_...   \n",
              "1  /content/HAM10000/HAM10000_images_part_1/ISIC_...   \n",
              "2  /content/HAM10000/HAM10000_images_part_1/ISIC_...   \n",
              "3  /content/HAM10000/HAM10000_images_part_1/ISIC_...   \n",
              "4  /content/HAM10000/HAM10000_images_part_2/ISIC_...   \n",
              "\n",
              "                        cell_type  cell_type_idx  \n",
              "0  Benign keratosis-like lesions               2  \n",
              "1  Benign keratosis-like lesions               2  \n",
              "2  Benign keratosis-like lesions               2  \n",
              "3  Benign keratosis-like lesions               2  \n",
              "4  Benign keratosis-like lesions               2  "
            ],
            "text/html": [
              "\n",
              "  <div id=\"df-3f6d1ba5-9bde-4a78-9e42-87d08d81365f\">\n",
              "    <div class=\"colab-df-container\">\n",
              "      <div>\n",
              "<style scoped>\n",
              "    .dataframe tbody tr th:only-of-type {\n",
              "        vertical-align: middle;\n",
              "    }\n",
              "\n",
              "    .dataframe tbody tr th {\n",
              "        vertical-align: top;\n",
              "    }\n",
              "\n",
              "    .dataframe thead th {\n",
              "        text-align: right;\n",
              "    }\n",
              "</style>\n",
              "<table border=\"1\" class=\"dataframe\">\n",
              "  <thead>\n",
              "    <tr style=\"text-align: right;\">\n",
              "      <th></th>\n",
              "      <th>lesion_id</th>\n",
              "      <th>image_id</th>\n",
              "      <th>dx</th>\n",
              "      <th>dx_type</th>\n",
              "      <th>age</th>\n",
              "      <th>sex</th>\n",
              "      <th>localization</th>\n",
              "      <th>path</th>\n",
              "      <th>cell_type</th>\n",
              "      <th>cell_type_idx</th>\n",
              "    </tr>\n",
              "  </thead>\n",
              "  <tbody>\n",
              "    <tr>\n",
              "      <th>0</th>\n",
              "      <td>HAM_0000118</td>\n",
              "      <td>ISIC_0027419</td>\n",
              "      <td>bkl</td>\n",
              "      <td>histo</td>\n",
              "      <td>80.0</td>\n",
              "      <td>male</td>\n",
              "      <td>scalp</td>\n",
              "      <td>/content/HAM10000/HAM10000_images_part_1/ISIC_...</td>\n",
              "      <td>Benign keratosis-like lesions</td>\n",
              "      <td>2</td>\n",
              "    </tr>\n",
              "    <tr>\n",
              "      <th>1</th>\n",
              "      <td>HAM_0000118</td>\n",
              "      <td>ISIC_0025030</td>\n",
              "      <td>bkl</td>\n",
              "      <td>histo</td>\n",
              "      <td>80.0</td>\n",
              "      <td>male</td>\n",
              "      <td>scalp</td>\n",
              "      <td>/content/HAM10000/HAM10000_images_part_1/ISIC_...</td>\n",
              "      <td>Benign keratosis-like lesions</td>\n",
              "      <td>2</td>\n",
              "    </tr>\n",
              "    <tr>\n",
              "      <th>2</th>\n",
              "      <td>HAM_0002730</td>\n",
              "      <td>ISIC_0026769</td>\n",
              "      <td>bkl</td>\n",
              "      <td>histo</td>\n",
              "      <td>80.0</td>\n",
              "      <td>male</td>\n",
              "      <td>scalp</td>\n",
              "      <td>/content/HAM10000/HAM10000_images_part_1/ISIC_...</td>\n",
              "      <td>Benign keratosis-like lesions</td>\n",
              "      <td>2</td>\n",
              "    </tr>\n",
              "    <tr>\n",
              "      <th>3</th>\n",
              "      <td>HAM_0002730</td>\n",
              "      <td>ISIC_0025661</td>\n",
              "      <td>bkl</td>\n",
              "      <td>histo</td>\n",
              "      <td>80.0</td>\n",
              "      <td>male</td>\n",
              "      <td>scalp</td>\n",
              "      <td>/content/HAM10000/HAM10000_images_part_1/ISIC_...</td>\n",
              "      <td>Benign keratosis-like lesions</td>\n",
              "      <td>2</td>\n",
              "    </tr>\n",
              "    <tr>\n",
              "      <th>4</th>\n",
              "      <td>HAM_0001466</td>\n",
              "      <td>ISIC_0031633</td>\n",
              "      <td>bkl</td>\n",
              "      <td>histo</td>\n",
              "      <td>75.0</td>\n",
              "      <td>male</td>\n",
              "      <td>ear</td>\n",
              "      <td>/content/HAM10000/HAM10000_images_part_2/ISIC_...</td>\n",
              "      <td>Benign keratosis-like lesions</td>\n",
              "      <td>2</td>\n",
              "    </tr>\n",
              "  </tbody>\n",
              "</table>\n",
              "</div>\n",
              "      <button class=\"colab-df-convert\" onclick=\"convertToInteractive('df-3f6d1ba5-9bde-4a78-9e42-87d08d81365f')\"\n",
              "              title=\"Convert this dataframe to an interactive table.\"\n",
              "              style=\"display:none;\">\n",
              "        \n",
              "  <svg xmlns=\"http://www.w3.org/2000/svg\" height=\"24px\"viewBox=\"0 0 24 24\"\n",
              "       width=\"24px\">\n",
              "    <path d=\"M0 0h24v24H0V0z\" fill=\"none\"/>\n",
              "    <path d=\"M18.56 5.44l.94 2.06.94-2.06 2.06-.94-2.06-.94-.94-2.06-.94 2.06-2.06.94zm-11 1L8.5 8.5l.94-2.06 2.06-.94-2.06-.94L8.5 2.5l-.94 2.06-2.06.94zm10 10l.94 2.06.94-2.06 2.06-.94-2.06-.94-.94-2.06-.94 2.06-2.06.94z\"/><path d=\"M17.41 7.96l-1.37-1.37c-.4-.4-.92-.59-1.43-.59-.52 0-1.04.2-1.43.59L10.3 9.45l-7.72 7.72c-.78.78-.78 2.05 0 2.83L4 21.41c.39.39.9.59 1.41.59.51 0 1.02-.2 1.41-.59l7.78-7.78 2.81-2.81c.8-.78.8-2.07 0-2.86zM5.41 20L4 18.59l7.72-7.72 1.47 1.35L5.41 20z\"/>\n",
              "  </svg>\n",
              "      </button>\n",
              "      \n",
              "  <style>\n",
              "    .colab-df-container {\n",
              "      display:flex;\n",
              "      flex-wrap:wrap;\n",
              "      gap: 12px;\n",
              "    }\n",
              "\n",
              "    .colab-df-convert {\n",
              "      background-color: #E8F0FE;\n",
              "      border: none;\n",
              "      border-radius: 50%;\n",
              "      cursor: pointer;\n",
              "      display: none;\n",
              "      fill: #1967D2;\n",
              "      height: 32px;\n",
              "      padding: 0 0 0 0;\n",
              "      width: 32px;\n",
              "    }\n",
              "\n",
              "    .colab-df-convert:hover {\n",
              "      background-color: #E2EBFA;\n",
              "      box-shadow: 0px 1px 2px rgba(60, 64, 67, 0.3), 0px 1px 3px 1px rgba(60, 64, 67, 0.15);\n",
              "      fill: #174EA6;\n",
              "    }\n",
              "\n",
              "    [theme=dark] .colab-df-convert {\n",
              "      background-color: #3B4455;\n",
              "      fill: #D2E3FC;\n",
              "    }\n",
              "\n",
              "    [theme=dark] .colab-df-convert:hover {\n",
              "      background-color: #434B5C;\n",
              "      box-shadow: 0px 1px 3px 1px rgba(0, 0, 0, 0.15);\n",
              "      filter: drop-shadow(0px 1px 2px rgba(0, 0, 0, 0.3));\n",
              "      fill: #FFFFFF;\n",
              "    }\n",
              "  </style>\n",
              "\n",
              "      <script>\n",
              "        const buttonEl =\n",
              "          document.querySelector('#df-3f6d1ba5-9bde-4a78-9e42-87d08d81365f button.colab-df-convert');\n",
              "        buttonEl.style.display =\n",
              "          google.colab.kernel.accessAllowed ? 'block' : 'none';\n",
              "\n",
              "        async function convertToInteractive(key) {\n",
              "          const element = document.querySelector('#df-3f6d1ba5-9bde-4a78-9e42-87d08d81365f');\n",
              "          const dataTable =\n",
              "            await google.colab.kernel.invokeFunction('convertToInteractive',\n",
              "                                                     [key], {});\n",
              "          if (!dataTable) return;\n",
              "\n",
              "          const docLinkHtml = 'Like what you see? Visit the ' +\n",
              "            '<a target=\"_blank\" href=https://colab.research.google.com/notebooks/data_table.ipynb>data table notebook</a>'\n",
              "            + ' to learn more about interactive tables.';\n",
              "          element.innerHTML = '';\n",
              "          dataTable['output_type'] = 'display_data';\n",
              "          await google.colab.output.renderOutput(dataTable, element);\n",
              "          const docLink = document.createElement('div');\n",
              "          docLink.innerHTML = docLinkHtml;\n",
              "          element.appendChild(docLink);\n",
              "        }\n",
              "      </script>\n",
              "    </div>\n",
              "  </div>\n",
              "  "
            ]
          },
          "metadata": {},
          "execution_count": 11
        }
      ]
    },
    {
      "cell_type": "code",
      "source": [
        "skin_df['path'] = skin_df['image_id'].map(image_path.get)\n",
        "#Use the path to read images.\n",
        "skin_df['image'] = skin_df['path'].map(lambda x: np.asarray(Image.open(x).resize((32,32))))"
      ],
      "metadata": {
        "id": "YNG5zwPtX0UE"
      },
      "execution_count": null,
      "outputs": []
    },
    {
      "cell_type": "code",
      "source": [
        "features=skin_df.drop(columns=['cell_type_idx'],axis=1)\n",
        "target=skin_df['cell_type_idx']"
      ],
      "metadata": {
        "id": "2xDOBLlAaFZu"
      },
      "execution_count": null,
      "outputs": []
    },
    {
      "cell_type": "code",
      "source": [
        "x_train_o, x_test_o, y_train_o, y_test_o = train_test_split(features, target, test_size=0.20,random_state=42)\n",
        "\n",
        "x_train = np.asarray(x_train_o['image'].tolist())\n",
        "x_test = np.asarray(x_test_o['image'].tolist())\n",
        "\n",
        "x_train_mean = np.mean(x_train)\n",
        "x_train_std = np.std(x_train)\n",
        "\n",
        "x_test_mean = np.mean(x_test)\n",
        "x_test_std = np.std(x_test)\n",
        "\n",
        "x_train = (x_train - x_train_mean)/x_train_std\n",
        "x_test = (x_test - x_test_mean)/x_test_std"
      ],
      "metadata": {
        "id": "oZmIRg_4aIfv"
      },
      "execution_count": null,
      "outputs": []
    },
    {
      "cell_type": "code",
      "source": [
        "# Perform one-hot encoding on the labels\n",
        "y_train = to_categorical(y_train_o, num_classes = 7)\n",
        "y_test = to_categorical(y_test_o, num_classes = 7)"
      ],
      "metadata": {
        "id": "Aey2s8MqaRQx"
      },
      "execution_count": null,
      "outputs": []
    },
    {
      "cell_type": "code",
      "source": [
        "x_train, x_validate, y_train, y_validate = train_test_split(x_train, y_train, test_size = 0.1, random_state = 2)"
      ],
      "metadata": {
        "id": "YTMo3dUWaURu"
      },
      "execution_count": null,
      "outputs": []
    },
    {
      "cell_type": "code",
      "source": [
        "# Reshape image in 3 dimensions (height = 128px, width = 128px , canal = 3)\n",
        "x_train = x_train.reshape(x_train.shape[0], *(32, 32, 3))\n",
        "x_test = x_test.reshape(x_test.shape[0], *(32, 32, 3))\n",
        "x_validate = x_validate.reshape(x_validate.shape[0], *(32, 32, 3))"
      ],
      "metadata": {
        "id": "6iDJ6rgHaXhr"
      },
      "execution_count": null,
      "outputs": []
    },
    {
      "cell_type": "code",
      "source": [
        "input_shape=(32,32,3)"
      ],
      "metadata": {
        "id": "EuaBnW1z8EQE"
      },
      "execution_count": null,
      "outputs": []
    },
    {
      "cell_type": "code",
      "source": [
        "num_classes = 7\n",
        "\n"
      ],
      "metadata": {
        "id": "0nSKO9mI_3Un"
      },
      "execution_count": null,
      "outputs": []
    },
    {
      "cell_type": "code",
      "source": [
        "model = Sequential()\n",
        "model.add(Conv2D(64, kernel_size=(3, 3),activation='relu',padding = 'Same',input_shape=input_shape))\n",
        "model.add(Conv2D(32,kernel_size=(3, 3), activation='relu',padding = 'Same',))\n",
        "model.add(MaxPool2D(pool_size = (2, 2)))\n",
        "model.add(Dropout(0.25))\n",
        "\n",
        "\n",
        "model.add(Flatten())\n",
        "model.add(Dense(128, activation='relu'))\n",
        "model.add(Dropout(0.5))\n",
        "model.add(Dense(num_classes, activation='softmax'))\n",
        "model.summary()"
      ],
      "metadata": {
        "colab": {
          "base_uri": "https://localhost:8080/"
        },
        "id": "HRlUQ73L637b",
        "outputId": "22d83a34-a4d3-4d00-8bfd-e7fdf1da31c1"
      },
      "execution_count": null,
      "outputs": [
        {
          "output_type": "stream",
          "name": "stdout",
          "text": [
            "Model: \"sequential\"\n",
            "_________________________________________________________________\n",
            " Layer (type)                Output Shape              Param #   \n",
            "=================================================================\n",
            " conv2d (Conv2D)             (None, 32, 32, 64)        1792      \n",
            "                                                                 \n",
            " conv2d_1 (Conv2D)           (None, 32, 32, 32)        18464     \n",
            "                                                                 \n",
            " max_pooling2d (MaxPooling2D  (None, 16, 16, 32)       0         \n",
            " )                                                               \n",
            "                                                                 \n",
            " dropout (Dropout)           (None, 16, 16, 32)        0         \n",
            "                                                                 \n",
            " flatten (Flatten)           (None, 8192)              0         \n",
            "                                                                 \n",
            " dense (Dense)               (None, 128)               1048704   \n",
            "                                                                 \n",
            " dropout_1 (Dropout)         (None, 128)               0         \n",
            "                                                                 \n",
            " dense_1 (Dense)             (None, 7)                 903       \n",
            "                                                                 \n",
            "=================================================================\n",
            "Total params: 1,069,863\n",
            "Trainable params: 1,069,863\n",
            "Non-trainable params: 0\n",
            "_________________________________________________________________\n"
          ]
        }
      ]
    },
    {
      "cell_type": "code",
      "source": [
        "# Define the optimizer\n",
        "optimizer = Adam()\n",
        "# Compile the model\n",
        "model.compile(optimizer = optimizer , loss = \"categorical_crossentropy\", metrics=[\"accuracy\"])"
      ],
      "metadata": {
        "id": "Nqx-z9JE63_9"
      },
      "execution_count": null,
      "outputs": []
    },
    {
      "cell_type": "code",
      "source": [
        "initial_history=model.fit(x_train,\n",
        "    y_train,\n",
        "    epochs=100,\n",
        "    callbacks=[\n",
        "        tf.keras.callbacks.LearningRateScheduler(\n",
        "            lambda epoch: 1e-3 * 10 ** (epoch / 30)\n",
        "        )\n",
        "    ])"
      ],
      "metadata": {
        "colab": {
          "base_uri": "https://localhost:8080/"
        },
        "id": "wQi6DvB664Cm",
        "outputId": "47a83c37-6b8c-4963-ec62-541d79619b4e"
      },
      "execution_count": null,
      "outputs": [
        {
          "output_type": "stream",
          "name": "stdout",
          "text": [
            "Epoch 1/100\n",
            "226/226 [==============================] - 4s 5ms/step - loss: 0.9635 - accuracy: 0.6645 - lr: 0.0010\n",
            "Epoch 2/100\n",
            "226/226 [==============================] - 1s 4ms/step - loss: 0.8364 - accuracy: 0.6917 - lr: 0.0011\n",
            "Epoch 3/100\n",
            "226/226 [==============================] - 1s 5ms/step - loss: 0.7783 - accuracy: 0.7183 - lr: 0.0012\n",
            "Epoch 4/100\n",
            "226/226 [==============================] - 1s 4ms/step - loss: 0.7453 - accuracy: 0.7254 - lr: 0.0013\n",
            "Epoch 5/100\n",
            "226/226 [==============================] - 1s 5ms/step - loss: 0.7182 - accuracy: 0.7384 - lr: 0.0014\n",
            "Epoch 6/100\n",
            "226/226 [==============================] - 1s 4ms/step - loss: 0.6779 - accuracy: 0.7546 - lr: 0.0015\n",
            "Epoch 7/100\n",
            "226/226 [==============================] - 1s 4ms/step - loss: 0.6269 - accuracy: 0.7675 - lr: 0.0016\n",
            "Epoch 8/100\n",
            "226/226 [==============================] - 1s 5ms/step - loss: 0.6122 - accuracy: 0.7775 - lr: 0.0017\n",
            "Epoch 9/100\n",
            "226/226 [==============================] - 1s 4ms/step - loss: 0.5885 - accuracy: 0.7877 - lr: 0.0018\n",
            "Epoch 10/100\n",
            "226/226 [==============================] - 1s 4ms/step - loss: 0.5307 - accuracy: 0.8031 - lr: 0.0020\n",
            "Epoch 11/100\n",
            "226/226 [==============================] - 1s 5ms/step - loss: 0.5227 - accuracy: 0.8093 - lr: 0.0022\n",
            "Epoch 12/100\n",
            "226/226 [==============================] - 1s 5ms/step - loss: 0.5293 - accuracy: 0.8087 - lr: 0.0023\n",
            "Epoch 13/100\n",
            "226/226 [==============================] - 1s 5ms/step - loss: 0.4832 - accuracy: 0.8264 - lr: 0.0025\n",
            "Epoch 14/100\n",
            "226/226 [==============================] - 1s 4ms/step - loss: 0.4767 - accuracy: 0.8302 - lr: 0.0027\n",
            "Epoch 15/100\n",
            "226/226 [==============================] - 1s 4ms/step - loss: 0.4856 - accuracy: 0.8215 - lr: 0.0029\n",
            "Epoch 16/100\n",
            "226/226 [==============================] - 1s 4ms/step - loss: 0.5077 - accuracy: 0.8157 - lr: 0.0032\n",
            "Epoch 17/100\n",
            "226/226 [==============================] - 1s 4ms/step - loss: 0.4800 - accuracy: 0.8298 - lr: 0.0034\n",
            "Epoch 18/100\n",
            "226/226 [==============================] - 1s 4ms/step - loss: 0.4844 - accuracy: 0.8282 - lr: 0.0037\n",
            "Epoch 19/100\n",
            "226/226 [==============================] - 1s 4ms/step - loss: 0.4516 - accuracy: 0.8369 - lr: 0.0040\n",
            "Epoch 20/100\n",
            "226/226 [==============================] - 1s 4ms/step - loss: 0.4779 - accuracy: 0.8293 - lr: 0.0043\n",
            "Epoch 21/100\n",
            "226/226 [==============================] - 1s 5ms/step - loss: 0.4981 - accuracy: 0.8287 - lr: 0.0046\n",
            "Epoch 22/100\n",
            "226/226 [==============================] - 1s 4ms/step - loss: 0.5030 - accuracy: 0.8290 - lr: 0.0050\n",
            "Epoch 23/100\n",
            "226/226 [==============================] - 1s 4ms/step - loss: 0.5327 - accuracy: 0.8171 - lr: 0.0054\n",
            "Epoch 24/100\n",
            "226/226 [==============================] - 1s 4ms/step - loss: 0.6325 - accuracy: 0.7883 - lr: 0.0058\n",
            "Epoch 25/100\n",
            "226/226 [==============================] - 1s 5ms/step - loss: 0.5727 - accuracy: 0.8012 - lr: 0.0063\n",
            "Epoch 26/100\n",
            "226/226 [==============================] - 1s 4ms/step - loss: 0.5698 - accuracy: 0.8036 - lr: 0.0068\n",
            "Epoch 27/100\n",
            "226/226 [==============================] - 1s 4ms/step - loss: 0.6749 - accuracy: 0.7810 - lr: 0.0074\n",
            "Epoch 28/100\n",
            "226/226 [==============================] - 1s 4ms/step - loss: 0.6546 - accuracy: 0.7842 - lr: 0.0079\n",
            "Epoch 29/100\n",
            "226/226 [==============================] - 1s 5ms/step - loss: 0.7542 - accuracy: 0.7603 - lr: 0.0086\n",
            "Epoch 30/100\n",
            "226/226 [==============================] - 1s 4ms/step - loss: 0.6904 - accuracy: 0.7710 - lr: 0.0093\n",
            "Epoch 31/100\n",
            "226/226 [==============================] - 1s 4ms/step - loss: 0.7118 - accuracy: 0.7555 - lr: 0.0100\n",
            "Epoch 32/100\n",
            "226/226 [==============================] - 1s 4ms/step - loss: 0.7350 - accuracy: 0.7570 - lr: 0.0108\n",
            "Epoch 33/100\n",
            "226/226 [==============================] - 1s 4ms/step - loss: 0.8705 - accuracy: 0.7300 - lr: 0.0117\n",
            "Epoch 34/100\n",
            "226/226 [==============================] - 1s 5ms/step - loss: 0.8728 - accuracy: 0.7128 - lr: 0.0126\n",
            "Epoch 35/100\n",
            "226/226 [==============================] - 1s 5ms/step - loss: 0.8643 - accuracy: 0.7150 - lr: 0.0136\n",
            "Epoch 36/100\n",
            "226/226 [==============================] - 1s 4ms/step - loss: 0.8722 - accuracy: 0.7178 - lr: 0.0147\n",
            "Epoch 37/100\n",
            "226/226 [==============================] - 1s 5ms/step - loss: 0.9810 - accuracy: 0.6867 - lr: 0.0158\n",
            "Epoch 38/100\n",
            "226/226 [==============================] - 1s 5ms/step - loss: 0.9543 - accuracy: 0.6872 - lr: 0.0171\n",
            "Epoch 39/100\n",
            "226/226 [==============================] - 1s 4ms/step - loss: 0.9468 - accuracy: 0.6882 - lr: 0.0185\n",
            "Epoch 40/100\n",
            "226/226 [==============================] - 1s 5ms/step - loss: 0.9320 - accuracy: 0.6945 - lr: 0.0200\n",
            "Epoch 41/100\n",
            "226/226 [==============================] - 1s 4ms/step - loss: 0.9787 - accuracy: 0.6821 - lr: 0.0215\n",
            "Epoch 42/100\n",
            "226/226 [==============================] - 1s 5ms/step - loss: 1.1132 - accuracy: 0.6680 - lr: 0.0233\n",
            "Epoch 43/100\n",
            "226/226 [==============================] - 1s 5ms/step - loss: 1.0155 - accuracy: 0.6743 - lr: 0.0251\n",
            "Epoch 44/100\n",
            "226/226 [==============================] - 1s 5ms/step - loss: 1.0267 - accuracy: 0.6770 - lr: 0.0271\n",
            "Epoch 45/100\n",
            "226/226 [==============================] - 1s 5ms/step - loss: 1.0257 - accuracy: 0.6723 - lr: 0.0293\n",
            "Epoch 46/100\n",
            "226/226 [==============================] - 1s 5ms/step - loss: 1.0124 - accuracy: 0.6746 - lr: 0.0316\n",
            "Epoch 47/100\n",
            "226/226 [==============================] - 1s 5ms/step - loss: 1.0341 - accuracy: 0.6720 - lr: 0.0341\n",
            "Epoch 48/100\n",
            "226/226 [==============================] - 1s 5ms/step - loss: 1.5694 - accuracy: 0.6689 - lr: 0.0369\n",
            "Epoch 49/100\n",
            "226/226 [==============================] - 1s 5ms/step - loss: 1.1282 - accuracy: 0.6728 - lr: 0.0398\n",
            "Epoch 50/100\n",
            "226/226 [==============================] - 1s 5ms/step - loss: 1.1274 - accuracy: 0.6728 - lr: 0.0430\n",
            "Epoch 51/100\n",
            "226/226 [==============================] - 1s 4ms/step - loss: 1.1279 - accuracy: 0.6728 - lr: 0.0464\n",
            "Epoch 52/100\n",
            "226/226 [==============================] - 1s 4ms/step - loss: 1.1287 - accuracy: 0.6728 - lr: 0.0501\n",
            "Epoch 53/100\n",
            "226/226 [==============================] - 1s 4ms/step - loss: 1.1279 - accuracy: 0.6728 - lr: 0.0541\n",
            "Epoch 54/100\n",
            "226/226 [==============================] - 1s 4ms/step - loss: 1.1294 - accuracy: 0.6728 - lr: 0.0584\n",
            "Epoch 55/100\n",
            "226/226 [==============================] - 1s 5ms/step - loss: 1.1287 - accuracy: 0.6728 - lr: 0.0631\n",
            "Epoch 56/100\n",
            "226/226 [==============================] - 1s 4ms/step - loss: 1.1307 - accuracy: 0.6728 - lr: 0.0681\n",
            "Epoch 57/100\n",
            "226/226 [==============================] - 1s 5ms/step - loss: 1.1304 - accuracy: 0.6728 - lr: 0.0736\n",
            "Epoch 58/100\n",
            "226/226 [==============================] - 1s 5ms/step - loss: 1.1328 - accuracy: 0.6728 - lr: 0.0794\n",
            "Epoch 59/100\n",
            "226/226 [==============================] - 1s 5ms/step - loss: 1.1316 - accuracy: 0.6728 - lr: 0.0858\n",
            "Epoch 60/100\n",
            "226/226 [==============================] - 1s 5ms/step - loss: 1.1303 - accuracy: 0.6728 - lr: 0.0926\n",
            "Epoch 61/100\n",
            "226/226 [==============================] - 1s 4ms/step - loss: 1.1322 - accuracy: 0.6728 - lr: 0.1000\n",
            "Epoch 62/100\n",
            "226/226 [==============================] - 1s 4ms/step - loss: 1.1345 - accuracy: 0.6728 - lr: 0.1080\n",
            "Epoch 63/100\n",
            "226/226 [==============================] - 1s 5ms/step - loss: 1.1330 - accuracy: 0.6728 - lr: 0.1166\n",
            "Epoch 64/100\n",
            "226/226 [==============================] - 1s 5ms/step - loss: 1.1314 - accuracy: 0.6728 - lr: 0.1259\n",
            "Epoch 65/100\n",
            "226/226 [==============================] - 1s 5ms/step - loss: 1.1350 - accuracy: 0.6728 - lr: 0.1359\n",
            "Epoch 66/100\n",
            "226/226 [==============================] - 1s 4ms/step - loss: 1.1361 - accuracy: 0.6728 - lr: 0.1468\n",
            "Epoch 67/100\n",
            "226/226 [==============================] - 1s 4ms/step - loss: 1.1370 - accuracy: 0.6728 - lr: 0.1585\n",
            "Epoch 68/100\n",
            "226/226 [==============================] - 1s 5ms/step - loss: 1.1395 - accuracy: 0.6728 - lr: 0.1711\n",
            "Epoch 69/100\n",
            "226/226 [==============================] - 1s 4ms/step - loss: 1.1385 - accuracy: 0.6728 - lr: 0.1848\n",
            "Epoch 70/100\n",
            "226/226 [==============================] - 1s 5ms/step - loss: 1.1406 - accuracy: 0.6728 - lr: 0.1995\n",
            "Epoch 71/100\n",
            "226/226 [==============================] - 1s 5ms/step - loss: 1.1373 - accuracy: 0.6728 - lr: 0.2154\n",
            "Epoch 72/100\n",
            "226/226 [==============================] - 1s 5ms/step - loss: 1.1386 - accuracy: 0.6728 - lr: 0.2326\n",
            "Epoch 73/100\n",
            "226/226 [==============================] - 1s 5ms/step - loss: 1.1408 - accuracy: 0.6728 - lr: 0.2512\n",
            "Epoch 74/100\n",
            "226/226 [==============================] - 1s 5ms/step - loss: 1.1444 - accuracy: 0.6728 - lr: 0.2712\n",
            "Epoch 75/100\n",
            "226/226 [==============================] - 1s 5ms/step - loss: 1.1424 - accuracy: 0.6728 - lr: 0.2929\n",
            "Epoch 76/100\n",
            "226/226 [==============================] - 1s 4ms/step - loss: 1.1441 - accuracy: 0.6728 - lr: 0.3162\n",
            "Epoch 77/100\n",
            "226/226 [==============================] - 1s 5ms/step - loss: 1.1480 - accuracy: 0.6728 - lr: 0.3415\n",
            "Epoch 78/100\n",
            "226/226 [==============================] - 1s 5ms/step - loss: 1.1571 - accuracy: 0.6728 - lr: 0.3687\n",
            "Epoch 79/100\n",
            "226/226 [==============================] - 1s 5ms/step - loss: 1.1506 - accuracy: 0.6728 - lr: 0.3981\n",
            "Epoch 80/100\n",
            "226/226 [==============================] - 1s 5ms/step - loss: 1.1473 - accuracy: 0.6728 - lr: 0.4299\n",
            "Epoch 81/100\n",
            "226/226 [==============================] - 1s 5ms/step - loss: 1.1556 - accuracy: 0.6728 - lr: 0.4642\n",
            "Epoch 82/100\n",
            "226/226 [==============================] - 1s 5ms/step - loss: 1.1617 - accuracy: 0.6728 - lr: 0.5012\n",
            "Epoch 83/100\n",
            "226/226 [==============================] - 1s 5ms/step - loss: 1.1624 - accuracy: 0.6728 - lr: 0.5412\n",
            "Epoch 84/100\n",
            "226/226 [==============================] - 1s 4ms/step - loss: 1.1716 - accuracy: 0.6728 - lr: 0.5843\n",
            "Epoch 85/100\n",
            "226/226 [==============================] - 1s 5ms/step - loss: 1.1689 - accuracy: 0.6728 - lr: 0.6310\n",
            "Epoch 86/100\n",
            "226/226 [==============================] - 1s 5ms/step - loss: 1.1782 - accuracy: 0.6728 - lr: 0.6813\n",
            "Epoch 87/100\n",
            "226/226 [==============================] - 1s 7ms/step - loss: 1.1684 - accuracy: 0.6728 - lr: 0.7356\n",
            "Epoch 88/100\n",
            "226/226 [==============================] - 2s 7ms/step - loss: 1.1632 - accuracy: 0.6728 - lr: 0.7943\n",
            "Epoch 89/100\n",
            "226/226 [==============================] - 1s 6ms/step - loss: 1.1730 - accuracy: 0.6728 - lr: 0.8577\n",
            "Epoch 90/100\n",
            "226/226 [==============================] - 1s 4ms/step - loss: 1.1895 - accuracy: 0.6728 - lr: 0.9261\n",
            "Epoch 91/100\n",
            "226/226 [==============================] - 1s 5ms/step - loss: 1.2104 - accuracy: 0.6728 - lr: 1.0000\n",
            "Epoch 92/100\n",
            "226/226 [==============================] - 1s 5ms/step - loss: 1.1915 - accuracy: 0.6728 - lr: 1.0798\n",
            "Epoch 93/100\n",
            "226/226 [==============================] - 1s 5ms/step - loss: 1.1867 - accuracy: 0.6728 - lr: 1.1659\n",
            "Epoch 94/100\n",
            "226/226 [==============================] - 1s 5ms/step - loss: 1.1941 - accuracy: 0.6728 - lr: 1.2589\n",
            "Epoch 95/100\n",
            "226/226 [==============================] - 1s 5ms/step - loss: 1.2197 - accuracy: 0.6728 - lr: 1.3594\n",
            "Epoch 96/100\n",
            "226/226 [==============================] - 1s 5ms/step - loss: 1.2242 - accuracy: 0.6728 - lr: 1.4678\n",
            "Epoch 97/100\n",
            "226/226 [==============================] - 1s 5ms/step - loss: 1.2579 - accuracy: 0.6728 - lr: 1.5849\n",
            "Epoch 98/100\n",
            "226/226 [==============================] - 1s 5ms/step - loss: 1.2172 - accuracy: 0.6728 - lr: 1.7113\n",
            "Epoch 99/100\n",
            "226/226 [==============================] - 1s 5ms/step - loss: 1.2528 - accuracy: 0.6616 - lr: 1.8478\n",
            "Epoch 100/100\n",
            "226/226 [==============================] - 1s 5ms/step - loss: 1.2959 - accuracy: 0.6602 - lr: 1.9953\n"
          ]
        }
      ]
    },
    {
      "cell_type": "code",
      "source": [
        "import matplotlib.pyplot as plt\n",
        "from matplotlib import rcParams\n",
        "rcParams['figure.figsize'] = (18, 8)\n",
        "rcParams['axes.spines.top'] = False\n",
        "rcParams['axes.spines.right'] = False \n",
        "\n",
        "plt.plot(\n",
        "    np.arange(1, 101), \n",
        "    initial_history.history['loss'], \n",
        "    label='Loss', lw=3\n",
        ")\n",
        "plt.plot(\n",
        "    np.arange(1, 101), \n",
        "    initial_history.history['accuracy'], \n",
        "    label='Accuracy', lw=3\n",
        ")\n",
        "plt.plot(\n",
        "    np.arange(1, 101), \n",
        "    initial_history.history['lr'], \n",
        "    label='Learning rate', color='#000', lw=3, linestyle='--'\n",
        ")\n",
        "plt.title('Evaluation metrics', size=20)\n",
        "plt.xlabel('Epoch', size=14)\n",
        "plt.legend();"
      ],
      "metadata": {
        "colab": {
          "base_uri": "https://localhost:8080/",
          "height": 522
        },
        "id": "XEuhAAja64Em",
        "outputId": "2c9d4411-2496-4d10-97d3-67eda27fc665"
      },
      "execution_count": null,
      "outputs": [
        {
          "output_type": "display_data",
          "data": {
            "text/plain": [
              "<Figure size 1296x576 with 1 Axes>"
            ],
            "image/png": "[encoded data removed]"
          },
          "metadata": {
            "needs_background": "light"
          }
        }
      ]
    },
    {
      "cell_type": "code",
      "source": [
        "learning_rates = 1e-3 * (10 ** (np.arange(100) / 30))\n",
        "plt.semilogx(\n",
        "    learning_rates, \n",
        "    initial_history.history['loss'], \n",
        "    lw=3, color='#000'\n",
        ")\n",
        "plt.title('Learning rate vs. loss', size=20)\n",
        "plt.xlabel('Learning rate', size=20)\n",
        "plt.ylabel('Loss', size=14);"
      ],
      "metadata": {
        "colab": {
          "base_uri": "https://localhost:8080/",
          "height": 531
        },
        "id": "tmbHl_6o64KT",
        "outputId": "0c0ca2ae-089f-44e5-9039-c9f0c95a65c8"
      },
      "execution_count": null,
      "outputs": [
        {
          "output_type": "display_data",
          "data": {
            "text/plain": [
              "<Figure size 1296x576 with 1 Axes>"
            ],
            "image/png": "[encoded data removed]"
          },
          "metadata": {
            "needs_background": "light"
          }
        }
      ]
    },
    {
      "cell_type": "code",
      "source": [
        "learning_rates = 1e-3 * (10 ** (np.arange(100) / 30))\n",
        "plt.semilogx(\n",
        "    learning_rates, \n",
        "    initial_history.history['accuracy'], \n",
        "    lw=3, color='#000'\n",
        ")\n",
        "plt.title('Learning rate vs. accuracy', size=20)\n",
        "plt.xlabel('Learning rate', size=14)\n",
        "plt.ylabel('accuracy', size=14);"
      ],
      "metadata": {
        "colab": {
          "base_uri": "https://localhost:8080/",
          "height": 526
        },
        "id": "xUMc6ilF64SN",
        "outputId": "168b0a4d-5edc-4b73-edc4-4b2c47c78762"
      },
      "execution_count": null,
      "outputs": [
        {
          "output_type": "display_data",
          "data": {
            "text/plain": [
              "<Figure size 1296x576 with 1 Axes>"
            ],
            "image/png": "[encoded data removed]"
          },
          "metadata": {
            "needs_background": "light"
          }
        }
      ]
    },
    {
      "cell_type": "code",
      "source": [
        "model = Sequential()\n",
        "model.add(Conv2D(64, kernel_size=(3, 3),activation='relu',padding = 'Same',input_shape=input_shape))\n",
        "model.add(Conv2D(32,kernel_size=(3, 3), activation='relu',padding = 'Same',))\n",
        "model.add(MaxPool2D(pool_size = (2, 2)))\n",
        "model.add(Dropout(0.25))\n",
        "\n",
        "\n",
        "model.add(Flatten())\n",
        "model.add(Dense(128, activation='relu'))\n",
        "model.add(Dropout(0.5))\n",
        "model.add(Dense(num_classes, activation='softmax'))\n",
        "model.summary()"
      ],
      "metadata": {
        "colab": {
          "base_uri": "https://localhost:8080/"
        },
        "id": "zUnZPLgk64U0",
        "outputId": "0d9e5133-08c0-4c14-e4ee-e5c04ea04474"
      },
      "execution_count": null,
      "outputs": [
        {
          "output_type": "stream",
          "name": "stdout",
          "text": [
            "Model: \"sequential_1\"\n",
            "_________________________________________________________________\n",
            " Layer (type)                Output Shape              Param #   \n",
            "=================================================================\n",
            " conv2d_2 (Conv2D)           (None, 32, 32, 64)        1792      \n",
            "                                                                 \n",
            " conv2d_3 (Conv2D)           (None, 32, 32, 32)        18464     \n",
            "                                                                 \n",
            " max_pooling2d_1 (MaxPooling  (None, 16, 16, 32)       0         \n",
            " 2D)                                                             \n",
            "                                                                 \n",
            " dropout_3 (Dropout)         (None, 16, 16, 32)        0         \n",
            "                                                                 \n",
            " flatten_2 (Flatten)         (None, 8192)              0         \n",
            "                                                                 \n",
            " dense_4 (Dense)             (None, 128)               1048704   \n",
            "                                                                 \n",
            " dropout_4 (Dropout)         (None, 128)               0         \n",
            "                                                                 \n",
            " dense_5 (Dense)             (None, 7)                 903       \n",
            "                                                                 \n",
            "=================================================================\n",
            "Total params: 1,069,863\n",
            "Trainable params: 1,069,863\n",
            "Non-trainable params: 0\n",
            "_________________________________________________________________\n"
          ]
        }
      ]
    },
    {
      "cell_type": "code",
      "source": [
        "# Define the optimizer\n",
        "optimizer = Adam(learning_rate=0.005)\n",
        "# Compile the model\n",
        "model.compile(optimizer = optimizer , loss = \"categorical_crossentropy\", metrics=[\"accuracy\"])"
      ],
      "metadata": {
        "id": "0AAayl2f64XT"
      },
      "execution_count": null,
      "outputs": []
    },
    {
      "cell_type": "code",
      "source": [
        "history_optimized =model.fit(x_train,\n",
        "    y_train,\n",
        "    epochs=100)"
      ],
      "metadata": {
        "colab": {
          "base_uri": "https://localhost:8080/"
        },
        "id": "qTahiutL64Zz",
        "outputId": "de2d9ce0-1380-4cff-e97a-ede92aedae32"
      },
      "execution_count": null,
      "outputs": [
        {
          "output_type": "stream",
          "name": "stdout",
          "text": [
            "Epoch 1/100\n",
            "226/226 [==============================] - 2s 5ms/step - loss: 1.1183 - accuracy: 0.6648\n",
            "Epoch 2/100\n",
            "226/226 [==============================] - 1s 5ms/step - loss: 0.9325 - accuracy: 0.6781\n",
            "Epoch 3/100\n",
            "226/226 [==============================] - 1s 4ms/step - loss: 0.8975 - accuracy: 0.6785\n",
            "Epoch 4/100\n",
            "226/226 [==============================] - 1s 5ms/step - loss: 0.8762 - accuracy: 0.6860\n",
            "Epoch 5/100\n",
            "226/226 [==============================] - 1s 4ms/step - loss: 0.8669 - accuracy: 0.6926\n",
            "Epoch 6/100\n",
            "226/226 [==============================] - 1s 5ms/step - loss: 0.8301 - accuracy: 0.7029\n",
            "Epoch 7/100\n",
            "226/226 [==============================] - 1s 5ms/step - loss: 0.7944 - accuracy: 0.7101\n",
            "Epoch 8/100\n",
            "226/226 [==============================] - 1s 6ms/step - loss: 0.7971 - accuracy: 0.7164\n",
            "Epoch 9/100\n",
            "226/226 [==============================] - 1s 5ms/step - loss: 0.7677 - accuracy: 0.7175\n",
            "Epoch 10/100\n",
            "226/226 [==============================] - 1s 5ms/step - loss: 0.7496 - accuracy: 0.7312\n",
            "Epoch 11/100\n",
            "226/226 [==============================] - 1s 4ms/step - loss: 0.7172 - accuracy: 0.7401\n",
            "Epoch 12/100\n",
            "226/226 [==============================] - 1s 4ms/step - loss: 0.7100 - accuracy: 0.7431\n",
            "Epoch 13/100\n",
            "226/226 [==============================] - 1s 5ms/step - loss: 0.6862 - accuracy: 0.7502\n",
            "Epoch 14/100\n",
            "226/226 [==============================] - 1s 4ms/step - loss: 0.6716 - accuracy: 0.7571\n",
            "Epoch 15/100\n",
            "226/226 [==============================] - 1s 5ms/step - loss: 0.6677 - accuracy: 0.7632\n",
            "Epoch 16/100\n",
            "226/226 [==============================] - 1s 4ms/step - loss: 0.6470 - accuracy: 0.7656\n",
            "Epoch 17/100\n",
            "226/226 [==============================] - 1s 6ms/step - loss: 0.6232 - accuracy: 0.7840\n",
            "Epoch 18/100\n",
            "226/226 [==============================] - 1s 6ms/step - loss: 0.5949 - accuracy: 0.7886\n",
            "Epoch 19/100\n",
            "226/226 [==============================] - 1s 5ms/step - loss: 0.5861 - accuracy: 0.7917\n",
            "Epoch 20/100\n",
            "226/226 [==============================] - 1s 5ms/step - loss: 0.5654 - accuracy: 0.7989\n",
            "Epoch 21/100\n",
            "226/226 [==============================] - 1s 4ms/step - loss: 0.5352 - accuracy: 0.8094\n",
            "Epoch 22/100\n",
            "226/226 [==============================] - 1s 5ms/step - loss: 0.5413 - accuracy: 0.8089\n",
            "Epoch 23/100\n",
            "226/226 [==============================] - 1s 5ms/step - loss: 0.5182 - accuracy: 0.8204\n",
            "Epoch 24/100\n",
            "226/226 [==============================] - 1s 5ms/step - loss: 0.5084 - accuracy: 0.8157\n",
            "Epoch 25/100\n",
            "226/226 [==============================] - 1s 6ms/step - loss: 0.4958 - accuracy: 0.8216\n",
            "Epoch 26/100\n",
            "226/226 [==============================] - 1s 6ms/step - loss: 0.4824 - accuracy: 0.8298\n",
            "Epoch 27/100\n",
            "226/226 [==============================] - 2s 7ms/step - loss: 0.4620 - accuracy: 0.8379\n",
            "Epoch 28/100\n",
            "226/226 [==============================] - 1s 5ms/step - loss: 0.4825 - accuracy: 0.8301\n",
            "Epoch 29/100\n",
            "226/226 [==============================] - 1s 4ms/step - loss: 0.4512 - accuracy: 0.8384\n",
            "Epoch 30/100\n",
            "226/226 [==============================] - 1s 4ms/step - loss: 0.4479 - accuracy: 0.8341\n",
            "Epoch 31/100\n",
            "226/226 [==============================] - 1s 5ms/step - loss: 0.4360 - accuracy: 0.8409\n",
            "Epoch 32/100\n",
            "226/226 [==============================] - 1s 4ms/step - loss: 0.4529 - accuracy: 0.8388\n",
            "Epoch 33/100\n",
            "226/226 [==============================] - 1s 4ms/step - loss: 0.4299 - accuracy: 0.8455\n",
            "Epoch 34/100\n",
            "226/226 [==============================] - 1s 5ms/step - loss: 0.4021 - accuracy: 0.8545\n",
            "Epoch 35/100\n",
            "226/226 [==============================] - 1s 4ms/step - loss: 0.4240 - accuracy: 0.8481\n",
            "Epoch 36/100\n",
            "226/226 [==============================] - 1s 5ms/step - loss: 0.4049 - accuracy: 0.8544\n",
            "Epoch 37/100\n",
            "226/226 [==============================] - 1s 4ms/step - loss: 0.3872 - accuracy: 0.8609\n",
            "Epoch 38/100\n",
            "226/226 [==============================] - 1s 5ms/step - loss: 0.4136 - accuracy: 0.8576\n",
            "Epoch 39/100\n",
            "226/226 [==============================] - 1s 4ms/step - loss: 0.4034 - accuracy: 0.8587\n",
            "Epoch 40/100\n",
            "226/226 [==============================] - 1s 5ms/step - loss: 0.3865 - accuracy: 0.8660\n",
            "Epoch 41/100\n",
            "226/226 [==============================] - 1s 5ms/step - loss: 0.3715 - accuracy: 0.8673\n",
            "Epoch 42/100\n",
            "226/226 [==============================] - 1s 5ms/step - loss: 0.3998 - accuracy: 0.8627\n",
            "Epoch 43/100\n",
            "226/226 [==============================] - 1s 4ms/step - loss: 0.3623 - accuracy: 0.8700\n",
            "Epoch 44/100\n",
            "226/226 [==============================] - 1s 4ms/step - loss: 0.3484 - accuracy: 0.8775\n",
            "Epoch 45/100\n",
            "226/226 [==============================] - 1s 4ms/step - loss: 0.3641 - accuracy: 0.8713\n",
            "Epoch 46/100\n",
            "226/226 [==============================] - 1s 4ms/step - loss: 0.3612 - accuracy: 0.8773\n",
            "Epoch 47/100\n",
            "226/226 [==============================] - 1s 4ms/step - loss: 0.3452 - accuracy: 0.8838\n",
            "Epoch 48/100\n",
            "226/226 [==============================] - 1s 5ms/step - loss: 0.3330 - accuracy: 0.8795\n",
            "Epoch 49/100\n",
            "226/226 [==============================] - 1s 5ms/step - loss: 0.3528 - accuracy: 0.8778\n",
            "Epoch 50/100\n",
            "226/226 [==============================] - 1s 5ms/step - loss: 0.3286 - accuracy: 0.8820\n",
            "Epoch 51/100\n",
            "226/226 [==============================] - 1s 4ms/step - loss: 0.3326 - accuracy: 0.8854\n",
            "Epoch 52/100\n",
            "226/226 [==============================] - 1s 5ms/step - loss: 0.3435 - accuracy: 0.8843\n",
            "Epoch 53/100\n",
            "226/226 [==============================] - 1s 5ms/step - loss: 0.3229 - accuracy: 0.8839\n",
            "Epoch 54/100\n",
            "226/226 [==============================] - 1s 5ms/step - loss: 0.3101 - accuracy: 0.8914\n",
            "Epoch 55/100\n",
            "226/226 [==============================] - 1s 5ms/step - loss: 0.3322 - accuracy: 0.8867\n",
            "Epoch 56/100\n",
            "226/226 [==============================] - 1s 5ms/step - loss: 0.3219 - accuracy: 0.8845\n",
            "Epoch 57/100\n",
            "226/226 [==============================] - 1s 5ms/step - loss: 0.3489 - accuracy: 0.8824\n",
            "Epoch 58/100\n",
            "226/226 [==============================] - 1s 4ms/step - loss: 0.3239 - accuracy: 0.8829\n",
            "Epoch 59/100\n",
            "226/226 [==============================] - 1s 4ms/step - loss: 0.3099 - accuracy: 0.8929\n",
            "Epoch 60/100\n",
            "226/226 [==============================] - 1s 5ms/step - loss: 0.3146 - accuracy: 0.8872\n",
            "Epoch 61/100\n",
            "226/226 [==============================] - 1s 5ms/step - loss: 0.2989 - accuracy: 0.8961\n",
            "Epoch 62/100\n",
            "226/226 [==============================] - 1s 5ms/step - loss: 0.3097 - accuracy: 0.8920\n",
            "Epoch 63/100\n",
            "226/226 [==============================] - 1s 5ms/step - loss: 0.3071 - accuracy: 0.8920\n",
            "Epoch 64/100\n",
            "226/226 [==============================] - 1s 5ms/step - loss: 0.3182 - accuracy: 0.8899\n",
            "Epoch 65/100\n",
            "226/226 [==============================] - 1s 4ms/step - loss: 0.2852 - accuracy: 0.9003\n",
            "Epoch 66/100\n",
            "226/226 [==============================] - 1s 4ms/step - loss: 0.3197 - accuracy: 0.8961\n",
            "Epoch 67/100\n",
            "226/226 [==============================] - 1s 4ms/step - loss: 0.3044 - accuracy: 0.8910\n",
            "Epoch 68/100\n",
            "226/226 [==============================] - 1s 4ms/step - loss: 0.3139 - accuracy: 0.8939\n",
            "Epoch 69/100\n",
            "226/226 [==============================] - 1s 5ms/step - loss: 0.2928 - accuracy: 0.8985\n",
            "Epoch 70/100\n",
            "226/226 [==============================] - 1s 5ms/step - loss: 0.3002 - accuracy: 0.8983\n",
            "Epoch 71/100\n",
            "226/226 [==============================] - 1s 4ms/step - loss: 0.2885 - accuracy: 0.8989\n",
            "Epoch 72/100\n",
            "226/226 [==============================] - 1s 4ms/step - loss: 0.2727 - accuracy: 0.9049\n",
            "Epoch 73/100\n",
            "226/226 [==============================] - 1s 4ms/step - loss: 0.2813 - accuracy: 0.9050\n",
            "Epoch 74/100\n",
            "226/226 [==============================] - 1s 5ms/step - loss: 0.2780 - accuracy: 0.9015\n",
            "Epoch 75/100\n",
            "226/226 [==============================] - 1s 4ms/step - loss: 0.2871 - accuracy: 0.9012\n",
            "Epoch 76/100\n",
            "226/226 [==============================] - 1s 5ms/step - loss: 0.3119 - accuracy: 0.8954\n",
            "Epoch 77/100\n",
            "226/226 [==============================] - 1s 5ms/step - loss: 0.2899 - accuracy: 0.8978\n",
            "Epoch 78/100\n",
            "226/226 [==============================] - 1s 4ms/step - loss: 0.2635 - accuracy: 0.9126\n",
            "Epoch 79/100\n",
            "226/226 [==============================] - 1s 4ms/step - loss: 0.2974 - accuracy: 0.8986\n",
            "Epoch 80/100\n",
            "226/226 [==============================] - 1s 5ms/step - loss: 0.2879 - accuracy: 0.9010\n",
            "Epoch 81/100\n",
            "226/226 [==============================] - 1s 5ms/step - loss: 0.2723 - accuracy: 0.9117\n",
            "Epoch 82/100\n",
            "226/226 [==============================] - 1s 5ms/step - loss: 0.2695 - accuracy: 0.9096\n",
            "Epoch 83/100\n",
            "226/226 [==============================] - 1s 5ms/step - loss: 0.2762 - accuracy: 0.9067\n",
            "Epoch 84/100\n",
            "226/226 [==============================] - 1s 5ms/step - loss: 0.2641 - accuracy: 0.9103\n",
            "Epoch 85/100\n",
            "226/226 [==============================] - 1s 5ms/step - loss: 0.2791 - accuracy: 0.9042\n",
            "Epoch 86/100\n",
            "226/226 [==============================] - 1s 5ms/step - loss: 0.2772 - accuracy: 0.9076\n",
            "Epoch 87/100\n",
            "226/226 [==============================] - 1s 5ms/step - loss: 0.2822 - accuracy: 0.9064\n",
            "Epoch 88/100\n",
            "226/226 [==============================] - 1s 5ms/step - loss: 0.2876 - accuracy: 0.8993\n",
            "Epoch 89/100\n",
            "226/226 [==============================] - 1s 5ms/step - loss: 0.3029 - accuracy: 0.8979\n",
            "Epoch 90/100\n",
            "226/226 [==============================] - 1s 4ms/step - loss: 0.2632 - accuracy: 0.9103\n",
            "Epoch 91/100\n",
            "226/226 [==============================] - 1s 5ms/step - loss: 0.2727 - accuracy: 0.9087\n",
            "Epoch 92/100\n",
            "226/226 [==============================] - 1s 5ms/step - loss: 0.2756 - accuracy: 0.9083\n",
            "Epoch 93/100\n",
            "226/226 [==============================] - 1s 5ms/step - loss: 0.3366 - accuracy: 0.8936\n",
            "Epoch 94/100\n",
            "226/226 [==============================] - 1s 5ms/step - loss: 0.2882 - accuracy: 0.9025\n",
            "Epoch 95/100\n",
            "226/226 [==============================] - 1s 5ms/step - loss: 0.2705 - accuracy: 0.9107\n",
            "Epoch 96/100\n",
            "226/226 [==============================] - 1s 5ms/step - loss: 0.2660 - accuracy: 0.9105\n",
            "Epoch 97/100\n",
            "226/226 [==============================] - 1s 5ms/step - loss: 0.2406 - accuracy: 0.9172\n",
            "Epoch 98/100\n",
            "226/226 [==============================] - 1s 5ms/step - loss: 0.2419 - accuracy: 0.9178\n",
            "Epoch 99/100\n",
            "226/226 [==============================] - 1s 5ms/step - loss: 0.2521 - accuracy: 0.9139\n",
            "Epoch 100/100\n",
            "226/226 [==============================] - 1s 5ms/step - loss: 0.2599 - accuracy: 0.9137\n"
          ]
        }
      ]
    },
    {
      "cell_type": "code",
      "source": [
        "plt.plot(\n",
        "    np.arange(1, 101), \n",
        "    history_optimized.history['loss'], \n",
        "    label='Loss', lw=3\n",
        ")\n",
        "plt.plot(\n",
        "    np.arange(1, 101), \n",
        "    history_optimized.history['accuracy'], \n",
        "    label='Accuracy', lw=3\n",
        ")\n",
        "plt.title('Accuracy vs. Loss per epoch', size=20)\n",
        "plt.xlabel('Epoch', size=14)\n",
        "plt.legend()"
      ],
      "metadata": {
        "colab": {
          "base_uri": "https://localhost:8080/",
          "height": 540
        },
        "id": "vJCo3UNO64b-",
        "outputId": "38b01e3b-13c1-4969-ed53-e3ae44182d26"
      },
      "execution_count": null,
      "outputs": [
        {
          "output_type": "execute_result",
          "data": {
            "text/plain": [
              "<matplotlib.legend.Legend at 0x7f1c839a2100>"
            ]
          },
          "metadata": {},
          "execution_count": 39
        },
        {
          "output_type": "display_data",
          "data": {
            "text/plain": [
              "<Figure size 1296x576 with 1 Axes>"
            ],
            "image/png": "[encoded data removed]"
          },
          "metadata": {
            "needs_background": "light"
          }
        }
      ]
    },
    {
      "cell_type": "code",
      "source": [],
      "metadata": {
        "id": "r3dHT-J164ek"
      },
      "execution_count": null,
      "outputs": []
    },
    {
      "cell_type": "code",
      "source": [],
      "metadata": {
        "id": "VZ0o_Adc64hG"
      },
      "execution_count": null,
      "outputs": []
    }
  ]
}