{
 "cells": [
  {
   "cell_type": "code",
   "execution_count": 1,
   "id": "59dffbfe",
   "metadata": {
    "_cell_guid": "b1076dfc-b9ad-4769-8c92-a6c4dae69d19",
    "_uuid": "8f2839f25d086af736a60e9eeb907d3b93b6e0e5",
    "execution": {
     "iopub.execute_input": "2022-12-07T23:19:21.411070Z",
     "iopub.status.busy": "2022-12-07T23:19:21.409836Z",
     "iopub.status.idle": "2022-12-07T23:19:29.859966Z",
     "shell.execute_reply": "2022-12-07T23:19:29.860491Z",
     "shell.execute_reply.started": "2022-12-07T22:45:20.049585Z"
    },
    "papermill": {
     "duration": 8.476784,
     "end_time": "2022-12-07T23:19:29.860837",
     "exception": false,
     "start_time": "2022-12-07T23:19:21.384053",
     "status": "completed"
    },
    "tags": []
   },
   "outputs": [],
   "source": [
    "# Importing libraries\n",
    "import pandas as pd\n",
    "import matplotlib.pyplot as plt\n",
    "import os\n",
    "import glob\n",
    "from tqdm import tqdm\n",
    "import tensorflow as tf\n",
    "import keras\n",
    "import numpy as np\n",
    "import cv2\n",
    "import seaborn as sns\n",
    "import random\n",
    "from PIL import Image\n",
    "from tensorflow.keras.models import Sequential, Model\n",
    "from tensorflow.keras.layers import *\n",
    "from tensorflow.keras.optimizers import *\n",
    "from tensorflow.keras.callbacks import *\n",
    "from tensorflow.keras.initializers import *\n",
    "from tensorflow.keras.preprocessing.image import ImageDataGenerator\n",
    "from tensorflow.keras import layers\n",
    "from tensorflow import keras\n",
    "\n",
    "import matplotlib.pyplot as plt\n",
    "import tensorflow_addons as tfa\n",
    "import tensorflow as tf\n",
    "from sklearn.metrics import confusion_matrix\n",
    "from sklearn.metrics import accuracy_score\n",
    "from sklearn.metrics import classification_report\n",
    "from numpy.random import seed"
   ]
  },
  {
   "cell_type": "code",
   "execution_count": 2,
   "id": "5d6f9464",
   "metadata": {
    "execution": {
     "iopub.execute_input": "2022-12-07T23:19:29.909369Z",
     "iopub.status.busy": "2022-12-07T23:19:29.908696Z",
     "iopub.status.idle": "2022-12-07T23:19:30.419414Z",
     "shell.execute_reply": "2022-12-07T23:19:30.418796Z",
     "shell.execute_reply.started": "2022-12-07T22:45:27.201187Z"
    },
    "papermill": {
     "duration": 0.536879,
     "end_time": "2022-12-07T23:19:30.419570",
     "exception": false,
     "start_time": "2022-12-07T23:19:29.882691",
     "status": "completed"
    },
    "tags": []
   },
   "outputs": [],
   "source": [
    "# Reading the data\n",
    "path = '../input/skin-cancer-mnist-ham10000/'\n",
    "images_path = {os.path.splitext(os.path.basename(x))[0]:x for x in glob.glob(os.path.join(path,'*','*.jpg'))}"
   ]
  },
  {
   "cell_type": "code",
   "execution_count": 3,
   "id": "0d9b14eb",
   "metadata": {
    "execution": {
     "iopub.execute_input": "2022-12-07T23:19:30.467476Z",
     "iopub.status.busy": "2022-12-07T23:19:30.466814Z",
     "iopub.status.idle": "2022-12-07T23:19:30.469676Z",
     "shell.execute_reply": "2022-12-07T23:19:30.469115Z",
     "shell.execute_reply.started": "2022-12-07T22:45:28.419981Z"
    },
    "papermill": {
     "duration": 0.028934,
     "end_time": "2022-12-07T23:19:30.469846",
     "exception": false,
     "start_time": "2022-12-07T23:19:30.440912",
     "status": "completed"
    },
    "tags": []
   },
   "outputs": [],
   "source": [
    "# Encoding target values\n",
    "lesion_type_dict = {\n",
    "    'nv':'Melanocytic Nevi',\n",
    "    'mel': 'Melanoma',\n",
    "    'bkl': 'Benign keratosis-like lesions ',\n",
    "    'bcc': 'Basal cell carcinoma',\n",
    "    'akiec': 'Actinic keratoses',\n",
    "    'vasc': 'Vascular lesions',\n",
    "    'df': 'Dermatofibroma'\n",
    "    \n",
    "}"
   ]
  },
  {
   "cell_type": "code",
   "execution_count": 4,
   "id": "6097299f",
   "metadata": {
    "execution": {
     "iopub.execute_input": "2022-12-07T23:19:30.518035Z",
     "iopub.status.busy": "2022-12-07T23:19:30.517322Z",
     "iopub.status.idle": "2022-12-07T23:19:30.556397Z",
     "shell.execute_reply": "2022-12-07T23:19:30.556965Z",
     "shell.execute_reply.started": "2022-12-07T22:45:28.426877Z"
    },
    "papermill": {
     "duration": 0.065917,
     "end_time": "2022-12-07T23:19:30.557146",
     "exception": false,
     "start_time": "2022-12-07T23:19:30.491229",
     "status": "completed"
    },
    "tags": []
   },
   "outputs": [],
   "source": [
    "skin_df = pd.read_csv('../input/skin-cancer-mnist-ham10000/HAM10000_metadata.csv')\n"
   ]
  },
  {
   "cell_type": "code",
   "execution_count": 5,
   "id": "c0f8b1ab",
   "metadata": {
    "execution": {
     "iopub.execute_input": "2022-12-07T23:19:30.603175Z",
     "iopub.status.busy": "2022-12-07T23:19:30.602497Z",
     "iopub.status.idle": "2022-12-07T23:19:30.625543Z",
     "shell.execute_reply": "2022-12-07T23:19:30.626108Z",
     "shell.execute_reply.started": "2022-12-07T22:45:28.476878Z"
    },
    "papermill": {
     "duration": 0.047848,
     "end_time": "2022-12-07T23:19:30.626293",
     "exception": false,
     "start_time": "2022-12-07T23:19:30.578445",
     "status": "completed"
    },
    "tags": []
   },
   "outputs": [],
   "source": [
    "# Adding extra columns and appending the required created columns in final dataframe\n",
    "skin_df['path'] = skin_df['image_id'].map(images_path.get)\n",
    "skin_df['cell_type'] = skin_df['dx'].map(lesion_type_dict.get)\n",
    "skin_df['cell_type_idx'] = pd.Categorical(skin_df['cell_type']).codes"
   ]
  },
  {
   "cell_type": "code",
   "execution_count": 6,
   "id": "b80afe65",
   "metadata": {
    "execution": {
     "iopub.execute_input": "2022-12-07T23:19:30.675881Z",
     "iopub.status.busy": "2022-12-07T23:19:30.675181Z",
     "iopub.status.idle": "2022-12-07T23:22:17.521034Z",
     "shell.execute_reply": "2022-12-07T23:22:17.520415Z",
     "shell.execute_reply.started": "2022-12-07T22:45:28.501830Z"
    },
    "papermill": {
     "duration": 166.873288,
     "end_time": "2022-12-07T23:22:17.521205",
     "exception": false,
     "start_time": "2022-12-07T23:19:30.647917",
     "status": "completed"
    },
    "tags": []
   },
   "outputs": [
    {
     "name": "stderr",
     "output_type": "stream",
     "text": [
      "100%|██████████| 10015/10015 [02:46<00:00, 60.03it/s]\n"
     ]
    }
   ],
   "source": [
    "# Image Reading and Resizing.\n",
    "IMAGE_SIZE = 32\n",
    "def read_img(img_path):\n",
    "  img = cv2.imread(img_path,cv2.IMREAD_COLOR)\n",
    "  img = cv2.resize(img,(IMAGE_SIZE,IMAGE_SIZE))\n",
    "  return img\n",
    "train_img = []\n",
    "for img_name in tqdm(skin_df['path'].values):\n",
    "  train_img.append(read_img(img_name))"
   ]
  },
  {
   "cell_type": "code",
   "execution_count": 7,
   "id": "39963ad8",
   "metadata": {
    "execution": {
     "iopub.execute_input": "2022-12-07T23:22:18.610055Z",
     "iopub.status.busy": "2022-12-07T23:22:18.608815Z",
     "iopub.status.idle": "2022-12-07T23:22:18.685177Z",
     "shell.execute_reply": "2022-12-07T23:22:18.684274Z",
     "shell.execute_reply.started": "2022-12-07T22:48:29.348334Z"
    },
    "papermill": {
     "duration": 0.626866,
     "end_time": "2022-12-07T23:22:18.685350",
     "exception": false,
     "start_time": "2022-12-07T23:22:18.058484",
     "status": "completed"
    },
    "tags": []
   },
   "outputs": [
    {
     "name": "stdout",
     "output_type": "stream",
     "text": [
      "(10014, 32, 32, 3)\n"
     ]
    }
   ],
   "source": [
    "# Converting it into float arrays and normalizing it\n",
    "X = np.array(train_img,np.float32)/255\n",
    "X=X[1:]\n",
    "print(X.shape)\n",
    "y = np.array(skin_df['cell_type_idx'])\n",
    "y=y[1:]"
   ]
  },
  {
   "cell_type": "code",
   "execution_count": 8,
   "id": "f5dd11dc",
   "metadata": {
    "execution": {
     "iopub.execute_input": "2022-12-07T23:22:19.772278Z",
     "iopub.status.busy": "2022-12-07T23:22:19.771429Z",
     "iopub.status.idle": "2022-12-07T23:22:19.849652Z",
     "shell.execute_reply": "2022-12-07T23:22:19.850218Z",
     "shell.execute_reply.started": "2022-12-07T22:48:29.395280Z"
    },
    "papermill": {
     "duration": 0.62887,
     "end_time": "2022-12-07T23:22:19.850401",
     "exception": false,
     "start_time": "2022-12-07T23:22:19.221531",
     "status": "completed"
    },
    "tags": []
   },
   "outputs": [],
   "source": [
    "# Splitting the data\n",
    "from sklearn.model_selection import train_test_split\n",
    "\n",
    "train_df ,test_df,train_labl ,test_labl = train_test_split(X,y,test_size=0.2,random_state=42)\n",
    "\n"
   ]
  },
  {
   "cell_type": "code",
   "execution_count": 9,
   "id": "729c8ca3",
   "metadata": {
    "execution": {
     "iopub.execute_input": "2022-12-07T23:22:20.932549Z",
     "iopub.status.busy": "2022-12-07T23:22:20.931588Z",
     "iopub.status.idle": "2022-12-07T23:22:20.935647Z",
     "shell.execute_reply": "2022-12-07T23:22:20.936184Z",
     "shell.execute_reply.started": "2022-12-07T22:48:29.437028Z"
    },
    "papermill": {
     "duration": 0.548709,
     "end_time": "2022-12-07T23:22:20.936364",
     "exception": false,
     "start_time": "2022-12-07T23:22:20.387655",
     "status": "completed"
    },
    "tags": []
   },
   "outputs": [
    {
     "data": {
      "text/plain": [
       "(2003,)"
      ]
     },
     "execution_count": 9,
     "metadata": {},
     "output_type": "execute_result"
    }
   ],
   "source": [
    "test_labl.shape"
   ]
  },
  {
   "cell_type": "code",
   "execution_count": 10,
   "id": "352ce5dc",
   "metadata": {
    "execution": {
     "iopub.execute_input": "2022-12-07T23:22:22.012623Z",
     "iopub.status.busy": "2022-12-07T23:22:22.011663Z",
     "iopub.status.idle": "2022-12-07T23:22:22.015744Z",
     "shell.execute_reply": "2022-12-07T23:22:22.015096Z",
     "shell.execute_reply.started": "2022-12-07T22:48:29.448279Z"
    },
    "papermill": {
     "duration": 0.544259,
     "end_time": "2022-12-07T23:22:22.015904",
     "exception": false,
     "start_time": "2022-12-07T23:22:21.471645",
     "status": "completed"
    },
    "tags": []
   },
   "outputs": [
    {
     "data": {
      "text/plain": [
       "(8011,)"
      ]
     },
     "execution_count": 10,
     "metadata": {},
     "output_type": "execute_result"
    }
   ],
   "source": [
    "train_labl.shape"
   ]
  },
  {
   "cell_type": "code",
   "execution_count": 11,
   "id": "ee49d144",
   "metadata": {
    "execution": {
     "iopub.execute_input": "2022-12-07T23:22:23.107721Z",
     "iopub.status.busy": "2022-12-07T23:22:23.106977Z",
     "iopub.status.idle": "2022-12-07T23:22:23.111414Z",
     "shell.execute_reply": "2022-12-07T23:22:23.110758Z",
     "shell.execute_reply.started": "2022-12-07T22:48:29.458605Z"
    },
    "papermill": {
     "duration": 0.552663,
     "end_time": "2022-12-07T23:22:23.111570",
     "exception": false,
     "start_time": "2022-12-07T23:22:22.558907",
     "status": "completed"
    },
    "tags": []
   },
   "outputs": [],
   "source": [
    "def build_model(hp):\n",
    "    # create model object\n",
    "    model = keras.Sequential([\n",
    "    #adding first convolutional layer    \n",
    "    keras.layers.Conv2D(\n",
    "        #adding filter \n",
    "        filters=hp.Int('conv_1_filter', min_value=16, max_value=128, step=16),\n",
    "        # adding filter size or kernel size\n",
    "        kernel_size=hp.Choice('conv_1_kernel', values = [3,5]),\n",
    "        #activation function\n",
    "        activation='relu',\n",
    "        input_shape=(32,32,3)),\n",
    "    # adding second convolutional layer \n",
    "    keras.layers.Conv2D(\n",
    "        #adding filter \n",
    "        filters=hp.Int('conv_2_filter', min_value=32, max_value=128, step=16),\n",
    "        #adding filter size or kernel size\n",
    "        kernel_size=hp.Choice('conv_2_kernel', values = [3,5]),\n",
    "        #activation function\n",
    "        activation='relu'\n",
    "    ),\n",
    "    keras.layers.Conv2D(\n",
    "        #adding filter \n",
    "        filters=hp.Int('conv_2_filter', min_value=4, max_value=128, step=16),\n",
    "        #adding filter size or kernel size\n",
    "        kernel_size=hp.Choice('conv_2_kernel', values = [3,5]),\n",
    "        #activation function\n",
    "        activation='relu'\n",
    "    ),\n",
    "\n",
    "    \n",
    "    # adding flatten layer    \n",
    "    keras.layers.Flatten(),\n",
    "    # adding dense layer    \n",
    "    keras.layers.Dense(\n",
    "        units=hp.Int('dense_1_units', min_value=4, max_value=128, step=16),\n",
    "        activation='relu'\n",
    "    ),\n",
    "    # output layer    \n",
    "    keras.layers.Dense(7, activation='softmax')\n",
    "    ])\n",
    "    #compilation of model\n",
    "    model.compile(optimizer=keras.optimizers.Adam(hp.Choice('learning_rate', values=[1e-1, 1e-5])),\n",
    "              loss='sparse_categorical_crossentropy',\n",
    "              metrics=['accuracy'])\n",
    "    return model"
   ]
  },
  {
   "cell_type": "code",
   "execution_count": 12,
   "id": "a6a7fab2",
   "metadata": {
    "execution": {
     "iopub.execute_input": "2022-12-07T23:22:24.193267Z",
     "iopub.status.busy": "2022-12-07T23:22:24.192200Z",
     "iopub.status.idle": "2022-12-07T23:36:25.197051Z",
     "shell.execute_reply": "2022-12-07T23:36:25.195203Z",
     "shell.execute_reply.started": "2022-12-07T22:48:29.468285Z"
    },
    "papermill": {
     "duration": 841.548366,
     "end_time": "2022-12-07T23:36:25.197208",
     "exception": false,
     "start_time": "2022-12-07T23:22:23.648842",
     "status": "completed"
    },
    "tags": []
   },
   "outputs": [
    {
     "name": "stdout",
     "output_type": "stream",
     "text": [
      "Trial 5 Complete [00h 04m 32s]\n",
      "val_accuracy: 0.6630054712295532\n",
      "\n",
      "Best val_accuracy So Far: 0.6630054712295532\n",
      "Total elapsed time: 00h 13m 59s\n"
     ]
    }
   ],
   "source": [
    "#importing random search\n",
    "from kerastuner import RandomSearch\n",
    "#creating randomsearch object\n",
    "tuner = RandomSearch(build_model,\n",
    "                    objective='val_accuracy',\n",
    "                    max_trials = 5)\n",
    "# search best parameter\n",
    "tuner.search(train_df,train_labl,epochs=3,validation_data=(test_df,test_labl))"
   ]
  },
  {
   "cell_type": "code",
   "execution_count": 13,
   "id": "9d5c7a5b",
   "metadata": {
    "execution": {
     "iopub.execute_input": "2022-12-07T23:36:26.282446Z",
     "iopub.status.busy": "2022-12-07T23:36:26.281754Z",
     "iopub.status.idle": "2022-12-07T23:36:26.287229Z",
     "shell.execute_reply": "2022-12-07T23:36:26.286716Z",
     "shell.execute_reply.started": "2022-12-07T23:00:50.525488Z"
    },
    "papermill": {
     "duration": 0.549098,
     "end_time": "2022-12-07T23:36:26.287373",
     "exception": false,
     "start_time": "2022-12-07T23:36:25.738275",
     "status": "completed"
    },
    "tags": []
   },
   "outputs": [
    {
     "name": "stdout",
     "output_type": "stream",
     "text": [
      "Search space summary\n",
      "Default search space size: 6\n",
      "conv_1_filter (Int)\n",
      "{'default': None, 'conditions': [], 'min_value': 16, 'max_value': 128, 'step': 16, 'sampling': None}\n",
      "conv_1_kernel (Choice)\n",
      "{'default': 3, 'conditions': [], 'values': [3, 5], 'ordered': True}\n",
      "conv_2_filter (Int)\n",
      "{'default': None, 'conditions': [], 'min_value': 32, 'max_value': 128, 'step': 16, 'sampling': None}\n",
      "conv_2_kernel (Choice)\n",
      "{'default': 3, 'conditions': [], 'values': [3, 5], 'ordered': True}\n",
      "dense_1_units (Int)\n",
      "{'default': None, 'conditions': [], 'min_value': 4, 'max_value': 128, 'step': 16, 'sampling': None}\n",
      "learning_rate (Choice)\n",
      "{'default': 0.1, 'conditions': [], 'values': [0.1, 1e-05], 'ordered': True}\n"
     ]
    }
   ],
   "source": [
    "tuner.search_space_summary()"
   ]
  },
  {
   "cell_type": "code",
   "execution_count": 14,
   "id": "71425fb2",
   "metadata": {
    "execution": {
     "iopub.execute_input": "2022-12-07T23:36:27.380000Z",
     "iopub.status.busy": "2022-12-07T23:36:27.378989Z",
     "iopub.status.idle": "2022-12-07T23:36:27.705790Z",
     "shell.execute_reply": "2022-12-07T23:36:27.706284Z",
     "shell.execute_reply.started": "2022-12-07T23:00:50.533740Z"
    },
    "papermill": {
     "duration": 0.871534,
     "end_time": "2022-12-07T23:36:27.706476",
     "exception": false,
     "start_time": "2022-12-07T23:36:26.834942",
     "status": "completed"
    },
    "tags": []
   },
   "outputs": [
    {
     "name": "stdout",
     "output_type": "stream",
     "text": [
      "Model: \"sequential\"\n",
      "_________________________________________________________________\n",
      "Layer (type)                 Output Shape              Param #   \n",
      "=================================================================\n",
      "conv2d (Conv2D)              (None, 28, 28, 32)        2432      \n",
      "_________________________________________________________________\n",
      "conv2d_1 (Conv2D)            (None, 26, 26, 96)        27744     \n",
      "_________________________________________________________________\n",
      "conv2d_2 (Conv2D)            (None, 24, 24, 96)        83040     \n",
      "_________________________________________________________________\n",
      "flatten (Flatten)            (None, 55296)             0         \n",
      "_________________________________________________________________\n",
      "dense (Dense)                (None, 4)                 221188    \n",
      "_________________________________________________________________\n",
      "dense_1 (Dense)              (None, 7)                 35        \n",
      "=================================================================\n",
      "Total params: 334,439\n",
      "Trainable params: 334,439\n",
      "Non-trainable params: 0\n",
      "_________________________________________________________________\n"
     ]
    }
   ],
   "source": [
    "model=tuner.get_best_models(num_models=1)[0]\n",
    "#summary of best model\n",
    "model.summary()"
   ]
  },
  {
   "cell_type": "code",
   "execution_count": 15,
   "id": "9db41042",
   "metadata": {
    "execution": {
     "iopub.execute_input": "2022-12-07T23:36:28.797062Z",
     "iopub.status.busy": "2022-12-07T23:36:28.795971Z",
     "iopub.status.idle": "2022-12-07T23:36:28.799710Z",
     "shell.execute_reply": "2022-12-07T23:36:28.800475Z",
     "shell.execute_reply.started": "2022-12-07T23:00:50.853452Z"
    },
    "papermill": {
     "duration": 0.551987,
     "end_time": "2022-12-07T23:36:28.800661",
     "exception": false,
     "start_time": "2022-12-07T23:36:28.248674",
     "status": "completed"
    },
    "tags": []
   },
   "outputs": [],
   "source": [
    "from keras.utils.vis_utils import plot_model"
   ]
  },
  {
   "cell_type": "code",
   "execution_count": 16,
   "id": "27dfa526",
   "metadata": {
    "execution": {
     "iopub.execute_input": "2022-12-07T23:36:29.886531Z",
     "iopub.status.busy": "2022-12-07T23:36:29.885362Z",
     "iopub.status.idle": "2022-12-07T23:36:31.259448Z",
     "shell.execute_reply": "2022-12-07T23:36:31.258872Z",
     "shell.execute_reply.started": "2022-12-07T23:00:50.858801Z"
    },
    "papermill": {
     "duration": 1.921163,
     "end_time": "2022-12-07T23:36:31.259592",
     "exception": false,
     "start_time": "2022-12-07T23:36:29.338429",
     "status": "completed"
    },
    "tags": []
   },
   "outputs": [
    {
     "data": {
      "image/png": "[encoded data removed]",
      "text/plain": [
       "<IPython.core.display.Image object>"
      ]
     },
     "execution_count": 16,
     "metadata": {},
     "output_type": "execute_result"
    }
   ],
   "source": [
    "plot_model(model, to_file='model_plot.png', show_shapes=True, show_layer_names=True)"
   ]
  },
  {
   "cell_type": "code",
   "execution_count": 17,
   "id": "34982f7b",
   "metadata": {
    "execution": {
     "iopub.execute_input": "2022-12-07T23:36:32.349098Z",
     "iopub.status.busy": "2022-12-07T23:36:32.348089Z",
     "iopub.status.idle": "2022-12-07T23:36:32.361440Z",
     "shell.execute_reply": "2022-12-07T23:36:32.360790Z",
     "shell.execute_reply.started": "2022-12-07T23:00:51.988856Z"
    },
    "papermill": {
     "duration": 0.556928,
     "end_time": "2022-12-07T23:36:32.361595",
     "exception": false,
     "start_time": "2022-12-07T23:36:31.804667",
     "status": "completed"
    },
    "tags": []
   },
   "outputs": [
    {
     "name": "stdout",
     "output_type": "stream",
     "text": [
      "Results summary\n",
      "Results in ./untitled_project\n",
      "Showing 10 best trials\n",
      "Objective(name='val_accuracy', direction='max')\n",
      "Trial summary\n",
      "Hyperparameters:\n",
      "conv_1_filter: 32\n",
      "conv_1_kernel: 5\n",
      "conv_2_filter: 96\n",
      "conv_2_kernel: 3\n",
      "dense_1_units: 4\n",
      "learning_rate: 0.1\n",
      "Score: 0.6630054712295532\n",
      "Trial summary\n",
      "Hyperparameters:\n",
      "conv_1_filter: 112\n",
      "conv_1_kernel: 3\n",
      "conv_2_filter: 80\n",
      "conv_2_kernel: 3\n",
      "dense_1_units: 52\n",
      "learning_rate: 0.1\n",
      "Score: 0.6630054712295532\n",
      "Trial summary\n",
      "Hyperparameters:\n",
      "conv_1_filter: 64\n",
      "conv_1_kernel: 3\n",
      "conv_2_filter: 48\n",
      "conv_2_kernel: 5\n",
      "dense_1_units: 36\n",
      "learning_rate: 1e-05\n",
      "Score: 0.6630054712295532\n",
      "Trial summary\n",
      "Hyperparameters:\n",
      "conv_1_filter: 96\n",
      "conv_1_kernel: 3\n",
      "conv_2_filter: 80\n",
      "conv_2_kernel: 3\n",
      "dense_1_units: 116\n",
      "learning_rate: 1e-05\n",
      "Score: 0.6630054712295532\n",
      "Trial summary\n",
      "Hyperparameters:\n",
      "conv_1_filter: 112\n",
      "conv_1_kernel: 3\n",
      "conv_2_filter: 112\n",
      "conv_2_kernel: 3\n",
      "dense_1_units: 68\n",
      "learning_rate: 0.1\n",
      "Score: 0.6630054712295532\n"
     ]
    }
   ],
   "source": [
    "tuner.results_summary()"
   ]
  },
  {
   "cell_type": "code",
   "execution_count": 18,
   "id": "2d34269a",
   "metadata": {
    "execution": {
     "iopub.execute_input": "2022-12-07T23:36:33.464191Z",
     "iopub.status.busy": "2022-12-07T23:36:33.463105Z",
     "iopub.status.idle": "2022-12-07T23:36:33.466169Z",
     "shell.execute_reply": "2022-12-07T23:36:33.465552Z",
     "shell.execute_reply.started": "2022-12-07T23:00:52.003482Z"
    },
    "papermill": {
     "duration": 0.552298,
     "end_time": "2022-12-07T23:36:33.466324",
     "exception": false,
     "start_time": "2022-12-07T23:36:32.914026",
     "status": "completed"
    },
    "tags": []
   },
   "outputs": [],
   "source": [
    "callback = tf.keras.callbacks.EarlyStopping(monitor='val_accuracy', patience=4,mode='max', verbose=1)"
   ]
  },
  {
   "cell_type": "code",
   "execution_count": 19,
   "id": "2e2dc8a1",
   "metadata": {
    "execution": {
     "iopub.execute_input": "2022-12-07T23:36:34.654804Z",
     "iopub.status.busy": "2022-12-07T23:36:34.654038Z",
     "iopub.status.idle": "2022-12-07T23:38:56.555568Z",
     "shell.execute_reply": "2022-12-07T23:38:56.556111Z",
     "shell.execute_reply.started": "2022-12-07T23:00:52.009521Z"
    },
    "papermill": {
     "duration": 142.547143,
     "end_time": "2022-12-07T23:38:56.556301",
     "exception": false,
     "start_time": "2022-12-07T23:36:34.009158",
     "status": "completed"
    },
    "tags": []
   },
   "outputs": [
    {
     "name": "stdout",
     "output_type": "stream",
     "text": [
      "Epoch 1/200\n",
      "201/201 [==============================] - 29s 140ms/step - loss: 1.1350 - accuracy: 0.6712 - val_loss: 1.1265 - val_accuracy: 0.6712\n",
      "Epoch 2/200\n",
      "201/201 [==============================] - 28s 141ms/step - loss: 1.1365 - accuracy: 0.6712 - val_loss: 1.1198 - val_accuracy: 0.6712\n",
      "Epoch 3/200\n",
      "201/201 [==============================] - 28s 140ms/step - loss: 1.1342 - accuracy: 0.6712 - val_loss: 1.1312 - val_accuracy: 0.6712\n",
      "Epoch 4/200\n",
      "201/201 [==============================] - 28s 141ms/step - loss: 1.1350 - accuracy: 0.6712 - val_loss: 1.1261 - val_accuracy: 0.6712\n",
      "Epoch 5/200\n",
      "201/201 [==============================] - 28s 140ms/step - loss: 1.1367 - accuracy: 0.6712 - val_loss: 1.1201 - val_accuracy: 0.6712\n",
      "Epoch 00005: early stopping\n"
     ]
    }
   ],
   "source": [
    "history=model.fit(train_df,train_labl,\n",
    "          epochs=200,\n",
    "          validation_split=0.2, callbacks=[callback])"
   ]
  },
  {
   "cell_type": "code",
   "execution_count": 20,
   "id": "b00a7727",
   "metadata": {
    "execution": {
     "iopub.execute_input": "2022-12-07T23:38:58.441979Z",
     "iopub.status.busy": "2022-12-07T23:38:58.441271Z",
     "iopub.status.idle": "2022-12-07T23:38:58.960280Z",
     "shell.execute_reply": "2022-12-07T23:38:58.959535Z",
     "shell.execute_reply.started": "2022-12-07T23:14:38.614844Z"
    },
    "papermill": {
     "duration": 1.474533,
     "end_time": "2022-12-07T23:38:58.960438",
     "exception": false,
     "start_time": "2022-12-07T23:38:57.485905",
     "status": "completed"
    },
    "tags": []
   },
   "outputs": [
    {
     "data": {
      "image/png": "[encoded data removed]",
      "text/plain": [
       "<Figure size 432x288 with 1 Axes>"
      ]
     },
     "metadata": {
      "needs_background": "light"
     },
     "output_type": "display_data"
    },
    {
     "data": {
      "image/png": "[encoded data removed]",
      "text/plain": [
       "<Figure size 432x288 with 1 Axes>"
      ]
     },
     "metadata": {
      "needs_background": "light"
     },
     "output_type": "display_data"
    }
   ],
   "source": [
    "# plot the loss\n",
    "import matplotlib.pyplot as plt\n",
    "plt.plot(history.history['loss'], label='train loss')\n",
    "plt.plot(history.history['val_loss'], label='val loss')\n",
    "plt.legend()\n",
    "plt.show()\n",
    "plt.savefig('LossVal_loss')\n",
    "\n",
    "# plot the accuracy\n",
    "plt.plot(history.history['accuracy'], label='train acc')\n",
    "plt.plot(history.history['val_accuracy'], label='val acc')\n",
    "plt.legend()\n",
    "plt.show()"
   ]
  },
  {
   "cell_type": "code",
   "execution_count": 21,
   "id": "cd174575",
   "metadata": {
    "execution": {
     "iopub.execute_input": "2022-12-07T23:39:00.758042Z",
     "iopub.status.busy": "2022-12-07T23:39:00.751400Z",
     "iopub.status.idle": "2022-12-07T23:39:03.199584Z",
     "shell.execute_reply": "2022-12-07T23:39:03.198827Z",
     "shell.execute_reply.started": "2022-12-07T23:14:38.939895Z"
    },
    "papermill": {
     "duration": 3.344573,
     "end_time": "2022-12-07T23:39:03.199749",
     "exception": false,
     "start_time": "2022-12-07T23:38:59.855176",
     "status": "completed"
    },
    "tags": []
   },
   "outputs": [],
   "source": [
    "pred = model.predict(test_df)\n",
    "pred = np.argmax(pred,axis=1)\n"
   ]
  },
  {
   "cell_type": "code",
   "execution_count": 22,
   "id": "8d317261",
   "metadata": {
    "execution": {
     "iopub.execute_input": "2022-12-07T23:39:05.003604Z",
     "iopub.status.busy": "2022-12-07T23:39:05.002910Z",
     "iopub.status.idle": "2022-12-07T23:39:05.019957Z",
     "shell.execute_reply": "2022-12-07T23:39:05.020485Z",
     "shell.execute_reply.started": "2022-12-07T23:14:40.716105Z"
    },
    "papermill": {
     "duration": 0.926668,
     "end_time": "2022-12-07T23:39:05.020693",
     "exception": false,
     "start_time": "2022-12-07T23:39:04.094025",
     "status": "completed"
    },
    "tags": []
   },
   "outputs": [
    {
     "name": "stdout",
     "output_type": "stream",
     "text": [
      "              precision    recall  f1-score   support\n",
      "\n",
      "           0       0.00      0.00      0.00        81\n",
      "           1       0.00      0.00      0.00        90\n",
      "           2       0.00      0.00      0.00       228\n",
      "           3       0.00      0.00      0.00        28\n",
      "           4       0.66      1.00      0.80      1328\n",
      "           5       0.00      0.00      0.00       226\n",
      "           6       0.00      0.00      0.00        22\n",
      "\n",
      "    accuracy                           0.66      2003\n",
      "   macro avg       0.09      0.14      0.11      2003\n",
      "weighted avg       0.44      0.66      0.53      2003\n",
      "\n"
     ]
    },
    {
     "name": "stderr",
     "output_type": "stream",
     "text": [
      "/opt/conda/lib/python3.7/site-packages/sklearn/metrics/_classification.py:1308: UndefinedMetricWarning: Precision and F-score are ill-defined and being set to 0.0 in labels with no predicted samples. Use `zero_division` parameter to control this behavior.\n",
      "  _warn_prf(average, modifier, msg_start, len(result))\n",
      "/opt/conda/lib/python3.7/site-packages/sklearn/metrics/_classification.py:1308: UndefinedMetricWarning: Precision and F-score are ill-defined and being set to 0.0 in labels with no predicted samples. Use `zero_division` parameter to control this behavior.\n",
      "  _warn_prf(average, modifier, msg_start, len(result))\n",
      "/opt/conda/lib/python3.7/site-packages/sklearn/metrics/_classification.py:1308: UndefinedMetricWarning: Precision and F-score are ill-defined and being set to 0.0 in labels with no predicted samples. Use `zero_division` parameter to control this behavior.\n",
      "  _warn_prf(average, modifier, msg_start, len(result))\n"
     ]
    }
   ],
   "source": [
    "from sklearn.metrics import classification_report\n",
    "\n",
    "print(classification_report(test_labl,pred))"
   ]
  }
 ],
 "metadata": {
  "kernelspec": {
   "display_name": "Python 3",
   "language": "python",
   "name": "python3"
  },
  "language_info": {
   "codemirror_mode": {
    "name": "ipython",
    "version": 3
   },
   "file_extension": ".py",
   "mimetype": "text/x-python",
   "name": "python",
   "nbconvert_exporter": "python",
   "pygments_lexer": "ipython3",
   "version": "3.7.12"
  },
  "papermill": {
   "default_parameters": {},
   "duration": 1197.373387,
   "end_time": "2022-12-07T23:39:08.789331",
   "environment_variables": {},
   "exception": null,
   "input_path": "__notebook__.ipynb",
   "output_path": "__notebook__.ipynb",
   "parameters": {},
   "start_time": "2022-12-07T23:19:11.415944",
   "version": "2.3.3"
  }
 },
 "nbformat": 4,
 "nbformat_minor": 5
}
